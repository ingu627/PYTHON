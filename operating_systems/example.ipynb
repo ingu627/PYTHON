{
 "cells": [
  {
   "cell_type": "code",
   "execution_count": null,
   "metadata": {},
   "outputs": [],
   "source": [
    "import random\n",
    "\n",
    "distributed_systems_list = [1,2,3,4,5,6,7,8]\n",
    "\n",
    "for _ in range(2):\n",
    "    for _ in range(4):\n",
    "        "
   ]
  },
  {
   "cell_type": "code",
   "execution_count": 31,
   "metadata": {},
   "outputs": [
    {
     "name": "stdout",
     "output_type": "stream",
     "text": [
      "1주차 정리 및 발표 : [1, 8]\n",
      "2주차 정리 및 발표 : [5, 7]\n",
      "3주차 정리 및 발표 : [6, 2]\n",
      "4주차 정리 및 발표 : [3, 4]\n",
      "1주차 정리 및 발표 : [7, 5]\n",
      "2주차 정리 및 발표 : [8, 4]\n",
      "3주차 정리 및 발표 : [3, 6]\n",
      "4주차 정리 및 발표 : [2, 1]\n",
      "1주차 정리 및 발표 : [8, 4]\n",
      "2주차 정리 및 발표 : [3, 1]\n",
      "3주차 정리 및 발표 : [2, 7]\n",
      "4주차 정리 및 발표 : [5, 6]\n",
      "1주차 정리 및 발표 : [4, 8]\n",
      "2주차 정리 및 발표 : [5, 7]\n",
      "3주차 정리 및 발표 : [3, 1]\n",
      "4주차 정리 및 발표 : [6, 2]\n"
     ]
    }
   ],
   "source": [
    "from numpy import random\n",
    "\n",
    "\n",
    "\n",
    "for i in range(4):\n",
    "    a = [1,2,3,4,5,6,7,8]\n",
    "    \n",
    "    for j in range(4):\n",
    "        b = list(random.choice(a, size=2, replace=False))\n",
    "        a.remove(b[0])\n",
    "        a.remove(b[1])\n",
    "        \n",
    "        print(f'{j+1}주차 정리 및 발표 : {b}')\n"
   ]
  },
  {
   "cell_type": "code",
   "execution_count": 22,
   "metadata": {},
   "outputs": [
    {
     "data": {
      "text/plain": [
       "[20, 30]"
      ]
     },
     "execution_count": 22,
     "metadata": {},
     "output_type": "execute_result"
    }
   ],
   "source": [
    "a = [10,20,30]\n",
    "b = [10]\n",
    "\n",
    "a.remove(b[0])\n",
    "a\n",
    "# a= a.remove()\n",
    "# print(a)"
   ]
  }
 ],
 "metadata": {
  "interpreter": {
   "hash": "1fa5b1395a0a4ddef51b00ab331cd3a77cd7c21e2466d9cd3f0fa6c5cbe4001e"
  },
  "kernelspec": {
   "display_name": "Python 3.6.13 ('tf2.4')",
   "language": "python",
   "name": "python3"
  },
  "language_info": {
   "codemirror_mode": {
    "name": "ipython",
    "version": 3
   },
   "file_extension": ".py",
   "mimetype": "text/x-python",
   "name": "python",
   "nbconvert_exporter": "python",
   "pygments_lexer": "ipython3",
   "version": "3.6.13"
  },
  "orig_nbformat": 4
 },
 "nbformat": 4,
 "nbformat_minor": 2
}
