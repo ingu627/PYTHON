{
 "cells": [
  {
   "cell_type": "code",
   "execution_count": 1,
   "metadata": {},
   "outputs": [
    {
     "ename": "AssertionError",
     "evalue": "",
     "output_type": "error",
     "traceback": [
      "\u001b[1;31m---------------------------------------------------------------------------\u001b[0m",
      "\u001b[1;31mAssertionError\u001b[0m                            Traceback (most recent call last)",
      "\u001b[1;32mf:\\Temporary_Storage\\efficient_python\\python2.ipynb Cell 1'\u001b[0m in \u001b[0;36m<cell line: 1>\u001b[1;34m()\u001b[0m\n\u001b[1;32m----> <a href='vscode-notebook-cell:/f%3A/Temporary_Storage/efficient_python/python2.ipynb#ch0000001?line=0'>1</a>\u001b[0m \u001b[39massert\u001b[39;00m \u001b[39m1\u001b[39m\u001b[39m==\u001b[39m\u001b[39m2\u001b[39m\n",
      "\u001b[1;31mAssertionError\u001b[0m: "
     ]
    }
   ],
   "source": [
    "assert 1==2"
   ]
  },
  {
   "cell_type": "code",
   "execution_count": 26,
   "metadata": {},
   "outputs": [],
   "source": [
    "a = ['a', 'b', 'c', 'd', 'e', 'f']\n",
    "\n",
    "assert a[:4] == a[0:4]\n",
    "\n",
    "assert a[4:] == a[4:len(a)]"
   ]
  },
  {
   "cell_type": "code",
   "execution_count": 22,
   "metadata": {},
   "outputs": [
    {
     "data": {
      "text/plain": [
       "['a', 'b', 'c', 'd', 'e', 'f']"
      ]
     },
     "execution_count": 22,
     "metadata": {},
     "output_type": "execute_result"
    }
   ],
   "source": [
    "a[:10]"
   ]
  },
  {
   "cell_type": "code",
   "execution_count": 27,
   "metadata": {},
   "outputs": [
    {
     "data": {
      "text/plain": [
       "['a', 'b', 'g', 'z', 'd', 'e', 'f']"
      ]
     },
     "execution_count": 27,
     "metadata": {},
     "output_type": "execute_result"
    }
   ],
   "source": [
    "a[2:3] = ['g', 'z']\n",
    "a"
   ]
  },
  {
   "cell_type": "code",
   "execution_count": 29,
   "metadata": {},
   "outputs": [
    {
     "name": "stdout",
     "output_type": "stream",
     "text": [
      "[1, 3, 5]\n",
      "[2, 4, 6]\n"
     ]
    }
   ],
   "source": [
    "a = [1,2,3,4,5,6]\n",
    "\n",
    "print(a[::2])\n",
    "print(a[1::2])"
   ]
  },
  {
   "cell_type": "code",
   "execution_count": 33,
   "metadata": {},
   "outputs": [
    {
     "data": {
      "text/plain": [
       "['a', 'c']"
      ]
     },
     "execution_count": 33,
     "metadata": {},
     "output_type": "execute_result"
    }
   ],
   "source": [
    "a = ['a', 'b', 'c', 'd', 'e', 'f']\n",
    "\n",
    "y = a[::2]\n",
    "z = y[:-1]\n",
    "z"
   ]
  },
  {
   "cell_type": "code",
   "execution_count": 40,
   "metadata": {},
   "outputs": [
    {
     "name": "stdout",
     "output_type": "stream",
     "text": [
      "20 19 [15, 9, 8, 7, 6, 4, 1, 0]\n"
     ]
    }
   ],
   "source": [
    "car_ages = [0, 9, 4, 8, 7, 20, 19, 1, 6, 15]\n",
    "car_ages_l = sorted(car_ages, reverse=True)\n",
    "\n",
    "# first, second = car_ages_l # ValueError: too many values to unpack (expected 2)\n",
    "\n",
    "first, second, *others = car_ages_l\n",
    "print(first, second, others)\n",
    "# 20 19 [15, 9, 8, 7, 6, 4, 1, 0]"
   ]
  },
  {
   "cell_type": "code",
   "execution_count": 42,
   "metadata": {},
   "outputs": [
    {
     "name": "stdout",
     "output_type": "stream",
     "text": [
      "[11, 68, 70, 86, 93]\n"
     ]
    }
   ],
   "source": [
    "numbers = [93, 86, 11, 68, 70]\n",
    "numbers.sort()\n",
    "print(numbers)\n",
    "# [11, 68, 70, 86, 93]"
   ]
  },
  {
   "cell_type": "code",
   "execution_count": 1,
   "metadata": {},
   "outputs": [
    {
     "name": "stdout",
     "output_type": "stream",
     "text": [
      "[[50, 'apple'], [30, 'banana'], [400, 'melon']]\n"
     ]
    }
   ],
   "source": [
    "# Str을 기준으로 정렬하기\n",
    "array = [[50, \"apple\"], [30, \"banana\"] , [400, \"melon\"]]\n",
    "array.sort(key = lambda x:x[1])\n",
    "print(array)\n",
    "# [[50, 'apple'], [30, 'banana'], [400, 'melon']]"
   ]
  },
  {
   "cell_type": "code",
   "execution_count": 7,
   "metadata": {},
   "outputs": [
    {
     "name": "stdout",
     "output_type": "stream",
     "text": [
      "{'cat': 'kitten', 'dog': 'puppy'}\n",
      "['cat', 'dog']\n",
      "['kitten', 'puppy']\n",
      "[('cat', 'kitten'), ('dog', 'puppy')]\n",
      "('dog', 'puppy')\n",
      "{'cat': 'kitten'}\n"
     ]
    }
   ],
   "source": [
    "baby_names = {\n",
    "    'cat': 'kitten',\n",
    "    'dog': 'puppy',\n",
    "}\n",
    "print(baby_names) # {'cat': 'kitten', 'dog': 'puppy'}\n",
    "print(list(baby_names.keys())) # ['cat', 'dog']\n",
    "print(list(baby_names.values())) # ['kitten', 'puppy']\n",
    "print(list(baby_names.items())) # [('cat', 'kitten'), ('dog', 'puppy')]\n",
    "print(baby_names.popitem()) # ('dog', 'puppy')\n",
    "print(baby_names) # {'cat': 'kitten'}"
   ]
  },
  {
   "cell_type": "code",
   "execution_count": 8,
   "metadata": {},
   "outputs": [
    {
     "name": "stdout",
     "output_type": "stream",
     "text": [
      "goose = gosling\n",
      "kangaroo = joey\n"
     ]
    }
   ],
   "source": [
    "def my_func(**kwargs):\n",
    "    for key, value in kwargs.items():\n",
    "        print(f'{key} = {value}')\n",
    "        \n",
    "my_func(goose='gosling', kangaroo='joey')\n",
    "# goose = gosling\n",
    "# kangaroo = joey"
   ]
  },
  {
   "cell_type": "code",
   "execution_count": 5,
   "metadata": {},
   "outputs": [],
   "source": [
    "class practice():\n",
    "    def __init__(self, name, age):\n",
    "        self.name = name\n",
    "        self.age = age\n",
    "        \n",
    "    def __setname__(self, name):\n",
    "        self.name = name"
   ]
  },
  {
   "cell_type": "code",
   "execution_count": 11,
   "metadata": {},
   "outputs": [
    {
     "data": {
      "text/plain": [
       "{'품퍼니켈': 2, '사워도우': 1, '밀': 1}"
      ]
     },
     "execution_count": 11,
     "metadata": {},
     "output_type": "execute_result"
    }
   ],
   "source": [
    "counters = {\n",
    "    '품퍼니켈': 2,\n",
    "    '사워도우': 1,\n",
    "}\n",
    "\n",
    "key = '밀'\n",
    "\n",
    "if key in counters:\n",
    "    count = counters[key]\n",
    "else:\n",
    "    count = 0\n",
    "    \n",
    "counters[key] = count + 1\n",
    "\n",
    "counters"
   ]
  },
  {
   "cell_type": "code",
   "execution_count": 12,
   "metadata": {},
   "outputs": [
    {
     "data": {
      "text/plain": [
       "{'품퍼니켈': 2, '사워도우': 1, '밀': 1}"
      ]
     },
     "execution_count": 12,
     "metadata": {},
     "output_type": "execute_result"
    }
   ],
   "source": [
    "counters = {\n",
    "    '품퍼니켈': 2,\n",
    "    '사워도우': 1,\n",
    "}\n",
    "\n",
    "key = '밀'\n",
    "\n",
    "try:\n",
    "    count = counters[key]\n",
    "except KeyError:\n",
    "    count = 0\n",
    "    \n",
    "counters[key] = count + 1\n",
    "\n",
    "counters"
   ]
  },
  {
   "cell_type": "code",
   "execution_count": 13,
   "metadata": {},
   "outputs": [
    {
     "data": {
      "text/plain": [
       "{'품퍼니켈': 2, '사워도우': 1, '밀': 1}"
      ]
     },
     "execution_count": 13,
     "metadata": {},
     "output_type": "execute_result"
    }
   ],
   "source": [
    "counters = {\n",
    "    '품퍼니켈': 2,\n",
    "    '사워도우': 1,\n",
    "}\n",
    "\n",
    "key = '밀'\n",
    "\n",
    "count = counters.get(key, 0)\n",
    "counters[key] = count + 1\n",
    "\n",
    "counters\n",
    "# {'품퍼니켈': 2, '사워도우': 1, '밀': 1}"
   ]
  },
  {
   "cell_type": "code",
   "execution_count": 18,
   "metadata": {},
   "outputs": [
    {
     "name": "stdout",
     "output_type": "stream",
     "text": [
      "{'미국': {'로스엔젤로스', '뉴욕'}, '일본': {'하코네'}, '프랑스': {'칸'}}\n"
     ]
    }
   ],
   "source": [
    "visits = {\n",
    "    '미국': {'뉴욕', '로스엔젤로스'},\n",
    "    '일본': {'하코네'}\n",
    "}\n",
    "\n",
    "# 딕셔너리 안에 나라 이름이 들어 있는지 여부와 관계없이\n",
    "# 각 집합에 새 도시를 추가할 때 setdefault를 사용할 수 있다.\n",
    "visits.setdefault('프랑스', set()).add('칸')\n",
    "\n",
    "print(visits)\n",
    "# {'미국': {'로스엔젤로스', '뉴욕'}, '일본': {'하코네'}, '프랑스': {'칸'}}"
   ]
  },
  {
   "cell_type": "code",
   "execution_count": 19,
   "metadata": {},
   "outputs": [
    {
     "name": "stdout",
     "output_type": "stream",
     "text": [
      "defaultdict(<class 'set'>, {'영국': {'런던', '바스'}})\n"
     ]
    }
   ],
   "source": [
    "from collections import defaultdict\n",
    "\n",
    "class Visits():\n",
    "    def __init__(self):\n",
    "        self.data = defaultdict(set)\n",
    "    \n",
    "    def add(self, country, city):\n",
    "        self.data[country].add(city)\n",
    "\n",
    "visits = Visits()\n",
    "visits.add('영국', '바스')\n",
    "visits.add('영국', '런던')\n",
    "print(visits.data)\n",
    "# defaultdict(<class 'set'>, {'영국': {'런던', '바스'}})"
   ]
  },
  {
   "cell_type": "code",
   "execution_count": 20,
   "metadata": {},
   "outputs": [],
   "source": [
    "pictures = {}\n",
    "path = 'profile_1234.png'\n",
    "\n",
    "if (handle := pictures.get(path)) is None:\n",
    "    try:\n",
    "        handle = open(path, 'a+b')\n",
    "    except OSError:\n",
    "        print(f'경로를 열 수 없습니다: {path}')\n",
    "        raise\n",
    "else:\n",
    "    pictures[path] = handle\n",
    "\n",
    "handle.seek(0)\n",
    "image_data = handle.read()"
   ]
  },
  {
   "cell_type": "code",
   "execution_count": 22,
   "metadata": {},
   "outputs": [],
   "source": [
    "def open_picture(profile_path):\n",
    "    try:\n",
    "        return open(profile_path, 'a+b')\n",
    "    except OSError:\n",
    "        print(f'경로를 열 수 없습니다: {profile_path}')\n",
    "        raise\n",
    "\n",
    "class Pictures(dict):\n",
    "    def __missing__(self, key):\n",
    "        value = open_picture(key)\n",
    "        self[key] = value\n",
    "        return value\n",
    "\n",
    "pictures = Pictures()\n",
    "handle = pictures[path]\n",
    "handle.seek(0)\n",
    "image_data = handle.read()"
   ]
  },
  {
   "cell_type": "code",
   "execution_count": null,
   "metadata": {},
   "outputs": [],
   "source": [
    "\n"
   ]
  }
 ],
 "metadata": {
  "interpreter": {
   "hash": "e86b9e9cd890259f23482ed8ba1a5000d67289ec2e24c00090cc172596b66de5"
  },
  "kernelspec": {
   "display_name": "Python 3.9.12 ('tf2.8')",
   "language": "python",
   "name": "python3"
  },
  "language_info": {
   "codemirror_mode": {
    "name": "ipython",
    "version": 3
   },
   "file_extension": ".py",
   "mimetype": "text/x-python",
   "name": "python",
   "nbconvert_exporter": "python",
   "pygments_lexer": "ipython3",
   "version": "3.9.12"
  },
  "orig_nbformat": 4
 },
 "nbformat": 4,
 "nbformat_minor": 2
}
