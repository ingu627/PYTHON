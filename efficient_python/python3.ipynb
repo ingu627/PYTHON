{
 "cells": [
  {
   "cell_type": "code",
   "execution_count": 1,
   "metadata": {},
   "outputs": [
    {
     "name": "stdout",
     "output_type": "stream",
     "text": [
      "최소: 60, 최대: 73\n"
     ]
    }
   ],
   "source": [
    "def get_stats(numbers):\n",
    "    minimum = min(numbers)\n",
    "    maximum = max(numbers)\n",
    "    return minimum, maximum\n",
    "\n",
    "lengths = [63, 73, 72, 60, 67]\n",
    "\n",
    "minimum, maximum = get_stats(lengths)\n",
    "print(f'최소: {minimum}, 최대: {maximum}')\n",
    "# 최소: 60, 최대: 73"
   ]
  },
  {
   "cell_type": "code",
   "execution_count": 4,
   "metadata": {},
   "outputs": [
    {
     "name": "stdout",
     "output_type": "stream",
     "text": [
      "최소 길이: 60, 최대 길이: 73\n",
      "평균: 67.5, 중앙값: 68.5, 개수: 10\n"
     ]
    }
   ],
   "source": [
    "lengths = [63, 73, 72, 60, 67, 66, 71, 61, 72, 70]\n",
    "\n",
    "def get_stats(numbers):\n",
    "    minimum = min(numbers)\n",
    "    maximum = max(numbers)\n",
    "    count = len(numbers)\n",
    "    average = sum(numbers) / count\n",
    "    \n",
    "    sorted_numbers = sorted(numbers)\n",
    "    middle = count // 2\n",
    "    if count % 2 == 0:\n",
    "        lower = sorted_numbers[middle - 1]\n",
    "        upper = sorted_numbers[middle]\n",
    "        median = (lower + upper) / 2\n",
    "    else:\n",
    "        median = sorted_numbers[middle]\n",
    "    \n",
    "    return minimum, maximum, average, median, count\n",
    "\n",
    "minimum, maximum, average, median, count = get_stats(lengths)\n",
    "\n",
    "print(f'최소 길이: {minimum}, 최대 길이: {maximum}')\n",
    "print(f'평균: {average}, 중앙값: {median}, 개수: {count}')\n",
    "# 최소 길이: 60, 최대 길이: 73\n",
    "# 평균: 67.5, 중앙값: 68.5, 개수: 10\n",
    "    "
   ]
  },
  {
   "cell_type": "code",
   "execution_count": 4,
   "metadata": {},
   "outputs": [
    {
     "name": "stdout",
     "output_type": "stream",
     "text": [
      "잘못된 입력\n"
     ]
    }
   ],
   "source": [
    "def careful_divide(a,b):\n",
    "    try:\n",
    "        return a / b\n",
    "    except ZeroDivisionError:\n",
    "        return None\n",
    "\n",
    "x, y = 1, 0\n",
    "result = careful_divide(x, y)\n",
    "if result is None:\n",
    "    print(\"잘못된 입력\")"
   ]
  },
  {
   "cell_type": "code",
   "execution_count": 5,
   "metadata": {},
   "outputs": [
    {
     "name": "stdout",
     "output_type": "stream",
     "text": [
      "결과는 2.5 입니다.\n"
     ]
    }
   ],
   "source": [
    "def careful_divide(a, b):\n",
    "    try:\n",
    "        return a / b\n",
    "    except ZeroDivisionError as e:\n",
    "        raise ValueError('잘못된 입력') # raise \n",
    "\n",
    "x, y = 5, 2\n",
    "try:\n",
    "    result = careful_divide(x, y)\n",
    "except ValueError:\n",
    "    print('잘못된 입력')\n",
    "else:\n",
    "    print('결과는 %.1f 입니다.' % result)\n",
    "# 결과는 2.5 입니다.\n"
   ]
  },
  {
   "cell_type": "code",
   "execution_count": 6,
   "metadata": {},
   "outputs": [],
   "source": [
    "def careful_divide(a: float, b: float):\n",
    "    try:\n",
    "        return a / b\n",
    "    except ZeroDivisionError as e:\n",
    "        raise ValueError('잘못된 입력')\n",
    "    "
   ]
  },
  {
   "cell_type": "code",
   "execution_count": 14,
   "metadata": {},
   "outputs": [
    {
     "name": "stdout",
     "output_type": "stream",
     "text": [
      "[2, 3, 5, 7, 1, 4, 6, 8]\n"
     ]
    }
   ],
   "source": [
    "def sort_priority(values, group):\n",
    "    def helper(x):\n",
    "        if x in group:\n",
    "            return (0, x) \n",
    "        return (1, x)\n",
    "    \n",
    "    values.sort(key=helper)\n",
    "\n",
    "numbers = [8,3,1,2,5,4,7,6]\n",
    "group = {2,3,5,7}\n",
    "sort_priority(numbers, group)\n",
    "print(numbers)\n",
    "# [2, 3, 5, 7, 1, 4, 6, 8]"
   ]
  },
  {
   "cell_type": "code",
   "execution_count": 5,
   "metadata": {},
   "outputs": [
    {
     "name": "stdout",
     "output_type": "stream",
     "text": [
      "내 숫자는: 1, 2, 3\n",
      "안녕\n"
     ]
    }
   ],
   "source": [
    "def log(message, *values):\n",
    "    if not values:\n",
    "        print(message)\n",
    "    else:\n",
    "        values_str = ', '.join(str(x) for x in values)\n",
    "        print(f'{message}: {values_str}')\n",
    "\n",
    "log('내 숫자는', 1, 2, 3)\n",
    "log('안녕')\n",
    "# 내 숫자는: 1, 2, 3\n",
    "# 안녕"
   ]
  },
  {
   "cell_type": "code",
   "execution_count": 7,
   "metadata": {},
   "outputs": [
    {
     "data": {
      "text/plain": [
       "6"
      ]
     },
     "execution_count": 7,
     "metadata": {},
     "output_type": "execute_result"
    }
   ],
   "source": [
    "def remainder(number, divisor):\n",
    "    return number % divisor\n",
    "\n",
    "remainder(number=20, divisor=7) # 6\n",
    "remainder(divisor=7, number=20) # 6"
   ]
  },
  {
   "cell_type": "code",
   "execution_count": 10,
   "metadata": {},
   "outputs": [],
   "source": [
    "my_kwargs = {\n",
    "    'number': 20,\n",
    "    'divisor': 7\n",
    "}\n",
    "assert remainder(**my_kwargs) == 6 # 틀릴시 AssertionError가 나온다."
   ]
  },
  {
   "cell_type": "code",
   "execution_count": 11,
   "metadata": {},
   "outputs": [
    {
     "name": "stdout",
     "output_type": "stream",
     "text": [
      "alpha = 1.5\n",
      "beta = 9\n",
      "감마 = 4\n"
     ]
    }
   ],
   "source": [
    "def print_parameters(**kwargs):\n",
    "    for key, value in kwargs.items():\n",
    "        print(f'{key} = {value}')\n",
    "\n",
    "print_parameters(alpha=1.5, beta=9, 감마=4)\n",
    "# alpha = 1.5\n",
    "# beta = 9\n",
    "# 감마 = 4"
   ]
  },
  {
   "cell_type": "code",
   "execution_count": 2,
   "metadata": {},
   "outputs": [
    {
     "name": "stdout",
     "output_type": "stream",
     "text": [
      "2022-07-01 23:22:59.699421: 안녕\n",
      "2022-07-01 23:22:59.699421: 다시 안녕!\n"
     ]
    }
   ],
   "source": [
    "from time import sleep\n",
    "from datetime import datetime\n",
    "\n",
    "def log(message, when=datetime.now()):\n",
    "    print(f'{when}: {message}')\n",
    "\n",
    "log('안녕')\n",
    "sleep(0.1)\n",
    "log('다시 안녕!')"
   ]
  },
  {
   "cell_type": "code",
   "execution_count": 4,
   "metadata": {},
   "outputs": [
    {
     "name": "stdout",
     "output_type": "stream",
     "text": [
      "2022-07-01 23:34:15.530000: 안녕\n",
      "2022-07-01 23:34:15.635037: 다시 안녕!\n"
     ]
    }
   ],
   "source": [
    "def log(message, when=None):\n",
    "    \"\"\"메시지와 타임스탬프를 로그에 남긴다.\n",
    "\n",
    "    Args:\n",
    "        message (_type_): _description_\n",
    "        when (_type_, optional): _description_. Defaults to None.\n",
    "    \"\"\"\n",
    "    \n",
    "    if when is None:\n",
    "        when = datetime.now()\n",
    "    print(f'{when}: {message}')\n",
    "\n",
    "log('안녕')\n",
    "sleep(0.1)\n",
    "log('다시 안녕!')\n",
    "# 2022-07-01 23:34:15.530000: 안녕\n",
    "# 2022-07-01 23:34:15.635037: 다시 안녕!"
   ]
  },
  {
   "cell_type": "code",
   "execution_count": null,
   "metadata": {},
   "outputs": [],
   "source": [
    "def decode(data, default=None):\n",
    "    \"\"\"_summary_\n",
    "\n",
    "    Args:\n",
    "        data (_type_): _description_\n",
    "        default (_type_, optional): _description_. Defaults to None.\n",
    "    \"\"\""
   ]
  },
  {
   "cell_type": "code",
   "execution_count": 7,
   "metadata": {},
   "outputs": [
    {
     "name": "stdout",
     "output_type": "stream",
     "text": [
      "3.1428571429\n",
      "3.14286\n",
      "3.14\n"
     ]
    }
   ],
   "source": [
    "def safe_division_e(numerator, denominator, /,\n",
    "                    ndigits=10, *,\n",
    "                    ignore_overflow=False,\n",
    "                    ignore_zero_division=False):\n",
    "    try:\n",
    "        fraction = numerator / denominator\n",
    "        return round(fraction, ndigits)\n",
    "    except OverflowError:\n",
    "        if ignore_overflow:\n",
    "            return 0\n",
    "        else:\n",
    "            raise\n",
    "    except ZeroDivisionError:\n",
    "        if ignore_zero_division:\n",
    "            return float('inf')\n",
    "        else:\n",
    "            raise\n",
    "\n",
    "result = safe_division_e(22, 7)\n",
    "print(result) # 3.1428571429\n",
    "\n",
    "result = safe_division_e(22, 7, 5)\n",
    "print(result) # 3.14286\n",
    "\n",
    "result = safe_division_e(22, 7, ndigits=2)\n",
    "print(result) # 3.14"
   ]
  },
  {
   "cell_type": "code",
   "execution_count": 11,
   "metadata": {},
   "outputs": [
    {
     "name": "stdout",
     "output_type": "stream",
     "text": [
      "안녕 <function rrr2 at 0x0000019562E3C1F0>\n"
     ]
    },
    {
     "ename": "TypeError",
     "evalue": "'NoneType' object is not callable",
     "output_type": "error",
     "traceback": [
      "\u001b[1;31m---------------------------------------------------------------------------\u001b[0m",
      "\u001b[1;31mTypeError\u001b[0m                                 Traceback (most recent call last)",
      "\u001b[1;32mf:\\Temporary_Storage\\efficient_python\\python3.ipynb Cell 10'\u001b[0m in \u001b[0;36m<cell line: 8>\u001b[1;34m()\u001b[0m\n\u001b[0;32m      <a href='vscode-notebook-cell:/f%3A/Temporary_Storage/efficient_python/python3.ipynb#ch0000009?line=3'>4</a>\u001b[0m \u001b[39m@rrr\u001b[39m\n\u001b[0;32m      <a href='vscode-notebook-cell:/f%3A/Temporary_Storage/efficient_python/python3.ipynb#ch0000009?line=4'>5</a>\u001b[0m \u001b[39mdef\u001b[39;00m \u001b[39mrrr2\u001b[39m():\n\u001b[0;32m      <a href='vscode-notebook-cell:/f%3A/Temporary_Storage/efficient_python/python3.ipynb#ch0000009?line=5'>6</a>\u001b[0m     \u001b[39mprint\u001b[39m(\u001b[39m'\u001b[39m\u001b[39m하하\u001b[39m\u001b[39m'\u001b[39m)\n\u001b[1;32m----> <a href='vscode-notebook-cell:/f%3A/Temporary_Storage/efficient_python/python3.ipynb#ch0000009?line=7'>8</a>\u001b[0m rrr2()\n",
      "\u001b[1;31mTypeError\u001b[0m: 'NoneType' object is not callable"
     ]
    }
   ],
   "source": [
    "def rrr(msg):\n",
    "    print(f'안녕 {msg}')\n",
    "    \n",
    "@rrr\n",
    "def rrr2():\n",
    "    print('하하')\n",
    "    \n",
    "rrr2()"
   ]
  },
  {
   "cell_type": "code",
   "execution_count": 12,
   "metadata": {},
   "outputs": [
    {
     "name": "stdout",
     "output_type": "stream",
     "text": [
      "fibonacci((0,), {}) -> 0\n",
      "wrapper((0,), {}) -> 0\n",
      "fibonacci((1,), {}) -> 1\n",
      "wrapper((1,), {}) -> 1\n",
      "fibonacci((2,), {}) -> 1\n",
      "wrapper((2,), {}) -> 1\n",
      "fibonacci((1,), {}) -> 1\n",
      "wrapper((1,), {}) -> 1\n",
      "fibonacci((0,), {}) -> 0\n",
      "wrapper((0,), {}) -> 0\n",
      "fibonacci((1,), {}) -> 1\n",
      "wrapper((1,), {}) -> 1\n",
      "fibonacci((2,), {}) -> 1\n",
      "wrapper((2,), {}) -> 1\n",
      "fibonacci((3,), {}) -> 2\n",
      "wrapper((3,), {}) -> 2\n",
      "fibonacci((4,), {}) -> 3\n",
      "wrapper((4,), {}) -> 3\n"
     ]
    },
    {
     "data": {
      "text/plain": [
       "3"
      ]
     },
     "execution_count": 12,
     "metadata": {},
     "output_type": "execute_result"
    }
   ],
   "source": [
    "def trace(func):\n",
    "    def wrapper(*args, **kwargs):\n",
    "        result = func(*args, **kwargs)\n",
    "        print(f'{func.__name__}({args!r}, {kwargs!r}) '\n",
    "              f'-> {result!r}')\n",
    "        return result\n",
    "    return wrapper\n",
    "\n",
    "@trace\n",
    "def fibonacci(n):\n",
    "    \"\"\"n번째 피보나치 수를 반환한다.\"\"\"\n",
    "    if n in (0,1):\n",
    "        return n\n",
    "    return (fibonacci(n - 2) + fibonacci(n - 1))\n",
    "\n",
    "fibonacci = trace(fibonacci)\n",
    "\n",
    "fibonacci(4)\n",
    "# fibonacci((0,), {}) -> 0\n",
    "# wrapper((0,), {}) -> 0\n",
    "# fibonacci((1,), {}) -> 1\n",
    "# wrapper((1,), {}) -> 1\n",
    "# fibonacci((2,), {}) -> 1\n",
    "# wrapper((2,), {}) -> 1\n",
    "# fibonacci((1,), {}) -> 1\n",
    "# wrapper((1,), {}) -> 1\n",
    "# fibonacci((0,), {}) -> 0\n",
    "# wrapper((0,), {}) -> 0\n",
    "# fibonacci((1,), {}) -> 1\n",
    "# wrapper((1,), {}) -> 1\n",
    "# fibonacci((2,), {}) -> 1\n",
    "# wrapper((2,), {}) -> 1\n",
    "# fibonacci((3,), {}) -> 2\n",
    "# wrapper((3,), {}) -> 2\n",
    "# fibonacci((4,), {}) -> 3\n",
    "# wrapper((4,), {}) -> 3"
   ]
  }
 ],
 "metadata": {
  "kernelspec": {
   "display_name": "Python 3.9.12 ('tf2.8')",
   "language": "python",
   "name": "python3"
  },
  "language_info": {
   "codemirror_mode": {
    "name": "ipython",
    "version": 3
   },
   "file_extension": ".py",
   "mimetype": "text/x-python",
   "name": "python",
   "nbconvert_exporter": "python",
   "pygments_lexer": "ipython3",
   "version": "3.9.12"
  },
  "orig_nbformat": 4,
  "vscode": {
   "interpreter": {
    "hash": "e86b9e9cd890259f23482ed8ba1a5000d67289ec2e24c00090cc172596b66de5"
   }
  }
 },
 "nbformat": 4,
 "nbformat_minor": 2
}
