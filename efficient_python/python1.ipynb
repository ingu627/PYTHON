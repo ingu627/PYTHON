{
 "cells": [
  {
   "cell_type": "code",
   "execution_count": 5,
   "metadata": {},
   "outputs": [
    {
     "name": "stdout",
     "output_type": "stream",
     "text": [
      "Python 3.9.12\n"
     ]
    }
   ],
   "source": [
    "!python --version"
   ]
  },
  {
   "cell_type": "code",
   "execution_count": 1,
   "metadata": {},
   "outputs": [
    {
     "name": "stdout",
     "output_type": "stream",
     "text": [
      "sys.version_info(major=3, minor=9, micro=12, releaselevel='final', serial=0)\n",
      "3.9.12 (main, Apr  4 2022, 05:22:27) [MSC v.1916 64 bit (AMD64)]\n"
     ]
    }
   ],
   "source": [
    "import sys\n",
    "print(sys.version_info)\n",
    "print(sys.version)\n"
   ]
  },
  {
   "cell_type": "code",
   "execution_count": 7,
   "metadata": {},
   "outputs": [
    {
     "data": {
      "text/plain": [
       "8"
      ]
     },
     "execution_count": 7,
     "metadata": {},
     "output_type": "execute_result"
    }
   ],
   "source": [
    "(2+1\n",
    "+ 2\n",
    "+ 3)"
   ]
  },
  {
   "cell_type": "code",
   "execution_count": 10,
   "metadata": {},
   "outputs": [
    {
     "name": "stdout",
     "output_type": "stream",
     "text": [
      "[104, 101, 108, 108, 111]\n",
      "b'hello'\n"
     ]
    }
   ],
   "source": [
    "a = b'h\\x65llo'\n",
    "print(list(a))\n",
    "print(a)"
   ]
  },
  {
   "cell_type": "code",
   "execution_count": 11,
   "metadata": {},
   "outputs": [
    {
     "data": {
      "text/plain": [
       "bytes"
      ]
     },
     "execution_count": 11,
     "metadata": {},
     "output_type": "execute_result"
    }
   ],
   "source": [
    "type(a)"
   ]
  },
  {
   "cell_type": "code",
   "execution_count": 12,
   "metadata": {},
   "outputs": [
    {
     "name": "stdout",
     "output_type": "stream",
     "text": [
      "b'onetwo'\n"
     ]
    }
   ],
   "source": [
    "print(b'one'+b'two')"
   ]
  },
  {
   "cell_type": "code",
   "execution_count": 13,
   "metadata": {},
   "outputs": [
    {
     "ename": "TypeError",
     "evalue": "can't concat str to bytes",
     "output_type": "error",
     "traceback": [
      "\u001b[1;31m---------------------------------------------------------------------------\u001b[0m",
      "\u001b[1;31mTypeError\u001b[0m                                 Traceback (most recent call last)",
      "\u001b[1;32mf:\\Temporary_Storage\\efficient_python\\python1.ipynb Cell 7'\u001b[0m in \u001b[0;36m<cell line: 1>\u001b[1;34m()\u001b[0m\n\u001b[1;32m----> <a href='vscode-notebook-cell:/f%3A/Temporary_Storage/efficient_python/python1.ipynb#ch0000006?line=0'>1</a>\u001b[0m \u001b[39mprint\u001b[39m(\u001b[39mb\u001b[39;49m\u001b[39m'\u001b[39;49m\u001b[39mone\u001b[39;49m\u001b[39m'\u001b[39;49m\u001b[39m+\u001b[39;49m\u001b[39m'\u001b[39;49m\u001b[39mtwo\u001b[39;49m\u001b[39m'\u001b[39;49m)\n",
      "\u001b[1;31mTypeError\u001b[0m: can't concat str to bytes"
     ]
    }
   ],
   "source": [
    "print(b'one'+'two')\n",
    "# TypeError: can't concat str to bytes"
   ]
  },
  {
   "cell_type": "code",
   "execution_count": 19,
   "metadata": {},
   "outputs": [
    {
     "name": "stdout",
     "output_type": "stream",
     "text": [
      "홍길동은 5명이다.\n"
     ]
    }
   ],
   "source": [
    "print('%s은 %d명이다.' % ('홍길동', 5))\n",
    "# 홍길동은 5명이다."
   ]
  },
  {
   "cell_type": "code",
   "execution_count": 20,
   "metadata": {},
   "outputs": [
    {
     "name": "stdout",
     "output_type": "stream",
     "text": [
      "홍길동은 5명이다.\n"
     ]
    }
   ],
   "source": [
    "print('{}은 {}명이다.'.format('홍길동', 5))\n",
    "# 홍길동은 5개의 노트북을 가지고 있어"
   ]
  },
  {
   "cell_type": "code",
   "execution_count": 23,
   "metadata": {},
   "outputs": [
    {
     "name": "stdout",
     "output_type": "stream",
     "text": [
      "홍길동은 5명이다.\n"
     ]
    }
   ],
   "source": [
    "print(f'{\"홍길동\"}은 {5}명이다.')\n",
    "# 홍길동은 5명이다."
   ]
  },
  {
   "cell_type": "code",
   "execution_count": 25,
   "metadata": {},
   "outputs": [
    {
     "ename": "SyntaxError",
     "evalue": "invalid syntax (649523103.py, line 2)",
     "output_type": "error",
     "traceback": [
      "\u001b[1;36m  Input \u001b[1;32mIn [25]\u001b[1;36m\u001b[0m\n\u001b[1;33m    print(name) if name==true\u001b[0m\n\u001b[1;37m                              ^\u001b[0m\n\u001b[1;31mSyntaxError\u001b[0m\u001b[1;31m:\u001b[0m invalid syntax\n"
     ]
    }
   ],
   "source": [
    "name = '홍길동'\n",
    "print(name) if name==true "
   ]
  },
  {
   "cell_type": "code",
   "execution_count": null,
   "metadata": {},
   "outputs": [],
   "source": []
  },
  {
   "cell_type": "code",
   "execution_count": 27,
   "metadata": {},
   "outputs": [
    {
     "name": "stdout",
     "output_type": "stream",
     "text": [
      "dict_items([('노트북', 0), ('마우스', 1), ('헤드셋', 2)])\n",
      "(('노트북', 0), ('마우스', 1), ('헤드셋', 2))\n"
     ]
    }
   ],
   "source": [
    "working = {\n",
    "    '노트북' : 0,\n",
    "    '마우스' : 1,\n",
    "    '헤드셋' : 2\n",
    "} # dictionary 형태\n",
    "print(working.items()) # items()은 키와 값을 한꺼번에 뽑아내줌\n",
    "# dict_items([('노트북', 0), ('마우스', 1), ('헤드셋', 2)])\n",
    "a = tuple(working.items()) # 튜플로 묶음\n",
    "print(a)\n",
    "# (('노트북', 0), ('마우스', 1), ('헤드셋', 2))"
   ]
  },
  {
   "cell_type": "code",
   "execution_count": 32,
   "metadata": {},
   "outputs": [
    {
     "name": "stdout",
     "output_type": "stream",
     "text": [
      "노트북\n",
      "('마우스', 1)\n",
      "('헤드셋', 2)\n"
     ]
    }
   ],
   "source": [
    "print(a[0][0]) # ('노트북', 0)\n",
    "print(a[1]) # ('마우스', 1)\n",
    "print(a[2]) # ('헤드셋', 2)"
   ]
  },
  {
   "cell_type": "code",
   "execution_count": 34,
   "metadata": {},
   "outputs": [
    {
     "name": "stdout",
     "output_type": "stream",
     "text": [
      "('노트북', 0)\n"
     ]
    }
   ],
   "source": [
    "notebook, mouse, headset = a\n",
    "print(notebook)"
   ]
  },
  {
   "cell_type": "code",
   "execution_count": 38,
   "metadata": {},
   "outputs": [
    {
     "name": "stdout",
     "output_type": "stream",
     "text": [
      "1 2 3 4 5 "
     ]
    }
   ],
   "source": [
    "for i in range(5):\n",
    "    print(i+1, end=' ')"
   ]
  },
  {
   "cell_type": "code",
   "execution_count": 40,
   "metadata": {},
   "outputs": [
    {
     "name": "stdout",
     "output_type": "stream",
     "text": [
      "안녕하세요"
     ]
    }
   ],
   "source": [
    "alist = ['안', '녕', '하', '세', '요']\n",
    "for i in alist:\n",
    "    print(i, end='')\n",
    "# 안녕하세요"
   ]
  },
  {
   "cell_type": "code",
   "execution_count": 51,
   "metadata": {},
   "outputs": [
    {
     "name": "stdout",
     "output_type": "stream",
     "text": [
      "1 바닐라\n",
      "2 초콜릿\n",
      "3 민트\n",
      "4 딸기\n"
     ]
    }
   ],
   "source": [
    "flavor_list = ['바닐라', '초콜릿', '민트', '딸기']\n",
    "\n",
    "for i, flavor in enumerate(flavor_list, 1):\n",
    "    print(i, flavor)"
   ]
  },
  {
   "cell_type": "code",
   "execution_count": 48,
   "metadata": {},
   "outputs": [
    {
     "data": {
      "text/plain": [
       "(0, '바닐라')"
      ]
     },
     "execution_count": 48,
     "metadata": {},
     "output_type": "execute_result"
    }
   ],
   "source": [
    "next(enumerate(flavor_list))"
   ]
  },
  {
   "cell_type": "code",
   "execution_count": 49,
   "metadata": {},
   "outputs": [
    {
     "data": {
      "text/plain": [
       "(0, '바닐라')"
      ]
     },
     "execution_count": 49,
     "metadata": {},
     "output_type": "execute_result"
    }
   ],
   "source": [
    "next(enumerate(flavor_list))"
   ]
  },
  {
   "cell_type": "code",
   "execution_count": 52,
   "metadata": {},
   "outputs": [
    {
     "name": "stdout",
     "output_type": "stream",
     "text": [
      "('1', 'A')\n",
      "('2', 'B')\n",
      "('3', 'C')\n",
      "('4', 'D')\n",
      "('5', 'E')\n"
     ]
    }
   ],
   "source": [
    "for i in zip('12345', 'ABCDE'):\n",
    "    print(i)"
   ]
  },
  {
   "cell_type": "code",
   "execution_count": 55,
   "metadata": {},
   "outputs": [
    {
     "name": "stdout",
     "output_type": "stream",
     "text": [
      "('1', 'A')\n",
      "('2', 'B')\n",
      "('3', 'C')\n",
      "(None, 'D')\n",
      "(None, 'E')\n"
     ]
    }
   ],
   "source": [
    "import itertools\n",
    "\n",
    "for i in itertools.zip_longest('123', 'ABCDE'):\n",
    "    print(i)"
   ]
  },
  {
   "cell_type": "code",
   "execution_count": 59,
   "metadata": {},
   "outputs": [
    {
     "data": {
      "text/plain": [
       "[2, 4, 8]"
      ]
     },
     "execution_count": 59,
     "metadata": {},
     "output_type": "execute_result"
    }
   ],
   "source": [
    "a = 2\n",
    "\n",
    "[y := a, y**2, y**3]"
   ]
  },
  {
   "cell_type": "code",
   "execution_count": 64,
   "metadata": {},
   "outputs": [
    {
     "name": "stdout",
     "output_type": "stream",
     "text": [
      "리스트 개수는 4입니다.\n"
     ]
    }
   ],
   "source": [
    "flavor_list = ['바닐라', '초콜릿', '민트', '딸기']\n",
    "\n",
    "n = len(flavor_list)\n",
    "\n",
    "if n < 5:\n",
    "    print(f\"리스트 개수는 {n}입니다.\")\n",
    "# 리스트 개수는 4입니다."
   ]
  },
  {
   "cell_type": "code",
   "execution_count": 65,
   "metadata": {},
   "outputs": [
    {
     "name": "stdout",
     "output_type": "stream",
     "text": [
      "리스트 개수는 4입니다.\n"
     ]
    }
   ],
   "source": [
    "flavor_list = ['바닐라', '초콜릿', '민트', '딸기']\n",
    "\n",
    "if (n := len(flavor_list)) < 5:\n",
    "    print(f\"리스트 개수는 {n}입니다.\")"
   ]
  },
  {
   "cell_type": "code",
   "execution_count": null,
   "metadata": {},
   "outputs": [],
   "source": []
  }
 ],
 "metadata": {
  "interpreter": {
   "hash": "e86b9e9cd890259f23482ed8ba1a5000d67289ec2e24c00090cc172596b66de5"
  },
  "kernelspec": {
   "display_name": "Python 3.9.12 ('tf2.8')",
   "language": "python",
   "name": "python3"
  },
  "language_info": {
   "codemirror_mode": {
    "name": "ipython",
    "version": 3
   },
   "file_extension": ".py",
   "mimetype": "text/x-python",
   "name": "python",
   "nbconvert_exporter": "python",
   "pygments_lexer": "ipython3",
   "version": "3.9.12"
  },
  "orig_nbformat": 4
 },
 "nbformat": 4,
 "nbformat_minor": 2
}
