{
 "cells": [
  {
   "cell_type": "code",
   "execution_count": 1,
   "source": [
    "from selenium import webdriver\r\n",
    "from bs4 import BeautifulSoup\r\n",
    "import pandas as pd\r\n",
    "import re\r\n",
    "from collections import Counter"
   ],
   "outputs": [],
   "metadata": {}
  },
  {
   "cell_type": "code",
   "execution_count": 34,
   "source": [
    "driver=webdriver.Chrome('e:/chromedriver')\r\n",
    "url = 'https://www.starbucks.co.kr/store/store_map.do?disp=locale'\r\n",
    "driver.get(url)"
   ],
   "outputs": [],
   "metadata": {}
  },
  {
   "cell_type": "code",
   "execution_count": 35,
   "source": [
    "#container > div > form > fieldset > div > section > article.find_store_cont > article > article:nth-child(4) > div.loca_step1 > div.loca_step1_cont > ul > li:nth-child(1) > a\r\n",
    "seoulBtn='#container > div > form > fieldset > div > section > article.find_store_cont > article > article:nth-child(4) > div.loca_step1 > div.loca_step1_cont > ul > li:nth-child(1) > a'"
   ],
   "outputs": [],
   "metadata": {}
  },
  {
   "cell_type": "code",
   "execution_count": 4,
   "source": [
    "driver.find_element_by_css_selector(seoulBtn).click()"
   ],
   "outputs": [],
   "metadata": {}
  },
  {
   "cell_type": "code",
   "execution_count": 5,
   "source": [
    "allBtn='#mCSB_2_container > ul > li:nth-child(1) > a'"
   ],
   "outputs": [],
   "metadata": {}
  },
  {
   "cell_type": "code",
   "execution_count": 6,
   "source": [
    "driver.find_element_by_css_selector(allBtn).click()"
   ],
   "outputs": [],
   "metadata": {}
  },
  {
   "cell_type": "code",
   "execution_count": 7,
   "source": [
    "html=driver.page_source\r\n",
    "soup = BeautifulSoup(html, 'html.parser') # 현재 페이지의 소스코드"
   ],
   "outputs": [],
   "metadata": {}
  },
  {
   "cell_type": "code",
   "execution_count": 9,
   "source": [
    "starbucksSoupList=soup.select('li.quickResultLstCon')"
   ],
   "outputs": [],
   "metadata": {}
  },
  {
   "cell_type": "code",
   "execution_count": 10,
   "source": [
    "len(starbucksSoupList)\r\n",
    "# 스타벅스 서울 매장 수"
   ],
   "outputs": [
    {
     "output_type": "execute_result",
     "data": {
      "text/plain": [
       "556"
      ]
     },
     "metadata": {},
     "execution_count": 10
    }
   ],
   "metadata": {}
  },
  {
   "cell_type": "code",
   "execution_count": 25,
   "source": [
    "# pr\r\n",
    "starbucksSoupList[8].select('i.pin_general')"
   ],
   "outputs": [
    {
     "output_type": "execute_result",
     "data": {
      "text/plain": [
       "[]"
      ]
     },
     "metadata": {},
     "execution_count": 25
    }
   ],
   "metadata": {}
  },
  {
   "cell_type": "code",
   "execution_count": 12,
   "source": [
    "starbucksList=[]\r\n",
    "for item in starbucksSoupList:\r\n",
    "    # 매장이름\r\n",
    "    name = item.select('strong')[0].text.strip()\r\n",
    "    # 위도\r\n",
    "    lat = item['data-lat']\r\n",
    "    # 경도\r\n",
    "    lon = item['data-long']\r\n",
    "    # 매장타입\r\n",
    "    storeType = item.select('i.pin_general')[0].text\r\n",
    "    # split은 문자열만 해당\r\n",
    "    # 주소, 전화번호\r\n",
    "    address = str(item.select('p.result_details')[0]).split('<br/>')[0].split('>')[1]\r\n",
    "    tel = str(item.select('p.result_details')[0]).split('<br/>')[1].split('<')[0]\r\n",
    "    starbucksList.append([name, lat, lon, storeType, address, tel])"
   ],
   "outputs": [],
   "metadata": {}
  },
  {
   "cell_type": "code",
   "execution_count": 13,
   "source": [
    "starbucksList[555]"
   ],
   "outputs": [
    {
     "output_type": "execute_result",
     "data": {
      "text/plain": [
       "['중화역',\n",
       " '37.60170912407773',\n",
       " '127.07841136432036',\n",
       " '리저브 매장 2번',\n",
       " '서울특별시 중랑구 봉화산로 35 1,2층',\n",
       " '1522-3232']"
      ]
     },
     "metadata": {},
     "execution_count": 13
    }
   ],
   "metadata": {}
  },
  {
   "cell_type": "code",
   "execution_count": 14,
   "source": [
    "df = pd.DataFrame(starbucksList, \r\n",
    "                columns=['매장명', '위도','경도', '타입', '주소', '전화번호'])"
   ],
   "outputs": [],
   "metadata": {}
  },
  {
   "cell_type": "code",
   "execution_count": 15,
   "source": [
    "df.to_excel('seoul_starbucks_list.xlsx', index=False)"
   ],
   "outputs": [],
   "metadata": {}
  },
  {
   "cell_type": "code",
   "execution_count": 50,
   "source": [
    "sgg_pop_df = pd.read_csv('./data/report.txt', sep='\\t', header=2)"
   ],
   "outputs": [],
   "metadata": {}
  },
  {
   "cell_type": "code",
   "execution_count": 51,
   "source": [
    "sgg_pop_df.head()"
   ],
   "outputs": [
    {
     "output_type": "execute_result",
     "data": {
      "text/plain": [
       "         기간  자치구         세대          계         남자         여자        계.1  \\\n",
       "0  2020.3/4   합계  4,405,833  9,953,009  4,840,912  5,112,097  9,699,232   \n",
       "1  2020.3/4  종로구     74,861    159,842     77,391     82,451    149,952   \n",
       "2  2020.3/4   중구     63,594    135,321     66,193     69,128    125,800   \n",
       "3  2020.3/4  용산구    112,451    244,953    119,074    125,879    229,786   \n",
       "4  2020.3/4  성동구    136,096    302,695    147,582    155,113    295,591   \n",
       "\n",
       "        남자.1       여자.1      계.2     남자.2     여자.2  세대당인구   65세이상고령자  \n",
       "0  4,719,170  4,980,062  253,777  121,742  132,035   2.20  1,552,356  \n",
       "1     73,024     76,928    9,890    4,367    5,523   2.00     28,396  \n",
       "2     61,526     64,274    9,521    4,667    4,854   1.98     24,265  \n",
       "3    110,604    119,182   15,167    8,470    6,697   2.04     39,995  \n",
       "4    144,444    151,147    7,104    3,138    3,966   2.17     45,372  "
      ],
      "text/html": [
       "<div>\n",
       "<style scoped>\n",
       "    .dataframe tbody tr th:only-of-type {\n",
       "        vertical-align: middle;\n",
       "    }\n",
       "\n",
       "    .dataframe tbody tr th {\n",
       "        vertical-align: top;\n",
       "    }\n",
       "\n",
       "    .dataframe thead th {\n",
       "        text-align: right;\n",
       "    }\n",
       "</style>\n",
       "<table border=\"1\" class=\"dataframe\">\n",
       "  <thead>\n",
       "    <tr style=\"text-align: right;\">\n",
       "      <th></th>\n",
       "      <th>기간</th>\n",
       "      <th>자치구</th>\n",
       "      <th>세대</th>\n",
       "      <th>계</th>\n",
       "      <th>남자</th>\n",
       "      <th>여자</th>\n",
       "      <th>계.1</th>\n",
       "      <th>남자.1</th>\n",
       "      <th>여자.1</th>\n",
       "      <th>계.2</th>\n",
       "      <th>남자.2</th>\n",
       "      <th>여자.2</th>\n",
       "      <th>세대당인구</th>\n",
       "      <th>65세이상고령자</th>\n",
       "    </tr>\n",
       "  </thead>\n",
       "  <tbody>\n",
       "    <tr>\n",
       "      <th>0</th>\n",
       "      <td>2020.3/4</td>\n",
       "      <td>합계</td>\n",
       "      <td>4,405,833</td>\n",
       "      <td>9,953,009</td>\n",
       "      <td>4,840,912</td>\n",
       "      <td>5,112,097</td>\n",
       "      <td>9,699,232</td>\n",
       "      <td>4,719,170</td>\n",
       "      <td>4,980,062</td>\n",
       "      <td>253,777</td>\n",
       "      <td>121,742</td>\n",
       "      <td>132,035</td>\n",
       "      <td>2.20</td>\n",
       "      <td>1,552,356</td>\n",
       "    </tr>\n",
       "    <tr>\n",
       "      <th>1</th>\n",
       "      <td>2020.3/4</td>\n",
       "      <td>종로구</td>\n",
       "      <td>74,861</td>\n",
       "      <td>159,842</td>\n",
       "      <td>77,391</td>\n",
       "      <td>82,451</td>\n",
       "      <td>149,952</td>\n",
       "      <td>73,024</td>\n",
       "      <td>76,928</td>\n",
       "      <td>9,890</td>\n",
       "      <td>4,367</td>\n",
       "      <td>5,523</td>\n",
       "      <td>2.00</td>\n",
       "      <td>28,396</td>\n",
       "    </tr>\n",
       "    <tr>\n",
       "      <th>2</th>\n",
       "      <td>2020.3/4</td>\n",
       "      <td>중구</td>\n",
       "      <td>63,594</td>\n",
       "      <td>135,321</td>\n",
       "      <td>66,193</td>\n",
       "      <td>69,128</td>\n",
       "      <td>125,800</td>\n",
       "      <td>61,526</td>\n",
       "      <td>64,274</td>\n",
       "      <td>9,521</td>\n",
       "      <td>4,667</td>\n",
       "      <td>4,854</td>\n",
       "      <td>1.98</td>\n",
       "      <td>24,265</td>\n",
       "    </tr>\n",
       "    <tr>\n",
       "      <th>3</th>\n",
       "      <td>2020.3/4</td>\n",
       "      <td>용산구</td>\n",
       "      <td>112,451</td>\n",
       "      <td>244,953</td>\n",
       "      <td>119,074</td>\n",
       "      <td>125,879</td>\n",
       "      <td>229,786</td>\n",
       "      <td>110,604</td>\n",
       "      <td>119,182</td>\n",
       "      <td>15,167</td>\n",
       "      <td>8,470</td>\n",
       "      <td>6,697</td>\n",
       "      <td>2.04</td>\n",
       "      <td>39,995</td>\n",
       "    </tr>\n",
       "    <tr>\n",
       "      <th>4</th>\n",
       "      <td>2020.3/4</td>\n",
       "      <td>성동구</td>\n",
       "      <td>136,096</td>\n",
       "      <td>302,695</td>\n",
       "      <td>147,582</td>\n",
       "      <td>155,113</td>\n",
       "      <td>295,591</td>\n",
       "      <td>144,444</td>\n",
       "      <td>151,147</td>\n",
       "      <td>7,104</td>\n",
       "      <td>3,138</td>\n",
       "      <td>3,966</td>\n",
       "      <td>2.17</td>\n",
       "      <td>45,372</td>\n",
       "    </tr>\n",
       "  </tbody>\n",
       "</table>\n",
       "</div>"
      ]
     },
     "metadata": {},
     "execution_count": 51
    }
   ],
   "metadata": {}
  },
  {
   "cell_type": "code",
   "execution_count": 52,
   "source": [
    "cols = {\r\n",
    "    '기간': 'GIGAN',\r\n",
    "    '자치구': 'JACHIGU',\r\n",
    "    '계': 'GYE_1',\r\n",
    "    '계.1': 'GYE_2',\r\n",
    "    '계.2': 'GYE_3',\r\n",
    "    '남자': 'NAMJA_1',\r\n",
    "    '남자.1': 'NAMJA_2',\r\n",
    "    '남자.2': 'NAMJA_3',\r\n",
    "    '여자': 'YEOJA_1',\r\n",
    "    '여자.1': 'YEOJA_2',\r\n",
    "    '여자.2': 'YEOJA_3',\r\n",
    "    '세대': 'SEDAE',\r\n",
    "    '세대당인구': 'SEDAEDANGINGU',\r\n",
    "    '65세이상고령자': 'N_65SEISANGGORYEONGJA'\r\n",
    "}"
   ],
   "outputs": [],
   "metadata": {}
  },
  {
   "cell_type": "code",
   "execution_count": 53,
   "source": [
    "sgg_pop_df.columns"
   ],
   "outputs": [
    {
     "output_type": "execute_result",
     "data": {
      "text/plain": [
       "Index(['기간', '자치구', '세대', '계', '남자', '여자', '계.1', '남자.1', '여자.1', '계.2',\n",
       "       '남자.2', '여자.2', '세대당인구', '65세이상고령자'],\n",
       "      dtype='object')"
      ]
     },
     "metadata": {},
     "execution_count": 53
    }
   ],
   "metadata": {}
  },
  {
   "cell_type": "code",
   "execution_count": 54,
   "source": [
    "sgg_pop_df.rename(columns=cols, inplace=True)\r\n",
    "# columns딕셔너리의 키('기간')에 해당되는 이름을 sgg_pop_df 컬럼에서 찾아 cols"
   ],
   "outputs": [],
   "metadata": {}
  },
  {
   "cell_type": "code",
   "execution_count": 55,
   "source": [
    "sgg_pop_df.head()"
   ],
   "outputs": [
    {
     "output_type": "execute_result",
     "data": {
      "text/plain": [
       "      GIGAN JACHIGU      SEDAE      GYE_1    NAMJA_1    YEOJA_1      GYE_2  \\\n",
       "0  2020.3/4      합계  4,405,833  9,953,009  4,840,912  5,112,097  9,699,232   \n",
       "1  2020.3/4     종로구     74,861    159,842     77,391     82,451    149,952   \n",
       "2  2020.3/4      중구     63,594    135,321     66,193     69,128    125,800   \n",
       "3  2020.3/4     용산구    112,451    244,953    119,074    125,879    229,786   \n",
       "4  2020.3/4     성동구    136,096    302,695    147,582    155,113    295,591   \n",
       "\n",
       "     NAMJA_2    YEOJA_2    GYE_3  NAMJA_3  YEOJA_3  SEDAEDANGINGU  \\\n",
       "0  4,719,170  4,980,062  253,777  121,742  132,035           2.20   \n",
       "1     73,024     76,928    9,890    4,367    5,523           2.00   \n",
       "2     61,526     64,274    9,521    4,667    4,854           1.98   \n",
       "3    110,604    119,182   15,167    8,470    6,697           2.04   \n",
       "4    144,444    151,147    7,104    3,138    3,966           2.17   \n",
       "\n",
       "  N_65SEISANGGORYEONGJA  \n",
       "0             1,552,356  \n",
       "1                28,396  \n",
       "2                24,265  \n",
       "3                39,995  \n",
       "4                45,372  "
      ],
      "text/html": [
       "<div>\n",
       "<style scoped>\n",
       "    .dataframe tbody tr th:only-of-type {\n",
       "        vertical-align: middle;\n",
       "    }\n",
       "\n",
       "    .dataframe tbody tr th {\n",
       "        vertical-align: top;\n",
       "    }\n",
       "\n",
       "    .dataframe thead th {\n",
       "        text-align: right;\n",
       "    }\n",
       "</style>\n",
       "<table border=\"1\" class=\"dataframe\">\n",
       "  <thead>\n",
       "    <tr style=\"text-align: right;\">\n",
       "      <th></th>\n",
       "      <th>GIGAN</th>\n",
       "      <th>JACHIGU</th>\n",
       "      <th>SEDAE</th>\n",
       "      <th>GYE_1</th>\n",
       "      <th>NAMJA_1</th>\n",
       "      <th>YEOJA_1</th>\n",
       "      <th>GYE_2</th>\n",
       "      <th>NAMJA_2</th>\n",
       "      <th>YEOJA_2</th>\n",
       "      <th>GYE_3</th>\n",
       "      <th>NAMJA_3</th>\n",
       "      <th>YEOJA_3</th>\n",
       "      <th>SEDAEDANGINGU</th>\n",
       "      <th>N_65SEISANGGORYEONGJA</th>\n",
       "    </tr>\n",
       "  </thead>\n",
       "  <tbody>\n",
       "    <tr>\n",
       "      <th>0</th>\n",
       "      <td>2020.3/4</td>\n",
       "      <td>합계</td>\n",
       "      <td>4,405,833</td>\n",
       "      <td>9,953,009</td>\n",
       "      <td>4,840,912</td>\n",
       "      <td>5,112,097</td>\n",
       "      <td>9,699,232</td>\n",
       "      <td>4,719,170</td>\n",
       "      <td>4,980,062</td>\n",
       "      <td>253,777</td>\n",
       "      <td>121,742</td>\n",
       "      <td>132,035</td>\n",
       "      <td>2.20</td>\n",
       "      <td>1,552,356</td>\n",
       "    </tr>\n",
       "    <tr>\n",
       "      <th>1</th>\n",
       "      <td>2020.3/4</td>\n",
       "      <td>종로구</td>\n",
       "      <td>74,861</td>\n",
       "      <td>159,842</td>\n",
       "      <td>77,391</td>\n",
       "      <td>82,451</td>\n",
       "      <td>149,952</td>\n",
       "      <td>73,024</td>\n",
       "      <td>76,928</td>\n",
       "      <td>9,890</td>\n",
       "      <td>4,367</td>\n",
       "      <td>5,523</td>\n",
       "      <td>2.00</td>\n",
       "      <td>28,396</td>\n",
       "    </tr>\n",
       "    <tr>\n",
       "      <th>2</th>\n",
       "      <td>2020.3/4</td>\n",
       "      <td>중구</td>\n",
       "      <td>63,594</td>\n",
       "      <td>135,321</td>\n",
       "      <td>66,193</td>\n",
       "      <td>69,128</td>\n",
       "      <td>125,800</td>\n",
       "      <td>61,526</td>\n",
       "      <td>64,274</td>\n",
       "      <td>9,521</td>\n",
       "      <td>4,667</td>\n",
       "      <td>4,854</td>\n",
       "      <td>1.98</td>\n",
       "      <td>24,265</td>\n",
       "    </tr>\n",
       "    <tr>\n",
       "      <th>3</th>\n",
       "      <td>2020.3/4</td>\n",
       "      <td>용산구</td>\n",
       "      <td>112,451</td>\n",
       "      <td>244,953</td>\n",
       "      <td>119,074</td>\n",
       "      <td>125,879</td>\n",
       "      <td>229,786</td>\n",
       "      <td>110,604</td>\n",
       "      <td>119,182</td>\n",
       "      <td>15,167</td>\n",
       "      <td>8,470</td>\n",
       "      <td>6,697</td>\n",
       "      <td>2.04</td>\n",
       "      <td>39,995</td>\n",
       "    </tr>\n",
       "    <tr>\n",
       "      <th>4</th>\n",
       "      <td>2020.3/4</td>\n",
       "      <td>성동구</td>\n",
       "      <td>136,096</td>\n",
       "      <td>302,695</td>\n",
       "      <td>147,582</td>\n",
       "      <td>155,113</td>\n",
       "      <td>295,591</td>\n",
       "      <td>144,444</td>\n",
       "      <td>151,147</td>\n",
       "      <td>7,104</td>\n",
       "      <td>3,138</td>\n",
       "      <td>3,966</td>\n",
       "      <td>2.17</td>\n",
       "      <td>45,372</td>\n",
       "    </tr>\n",
       "  </tbody>\n",
       "</table>\n",
       "</div>"
      ]
     },
     "metadata": {},
     "execution_count": 55
    }
   ],
   "metadata": {}
  },
  {
   "cell_type": "code",
   "execution_count": 56,
   "source": [
    "sgg_pop_df.info()\r\n",
    "# Non-Null Count : 결측치가 아닌 수"
   ],
   "outputs": [
    {
     "output_type": "stream",
     "name": "stdout",
     "text": [
      "<class 'pandas.core.frame.DataFrame'>\n",
      "RangeIndex: 26 entries, 0 to 25\n",
      "Data columns (total 14 columns):\n",
      " #   Column                 Non-Null Count  Dtype  \n",
      "---  ------                 --------------  -----  \n",
      " 0   GIGAN                  26 non-null     object \n",
      " 1   JACHIGU                26 non-null     object \n",
      " 2   SEDAE                  26 non-null     object \n",
      " 3   GYE_1                  26 non-null     object \n",
      " 4   NAMJA_1                26 non-null     object \n",
      " 5   YEOJA_1                26 non-null     object \n",
      " 6   GYE_2                  26 non-null     object \n",
      " 7   NAMJA_2                26 non-null     object \n",
      " 8   YEOJA_2                26 non-null     object \n",
      " 9   GYE_3                  26 non-null     object \n",
      " 10  NAMJA_3                26 non-null     object \n",
      " 11  YEOJA_3                26 non-null     object \n",
      " 12  SEDAEDANGINGU          26 non-null     float64\n",
      " 13  N_65SEISANGGORYEONGJA  26 non-null     object \n",
      "dtypes: float64(1), object(13)\n",
      "memory usage: 3.0+ KB\n"
     ]
    }
   ],
   "metadata": {}
  },
  {
   "cell_type": "code",
   "execution_count": 57,
   "source": [
    "sgg_pop_df['JACHIGU']\r\n",
    "\r\n",
    "cond = sgg_pop_df['JACHIGU']!='합계'"
   ],
   "outputs": [],
   "metadata": {}
  },
  {
   "cell_type": "code",
   "execution_count": 58,
   "source": [
    "cond\r\n",
    "sgg_pop_df[cond].head(5)"
   ],
   "outputs": [
    {
     "output_type": "execute_result",
     "data": {
      "text/plain": [
       "      GIGAN JACHIGU    SEDAE    GYE_1  NAMJA_1  YEOJA_1    GYE_2  NAMJA_2  \\\n",
       "1  2020.3/4     종로구   74,861  159,842   77,391   82,451  149,952   73,024   \n",
       "2  2020.3/4      중구   63,594  135,321   66,193   69,128  125,800   61,526   \n",
       "3  2020.3/4     용산구  112,451  244,953  119,074  125,879  229,786  110,604   \n",
       "4  2020.3/4     성동구  136,096  302,695  147,582  155,113  295,591  144,444   \n",
       "5  2020.3/4     광진구  166,857  361,923  174,077  187,846  348,064  168,095   \n",
       "\n",
       "   YEOJA_2   GYE_3 NAMJA_3 YEOJA_3  SEDAEDANGINGU N_65SEISANGGORYEONGJA  \n",
       "1   76,928   9,890   4,367   5,523           2.00                28,396  \n",
       "2   64,274   9,521   4,667   4,854           1.98                24,265  \n",
       "3  119,182  15,167   8,470   6,697           2.04                39,995  \n",
       "4  151,147   7,104   3,138   3,966           2.17                45,372  \n",
       "5  179,969  13,859   5,982   7,877           2.09                50,047  "
      ],
      "text/html": [
       "<div>\n",
       "<style scoped>\n",
       "    .dataframe tbody tr th:only-of-type {\n",
       "        vertical-align: middle;\n",
       "    }\n",
       "\n",
       "    .dataframe tbody tr th {\n",
       "        vertical-align: top;\n",
       "    }\n",
       "\n",
       "    .dataframe thead th {\n",
       "        text-align: right;\n",
       "    }\n",
       "</style>\n",
       "<table border=\"1\" class=\"dataframe\">\n",
       "  <thead>\n",
       "    <tr style=\"text-align: right;\">\n",
       "      <th></th>\n",
       "      <th>GIGAN</th>\n",
       "      <th>JACHIGU</th>\n",
       "      <th>SEDAE</th>\n",
       "      <th>GYE_1</th>\n",
       "      <th>NAMJA_1</th>\n",
       "      <th>YEOJA_1</th>\n",
       "      <th>GYE_2</th>\n",
       "      <th>NAMJA_2</th>\n",
       "      <th>YEOJA_2</th>\n",
       "      <th>GYE_3</th>\n",
       "      <th>NAMJA_3</th>\n",
       "      <th>YEOJA_3</th>\n",
       "      <th>SEDAEDANGINGU</th>\n",
       "      <th>N_65SEISANGGORYEONGJA</th>\n",
       "    </tr>\n",
       "  </thead>\n",
       "  <tbody>\n",
       "    <tr>\n",
       "      <th>1</th>\n",
       "      <td>2020.3/4</td>\n",
       "      <td>종로구</td>\n",
       "      <td>74,861</td>\n",
       "      <td>159,842</td>\n",
       "      <td>77,391</td>\n",
       "      <td>82,451</td>\n",
       "      <td>149,952</td>\n",
       "      <td>73,024</td>\n",
       "      <td>76,928</td>\n",
       "      <td>9,890</td>\n",
       "      <td>4,367</td>\n",
       "      <td>5,523</td>\n",
       "      <td>2.00</td>\n",
       "      <td>28,396</td>\n",
       "    </tr>\n",
       "    <tr>\n",
       "      <th>2</th>\n",
       "      <td>2020.3/4</td>\n",
       "      <td>중구</td>\n",
       "      <td>63,594</td>\n",
       "      <td>135,321</td>\n",
       "      <td>66,193</td>\n",
       "      <td>69,128</td>\n",
       "      <td>125,800</td>\n",
       "      <td>61,526</td>\n",
       "      <td>64,274</td>\n",
       "      <td>9,521</td>\n",
       "      <td>4,667</td>\n",
       "      <td>4,854</td>\n",
       "      <td>1.98</td>\n",
       "      <td>24,265</td>\n",
       "    </tr>\n",
       "    <tr>\n",
       "      <th>3</th>\n",
       "      <td>2020.3/4</td>\n",
       "      <td>용산구</td>\n",
       "      <td>112,451</td>\n",
       "      <td>244,953</td>\n",
       "      <td>119,074</td>\n",
       "      <td>125,879</td>\n",
       "      <td>229,786</td>\n",
       "      <td>110,604</td>\n",
       "      <td>119,182</td>\n",
       "      <td>15,167</td>\n",
       "      <td>8,470</td>\n",
       "      <td>6,697</td>\n",
       "      <td>2.04</td>\n",
       "      <td>39,995</td>\n",
       "    </tr>\n",
       "    <tr>\n",
       "      <th>4</th>\n",
       "      <td>2020.3/4</td>\n",
       "      <td>성동구</td>\n",
       "      <td>136,096</td>\n",
       "      <td>302,695</td>\n",
       "      <td>147,582</td>\n",
       "      <td>155,113</td>\n",
       "      <td>295,591</td>\n",
       "      <td>144,444</td>\n",
       "      <td>151,147</td>\n",
       "      <td>7,104</td>\n",
       "      <td>3,138</td>\n",
       "      <td>3,966</td>\n",
       "      <td>2.17</td>\n",
       "      <td>45,372</td>\n",
       "    </tr>\n",
       "    <tr>\n",
       "      <th>5</th>\n",
       "      <td>2020.3/4</td>\n",
       "      <td>광진구</td>\n",
       "      <td>166,857</td>\n",
       "      <td>361,923</td>\n",
       "      <td>174,077</td>\n",
       "      <td>187,846</td>\n",
       "      <td>348,064</td>\n",
       "      <td>168,095</td>\n",
       "      <td>179,969</td>\n",
       "      <td>13,859</td>\n",
       "      <td>5,982</td>\n",
       "      <td>7,877</td>\n",
       "      <td>2.09</td>\n",
       "      <td>50,047</td>\n",
       "    </tr>\n",
       "  </tbody>\n",
       "</table>\n",
       "</div>"
      ]
     },
     "metadata": {},
     "execution_count": 58
    }
   ],
   "metadata": {}
  },
  {
   "cell_type": "code",
   "execution_count": 73,
   "source": [
    "sgg_pop_df_selected = sgg_pop_df[sgg_pop_df['JACHIGU']!='합계']"
   ],
   "outputs": [],
   "metadata": {}
  },
  {
   "cell_type": "code",
   "execution_count": 60,
   "source": [
    "sgg_pop_df_selected.info()"
   ],
   "outputs": [
    {
     "output_type": "stream",
     "name": "stdout",
     "text": [
      "<class 'pandas.core.frame.DataFrame'>\n",
      "Int64Index: 25 entries, 1 to 25\n",
      "Data columns (total 14 columns):\n",
      " #   Column                 Non-Null Count  Dtype  \n",
      "---  ------                 --------------  -----  \n",
      " 0   GIGAN                  25 non-null     object \n",
      " 1   JACHIGU                25 non-null     object \n",
      " 2   SEDAE                  25 non-null     object \n",
      " 3   GYE_1                  25 non-null     object \n",
      " 4   NAMJA_1                25 non-null     object \n",
      " 5   YEOJA_1                25 non-null     object \n",
      " 6   GYE_2                  25 non-null     object \n",
      " 7   NAMJA_2                25 non-null     object \n",
      " 8   YEOJA_2                25 non-null     object \n",
      " 9   GYE_3                  25 non-null     object \n",
      " 10  NAMJA_3                25 non-null     object \n",
      " 11  YEOJA_3                25 non-null     object \n",
      " 12  SEDAEDANGINGU          25 non-null     float64\n",
      " 13  N_65SEISANGGORYEONGJA  25 non-null     object \n",
      "dtypes: float64(1), object(13)\n",
      "memory usage: 2.9+ KB\n"
     ]
    }
   ],
   "metadata": {}
  },
  {
   "cell_type": "code",
   "execution_count": 74,
   "source": [
    "sgg_pop_df_final = sgg_pop_df_selected[['JACHIGU','GYE_1']]"
   ],
   "outputs": [],
   "metadata": {}
  },
  {
   "cell_type": "code",
   "execution_count": 75,
   "source": [
    "sgg_pop_df_final.columns=['시군구명', '주민등록인구']"
   ],
   "outputs": [],
   "metadata": {}
  },
  {
   "cell_type": "code",
   "execution_count": 76,
   "source": [
    "sgg_pop_df_final.to_excel('sgg_pop.xlsx', index=False)"
   ],
   "outputs": [],
   "metadata": {}
  },
  {
   "cell_type": "code",
   "execution_count": 77,
   "source": [
    "sgg_pop_df_final.head()"
   ],
   "outputs": [
    {
     "output_type": "execute_result",
     "data": {
      "text/plain": [
       "  시군구명   주민등록인구\n",
       "1  종로구  159,842\n",
       "2   중구  135,321\n",
       "3  용산구  244,953\n",
       "4  성동구  302,695\n",
       "5  광진구  361,923"
      ],
      "text/html": [
       "<div>\n",
       "<style scoped>\n",
       "    .dataframe tbody tr th:only-of-type {\n",
       "        vertical-align: middle;\n",
       "    }\n",
       "\n",
       "    .dataframe tbody tr th {\n",
       "        vertical-align: top;\n",
       "    }\n",
       "\n",
       "    .dataframe thead th {\n",
       "        text-align: right;\n",
       "    }\n",
       "</style>\n",
       "<table border=\"1\" class=\"dataframe\">\n",
       "  <thead>\n",
       "    <tr style=\"text-align: right;\">\n",
       "      <th></th>\n",
       "      <th>시군구명</th>\n",
       "      <th>주민등록인구</th>\n",
       "    </tr>\n",
       "  </thead>\n",
       "  <tbody>\n",
       "    <tr>\n",
       "      <th>1</th>\n",
       "      <td>종로구</td>\n",
       "      <td>159,842</td>\n",
       "    </tr>\n",
       "    <tr>\n",
       "      <th>2</th>\n",
       "      <td>중구</td>\n",
       "      <td>135,321</td>\n",
       "    </tr>\n",
       "    <tr>\n",
       "      <th>3</th>\n",
       "      <td>용산구</td>\n",
       "      <td>244,953</td>\n",
       "    </tr>\n",
       "    <tr>\n",
       "      <th>4</th>\n",
       "      <td>성동구</td>\n",
       "      <td>302,695</td>\n",
       "    </tr>\n",
       "    <tr>\n",
       "      <th>5</th>\n",
       "      <td>광진구</td>\n",
       "      <td>361,923</td>\n",
       "    </tr>\n",
       "  </tbody>\n",
       "</table>\n",
       "</div>"
      ]
     },
     "metadata": {},
     "execution_count": 77
    }
   ],
   "metadata": {}
  }
 ],
 "metadata": {
  "orig_nbformat": 4,
  "language_info": {
   "name": "python",
   "version": "3.8.5",
   "mimetype": "text/x-python",
   "codemirror_mode": {
    "name": "ipython",
    "version": 3
   },
   "pygments_lexer": "ipython3",
   "nbconvert_exporter": "python",
   "file_extension": ".py"
  },
  "kernelspec": {
   "name": "python3",
   "display_name": "Python 3.8.5 64-bit ('base': conda)"
  },
  "interpreter": {
   "hash": "b3ba2566441a7c06988d0923437866b63cedc61552a5af99d1f4fb67d367b25f"
  }
 },
 "nbformat": 4,
 "nbformat_minor": 2
}