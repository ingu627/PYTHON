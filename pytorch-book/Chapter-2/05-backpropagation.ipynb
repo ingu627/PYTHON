{
 "cells": [
  {
   "cell_type": "markdown",
   "metadata": {},
   "source": [
    "# 오차역전파\n",
    "\n",
    "> 2.2.6 장에 해당하는 코드"
   ]
  },
  {
   "cell_type": "code",
   "execution_count": 1,
   "metadata": {},
   "outputs": [],
   "source": [
    "import torch\n",
    "import matplotlib.pyplot as plt"
   ]
  },
  {
   "cell_type": "markdown",
   "metadata": {},
   "source": [
    "## 미분 계산하기"
   ]
  },
  {
   "cell_type": "code",
   "execution_count": 2,
   "metadata": {},
   "outputs": [
    {
     "name": "stdout",
     "output_type": "stream",
     "text": [
      "differentiation of x=4.0 is 8.0\n"
     ]
    }
   ],
   "source": [
    "# 코드 2-15\n",
    "\n",
    "def function(x):\n",
    "    \"\"\"원래 함수\"\"\"\n",
    "    return x**2\n",
    "\n",
    "def prime_function(x):\n",
    "    \"\"\"도함수\"\"\"\n",
    "    return 2*x\n",
    "\n",
    "x0 = torch.FloatTensor([4])\n",
    "y0 = prime_function(x0)\n",
    "print(\"differentiation of x={} is {:.1f}\".format(x0.item(), y0.item()))"
   ]
  },
  {
   "cell_type": "markdown",
   "metadata": {},
   "source": [
    "## 매개변수 개수 구하기"
   ]
  },
  {
   "cell_type": "code",
   "execution_count": 3,
   "metadata": {},
   "outputs": [
    {
     "name": "stdout",
     "output_type": "stream",
     "text": [
      "9\n"
     ]
    }
   ],
   "source": [
    "# 코드 2-16\n",
    "\n",
    "import torch.nn as nn\n",
    "\n",
    "torch.manual_seed(70)\n",
    "\n",
    "class Network(nn.Module):\n",
    "    \"\"\"XOR Network\"\"\"\n",
    "    def __init__(self, input_size, hidden_size, output_size):\n",
    "        super(Network, self).__init__()\n",
    "        # 층을 구성\n",
    "        # input layer > hidden layer \n",
    "        self.linear_ih = nn.Linear(in_features=input_size, out_features=hidden_size)\n",
    "        # hidden layer > output layer\n",
    "        self.linear_ho = nn.Linear(in_features=hidden_size, out_features=output_size)\n",
    "        # activation layer\n",
    "        self.activation_layer = nn.Sigmoid()\n",
    "        \n",
    "    def forward(self, x):\n",
    "        z1 = self.linear_ih(x)\n",
    "        a1 = self.activation_layer(z1)\n",
    "        z2 = self.linear_ho(a1)\n",
    "        y = self.activation_layer(z2)\n",
    "        return y\n",
    "\n",
    "net = Network(input_size=2, hidden_size=2, output_size=1)\n",
    "num_params = 0\n",
    "for p in net.parameters():\n",
    "    num_params += p.view(-1).size(0)\n",
    "print(num_params)"
   ]
  },
  {
   "cell_type": "markdown",
   "metadata": {},
   "source": [
    "## 계산그래프\n",
    "\n",
    "### z 함수 순방향 전파"
   ]
  },
  {
   "cell_type": "code",
   "execution_count": 4,
   "metadata": {},
   "outputs": [
    {
     "name": "stdout",
     "output_type": "stream",
     "text": [
      "tensor([16.])\n"
     ]
    }
   ],
   "source": [
    "# 코드 2-17\n",
    "\n",
    "def z_function(t):\n",
    "    return t**2\n",
    "\n",
    "def t_function(x, y):\n",
    "    return x + y\n",
    "\n",
    "def forward(x, y):\n",
    "    t = t_function(x, y)\n",
    "    z = z_function(t)\n",
    "    return z\n",
    "\n",
    "x = torch.Tensor([1])\n",
    "y = torch.Tensor([3])\n",
    "z = forward(x, y)\n",
    "print(z)"
   ]
  },
  {
   "cell_type": "markdown",
   "metadata": {},
   "source": [
    "### z 함수 역방향 전파"
   ]
  },
  {
   "cell_type": "code",
   "execution_count": 5,
   "metadata": {},
   "outputs": [
    {
     "name": "stdout",
     "output_type": "stream",
     "text": [
      "tensor([8.])\n"
     ]
    }
   ],
   "source": [
    "# 코드 2-18\n",
    "\n",
    "def z_prime(t):\n",
    "    \"\"\"dz/dt\"\"\"\n",
    "    return 2*t\n",
    "\n",
    "def t_prime():\n",
    "    \"\"\"dt/dx = dt/dy\"\"\"\n",
    "    return 1\n",
    "\n",
    "def backward(t):\n",
    "    \"\"\"dz/dx\"\"\"\n",
    "    dx = z_prime(t) * t_prime()\n",
    "    return dx\n",
    "\n",
    "x = torch.Tensor([1])\n",
    "y = torch.Tensor([3])\n",
    "t = t_function(x, y)\n",
    "dx = backward(t)\n",
    "print(dx)"
   ]
  },
  {
   "cell_type": "markdown",
   "metadata": {},
   "source": [
    "### 역전파 수행과정"
   ]
  },
  {
   "cell_type": "code",
   "execution_count": 6,
   "metadata": {},
   "outputs": [
    {
     "name": "stdout",
     "output_type": "stream",
     "text": [
      "requires grad: x=True y=False, z=True\n",
      "gradient function of z: <PowBackward0 object at 0x7f1869b0b860>\n",
      "dx = tensor([8.])\n"
     ]
    }
   ],
   "source": [
    "# 코드 2-19\n",
    "\n",
    "x = torch.Tensor([1]).requires_grad_()\n",
    "y = torch.Tensor([3])\n",
    "z = forward(x, y)\n",
    "\n",
    "# gradient가 필요한지 점검\n",
    "print(\"requires grad: x={} y={}, z={}\".format(\n",
    "    x.requires_grad, y.requires_grad, z.requires_grad))\n",
    "print(\"gradient function of z: {}\".format(z.grad_fn))\n",
    "\n",
    "# 역전파 수행 버튼\n",
    "z.backward()\n",
    "print(\"dx = {}\".format(x.grad))"
   ]
  },
  {
   "cell_type": "markdown",
   "metadata": {},
   "source": [
    "# 오차역전파"
   ]
  },
  {
   "cell_type": "code",
   "execution_count": 7,
   "metadata": {},
   "outputs": [
    {
     "name": "stdout",
     "output_type": "stream",
     "text": [
      "0:\t 0.6927\n",
      "1000:\t 0.2574\n",
      "2000:\t 0.0210\n",
      "3000:\t 0.0102\n",
      "4000:\t 0.0067\n",
      "5000:\t 0.0049\n",
      "6000:\t 0.0039\n",
      "7000:\t 0.0032\n",
      "8000:\t 0.0028\n",
      "9000:\t 0.0024\n",
      "10000:\t 0.0021\n",
      "tensor([0, 1, 1, 0], dtype=torch.uint8)\n"
     ]
    }
   ],
   "source": [
    "# 코드 2-20\n",
    "\n",
    "import torch.optim as optim\n",
    "\n",
    "# 입력과 타겟텐서 생성\n",
    "x = torch.Tensor([[0, 0], [0, 1], [1, 0], [1, 1]])\n",
    "t = torch.Tensor([0, 1, 1, 0])\n",
    "\n",
    "# 이전에 만든 XOR 네트워크 정의\n",
    "net = Network(input_size=2, hidden_size=2, output_size=1)\n",
    "\n",
    "# 손실함수 정의\n",
    "loss_function = nn.BCELoss()\n",
    "\n",
    "# 경사하강법 optimizer 정의: 모델의 매개변수를 전달해줘야한다.\n",
    "optimizer = optim.SGD(params=net.parameters(), lr=0.5)\n",
    "\n",
    "# 몇회 학습할지 결정: STEP/EPOCH\n",
    "STEP = 10001\n",
    "\n",
    "# 학습과정\n",
    "for step in range(STEP):\n",
    "    # 경사 초기화\n",
    "    net.zero_grad()\n",
    "    # 순방향 전파\n",
    "    y = net(x)\n",
    "    # 손실값 계산\n",
    "    loss = loss_function(y.squeeze(), t)\n",
    "    # . backward() 함수를 호출하여 역방향 전파\n",
    "    loss.backward()\n",
    "    # .step() 함수를 호출하여 경사하강법으로 매개변수 업데이트\n",
    "    optimizer.step()\n",
    "    if step % 1000 == 0:\n",
    "        print(\"{}:\\t {:.4f}\".format(step, loss.item()))\n",
    "        \n",
    "# 올바른 정답을 출력하는지 테스트한다 \n",
    "pred = net(x).ge(0.5)\n",
    "print(pred.view(-1))"
   ]
  }
 ],
 "metadata": {
  "kernelspec": {
   "display_name": "Python(torchenv)",
   "language": "python",
   "name": "torchenv"
  },
  "language_info": {
   "codemirror_mode": {
    "name": "ipython",
    "version": 3
   },
   "file_extension": ".py",
   "mimetype": "text/x-python",
   "name": "python",
   "nbconvert_exporter": "python",
   "pygments_lexer": "ipython3",
   "version": "3.6.8"
  }
 },
 "nbformat": 4,
 "nbformat_minor": 2
}
