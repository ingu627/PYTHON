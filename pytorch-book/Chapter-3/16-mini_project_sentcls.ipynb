{
 "cells": [
  {
   "cell_type": "markdown",
   "metadata": {},
   "source": [
    "# Mini-Project: 영화 댓글 감성 분류\n",
    "\n",
    "> 3.2.6 장에 해당하는 코드"
   ]
  },
  {
   "cell_type": "markdown",
   "metadata": {},
   "source": [
    "## 패키지 로딩, 데이터 전처리"
   ]
  },
  {
   "cell_type": "code",
   "execution_count": 1,
   "metadata": {},
   "outputs": [
    {
     "name": "stdout",
     "output_type": "stream",
     "text": [
      "Train Data: 150000 / Test Data: 50000\n",
      "Vocab Size: 30046\n"
     ]
    }
   ],
   "source": [
    "# 코드 3-40\n",
    "\n",
    "import torch\n",
    "import torch.nn as nn\n",
    "import torch.optim as optim\n",
    "\n",
    "from torchtext.data import Field, TabularDataset, Iterator\n",
    "from konlpy.tag import Mecab\n",
    "from train_utils_nlp import main\n",
    "\n",
    "# 토큰화 함수로 MeCab 사용\n",
    "tokenizer = Mecab()\n",
    "\n",
    "# 필드 정의\n",
    "TEXT = Field(sequential=True,\n",
    "             use_vocab=True,\n",
    "             tokenize=tokenizer.morphs,  \n",
    "             lower=True, \n",
    "             batch_first=True)  \n",
    "LABEL = Field(sequential=False,  \n",
    "              use_vocab=False,   \n",
    "              preprocessing = lambda x: int(x),\n",
    "              batch_first=True, \n",
    "              is_target=True)\n",
    "\n",
    "# 각 댓글에 해당하는 id, 사용하지 않지만 기본필드로 정의 해준다.\n",
    "ID = Field(sequential=False,  \n",
    "           use_vocab=False,   \n",
    "           is_target=False)\n",
    "\n",
    "# TabularDataset.splits 함수를 사용해 훈련 세트와 테스트 세트를 나눈다.\n",
    "train_data, test_data = TabularDataset.splits(\n",
    "    path='./data/nsmc', format='tsv', \n",
    "    train=\"ratings_train.txt\",\n",
    "    test=\"ratings_test.txt\",\n",
    "    fields=[('id', ID), ('text', TEXT), ('label', LABEL)],\n",
    "    skip_header=True)\n",
    "\n",
    "# 단어장 생성\n",
    "TEXT.build_vocab(train_data, min_freq=2)\n",
    "# 데이터 개수 및 단어장 크기 확인\n",
    "print(\"Train Data: {} / Test Data: {}\".format(len(train_data), len(test_data)))\n",
    "print(\"Vocab Size: {}\".format(len(TEXT.vocab)))\n",
    "\n",
    "# 환경 변수 설정\n",
    "BATCH = 256  # 미니배치크기\n",
    "DEVICE = 'cuda' if torch.cuda.is_available() else 'cpu'  # 디바이스\n",
    "STEP = 10  # 총 반복스텝\n",
    "\n",
    "# 데이터 로더 정의\n",
    "train_loader = Iterator(dataset=train_data, batch_size=BATCH, device=DEVICE)\n",
    "test_loader = Iterator(dataset=test_data, batch_size=BATCH, device=DEVICE)"
   ]
  },
  {
   "cell_type": "markdown",
   "metadata": {},
   "source": [
    "# 영화 댓글 감성 분류 모델"
   ]
  },
  {
   "cell_type": "code",
   "execution_count": 2,
   "metadata": {},
   "outputs": [],
   "source": [
    "# 코드 3-41\n",
    "\n",
    "class SentimentCls(nn.Module):\n",
    "    def __init__(self, vocab_size, embed_size, hidden_size, output_size,\n",
    "                 num_layers=3, batch_first=True, bidirec=True):\n",
    "        super(SentimentCls, self).__init__()\n",
    "        self.hidden_size = hidden_size\n",
    "        self.n_layers = num_layers\n",
    "        self.n_direct = 2 if bidirec else 1\n",
    "        self.embedding_layer = nn.Embedding(vocab_size, embed_size)\n",
    "        self.rnn_layer = nn.LSTM(input_size=embed_size,\n",
    "                                 hidden_size=hidden_size,\n",
    "                                 num_layers=num_layers,\n",
    "                                 batch_first=batch_first,\n",
    "                                 bidirectional=bidirec)\n",
    "        self.linear = nn.Linear(self.n_direct*hidden_size, output_size)\n",
    "\n",
    "    def forward(self, x):\n",
    "        embeded = self.embedding_layer(x)\n",
    "        hidden, cell = self.init_hiddens(x.size(0), self.hidden_size, device=x.device)\n",
    "        output, (hidden, cell) = self.rnn_layer(embeded, (hidden, cell))\n",
    "        last_hidden = torch.cat([h for h in hidden[-self.n_direct:]], dim=1)\n",
    "        scores = self.linear(last_hidden)\n",
    "        return scores.view(-1)\n",
    "    \n",
    "    def init_hiddens(self, batch_size, hidden_size, device):\n",
    "        hidden = torch.zeros(self.n_direct*self.n_layers, batch_size, hidden_size)\n",
    "        cell = torch.zeros(self.n_direct*self.n_layers, batch_size, hidden_size)\n",
    "        return hidden.to(device), cell.to(device)"
   ]
  },
  {
   "cell_type": "markdown",
   "metadata": {},
   "source": [
    "## 모델, 손실함수 및 옵티마이저 선언"
   ]
  },
  {
   "cell_type": "code",
   "execution_count": 3,
   "metadata": {},
   "outputs": [
    {
     "name": "stdout",
     "output_type": "stream",
     "text": [
      "Total number of parameters: 7790849\n"
     ]
    }
   ],
   "source": [
    "# 코드 3-42\n",
    "\n",
    "# 모델 선언에 필요한 인자 설정\n",
    "vocab_size = len(TEXT.vocab)  # V: 단어장 크기\n",
    "embed_size = 128  # E: 임베딩 크기\n",
    "hidden_size = 256  # D: 은닉층 크기\n",
    "output_size = 1  # 출력층 크기\n",
    "num_layers = 3  # RNN 층의 개수\n",
    "batch_first = True  # RNN 입력의 첫번째 차원이 미니배치 크기인 경우 활성화\n",
    "bidirec = True  # 양방향 순환 신경망 사용 여부\n",
    "\n",
    "# 모델 선언\n",
    "model = SentimentCls(vocab_size, embed_size, hidden_size, output_size,\n",
    "                     num_layers, batch_first, bidirec).to(DEVICE)\n",
    "# 매개변수 개수 확인하기\n",
    "num_params = 0\n",
    "for params in model.parameters():\n",
    "    num_params += params.view(-1).size(0)\n",
    "print(\"Total number of parameters: {}\".format(num_params))\n",
    "\n",
    "# 손실함수와 옵티마이저 선언\n",
    "loss_function = nn.BCEWithLogitsLoss()\n",
    "optimizer = optim.Adam(model.parameters())"
   ]
  },
  {
   "cell_type": "markdown",
   "metadata": {},
   "source": [
    "## 학습 및 테스트"
   ]
  },
  {
   "cell_type": "code",
   "execution_count": 4,
   "metadata": {},
   "outputs": [
    {
     "name": "stdout",
     "output_type": "stream",
     "text": [
      "Train Step: 1 (00.00%)  \tLoss: 0.6912\n",
      "Train Step: 1 (43.69%)  \tLoss: 0.4037\n",
      "Train Step: 1 (87.38%)  \tLoss: 0.3505\n",
      "Test set: Average loss: 0.3567, Accuracy: 41889/50000 (83.78%)\n",
      "\n",
      "Train Step: 2 (00.00%)  \tLoss: 0.3177\n",
      "Train Step: 2 (43.69%)  \tLoss: 0.3178\n",
      "Train Step: 2 (87.38%)  \tLoss: 0.3586\n",
      "Test set: Average loss: 0.3175, Accuracy: 43033/50000 (86.07%)\n",
      "discard previous state, best model state saved!\n",
      "\n",
      "Train Step: 3 (00.00%)  \tLoss: 0.2356\n",
      "Train Step: 3 (43.69%)  \tLoss: 0.2237\n",
      "Train Step: 3 (87.38%)  \tLoss: 0.3137\n",
      "Test set: Average loss: 0.3110, Accuracy: 43310/50000 (86.62%)\n",
      "discard previous state, best model state saved!\n",
      "\n",
      "Train Step: 4 (00.00%)  \tLoss: 0.2397\n",
      "Train Step: 4 (43.69%)  \tLoss: 0.2003\n",
      "Train Step: 4 (87.38%)  \tLoss: 0.1971\n",
      "Test set: Average loss: 0.3284, Accuracy: 43409/50000 (86.82%)\n",
      "discard previous state, best model state saved!\n",
      "\n",
      "Train Step: 5 (00.00%)  \tLoss: 0.1402\n",
      "Train Step: 5 (43.69%)  \tLoss: 0.1344\n",
      "Train Step: 5 (87.38%)  \tLoss: 0.1412\n",
      "Test set: Average loss: 0.3626, Accuracy: 43374/50000 (86.75%)\n",
      "\n",
      "Train Step: 6 (00.00%)  \tLoss: 0.1327\n",
      "Train Step: 6 (43.69%)  \tLoss: 0.1162\n",
      "Train Step: 6 (87.38%)  \tLoss: 0.1426\n",
      "Test set: Average loss: 0.3978, Accuracy: 43120/50000 (86.24%)\n",
      "\n",
      "Train Step: 7 (00.00%)  \tLoss: 0.1034\n",
      "Train Step: 7 (43.69%)  \tLoss: 0.0634\n",
      "Train Step: 7 (87.38%)  \tLoss: 0.1081\n",
      "Test set: Average loss: 0.4816, Accuracy: 43121/50000 (86.24%)\n",
      "\n",
      "Train Step: 8 (00.00%)  \tLoss: 0.0626\n",
      "Train Step: 8 (43.69%)  \tLoss: 0.0691\n",
      "Train Step: 8 (87.38%)  \tLoss: 0.0563\n",
      "Test set: Average loss: 0.5416, Accuracy: 43194/50000 (86.39%)\n",
      "\n",
      "Train Step: 9 (00.00%)  \tLoss: 0.0222\n",
      "Train Step: 9 (43.69%)  \tLoss: 0.0491\n",
      "Train Step: 9 (87.38%)  \tLoss: 0.0732\n",
      "Test set: Average loss: 0.6066, Accuracy: 42914/50000 (85.83%)\n",
      "\n",
      "Train Step: 10 (00.00%)  \tLoss: 0.0173\n",
      "Train Step: 10 (43.69%)  \tLoss: 0.0180\n",
      "Train Step: 10 (87.38%)  \tLoss: 0.0493\n",
      "Test set: Average loss: 0.6876, Accuracy: 43035/50000 (86.07%)\n",
      "\n"
     ]
    }
   ],
   "source": [
    "# 코드 3-43\n",
    "\n",
    "# 모델 훈련\n",
    "main(model=model,\n",
    "     train_loader=train_loader,\n",
    "     test_loader=test_loader,\n",
    "     loss_func=loss_function, \n",
    "     optimizer=optimizer, \n",
    "     n_step=STEP,\n",
    "     save_path=\"./sent_cls.pt\",\n",
    "     print_step=256)"
   ]
  },
  {
   "cell_type": "markdown",
   "metadata": {},
   "source": [
    "## 실제 댓글로 테스트 해보기"
   ]
  },
  {
   "cell_type": "code",
   "execution_count": 1,
   "metadata": {},
   "outputs": [
    {
     "name": "stdout",
     "output_type": "stream",
     "text": [
      "Load Complete!\n"
     ]
    },
    {
     "name": "stdin",
     "output_type": "stream",
     "text": [
      "테스트할 댓글 작성:  이 영화 정말 재밌어요 ㅋㅋㅋ\n"
     ]
    },
    {
     "name": "stdout",
     "output_type": "stream",
     "text": [
      "---결과---\n",
      "긍정\n"
     ]
    }
   ],
   "source": [
    "import torch\n",
    "import torch.nn as nn\n",
    "from senti_cls import SentimentCls\n",
    "from torchtext.data import Field, TabularDataset, Iterator\n",
    "from konlpy.tag import Mecab\n",
    "\n",
    "## 전처리\n",
    "# 토큰화 함수로 MeCab 사용\n",
    "tokenizer = Mecab()\n",
    "\n",
    "# 필드 정의\n",
    "TEXT = Field(sequential=True,\n",
    "             use_vocab=True,\n",
    "             tokenize=tokenizer.morphs,  \n",
    "             lower=True, \n",
    "             batch_first=True)  \n",
    "LABEL = Field(sequential=False,  \n",
    "              use_vocab=False,   \n",
    "              preprocessing = lambda x: int(x),\n",
    "              batch_first=True, \n",
    "              is_target=True)\n",
    "\n",
    "# 각 댓글에 해당하는 id, 사용하지 않지만 기본필드로 정의 해준다.\n",
    "ID = Field(sequential=False,  \n",
    "           use_vocab=False,   \n",
    "           is_target=False)\n",
    "\n",
    "# TabularDataset.splits 함수를 사용해 훈련 세트와 테스트 세트를 나눈다.\n",
    "train_data, test_data = TabularDataset.splits(\n",
    "    path='./data/nsmc', format='tsv', \n",
    "    train=\"ratings_train.txt\",\n",
    "    test=\"ratings_test.txt\",\n",
    "    fields=[('id', ID), ('text', TEXT), ('label', LABEL)],\n",
    "    skip_header=True)\n",
    "\n",
    "# 단어장 생성\n",
    "TEXT.build_vocab(train_data, min_freq=2)\n",
    "\n",
    "## 모델 불러오기\n",
    "# 모델 선언에 필요한 인자 설정\n",
    "vocab_size = len(TEXT.vocab)  # V: 단어장 크기\n",
    "embed_size = 128  # E: 임베딩 크기\n",
    "hidden_size = 256  # D: 은닉층 크기\n",
    "output_size = 1  # 출력층 크기\n",
    "num_layers = 3  # RNN 층의 개수\n",
    "batch_first = True  # RNN 입력의 첫번째 차원이 미니배치 크기인 경우 활성화\n",
    "bidirec = True  # 양방향 순환 신경망 사용 여부\n",
    "DEVICE = 'cuda' if torch.cuda.is_available() else 'cpu'  # 디바이스\n",
    "\n",
    "# 모델 선언 및 불러오기\n",
    "model = SentimentCls(vocab_size, embed_size, hidden_size, output_size,\n",
    "                     num_layers, batch_first, bidirec).to(DEVICE)\n",
    "model.load_state_dict(torch.load(\"./sent_cls.pt\"))\n",
    "print(\"Load Complete!\")\n",
    "\n",
    "# 실제 테스트\n",
    "def test_input(model, field, tokenizer, device):\n",
    "    sentence = input(\"테스트할 댓글 작성: \")\n",
    "    x = field.process([tokenizer.morphs(sentence)]).to(device)\n",
    "    output = model(x)\n",
    "    pred = torch.sigmoid(output).ge(0.5).item()\n",
    "    print(\"---결과---\")\n",
    "    if pred == 1:\n",
    "        print(\"긍정\")\n",
    "    else:\n",
    "        print(\"부정\")\n",
    "        \n",
    "test_input(model, field=TEXT, tokenizer=tokenizer, device=DEVICE)"
   ]
  }
 ],
 "metadata": {
  "kernelspec": {
   "display_name": "Python(torchenv)",
   "language": "python",
   "name": "torchenv"
  },
  "language_info": {
   "codemirror_mode": {
    "name": "ipython",
    "version": 3
   },
   "file_extension": ".py",
   "mimetype": "text/x-python",
   "name": "python",
   "nbconvert_exporter": "python",
   "pygments_lexer": "ipython3",
   "version": "3.6.8"
  }
 },
 "nbformat": 4,
 "nbformat_minor": 2
}
