{
 "cells": [
  {
   "cell_type": "markdown",
   "metadata": {},
   "source": [
    "# Deep RNN 과 Bidirectional RNN\n",
    "\n",
    "> 3.2.5 장에 해당하는 코드"
   ]
  },
  {
   "cell_type": "markdown",
   "metadata": {},
   "source": [
    "## Stacked RNN"
   ]
  },
  {
   "cell_type": "code",
   "execution_count": 1,
   "metadata": {},
   "outputs": [
    {
     "name": "stdout",
     "output_type": "stream",
     "text": [
      "RNN(5, 4, num_layers=3, batch_first=True)\n",
      "Output Size torch.Size([4, 7, 4])\n",
      "Hidden Size torch.Size([3, 4, 4])\n",
      "output[:, -1, :] == hidden[-1]? True\n"
     ]
    }
   ],
   "source": [
    "# 코드 3-38\n",
    "\n",
    "import torch\n",
    "import torch.nn as nn\n",
    "\n",
    "def is_equal(x, y):\n",
    "    \"\"\"두 텐서가 일치하는지 확인하는 함수\"\"\"\n",
    "    return bool(x.eq(y).eq(0).sum() == 0)\n",
    "\n",
    "# T: 시퀀스 총 길이\n",
    "# B: 미니배치 크기\n",
    "# E: RNN의 입력층 크기 \n",
    "# D: RNN 은닉층 크기\n",
    "# K: RNN 층의 개수(은닉층 깊이)\n",
    "\n",
    "# 입력크기 (B, T, E) = (4, 7, 5)\n",
    "sample_input = torch.randn(4, 7, 5)\n",
    "\n",
    "# 층이 3개인 Stacked RNN 정의\n",
    "rnn_layer = nn.RNN(input_size=5, \n",
    "                   hidden_size=4, \n",
    "                   num_layers=3,\n",
    "                   batch_first=True)\n",
    "print(rnn_layer)\n",
    "\n",
    "output, hidden = rnn_layer(sample_input)\n",
    "# output 크기: (B, T, D)\n",
    "print(\"Output Size {}\".format(output.size()))\n",
    "# hidden 크기: (K, B, D)\n",
    "print(\"Hidden Size {}\".format(hidden.size()))\n",
    "\n",
    "# 마지막 타임스텝의 K층 출력값(output[:, -1, :])과 \n",
    "# 은닉층의 마지막 층 값(hidden[-1])이 일치하는지 확인\n",
    "print(\"output[:, -1, :] == hidden[-1]? {}\".format(\n",
    "    is_equal(output[:, -1, :], hidden[-1])))"
   ]
  },
  {
   "cell_type": "markdown",
   "metadata": {},
   "source": [
    "## Bidirectional RNN"
   ]
  },
  {
   "cell_type": "code",
   "execution_count": 2,
   "metadata": {},
   "outputs": [
    {
     "name": "stdout",
     "output_type": "stream",
     "text": [
      "RNN(5, 4, num_layers=3, batch_first=True, bidirectional=True)\n",
      "Output Size torch.Size([4, 7, 8])\n",
      "Hidden Size torch.Size([6, 4, 4])\n",
      "output[0, -1, :-4] == hidden[-2, 0, :]? True\n",
      "output[0, 0, -4:] == hidden[-1, 0, :]? True\n"
     ]
    }
   ],
   "source": [
    "# 코드 3-39\n",
    "\n",
    "import torch\n",
    "import torch.nn as nn\n",
    "\n",
    "def is_equal(x, y):\n",
    "    \"\"\"두 텐서가 일치하는지 확인하는 함수\"\"\"\n",
    "    return bool(x.eq(y).eq(0).sum() == 0)\n",
    "\n",
    "# T: 시퀀스 총 길이\n",
    "# B: 미니배치 크기\n",
    "# E: RNN의 입력층 크기 \n",
    "# D: RNN 은닉층 크기\n",
    "# K: RNN 층의 개수(은닉층 깊이)\n",
    "\n",
    "# 입력크기 (B, T, E) = (4, 7, 5)\n",
    "sample_input = torch.randn(4, 7, 5)\n",
    "\n",
    "# 층이 3개인 Bidirectional RNN 정의\n",
    "rnn_layer = nn.RNN(input_size=5, \n",
    "                   hidden_size=4, \n",
    "                   num_layers=3,\n",
    "                   batch_first=True,\n",
    "                   bidirectional=True)\n",
    "print(rnn_layer)\n",
    "\n",
    "output, hidden = rnn_layer(sample_input)\n",
    "# output 크기: (B, T, 2*D)\n",
    "print(\"Output Size {}\".format(output.size()))\n",
    "# hidden 크기: (2*K, B, D)\n",
    "print(\"Hidden Size {}\".format(hidden.size()))\n",
    "\n",
    "# 첫번째 미니배치에서, output의 마지막 타임스텝의 정방향 은닉값과 \n",
    "# hidden의 마지막층 정방향 은닉값이 일치하는 지 확인\n",
    "print(\"output[0, -1, :-4] == hidden[-2, 0, :]? {}\".format(\n",
    "    is_equal(output[0, -1, :-4], hidden[-2, 0, :])))\n",
    "\n",
    "# 첫번째 미니배치에서, output의 첫번째 타임스텝의 역방향 은닉값과 \n",
    "# hidden의 마지막층 역방향 은닉값이 일치하는 지 확인\n",
    "print(\"output[0, 0, -4:] == hidden[-1, 0, :]? {}\".format(\n",
    "    is_equal(output[0, 0, -4:], hidden[-1, 0, :])))"
   ]
  }
 ],
 "metadata": {
  "kernelspec": {
   "display_name": "Python(torchenv)",
   "language": "python",
   "name": "torchenv"
  },
  "language_info": {
   "codemirror_mode": {
    "name": "ipython",
    "version": 3
   },
   "file_extension": ".py",
   "mimetype": "text/x-python",
   "name": "python",
   "nbconvert_exporter": "python",
   "pygments_lexer": "ipython3",
   "version": "3.6.8"
  }
 },
 "nbformat": 4,
 "nbformat_minor": 2
}
