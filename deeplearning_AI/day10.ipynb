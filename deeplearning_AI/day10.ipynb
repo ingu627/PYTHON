{
 "metadata": {
  "language_info": {
   "codemirror_mode": {
    "name": "ipython",
    "version": 3
   },
   "file_extension": ".py",
   "mimetype": "text/x-python",
   "name": "python",
   "nbconvert_exporter": "python",
   "pygments_lexer": "ipython3",
   "version": "3.8.5"
  },
  "orig_nbformat": 4,
  "kernelspec": {
   "name": "python3",
   "display_name": "Python 3.8.5 64-bit ('base': conda)"
  },
  "interpreter": {
   "hash": "b3ba2566441a7c06988d0923437866b63cedc61552a5af99d1f4fb67d367b25f"
  }
 },
 "nbformat": 4,
 "nbformat_minor": 2,
 "cells": [
  {
   "cell_type": "code",
   "execution_count": 1,
   "metadata": {},
   "outputs": [],
   "source": [
    "import re"
   ]
  },
  {
   "cell_type": "code",
   "execution_count": 5,
   "metadata": {},
   "outputs": [
    {
     "output_type": "execute_result",
     "data": {
      "text/plain": [
       "<re.Match object; span=(0, 3), match='a,b'>"
      ]
     },
     "metadata": {},
     "execution_count": 5
    }
   ],
   "source": [
    "# Dot(.) : 모든 문자와 매치가 됨(단, \\n은 제외)\n",
    "re.match('ab','abc')\n",
    "re.match('a.b', 'abc')\n",
    "re.match('a.b', 'acbc')\n",
    "re.match('a.b', 'accbc')\n",
    "\n",
    "#[.] : 반드시 점이 있어야 함\n",
    "re.match('a[.]b', 'a.b')\n",
    "re.match('a[.,]b', 'a,b') # [ ]는 안에 중 어느 하나가 온다. 하나만 쓰면 그것만 반드시 나와야 함\n"
   ]
  },
  {
   "cell_type": "code",
   "execution_count": 6,
   "metadata": {},
   "outputs": [
    {
     "output_type": "execute_result",
     "data": {
      "text/plain": [
       "<re.Match object; span=(0, 4), match='a..b'>"
      ]
     },
     "metadata": {},
     "execution_count": 6
    }
   ],
   "source": [
    "re.match('a[.][.]b', 'a..b')"
   ]
  },
  {
   "cell_type": "code",
   "execution_count": 12,
   "metadata": {},
   "outputs": [],
   "source": [
    "# 문자{숫자}: 반드시 숫자만큼 왼쪽에 있는 문자가 반복되어야 함\n",
    "re.match('do{2}g', 'dog') # o라는 문자가 2번반복\n",
    "re.match('do{2}g', 'doog')\n",
    "re.match('do{2}g', 'dooog')\n",
    "\n",
    "# 문자{숫자1,숫자2}: 반드시 숫자1 이상 숫자2 이하만큼 왼쪽에 있는 문자가 반복되어야 함\n",
    "re.match('do{2,5}g', 'doog')\n",
    "\n",
    "re.match('do{2,5}g', 'doooooog')\n"
   ]
  },
  {
   "cell_type": "code",
   "execution_count": 14,
   "metadata": {},
   "outputs": [],
   "source": [
    "# ? == {0,1} : 0번이상 1번이하 \n",
    "\n",
    "# * == {0, 무한대}\n",
    "\n",
    "# + == {1, 무한대}"
   ]
  },
  {
   "cell_type": "code",
   "execution_count": 18,
   "metadata": {},
   "outputs": [],
   "source": [
    "re.match('do?g', 'dog')\n",
    "re.match('do?g', 'dg')\n",
    "re.match('do?g', 'doog')"
   ]
  },
  {
   "cell_type": "code",
   "execution_count": 22,
   "metadata": {},
   "outputs": [
    {
     "output_type": "execute_result",
     "data": {
      "text/plain": [
       "['How', 'are', 'you?']"
      ]
     },
     "metadata": {},
     "execution_count": 22
    }
   ],
   "source": [
    "s='How are you?'\n",
    "\n",
    "re.findall('[\\w?*]+', s)"
   ]
  },
  {
   "cell_type": "code",
   "execution_count": 24,
   "metadata": {},
   "outputs": [
    {
     "output_type": "execute_result",
     "data": {
      "text/plain": [
       "<re.Match object; span=(0, 6), match='python'>"
      ]
     },
     "metadata": {},
     "execution_count": 24
    }
   ],
   "source": [
    "# re.match('패턴식', '문자열')\n",
    "\n",
    "pat=re.compile('[a-z]+')\n",
    "res=pat.match('python')\n",
    "res"
   ]
  },
  {
   "cell_type": "code",
   "execution_count": 31,
   "metadata": {},
   "outputs": [
    {
     "output_type": "execute_result",
     "data": {
      "text/plain": [
       "<re.Match object; span=(4, 10), match='python'>"
      ]
     },
     "metadata": {},
     "execution_count": 31
    }
   ],
   "source": [
    "# re.match('패턴식', '문자열')\n",
    "\n",
    "pat=re.compile('[a-z]+')\n",
    "res=pat.search('100 python')\n",
    "res"
   ]
  },
  {
   "cell_type": "code",
   "execution_count": 32,
   "metadata": {},
   "outputs": [
    {
     "output_type": "execute_result",
     "data": {
      "text/plain": [
       "(4, 10)"
      ]
     },
     "metadata": {},
     "execution_count": 32
    }
   ],
   "source": [
    "res.group() # 매치된 문자열을 출력\n",
    "len(res.group())\n",
    "res.start() # 매치된 문자열의 시작위치\n",
    "res.end() # 매치된 문자열의 끝위치\n",
    "res.span() #매치된 문자열의 (시작, 끝)위치 리턴\n",
    "\n"
   ]
  },
  {
   "cell_type": "code",
   "execution_count": 53,
   "metadata": {},
   "outputs": [
    {
     "output_type": "execute_result",
     "data": {
      "text/plain": [
       "<re.Match object; span=(0, 1), match='\\\\'>"
      ]
     },
     "metadata": {},
     "execution_count": 53
    }
   ],
   "source": [
    "# pat=re.compile('[a-z]+\\\\')\n",
    "# pat.search('test\\\\')\n",
    "\n",
    "re.match('\\\\\\\\','\\\\\\test')"
   ]
  },
  {
   "cell_type": "code",
   "execution_count": 64,
   "metadata": {},
   "outputs": [
    {
     "output_type": "execute_result",
     "data": {
      "text/plain": [
       "'100 200'"
      ]
     },
     "metadata": {},
     "execution_count": 64
    }
   ],
   "source": [
    "res=re.match('([0-9]+) ([0-9]+)','100 200')\n",
    "res\n",
    "res.group(1)\n",
    "res.group(2)\n",
    "res.group() # == res.group(0)\n",
    "\n"
   ]
  },
  {
   "cell_type": "code",
   "execution_count": 71,
   "metadata": {},
   "outputs": [
    {
     "output_type": "execute_result",
     "data": {
      "text/plain": [
       "'200'"
      ]
     },
     "metadata": {},
     "execution_count": 71
    }
   ],
   "source": [
    "res=re.match('(?P<first>[0-9]+) (?P<second>[0-9]+)','100 200') \n",
    "# ?P<그룹명>\n",
    "res.group(1)\n",
    "res.group('first')\n",
    "res.group(2)\n",
    "res.group('second')"
   ]
  },
  {
   "cell_type": "code",
   "execution_count": 73,
   "metadata": {},
   "outputs": [
    {
     "output_type": "execute_result",
     "data": {
      "text/plain": [
       "'한국은 한국(한국)입니다.'"
      ]
     },
     "metadata": {},
     "execution_count": 73
    }
   ],
   "source": [
    "# 동의어 처리\n",
    "# re.sub('정규식', '바꿀문자열', '문자열')\n",
    "# 문자열이 정규식에 매칭되면 바꿀문자열로 변경하시오.\n",
    "\n",
    "re.sub('대한민국|코리아|Korea', '한국', '대한민국은 코리아(Korea)입니다.')"
   ]
  },
  {
   "cell_type": "code",
   "execution_count": 75,
   "metadata": {},
   "outputs": [],
   "source": [
    "#다의어 처리???\n",
    "#배 -타는, 먹는, 신체...\n",
    "\n",
    "# 배를 타고 가는 길에 배를 많이 먹었더니 배가 아프다. 나는 다른 거를 타겠다. 내 배는 똥배가 나왔다.\n",
    "\n",
    "# 철수와 영희는 만나서 공부를 하였다. (그/그녀)는 영희와 도서관에 갔다"
   ]
  },
  {
   "cell_type": "code",
   "execution_count": 77,
   "metadata": {},
   "outputs": [
    {
     "output_type": "execute_result",
     "data": {
      "text/plain": [
       "<re.Match object; span=(0, 9), match='가나다가나다가나다'>"
      ]
     },
     "metadata": {},
     "execution_count": 77
    }
   ],
   "source": [
    "re.match('(가나다)+', '가나다가나다가나다라마바') #전체가 하나로 묶여서 몇번 반복되는지 보고 싶다. ( )를 묶는다."
   ]
  },
  {
   "cell_type": "code",
   "execution_count": 81,
   "metadata": {},
   "outputs": [],
   "source": [
    "#       a[.]{3,}b 패턴식\n",
    "re.match('a[.]{3,}b', 'accb')\n",
    "re.match('a[.]{3,}b', 'a........b')\n",
    "re.match('a[.]{3,}b', 'aaab')\n",
    "re.match('a[.]{3,}b', 'a.ccccb')"
   ]
  },
  {
   "cell_type": "code",
   "execution_count": 101,
   "metadata": {},
   "outputs": [
    {
     "output_type": "execute_result",
     "data": {
      "text/plain": [
       "'\\nkim 010-1111-####\\nlee 010-1111-####\\npark 010-1111-####\\n'"
      ]
     },
     "metadata": {},
     "execution_count": 101
    }
   ],
   "source": [
    "s='''\n",
    "kim 010-1111-2222\n",
    "lee 010-1111-3333\n",
    "park 010-1111-1111\n",
    "'''\n",
    "#4자리 전화번호를 #기호로 모두 변경\n",
    "pat=re.compile('(\\d{3}[-]\\d{4})[-]\\d{4}')\n",
    "pat.sub('\\g<1>-####' ,s) #\\g<1> 그룹 첫번째를 의미\n",
    "\n",
    "#or\n",
    "re.sub('(\\d{3}[-]\\d{4})[-]\\d{4}', '\\g<1>-####',s)\n",
    "\n",
    "\n"
   ]
  },
  {
   "cell_type": "code",
   "execution_count": null,
   "metadata": {},
   "outputs": [],
   "source": [
    "#전화번호 추출 \n",
    "#문의 전화는 02-123-4567으로 연락주세요 \n",
    "#문의 전화는 02-1234-4567으로 연락주세요 \n",
    "#문의 전화는 032-1234-4567으로 연락주세요 \n",
    "#지역번호 2 or 3, 국번호 3 or 4자리, 전화번호 4자리 패턴식 정의\n",
    "\n"
   ]
  },
  {
   "cell_type": "code",
   "execution_count": 103,
   "metadata": {},
   "outputs": [],
   "source": [
    "전화번호 = '02-123-4567'\n",
    "\n",
    "re.match('\\d{2,3}[-]\\d{3,4}[-]\\d{4}', '전화번호')"
   ]
  },
  {
   "cell_type": "code",
   "execution_count": 106,
   "metadata": {},
   "outputs": [
    {
     "output_type": "execute_result",
     "data": {
      "text/plain": [
       "<re.Match object; span=(0, 1), match='\\\\'>"
      ]
     },
     "metadata": {},
     "execution_count": 106
    }
   ],
   "source": [
    "re.match('\\\\\\\\', '\\\\문자열') #문자열에 \\가 왔을때, \\를 인식"
   ]
  },
  {
   "cell_type": "code",
   "execution_count": 2,
   "metadata": {},
   "outputs": [
    {
     "output_type": "execute_result",
     "data": {
      "text/plain": [
       "False"
      ]
     },
     "metadata": {},
     "execution_count": 2
    }
   ],
   "source": [
    "bool(0.0)"
   ]
  }
 ]
}