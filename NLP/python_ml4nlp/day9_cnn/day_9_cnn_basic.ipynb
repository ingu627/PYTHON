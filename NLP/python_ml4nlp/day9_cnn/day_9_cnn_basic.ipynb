{
 "cells": [
  {
   "cell_type": "code",
   "execution_count": 1,
   "metadata": {},
   "outputs": [
    {
     "name": "stdout",
     "output_type": "stream",
     "text": [
      "1.0.1.post2\n"
     ]
    }
   ],
   "source": [
    "import numpy as np\n",
    "import torch\n",
    "import torch.nn as nn\n",
    "\n",
    "print(torch.__version__)"
   ]
  },
  {
   "cell_type": "markdown",
   "metadata": {},
   "source": [
    "앞서 연습한 Embedding layer 를 다시 만듭니다."
   ]
  },
  {
   "cell_type": "code",
   "execution_count": 2,
   "metadata": {},
   "outputs": [
    {
     "data": {
      "text/plain": [
       "tensor([[0.5266, 0.2686, 0.8542],\n",
       "        [0.0038, 0.7054, 0.4519],\n",
       "        [0.2445, 0.2388, 0.7067],\n",
       "        [0.1246, 0.1595, 0.1162],\n",
       "        [0.7820, 0.4416, 0.5663]])"
      ]
     },
     "execution_count": 2,
     "metadata": {},
     "output_type": "execute_result"
    }
   ],
   "source": [
    "n_vocabs = 5\n",
    "embed_dim = 3\n",
    "\n",
    "embed_np = np.random.random_sample((n_vocabs, embed_dim))\n",
    "\n",
    "embed = nn.Embedding(\n",
    "    num_embeddings = n_vocabs,\n",
    "    embedding_dim = embed_dim\n",
    ")\n",
    "\n",
    "embed.weight.data.copy_(torch.from_numpy(embed_np))"
   ]
  },
  {
   "cell_type": "markdown",
   "metadata": {},
   "source": [
    "## Apply convolution\n",
    "\n",
    "Embedding layer 를 다루는 방법을 익혔으니, Convolution layer 를 다루는 법도 연습합니다.\n",
    "\n",
    "torch.nn.Conv2d 는 세 가지 argument 를 반드시 확인해야 합니다.\n",
    "\n",
    "    in_channels : 입력되는 데이터의 channel 개수\n",
    "    out_channels : 출력되는 결과의 channel 개수 (filter 의 개수)\n",
    "    kernel_size : Convolution filter 의 크기. \n",
    "\n",
    "우리는 word - level CNN 모델을 위한 convolution layer 를 만들어봅니다. Sentence image 의 channel 의 개수가 1 개 이기 때문에 in channels 는 1 개 입니다. out channels = 2 로 지정하였기 때문에 같은 크기의 2 개의 필터가 만들어집니다.\n",
    "\n",
    "kernel_size 는 (2, embedding dimension) 으로 설정하였습니다. Bigram word vector 를 확인하는 filter 가 됩니다."
   ]
  },
  {
   "cell_type": "code",
   "execution_count": 3,
   "metadata": {},
   "outputs": [],
   "source": [
    "conv = nn.Conv2d(\n",
    "    in_channels=1,\n",
    "    out_channels=2,\n",
    "    kernel_size=(2, embed_dim),\n",
    "    bias=False\n",
    ")"
   ]
  },
  {
   "cell_type": "markdown",
   "metadata": {},
   "source": [
    "torch.nn.Conv2d 를 print 하면 현재 만들어진 Convolution layer 의 구조가 출력됩니다. 아래에서 볼 수 있듯이 우리는 row, column 방향의 stride 도 조절할 수 있습니다. Default 는 모두 한칸씩 이동합니다. 우리가 kernel_size 의 column size 를 word vector dimension 으로 만들었기 때문에 열을 따라서 stride 는 일어나지 않습니다."
   ]
  },
  {
   "cell_type": "code",
   "execution_count": 4,
   "metadata": {},
   "outputs": [
    {
     "data": {
      "text/plain": [
       "Conv2d(1, 2, kernel_size=(2, 3), stride=(1, 1))"
      ]
     },
     "execution_count": 4,
     "metadata": {},
     "output_type": "execute_result"
    }
   ],
   "source": [
    "nn.Conv2d(1, 2, kernel_size=(2, embed_dim), stride=(1, 1))"
   ]
  },
  {
   "cell_type": "markdown",
   "metadata": {},
   "source": [
    "kernel_size 를 int 로 입력하면 square 형태의 kernel 이 만들어집니다."
   ]
  },
  {
   "cell_type": "code",
   "execution_count": 5,
   "metadata": {},
   "outputs": [
    {
     "data": {
      "text/plain": [
       "Conv2d(1, 2, kernel_size=(2, 2), stride=(1, 1))"
      ]
     },
     "execution_count": 5,
     "metadata": {},
     "output_type": "execute_result"
    }
   ],
   "source": [
    "nn.Conv2d(1, 2, kernel_size=2, stride=(1, 1))"
   ]
  },
  {
   "cell_type": "markdown",
   "metadata": {},
   "source": [
    "Convolution filter weight 는 torch.nn.Conv2d.weight 에 저장되어 있습니다. 앞서 out_channels = 2 로 만들었기 때문에 2 개의 filter 가 만들어져 있습니다. weight 는 아래와 같은 구조입니다. \n",
    "\n",
    "(out_channels, in_channels, kernel_size[0], kernel_size[1])"
   ]
  },
  {
   "cell_type": "code",
   "execution_count": 6,
   "metadata": {},
   "outputs": [
    {
     "name": "stdout",
     "output_type": "stream",
     "text": [
      "torch.Size([2, 1, 2, 3])\n"
     ]
    },
    {
     "data": {
      "text/plain": [
       "Parameter containing:\n",
       "tensor([[[[ 0.3424, -0.1723,  0.3093],\n",
       "          [-0.3682, -0.0827, -0.0742]]],\n",
       "\n",
       "\n",
       "        [[[ 0.3427, -0.0415,  0.3559],\n",
       "          [-0.2641,  0.2919,  0.1172]]]], requires_grad=True)"
      ]
     },
     "execution_count": 6,
     "metadata": {},
     "output_type": "execute_result"
    }
   ],
   "source": [
    "print(conv.weight.size())\n",
    "\n",
    "conv.weight"
   ]
  },
  {
   "cell_type": "markdown",
   "metadata": {},
   "source": [
    "Convolution layer 에 x 를 입력하기 위해서는 resize 를 통하여 (batch, in_channel, sentence length, word dimension) 으로 그 형식을 변환합니다. "
   ]
  },
  {
   "cell_type": "code",
   "execution_count": 7,
   "metadata": {},
   "outputs": [
    {
     "data": {
      "text/plain": [
       "tensor([[0.5266, 0.2686, 0.8542],\n",
       "        [0.0038, 0.7054, 0.4519],\n",
       "        [0.2445, 0.2388, 0.7067],\n",
       "        [0.1246, 0.1595, 0.1162],\n",
       "        [0.7820, 0.4416, 0.5663]], grad_fn=<EmbeddingBackward>)"
      ]
     },
     "execution_count": 7,
     "metadata": {},
     "output_type": "execute_result"
    }
   ],
   "source": [
    "sent = torch.LongTensor([0, 1, 2, 3, 4])\n",
    "x = embed(sent)\n",
    "x"
   ]
  },
  {
   "cell_type": "markdown",
   "metadata": {},
   "source": [
    "Convolution layer 에 적용된 결과입니다. 길이가 5 인 sentence image 에 대하여 bi-gram 이 적용되었기 때문에 [(0, 1), (1, 2), (2, 3), (3, 4)] 의 dot product 값이 두 개 출력됩니다."
   ]
  },
  {
   "cell_type": "code",
   "execution_count": 8,
   "metadata": {},
   "outputs": [
    {
     "name": "stdout",
     "output_type": "stream",
     "text": [
      "torch.Size([1, 1, 5, 3])\n"
     ]
    },
    {
     "data": {
      "text/plain": [
       "tensor([[[[ 0.3050],\n",
       "          [-0.1426],\n",
       "          [ 0.1935],\n",
       "          [-0.3153]],\n",
       "\n",
       "         [[ 0.7313],\n",
       "          [ 0.2209],\n",
       "          [ 0.3527],\n",
       "          [ 0.0662]]]], grad_fn=<MkldnnConvolutionBackward>)"
      ]
     },
     "execution_count": 8,
     "metadata": {},
     "output_type": "execute_result"
    }
   ],
   "source": [
    "# (batch, in channel (num filters), sent_len, embedding_dim)\n",
    "x = x.view(1, 1, x.size()[0], x.size()[1])\n",
    "print(x.size())\n",
    "\n",
    "conv(x)"
   ]
  },
  {
   "cell_type": "markdown",
   "metadata": {},
   "source": [
    "forward 함수의 결과는 (batch, out channel, sent_len, 1) 입니다."
   ]
  },
  {
   "cell_type": "code",
   "execution_count": 9,
   "metadata": {},
   "outputs": [
    {
     "data": {
      "text/plain": [
       "torch.Size([1, 2, 4, 1])"
      ]
     },
     "execution_count": 9,
     "metadata": {},
     "output_type": "execute_result"
    }
   ],
   "source": [
    "conv(x).size()"
   ]
  },
  {
   "cell_type": "markdown",
   "metadata": {},
   "source": [
    "앞의 2 개의 단어의 embedding vector 와 첫번째 convolution filter 의 weight 입니다."
   ]
  },
  {
   "cell_type": "code",
   "execution_count": 10,
   "metadata": {},
   "outputs": [
    {
     "name": "stdout",
     "output_type": "stream",
     "text": [
      "tensor([[0.5266, 0.2686, 0.8542],\n",
      "        [0.0038, 0.7054, 0.4519]], grad_fn=<SliceBackward>)\n",
      "tensor([[ 0.3424, -0.1723,  0.3093],\n",
      "        [-0.3682, -0.0827, -0.0742]], grad_fn=<SelectBackward>)\n"
     ]
    }
   ],
   "source": [
    "print(x[0,0,:2])\n",
    "print(conv.weight[0,0])"
   ]
  },
  {
   "cell_type": "markdown",
   "metadata": {},
   "source": [
    "이들의 element-wise product 의 값이 conv(x)[0,0] 과 같습니다."
   ]
  },
  {
   "cell_type": "code",
   "execution_count": 11,
   "metadata": {},
   "outputs": [
    {
     "data": {
      "text/plain": [
       "tensor(0.3050, grad_fn=<DotBackward>)"
      ]
     },
     "execution_count": 11,
     "metadata": {},
     "output_type": "execute_result"
    }
   ],
   "source": [
    "torch.dot(\n",
    "    conv.weight[0,0].view(-1),\n",
    "    x[0,0,:2].view(-1)\n",
    ")"
   ]
  },
  {
   "cell_type": "code",
   "execution_count": 12,
   "metadata": {},
   "outputs": [
    {
     "data": {
      "text/plain": [
       "torch.Size([1, 2, 4, 1])"
      ]
     },
     "execution_count": 12,
     "metadata": {},
     "output_type": "execute_result"
    }
   ],
   "source": [
    "conv(x).size()"
   ]
  },
  {
   "cell_type": "code",
   "execution_count": 13,
   "metadata": {},
   "outputs": [
    {
     "data": {
      "text/plain": [
       "tensor([0.3050], grad_fn=<SelectBackward>)"
      ]
     },
     "execution_count": 13,
     "metadata": {},
     "output_type": "execute_result"
    }
   ],
   "source": [
    "conv(x)[0,0,0]"
   ]
  },
  {
   "cell_type": "markdown",
   "metadata": {},
   "source": [
    "## Pooling\n",
    "\n",
    "Max pooling 은 torch.nn.functional 을 이용할 수 있습니다. squeeze 를 이용하여 conv(x) 의 size 를 변환합니다. pooling 함수는 어떤 axis 를 기준으로 pooling 할 것인지 kernel_size 로 지정합니다. 지정해야 합니다\n",
    "\n",
    "```\n",
    "kernel_size – the size of the window to take a max over\n",
    "```"
   ]
  },
  {
   "cell_type": "code",
   "execution_count": 14,
   "metadata": {},
   "outputs": [
    {
     "data": {
      "text/plain": [
       "torch.Size([1, 2, 4])"
      ]
     },
     "execution_count": 14,
     "metadata": {},
     "output_type": "execute_result"
    }
   ],
   "source": [
    "out = conv(x).squeeze(dim=3)\n",
    "out.size()"
   ]
  },
  {
   "cell_type": "markdown",
   "metadata": {},
   "source": [
    "max_pool1d 의 결과 각 filter 별로 가장 큰 값이 출력됩니다."
   ]
  },
  {
   "cell_type": "code",
   "execution_count": 15,
   "metadata": {},
   "outputs": [
    {
     "name": "stdout",
     "output_type": "stream",
     "text": [
      "tensor([[[ 0.3050, -0.1426,  0.1935, -0.3153],\n",
      "         [ 0.7313,  0.2209,  0.3527,  0.0662]]], grad_fn=<SqueezeBackward1>)\n"
     ]
    },
    {
     "data": {
      "text/plain": [
       "tensor([[[0.3050],\n",
       "         [0.7313]]], grad_fn=<SqueezeBackward1>)"
      ]
     },
     "execution_count": 15,
     "metadata": {},
     "output_type": "execute_result"
    }
   ],
   "source": [
    "import torch.nn.functional as F\n",
    "\n",
    "out = conv(x).squeeze(dim=3)\n",
    "print(out)\n",
    "\n",
    "F.max_pool1d(out, kernel_size=out.size()[2])"
   ]
  },
  {
   "cell_type": "markdown",
   "metadata": {},
   "source": [
    "max_pool1d_with_indices 를 이용하면 어떤 위치의 값이 가장 큰지 index 도 함께 return 됩니다."
   ]
  },
  {
   "cell_type": "code",
   "execution_count": 16,
   "metadata": {},
   "outputs": [
    {
     "name": "stdout",
     "output_type": "stream",
     "text": [
      "tensor([[[0.3050],\n",
      "         [0.7313]]], grad_fn=<SqueezeBackward1>)\n",
      "tensor([0, 0])\n"
     ]
    }
   ],
   "source": [
    "pool, idx = F.max_pool1d_with_indices(out, kernel_size=out.size()[2])\n",
    "\n",
    "print(pool)\n",
    "print(idx.squeeze())"
   ]
  },
  {
   "cell_type": "code",
   "execution_count": null,
   "metadata": {},
   "outputs": [],
   "source": []
  }
 ],
 "metadata": {
  "kernelspec": {
   "display_name": "Python 3",
   "language": "python",
   "name": "python3"
  },
  "language_info": {
   "codemirror_mode": {
    "name": "ipython",
    "version": 3
   },
   "file_extension": ".py",
   "mimetype": "text/x-python",
   "name": "python",
   "nbconvert_exporter": "python",
   "pygments_lexer": "ipython3",
   "version": "3.7.1"
  }
 },
 "nbformat": 4,
 "nbformat_minor": 2
}
