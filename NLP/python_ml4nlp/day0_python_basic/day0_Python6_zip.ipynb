{
 "cells": [
  {
   "cell_type": "markdown",
   "metadata": {},
   "source": [
    "두 개의 list가 있을 때, 순차적으로 두 리스트에서 아이템을 하나씩 가져오고 싶기도 합니다. zip은 iterable한 여러 개의 object에 대하여 iteration을 돌면서 각각 item을 뽑아줍니다. \n",
    "\n",
    "길이가 다른 두 object의 경우, 길이가 짧은 object가 끝날 때까지만 실행됩니다. "
   ]
  },
  {
   "cell_type": "code",
   "execution_count": 1,
   "metadata": {},
   "outputs": [
    {
     "name": "stdout",
     "output_type": "stream",
     "text": [
      "1 a\n",
      "2 b\n",
      "3 c\n"
     ]
    }
   ],
   "source": [
    "list_1 = [1, 2, 3, 4]\n",
    "list_2 = ['a', 'b', 'c']\n",
    "\n",
    "for entry_1, entry_2 in zip(list_1, list_2):\n",
    "    print(entry_1, entry_2)"
   ]
  },
  {
   "cell_type": "markdown",
   "metadata": {},
   "source": [
    "반대로 nested list 형식으로 만들어진 경우에 이를 풀고 싶기도 합니다. 이 때에는 zip(*)를 이용하면 됩니다."
   ]
  },
  {
   "cell_type": "code",
   "execution_count": 2,
   "metadata": {
    "collapsed": true
   },
   "outputs": [],
   "source": [
    "nested = [('a', 1), ('b', 51), ('c', 4), ('d', 9), ('e', 21), ('f', 3)]\n",
    "\n",
    "alphabet, number = zip(*nested)"
   ]
  },
  {
   "cell_type": "code",
   "execution_count": 3,
   "metadata": {},
   "outputs": [
    {
     "name": "stdout",
     "output_type": "stream",
     "text": [
      "('a', 'b', 'c', 'd', 'e', 'f')\n",
      "(1, 51, 4, 9, 21, 3)\n"
     ]
    }
   ],
   "source": [
    "print(alphabet)\n",
    "print(number)"
   ]
  },
  {
   "cell_type": "code",
   "execution_count": null,
   "metadata": {
    "collapsed": true
   },
   "outputs": [],
   "source": []
  }
 ],
 "metadata": {
  "kernelspec": {
   "display_name": "Python 3",
   "language": "python",
   "name": "python3"
  },
  "language_info": {
   "codemirror_mode": {
    "name": "ipython",
    "version": 3
   },
   "file_extension": ".py",
   "mimetype": "text/x-python",
   "name": "python",
   "nbconvert_exporter": "python",
   "pygments_lexer": "ipython3",
   "version": "3.6.2"
  }
 },
 "nbformat": 4,
 "nbformat_minor": 1
}
