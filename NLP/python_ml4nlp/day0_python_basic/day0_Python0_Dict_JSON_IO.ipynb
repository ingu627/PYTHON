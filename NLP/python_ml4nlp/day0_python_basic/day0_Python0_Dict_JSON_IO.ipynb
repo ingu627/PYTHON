{
 "cells": [
  {
   "cell_type": "markdown",
   "metadata": {},
   "source": [
    "representor는 Python의 dict로 이뤄진 데이터구조입니다. JSON은 dict의 key가 str이며, 그 value는 int, float, str, 그리고 이로 이뤄진 또 다른 dict, list가 될 수 있습니다. "
   ]
  },
  {
   "cell_type": "code",
   "execution_count": 1,
   "metadata": {
    "collapsed": true
   },
   "outputs": [],
   "source": [
    "representor = {\n",
    "    'name': '김현중', \n",
    "    'age': 30, \n",
    "    'interests': ['text mining',\n",
    "                  'natural language processing'], \n",
    "    'friends': {\n",
    "        'name': '고태훈',\n",
    "        'id': 'kth'\n",
    "    }\n",
    "}"
   ]
  },
  {
   "cell_type": "markdown",
   "metadata": {},
   "source": [
    "representor['name']을 하면 해당 값이 return 됩니다. "
   ]
  },
  {
   "cell_type": "code",
   "execution_count": 2,
   "metadata": {},
   "outputs": [
    {
     "data": {
      "text/plain": [
       "'김현중'"
      ]
     },
     "execution_count": 2,
     "metadata": {},
     "output_type": "execute_result"
    }
   ],
   "source": [
    "representor['name']"
   ]
  },
  {
   "cell_type": "markdown",
   "metadata": {},
   "source": [
    "representor의 friends는 또 다른 dict이며, JSON은 이처럼 depth가 1보다 더 깊어질 수 있습니다. 만약 특정 키가 존재함을 알고 있다면 representor['friends']의 ['name']을 통하여 직접 해당 값도 가져올 수 있습니다. "
   ]
  },
  {
   "cell_type": "code",
   "execution_count": 3,
   "metadata": {},
   "outputs": [
    {
     "data": {
      "text/plain": [
       "'고태훈'"
      ]
     },
     "execution_count": 3,
     "metadata": {},
     "output_type": "execute_result"
    }
   ],
   "source": [
    "representor['friends']['name']"
   ]
  },
  {
   "cell_type": "markdown",
   "metadata": {},
   "source": [
    "dict를 print 하면 길이가 짧을 경우, 한 줄로 표시가 되어서 읽기 어렵습니다. 이 때에는 pretty print를 이용하면 좋습니다. "
   ]
  },
  {
   "cell_type": "code",
   "execution_count": 4,
   "metadata": {},
   "outputs": [
    {
     "name": "stdout",
     "output_type": "stream",
     "text": [
      "{'name': '김현중', 'age': 30, 'interests': ['text mining', 'natural language processing'], 'friends': {'name': '고태훈', 'id': 'kth'}}\n"
     ]
    }
   ],
   "source": [
    "print(representor)"
   ]
  },
  {
   "cell_type": "code",
   "execution_count": 5,
   "metadata": {},
   "outputs": [
    {
     "name": "stdout",
     "output_type": "stream",
     "text": [
      "{'age': 30,\n",
      " 'friends': {'id': 'kth', 'name': '고태훈'},\n",
      " 'interests': ['text mining', 'natural language processing'],\n",
      " 'name': '김현중'}\n"
     ]
    }
   ],
   "source": [
    "from pprint import pprint\n",
    "\n",
    "pprint(representor)"
   ]
  },
  {
   "cell_type": "markdown",
   "metadata": {},
   "source": [
    "representor를 저장하고, 다시 불러올 것입니다. 만약 저장하려는 path의 폴더가 존재하지 않는다면 이 폴더를 만들 수 있습니다. "
   ]
  },
  {
   "cell_type": "code",
   "execution_count": 6,
   "metadata": {},
   "outputs": [
    {
     "name": "stdout",
     "output_type": "stream",
     "text": [
      "tmp/representor.json tmp\n"
     ]
    }
   ],
   "source": [
    "fname = 'tmp/representor.json'\n",
    "folder = fname.split('/')[0]\n",
    "\n",
    "print(fname, folder)"
   ]
  },
  {
   "cell_type": "code",
   "execution_count": 7,
   "metadata": {},
   "outputs": [
    {
     "name": "stdout",
     "output_type": "stream",
     "text": [
      "True\n"
     ]
    }
   ],
   "source": [
    "import os\n",
    "\n",
    "print(os.path.exists(folder))"
   ]
  },
  {
   "cell_type": "code",
   "execution_count": 8,
   "metadata": {
    "collapsed": true
   },
   "outputs": [],
   "source": [
    "if not os.path.exists(folder):\n",
    "    os.makedirs(folder)\n",
    "    print('created %s' % folder)"
   ]
  },
  {
   "cell_type": "markdown",
   "metadata": {},
   "source": [
    "Python에서 파일을 읽거나 쓸 때 (File I/O)는 open을 이용하면 됩니다. 이 때 반드시 인코딩을 utf-8로 지정하는 것을 추천합니다. \n",
    "\n",
    "인코딩이란 쉽게 말해서 'a'라는 글자를 어떤 숫자로 저장할 것이냐라는 언어표 입니다. 컴퓨터는 정보를 2진수로 이뤄진 숫자로 저장합니다. 'a'라는 글자는 어떤 인코딩에서는 0일 수도, 다른 어떤 인코딩에서는 100 일 수도 있습니다. 그리고 각 인코딩이 표현할 수 있는 언어의 폭도 다릅니다. 처음 컴퓨터가 만들어질 때 나왔던 인코딩은 한글, 중국어 등의 세계 각 국의 언어는 고려하지 않았습니다. 영어/숫자/특수기호 등으로만 이뤄진 인코딩을 이용하였지만, 컴퓨터를 사용하는 지역이 넓어짐에 따라 각 언어를 반영하도록 인코딩은 계속 발전하였습니다. \n",
    "\n",
    "현재에는 utf-8이 표준 인코딩으로 이용되고 있으며, 여기에는 한국어를 포함한 많은 언어들이 등록되어 있습니다. \n",
    "\n",
    "그런데 컴퓨터 입장에서 001010 처럼 써진 숫자들만 보고 이 숫자가 어떤 글자를 의미하는지 추측하려면 때로는 틀릴 수가 있습니다. 반대로 사용자가 001010을 어떤 인코딩으로 읽으라고 지정할 수 있습니다. 또한 파일에 데이터를 쓸 때에도 'a'라는 글자를 어떤 인코딩 방식을 통해서 이진수로 표현할지를 지정할 수 있습니다. \n",
    "\n",
    "파이썬은 해당 OS의 기본 인코딩을 사용합니다. 윈도우의 기본 인코딩은 cp949이며, ubuntu, MacOS에서 이 포멧이 잘 열리지 않을 수 있기 때문에, 표준 인코딩인 utf-8을 명시하여 인코딩 혼동이 없도록 함을 추천합니다."
   ]
  },
  {
   "cell_type": "markdown",
   "metadata": {},
   "source": [
    "JSON 형식의 데이터를 저장할 때에는 json.dump(object, file)을 넣어주면 됩니다. "
   ]
  },
  {
   "cell_type": "code",
   "execution_count": 9,
   "metadata": {
    "collapsed": true
   },
   "outputs": [],
   "source": [
    "import json \n",
    "\n",
    "with open('tmp/representor.json', 'w', encoding='utf-8') as f:\n",
    "    json.dump(representor, f)"
   ]
  },
  {
   "cell_type": "markdown",
   "metadata": {},
   "source": [
    "파이썬에서 File I/O를 하기 위해 open을 이용할 때, 두 가지 방식이 가능합니다. 아래와 같이 open으로 파일을 열어둔 통로를 f라는 변수로 받은 뒤 json을 기록하고, f를 close() 하여 파일을 완전히 닫을 수 있습니다. \n",
    "\n",
    "그러나 아래 방식은 실수로 f.close()를 하지 않는 경우 Python이 해당 파일에 언제든지 쓸 준비를 하도록 만들어둡니다. 이렇게 열린 파일들이 많아지면 Python이 중간에 죽는 일이 발생합니다. 특히 아래 같은 코드에서 매우 위험합니다. \n",
    "\n",
    "    for fname in fnames:\n",
    "        f = open(fname)\n",
    "        ...\n",
    "\n",
    "with open... 은 해당 구문이 끝나면 f.close()를 자동으로 시켜주는 구문으로 위처럼 File I/O를 하는 것을 추천합니다. "
   ]
  },
  {
   "cell_type": "code",
   "execution_count": 10,
   "metadata": {
    "collapsed": true
   },
   "outputs": [],
   "source": [
    "f = open('tmp/representor.json', 'w', encoding='utf-8')\n",
    "json.dump(representor, f)\n",
    "f.close()"
   ]
  },
  {
   "cell_type": "markdown",
   "metadata": {},
   "source": [
    "JSON 형식의 데이터를 파일로부터 불러들일 때에는 json.load(file)을 하면 됩니다. 이전에 만든 representor와 같은지 확인하기 위해 다른 이름인 loaded_representor로 불러들여봅니다. "
   ]
  },
  {
   "cell_type": "code",
   "execution_count": 11,
   "metadata": {},
   "outputs": [
    {
     "name": "stdout",
     "output_type": "stream",
     "text": [
      "{'age': 30,\n",
      " 'friends': {'id': 'kth', 'name': '고태훈'},\n",
      " 'interests': ['text mining', 'natural language processing'],\n",
      " 'name': '김현중'}\n"
     ]
    }
   ],
   "source": [
    "with open(fname, encoding='utf-8') as f:\n",
    "    loaded_representor = json.load(f)\n",
    "    \n",
    "pprint(loaded_representor)"
   ]
  },
  {
   "cell_type": "markdown",
   "metadata": {},
   "source": [
    "새로운 정보를 추가하고 싶으실 때에는 JSONObject['str_key'] = value를 입력하시면 됩니다. "
   ]
  },
  {
   "cell_type": "code",
   "execution_count": 12,
   "metadata": {},
   "outputs": [
    {
     "name": "stdout",
     "output_type": "stream",
     "text": [
      "{'age': 30,\n",
      " 'friends': {'id': 'kth', 'name': '고태훈'},\n",
      " 'interests': ['text mining', 'natural language processing'],\n",
      " 'likes': ['coffee', 'drinks'],\n",
      " 'name': '김현중'}\n"
     ]
    }
   ],
   "source": [
    "representor['likes'] = ['coffee', 'drinks']\n",
    "pprint(representor)"
   ]
  },
  {
   "cell_type": "markdown",
   "metadata": {},
   "source": [
    "JSONObject에 어떤 keys가 들어있는지 확인할 수 있습니다. "
   ]
  },
  {
   "cell_type": "code",
   "execution_count": 13,
   "metadata": {},
   "outputs": [
    {
     "name": "stdout",
     "output_type": "stream",
     "text": [
      "representor keys: dict_keys(['name', 'age', 'interests', 'friends', 'likes'])\n",
      "representor[\"friends\"] keys: dict_keys(['name', 'id'])\n",
      "representor has age?: True\n"
     ]
    }
   ],
   "source": [
    "print('representor keys:', representor.keys())\n",
    "print('representor[\"friends\"] keys:', representor['friends'].keys())\n",
    "print('representor has age?:', 'age' in representor)"
   ]
  },
  {
   "cell_type": "markdown",
   "metadata": {},
   "source": [
    "JSONObject는 dict이기 때문에 존재하지 않는 key를 입력하면 에러가 납니다. 이를 방지하기 위하여 default return value를 지정할 수 있는 dict.get('key', default value)를 이용하면 좋습니다"
   ]
  },
  {
   "cell_type": "code",
   "execution_count": 14,
   "metadata": {},
   "outputs": [
    {
     "ename": "KeyError",
     "evalue": "'wrong key'",
     "output_type": "error",
     "traceback": [
      "\u001b[0;31m---------------------------------------------------------------------------\u001b[0m",
      "\u001b[0;31mKeyError\u001b[0m                                  Traceback (most recent call last)",
      "\u001b[0;32m<ipython-input-14-f17cd4edbcbe>\u001b[0m in \u001b[0;36m<module>\u001b[0;34m()\u001b[0m\n\u001b[0;32m----> 1\u001b[0;31m \u001b[0mrepresentor\u001b[0m\u001b[0;34m[\u001b[0m\u001b[0;34m'wrong key'\u001b[0m\u001b[0;34m]\u001b[0m\u001b[0;34m\u001b[0m\u001b[0m\n\u001b[0m",
      "\u001b[0;31mKeyError\u001b[0m: 'wrong key'"
     ]
    }
   ],
   "source": [
    "representor['wrong key']"
   ]
  },
  {
   "cell_type": "code",
   "execution_count": 15,
   "metadata": {},
   "outputs": [
    {
     "data": {
      "text/plain": [
       "[]"
      ]
     },
     "execution_count": 15,
     "metadata": {},
     "output_type": "execute_result"
    }
   ],
   "source": [
    "representor.get('wrong key', [])"
   ]
  },
  {
   "cell_type": "markdown",
   "metadata": {
    "collapsed": true
   },
   "source": [
    "## Jupyter notebook shortcuts\n",
    "\n",
    "Jupyter notebook은 단축키를 이용하면 빠르게 작업을 할 수 있습니다. 단축키를 보는 방법은 Esc를 눌러 edit mode를 비활성화 한 뒤, H를 누르면 됩니다. \n",
    "\n",
    "자주 이용하는 단축키들은 아래와 같습니다. \n",
    "\n",
    "    (Command & Edit mode)\n",
    "    \n",
    "    Shift + Enter: 실행\n",
    "    \n",
    "    \n",
    "    \n",
    "    (Command mode)\n",
    "    \n",
    "    A: 위에 새 cell 만들기\n",
    "    B: 아래에 새 cell 만들기\n",
    "    X: 해당 cell 삭제\n",
    "    Z: 바로 전 삭제 cell 복원\n",
    "    Y: coding type 페이지\n",
    "    M: Markdown type 페이지\n",
    "    \n",
    "    \n",
    "    \n",
    "    (Edit mode)\n",
    "    \n",
    "    Ctrl + Z: undo\n",
    "\n",
    "\n",
    "그 외에 알아두면 편리한 명령어들입니다. \n",
    "    \n",
    "    함수를 function(args) 처럼 실행하지 않고, function? 처럼 함수 이름 + ?를 실행 (Shift + Enter): Doc String 출력\n",
    "    함수 이름 + ??: 코드 부분 출력"
   ]
  },
  {
   "cell_type": "code",
   "execution_count": null,
   "metadata": {
    "collapsed": true
   },
   "outputs": [],
   "source": []
  }
 ],
 "metadata": {
  "kernelspec": {
   "display_name": "Python 3",
   "language": "python",
   "name": "python3"
  },
  "language_info": {
   "codemirror_mode": {
    "name": "ipython",
    "version": 3
   },
   "file_extension": ".py",
   "mimetype": "text/x-python",
   "name": "python",
   "nbconvert_exporter": "python",
   "pygments_lexer": "ipython3",
   "version": "3.6.2"
  }
 },
 "nbformat": 4,
 "nbformat_minor": 1
}
