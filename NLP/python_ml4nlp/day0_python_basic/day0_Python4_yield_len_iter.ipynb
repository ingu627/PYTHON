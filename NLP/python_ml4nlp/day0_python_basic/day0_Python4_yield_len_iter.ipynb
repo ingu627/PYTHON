{
 "cells": [
  {
   "cell_type": "markdown",
   "metadata": {},
   "source": [
    "for loop을 돌 때, loop 안에서 정의된 변수값에 대해서 처리가 끝나면 그 변수는 사용하지 않습니다. \n",
    "\n",
    "    for item in list:\n",
    "        # do something with item\n",
    "        \n",
    "특히 토크나이징을 하는 작업 등은 text 파일의 line by line으로 처리해도 좋습니다. 메모리에 올리지 않아도 됩니다. 이처럼 generator 형태로 text를 메모리에 line by line으로 올려서 작업을 하려면 \\_\\_iter\\_\\_ 함수를 구현하면 됩니다. 우리가 이용하는 DoublespaceLineCorpus는 이미 iter가 구현되어 있습니다. "
   ]
  },
  {
   "cell_type": "code",
   "execution_count": 1,
   "metadata": {},
   "outputs": [
    {
     "name": "stdout",
     "output_type": "stream",
     "text": [
      "0 sent: 테스트 데이터 입니다. its length is 11\n",
      "1 sent: 이것만 한 줄에 두 개의 문장을 넣어둘 겁니다. its length is 25\n",
      "2 sent: 문장을 이렇게 만들어 둘거에요. its length is 16\n",
      "3 sent: yield test와. its length is 11\n",
      "4 sent: len test를 해보세요. its length is 14\n"
     ]
    }
   ],
   "source": [
    "class DoublespaceLineCorpus:    \n",
    "    def __init__(self, corpus_fname, iter_sent = False):\n",
    "        self.corpus_fname = corpus_fname\n",
    "        self.iter_sent = iter_sent\n",
    "\n",
    "    def __iter__(self):\n",
    "        with open(self.corpus_fname, encoding='utf-8') as f:\n",
    "            for doc_idx, doc in enumerate(f):\n",
    "                if not self.iter_sent:\n",
    "                    yield doc\n",
    "                    continue\n",
    "                for sent in doc.split('  '):                    \n",
    "                    sent = sent.strip()\n",
    "                    if not sent: continue\n",
    "                    yield sent\n",
    "\n",
    "corpus = DoublespaceLineCorpus('./day0_3.txt', iter_sent=True)\n",
    "for n_sent, sent in enumerate(corpus):\n",
    "    print('{} sent: {}. its length is {}'.format(n_sent, sent, len(sent)))"
   ]
  },
  {
   "cell_type": "markdown",
   "metadata": {},
   "source": [
    "위의 예시에서 메모리에는 for loop에서 정의되는 sent만 만들어져 사용되고, 다음 loop으로 넘어가면서 메모리에 올라가지 않습니다. \n",
    "\n",
    "    for n_sent, sent in enumerate(corpus):\n",
    "        print('{} sent: {}. its length is {}'.format(n_sent, sent, len(sent)))\n",
    "        \n",
    "이처럼 generator를 만들기 위해서는 iter 함수 내에서 yield를 이용해야 합니다. \n",
    "\n",
    "     for sent in doc.split('  '):                    \n",
    "        sent = sent.strip()\n",
    "        if not sent: continue\n",
    "        yield sent\n",
    "        \n",
    "위 부분은 doc 의 sent에 대하여 empty str이 아니면 아래의 \"for sent in corpus\" 부분에 sent로 메모리에 그 str 값을 올리라는 의미입니다. \n",
    "\n",
    "    for n_sent, sent in enumerate(corpus):"
   ]
  },
  {
   "cell_type": "markdown",
   "metadata": {},
   "source": [
    "str은 length가 있습니다. list나 set도 length가 있습니다. 이는 len(object) 형식으로 이용할 수 있습니다. "
   ]
  },
  {
   "cell_type": "code",
   "execution_count": 2,
   "metadata": {},
   "outputs": [
    {
     "data": {
      "text/plain": [
       "5"
      ]
     },
     "execution_count": 2,
     "metadata": {},
     "output_type": "execute_result"
    }
   ],
   "source": [
    "s = '12345'\n",
    "len(s) # 5"
   ]
  },
  {
   "cell_type": "markdown",
   "metadata": {},
   "source": [
    "하지만 아직 DoublespaceLineCorpus 는 length를 구할 수가 없습니다. 텍스트가 4줄이 있으니 len(corpus)를 하면 4가 출력되도록 만들고 싶습니다. "
   ]
  },
  {
   "cell_type": "code",
   "execution_count": 3,
   "metadata": {},
   "outputs": [
    {
     "ename": "TypeError",
     "evalue": "object of type 'DoublespaceLineCorpus' has no len()",
     "output_type": "error",
     "traceback": [
      "\u001b[0;31m---------------------------------------------------------------------------\u001b[0m",
      "\u001b[0;31mTypeError\u001b[0m                                 Traceback (most recent call last)",
      "\u001b[0;32m<ipython-input-3-9d6a40e6eb5a>\u001b[0m in \u001b[0;36m<module>\u001b[0;34m()\u001b[0m\n\u001b[0;32m----> 1\u001b[0;31m \u001b[0mlen\u001b[0m\u001b[0;34m(\u001b[0m\u001b[0mcorpus\u001b[0m\u001b[0;34m)\u001b[0m\u001b[0;34m\u001b[0m\u001b[0m\n\u001b[0m",
      "\u001b[0;31mTypeError\u001b[0m: object of type 'DoublespaceLineCorpus' has no len()"
     ]
    }
   ],
   "source": [
    "len(corpus)"
   ]
  },
  {
   "cell_type": "markdown",
   "metadata": {},
   "source": [
    "\\_\\_iter\\_\\_을 구현한 것처럼 \\_\\_len\\_\\_을 구현하면 이를 할 수 있습니다. 단 우리는 iter_sent를 True와 False로 만들 수 있기 때문에 sentence length와 document length를 모두 구할 수 있도록 만들어 보겠습니다. "
   ]
  },
  {
   "cell_type": "code",
   "execution_count": 4,
   "metadata": {
    "collapsed": true
   },
   "outputs": [],
   "source": [
    "class DoublespaceLineCorpus:    \n",
    "    def __init__(self, corpus_fname, iter_sent = False):\n",
    "        self.corpus_fname = corpus_fname\n",
    "        self.iter_sent = iter_sent\n",
    "        self.num_sents = 0\n",
    "        self.num_docs = 0\n",
    "\n",
    "    def __iter__(self):\n",
    "        with open(self.corpus_fname, encoding='utf-8') as f:\n",
    "            for doc_idx, doc in enumerate(f):\n",
    "                if not self.iter_sent:\n",
    "                    yield doc\n",
    "                    continue\n",
    "                for sent in doc.split('  '):                    \n",
    "                    sent = sent.strip()\n",
    "                    if not sent: continue\n",
    "                    yield sent\n",
    "    \n",
    "    def __len__(self):\n",
    "        if self.iter_sent:\n",
    "            if self.num_sents == 0:\n",
    "                with open(self.corpus_fname, encoding='utf-8') as f:\n",
    "                    self.num_sents = sum((True for doc in f for sent in doc.strip().split('  ') if sent.strip()))\n",
    "            return self.num_sents\n",
    "        else:\n",
    "            if self.num_docs == 0:\n",
    "                with open(self.corpus_fname, encoding='utf-8') as f:\n",
    "                    self.num_docs = sum((True for doc in f if doc.strip()))\n",
    "            return self.num_docs"
   ]
  },
  {
   "cell_type": "code",
   "execution_count": 5,
   "metadata": {},
   "outputs": [
    {
     "name": "stdout",
     "output_type": "stream",
     "text": [
      "when iter_sent == True, n sents = 5\n",
      "when iter_sent == False, n docs = 4\n"
     ]
    }
   ],
   "source": [
    "corpus = DoublespaceLineCorpus('./day0_3.txt', iter_sent=True)\n",
    "print('when iter_sent == True, n sents = {}'.format(len(corpus)))\n",
    "\n",
    "corpus.iter_sent=False\n",
    "print('when iter_sent == False, n docs = {}'.format(len(corpus)))"
   ]
  },
  {
   "cell_type": "code",
   "execution_count": null,
   "metadata": {
    "collapsed": true
   },
   "outputs": [],
   "source": []
  }
 ],
 "metadata": {
  "kernelspec": {
   "display_name": "Python 3",
   "language": "python",
   "name": "python3"
  },
  "language_info": {
   "codemirror_mode": {
    "name": "ipython",
    "version": 3
   },
   "file_extension": ".py",
   "mimetype": "text/x-python",
   "name": "python",
   "nbconvert_exporter": "python",
   "pygments_lexer": "ipython3",
   "version": "3.6.2"
  }
 },
 "nbformat": 4,
 "nbformat_minor": 1
}
