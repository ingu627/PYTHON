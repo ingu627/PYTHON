{
 "cells": [
  {
   "cell_type": "markdown",
   "metadata": {},
   "source": [
    "파이썬에서 데이터를 저장하는 방식 중 pickle 이 있습니다. 앞선 예제에서 representor 라는 dict를 JSON으로 저장하였는데, 이는 text 파일 형식으로 dict를 저장한 것입니다. \n",
    "\n",
    "pickle은 binary code로 데이터를 저장하는 방식입니다. "
   ]
  },
  {
   "cell_type": "code",
   "execution_count": 1,
   "metadata": {
    "collapsed": true
   },
   "outputs": [],
   "source": [
    "representor = {\n",
    "    'name': '김현중', \n",
    "    'age': 30, \n",
    "    'interests': ['text mining',\n",
    "                  'natural language processing'], \n",
    "    'friends': {\n",
    "        'name': '고태훈',\n",
    "        'id': 'kth'\n",
    "    }\n",
    "}"
   ]
  },
  {
   "cell_type": "code",
   "execution_count": 2,
   "metadata": {},
   "outputs": [
    {
     "name": "stdout",
     "output_type": "stream",
     "text": [
      "{'age': 30,\n",
      " 'friends': {'id': 'kth', 'name': '고태훈'},\n",
      " 'interests': ['text mining', 'natural language processing'],\n",
      " 'name': '김현중'}\n"
     ]
    }
   ],
   "source": [
    "from pprint import pprint\n",
    "pprint(representor)"
   ]
  },
  {
   "cell_type": "code",
   "execution_count": 3,
   "metadata": {
    "collapsed": true
   },
   "outputs": [],
   "source": [
    "import os\n",
    "\n",
    "if not os.path.exists('tmp'):\n",
    "    os.makedirs('tmp')"
   ]
  },
  {
   "cell_type": "markdown",
   "metadata": {},
   "source": [
    "pickle을 저장/읽는 방식은 open() 에서 'wb', 'rb'를 하는 것입니다. wb는 write binary 의 의미이고, rb는 read binary 의 의미입니다. \n",
    "\n",
    "pickling을 할 때에는 아래처럼 dump를 하면 됩니다. \n",
    "\n",
    "    pickle.dump(representor, f)"
   ]
  },
  {
   "cell_type": "code",
   "execution_count": 4,
   "metadata": {
    "collapsed": true
   },
   "outputs": [],
   "source": [
    "import pickle\n",
    "\n",
    "with open('tmp/representor.pkl', 'wb') as f:\n",
    "    pickle.dump(representor, f)"
   ]
  },
  {
   "cell_type": "markdown",
   "metadata": {},
   "source": [
    "반대로 pickle을 읽어올 때에는 아래처럼 load를 하면 됩니다. "
   ]
  },
  {
   "cell_type": "code",
   "execution_count": 5,
   "metadata": {
    "collapsed": true
   },
   "outputs": [],
   "source": [
    "with open('tmp/representor.pkl', 'rb') as f:\n",
    "    loaded_representor = pickle.load(f)"
   ]
  },
  {
   "cell_type": "code",
   "execution_count": 6,
   "metadata": {},
   "outputs": [
    {
     "name": "stdout",
     "output_type": "stream",
     "text": [
      "{'age': 30,\n",
      " 'friends': {'id': 'kth', 'name': '고태훈'},\n",
      " 'interests': ['text mining', 'natural language processing'],\n",
      " 'name': '김현중'}\n"
     ]
    }
   ],
   "source": [
    "pprint(loaded_representor)"
   ]
  },
  {
   "cell_type": "markdown",
   "metadata": {},
   "source": [
    "numpy object라던지, sparse matrix, python의 기본 자료형인 list, tuple, dict, set 등이 모두 pickling이 가능합니다. "
   ]
  },
  {
   "cell_type": "code",
   "execution_count": null,
   "metadata": {
    "collapsed": true
   },
   "outputs": [],
   "source": []
  }
 ],
 "metadata": {
  "kernelspec": {
   "display_name": "Python 3",
   "language": "python",
   "name": "python3"
  },
  "language_info": {
   "codemirror_mode": {
    "name": "ipython",
    "version": 3
   },
   "file_extension": ".py",
   "mimetype": "text/x-python",
   "name": "python",
   "nbconvert_exporter": "python",
   "pygments_lexer": "ipython3",
   "version": "3.6.2"
  }
 },
 "nbformat": 4,
 "nbformat_minor": 1
}
