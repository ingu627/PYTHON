{
 "cells": [
  {
   "cell_type": "markdown",
   "metadata": {},
   "source": [
    "파이썬은 list comprehension이라는 좋은 코딩방법이 있습니다. docs는 list of list of str 입니다. 이를 list of str로 flatten 시키겠습니다. "
   ]
  },
  {
   "cell_type": "code",
   "execution_count": 1,
   "metadata": {},
   "outputs": [
    {
     "name": "stdout",
     "output_type": "stream",
     "text": [
      "[['이건', '테스트', '문장입니다'], ['두번째', '줄이고요'], ['마지막', '줄입니다']]\n"
     ]
    }
   ],
   "source": [
    "docs = [\n",
    "    '이건 테스트 문장입니다'.split(),\n",
    "    '두번째 줄이고요'.split(),\n",
    "    '마지막 줄입니다'.split()\n",
    "]\n",
    "\n",
    "print(docs)"
   ]
  },
  {
   "cell_type": "markdown",
   "metadata": {},
   "source": [
    "[word for doc in docs for word in doc] 의 for doc in docs는 docs 라는 list를 돌면서 그 안의 doc 이라는 list를 가져오는 부분입니다. 그 다음의 for word in docs는 doc 이라는 list 안의 word 라는 str을 정의하는 부분입니다. 이런 word 들을 하나의 list로 묶는다는 의미로 [word for ... for ... ]이 적힙니다. "
   ]
  },
  {
   "cell_type": "code",
   "execution_count": 2,
   "metadata": {},
   "outputs": [
    {
     "name": "stdout",
     "output_type": "stream",
     "text": [
      "['이건', '테스트', '문장입니다', '두번째', '줄이고요', '마지막', '줄입니다']\n"
     ]
    }
   ],
   "source": [
    "flatten_docs = [word for doc in docs for word in doc]\n",
    "\n",
    "print(flatten_docs)"
   ]
  },
  {
   "cell_type": "markdown",
   "metadata": {},
   "source": [
    "위와 동일한 코드는 아래와 같이 작성할 수 있습니다. "
   ]
  },
  {
   "cell_type": "code",
   "execution_count": 3,
   "metadata": {},
   "outputs": [
    {
     "name": "stdout",
     "output_type": "stream",
     "text": [
      "['이건', '테스트', '문장입니다', '두번째', '줄이고요', '마지막', '줄입니다']\n"
     ]
    }
   ],
   "source": [
    "flatten_docs_ = []\n",
    "for doc in docs:\n",
    "    for word in doc:\n",
    "        flatten_docs_.append(word)\n",
    "\n",
    "print(flatten_docs_)"
   ]
  },
  {
   "cell_type": "markdown",
   "metadata": {},
   "source": [
    "list comprehension은 list가 아니라 set이나 dict에도 적용이 됩니다. "
   ]
  },
  {
   "cell_type": "code",
   "execution_count": 4,
   "metadata": {},
   "outputs": [
    {
     "name": "stdout",
     "output_type": "stream",
     "text": [
      "{'이건', '테스트', '문장입니다', '마지막', '줄이고요', '줄입니다', '두번째'}\n"
     ]
    }
   ],
   "source": [
    "flatten_docs_set = {word for doc in docs for word in doc}\n",
    "\n",
    "print(flatten_docs_set)"
   ]
  },
  {
   "cell_type": "code",
   "execution_count": 5,
   "metadata": {},
   "outputs": [
    {
     "name": "stdout",
     "output_type": "stream",
     "text": [
      "{'이건', '테스트', '문장입니다', '마지막', '줄이고요', '줄입니다', '두번째'}\n"
     ]
    }
   ],
   "source": [
    "term_vectors = {\n",
    "    'doc1': '이건 테스트 문장입니다'.split(),\n",
    "    'doc2': '두번째 줄이고요'.split(),\n",
    "    'doc3': '마지막 줄입니다'.split()\n",
    "}\n",
    "\n",
    "flatten_terms = {term for key, terms in term_vectors.items() for term in terms}\n",
    "\n",
    "print(flatten_terms)"
   ]
  },
  {
   "cell_type": "markdown",
   "metadata": {},
   "source": [
    "참고로 dict에서 유용한 기능 중 하나는 dict.keys(), dict.values(), dict.items() 입니다. \n",
    "\n",
    "keys()는 dict의 키를, values()는 값을, items()는 (key, value) pair를 iteration 할 수 있는 형태로 제공해줍니다. "
   ]
  },
  {
   "cell_type": "code",
   "execution_count": 6,
   "metadata": {},
   "outputs": [
    {
     "name": "stdout",
     "output_type": "stream",
     "text": [
      "\n",
      "items()\n",
      "a 1\n",
      "b 2\n",
      "c 5\n",
      "\n",
      "keys()\n",
      "['a', 'b', 'c']\n",
      "\n",
      "values()\n",
      "[1, 2, 5]\n"
     ]
    }
   ],
   "source": [
    "d = {\n",
    "    'a': 1,\n",
    "    'b': 2,\n",
    "    'c': 5\n",
    "}\n",
    "\n",
    "print('\\nitems()')\n",
    "for key, value in d.items():\n",
    "    print(key, value)\n",
    "    \n",
    "print('\\nkeys()')\n",
    "print([key for key in d.keys()])\n",
    "    \n",
    "print('\\nvalues()')\n",
    "print([value for value in d.values()])"
   ]
  },
  {
   "cell_type": "markdown",
   "metadata": {},
   "source": [
    "values()는 dict 의 값들의 합을 구하는데도 유용합니다. "
   ]
  },
  {
   "cell_type": "code",
   "execution_count": 7,
   "metadata": {},
   "outputs": [
    {
     "data": {
      "text/plain": [
       "8"
      ]
     },
     "execution_count": 7,
     "metadata": {},
     "output_type": "execute_result"
    }
   ],
   "source": [
    "sum(d.values())"
   ]
  },
  {
   "cell_type": "markdown",
   "metadata": {},
   "source": [
    "파이썬의 또다른 유용한 기능은 enumerate입니다. 자바스럽게 다음을 짜보겠습니다. "
   ]
  },
  {
   "cell_type": "code",
   "execution_count": 8,
   "metadata": {},
   "outputs": [
    {
     "name": "stdout",
     "output_type": "stream",
     "text": [
      "l[0] = a\n",
      "l[1] = b\n",
      "l[2] = c\n",
      "l[3] = d\n",
      "l[4] = e\n"
     ]
    }
   ],
   "source": [
    "l = ['a', 'b', 'c', 'd', 'e']\n",
    "\n",
    "for i in range(len(l)):\n",
    "    print('l[{}] = {}'.format(i, l[i]))"
   ]
  },
  {
   "cell_type": "markdown",
   "metadata": {},
   "source": [
    "enumerate를 이용하면 iterable 한 자료형의 index를 함께 출력해줍니다. "
   ]
  },
  {
   "cell_type": "code",
   "execution_count": 9,
   "metadata": {},
   "outputs": [
    {
     "name": "stdout",
     "output_type": "stream",
     "text": [
      "l[0] = a\n",
      "l[1] = b\n",
      "l[2] = c\n",
      "l[3] = d\n",
      "l[4] = e\n"
     ]
    }
   ],
   "source": [
    "for i, item in enumerate(l):\n",
    "    print('l[{}] = {}'.format(i, item))"
   ]
  },
  {
   "cell_type": "markdown",
   "metadata": {},
   "source": [
    "enumerate는 set, dict와 같이 iterable한 모든 경우에 이용이 가능합니다. "
   ]
  },
  {
   "cell_type": "code",
   "execution_count": 10,
   "metadata": {},
   "outputs": [
    {
     "name": "stdout",
     "output_type": "stream",
     "text": [
      "0: a\n",
      "1: b\n",
      "2: c\n",
      "3: d\n",
      "4: e\n"
     ]
    }
   ],
   "source": [
    "s = ['a', 'b', 'c', 'd', 'e']\n",
    "\n",
    "for i, item in enumerate(s):\n",
    "    print('{}: {}'.format(i, item))"
   ]
  },
  {
   "cell_type": "code",
   "execution_count": null,
   "metadata": {
    "collapsed": true
   },
   "outputs": [],
   "source": []
  }
 ],
 "metadata": {
  "kernelspec": {
   "display_name": "Python 3",
   "language": "python",
   "name": "python3"
  },
  "language_info": {
   "codemirror_mode": {
    "name": "ipython",
    "version": 3
   },
   "file_extension": ".py",
   "mimetype": "text/x-python",
   "name": "python",
   "nbconvert_exporter": "python",
   "pygments_lexer": "ipython3",
   "version": "3.6.2"
  }
 },
 "nbformat": 4,
 "nbformat_minor": 1
}
