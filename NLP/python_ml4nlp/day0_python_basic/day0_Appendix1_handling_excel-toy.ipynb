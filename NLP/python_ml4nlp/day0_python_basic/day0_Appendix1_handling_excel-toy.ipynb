{
 "cells": [
  {
   "cell_type": "markdown",
   "metadata": {},
   "source": [
    "엑셀 파일을 다루려면 xlrd 패키지가 필요합니다. 패키지가 없을 경우 아래처럼 설치해주세요. \n",
    "\n",
    "    pip install xlrd"
   ]
  },
  {
   "cell_type": "code",
   "execution_count": 1,
   "metadata": {
    "collapsed": true
   },
   "outputs": [],
   "source": [
    "import xlrd\n",
    "\n",
    "fname = 'toy.xls'\n",
    "workbook = xlrd.open_workbook(fname) # 엑셀 파일 열기"
   ]
  },
  {
   "cell_type": "code",
   "execution_count": 2,
   "metadata": {},
   "outputs": [
    {
     "data": {
      "text/plain": [
       "list"
      ]
     },
     "execution_count": 2,
     "metadata": {},
     "output_type": "execute_result"
    }
   ],
   "source": [
    "sheet_name_list = workbook.sheet_names() # 엑셀 sheet 이름 가져오기\n",
    "type(sheet_name_list)"
   ]
  },
  {
   "cell_type": "code",
   "execution_count": 3,
   "metadata": {},
   "outputs": [
    {
     "name": "stdout",
     "output_type": "stream",
     "text": [
      "sheet name is 배우\n",
      "sheet name is 가수\n"
     ]
    }
   ],
   "source": [
    "# 이름, 혹은 index로 sheet 가져오기\n",
    "sheet = workbook.sheet_by_name('배우')\n",
    "print('sheet name is %s' % sheet.name)\n",
    "\n",
    "sheet = workbook.sheet_by_index(1)\n",
    "print('sheet name is %s' % sheet.name)"
   ]
  },
  {
   "cell_type": "code",
   "execution_count": 4,
   "metadata": {},
   "outputs": [
    {
     "name": "stdout",
     "output_type": "stream",
     "text": [
      "5 rows, 3 cols\n"
     ]
    }
   ],
   "source": [
    "# sheet 사이즈 보기\n",
    "print('%d rows, %d cols' % (sheet.nrows, sheet.ncols))"
   ]
  },
  {
   "cell_type": "code",
   "execution_count": 5,
   "metadata": {},
   "outputs": [
    {
     "name": "stdout",
     "output_type": "stream",
     "text": [
      "['그룹', '나이', '선호도'] \n",
      "\n",
      "['씨스타', '적음', '좋아함']\n",
      "['트와이스', '적음', '좋아함']\n",
      "['엑소', '어린', '좋아함']\n"
     ]
    }
   ],
   "source": [
    "# 첫 번째 row에 적힌 컬럼 이름 보기\n",
    "row = sheet.row_values(rowx=0) # list 타입\n",
    "print(row, '\\n')\n",
    "\n",
    "# 맨 윗 3줄 데이터 예시 보기\n",
    "for rowx in range(1, 4):\n",
    "    print(sheet.row_values(rowx))"
   ]
  },
  {
   "cell_type": "code",
   "execution_count": 6,
   "metadata": {},
   "outputs": [
    {
     "name": "stdout",
     "output_type": "stream",
     "text": [
      "0 그룹\n",
      "1 나이\n",
      "2 선호도\n"
     ]
    }
   ],
   "source": [
    "# 해당 column의 인덱스 알기\n",
    "for col, column_name in enumerate(row):\n",
    "    print(col, column_name)"
   ]
  },
  {
   "cell_type": "code",
   "execution_count": 7,
   "metadata": {},
   "outputs": [
    {
     "name": "stdout",
     "output_type": "stream",
     "text": [
      "A = 65, Z = 90\n",
      "\n",
      "0 is A\n",
      "3 is D\n",
      "25 is Z\n",
      "26 is AA\n",
      "35 is JA\n",
      "88 is KC\n",
      "\n",
      "0 (A)\t그룹\n",
      "1 (B)\t나이\n",
      "2 (C)\t선호도\n"
     ]
    }
   ],
   "source": [
    "# 엑셀 col 이름으로 같이 보기\n",
    "print('A = %d, Z = %d\\n' % (ord('A'), ord('Z')))\n",
    "\n",
    "def index_to_alphabet(idx, base=26):    \n",
    "    codebook = [chr(c) for c in range(65, 90+1)] # [A, B, ..., Z]\n",
    "    code = []\n",
    "    while idx >= 0:\n",
    "        code.append(codebook[idx % base])\n",
    "        idx = idx // base - 1\n",
    "    return ''.join(code)\n",
    "\n",
    "print('0 is %s' % index_to_alphabet(0))\n",
    "print('3 is %s' % index_to_alphabet(3))\n",
    "print('25 is %s' % index_to_alphabet(25))\n",
    "print('26 is %s' % index_to_alphabet(26))\n",
    "print('35 is %s' % index_to_alphabet(35))\n",
    "print('88 is %s\\n' % index_to_alphabet(88))\n",
    "\n",
    "# 해당 column의 인덱스 알기\n",
    "for col, column_name in enumerate(row):\n",
    "    print('%d (%s)\\t%s' % (col, index_to_alphabet(col), column_name) )"
   ]
  },
  {
   "cell_type": "code",
   "execution_count": 8,
   "metadata": {},
   "outputs": [
    {
     "name": "stdout",
     "output_type": "stream",
     "text": [
      "<class 'list'> 5\n"
     ]
    }
   ],
   "source": [
    "# 한 컬럼의 값만 가져오기\n",
    "col = sheet.col_values(0)\n",
    "print(type(col), len(col))"
   ]
  },
  {
   "cell_type": "code",
   "execution_count": 9,
   "metadata": {},
   "outputs": [
    {
     "name": "stdout",
     "output_type": "stream",
     "text": [
      "sheet 0: True\n",
      "sheet 1: False\n",
      "\t\tcol. A: (이름) != (그룹)\n"
     ]
    }
   ],
   "source": [
    "# 모든 sheet의 양식이 동일한지 확인하기\n",
    "\n",
    "head = workbook.sheet_by_index(0).row_values(0)\n",
    "\n",
    "for sheet_id, sheet in enumerate(workbook.sheets()):\n",
    "    is_same = sheet.row_values(0) == head\n",
    "    print('sheet %d: %r' % (sheet_id, is_same))\n",
    "\n",
    "    if is_same:\n",
    "        continue\n",
    "    \n",
    "    for col, (hc, sc) in enumerate(zip(head, sheet.row_values(0))):\n",
    "        if hc != sc:\n",
    "            print('\\t\\tcol. %s: (%s) != (%s)' % (index_to_alphabet(col), hc, sc))"
   ]
  },
  {
   "cell_type": "code",
   "execution_count": 10,
   "metadata": {},
   "outputs": [
    {
     "name": "stdout",
     "output_type": "stream",
     "text": [
      "(이, 51060), (그, 44536)\n",
      "(름, 47492), (룹, 47353)\n"
     ]
    }
   ],
   "source": [
    "hc = list(head[0])\n",
    "sc = list(workbook.sheet_by_index(1).row_values(0)[0])\n",
    "\n",
    "for h, s in zip(hc, sc):\n",
    "    print('(%s, %d), (%s, %d)' % (h, ord(h), s, ord(s)))"
   ]
  },
  {
   "cell_type": "code",
   "execution_count": 11,
   "metadata": {},
   "outputs": [
    {
     "name": "stdout",
     "output_type": "stream",
     "text": [
      "col_A has 6 rows, 6 unique values\n",
      "col_B has 6 rows, 5 unique values\n",
      "col_C has 6 rows, 4 unique values\n"
     ]
    }
   ],
   "source": [
    "# 모든 sheets로부터 각 columns의 값 누적\n",
    "col_A = [] # col num = 8\n",
    "col_B = [] # col num = 20\n",
    "col_C = [] # col num = 21\n",
    "\n",
    "for sheet in workbook.sheets():\n",
    "    col_A.extend(sheet.col_values(0)[1:]) # Skip head\n",
    "    col_B.extend(sheet.col_values(1)[1:]) # Skip head\n",
    "    col_C.extend(sheet.col_values(2)[1:]) # Skip head\n",
    "    \n",
    "for var_name in ['col_A', 'col_B', 'col_C']:\n",
    "    var = locals()[var_name]\n",
    "    print('%s has %d rows, %d unique values' % (var_name, len(var), len(set(var))))"
   ]
  },
  {
   "cell_type": "code",
   "execution_count": 12,
   "metadata": {},
   "outputs": [
    {
     "data": {
      "text/plain": [
       "['김고은', '강동원', '씨스타', '트와이스', '엑소', '신화']"
      ]
     },
     "execution_count": 12,
     "metadata": {},
     "output_type": "execute_result"
    }
   ],
   "source": [
    "col_A"
   ]
  },
  {
   "cell_type": "code",
   "execution_count": 13,
   "metadata": {},
   "outputs": [
    {
     "data": {
      "text/plain": [
       "[27.0, '동안', '적음', '적음', '어린', '많음']"
      ]
     },
     "execution_count": 13,
     "metadata": {},
     "output_type": "execute_result"
    }
   ],
   "source": [
    "col_B"
   ]
  },
  {
   "cell_type": "code",
   "execution_count": 14,
   "metadata": {},
   "outputs": [
    {
     "data": {
      "text/plain": [
       "['매우좋아함', '제일좋아함', '좋아함', '좋아함', '좋아함', '좋아했음']"
      ]
     },
     "execution_count": 14,
     "metadata": {},
     "output_type": "execute_result"
    }
   ],
   "source": [
    "col_C"
   ]
  },
  {
   "cell_type": "markdown",
   "metadata": {},
   "source": [
    "### pandas DataFrame from excel\n",
    "\n",
    "pandas의 DataFrame에서도 엑셀 파일을 읽을 수 있습니다. 필요하신 분은 아래의 메뉴얼을 보세요\n",
    "\n",
    "- see more: http://pandas.pydata.org/pandas-docs/stable/generated/pandas.read_excel.html\n"
   ]
  },
  {
   "cell_type": "code",
   "execution_count": null,
   "metadata": {
    "collapsed": true
   },
   "outputs": [],
   "source": []
  }
 ],
 "metadata": {
  "anaconda-cloud": {},
  "kernelspec": {
   "display_name": "Python 3",
   "language": "python",
   "name": "python3"
  },
  "language_info": {
   "codemirror_mode": {
    "name": "ipython",
    "version": 3
   },
   "file_extension": ".py",
   "mimetype": "text/x-python",
   "name": "python",
   "nbconvert_exporter": "python",
   "pygments_lexer": "ipython3",
   "version": "3.6.2"
  }
 },
 "nbformat": 4,
 "nbformat_minor": 1
}
