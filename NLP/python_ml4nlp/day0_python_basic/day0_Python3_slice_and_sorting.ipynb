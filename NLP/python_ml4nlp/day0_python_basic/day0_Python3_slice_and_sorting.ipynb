{
 "cells": [
  {
   "cell_type": "markdown",
   "metadata": {},
   "source": [
    "자연어처리를 할 때에는 str slice를 할 일이 많습니다. list의 경우에도 slice를 할 경우가 있습니다. 너무 긴 list를 출력하기보다는 sublist를 만들어서 보면 편하기 때문입니다. "
   ]
  },
  {
   "cell_type": "code",
   "execution_count": 1,
   "metadata": {},
   "outputs": [
    {
     "name": "stdout",
     "output_type": "stream",
     "text": [
      "0123456789\n"
     ]
    }
   ],
   "source": [
    "s = '0123456789'\n",
    "\n",
    "print(s)"
   ]
  },
  {
   "cell_type": "markdown",
   "metadata": {},
   "source": [
    "앞의 3글자만 자를 때에는 다음과 같이 slice합니다. s[begin:end]에서 begin을 쓰지 않으면 0으로 인식합닏. "
   ]
  },
  {
   "cell_type": "code",
   "execution_count": 2,
   "metadata": {},
   "outputs": [
    {
     "name": "stdout",
     "output_type": "stream",
     "text": [
      "012\n",
      "012\n"
     ]
    }
   ],
   "source": [
    "print(s[:3])\n",
    "print(s[0:3])"
   ]
  },
  {
   "cell_type": "markdown",
   "metadata": {},
   "source": [
    "뒤의 다섯글자를 slice 하고 싶다면 아래처럼 하면 됩니다. 이 방법이 좋은 이유는 s의 길이가 얼마이던지 뒤의 5글자를 잘라낸다는 점입니다. 당연히 길이가 10인 s이니, 앞의 5부터 시작해도 동일한 결과가 나옵니다. "
   ]
  },
  {
   "cell_type": "code",
   "execution_count": 3,
   "metadata": {},
   "outputs": [
    {
     "name": "stdout",
     "output_type": "stream",
     "text": [
      "56789\n",
      "56789\n"
     ]
    }
   ],
   "source": [
    "print(s[-5:])\n",
    "print(s[5:])"
   ]
  },
  {
   "cell_type": "markdown",
   "metadata": {},
   "source": [
    "중간의 3부터 7사이의 글자를 잘라낼 수도 있습니다. "
   ]
  },
  {
   "cell_type": "code",
   "execution_count": 4,
   "metadata": {},
   "outputs": [
    {
     "name": "stdout",
     "output_type": "stream",
     "text": [
      "3456\n"
     ]
    }
   ],
   "source": [
    "print(s[3:7])"
   ]
  },
  {
   "cell_type": "markdown",
   "metadata": {},
   "source": [
    "파이썬에서 str은 character list입니다. list의 slice도 동일합니다. "
   ]
  },
  {
   "cell_type": "code",
   "execution_count": 5,
   "metadata": {},
   "outputs": [
    {
     "name": "stdout",
     "output_type": "stream",
     "text": [
      "['0', '1', '2', '3', '4', '5', '6', '7', '8', '9']\n"
     ]
    }
   ],
   "source": [
    "l = list(s)\n",
    "print(l)"
   ]
  },
  {
   "cell_type": "code",
   "execution_count": 6,
   "metadata": {},
   "outputs": [
    {
     "name": "stdout",
     "output_type": "stream",
     "text": [
      "['3', '4', '5', '6']\n"
     ]
    }
   ],
   "source": [
    "print(l[3:7])"
   ]
  },
  {
   "cell_type": "markdown",
   "metadata": {},
   "source": [
    "sorting은 sorted 함수로 손쉽게 할 수 있습니다. 아래의 문장에서 각 글자가 몇 번 등장했는지 카운트를 하여 빈도수 순으로 정렬을 해보겠습니다. 카운트는 collections.Counter를 이용합니다. 그리고 slice를 이용하여 빈도수가 가장 많은 10개의 글자를 출력합니다. "
   ]
  },
  {
   "cell_type": "code",
   "execution_count": 7,
   "metadata": {},
   "outputs": [
    {
     "name": "stdout",
     "output_type": "stream",
     "text": [
      "뒤의 다섯글자를 slice 하고 싶다면 아래처럼 하면 됩니다. 이 방법이 좋은 이유는 s의 길이가 얼마이던지 뒤의 5글자를 잘라낸다는 점입니다. 당연히 길이가 10인 s이니, 앞의 5부터 시작해도 동일한 결과가 나옵니다. sorting은 sorted 함수로 손쉽게 할 수 있습니다. 아래의 문장에서 각 글자가 몇 번 등장했는지 카운트를 하여 빈도수 순으로 정렬을 해보겠습니다. 카운트는 collections.Counter를 이용합니다.\n"
     ]
    }
   ],
   "source": [
    "s = '뒤의 다섯글자를 slice 하고 싶다면 아래처럼 하면 됩니다. 이 방법이 좋은 이유는 s의 길이가 얼마이던지 뒤의 5글자를 잘라낸다는 점입니다. 당연히 길이가 10인 s이니, 앞의 5부터 시작해도 동일한 결과가 나옵니다. sorting은 sorted 함수로 손쉽게 할 수 있습니다. 아래의 문장에서 각 글자가 몇 번 등장했는지 카운트를 하여 빈도수 순으로 정렬을 해보겠습니다. 카운트는 collections.Counter를 이용합니다.'\n",
    "print(s)"
   ]
  },
  {
   "cell_type": "markdown",
   "metadata": {},
   "source": [
    "counter는 dict 형식이기 때문에 items()를 하면 (글자, 빈도수) pair가 만들어집니다. sorted에서 key는 정렬기준을 정의하는 것입니다. \n",
    "\n",
    "lambda는 이름없는 함수입니다. 이 문법은 익숙하지 않더라도 일단 외워두세요. lambda x:x[1]은 x라는 변수가 들어왔을 때, x[1]을 return하라는 의미입니다. (단어, 빈도수)가 x로 입력되면 1번째 값인 빈도수를 return 합니다. 이를 기준으로 정렬을 하는데 그 순서는 reverse이니 숫자가 큰것에서 작은것으로 decreasing order를 따릅니다. "
   ]
  },
  {
   "cell_type": "code",
   "execution_count": 8,
   "metadata": {},
   "outputs": [
    {
     "name": "stdout",
     "output_type": "stream",
     "text": [
      "[('뒤', 2), ('의', 5), (' ', 51), ('다', 9), ('섯', 1), ('글', 3), ('자', 3), ('를', 4), ('s', 6), ('l', 3)] ...\n",
      "\n",
      "[(' ', 51),\n",
      " ('다', 9),\n",
      " ('이', 8),\n",
      " ('니', 7),\n",
      " ('.', 7),\n",
      " ('s', 6),\n",
      " ('의', 5),\n",
      " ('o', 5),\n",
      " ('를', 4),\n",
      " ('e', 4)]\n"
     ]
    }
   ],
   "source": [
    "from collections import Counter\n",
    "counter = Counter(s)\n",
    "\n",
    "print(list(counter.items())[:10], '...\\n')\n",
    "\n",
    "from pprint import pprint\n",
    "pprint(sorted(counter.items(), key=lambda x:x[1], reverse=True)[:10])"
   ]
  },
  {
   "cell_type": "markdown",
   "metadata": {},
   "source": [
    "decreasing order를 다르게 만들 수도 있습니다. 빈도수에 -1을 곱하면 동일한 결과를 얻을 수 있습니다. "
   ]
  },
  {
   "cell_type": "code",
   "execution_count": 9,
   "metadata": {},
   "outputs": [
    {
     "name": "stdout",
     "output_type": "stream",
     "text": [
      "[(' ', 51),\n",
      " ('다', 9),\n",
      " ('이', 8),\n",
      " ('니', 7),\n",
      " ('.', 7),\n",
      " ('s', 6),\n",
      " ('의', 5),\n",
      " ('o', 5),\n",
      " ('를', 4),\n",
      " ('e', 4)]\n"
     ]
    }
   ],
   "source": [
    "pprint(sorted(counter.items(), key=lambda x:-x[1])[:10])"
   ]
  },
  {
   "cell_type": "markdown",
   "metadata": {},
   "source": [
    "같은 값이 나올 경우에 두번째 기준을 정의할 수도 있습니다. \n",
    "\n",
    "    key=lambda x:(x[1], x[0])\n",
    "    \n",
    "위 argument는 일단 빈도수 기준으로 오름차순으로 정렬하는데, 같은 빈도수가 나오면 x[0], 즉 글자 기준 (alphabet order)으로 정렬하라는 의미입니다. 처음에는 빈도수 기준으로만 정렬해보겠습니다. "
   ]
  },
  {
   "cell_type": "code",
   "execution_count": 10,
   "metadata": {},
   "outputs": [
    {
     "name": "stdout",
     "output_type": "stream",
     "text": [
      "[('섯', 1),\n",
      " ('고', 1),\n",
      " ('싶', 1),\n",
      " ('처', 1),\n",
      " ('럼', 1),\n",
      " ('됩', 1),\n",
      " ('방', 1),\n",
      " ('법', 1),\n",
      " ('좋', 1),\n",
      " ('유', 1)]\n"
     ]
    }
   ],
   "source": [
    "pprint(sorted(counter.items(), key=lambda x:x[1])[:10])"
   ]
  },
  {
   "cell_type": "markdown",
   "metadata": {},
   "source": [
    "이번에는 tie가 날 경우에 alphabet order를 따르도록 하겠습니다. "
   ]
  },
  {
   "cell_type": "code",
   "execution_count": 11,
   "metadata": {},
   "outputs": [
    {
     "name": "stdout",
     "output_type": "stream",
     "text": [
      "[(',', 1),\n",
      " ('0', 1),\n",
      " ('1', 1),\n",
      " ('C', 1),\n",
      " ('d', 1),\n",
      " ('g', 1),\n",
      " ('u', 1),\n",
      " ('각', 1),\n",
      " ('게', 1),\n",
      " ('겠', 1)]\n"
     ]
    }
   ],
   "source": [
    "pprint(sorted(counter.items(), key=lambda x:(x[1], x[0]))[:10])"
   ]
  },
  {
   "cell_type": "markdown",
   "metadata": {},
   "source": [
    "lambda가 함수이기 때문에 정렬기준을 미리 함수로 만들어 둔 뒤, 이를 key에 입력할 수도 있습니다. "
   ]
  },
  {
   "cell_type": "code",
   "execution_count": 12,
   "metadata": {},
   "outputs": [
    {
     "name": "stdout",
     "output_type": "stream",
     "text": [
      "[(' ', 51),\n",
      " ('다', 9),\n",
      " ('이', 8),\n",
      " ('니', 7),\n",
      " ('.', 7),\n",
      " ('s', 6),\n",
      " ('의', 5),\n",
      " ('o', 5),\n",
      " ('를', 4),\n",
      " ('e', 4)]\n"
     ]
    }
   ],
   "source": [
    "def sorting_key(x):\n",
    "    return -x[1]\n",
    "\n",
    "pprint(sorted(counter.items(), key=sorting_key)[:10])"
   ]
  },
  {
   "cell_type": "code",
   "execution_count": null,
   "metadata": {
    "collapsed": true
   },
   "outputs": [],
   "source": []
  }
 ],
 "metadata": {
  "kernelspec": {
   "display_name": "Python 3",
   "language": "python",
   "name": "python3"
  },
  "language_info": {
   "codemirror_mode": {
    "name": "ipython",
    "version": 3
   },
   "file_extension": ".py",
   "mimetype": "text/x-python",
   "name": "python",
   "nbconvert_exporter": "python",
   "pygments_lexer": "ipython3",
   "version": "3.6.2"
  }
 },
 "nbformat": 4,
 "nbformat_minor": 1
}
