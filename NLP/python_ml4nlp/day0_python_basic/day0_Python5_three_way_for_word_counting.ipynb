{
 "cells": [
  {
   "cell_type": "markdown",
   "metadata": {},
   "source": [
    "Day1에서 KoNLPy를 이용하는 방법에 대하여 실습을 하였습니다. (Day0을 먼저 보신다면, 일단 아래처럼 KoNLPy를 이용해보세요)\n",
    "\n",
    "12개로 이뤄진 실제 뉴스 기사에 대하여 각각의 형태소 분석기를 적용해 보겠습니다. "
   ]
  },
  {
   "cell_type": "code",
   "execution_count": 1,
   "metadata": {
    "collapsed": true
   },
   "outputs": [],
   "source": [
    "sents = ['최순실 씨가 외국인투자촉진법 개정안 통과와 예산안 반영까지 꼼꼼이 챙긴 건데, 이른바 외촉법, 어떤 법이길래 최 씨가 열심히 챙긴 걸까요. 자신의 이해관계와 맞아 떨어지는 부분이 없었는지 취재기자와 한걸음 더 들여다보겠습니다. 이서준 기자, 우선 외국인투자촉진법 개정안, 어떤 내용입니까?',\n",
    "        '한마디로 대기업이 외국 투자를 받아 계열사를 설립할 때 규제를 완화시켜 주는 법안입니다. 대기업 지주사의 손자 회사가 이른바 증손회사를 만들 때 지분 100%를 출자해야 합니다. 대기업의 문어발식 계열사 확장을 막기 위한 조치인데요. 외촉법 개정안은 손자회사가 외국 투자를 받아서 증손회사를 만들 땐 예외적으로 50% 지분만 투자해도 되게끔 해주는 내용입니다.',\n",
    "        '그만큼 쉽게 완화해주는 거잖아요. 그때 기억을 더듬어보면 야당의 반발이 매우 심했습니다. 그 이유가 뭐였죠? ',\n",
    "        '대기업 특혜 법안이라는 취지였는데요. (당연히 그랬겠죠.) 당시 박영선 의원의 국회 발언을 들어보시겠습니다. [박영선 의원/더불어민주당 (2013년 12월 31일) : 경제의 근간을 흔드는 법을 무원칙적으로 이렇게 특정 재벌 회사에게 특혜를 주기 위해 간청하는 민원법을 우리가 새해부터 왜 통과시켜야 합니까.]',\n",
    "        '최순실 씨 사건을 쫓아가다 보면 본의 아니게 이번 정부의 과거로 올라가면서 복기하는 듯한 느낌이 드는데 이것도 바로 그중 하나입니다. 생생하게 기억합니다. 이 때 장면들은. 특정 재벌 회사를 위한 특혜라고 말하는데, 어떤 기업을 말하는 건가요?',\n",
    "        'SK와 GS 입니다. 개정안이 통과되는 걸 전제로 두 회사는 외국 투자를 받아 증손회사 설립을 진행중이었기 때문인데요. 당시 개정안이 통과되지 않으면 두 기업이 수조원의 손실이 생길 수 있는 것으로 알려져 있었습니다. 허창수 GS 회장과 김창근 SK회장은 2013년 8월 박 대통령과 청와대에서 대기업 회장단 오찬자리에서 외촉법 통과를 요청한 바도 있습니다. ',\n",
    "        '물론 두 기업과 최순실 씨와 연결고리가 나온 건 아니지만, 정 전 비서관 녹취파일 속 최 씨는 외촉법에 상당히 집착을 하는 걸로 보이긴 합니다.',\n",
    "        '네 그렇습니다. 통화 내용을 다시 짚어보면요. 최 씨는 외촉법 관련 예산이 12월 2일, 반드시 되어야 한다, 작년 예산으로 돼서는 안 된다고 얘기하고 있는데요. 다시 말해서 외촉법 관련 예산안이 내년에 반영되어야 한다고 압박을 하고 있는 겁니다. 그러면서 \"국민을 볼모로 잡고 있다\"며 \"국회와 정치권에 책임을 묻겠다\"고 으름장까지 놓고 있는데요. 매우 집착하는 모습인데요. 이에 대해서 정 전 비서관이 \"예산이 그렇게 빨리 통과된 적 없습니다\"고 말하자 말을 끊으면서 매우 흥분한 듯, \"그렇더라도, 그렇더라도\" 하면서 \"야당이 공약 지키라고 하면서 협조는 안 한다\", \"대통령으로 할 수 있는 일이 없다\", \"불공정 사태와 난맥상이 나온다\"며 굉장한 압박까지 하고 있습니다.',\n",
    "        '이 얘기들만 들여다봐도 마치 본인이 대통령처럼 얘기하고 있습니다. 내용들 보면 그렇지 않습니까? 혹시 최 씨가 이 외촉법 통과로 이득을 본 경우도 있습니까. ',\n",
    "        '최 씨가 입김을 넣어 차은택 씨가 주도를 한 걸로 알려진 K컬처밸리 사업이 그렇다는 얘기가 나오고 있습니다. 외촉법을 편법으로 활용해 1% 금리를 적용받았다는 지적이 나오고 있습니다. 본격 사업이 추진되기 전 최순실 국정개입 사건이 터지기는 했지만, 이외에도 다른 혜택을 받았는지는 조사가 필요해 보입니다. ',\n",
    "        '그런데 녹취파일을 보면 \"남자1\"이 등장합니다. 이 사람은 누구입니까?',\n",
    "        '정 전 비서관을 \"정 과장님\"으로 부르며 반말을 하는 남자인데요. 최순실 씨처럼 정 전 비서관을 하대하고 있습니다. 또 청와대 내부 정보를 알고 있는 듯하고 또 인사에까지 개입하려고 하고 있습니다. 그렇기 때문에 정윤회 씨로 추정은 됩니다만 확인은 되지 않습니다.'\n",
    "]"
   ]
  },
  {
   "cell_type": "code",
   "execution_count": 2,
   "metadata": {
    "collapsed": true
   },
   "outputs": [],
   "source": [
    "from konlpy.tag import Twitter\n",
    "\n",
    "twitter = Twitter()"
   ]
  },
  {
   "cell_type": "code",
   "execution_count": 3,
   "metadata": {
    "collapsed": true
   },
   "outputs": [],
   "source": [
    "tokens = [pos for sent in sents for pos in twitter.pos(sent)]"
   ]
  },
  {
   "cell_type": "code",
   "execution_count": 4,
   "metadata": {},
   "outputs": [
    {
     "name": "stdout",
     "output_type": "stream",
     "text": [
      "[('최순실', 'Noun'), ('씨', 'Noun'), ('가', 'Josa'), ('외국인투자', 'Noun'), ('촉진법', 'Noun'), ('개정안', 'Noun'), ('통과', 'Noun'), ('와', 'Josa'), ('예산안', 'Noun'), ('반영', 'Noun'), ('까지', 'Josa'), ('꼼꼼', 'Adverb'), ('이', 'Determiner'), ('챙긴', 'Verb'), ('건데', 'Eomi'), (',', 'Punctuation'), ('이른바', 'Adverb'), ('외촉법', 'Noun'), (',', 'Punctuation'), ('어떤', 'Adjective'), ('법', 'Noun'), ('이길', 'Verb'), ('래', 'Eomi'), ('최', 'Noun'), ('씨', 'Noun'), ('가', 'Josa'), ('열심히', 'Adverb'), ('챙긴', 'Verb'), ('걸', 'Verb'), ('까', 'Eomi'), ('요', 'Noun'), ('.', 'Punctuation'), ('자신', 'Noun'), ('의', 'Josa'), ('이해관계', 'Noun'), ('와', 'Josa'), ('맞아', 'Verb'), ('떨어지는', 'Verb'), ('부분', 'Noun'), ('이', 'Josa'), ('없었', 'Adjective'), ('는지', 'Eomi'), ('취재', 'Noun'), ('기자', 'Noun'), ('와', 'Josa'), ('한', 'Determiner'), ('걸음', 'Noun'), ('더', 'Noun'), ('들여다보겠', 'Verb'), ('습니다', 'Eomi')]\n"
     ]
    }
   ],
   "source": [
    "print(tokens[:50])"
   ]
  },
  {
   "cell_type": "markdown",
   "metadata": {},
   "source": [
    "각 단어들이 몇 번 등장하였는지 그 횟수를 카운팅하겠습니다. 이 때 가장 좋지 않은 방법인 (1) dict를 이용하는 법, 조금 더 나은 (2) defaultdict를 이용하는 법, (3) collections.Counter를 이용하는 법을 모두 살펴봅니다. "
   ]
  },
  {
   "cell_type": "code",
   "execution_count": 5,
   "metadata": {},
   "outputs": [
    {
     "name": "stdout",
     "output_type": "stream",
     "text": [
      "[(('최순실', 'Noun'), 5), (('씨', 'Noun'), 11), (('가', 'Josa'), 12), (('외국인투자', 'Noun'), 2), (('촉진법', 'Noun'), 2)] ...\n"
     ]
    }
   ],
   "source": [
    "counter = {}\n",
    "for word in tokens:\n",
    "    if word in counter:\n",
    "        counter[word] = counter[word] + 1\n",
    "    else:\n",
    "        counter[word] = 1   \n",
    "\n",
    "print(list(counter.items())[:5], '...')"
   ]
  },
  {
   "cell_type": "markdown",
   "metadata": {},
   "source": [
    "정렬은 sorted를 이용합니다. sorted 함수의 key를 통하여 정렬의 기준을 지정할 수 있습니다. \n",
    "\n",
    "lambda는 이름이 없는 함수를 의미합니다. counter는 dict이므로 keys(), values, items()를 가집니다. 이 때 items()의 return은 [(key, value), (key, value), ...] 형태이기 때문에 정렬 대상 (key, value)를 x로 볼 때, x의 1번째 값 x[1]을 기준으로 정렬하라는 의미이며, 순서는 1, 2, 3, ..의 오름차순이 아닌 역순으로 하라는 의미입니다. \n",
    "\n",
    "sorted의 return type은 list이기 때문에 가장 앞쪽의 5개만 slice하여 살펴봅니다. "
   ]
  },
  {
   "cell_type": "code",
   "execution_count": 6,
   "metadata": {},
   "outputs": [
    {
     "data": {
      "text/plain": [
       "[(('.', 'Punctuation'), 35),\n",
       " (('을', 'Josa'), 23),\n",
       " (('이', 'Josa'), 18),\n",
       " (('\"', 'Punctuation'), 16),\n",
       " (('습니다', 'Eomi'), 14)]"
      ]
     },
     "execution_count": 6,
     "metadata": {},
     "output_type": "execute_result"
    }
   ],
   "source": [
    "# 정렬\n",
    "sorted(counter.items(), key=lambda x:x[1], reverse=True)[:5]"
   ]
  },
  {
   "cell_type": "markdown",
   "metadata": {},
   "source": [
    "그런데 Python에서는 if word in counter: else: 와 같은 구문을 한 줄로 아름답게 코딩할 수 있도록 defaultdict를 제공해줍니다. dict.get(key, 0)과 같은 효과가 있습니다. 더해서 명사, tag가 Noun인 단어만 골라서 counting을 해보겠습니다. "
   ]
  },
  {
   "cell_type": "code",
   "execution_count": 7,
   "metadata": {},
   "outputs": [
    {
     "name": "stdout",
     "output_type": "stream",
     "text": [
      "[(('씨', 'Noun'), 11),\n",
      " (('외촉법', 'Noun'), 8),\n",
      " (('회사', 'Noun'), 8),\n",
      " (('통과', 'Noun'), 7),\n",
      " (('이', 'Noun'), 6),\n",
      " (('최순실', 'Noun'), 5),\n",
      " (('개정안', 'Noun'), 5),\n",
      " (('최', 'Noun'), 5),\n",
      " (('대기업', 'Noun'), 5),\n",
      " (('정', 'Noun'), 5),\n",
      " (('전', 'Noun'), 5),\n",
      " (('요', 'Noun'), 4),\n",
      " (('내용', 'Noun'), 4),\n",
      " (('투자', 'Noun'), 4),\n",
      " (('비서', 'Noun'), 4),\n",
      " (('관', 'Noun'), 4),\n",
      " (('법', 'Noun'), 3),\n",
      " (('외국', 'Noun'), 3),\n",
      " (('때', 'Noun'), 3),\n",
      " (('증손', 'Noun'), 3),\n",
      " (('매우', 'Noun'), 3),\n",
      " (('특혜', 'Noun'), 3),\n",
      " (('월', 'Noun'), 3),\n",
      " (('듯', 'Noun'), 3),\n",
      " (('기업', 'Noun'), 3),\n",
      " (('걸', 'Noun'), 3),\n",
      " (('두', 'Noun'), 3),\n",
      " (('회장', 'Noun'), 3),\n",
      " (('대통령', 'Noun'), 3),\n",
      " (('예산', 'Noun'), 3),\n",
      " (('외국인투자', 'Noun'), 2),\n",
      " (('촉진법', 'Noun'), 2),\n",
      " (('예산안', 'Noun'), 2),\n",
      " (('반영', 'Noun'), 2),\n",
      " (('기자', 'Noun'), 2),\n",
      " (('입', 'Noun'), 2),\n",
      " (('계', 'Noun'), 2),\n",
      " (('열사', 'Noun'), 2),\n",
      " (('완화', 'Noun'), 2),\n",
      " (('법안', 'Noun'), 2),\n",
      " (('손자', 'Noun'), 2),\n",
      " (('야당', 'Noun'), 2),\n",
      " (('당시', 'Noun'), 2),\n",
      " (('박영선', 'Noun'), 2),\n",
      " (('의원', 'Noun'), 2),\n",
      " (('국회', 'Noun'), 2),\n",
      " (('년', 'Noun'), 2),\n",
      " (('일', 'Noun'), 2),\n",
      " (('특정', 'Noun'), 2),\n",
      " (('재벌', 'Noun'), 2),\n",
      " (('사건', 'Noun'), 2),\n",
      " (('것', 'Noun'), 2),\n",
      " (('때문', 'Noun'), 2),\n",
      " (('수', 'Noun'), 2),\n",
      " (('청와대', 'Noun'), 2),\n",
      " (('집착', 'Noun'), 2),\n",
      " (('다시', 'Noun'), 2),\n",
      " (('관련', 'Noun'), 2),\n",
      " (('안', 'Noun'), 2),\n",
      " (('압박', 'Noun'), 2),\n",
      " (('며', 'Noun'), 2),\n",
      " (('고', 'Noun'), 2),\n",
      " (('얘기', 'Noun'), 2),\n",
      " (('사업', 'Noun'), 2),\n",
      " (('개입', 'Noun'), 2),\n",
      " (('또', 'Noun'), 2),\n",
      " (('자신', 'Noun'), 1),\n",
      " (('이해관계', 'Noun'), 1),\n",
      " (('부분', 'Noun'), 1),\n",
      " (('취재', 'Noun'), 1),\n",
      " (('걸음', 'Noun'), 1),\n",
      " (('더', 'Noun'), 1),\n",
      " (('이서준', 'Noun'), 1),\n",
      " (('우선', 'Noun'), 1),\n",
      " (('한마디', 'Noun'), 1),\n",
      " (('규제', 'Noun'), 1),\n",
      " (('지주사', 'Noun'), 1),\n",
      " (('분', 'Noun'), 1),\n",
      " (('를', 'Noun'), 1),\n",
      " (('출자', 'Noun'), 1),\n",
      " (('문어', 'Noun'), 1),\n",
      " (('발', 'Noun'), 1),\n",
      " (('확장', 'Noun'), 1),\n",
      " (('조치', 'Noun'), 1),\n",
      " (('땐', 'Noun'), 1),\n",
      " (('예외', 'Noun'), 1),\n",
      " (('분만', 'Noun'), 1),\n",
      " (('거', 'Noun'), 1),\n",
      " (('그때', 'Noun'), 1),\n",
      " (('기억', 'Noun'), 1),\n",
      " (('더듬어보', 'Noun'), 1),\n",
      " (('반발', 'Noun'), 1),\n",
      " (('그', 'Noun'), 1),\n",
      " (('이유', 'Noun'), 1),\n",
      " (('뭐', 'Noun'), 1),\n",
      " (('취지', 'Noun'), 1),\n",
      " (('발언', 'Noun'), 1),\n",
      " (('민주당', 'Noun'), 1),\n",
      " (('경제', 'Noun'), 1),\n",
      " (('근간', 'Noun'), 1),\n",
      " (('무', 'Noun'), 1),\n",
      " (('원칙', 'Noun'), 1),\n",
      " (('주기', 'Noun'), 1),\n",
      " (('위해', 'Noun'), 1),\n",
      " (('간청', 'Noun'), 1),\n",
      " (('민원', 'Noun'), 1),\n",
      " (('우리', 'Noun'), 1),\n",
      " (('새해', 'Noun'), 1),\n",
      " (('왜', 'Noun'), 1),\n",
      " (('합', 'Noun'), 1),\n",
      " (('본의', 'Noun'), 1),\n",
      " (('이번', 'Noun'), 1),\n",
      " (('정부', 'Noun'), 1),\n",
      " (('과거', 'Noun'), 1),\n",
      " (('복기', 'Noun'), 1),\n",
      " (('느낌', 'Noun'), 1),\n",
      " (('바로', 'Noun'), 1),\n",
      " (('하나', 'Noun'), 1),\n",
      " (('생생', 'Noun'), 1),\n",
      " (('장면', 'Noun'), 1),\n",
      " (('건가', 'Noun'), 1),\n",
      " (('와', 'Noun'), 1),\n",
      " (('전제', 'Noun'), 1),\n",
      " (('설립', 'Noun'), 1),\n",
      " (('진행중', 'Noun'), 1),\n",
      " (('수조', 'Noun'), 1),\n",
      " (('손실', 'Noun'), 1),\n",
      " (('허창수', 'Noun'), 1),\n",
      " (('김창근', 'Noun'), 1),\n",
      " (('박', 'Noun'), 1),\n",
      " (('단', 'Noun'), 1),\n",
      " (('오찬', 'Noun'), 1),\n",
      " (('바', 'Noun'), 1),\n",
      " (('물론', 'Noun'), 1),\n",
      " (('연결고리', 'Noun'), 1),\n",
      " (('건', 'Noun'), 1),\n",
      " (('녹취', 'Noun'), 1),\n",
      " (('파일', 'Noun'), 1),\n",
      " (('속', 'Noun'), 1),\n",
      " (('네', 'Noun'), 1),\n",
      " (('통화', 'Noun'), 1),\n",
      " (('반드시', 'Noun'), 1),\n",
      " (('작년', 'Noun'), 1),\n",
      " (('내년', 'Noun'), 1),\n",
      " (('국민', 'Noun'), 1),\n",
      " (('볼모', 'Noun'), 1),\n",
      " (('잡고', 'Noun'), 1),\n",
      " (('정치권', 'Noun'), 1),\n",
      " (('책임', 'Noun'), 1),\n",
      " (('으름장', 'Noun'), 1),\n",
      " (('모습', 'Noun'), 1),\n",
      " (('적', 'Noun'), 1),\n",
      " (('말', 'Noun'), 1),\n",
      " (('공약', 'Noun'), 1),\n",
      " (('협조', 'Noun'), 1),\n",
      " (('일이', 'Noun'), 1),\n",
      " (('불공정', 'Noun'), 1),\n",
      " (('사태', 'Noun'), 1),\n",
      " (('난맥', 'Noun'), 1),\n",
      " (('상이', 'Noun'), 1),\n",
      " (('마치', 'Noun'), 1),\n",
      " (('본인', 'Noun'), 1),\n",
      " (('혹시', 'Noun'), 1),\n",
      " (('이득', 'Noun'), 1),\n",
      " (('경우', 'Noun'), 1),\n",
      " (('입김', 'Noun'), 1),\n",
      " (('차', 'Noun'), 1),\n",
      " (('은택', 'Noun'), 1),\n",
      " (('주도', 'Noun'), 1),\n",
      " (('컬처', 'Noun'), 1),\n",
      " (('밸리', 'Noun'), 1),\n",
      " (('편법', 'Noun'), 1),\n",
      " (('금리', 'Noun'), 1),\n",
      " (('적용', 'Noun'), 1),\n",
      " (('지적', 'Noun'), 1),\n",
      " (('본격', 'Noun'), 1),\n",
      " (('추진', 'Noun'), 1),\n",
      " (('국정', 'Noun'), 1),\n",
      " (('이외', 'Noun'), 1),\n",
      " (('다른', 'Noun'), 1),\n",
      " (('혜택', 'Noun'), 1),\n",
      " (('조사', 'Noun'), 1),\n",
      " (('녹취파일', 'Noun'), 1),\n",
      " (('남자', 'Noun'), 1),\n",
      " (('사람', 'Noun'), 1),\n",
      " (('누구', 'Noun'), 1),\n",
      " (('과장', 'Noun'), 1),\n",
      " (('반말', 'Noun'), 1),\n",
      " (('하대', 'Noun'), 1),\n",
      " (('내부', 'Noun'), 1),\n",
      " (('정보', 'Noun'), 1),\n",
      " (('알', 'Noun'), 1),\n",
      " (('인사', 'Noun'), 1),\n",
      " (('정윤회', 'Noun'), 1),\n",
      " (('추정', 'Noun'), 1),\n",
      " (('확인', 'Noun'), 1)]\n"
     ]
    }
   ],
   "source": [
    "from collections import defaultdict\n",
    "\n",
    "counter = defaultdict(lambda: 0)\n",
    "nouns = [word for word in tokens if word[1] == 'Noun']\n",
    "\n",
    "for word in nouns:\n",
    "    counter[word] += 1\n",
    "\n",
    "from pprint import pprint\n",
    "pprint(sorted(counter.items(), key=lambda x:x[1], reverse=True))"
   ]
  },
  {
   "cell_type": "markdown",
   "metadata": {},
   "source": [
    "빈도수가 작은 경우도 많아서 좀 복잡해 보입니다. 최소한 2번 이상 나온 단어들만 살펴보겠습니다."
   ]
  },
  {
   "cell_type": "code",
   "execution_count": 8,
   "metadata": {},
   "outputs": [
    {
     "name": "stdout",
     "output_type": "stream",
     "text": [
      "[(('씨', 'Noun'), 11),\n",
      " (('외촉법', 'Noun'), 8),\n",
      " (('회사', 'Noun'), 8),\n",
      " (('통과', 'Noun'), 7),\n",
      " (('이', 'Noun'), 6),\n",
      " (('최순실', 'Noun'), 5),\n",
      " (('개정안', 'Noun'), 5),\n",
      " (('최', 'Noun'), 5),\n",
      " (('대기업', 'Noun'), 5),\n",
      " (('정', 'Noun'), 5),\n",
      " (('전', 'Noun'), 5),\n",
      " (('요', 'Noun'), 4),\n",
      " (('내용', 'Noun'), 4),\n",
      " (('투자', 'Noun'), 4),\n",
      " (('비서', 'Noun'), 4),\n",
      " (('관', 'Noun'), 4),\n",
      " (('법', 'Noun'), 3),\n",
      " (('외국', 'Noun'), 3),\n",
      " (('때', 'Noun'), 3),\n",
      " (('증손', 'Noun'), 3),\n",
      " (('매우', 'Noun'), 3),\n",
      " (('특혜', 'Noun'), 3),\n",
      " (('월', 'Noun'), 3),\n",
      " (('듯', 'Noun'), 3),\n",
      " (('기업', 'Noun'), 3),\n",
      " (('걸', 'Noun'), 3),\n",
      " (('두', 'Noun'), 3),\n",
      " (('회장', 'Noun'), 3),\n",
      " (('대통령', 'Noun'), 3),\n",
      " (('예산', 'Noun'), 3),\n",
      " (('외국인투자', 'Noun'), 2),\n",
      " (('촉진법', 'Noun'), 2),\n",
      " (('예산안', 'Noun'), 2),\n",
      " (('반영', 'Noun'), 2),\n",
      " (('기자', 'Noun'), 2),\n",
      " (('입', 'Noun'), 2),\n",
      " (('계', 'Noun'), 2),\n",
      " (('열사', 'Noun'), 2),\n",
      " (('완화', 'Noun'), 2),\n",
      " (('법안', 'Noun'), 2),\n",
      " (('손자', 'Noun'), 2),\n",
      " (('야당', 'Noun'), 2),\n",
      " (('당시', 'Noun'), 2),\n",
      " (('박영선', 'Noun'), 2),\n",
      " (('의원', 'Noun'), 2),\n",
      " (('국회', 'Noun'), 2),\n",
      " (('년', 'Noun'), 2),\n",
      " (('일', 'Noun'), 2),\n",
      " (('특정', 'Noun'), 2),\n",
      " (('재벌', 'Noun'), 2),\n",
      " (('사건', 'Noun'), 2),\n",
      " (('것', 'Noun'), 2),\n",
      " (('때문', 'Noun'), 2),\n",
      " (('수', 'Noun'), 2),\n",
      " (('청와대', 'Noun'), 2),\n",
      " (('집착', 'Noun'), 2),\n",
      " (('다시', 'Noun'), 2),\n",
      " (('관련', 'Noun'), 2),\n",
      " (('안', 'Noun'), 2),\n",
      " (('압박', 'Noun'), 2),\n",
      " (('며', 'Noun'), 2),\n",
      " (('고', 'Noun'), 2),\n",
      " (('얘기', 'Noun'), 2),\n",
      " (('사업', 'Noun'), 2),\n",
      " (('개입', 'Noun'), 2),\n",
      " (('또', 'Noun'), 2)]\n"
     ]
    }
   ],
   "source": [
    "counter = {word:freq for word, freq in counter.items() if (freq >= 2) and (word[1] == 'Noun')}\n",
    "pprint(sorted(counter.items(), key=lambda x:x[1], reverse=True))"
   ]
  },
  {
   "cell_type": "markdown",
   "metadata": {},
   "source": [
    "최순실 -> [최, 순, 실], 박영선 -> [박, 영선]으로 나눠진 걸 볼 수 있습니다. 그런데 적어도 지금 시기의 뉴스 분석을 하기 위해서는 놓쳐서는 안되는 이름같습니다.\n",
    "\n",
    "그리고 카운팅을 하기 위해서는 사실 더 좋은 클래스를 Python에서 제공해 주고 있습니다. 위 작업을 가장 짧게 코딩해 보겠습니다."
   ]
  },
  {
   "cell_type": "code",
   "execution_count": 9,
   "metadata": {},
   "outputs": [
    {
     "name": "stdout",
     "output_type": "stream",
     "text": [
      "[(('씨', 'Noun'), 11),\n",
      " (('외촉법', 'Noun'), 8),\n",
      " (('회사', 'Noun'), 8),\n",
      " (('통과', 'Noun'), 7),\n",
      " (('이', 'Noun'), 6),\n",
      " (('최순실', 'Noun'), 5),\n",
      " (('개정안', 'Noun'), 5),\n",
      " (('최', 'Noun'), 5),\n",
      " (('대기업', 'Noun'), 5),\n",
      " (('정', 'Noun'), 5),\n",
      " (('전', 'Noun'), 5),\n",
      " (('요', 'Noun'), 4),\n",
      " (('내용', 'Noun'), 4),\n",
      " (('투자', 'Noun'), 4),\n",
      " (('비서', 'Noun'), 4),\n",
      " (('관', 'Noun'), 4)]\n"
     ]
    }
   ],
   "source": [
    "from collections import Counter\n",
    "\n",
    "counter = Counter(tokens)\n",
    "counter = {word:freq for word, freq in counter.items() if (freq >= 4) and (word[1] == 'Noun')}\n",
    "pprint(sorted(counter.items(), key=lambda x:x[1], reverse=True))"
   ]
  },
  {
   "cell_type": "code",
   "execution_count": null,
   "metadata": {
    "collapsed": true
   },
   "outputs": [],
   "source": []
  }
 ],
 "metadata": {
  "kernelspec": {
   "display_name": "Python 3",
   "language": "python",
   "name": "python3"
  },
  "language_info": {
   "codemirror_mode": {
    "name": "ipython",
    "version": 3
   },
   "file_extension": ".py",
   "mimetype": "text/x-python",
   "name": "python",
   "nbconvert_exporter": "python",
   "pygments_lexer": "ipython3",
   "version": "3.6.2"
  }
 },
 "nbformat": 4,
 "nbformat_minor": 1
}
