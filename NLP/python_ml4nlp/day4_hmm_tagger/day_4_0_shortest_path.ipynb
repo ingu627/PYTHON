{
 "cells": [
  {
   "cell_type": "markdown",
   "metadata": {},
   "source": [
    "## Shortest path\n",
    "\n",
    "실습에 이용할 지하철 역 간의 경로 그래프 입니다. `교대`에서 `동대문운동장`으로, `동대문운동장`에서 `교대`로 가는 거리를 모두 입력한 형태이며, g 의 첫 번째 키는 출발역, 두번째 키는 도착역을 의미합니다."
   ]
  },
  {
   "cell_type": "code",
   "execution_count": 1,
   "metadata": {},
   "outputs": [
    {
     "name": "stdout",
     "output_type": "stream",
     "text": [
      "{'교대': {'동대문운동장': 34.0, '사당': 7.0, '충무로': 18.0},\n",
      " '동대문운동장': {'교대': 34.0, '을지로3가': 3.0, '충무로': 2.0},\n",
      " '사당': {'교대': 7.0, '서울역': 16.0, '신도림': 17.0},\n",
      " '서울역': {'사당': 16.0, '시청': 2.0, '신도림': 17.0, '충무로': 5.0},\n",
      " '시청': {'서울역': 2.0, '신도림': 23.0, '을지로3가': 4.0},\n",
      " '신도림': {'사당': 17.0, '서울역': 17.0, '시청': 23.0},\n",
      " '을지로3가': {'동대문운동장': 3.0, '시청': 4.0, '충무로': 1.0},\n",
      " '충무로': {'교대': 18.0, '동대문운동장': 2.0, '서울역': 5.0, '을지로3가': 1.0}}\n"
     ]
    }
   ],
   "source": [
    "from pprint import pprint\n",
    "\n",
    "g = {'교대': {'동대문운동장': 34.0, '사당': 7.0, '충무로': 18.0},\n",
    " '동대문운동장': {'교대': 34.0, '을지로3가': 3.0, '충무로': 2.0},\n",
    " '사당': {'교대': 7.0, '서울역': 16.0, '신도림': 17.0},\n",
    " '서울역': {'사당': 16.0, '시청': 2.0, '신도림': 17.0, '충무로': 5.0},\n",
    " '시청': {'서울역': 2.0, '신도림': 23.0, '을지로3가': 4.0},\n",
    " '신도림': {'사당': 17.0, '서울역': 17.0, '시청': 23.0},\n",
    " '을지로3가': {'동대문운동장': 3.0, '시청': 4.0, '충무로': 1.0},\n",
    " '충무로': {'교대': 18.0, '동대문운동장': 2.0, '서울역': 5.0, '을지로3가': 1.0}}\n",
    "\n",
    "pprint(g)"
   ]
  },
  {
   "cell_type": "markdown",
   "metadata": {},
   "source": [
    "shortestpath 의 ford_list 함수를 import 하여 `시청`에서 `교대`의 최단경로를 계산합니다.\n",
    "\n",
    "- `E`: edges\n",
    "- `V`: vertex\n",
    "- `S`: start node\n",
    "- `T`: destination node"
   ]
  },
  {
   "cell_type": "code",
   "execution_count": 2,
   "metadata": {},
   "outputs": [
    {
     "data": {
      "text/plain": [
       "(['시청', '을지로3가', '충무로', '교대'], -23.0)"
      ]
     },
     "execution_count": 2,
     "metadata": {},
     "output_type": "execute_result"
    }
   ],
   "source": [
    "from shortestpath import ford_list\n",
    "\n",
    "E = []\n",
    "V = set()\n",
    "for src, dests in g.items():\n",
    "    V.add(src)\n",
    "    for dest, dist in dests.items():\n",
    "        E.append((src, dest, -dist))\n",
    "        V.add(dest)\n",
    "\n",
    "ford_list(E, V, S='시청', T='교대')"
   ]
  },
  {
   "cell_type": "code",
   "execution_count": null,
   "metadata": {
    "collapsed": true
   },
   "outputs": [],
   "source": []
  }
 ],
 "metadata": {
  "kernelspec": {
   "display_name": "Python 3",
   "language": "python",
   "name": "python3"
  },
  "language_info": {
   "codemirror_mode": {
    "name": "ipython",
    "version": 3
   },
   "file_extension": ".py",
   "mimetype": "text/x-python",
   "name": "python",
   "nbconvert_exporter": "python",
   "pygments_lexer": "ipython3",
   "version": "3.6.2"
  }
 },
 "nbformat": 4,
 "nbformat_minor": 2
}
