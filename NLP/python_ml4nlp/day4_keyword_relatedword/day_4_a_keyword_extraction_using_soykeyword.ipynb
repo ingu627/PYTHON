{
 "cells": [
  {
   "cell_type": "markdown",
   "metadata": {},
   "source": [
    "아래의 2016-10-20의 뉴스로부터 명사를 추출하여 미리 토크나이즈를 해둔 tokenized_corpus_fname으로부터 term frequency matrix인 x와 index2word를 만들어 뒀습니다. "
   ]
  },
  {
   "cell_type": "code",
   "execution_count": 1,
   "metadata": {},
   "outputs": [
    {
     "name": "stdout",
     "output_type": "stream",
     "text": [
      "soynlp=0.0.49\n",
      "added lovit_textmining_dataset\n"
     ]
    }
   ],
   "source": [
    "import config\n",
    "from navernews_10days import get_bow\n",
    "\n",
    "x, _idx_to_vocab, _vocab_to_idx = get_bow(tokenize='noun', date='2016-10-20')"
   ]
  },
  {
   "cell_type": "code",
   "execution_count": 2,
   "metadata": {},
   "outputs": [
    {
     "name": "stdout",
     "output_type": "stream",
     "text": [
      "0.0.14\n"
     ]
    }
   ],
   "source": [
    "import soykeyword\n",
    "print(soykeyword.__version__)"
   ]
  },
  {
   "cell_type": "markdown",
   "metadata": {},
   "source": [
    "## Lasso regression for keyword extraction"
   ]
  },
  {
   "cell_type": "markdown",
   "metadata": {},
   "source": [
    "Lasso regression 을 이용하여 키워드를 찾는 과정을 패키징하여 soykeyword 에 올려두었습니다. 설치는 pip install 이 가능합니다. \n",
    "\n",
    "    pip install soykeyword\n",
    "\n",
    "LassoKeywordExtractor는 Lasso Logistic regression을 이용하여 positive documents와 negative (or refeerence) documents를 잘 구분하는 단어들을 선택합니다. 이를 위해 scikit-learn의 Logistic Regression을 이용하였습니다.\n",
    "\n",
    "sparse matrix 형식의 x를 LassoKeywordExtractor의 train()의 argument로 입력받으며, minimum term frequency와 minimum document frequency로 키워드 후보를 제한하기 쉽도록 LassoKeywordExtractor 생성자의 arguments를 넣어뒀습니다. Logistic regression이 이용하는 regularization cost coefficient C는 costs라는 list of number로 입력됩니다. \n",
    "\n",
    "LassoKeywordExtractor는 텍스트 형식의 데이터는 지원하지 않습니다. Sparse matrix 형식에만 지원하며, train 단계에서 index2word를 입력하지 않으면 <키워드 아이디, 빈도수, Logistic regression coefficient> 형식의 namedtuple인 KeywordScore로 출력됩니다. \n",
    "\n",
    "min_num_of_keywords L1 regularization cost를 조금씩 낮춰가면서 선택되는 최소한의 키워드의 개수가 min_num_of_keywords 이상이 되도록 하는 최초의 keywords를 return하도록 하는 parameter입니다. "
   ]
  },
  {
   "cell_type": "code",
   "execution_count": 3,
   "metadata": {},
   "outputs": [
    {
     "name": "stderr",
     "output_type": "stream",
     "text": [
      "/home/lovit/anaconda2/envs/scrapper/lib/python3.6/site-packages/sklearn/linear_model/logistic.py:432: FutureWarning: Default solver will be changed to 'lbfgs' in 0.22. Specify a solver to silence this warning.\n",
      "  FutureWarning)\n"
     ]
    },
    {
     "name": "stdout",
     "output_type": "stream",
     "text": [
      "28 keywords extracted from 0.100 cost\n",
      "64 keywords extracted from 1.000 cost\n"
     ]
    },
    {
     "data": {
      "text/plain": [
       "[KeywordScore(word=2308, frequency=86, coefficient=3.8132099018796053),\n",
       " KeywordScore(word=4701, frequency=40, coefficient=3.26140953557642),\n",
       " KeywordScore(word=4441, frequency=90, coefficient=2.4476038709498984),\n",
       " KeywordScore(word=5880, frequency=221, coefficient=1.7648258451734127),\n",
       " KeywordScore(word=8215, frequency=105, coefficient=1.493964280359474),\n",
       " KeywordScore(word=4343, frequency=46, coefficient=1.420368071393724),\n",
       " KeywordScore(word=2913, frequency=119, coefficient=1.3442416474905845),\n",
       " KeywordScore(word=3527, frequency=195, coefficient=1.185249066285396),\n",
       " KeywordScore(word=3261, frequency=216, coefficient=1.1672831571989508),\n",
       " KeywordScore(word=6208, frequency=77, coefficient=1.1139837252886913)]"
      ]
     },
     "execution_count": 3,
     "metadata": {},
     "output_type": "execute_result"
    }
   ],
   "source": [
    "from soykeyword.lasso import LassoKeywordExtractor\n",
    "\n",
    "lassobased_extractor = LassoKeywordExtractor(\n",
    "    costs=[500, 200, 100, 50, 10, 5, 1, 0.1],\n",
    "    min_tf=20, \n",
    "    min_df=10\n",
    ")\n",
    "\n",
    "lassobased_extractor.train(x)\n",
    "keywords = lassobased_extractor.extract_from_word(\n",
    "    5537, min_num_of_keywords=30)\n",
    "keywords[:10]"
   ]
  },
  {
   "cell_type": "markdown",
   "metadata": {},
   "source": [
    "index2word를 x와 함께 train()에 넣는다면 키워드 추출 결과는 모두 word index가 str로 바뀌어서 입력됩니다. 만약 word index가 index2word의 boundary를 넘어가는 경우라면 Unk101과 같이 Unk%d의 형식으로 출력됩니다. "
   ]
  },
  {
   "cell_type": "code",
   "execution_count": 4,
   "metadata": {
    "collapsed": true
   },
   "outputs": [],
   "source": [
    "from soykeyword.lasso import LassoKeywordExtractor\n",
    "\n",
    "lassobased_extractor = LassoKeywordExtractor(\n",
    "    costs=[500, 200, 100, 50, 10, 5, 1, 0.1],\n",
    "    min_tf=20, \n",
    "    min_df=10\n",
    ")\n",
    "\n",
    "lassobased_extractor.train(x, _idx_to_vocab)"
   ]
  },
  {
   "cell_type": "markdown",
   "metadata": {},
   "source": [
    "index2word가 train에 입력되면 '아이오아이'가 포함된 문서의 index를 가져올 수도 있습니다. "
   ]
  },
  {
   "cell_type": "code",
   "execution_count": 5,
   "metadata": {
    "collapsed": true
   },
   "outputs": [],
   "source": [
    "documents = lassobased_extractor.get_document_index('아이오아이')"
   ]
  },
  {
   "cell_type": "markdown",
   "metadata": {},
   "source": [
    "extract_from_docs(documents)는 documents를 positive set으로, documents가 아닌 모든 문서를 negative set으로 선택한 뒤, 이 둘을 구분하는 L1 Logistic regression을 학습합니다. 이 때에는 '아이오아이'라는 단어가 포함된 문서와 포함되지 않는 문서를 구분하는 classifier를 학습하였기 때문에 '아이오아이'가 최상위 키워드로 선택됩니다. 하지만 이는 정답을 알고 문제를 푸는 격입니다. extract_from_docs는 이 경우보다는 본인이 positive set으로 선택하고 싶은 문서 집합이 명확히 있을 때 이용하는 방법입니다.  "
   ]
  },
  {
   "cell_type": "code",
   "execution_count": 6,
   "metadata": {},
   "outputs": [
    {
     "name": "stderr",
     "output_type": "stream",
     "text": [
      "/home/lovit/anaconda2/envs/scrapper/lib/python3.6/site-packages/sklearn/linear_model/logistic.py:432: FutureWarning: Default solver will be changed to 'lbfgs' in 0.22. Specify a solver to silence this warning.\n",
      "  FutureWarning)\n"
     ]
    },
    {
     "name": "stdout",
     "output_type": "stream",
     "text": [
      "4 keywords extracted from 0.100 cost\n",
      "4 keywords extracted from 1.000 cost\n",
      "4 keywords extracted from 5.000 cost\n",
      "5 keywords extracted from 10.000 cost\n",
      "15 keywords extracted from 50.000 cost\n",
      "16 keywords extracted from 100.000 cost\n",
      "25 keywords extracted from 200.000 cost\n",
      "41 keywords extracted from 500.000 cost\n"
     ]
    },
    {
     "data": {
      "text/plain": [
       "[KeywordScore(word='아이오아이', frequency=270, coefficient=17.776126599633155),\n",
       " KeywordScore(word='일산동구', frequency=36, coefficient=1.9224039777584438),\n",
       " KeywordScore(word='선의', frequency=40, coefficient=1.6091733301944917),\n",
       " KeywordScore(word='산들', frequency=90, coefficient=1.3042735324001364),\n",
       " KeywordScore(word='엠카운트다운', frequency=221, coefficient=1.2032392700445993),\n",
       " KeywordScore(word='챔피언', frequency=105, coefficient=0.8476088279179548),\n",
       " KeywordScore(word='보컬', frequency=155, coefficient=0.7490128274562793),\n",
       " KeywordScore(word='키미', frequency=297, coefficient=0.592399496998494),\n",
       " KeywordScore(word='엠넷', frequency=125, coefficient=0.5869222500814415),\n",
       " KeywordScore(word='드림', frequency=119, coefficient=0.5615374923741605),\n",
       " KeywordScore(word='컴백', frequency=536, coefficient=0.44528971981342),\n",
       " KeywordScore(word='수출', frequency=735, coefficient=0.38310129999757747),\n",
       " KeywordScore(word='세련', frequency=192, coefficient=0.3793440557491572),\n",
       " KeywordScore(word='강렬', frequency=352, coefficient=0.3761522323361971),\n",
       " KeywordScore(word='선보', frequency=2623, coefficient=0.251154329792259),\n",
       " KeywordScore(word='뮤직', frequency=195, coefficient=0.24788998428414108),\n",
       " KeywordScore(word='방영', frequency=208, coefficient=0.24056974772478557),\n",
       " KeywordScore(word='걸크러쉬', frequency=111, coefficient=0.22580228078732287),\n",
       " KeywordScore(word='1위', frequency=1357, coefficient=0.21125484512077805),\n",
       " KeywordScore(word='카메라', frequency=439, coefficient=0.20469614607517478),\n",
       " KeywordScore(word='양국', frequency=971, coefficient=0.1584364908055156),\n",
       " KeywordScore(word='스마트폰', frequency=996, coefficient=0.15796599972911002),\n",
       " KeywordScore(word='프로듀스101', frequency=96, coefficient=0.13275451884087536),\n",
       " KeywordScore(word='순위', frequency=259, coefficient=0.11797734204463425),\n",
       " KeywordScore(word='국내', frequency=3850, coefficient=0.11768933349145494),\n",
       " KeywordScore(word='수준', frequency=2240, coefficient=0.11700250574266537),\n",
       " KeywordScore(word='기획사', frequency=81, coefficient=0.10175036833235979),\n",
       " KeywordScore(word='불독', frequency=1212, coefficient=0.07912137706651505),\n",
       " KeywordScore(word='화려', frequency=518, coefficient=0.07334594529469207),\n",
       " KeywordScore(word='출연', frequency=2963, coefficient=0.06667625316979421),\n",
       " KeywordScore(word='경우', frequency=4304, coefficient=0.0653890948547753),\n",
       " KeywordScore(word='데뷔', frequency=1365, coefficient=0.06071505572805033),\n",
       " KeywordScore(word='예능', frequency=634, coefficient=0.051411244569327844),\n",
       " KeywordScore(word='세븐', frequency=76, coefficient=0.043233414818839716),\n",
       " KeywordScore(word='걸그룹', frequency=1060, coefficient=0.03889628605300226),\n",
       " KeywordScore(word='진영', frequency=304, coefficient=0.029373010412917486),\n",
       " KeywordScore(word='규제', frequency=945, coefficient=0.01735009540262656),\n",
       " KeywordScore(word='래핑', frequency=116, coefficient=0.016688771172545854),\n",
       " KeywordScore(word='정부', frequency=4169, coefficient=0.015228212872456636),\n",
       " KeywordScore(word='단백질', frequency=120, coefficient=0.005648904939550791),\n",
       " KeywordScore(word='블랙핑크', frequency=190, coefficient=0.0031675554860943348)]"
      ]
     },
     "execution_count": 6,
     "metadata": {},
     "output_type": "execute_result"
    }
   ],
   "source": [
    "keywords = lassobased_extractor.extract_from_docs(documents, min_num_of_keywords=30)\n",
    "keywords"
   ]
  },
  {
   "cell_type": "markdown",
   "metadata": {},
   "source": [
    "extract_from_word(aspect_word)는 aspect_word가 들어간 문서 집합을 positive set으로, 그렇지 않은 문서 집합을 negative set으로 선택하여 이를 구분하는 classifier를 학습하는 것입니다. 이 때, positive set에서 aspect_word를 제외합니다. 이렇게 할 경우, aspect_word 때문에 잘못된 hyperplane이 선택되는 문제를 해결할 수 있습니다. \n",
    "\n",
    "2016-10-20에는 '아이오아이'가 마지막 곡인 '너무너무너무'곡으로 활동하던 시절입니다. 그렇기 때문에 '너무너무너무'와 '엠카운트다운'과 같은 단어가 키워드로 선택되었음을 볼 수 있습니다. "
   ]
  },
  {
   "cell_type": "code",
   "execution_count": 7,
   "metadata": {},
   "outputs": [
    {
     "name": "stderr",
     "output_type": "stream",
     "text": [
      "/home/lovit/anaconda2/envs/scrapper/lib/python3.6/site-packages/sklearn/linear_model/logistic.py:432: FutureWarning: Default solver will be changed to 'lbfgs' in 0.22. Specify a solver to silence this warning.\n",
      "  FutureWarning)\n"
     ]
    },
    {
     "name": "stdout",
     "output_type": "stream",
     "text": [
      "28 keywords extracted from 0.100 cost\n",
      "64 keywords extracted from 1.000 cost\n"
     ]
    },
    {
     "data": {
      "text/plain": [
       "[KeywordScore(word='너무너무너무', frequency=86, coefficient=3.81513576148786),\n",
       " KeywordScore(word='선의', frequency=40, coefficient=3.2583918020355225),\n",
       " KeywordScore(word='산들', frequency=90, coefficient=2.4428533971973976),\n",
       " KeywordScore(word='엠카운트다운', frequency=221, coefficient=1.7611690376750377),\n",
       " KeywordScore(word='챔피언', frequency=105, coefficient=1.4851855375409475),\n",
       " KeywordScore(word='사나', frequency=46, coefficient=1.4169853344258374),\n",
       " KeywordScore(word='드림', frequency=119, coefficient=1.3352454337878557),\n",
       " KeywordScore(word='뮤직', frequency=195, coefficient=1.1827759279631225),\n",
       " KeywordScore(word='먹고', frequency=216, coefficient=1.163851245043269),\n",
       " KeywordScore(word='완전체', frequency=77, coefficient=1.1191420680325672),\n",
       " KeywordScore(word='일산', frequency=194, coefficient=0.9641803151409285),\n",
       " KeywordScore(word='세련', frequency=192, coefficient=0.955245501969297),\n",
       " KeywordScore(word='같이', frequency=918, coefficient=0.8523153097378587),\n",
       " KeywordScore(word='컴백', frequency=536, coefficient=0.7697552747625653),\n",
       " KeywordScore(word='곡으로', frequency=126, coefficient=0.7443795773566438),\n",
       " KeywordScore(word='소속사', frequency=460, coefficient=0.7442225624619964),\n",
       " KeywordScore(word='보컬', frequency=155, coefficient=0.7193690086062058),\n",
       " KeywordScore(word='열창', frequency=40, coefficient=0.7181126553751312),\n",
       " KeywordScore(word='만나게', frequency=127, coefficient=0.6873968584664062),\n",
       " KeywordScore(word='인사', frequency=1213, coefficient=0.6855884935249015),\n",
       " KeywordScore(word='마무리', frequency=606, coefficient=0.6286360205269996),\n",
       " KeywordScore(word='뉴스1스타', frequency=357, coefficient=0.6253975678486001),\n",
       " KeywordScore(word='박진영', frequency=81, coefficient=0.6092774964334945),\n",
       " KeywordScore(word='선보', frequency=2623, coefficient=0.5993175661278672),\n",
       " KeywordScore(word='무대', frequency=1332, coefficient=0.5948479595490328),\n",
       " KeywordScore(word='수출', frequency=735, coefficient=0.5723465671720839),\n",
       " KeywordScore(word='서울신문', frequency=776, coefficient=0.5467094418449968),\n",
       " KeywordScore(word='활동', frequency=2473, coefficient=0.4885146202676855),\n",
       " KeywordScore(word='다이아', frequency=182, coefficient=0.4874289253363274),\n",
       " KeywordScore(word='유정', frequency=161, coefficient=0.4831049024832677),\n",
       " KeywordScore(word='인기', frequency=1494, coefficient=0.4628453974038795),\n",
       " KeywordScore(word='등장', frequency=1038, coefficient=0.4518302753216123),\n",
       " KeywordScore(word='매력', frequency=1371, coefficient=0.4482534336861377),\n",
       " KeywordScore(word='카메라', frequency=439, coefficient=0.4265348388051866),\n",
       " KeywordScore(word='개인', frequency=1246, coefficient=0.39176925609666696),\n",
       " KeywordScore(word='고양시', frequency=264, coefficient=0.3680757680160582),\n",
       " KeywordScore(word='비타민', frequency=115, coefficient=0.35796588972871296),\n",
       " KeywordScore(word='수준', frequency=2240, coefficient=0.3508732697857394),\n",
       " KeywordScore(word='한편', frequency=3393, coefficient=0.34004683316532835),\n",
       " KeywordScore(word='멤버들', frequency=504, coefficient=0.3364963105548582),\n",
       " KeywordScore(word='걸그룹', frequency=1060, coefficient=0.3335480560963146),\n",
       " KeywordScore(word='세븐', frequency=76, coefficient=0.2954354704683016),\n",
       " KeywordScore(word='예능', frequency=634, coefficient=0.2892527636393489),\n",
       " KeywordScore(word='1위', frequency=1357, coefficient=0.28637695356430326),\n",
       " KeywordScore(word='순위', frequency=259, coefficient=0.27816636167865505),\n",
       " KeywordScore(word='발매', frequency=664, coefficient=0.276268945020139),\n",
       " KeywordScore(word='일산동구', frequency=36, coefficient=0.25351408864468294),\n",
       " KeywordScore(word='야구', frequency=148, coefficient=0.24312467461882542),\n",
       " KeywordScore(word='불독', frequency=1212, coefficient=0.19316864141402873),\n",
       " KeywordScore(word='다비치', frequency=84, coefficient=0.18073031989839572),\n",
       " KeywordScore(word='이날', frequency=6340, coefficient=0.1767975924764334),\n",
       " KeywordScore(word='걸크러쉬', frequency=111, coefficient=0.16672454240497692),\n",
       " KeywordScore(word='신용재', frequency=82, coefficient=0.16613746194015463),\n",
       " KeywordScore(word='파워풀', frequency=152, coefficient=0.1577312272073533),\n",
       " KeywordScore(word='화려', frequency=518, coefficient=0.1496916187978601),\n",
       " KeywordScore(word='프로듀스101', frequency=96, coefficient=0.06858468479284553),\n",
       " KeywordScore(word='일간스포츠', frequency=1235, coefficient=0.06355839237611902),\n",
       " KeywordScore(word='반전', frequency=202, coefficient=0.06058983575200091),\n",
       " KeywordScore(word='프로그램', frequency=2648, coefficient=0.05795033461112024),\n",
       " KeywordScore(word='스마트폰', frequency=996, coefficient=0.054898192340524066),\n",
       " KeywordScore(word='트와이스', frequency=655, coefficient=0.03241103063988945),\n",
       " KeywordScore(word='프로듀스', frequency=185, coefficient=0.01832729674952924),\n",
       " KeywordScore(word='키미', frequency=297, coefficient=0.007553378629611435),\n",
       " KeywordScore(word='기자', frequency=27189, coefficient=0.0005609206705832882)]"
      ]
     },
     "execution_count": 7,
     "metadata": {},
     "output_type": "execute_result"
    }
   ],
   "source": [
    "keywords = lassobased_extractor.extract_from_word('아이오아이', min_num_of_keywords=30)\n",
    "keywords"
   ]
  },
  {
   "cell_type": "markdown",
   "metadata": {},
   "source": [
    "'최순실'의 경우에도 '박근혜-최순실 게이트'사건이 시작되는 단계이기 때문에 해당 뉴스들이 나오고 있었습니다. '최순실'이라는 단어가 들어간 문서를 선택하는 기준은 [게이트, 정유라, 고영태, 이화여대, 미르재단]과 같은 단어가 선택되어 해당 날짜의 뉴스를 잘 요약하고 있음을 볼 수 있습니다. "
   ]
  },
  {
   "cell_type": "code",
   "execution_count": 8,
   "metadata": {},
   "outputs": [
    {
     "name": "stderr",
     "output_type": "stream",
     "text": [
      "/home/lovit/anaconda2/envs/scrapper/lib/python3.6/site-packages/sklearn/linear_model/logistic.py:432: FutureWarning: Default solver will be changed to 'lbfgs' in 0.22. Specify a solver to silence this warning.\n",
      "  FutureWarning)\n"
     ]
    },
    {
     "name": "stdout",
     "output_type": "stream",
     "text": [
      "77 keywords extracted from 0.100 cost\n"
     ]
    },
    {
     "data": {
      "text/plain": [
       "[KeywordScore(word='게이트', frequency=303, coefficient=4.203098871657331),\n",
       " KeywordScore(word='정유라', frequency=329, coefficient=2.037055875138502),\n",
       " KeywordScore(word='고영태', frequency=65, coefficient=1.7219197011940137),\n",
       " KeywordScore(word='편파기소', frequency=54, coefficient=1.2865815677417063),\n",
       " KeywordScore(word='최서원', frequency=94, coefficient=1.2757012483922707),\n",
       " KeywordScore(word='비선', frequency=288, coefficient=1.017673342862291),\n",
       " KeywordScore(word='씨와', frequency=372, coefficient=0.783132614718),\n",
       " KeywordScore(word='이화여대', frequency=651, coefficient=0.7236756767914531),\n",
       " KeywordScore(word='송민순', frequency=821, coefficient=0.6901063829047267),\n",
       " KeywordScore(word='뉴스', frequency=4682, coefficient=0.5787661537233794),\n",
       " KeywordScore(word='연설문', frequency=204, coefficient=0.49733329686978106),\n",
       " KeywordScore(word='침묵', frequency=223, coefficient=0.42637685606656694),\n",
       " KeywordScore(word='박근혜', frequency=1445, coefficient=0.4074800861409114),\n",
       " KeywordScore(word='실세', frequency=309, coefficient=0.3761288387762339),\n",
       " KeywordScore(word='거의', frequency=522, coefficient=0.3626233268736225),\n",
       " KeywordScore(word='미르재단', frequency=247, coefficient=0.3417786258460882),\n",
       " KeywordScore(word='자료', frequency=1029, coefficient=0.33013729367451067),\n",
       " KeywordScore(word='청와대', frequency=2112, coefficient=0.3271944816758176),\n",
       " KeywordScore(word='사퇴', frequency=463, coefficient=0.3234721288242835),\n",
       " KeywordScore(word='비선실세', frequency=219, coefficient=0.3090008946933568),\n",
       " KeywordScore(word='의혹', frequency=3602, coefficient=0.2881895807455571),\n",
       " KeywordScore(word='기자들', frequency=463, coefficient=0.2769188510130477),\n",
       " KeywordScore(word='더블루케이', frequency=194, coefficient=0.27096268178956273),\n",
       " KeywordScore(word='더블', frequency=225, coefficient=0.25574975900297403),\n",
       " KeywordScore(word='민생', frequency=164, coefficient=0.2285290669782204),\n",
       " KeywordScore(word='우병우', frequency=721, coefficient=0.22498998294150002),\n",
       " KeywordScore(word='독일', frequency=959, coefficient=0.22370516646081703),\n",
       " KeywordScore(word='설립', frequency=1522, coefficient=0.22366818374884995),\n",
       " KeywordScore(word='검색어', frequency=62, coefficient=0.21737812606716128),\n",
       " KeywordScore(word='나라', frequency=1090, coefficient=0.216375608899702),\n",
       " KeywordScore(word='개명', frequency=124, coefficient=0.20977511408535462),\n",
       " KeywordScore(word='오늘', frequency=2318, coefficient=0.20304249042029962),\n",
       " KeywordScore(word='총격', frequency=750, coefficient=0.1864406445811002),\n",
       " KeywordScore(word='위원장', frequency=720, coefficient=0.1838597491211254),\n",
       " KeywordScore(word='이대', frequency=419, coefficient=0.17595772717818936),\n",
       " KeywordScore(word='교수', frequency=2075, coefficient=0.16700271689255775),\n",
       " KeywordScore(word='문체부', frequency=268, coefficient=0.16466188430236164),\n",
       " KeywordScore(word='호텔', frequency=826, coefficient=0.16437736297084146),\n",
       " KeywordScore(word='스포츠재단', frequency=676, coefficient=0.1539828728347907),\n",
       " KeywordScore(word='창단', frequency=108, coefficient=0.14887191902276764),\n",
       " KeywordScore(word='00', frequency=462, coefficient=0.14467479827373161),\n",
       " KeywordScore(word='재단', frequency=1690, coefficient=0.1426817359826241),\n",
       " KeywordScore(word='미르', frequency=604, coefficient=0.13397750556430668),\n",
       " KeywordScore(word='핵심', frequency=948, coefficient=0.12944701521302096),\n",
       " KeywordScore(word='간사', frequency=473, coefficient=0.129014488877707),\n",
       " KeywordScore(word='학생들', frequency=1270, coefficient=0.1268435636649609),\n",
       " KeywordScore(word='새누리당', frequency=2151, coefficient=0.12071011488141817),\n",
       " KeywordScore(word='정국', frequency=137, coefficient=0.11392638248887269),\n",
       " KeywordScore(word='복지부', frequency=191, coefficient=0.11312652487408155),\n",
       " KeywordScore(word='수사', frequency=2215, coefficient=0.10934339661495185),\n",
       " KeywordScore(word='더불어민주당', frequency=1980, coefficient=0.10581846782707972),\n",
       " KeywordScore(word='개입', frequency=473, coefficient=0.10438498524595538),\n",
       " KeywordScore(word='대통령', frequency=5682, coefficient=0.10408946331344551),\n",
       " KeywordScore(word='특혜', frequency=532, coefficient=0.09332918930769898),\n",
       " KeywordScore(word='있습니다', frequency=3068, coefficient=0.08928517799463967),\n",
       " KeywordScore(word='문제', frequency=4224, coefficient=0.08775051241513634),\n",
       " KeywordScore(word='부총리', frequency=426, coefficient=0.0873960756004733),\n",
       " KeywordScore(word='금지', frequency=19890, coefficient=0.08698896070962499),\n",
       " KeywordScore(word='보도', frequency=1737, coefficient=0.08474531011219744),\n",
       " KeywordScore(word='오패산', frequency=412, coefficient=0.08405011868138632),\n",
       " KeywordScore(word='검토', frequency=871, coefficient=0.07993927472789072),\n",
       " KeywordScore(word='국정원', frequency=797, coefficient=0.07369880327937475),\n",
       " KeywordScore(word='여당', frequency=471, coefficient=0.07086113993319935),\n",
       " KeywordScore(word='확인', frequency=3545, coefficient=0.06673236243839542),\n",
       " KeywordScore(word='사람', frequency=4919, coefficient=0.06514389773512914),\n",
       " KeywordScore(word='언급', frequency=1094, coefficient=0.06467507623124408),\n",
       " KeywordScore(word='인권', frequency=512, coefficient=0.06308641329310075),\n",
       " KeywordScore(word='경제', frequency=3594, coefficient=0.050844703118327894),\n",
       " KeywordScore(word='대표', frequency=7727, coefficient=0.03985520684621813),\n",
       " KeywordScore(word='여야', frequency=477, coefficient=0.03311658614695687),\n",
       " KeywordScore(word='의원', frequency=2925, coefficient=0.031462275445434784),\n",
       " KeywordScore(word='이런', frequency=2693, coefficient=0.03009410562935377),\n",
       " KeywordScore(word='사람들', frequency=2455, coefficient=0.02915948210322136),\n",
       " KeywordScore(word='기존', frequency=2055, coefficient=0.0289401462486713),\n",
       " KeywordScore(word='전화', frequency=1002, coefficient=0.023812791003969002),\n",
       " KeywordScore(word='고발', frequency=435, coefficient=0.013298066513610745),\n",
       " KeywordScore(word='인터뷰', frequency=1376, coefficient=0.0037625698839786757)]"
      ]
     },
     "execution_count": 8,
     "metadata": {},
     "output_type": "execute_result"
    }
   ],
   "source": [
    "keywords = lassobased_extractor.extract_from_word('최순실', min_num_of_keywords=30)\n",
    "keywords"
   ]
  },
  {
   "cell_type": "markdown",
   "metadata": {},
   "source": [
    "## Proportion ratio for keyword extraction\n",
    "\n",
    "proportion ratio 를 이용하는 방법도 soykeyword 에 올려두었습니다. Interface 는 Lasso 와 동일합니다. \n",
    "\n",
    "extract_from_word 와 extract_from_docs 를 제공합니다. "
   ]
  },
  {
   "cell_type": "code",
   "execution_count": 9,
   "metadata": {},
   "outputs": [
    {
     "name": "stdout",
     "output_type": "stream",
     "text": [
      "MatrixbasedKeywordExtractor trained\n"
     ]
    }
   ],
   "source": [
    "from soykeyword.proportion import MatrixbasedKeywordExtractor\n",
    "\n",
    "proportion_based_extractor = MatrixbasedKeywordExtractor(\n",
    "    min_tf=20, \n",
    "    min_df=2,\n",
    "    verbose=True)\n",
    "\n",
    "proportion_based_extractor.train(x, _idx_to_vocab)"
   ]
  },
  {
   "cell_type": "code",
   "execution_count": 10,
   "metadata": {},
   "outputs": [
    {
     "data": {
      "text/plain": [
       "[KeywordScore(word='아이오아이', frequency=270, score=1.0),\n",
       " KeywordScore(word='엠카운트다운', frequency=221, score=0.9978307775631691),\n",
       " KeywordScore(word='펜타곤', frequency=104, score=0.9934422266805437),\n",
       " KeywordScore(word='잠깐', frequency=162, score=0.9929667382454291),\n",
       " KeywordScore(word='엠넷', frequency=125, score=0.9907514986652862),\n",
       " KeywordScore(word='걸크러쉬', frequency=111, score=0.99017203825805),\n",
       " KeywordScore(word='타이틀곡', frequency=311, score=0.9869906112674688),\n",
       " KeywordScore(word='코드', frequency=105, score=0.9867835556082788),\n",
       " KeywordScore(word='본명', frequency=105, score=0.98596911773225),\n",
       " KeywordScore(word='엑스', frequency=101, score=0.9847950780631249)]"
      ]
     },
     "execution_count": 10,
     "metadata": {},
     "output_type": "execute_result"
    }
   ],
   "source": [
    "keywords = proportion_based_extractor.extract_from_word(\n",
    "    '아이오아이', min_score=0.8, min_frequency=100)\n",
    "keywords[:10]"
   ]
  },
  {
   "cell_type": "code",
   "execution_count": null,
   "metadata": {
    "collapsed": true
   },
   "outputs": [],
   "source": []
  }
 ],
 "metadata": {
  "kernelspec": {
   "display_name": "Python 3",
   "language": "python",
   "name": "python3"
  },
  "language_info": {
   "codemirror_mode": {
    "name": "ipython",
    "version": 3
   },
   "file_extension": ".py",
   "mimetype": "text/x-python",
   "name": "python",
   "nbconvert_exporter": "python",
   "pygments_lexer": "ipython3",
   "version": "3.6.2"
  }
 },
 "nbformat": 4,
 "nbformat_minor": 1
}
