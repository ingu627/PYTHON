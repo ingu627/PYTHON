{
 "cells": [
  {
   "cell_type": "markdown",
   "metadata": {},
   "source": [
    "## Version check\n",
    "\n",
    "Pytorch 를 연습하기 위하여, y = f(x) 형식의 regression 모델을 학습하는 뉴럴 네트워크를 만들어봅니다.\n",
    "\n",
    "현재 실습의 torch 버전은 1.0.1 입니다."
   ]
  },
  {
   "cell_type": "code",
   "execution_count": 1,
   "metadata": {},
   "outputs": [
    {
     "name": "stdout",
     "output_type": "stream",
     "text": [
      "PyTorch version = 1.0.1.post2\n"
     ]
    }
   ],
   "source": [
    "import torch\n",
    "print('PyTorch version = {}'.format(torch.__version__))"
   ]
  },
  {
   "cell_type": "markdown",
   "metadata": {},
   "source": [
    "Pytorch 에서 신경써야 할 요소는 네 가지 입니다.\n",
    "  - data\n",
    "  - model\n",
    "  - loss function\n",
    "  - optimizer"
   ]
  },
  {
   "cell_type": "markdown",
   "metadata": {},
   "source": [
    "## Prepare data\n",
    "\n",
    "아래는 거의 default 로 이용하는 요소들입니다."
   ]
  },
  {
   "cell_type": "code",
   "execution_count": 2,
   "metadata": {},
   "outputs": [],
   "source": [
    "# import torch components\n",
    "import torch\n",
    "import torch.nn as nn\n",
    "import torch.optim as optim\n",
    "import torch.nn.init as init"
   ]
  },
  {
   "cell_type": "markdown",
   "metadata": {},
   "source": [
    "우리는 이번 실습에서 인공데이터를 만들어 이용할 것입니다.\n",
    "\n",
    "TensorFlow 가 Tensor Board 를 제공하듯이 PyTorch 도 Visdom 을 제공합니다만, model 을 만드는 것부터 이야기합니다. 이번 실습에서는 scatter plot 만 그릴 것이기 때문에, 이전 시간에 살펴본 Bokeh 를 이용한 scatter plot 함수를 visualize.py 파일에 만들어 뒀습니다."
   ]
  },
  {
   "cell_type": "code",
   "execution_count": 3,
   "metadata": {},
   "outputs": [
    {
     "data": {
      "text/html": [
       "\n",
       "    <div class=\"bk-root\">\n",
       "        <a href=\"https://bokeh.pydata.org\" target=\"_blank\" class=\"bk-logo bk-logo-small bk-logo-notebook\"></a>\n",
       "        <span id=\"1001\">Loading BokehJS ...</span>\n",
       "    </div>"
      ]
     },
     "metadata": {},
     "output_type": "display_data"
    },
    {
     "data": {
      "application/javascript": [
       "\n",
       "(function(root) {\n",
       "  function now() {\n",
       "    return new Date();\n",
       "  }\n",
       "\n",
       "  var force = true;\n",
       "\n",
       "  if (typeof (root._bokeh_onload_callbacks) === \"undefined\" || force === true) {\n",
       "    root._bokeh_onload_callbacks = [];\n",
       "    root._bokeh_is_loading = undefined;\n",
       "  }\n",
       "\n",
       "  var JS_MIME_TYPE = 'application/javascript';\n",
       "  var HTML_MIME_TYPE = 'text/html';\n",
       "  var EXEC_MIME_TYPE = 'application/vnd.bokehjs_exec.v0+json';\n",
       "  var CLASS_NAME = 'output_bokeh rendered_html';\n",
       "\n",
       "  /**\n",
       "   * Render data to the DOM node\n",
       "   */\n",
       "  function render(props, node) {\n",
       "    var script = document.createElement(\"script\");\n",
       "    node.appendChild(script);\n",
       "  }\n",
       "\n",
       "  /**\n",
       "   * Handle when an output is cleared or removed\n",
       "   */\n",
       "  function handleClearOutput(event, handle) {\n",
       "    var cell = handle.cell;\n",
       "\n",
       "    var id = cell.output_area._bokeh_element_id;\n",
       "    var server_id = cell.output_area._bokeh_server_id;\n",
       "    // Clean up Bokeh references\n",
       "    if (id != null && id in Bokeh.index) {\n",
       "      Bokeh.index[id].model.document.clear();\n",
       "      delete Bokeh.index[id];\n",
       "    }\n",
       "\n",
       "    if (server_id !== undefined) {\n",
       "      // Clean up Bokeh references\n",
       "      var cmd = \"from bokeh.io.state import curstate; print(curstate().uuid_to_server['\" + server_id + \"'].get_sessions()[0].document.roots[0]._id)\";\n",
       "      cell.notebook.kernel.execute(cmd, {\n",
       "        iopub: {\n",
       "          output: function(msg) {\n",
       "            var id = msg.content.text.trim();\n",
       "            if (id in Bokeh.index) {\n",
       "              Bokeh.index[id].model.document.clear();\n",
       "              delete Bokeh.index[id];\n",
       "            }\n",
       "          }\n",
       "        }\n",
       "      });\n",
       "      // Destroy server and session\n",
       "      var cmd = \"import bokeh.io.notebook as ion; ion.destroy_server('\" + server_id + \"')\";\n",
       "      cell.notebook.kernel.execute(cmd);\n",
       "    }\n",
       "  }\n",
       "\n",
       "  /**\n",
       "   * Handle when a new output is added\n",
       "   */\n",
       "  function handleAddOutput(event, handle) {\n",
       "    var output_area = handle.output_area;\n",
       "    var output = handle.output;\n",
       "\n",
       "    // limit handleAddOutput to display_data with EXEC_MIME_TYPE content only\n",
       "    if ((output.output_type != \"display_data\") || (!output.data.hasOwnProperty(EXEC_MIME_TYPE))) {\n",
       "      return\n",
       "    }\n",
       "\n",
       "    var toinsert = output_area.element.find(\".\" + CLASS_NAME.split(' ')[0]);\n",
       "\n",
       "    if (output.metadata[EXEC_MIME_TYPE][\"id\"] !== undefined) {\n",
       "      toinsert[toinsert.length - 1].firstChild.textContent = output.data[JS_MIME_TYPE];\n",
       "      // store reference to embed id on output_area\n",
       "      output_area._bokeh_element_id = output.metadata[EXEC_MIME_TYPE][\"id\"];\n",
       "    }\n",
       "    if (output.metadata[EXEC_MIME_TYPE][\"server_id\"] !== undefined) {\n",
       "      var bk_div = document.createElement(\"div\");\n",
       "      bk_div.innerHTML = output.data[HTML_MIME_TYPE];\n",
       "      var script_attrs = bk_div.children[0].attributes;\n",
       "      for (var i = 0; i < script_attrs.length; i++) {\n",
       "        toinsert[toinsert.length - 1].firstChild.setAttribute(script_attrs[i].name, script_attrs[i].value);\n",
       "      }\n",
       "      // store reference to server id on output_area\n",
       "      output_area._bokeh_server_id = output.metadata[EXEC_MIME_TYPE][\"server_id\"];\n",
       "    }\n",
       "  }\n",
       "\n",
       "  function register_renderer(events, OutputArea) {\n",
       "\n",
       "    function append_mime(data, metadata, element) {\n",
       "      // create a DOM node to render to\n",
       "      var toinsert = this.create_output_subarea(\n",
       "        metadata,\n",
       "        CLASS_NAME,\n",
       "        EXEC_MIME_TYPE\n",
       "      );\n",
       "      this.keyboard_manager.register_events(toinsert);\n",
       "      // Render to node\n",
       "      var props = {data: data, metadata: metadata[EXEC_MIME_TYPE]};\n",
       "      render(props, toinsert[toinsert.length - 1]);\n",
       "      element.append(toinsert);\n",
       "      return toinsert\n",
       "    }\n",
       "\n",
       "    /* Handle when an output is cleared or removed */\n",
       "    events.on('clear_output.CodeCell', handleClearOutput);\n",
       "    events.on('delete.Cell', handleClearOutput);\n",
       "\n",
       "    /* Handle when a new output is added */\n",
       "    events.on('output_added.OutputArea', handleAddOutput);\n",
       "\n",
       "    /**\n",
       "     * Register the mime type and append_mime function with output_area\n",
       "     */\n",
       "    OutputArea.prototype.register_mime_type(EXEC_MIME_TYPE, append_mime, {\n",
       "      /* Is output safe? */\n",
       "      safe: true,\n",
       "      /* Index of renderer in `output_area.display_order` */\n",
       "      index: 0\n",
       "    });\n",
       "  }\n",
       "\n",
       "  // register the mime type if in Jupyter Notebook environment and previously unregistered\n",
       "  if (root.Jupyter !== undefined) {\n",
       "    var events = require('base/js/events');\n",
       "    var OutputArea = require('notebook/js/outputarea').OutputArea;\n",
       "\n",
       "    if (OutputArea.prototype.mime_types().indexOf(EXEC_MIME_TYPE) == -1) {\n",
       "      register_renderer(events, OutputArea);\n",
       "    }\n",
       "  }\n",
       "\n",
       "  \n",
       "  if (typeof (root._bokeh_timeout) === \"undefined\" || force === true) {\n",
       "    root._bokeh_timeout = Date.now() + 5000;\n",
       "    root._bokeh_failed_load = false;\n",
       "  }\n",
       "\n",
       "  var NB_LOAD_WARNING = {'data': {'text/html':\n",
       "     \"<div style='background-color: #fdd'>\\n\"+\n",
       "     \"<p>\\n\"+\n",
       "     \"BokehJS does not appear to have successfully loaded. If loading BokehJS from CDN, this \\n\"+\n",
       "     \"may be due to a slow or bad network connection. Possible fixes:\\n\"+\n",
       "     \"</p>\\n\"+\n",
       "     \"<ul>\\n\"+\n",
       "     \"<li>re-rerun `output_notebook()` to attempt to load from CDN again, or</li>\\n\"+\n",
       "     \"<li>use INLINE resources instead, as so:</li>\\n\"+\n",
       "     \"</ul>\\n\"+\n",
       "     \"<code>\\n\"+\n",
       "     \"from bokeh.resources import INLINE\\n\"+\n",
       "     \"output_notebook(resources=INLINE)\\n\"+\n",
       "     \"</code>\\n\"+\n",
       "     \"</div>\"}};\n",
       "\n",
       "  function display_loaded() {\n",
       "    var el = document.getElementById(\"1001\");\n",
       "    if (el != null) {\n",
       "      el.textContent = \"BokehJS is loading...\";\n",
       "    }\n",
       "    if (root.Bokeh !== undefined) {\n",
       "      if (el != null) {\n",
       "        el.textContent = \"BokehJS \" + root.Bokeh.version + \" successfully loaded.\";\n",
       "      }\n",
       "    } else if (Date.now() < root._bokeh_timeout) {\n",
       "      setTimeout(display_loaded, 100)\n",
       "    }\n",
       "  }\n",
       "\n",
       "\n",
       "  function run_callbacks() {\n",
       "    try {\n",
       "      root._bokeh_onload_callbacks.forEach(function(callback) { callback() });\n",
       "    }\n",
       "    finally {\n",
       "      delete root._bokeh_onload_callbacks\n",
       "    }\n",
       "    console.info(\"Bokeh: all callbacks have finished\");\n",
       "  }\n",
       "\n",
       "  function load_libs(js_urls, callback) {\n",
       "    root._bokeh_onload_callbacks.push(callback);\n",
       "    if (root._bokeh_is_loading > 0) {\n",
       "      console.log(\"Bokeh: BokehJS is being loaded, scheduling callback at\", now());\n",
       "      return null;\n",
       "    }\n",
       "    if (js_urls == null || js_urls.length === 0) {\n",
       "      run_callbacks();\n",
       "      return null;\n",
       "    }\n",
       "    console.log(\"Bokeh: BokehJS not loaded, scheduling load and callback at\", now());\n",
       "    root._bokeh_is_loading = js_urls.length;\n",
       "    for (var i = 0; i < js_urls.length; i++) {\n",
       "      var url = js_urls[i];\n",
       "      var s = document.createElement('script');\n",
       "      s.src = url;\n",
       "      s.async = false;\n",
       "      s.onreadystatechange = s.onload = function() {\n",
       "        root._bokeh_is_loading--;\n",
       "        if (root._bokeh_is_loading === 0) {\n",
       "          console.log(\"Bokeh: all BokehJS libraries loaded\");\n",
       "          run_callbacks()\n",
       "        }\n",
       "      };\n",
       "      s.onerror = function() {\n",
       "        console.warn(\"failed to load library \" + url);\n",
       "      };\n",
       "      console.log(\"Bokeh: injecting script tag for BokehJS library: \", url);\n",
       "      document.getElementsByTagName(\"head\")[0].appendChild(s);\n",
       "    }\n",
       "  };var element = document.getElementById(\"1001\");\n",
       "  if (element == null) {\n",
       "    console.log(\"Bokeh: ERROR: autoload.js configured with elementid '1001' but no matching script tag was found. \")\n",
       "    return false;\n",
       "  }\n",
       "\n",
       "  var js_urls = [\"https://cdn.pydata.org/bokeh/release/bokeh-1.0.2.min.js\", \"https://cdn.pydata.org/bokeh/release/bokeh-widgets-1.0.2.min.js\", \"https://cdn.pydata.org/bokeh/release/bokeh-tables-1.0.2.min.js\", \"https://cdn.pydata.org/bokeh/release/bokeh-gl-1.0.2.min.js\"];\n",
       "\n",
       "  var inline_js = [\n",
       "    function(Bokeh) {\n",
       "      Bokeh.set_log_level(\"info\");\n",
       "    },\n",
       "    \n",
       "    function(Bokeh) {\n",
       "      \n",
       "    },\n",
       "    function(Bokeh) {\n",
       "      console.log(\"Bokeh: injecting CSS: https://cdn.pydata.org/bokeh/release/bokeh-1.0.2.min.css\");\n",
       "      Bokeh.embed.inject_css(\"https://cdn.pydata.org/bokeh/release/bokeh-1.0.2.min.css\");\n",
       "      console.log(\"Bokeh: injecting CSS: https://cdn.pydata.org/bokeh/release/bokeh-widgets-1.0.2.min.css\");\n",
       "      Bokeh.embed.inject_css(\"https://cdn.pydata.org/bokeh/release/bokeh-widgets-1.0.2.min.css\");\n",
       "      console.log(\"Bokeh: injecting CSS: https://cdn.pydata.org/bokeh/release/bokeh-tables-1.0.2.min.css\");\n",
       "      Bokeh.embed.inject_css(\"https://cdn.pydata.org/bokeh/release/bokeh-tables-1.0.2.min.css\");\n",
       "    }\n",
       "  ];\n",
       "\n",
       "  function run_inline_js() {\n",
       "    \n",
       "    if ((root.Bokeh !== undefined) || (force === true)) {\n",
       "      for (var i = 0; i < inline_js.length; i++) {\n",
       "        inline_js[i].call(root, root.Bokeh);\n",
       "      }if (force === true) {\n",
       "        display_loaded();\n",
       "      }} else if (Date.now() < root._bokeh_timeout) {\n",
       "      setTimeout(run_inline_js, 100);\n",
       "    } else if (!root._bokeh_failed_load) {\n",
       "      console.log(\"Bokeh: BokehJS failed to load within specified timeout.\");\n",
       "      root._bokeh_failed_load = true;\n",
       "    } else if (force !== true) {\n",
       "      var cell = $(document.getElementById(\"1001\")).parents('.cell').data().cell;\n",
       "      cell.output_area.append_execute_result(NB_LOAD_WARNING)\n",
       "    }\n",
       "\n",
       "  }\n",
       "\n",
       "  if (root._bokeh_is_loading === 0) {\n",
       "    console.log(\"Bokeh: BokehJS loaded, going straight to plotting\");\n",
       "    run_inline_js();\n",
       "  } else {\n",
       "    load_libs(js_urls, function() {\n",
       "      console.log(\"Bokeh: BokehJS plotting callback run at\", now());\n",
       "      run_inline_js();\n",
       "    });\n",
       "  }\n",
       "}(window));"
      ],
      "application/vnd.bokehjs_load.v0+json": "\n(function(root) {\n  function now() {\n    return new Date();\n  }\n\n  var force = true;\n\n  if (typeof (root._bokeh_onload_callbacks) === \"undefined\" || force === true) {\n    root._bokeh_onload_callbacks = [];\n    root._bokeh_is_loading = undefined;\n  }\n\n  \n\n  \n  if (typeof (root._bokeh_timeout) === \"undefined\" || force === true) {\n    root._bokeh_timeout = Date.now() + 5000;\n    root._bokeh_failed_load = false;\n  }\n\n  var NB_LOAD_WARNING = {'data': {'text/html':\n     \"<div style='background-color: #fdd'>\\n\"+\n     \"<p>\\n\"+\n     \"BokehJS does not appear to have successfully loaded. If loading BokehJS from CDN, this \\n\"+\n     \"may be due to a slow or bad network connection. Possible fixes:\\n\"+\n     \"</p>\\n\"+\n     \"<ul>\\n\"+\n     \"<li>re-rerun `output_notebook()` to attempt to load from CDN again, or</li>\\n\"+\n     \"<li>use INLINE resources instead, as so:</li>\\n\"+\n     \"</ul>\\n\"+\n     \"<code>\\n\"+\n     \"from bokeh.resources import INLINE\\n\"+\n     \"output_notebook(resources=INLINE)\\n\"+\n     \"</code>\\n\"+\n     \"</div>\"}};\n\n  function display_loaded() {\n    var el = document.getElementById(\"1001\");\n    if (el != null) {\n      el.textContent = \"BokehJS is loading...\";\n    }\n    if (root.Bokeh !== undefined) {\n      if (el != null) {\n        el.textContent = \"BokehJS \" + root.Bokeh.version + \" successfully loaded.\";\n      }\n    } else if (Date.now() < root._bokeh_timeout) {\n      setTimeout(display_loaded, 100)\n    }\n  }\n\n\n  function run_callbacks() {\n    try {\n      root._bokeh_onload_callbacks.forEach(function(callback) { callback() });\n    }\n    finally {\n      delete root._bokeh_onload_callbacks\n    }\n    console.info(\"Bokeh: all callbacks have finished\");\n  }\n\n  function load_libs(js_urls, callback) {\n    root._bokeh_onload_callbacks.push(callback);\n    if (root._bokeh_is_loading > 0) {\n      console.log(\"Bokeh: BokehJS is being loaded, scheduling callback at\", now());\n      return null;\n    }\n    if (js_urls == null || js_urls.length === 0) {\n      run_callbacks();\n      return null;\n    }\n    console.log(\"Bokeh: BokehJS not loaded, scheduling load and callback at\", now());\n    root._bokeh_is_loading = js_urls.length;\n    for (var i = 0; i < js_urls.length; i++) {\n      var url = js_urls[i];\n      var s = document.createElement('script');\n      s.src = url;\n      s.async = false;\n      s.onreadystatechange = s.onload = function() {\n        root._bokeh_is_loading--;\n        if (root._bokeh_is_loading === 0) {\n          console.log(\"Bokeh: all BokehJS libraries loaded\");\n          run_callbacks()\n        }\n      };\n      s.onerror = function() {\n        console.warn(\"failed to load library \" + url);\n      };\n      console.log(\"Bokeh: injecting script tag for BokehJS library: \", url);\n      document.getElementsByTagName(\"head\")[0].appendChild(s);\n    }\n  };var element = document.getElementById(\"1001\");\n  if (element == null) {\n    console.log(\"Bokeh: ERROR: autoload.js configured with elementid '1001' but no matching script tag was found. \")\n    return false;\n  }\n\n  var js_urls = [\"https://cdn.pydata.org/bokeh/release/bokeh-1.0.2.min.js\", \"https://cdn.pydata.org/bokeh/release/bokeh-widgets-1.0.2.min.js\", \"https://cdn.pydata.org/bokeh/release/bokeh-tables-1.0.2.min.js\", \"https://cdn.pydata.org/bokeh/release/bokeh-gl-1.0.2.min.js\"];\n\n  var inline_js = [\n    function(Bokeh) {\n      Bokeh.set_log_level(\"info\");\n    },\n    \n    function(Bokeh) {\n      \n    },\n    function(Bokeh) {\n      console.log(\"Bokeh: injecting CSS: https://cdn.pydata.org/bokeh/release/bokeh-1.0.2.min.css\");\n      Bokeh.embed.inject_css(\"https://cdn.pydata.org/bokeh/release/bokeh-1.0.2.min.css\");\n      console.log(\"Bokeh: injecting CSS: https://cdn.pydata.org/bokeh/release/bokeh-widgets-1.0.2.min.css\");\n      Bokeh.embed.inject_css(\"https://cdn.pydata.org/bokeh/release/bokeh-widgets-1.0.2.min.css\");\n      console.log(\"Bokeh: injecting CSS: https://cdn.pydata.org/bokeh/release/bokeh-tables-1.0.2.min.css\");\n      Bokeh.embed.inject_css(\"https://cdn.pydata.org/bokeh/release/bokeh-tables-1.0.2.min.css\");\n    }\n  ];\n\n  function run_inline_js() {\n    \n    if ((root.Bokeh !== undefined) || (force === true)) {\n      for (var i = 0; i < inline_js.length; i++) {\n        inline_js[i].call(root, root.Bokeh);\n      }if (force === true) {\n        display_loaded();\n      }} else if (Date.now() < root._bokeh_timeout) {\n      setTimeout(run_inline_js, 100);\n    } else if (!root._bokeh_failed_load) {\n      console.log(\"Bokeh: BokehJS failed to load within specified timeout.\");\n      root._bokeh_failed_load = true;\n    } else if (force !== true) {\n      var cell = $(document.getElementById(\"1001\")).parents('.cell').data().cell;\n      cell.output_area.append_execute_result(NB_LOAD_WARNING)\n    }\n\n  }\n\n  if (root._bokeh_is_loading === 0) {\n    console.log(\"Bokeh: BokehJS loaded, going straight to plotting\");\n    run_inline_js();\n  } else {\n    load_libs(js_urls, function() {\n      console.log(\"Bokeh: BokehJS plotting callback run at\", now());\n      run_inline_js();\n    });\n  }\n}(window));"
     },
     "metadata": {},
     "output_type": "display_data"
    },
    {
     "name": "stdout",
     "output_type": "stream",
     "text": [
      "Available output Bokeh figure in notebook\n"
     ]
    }
   ],
   "source": [
    "# import numpy for data generation\n",
    "import numpy as np\n",
    "\n",
    "# import visualizing functions\n",
    "from bokeh.plotting import show\n",
    "from visualize import scatter, mscatter"
   ]
  },
  {
   "cell_type": "markdown",
   "metadata": {},
   "source": [
    "1000 개의 인공데이터를 만듭니다. x = [-10, 10] 사이에서 y = -x^2 를 따르도록 만들며, random noise 를 추가하였습니다."
   ]
  },
  {
   "cell_type": "code",
   "execution_count": 4,
   "metadata": {},
   "outputs": [],
   "source": [
    "# data generation\n",
    "num_data = 1000 \n",
    "\n",
    "noise = init.normal_(torch.FloatTensor(num_data,1), std=5)\n",
    "x = init.uniform_(torch.Tensor(num_data,1), a=-10, b=10)\n",
    "y = -x** 2\n",
    "y = y + noise"
   ]
  },
  {
   "cell_type": "markdown",
   "metadata": {},
   "source": [
    "x 는 torch.Tensor 입니다. numpy.ndarray.shape 과 같은 함수는 torch.Tensor.size() 입니다.\n",
    "\n",
    "1 차원 데이터 1000 개가 만들어 졌습니다."
   ]
  },
  {
   "cell_type": "code",
   "execution_count": 5,
   "metadata": {},
   "outputs": [
    {
     "name": "stdout",
     "output_type": "stream",
     "text": [
      "<class 'torch.Tensor'>\n",
      "torch.Size([1000, 1])\n"
     ]
    }
   ],
   "source": [
    "print(type(x))\n",
    "print(x.size())"
   ]
  },
  {
   "cell_type": "markdown",
   "metadata": {},
   "source": [
    "Bokeh 를 이용하여 데이터의 scatter plot 을 그리려면 데이터가 numpy.ndarray 형식이어야 합니다.\n",
    "\n",
    "Pytorch 의 Tensor 는 numpy 와 호환이 잘됩니다. .numpy() 함수를 이용하면 numpy.ndarray 가 됩니다.\n",
    "\n",
    "x, y 모두 numpy() 를 이용하여 numpy.ndarray 로 만든 뒤, reshape(-1) 을 하여 column vector 로 만들어 줍니다."
   ]
  },
  {
   "cell_type": "code",
   "execution_count": 6,
   "metadata": {},
   "outputs": [
    {
     "data": {
      "text/html": [
       "\n",
       "\n",
       "\n",
       "\n",
       "\n",
       "\n",
       "  <div class=\"bk-root\" id=\"6e64cf41-6e31-42d4-95a8-bb9140f7df30\"></div>\n"
      ]
     },
     "metadata": {},
     "output_type": "display_data"
    },
    {
     "data": {
      "application/javascript": [
       "(function(root) {\n",
       "  function embed_document(root) {\n",
       "    \n",
       "  var docs_json = {\"a441e57e-3900-4657-81b5-448e73f7e6ef\":{\"roots\":{\"references\":[{\"attributes\":{\"below\":[{\"id\":\"1013\",\"type\":\"LinearAxis\"}],\"height\":600,\"left\":[{\"id\":\"1018\",\"type\":\"LinearAxis\"}],\"renderers\":[{\"id\":\"1013\",\"type\":\"LinearAxis\"},{\"id\":\"1017\",\"type\":\"Grid\"},{\"id\":\"1018\",\"type\":\"LinearAxis\"},{\"id\":\"1022\",\"type\":\"Grid\"},{\"id\":\"1031\",\"type\":\"BoxAnnotation\"},{\"id\":\"1041\",\"type\":\"GlyphRenderer\"}],\"title\":{\"id\":\"1002\",\"type\":\"Title\"},\"toolbar\":{\"id\":\"1029\",\"type\":\"Toolbar\"},\"width\":600,\"x_range\":{\"id\":\"1005\",\"type\":\"DataRange1d\"},\"x_scale\":{\"id\":\"1009\",\"type\":\"LinearScale\"},\"y_range\":{\"id\":\"1007\",\"type\":\"DataRange1d\"},\"y_scale\":{\"id\":\"1011\",\"type\":\"LinearScale\"}},\"id\":\"1003\",\"subtype\":\"Figure\",\"type\":\"Plot\"},{\"attributes\":{},\"id\":\"1009\",\"type\":\"LinearScale\"},{\"attributes\":{\"bottom_units\":\"screen\",\"fill_alpha\":{\"value\":0.5},\"fill_color\":{\"value\":\"lightgrey\"},\"left_units\":\"screen\",\"level\":\"overlay\",\"line_alpha\":{\"value\":1.0},\"line_color\":{\"value\":\"black\"},\"line_dash\":[4,4],\"line_width\":{\"value\":2},\"plot\":null,\"render_mode\":\"css\",\"right_units\":\"screen\",\"top_units\":\"screen\"},\"id\":\"1031\",\"type\":\"BoxAnnotation\"},{\"attributes\":{},\"id\":\"1011\",\"type\":\"LinearScale\"},{\"attributes\":{\"callback\":null,\"data\":{\"x\":{\"__ndarray__\":\"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\",\"dtype\":\"float32\",\"shape\":[1000]},\"y\":{\"__ndarray__\":\"GFCDwJTa0T/iYD7CiibnwXTWyUB4yJvBMIs5wAZLOMGXe4bCMQeOwjWYiMDtUZbCVpR4wl48TEAczgfBVOxZwj6cB8INRGS/2A0IwgReKT84giTAIGCUwDmYqsDpoJTCidp1wgX9rsFDWZzCgE5iwD72g7+P2wTCKH+cwkZTmsKJLg/CglSjwQYslML7zGm/upUgwsXOLEA6geDBfvq1wuyeKME0WTPB79GtwmXRwcIkiwvC5EuDQC/dVsK/Rf7BAQaWwn4CHsKhyrjC/lrQwOLdjcEsro/Ce9s6wqqORcLHrD/Cd35VwcorN8KidJrAVWZTwqDBksITmlFANIivwkLM9MGnmbLCs7ZCwWGLbMIMWSDCNLlRwuclAsKmpwrCiPrewrt8nsE1eFTAmf+DwZ5THsAeCMbAVEXWwNryJ8KDlgXCArGbwfsBcsIgO9m/xY7dQCx2nsBAQbDBhsSmwrsMcEDMiQjCTBYbwvXMvMJ2qGvC3GngwIQdmcGq6bjBk8OPP2Ay9j7zllHC/BlCwVT/vsByyInBepFlwgOJx8LGR2zBlBkNwBPYcsJTrQHAv8lzwtH1mMJ26ZPCwPajwsgbvMB0WRM/q1yOQAefUMIDMafC6HKNwWz/bcH+sXDCUjfZwt02tMGL4cXB0kkLwjJn8z/dd7zCJ60JwtsozsK+aYrACPCRwdMgUcJuBL3CvxuJwr0bvMBgvlXCnxFOwfF+D8JkRYbCAPSQuw6cAsFqQLHAvJMBv4KxM8EWJSvBI+SPwW8J80Cz/MTBSk12wohRTMKAIevAmBUiwvhi/MHumIbC9TuxwkB0oj8Ew5S/doMhwmnpk8I+X6fBT90MwHcCYsHWapRAvaIlwKvpDsLGwmbBuyGiwvCvqsL5NMY/qEnRQDJBf8LicYbCIsXHwePL6MHugLrCTzSOwRpfuMHC3W/CGHXxwe9SkcEDpJ3CUNRBvkaujMLn7xnColZ2wngHgcEAygjBME38v3aqJ8DuloHC9iySwfjGXD/4FJrC8GUaQPEMI8KRuR7CurM+P7UbrMFFuLjCyYRMwKASkMFoi6/BP92Nws6WhcFkFB7B2FwHwuVknsLzCRVAQkK7wKyG08A3BxrArgrJwl1tjcFcskLCT27MwrvF8cGiW9DBwIWuv/9hlcGw64LCEJQBwn6afMHuuNnBe9iNP2I+IsAJYx5BCtSLwHTjssANU8fBxqRCwpL2t8HMYzTBG/eUQEFd9cGYZpXATbAbwWrLjMGZ2xnCopVOwBh0V8K6a6LBmZ9AwunwqMKg98jAvAiLwCEgssJoCzrB+WJBwhe+V8Fx7fJAeFgvwo7TpcBtir/ClNCwwq5JJMKjKQXBIEqAwa1lU8K8zWLBTQLUwtTkPMJdXrrC8IlCwQfYIsInAhDChcU3wVLYh8FvMwDCx10DwiO4dMKzR3bChgzFwNOvqcBT3di/lPXjQIboKMLHeWrAADiswi51CsGqu9S/6Pj2wUi4ycEQcg7Broc5wI3StsKhUArBJ6Z1wrywHcK/OpXCTgMywpjSr8E8Fe/A+12EwuEXJ8LEVsLCsFSRwMVUosJYoqvAKhW0woLoQcLv3YvBOAh5P6YijMI+JlzABlAZwMG618C9J7/CRPWPwp7hL8KF+yLBH7sNwvBIRsI3z17CrgoIwbf4hMJDgo3CZfC3wSTEesEj5v+94DZ8PwCDzsGEpkPCajy+wj1H7cEOJibC/By/v8otP8LscRTCCHfxwZC2kT/QyV7A5Zp8wQ27hcKQKMy/EaaiQCmHxsFlI4fBqqHkwTRWnMF+WaHCJnl1wSibwcHSHhHCcePiwOFLM8K4wK7AcVy1wT4HVEBQntHB3PjMwFMhu8BoBJDBf5sewtHhq8KELXzAAUqzwqDDX8KgL+BAdvuywkNfzcGlPMvB2LrgwcsU4MHNmnBAEVCcwhpPjcEdYmDCfS2Wwsm4rcL7xh/CsBm+QGQtrMFjKGnCZWs+wYBe7z4BWP3BS5mVwr7FnsCUa5jCjdKsP6+ma0B6EI3BdKgrwobCE8In14LC+rohwe7pr8KgfVjCNp/twEevHsIgIkbBujrpwbIhY8CW+lhA1zUcws9yf8Kaw1/CKwMQwbiuOL/H9izBW5yqwqoZ18E6mqnCsDgGwoiYWMIEUC7CxFsYwgnBjcKC+vvBzKJYwC4AucLKTIrC9PBswe/TNcJc3Pc/Rin7v1dVNMFxbA3CPICdwiJR/cHA+YLC5Cdwvy31q8LWi1TByfEKQKyFL8HGzwHCygYhwvn5bsKZaZzAaP/DwXbTC8EW7i/BIH8+wvyBDcIUWbQ+Jz9VwBljt0BHho3BGk4WwEPYAcGOCgLAaoFnwhwBCcB6nCPBnmlbwXqU0cBLkRLCn3+5wjAS3D3kHx3AzLAIwEs34sEE5KvAdL1YwoGMvcAMjOu/9me1wlzHlsJ6s0bAu+aGwj9UX8EimaLCc9U/wsweDMDc4NfBIhDMwU0zpMBeJFvCeF8hwp9ieMIhjA3CblPYvi/vOcIwBPDBU+jkwdIQ7sFwnHHCMq4lwKC4VsES/wa/WoRmwV0IecKAP9HCAODFP1xSbcIq/QTCxYdhwjDIlcKYOdLBaofFwHBdecCP2b/C4yItwT/FgsLfAxTCQTdQwlwmmMEtZIrA+Zc9wjAZccJf9KTCnZMrwUSYscJLeKrBht/2wYDH68GOwi5BJnWGwr3IkcGdZy7CkOLFwiDIhsBuGbDAufE3wFz588CpopnC9iW4v66yisIMZrfBSo6OwKaDFsB8/QbBGncswr1lJsJnTUfBmnMOwOzhgMFs1ofCuk6mwqh6ncEUwkHCBhaUwhF2XsJwPQe/KEkQwiQ6CMLclMHCq5wkwqDVK0Ehim/Cp+6jwmU7jMJEfAPC26Xdwbne98G2XzDBw7hfwqUS9sA30iTCfPQcwbArpsGtwL3CbvkBwiBNS8Al6I6/nhScwhh3rsFlNabB/bsEQQWHGcKGM4TAeEzLwDmXDsHWbIzAotf4wZlXwsJca1LAvEeBwnYrWMLCVRvBMPHBwqRrs8Ho8T3AtEc3wvjWdb7cJNw/2ZHGv85Qs8JyUXDAOLQ/wtCStcG44v7AeuWrwnmhgcB1PIzC0q1Ewe5DsMIBPB1BvIG/wB85vcI0wiHBzqyywY4eqMKUkmfCbNAEwlHKC0GrG5jChjubwiQcCsKXDlzCFkkewtyrLsKIS47CNh1TwSunH8KLNx7AZm5RwcXIc8IcrV3Aejo8wQObJsBKjFHC6j2CQGzdfsCrwCDBY9Jowsm3BcKo3TM/xg7MwbswiMKcTR7CrIFMwiMtEcKgNIo9lYjvQGhkC8ErMyXCmNVrwuE4S0Di2/k+b4EPQY9nncKrU2vBI7sNwUzojcDcl5fCaJqAwo4Mu8HkUB/CQ5ZUwnYfAsLsFCVAvV5swopghsK+TMPBqFMNwL7TvMJ8P9bBR66twZvWq8IjorDCrwGxwuP+ncFiMg/BjPFcwqbZa8JNhwHBU162wtRxisDvbuXBvNW5wgOdfkAX5zW/5M0AvxqMncLrbkfCPW0pwYuhAcIKF8zB2Gpnwh+Kd8JOXlTBz5aawdy7y0Ajc5bC0E3Jwlo1v8Ccqee/MkRPwpcfKMI4iaLB1vCCwZaqwsLTi6HBDM1mwEDSD8KZGi0/aG8iwsa5ysHg6IrBMEUSwmYxGsCp+VrC9sGSwVbctcKHUyLCsofKwVkxNcH/QSM/znjbvwk6lL/gDsnBREDVwFCGwkAD94LCyVrJwhAm5cF8gb6/+vmawbLij8LcR6jCIQBJwhJzh0CGOaPBNOSFwdJBisHYR3/Adox9wtzgvz4oCOq/gN94wuaMZ8JjgJjCS7TAwoIwTcLY0fjA4DGOwutRw8I6+ZfCI3aiwja8L8DD56/CrOl/wmsCb8IUSW7ChgoZwuY5g8G6y5jBTyy8weoXicHNHOTB0xKswmBT7sGGiIzCZwG/wrA1yj+TKJDBlnnYPxqPkMKntunBls8QwgKkKMJ9BWHCRTobwTSaEcLKZbnBeBP1wNSZbMGRKJ/BrF/EwmstUcIHdADBVFAiQJGVrcERtBzBqicPwQegjcIyNojCmln4wPrCCMCqA9XC9qRNwliT0L+v2AdBpj5yPykHDsG2fW/Cdh2rwta3w8JIFvk/KtOVwPBYA8HGqUnC1LMJwkqHWsLPo/DBeNMYwhukBMJKtLbCL2GhwpsIWcI1ic/AS6XDwizyZsFgBTm/oN9hwrXMpMKXssvCNLkxwNUrD0GQbsU/MH4owTihDkC36QrAbUNYwcl5NUG0lufA1QJ9wjCwB7/6ZprC8r0wwgTSKsIjY5zCdENoQNkg/sDQ3oPAHTatwI+1v0COcfXBfDkbwnEMqMJsLqXA+iNEwkuJdMD6UyvB0OYQwj91pMGfG4bBx8Mwwmy25T/Yqi/BnR3CwCJHAsJPAerA7GI5wpUU5sCMoNvAklF4wd8q4MCf2OS/IYxAwf0YZcDY55PBdAmgQHBqacFWdC/BKiPcwts1rsLOZ43BGq0FwiOgFsLelh7CfNWeQG8kekD+PLTBVbi0woalr8IB8cvCOj4swl50hcLvMA7C3PEywryWwMKAVrrC0KuQvKkkJcEQZem/yh5ywa04t8Jq1SDC711PwgXkT8ImF0fBg2+QQHaBCMD5Ct0/VvS7wF4X/MDfveK+xYKawXwrxcG9KopAgEJIwo+UAMG0arPCPCWXwA4+lMDPufjBmFbTwast6sGg/Ii+b4TdwH0Yt8KJ7OjAb1IowqFQHcJUBJbCWkKOwQP0qz84h5PCJkd5wmvBdsEoAYnBinxzQMQ4ur6CfU7BXMH0wYvaqsEl8LDCVp2MwpJvlsAg1OO/LmwIwiug/8GG7Q7BOlZZwr9rN8JF3Y7C4OadwYjHDMKYabHCnW+rwpJWpEDOetHBOUX9wJ4gecD0GhDB0tfJwcykuMIcMTbBr1txwKjqVsKkbZHCxIM4wI2nqsJaNnTBELESwsKGgcEU6JbBPum3wgImosJEjZ7CLgeFwiLZqcJHThjCeO2JwGodc8IJE7jCU2OwwFBYtcKTZTHCGuiJwhzilMJYXre+oihlwRQih8LHLJPBqrsowfFtMcIAi8bBsy7Vv4h6/j8CxsLB3gKgwikUmj+Ob4rC6yI+wdzaiMHG3MbBARwbwialyMGsEdfBwrKEwuSGLsLKkxLClBxWwvn0BsH238jBIjUNwfYhmMLStKnCChKQwQqIx8AphwHBdSQows0lJMIlFRHCOtBTwHq9esEsbxLCzKBMwgDZYcKmCPjBh6+lwcD6RcGVTs/BiLWDvuzmOUAd7JLBjO5Pwg==\",\"dtype\":\"float32\",\"shape\":[1000]}},\"selected\":{\"id\":\"1049\",\"type\":\"Selection\"},\"selection_policy\":{\"id\":\"1050\",\"type\":\"UnionRenderers\"}},\"id\":\"1038\",\"type\":\"ColumnDataSource\"},{\"attributes\":{},\"id\":\"1044\",\"type\":\"BasicTickFormatter\"},{\"attributes\":{\"formatter\":{\"id\":\"1046\",\"type\":\"BasicTickFormatter\"},\"plot\":{\"id\":\"1003\",\"subtype\":\"Figure\",\"type\":\"Plot\"},\"ticker\":{\"id\":\"1014\",\"type\":\"BasicTicker\"}},\"id\":\"1013\",\"type\":\"LinearAxis\"},{\"attributes\":{\"plot\":null,\"text\":\"\"},\"id\":\"1002\",\"type\":\"Title\"},{\"attributes\":{},\"id\":\"1014\",\"type\":\"BasicTicker\"},{\"attributes\":{},\"id\":\"1046\",\"type\":\"BasicTickFormatter\"},{\"attributes\":{},\"id\":\"1024\",\"type\":\"WheelZoomTool\"},{\"attributes\":{\"plot\":{\"id\":\"1003\",\"subtype\":\"Figure\",\"type\":\"Plot\"},\"ticker\":{\"id\":\"1014\",\"type\":\"BasicTicker\"}},\"id\":\"1017\",\"type\":\"Grid\"},{\"attributes\":{},\"id\":\"1050\",\"type\":\"UnionRenderers\"},{\"attributes\":{\"formatter\":{\"id\":\"1044\",\"type\":\"BasicTickFormatter\"},\"plot\":{\"id\":\"1003\",\"subtype\":\"Figure\",\"type\":\"Plot\"},\"ticker\":{\"id\":\"1019\",\"type\":\"BasicTicker\"}},\"id\":\"1018\",\"type\":\"LinearAxis\"},{\"attributes\":{},\"id\":\"1019\",\"type\":\"BasicTicker\"},{\"attributes\":{\"dimension\":1,\"plot\":{\"id\":\"1003\",\"subtype\":\"Figure\",\"type\":\"Plot\"},\"ticker\":{\"id\":\"1019\",\"type\":\"BasicTicker\"}},\"id\":\"1022\",\"type\":\"Grid\"},{\"attributes\":{\"fill_alpha\":{\"value\":0.5},\"fill_color\":{\"value\":\"orange\"},\"line_alpha\":{\"value\":0.5},\"line_color\":{\"value\":\"#1f77b4\"},\"size\":{\"units\":\"screen\",\"value\":5},\"x\":{\"field\":\"x\"},\"y\":{\"field\":\"y\"}},\"id\":\"1039\",\"type\":\"Scatter\"},{\"attributes\":{\"source\":{\"id\":\"1038\",\"type\":\"ColumnDataSource\"}},\"id\":\"1042\",\"type\":\"CDSView\"},{\"attributes\":{\"callback\":null},\"id\":\"1007\",\"type\":\"DataRange1d\"},{\"attributes\":{\"fill_alpha\":{\"value\":0.1},\"fill_color\":{\"value\":\"#1f77b4\"},\"line_alpha\":{\"value\":0.1},\"line_color\":{\"value\":\"#1f77b4\"},\"size\":{\"units\":\"screen\",\"value\":5},\"x\":{\"field\":\"x\"},\"y\":{\"field\":\"y\"}},\"id\":\"1040\",\"type\":\"Scatter\"},{\"attributes\":{\"data_source\":{\"id\":\"1038\",\"type\":\"ColumnDataSource\"},\"glyph\":{\"id\":\"1039\",\"type\":\"Scatter\"},\"hover_glyph\":null,\"muted_glyph\":null,\"nonselection_glyph\":{\"id\":\"1040\",\"type\":\"Scatter\"},\"selection_glyph\":null,\"view\":{\"id\":\"1042\",\"type\":\"CDSView\"}},\"id\":\"1041\",\"type\":\"GlyphRenderer\"},{\"attributes\":{},\"id\":\"1023\",\"type\":\"PanTool\"},{\"attributes\":{\"callback\":null},\"id\":\"1005\",\"type\":\"DataRange1d\"},{\"attributes\":{\"overlay\":{\"id\":\"1031\",\"type\":\"BoxAnnotation\"}},\"id\":\"1025\",\"type\":\"BoxZoomTool\"},{\"attributes\":{},\"id\":\"1026\",\"type\":\"SaveTool\"},{\"attributes\":{},\"id\":\"1049\",\"type\":\"Selection\"},{\"attributes\":{},\"id\":\"1027\",\"type\":\"ResetTool\"},{\"attributes\":{},\"id\":\"1028\",\"type\":\"HelpTool\"},{\"attributes\":{\"active_drag\":\"auto\",\"active_inspect\":\"auto\",\"active_multi\":null,\"active_scroll\":\"auto\",\"active_tap\":\"auto\",\"tools\":[{\"id\":\"1023\",\"type\":\"PanTool\"},{\"id\":\"1024\",\"type\":\"WheelZoomTool\"},{\"id\":\"1025\",\"type\":\"BoxZoomTool\"},{\"id\":\"1026\",\"type\":\"SaveTool\"},{\"id\":\"1027\",\"type\":\"ResetTool\"},{\"id\":\"1028\",\"type\":\"HelpTool\"}]},\"id\":\"1029\",\"type\":\"Toolbar\"}],\"root_ids\":[\"1003\"]},\"title\":\"Bokeh Application\",\"version\":\"1.0.2\"}};\n",
       "  var render_items = [{\"docid\":\"a441e57e-3900-4657-81b5-448e73f7e6ef\",\"roots\":{\"1003\":\"6e64cf41-6e31-42d4-95a8-bb9140f7df30\"}}];\n",
       "  root.Bokeh.embed.embed_items_notebook(docs_json, render_items);\n",
       "\n",
       "  }\n",
       "  if (root.Bokeh !== undefined) {\n",
       "    embed_document(root);\n",
       "  } else {\n",
       "    var attempts = 0;\n",
       "    var timer = setInterval(function(root) {\n",
       "      if (root.Bokeh !== undefined) {\n",
       "        embed_document(root);\n",
       "        clearInterval(timer);\n",
       "      }\n",
       "      attempts++;\n",
       "      if (attempts > 100) {\n",
       "        console.log(\"Bokeh: ERROR: Unable to run BokehJS code because BokehJS library is missing\");\n",
       "        clearInterval(timer);\n",
       "      }\n",
       "    }, 10, root)\n",
       "  }\n",
       "})(window);"
      ],
      "application/vnd.bokehjs_exec.v0+json": ""
     },
     "metadata": {
      "application/vnd.bokehjs_exec.v0+json": {
       "id": "1003"
      }
     },
     "output_type": "display_data"
    }
   ],
   "source": [
    "p = scatter(x.numpy().reshape(-1), y.numpy().reshape(-1))\n",
    "show(p)"
   ]
  },
  {
   "cell_type": "markdown",
   "metadata": {},
   "source": [
    "## Linear regression\n",
    "\n",
    "우리는 앞서 네 가지 요소 중 한가지인 데이터의 타입과 numpy 와의 호환에 대하여 살펴보았습니다. \n",
    "\n",
    "  - (v) data\n",
    "  - ( ) model\n",
    "  - ( ) loss function\n",
    "  - ( ) optimizer\n",
    "\n",
    "이제 나머지 요소들에 대하여 알아봅니다.\n",
    "\n",
    "### model\n",
    "\n",
    "y = a * x 식을 만들어 봅니다. 물론 위 데이터의 형태는 이차함수이기 때문에 일차함수인 y = a * x 가 학습될리 없습니다. 일단 만들어 봅시다.\n",
    "\n",
    "torch.nn 에는 다양한 neural network 의 layer 들이 구현되어 있습니다. 이를 가져와 이용합니다. a 라는 parameter 가 저장되어 있는 linear layer 를 만듭니다. nn.Linear(a, b) 는 a 차원의 데이터가 b 차원으로 변환되는 (a, b) 크기의 행렬이라는 의미입니다.\n",
    "\n",
    "### loss function\n",
    "\n",
    "nn.MSELoss 는 Mean Squared Error loss 입니다. 실제 y 값과 예측된 y' 값의 $\\sqrt{(y - y')}$ 입니다.\n",
    "\n",
    "### optimizer\n",
    "\n",
    "우리는 stochastic gradient descent optimizer 를 이용합니다. optimizer 를 만들 때에는 (1) 학습할 패러매터들과 (2) learning rate 를 설정해줘야 합니다.\n",
    "\n",
    "    (1) model.parameters()\n",
    "    (2) lr = YOUR VALUE"
   ]
  },
  {
   "cell_type": "code",
   "execution_count": 7,
   "metadata": {},
   "outputs": [],
   "source": [
    "# model construction\n",
    "model = nn.Linear(1,1)\n",
    "\n",
    "# loss function & optimizer\n",
    "# Mean Squared Error loss\n",
    "loss_func = nn.MSELoss()\n",
    "\n",
    "# Stochastic Gradient Descent optimizer\n",
    "optimizer = optim.SGD(model.parameters(),lr=0.01)"
   ]
  },
  {
   "cell_type": "markdown",
   "metadata": {},
   "source": [
    "## Train function\n",
    "\n",
    "모든 요소들이 갖춰졌습니다. 한 번에 모든 데이터를 이용하여 모델을 업데이트 할 수도 있고, 부분씩 나눠서 모델을 업데이트 할 수도 있습니다. \n",
    "\n",
    "Mini batch 로 데이터를 나눠 학습하고 싶을 때 이를 직접 나눠서 구현할 수도 있으며, torch.data.DataLoader 를 이용할 수도 있습니다. 우리는 batch 로 학습하는 train 함수를 만듭니다.\n",
    "\n",
    "아래의 과정이 standard 라고 생각하셔도 됩니다."
   ]
  },
  {
   "cell_type": "code",
   "execution_count": 8,
   "metadata": {},
   "outputs": [],
   "source": [
    "# define train function\n",
    "\n",
    "def train(x, y, model, loss_func, optimizer, num_epoch):\n",
    "\n",
    "    # output as Variable\n",
    "    label = y\n",
    "    \n",
    "    # for given epochs\n",
    "    for i in range(1, num_epoch + 1):\n",
    "\n",
    "        # prediction\n",
    "        output = model(x)\n",
    "\n",
    "        # clears the gradients of all optimized\n",
    "        optimizer.zero_grad()\n",
    "\n",
    "        # compute loss\n",
    "        loss = loss_func(output, label)\n",
    "\n",
    "        # back-propagation\n",
    "        loss.backward()\n",
    "\n",
    "        # update model parameter\n",
    "        optimizer.step()\n",
    "\n",
    "        if i % 100 == 0:\n",
    "            print('\\riter = {}, loss = {}'.format(i, loss.data.numpy()), end='')\n",
    "        if i % 1000 == 0:\n",
    "            print()\n",
    "\n",
    "    return model, output"
   ]
  },
  {
   "cell_type": "markdown",
   "metadata": {},
   "source": [
    "학습 함수를 만들었으니, 네 가지 요소를 모두 입력하여 함수를 학습합니다. 우리는 총 1000 번 반복하여 모델의 패러메터, a 를 학습합니다."
   ]
  },
  {
   "cell_type": "code",
   "execution_count": 9,
   "metadata": {},
   "outputs": [
    {
     "name": "stdout",
     "output_type": "stream",
     "text": [
      "iter = 1000, loss = 949.2531127929688\n"
     ]
    }
   ],
   "source": [
    "model, output = train(x, y, model, loss_func, optimizer, num_epoch=1000)"
   ]
  },
  {
   "cell_type": "markdown",
   "metadata": {},
   "source": [
    "return 되는 output 은 모델에 의하여 prediction 이 이뤄진 y 값입니다. output 의 type 은 Tensor 입니다."
   ]
  },
  {
   "cell_type": "code",
   "execution_count": 10,
   "metadata": {},
   "outputs": [
    {
     "data": {
      "text/plain": [
       "torch.Tensor"
      ]
     },
     "execution_count": 10,
     "metadata": {},
     "output_type": "execute_result"
    }
   ],
   "source": [
    "type(output)"
   ]
  },
  {
   "cell_type": "markdown",
   "metadata": {},
   "source": [
    "그 안에는 data 가 있습니다. 그 역시 type 은 Tensor 이며, size() 를 확인해보면, 1 차원의 1000 개의 points 입니다."
   ]
  },
  {
   "cell_type": "code",
   "execution_count": 11,
   "metadata": {},
   "outputs": [
    {
     "name": "stdout",
     "output_type": "stream",
     "text": [
      "<class 'torch.Tensor'>\n",
      "torch.Size([1000, 1])\n"
     ]
    }
   ],
   "source": [
    "print(type(output.data))\n",
    "print(output.data.size())"
   ]
  },
  {
   "cell_type": "markdown",
   "metadata": {},
   "source": [
    "이를 numpy 로 변환하여 다시 한 번 시각화를 합니다."
   ]
  },
  {
   "cell_type": "code",
   "execution_count": 12,
   "metadata": {},
   "outputs": [
    {
     "data": {
      "text/plain": [
       "numpy.ndarray"
      ]
     },
     "execution_count": 12,
     "metadata": {},
     "output_type": "execute_result"
    }
   ],
   "source": [
    "# convert torch.Tensor to numpy.ndarray\n",
    "output_numpy = output.data.numpy()\n",
    "type(output_numpy)"
   ]
  },
  {
   "cell_type": "markdown",
   "metadata": {},
   "source": [
    "output_numpy 는 numpy.ndarray 이기 때문에 shape 을 이용할 수 있습니다."
   ]
  },
  {
   "cell_type": "code",
   "execution_count": 13,
   "metadata": {},
   "outputs": [
    {
     "data": {
      "text/plain": [
       "(1000, 1)"
      ]
     },
     "execution_count": 13,
     "metadata": {},
     "output_type": "execute_result"
    }
   ],
   "source": [
    "output_numpy.shape"
   ]
  },
  {
   "cell_type": "markdown",
   "metadata": {},
   "source": [
    "데이터의 분포에 맞지 않는 모델을 학습하였기 때문에 prediction 값이 엉망입니다."
   ]
  },
  {
   "cell_type": "code",
   "execution_count": 14,
   "metadata": {},
   "outputs": [
    {
     "data": {
      "text/html": [
       "\n",
       "\n",
       "\n",
       "\n",
       "\n",
       "\n",
       "  <div class=\"bk-root\" id=\"4739ec19-2d9c-4dc7-bcd3-20f57e63d3cd\"></div>\n"
      ]
     },
     "metadata": {},
     "output_type": "display_data"
    },
    {
     "data": {
      "application/javascript": [
       "(function(root) {\n",
       "  function embed_document(root) {\n",
       "    \n",
       "  var docs_json = {\"236fe4a6-b0f1-4417-82c8-091f84375655\":{\"roots\":{\"references\":[{\"attributes\":{\"below\":[{\"id\":\"1110\",\"type\":\"LinearAxis\"}],\"height\":600,\"left\":[{\"id\":\"1115\",\"type\":\"LinearAxis\"}],\"renderers\":[{\"id\":\"1110\",\"type\":\"LinearAxis\"},{\"id\":\"1114\",\"type\":\"Grid\"},{\"id\":\"1115\",\"type\":\"LinearAxis\"},{\"id\":\"1119\",\"type\":\"Grid\"},{\"id\":\"1128\",\"type\":\"BoxAnnotation\"},{\"id\":\"1138\",\"type\":\"GlyphRenderer\"},{\"id\":\"1143\",\"type\":\"GlyphRenderer\"}],\"title\":{\"id\":\"1099\",\"type\":\"Title\"},\"toolbar\":{\"id\":\"1126\",\"type\":\"Toolbar\"},\"width\":600,\"x_range\":{\"id\":\"1102\",\"type\":\"DataRange1d\"},\"x_scale\":{\"id\":\"1106\",\"type\":\"LinearScale\"},\"y_range\":{\"id\":\"1104\",\"type\":\"DataRange1d\"},\"y_scale\":{\"id\":\"1108\",\"type\":\"LinearScale\"}},\"id\":\"1100\",\"subtype\":\"Figure\",\"type\":\"Plot\"},{\"attributes\":{\"fill_alpha\":{\"value\":0.5},\"fill_color\":{\"value\":\"orange\"},\"line_alpha\":{\"value\":0.5},\"line_color\":{\"value\":\"#1f77b4\"},\"size\":{\"units\":\"screen\",\"value\":5},\"x\":{\"field\":\"x\"},\"y\":{\"field\":\"y\"}},\"id\":\"1136\",\"type\":\"Scatter\"},{\"attributes\":{},\"id\":\"1124\",\"type\":\"ResetTool\"},{\"attributes\":{},\"id\":\"1125\",\"type\":\"HelpTool\"},{\"attributes\":{\"dimension\":1,\"plot\":{\"id\":\"1100\",\"subtype\":\"Figure\",\"type\":\"Plot\"},\"ticker\":{\"id\":\"1116\",\"type\":\"BasicTicker\"}},\"id\":\"1119\",\"type\":\"Grid\"},{\"attributes\":{\"active_drag\":\"auto\",\"active_inspect\":\"auto\",\"active_multi\":null,\"active_scroll\":\"auto\",\"active_tap\":\"auto\",\"tools\":[{\"id\":\"1120\",\"type\":\"PanTool\"},{\"id\":\"1121\",\"type\":\"WheelZoomTool\"},{\"id\":\"1122\",\"type\":\"BoxZoomTool\"},{\"id\":\"1123\",\"type\":\"SaveTool\"},{\"id\":\"1124\",\"type\":\"ResetTool\"},{\"id\":\"1125\",\"type\":\"HelpTool\"}]},\"id\":\"1126\",\"type\":\"Toolbar\"},{\"attributes\":{\"data_source\":{\"id\":\"1135\",\"type\":\"ColumnDataSource\"},\"glyph\":{\"id\":\"1136\",\"type\":\"Scatter\"},\"hover_glyph\":null,\"muted_glyph\":null,\"nonselection_glyph\":{\"id\":\"1137\",\"type\":\"Scatter\"},\"selection_glyph\":null,\"view\":{\"id\":\"1139\",\"type\":\"CDSView\"}},\"id\":\"1138\",\"type\":\"GlyphRenderer\"},{\"attributes\":{},\"id\":\"1111\",\"type\":\"BasicTicker\"},{\"attributes\":{\"plot\":{\"id\":\"1100\",\"subtype\":\"Figure\",\"type\":\"Plot\"},\"ticker\":{\"id\":\"1111\",\"type\":\"BasicTicker\"}},\"id\":\"1114\",\"type\":\"Grid\"},{\"attributes\":{\"bottom_units\":\"screen\",\"fill_alpha\":{\"value\":0.5},\"fill_color\":{\"value\":\"lightgrey\"},\"left_units\":\"screen\",\"level\":\"overlay\",\"line_alpha\":{\"value\":1.0},\"line_color\":{\"value\":\"black\"},\"line_dash\":[4,4],\"line_width\":{\"value\":2},\"plot\":null,\"render_mode\":\"css\",\"right_units\":\"screen\",\"top_units\":\"screen\"},\"id\":\"1128\",\"type\":\"BoxAnnotation\"},{\"attributes\":{},\"id\":\"1120\",\"type\":\"PanTool\"},{\"attributes\":{\"source\":{\"id\":\"1135\",\"type\":\"ColumnDataSource\"}},\"id\":\"1139\",\"type\":\"CDSView\"},{\"attributes\":{\"formatter\":{\"id\":\"1154\",\"type\":\"BasicTickFormatter\"},\"plot\":{\"id\":\"1100\",\"subtype\":\"Figure\",\"type\":\"Plot\"},\"ticker\":{\"id\":\"1116\",\"type\":\"BasicTicker\"}},\"id\":\"1115\",\"type\":\"LinearAxis\"},{\"attributes\":{},\"id\":\"1116\",\"type\":\"BasicTicker\"},{\"attributes\":{\"formatter\":{\"id\":\"1156\",\"type\":\"BasicTickFormatter\"},\"plot\":{\"id\":\"1100\",\"subtype\":\"Figure\",\"type\":\"Plot\"},\"ticker\":{\"id\":\"1111\",\"type\":\"BasicTicker\"}},\"id\":\"1110\",\"type\":\"LinearAxis\"},{\"attributes\":{\"fill_alpha\":{\"value\":0.5},\"fill_color\":{\"value\":\"red\"},\"line_alpha\":{\"value\":0.5},\"line_color\":{\"value\":\"#1f77b4\"},\"size\":{\"units\":\"screen\",\"value\":5},\"x\":{\"field\":\"x\"},\"y\":{\"field\":\"y\"}},\"id\":\"1141\",\"type\":\"Scatter\"},{\"attributes\":{\"fill_alpha\":{\"value\":0.1},\"fill_color\":{\"value\":\"#1f77b4\"},\"line_alpha\":{\"value\":0.1},\"line_color\":{\"value\":\"#1f77b4\"},\"size\":{\"units\":\"screen\",\"value\":5},\"x\":{\"field\":\"x\"},\"y\":{\"field\":\"y\"}},\"id\":\"1142\",\"type\":\"Scatter\"},{\"attributes\":{\"overlay\":{\"id\":\"1128\",\"type\":\"BoxAnnotation\"}},\"id\":\"1122\",\"type\":\"BoxZoomTool\"},{\"attributes\":{\"data_source\":{\"id\":\"1140\",\"type\":\"ColumnDataSource\"},\"glyph\":{\"id\":\"1141\",\"type\":\"Scatter\"},\"hover_glyph\":null,\"muted_glyph\":null,\"nonselection_glyph\":{\"id\":\"1142\",\"type\":\"Scatter\"},\"selection_glyph\":null,\"view\":{\"id\":\"1144\",\"type\":\"CDSView\"}},\"id\":\"1143\",\"type\":\"GlyphRenderer\"},{\"attributes\":{\"callback\":null},\"id\":\"1104\",\"type\":\"DataRange1d\"},{\"attributes\":{},\"id\":\"1154\",\"type\":\"BasicTickFormatter\"},{\"attributes\":{\"source\":{\"id\":\"1140\",\"type\":\"ColumnDataSource\"}},\"id\":\"1144\",\"type\":\"CDSView\"},{\"attributes\":{\"callback\":null,\"data\":{\"x\":{\"__ndarray__\":\"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\",\"dtype\":\"float32\",\"shape\":[1000]},\"y\":{\"__ndarray__\":\"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\",\"dtype\":\"float32\",\"shape\":[1000]}},\"selected\":{\"id\":\"1161\",\"type\":\"Selection\"},\"selection_policy\":{\"id\":\"1162\",\"type\":\"UnionRenderers\"}},\"id\":\"1140\",\"type\":\"ColumnDataSource\"},{\"attributes\":{\"callback\":null,\"data\":{\"x\":{\"__ndarray__\":\"CNEEwHBPLr/ep+7AALu3wJjRHEA4+4PA1DcKwExgR0D09gRBykAHQVjmpz9OvQvBfJD7QHCAyb9+QTjAoDryQOB/wMAAI9m9KRHUwCCcnL/ACJ8/aF2mP1RcPEDg0g5BgAv0QF5vjsCXpRDB+Laiv+ih4z8IAsZAkF0SQax6EcHE9cJAvKZUQEBUBUEAEY2+Utq5wMAspL7yHpdAfk4ewRRGesBYNGtAiagQwZK4HkGiQ67AgNUFvso038AOVrfAMOkPQbQ6xUBAfxZBtKhYQBKRd8BmZQxBGHvnQKwD40AxcujA6BlpwGy30kCAHiU/ymrlwMk/CMHA/WW+hYcXwWtVqMCUGhlB8EddQERkAUEA0ctA8G/uQHyPw0DkjrZAXv0dwVDVikBQdpg/7BlMQJobC8BYDfs/5g0dwFK5qEAS1bvAUBF9wIoRAsGwRfO/OIHhP5AxCEAAU51A0PEOQQDfND5E57hAAO7WQAAxH0FKCQDBwOWUP0SZn8DSbalAgIv+vrAjvz9egejAuPR7QKwJGkATG4bA5LnuQDbKHEEUVpBAuDQJQKyI/EAAM0Y/osICQQa3DMFi2wzBe5ENwRAQYMBg4g6/gNhwv3RP88Ba8A7BFidgwOggfUAOewDBnF0eQU6UgUC3YZvAuGLCQCC0kr9ftxnBFO7EQOU2HsF0PTtA2XKVwBB73kCw2R5B7C3xQCQ0UEDETOVAMC6UwHY0vECGpgTBoLwcwLqcQcBkfAfA1nUGwMhLScC2J5DAGDGCwABZMj7qLqDAGfv+wHdo2cA0G2xAQhrBwFL7uEDYh+xASs0YQYT0OcDwuTS/cF2vQB/IBcGcwJVAWHAHQDJPlcAQ5gs/aOmRv7zessCpx5PA0kcLwbMiF8GwCZY/ICrKP4I0DMFWbAtB+DWawDDBusDebBzBtIpOwHADqMDEoQRBftitQBjbh8D4awxByIWzv2U4BcE65MDAVxL6wDsah8AQ+UlAZHQzwEgZnD+WXADBU1eqwEDFfb6GBQ/BIMgjQIQps8A0yM3AIOZdvx5MosBgXhVBwPdIPsDWhkBsxJ1A3pwEQczZfcBKuJZAYIK7QJbgDUEAQHm7+MUzQJCCO0BuehTABLUUQS5sg0AYmedAWIIdQQz0tUAq0oXACKZNQJi4eEB4XPvAnmmvwHzse0Dg9qlAABY9PyCok79wQYE/IPuBPzDXVT9kKIzAWQriwNwan8DIOMy/QERrv1t/scCATWS+nAV/QBRSh8B4J8pAIJ2yv7yo4UA0+krAOG7mQP++EMEA2XY+4GPKP1CFD0EAbO0+aJHiQMwMasBgWU4/cJLsQKBeU0A0jB1BBXMWwQiwy0AgRuO/DLRWwBQF7EAEWHjA+TwcwdQN2kA4jBrBEFksQOJ9zMBg1b9A1IVSQFQgLUBYdsRAxFSmQJzE90DMrQJBIJOZPwCWZsCACCq+YF8OP32z2MCQtBhAasISwcDpK0CQ6eu/GsebQOQ3j0AcgUJAcKhMwGaTHkF0HWtAjJP1wNBsvEAkNwfBtInSQMhLjEBsontAob8BwZDb1sDYNBtBhOo8wCQnFkHIXARAEosawYjAy0DgfphAeOu8P450BEF03SLAsExgv4BF0r28/R9BakEMwTmM1cDIOjDAVLzJQDlZ6sAoru5AYKlKvwHIAsFkUARB+OauwLgjSUDAyNY+YG7Uvt7vhMBAYNzA2uEbQfafm8BqysfAYEHGv8Rv2EC4xrdA3C2twDBoTUDg8Z2/sCZ8QGh5AUGkJ0nA4JWmvySTqUCIFXFAutG2QL8skcCBABbB+IV/wC5kk8A0tcBAoPZXwNAo00BGFg/AxUyiwKAOej9HIpvAlNYFwJL2FMCo6ZDAt4fewB41EsEOhizAOuEcwchR5ED4ZI4/AhkYQXbiiEBmhp1AgHCrQHCqpkA4x/O/IHkNwchgkMDGQeXAv98CwRwqEUGo/sFAsEInP/hcpUCAm/ZA4tOUQFj+ir+Y7clARG0HQeDbHb9M9A7BQFgHPwDy6T2olmzA4jjVwFAYzUA02f7AAN5sv0SlE0FQ1/JABGorQGLVzMDaPTXAlEG7QGDvvj8wm8Y/6NrQQExuBMGIv9hAuKRmQIAt1j5cYj/AyE0RwejCtEAsBw9B1tCgwJjS5UChpNfABMm4QHTwAEFGq6bAcDNPwOb2FkH0/APBHI5RwLQ85UAQ+Re/KFoEQG7aaMAWn7DA2LUWwTANtEBMrvzAYAEOQAqYFUG4uZXAcM+vv36NPMCqmq5A1MezQOvn/sAgR+Y/1BJnwKCxtT+0VW/ArMTiQPa/oUDoX4y/QJH1PmC/8D6c0ZtAQFuTvxLBLsBwRLa/uA7qwOCJkj6QhBBAdg2NQCC6KD/pi7zArE0cQQAPH77o7S/AWI5gwJRwkUCYu92/0D3sQNAYQL+kkSXArYsZwf4SDEE4wBnAYKwDQZSljUAGcg7B+ALaQMhpuT9ojpPAZmmgQAj76r+8XN9A1O7EQPqe7cB8Pq1A8CmGv8Cl0EAwErlAs9SfwAmMg8CUyP7AxPgTQEYAcMAYC6C/yAZ2QNTr88CYgh1BaEMvwLyT+EC4Aa1ACObyQPNYCsHL24DAqOgYQNB9gj8eNBxBwIq+v4woCkEM8cJAxFrpQOQWMMD4h1hANA/gQGiB9UBe4AxBCP5nQPD4FkGby53A2tOwQH4iqMBA9i0/5lsCQRDojMCMrMhAaBsUQYCZSb/wNEDAYFpkvyj/KcAy3RNBAGuvPwQCA0GKR5LAoDuFPrgvIUBqgETACXPOwLfi2MB4019A4MjuvxhhakCWDg9Bd7gNwaDqnECgdNRA1n0NQfCW3sBsaCzAFJ7BQPSwzkBsqhlBGGTDQMAgVr8SHuXApQkOwXTJBMEmWJzAIvSgwBoNrsBs4pFAl+X6wKD9or+rXubAaL4swMr4uUAr5xfBDMi7QLgcnD8gzY+/n5kUwXg1jEBIuH9A8Dylv0QKrkBweR4/oBSgvnhqY0DgdLu//vOtwPSAGkG+NknAutoIQS7z8cB8dQpAoD8fQQRFjsBg5/8+PCvRwHCDgL8MBQFAQOwUPxqKFcE2ER/AvJ7dwEY3a8BMfh3ArB4SwcANxT4aDQrBOv6DwNhIFsH4UaM/4Pr7Py51GkH0VBNAlPCeQEqSGUGgagNBTCTGwBCrhr94IhBBthEKQeqLw8BzfuXAfDy4QBQL1kCojQBBCPWRQHSQx0Ag87M/EMRkwPew/MDgEwpAbpSHwAAAgL2YIdDAeLCTP6jyh8DgblNAdo/nwCAz0EDgFV+/YIWjQNR7/ECAldJAmGblQNDav0Awtr2/4Mq/PgBGQ0A869LA9BbgwPD/Az/AtLo+MBCTv37MDEE8zHbA2KomQMC6KL8yKQpBopcBQbSdjUAnebTA5ArdQK4GxsCoohtA3nbmwA5jAUEi3IXAjI8wQDbnGEGMOqzAWh+EQIAzGcHehxjBbkUUwTrlfcDEGhnA+GfiQEM09sC0VT9AnFIWwcgKckBOxJ7ArxIdwQA+6T4APxm/gLuxv+zTDsERetPAQNlPQLzUtMD+Ur3AYOT6QPGY98D6YYpAwCZ3QIC3xT5YOApBypUfQfSyD8DIWi/AQhLfwGwa0MDkMJrAkGgYwOBAG8HWIJfA7iIKwAKOlcCARyC+snPCwHz4qUCCP5ZAM5nJwPg8H0B5Pd/AxRSewHxIF0GijLxANuiTQPoNE8Cg45y+UOzDP4Bn1D0ehaXAmE0XQFgTBUA6JABBrEMeQSLBm0CoRizAgPWfQKJACUHujBPBkJfWQNADRz9Q5JFAnnGTwFaIm8DoJC3AbBf3wECTm7+QQhHAwCv0QAhV0UBNOgfBtPAcQfFk4MAQaNc/Th4CQRr0HkGsSgZB4GsMwcA04T76Lg5BGGf/QHbo9cD0i/LAVNu+QF7Vh0D2+6pAxuaYQHBdH8CEM5pAtHIZQcpgvsDA1gbBw5cUwUA4jT9qaWrAQLzovqtmDcHSJ73AoDbBQFz1wUDDNfzAaKZ1wEQgv0AdsIfANJpBwAhYjUAE2mBAdgsbQQmz2cD8MS1AlN8ewLYvlUBI+QRAjBcjwKw1AsHko/xAQBusPhCaG0DdGhrBNarewAAVxj6gqi0/GBWFvyAlQUAUbdtAwuQNwTLPHsFw2Y8/0Km/P6gUGMBC7uDA9sCuwJiL/EAKIrJAVd6ywDhhq0Aa3hdBUoMPwQCc40BofS9A5r0bQTStWEBOwgrACPDdQIq5EUHutx/BuFsJQMAs9r/oILC/uHxqQAAVzL3g3vC/zI5XQFAST78oK1FAzOX9QJjfV0DQHQhB+nTTwFRq4ECSwQZBUNm2P9BwHkAEZCbAkAMEv+hSsj9ms6dAECjEwLSlCMHAVzm+P/DywACDMz/auEHAQOSUQK3Am8DSDoNA+ijXwEgd3b/I2Ka/gP1avvBYq0DAnnS+7DzpQEBTZb6AUcq/YTuVwPi2YsBApvY/bGpYQAAxaL/o5YjAMG3LvyQPVcAkZ3fALBYeQYToF8HMCIxAdgW4QGQ61EDYqsRAQJ76P/BRB79k15TAdL4XwTnwE8E4tB5BOJnbQBpAAEE8IrZA70XewEqfF8HYjBrB0Gw3vzBuMkBwvlRADemGwGLSFUFWpM3AgHHnQARY+UCkThNAyO8SwAB+7T6AgiA/cKy1v1CxLD9AdRM/aNaUQFSvj0BQ3FG/wCDuwCx9DEDbdBvB0J3gv+gxPcC2RK/AlDWTwARPr0BAaOu/NF1RwCxwF0HkWz7AZAa6wNiQxEDwDg1B9KyiwADk0b38Mg7BnqnrwDhdcUBMTkTAYKEVQEDFpb/QWyDAANTUQDVZj8DKThNBQAAEQaj2g0D4wP8/vhe2QMwxt0AEOCFA+LvoQEQL10C/GQzBSP+EQPbps8B8ohbBSlMRQQApFb9w6aFAkK0owACCGr3cL17A1JCJwAwjEMGWo4JAQCbLPtB29UBc0g5BYDeivwLwEkGYII/Ats3BwFhahMBALnnAK7gawbWhC8FqoBTBXroFwVKzF0Gg0slAqGfxvxao7sCE4hdBPAgXwJLqFMEsatDAgrQEQWARCcGQkfC/RvSZQNx2BcEiIpZAMOrUvxwOz0B6rI3AAMqXv+j0vz8oD51ApnEIwaCvNL+CYg3BEMH9P64ugsCqXpzACF/MQLT9mMAeAKLANEH0QBBBwkCodsXAvLfmQFDoHUCQPo7AAKoSv9j5DMG54BvB5K2OQNjwFkDA6TXA3K/XwFrjuUAIVrPAUC8APwi6SMCoe9VA/A/eQH4s5sDBC6HAwnl1wLaxDcDs3JpAaF+fP+B6G7+xZZ3A3D3cQA==\",\"dtype\":\"float32\",\"shape\":[1000]},\"y\":{\"__ndarray__\":\"9Q0Ewl5EBcJRv/7BxN0Awm79B8LHRQLCK/sDwneRCML6FQ3C0TUNwvb/BsJRh/zBC7IMwn99BMIIWwPCGXEMwsOgAMJZxAXCohgAwpLLBMKL8AbCS/0GwiZrCMInnw3Cu30Mwg39AcLC/vvB9MAEwtpnB8J2PQvCb9ANwpjn+8FBKAvCpL8IwgwbDcKdngXCAM8AwpGUBcJG9wnCpIL6wWR1AsIXDgnCcP77wVh8DsKfHwHC274FwkeW/8GC4ADCSK4Nwgs4C8LrCQ7Clc0Iws9+AsJgfQ3CUyYMwkEHDMK4Ff/BILECwt+VC8KKawbC3D//wXHo/MHzqQXCPD/7weFIAcIwLg7CqN0IwkTkDMLeZQvCuFYMwm8sC8L60QrCdov6wcqhCcId5QbC5qEIwhP4A8KVkAfCprkDwrxxCsI7wQDCrGsCwm+U/cHZNATCJmQHwrC1B8JuIgrC1qANwkUDBsJL4grCLrMLwuSCDsL8zP3B6t4GwqWFAcKkdgrCRm0FwmIoB8LkFP/BXEgJwsLzB8L/NgLCu1gMwnphDsITyAnCNrkHwsq4DMJOiAbCT/cMwixs/ME4aPzBbVT8wZHQAsKyXwXCggoFwo5+/sFJLvzBQNACwnBMCcKewP3BZncOwmphCcL8ogHCQiQLws3cBMJhAvvB9jULwjWF+sFAZwjCQswBwrbnC8Ilfg7CzGkMwiuwCMInFwzCFdUBwkP5CsKWTP3BwboDwnw6A8KsBATCPQgEwsIfA8IW8QHCOlICwrkCBsKUgQHCLdz9wfPm/8E6EQnCkZwAwtfiCsJ1SQzC/SkOwh5VA8LKPgXC8J8Kwhst/cHB7QnCELMHwjrNAcKbVQbCLt4EwpT/AMLe1wHCFpT8wTJK+8Hm4AbCjjsHwlx6/MHXbw3CIasBwrrIAML+tvrBgg0DwhtLAcJZEQ3CXpUKwtIqAsK8fQ3CuaMEwro8/cEIngDCeyD+wRAwAsJ/mgjCu2sDwnDrBsLuw/3B6joBwsekBcL8K/zBpxUIwoz9AMJbRADC/BoFwt9yAcI4+g3CpAcGwgGGCcKDJQrCFRENwvNoAsJ89AnCbPQKwvyRDcIa2wXCR00IwjBoCMJ71wPCA/ENwjxuCcIkJwzCe2sOwsXNCsL6OALCSKcIwhs9CcKKDv7BohcBwj9ICcJdegrCYYAGwiXbBMLBvAbCA74GwuiVBsLlDALC2G7/wRWJAcLEeATCXA8FwiEJAcJRqgXCBlMJwosuAsJOWgvCTaUEwtP9C8LpGQPCBR8Mwv/7+8GdEQbC8zsHwtqoDcIuQwbCJgQMwtOtAsJkjwbCvkkMwi+7CMIFbA7CSl37wflkC8KsUATCH/ECwudFDMIbfALCM7z6wevIC8I+6/rBczMIwlVNAMKBEgvCPLgIwig2CMK1MgvCF2EKwqKXDMIt9gzCDOcGwuC5AsL8tgXCwlcGwsnw/8Ef7wfC+MP7we8xCMKmQQTCrBcKwkzACcKEgAjCEBQDwlN6DsLHDQnCB1/+wcv6CsI2Bf3BoZQLwverCcI9RwnCVp39wTgFAMJxSw7C0koDwiEFDsJdqAfCXuv6wWxlC8LWAArChSQHwuQODcJwpQPC5hgFwhjFBcIEjg7C9Xj8wVUOAMLzdgPCZFcLwj/7/sFpWAzCtysFwpmA/cHtDA3CLxsBwpmXCMJXOQbClX8FwiE/AsKovf/B2FQOwkuhAcIJbgDCJIMEwqq9C8J02grCKycBwnGmCMJAyQTCCkkJwmrlDMI/IAPCOboEwqh3CsKLIgnCy9MKwv7pAcK9afvBImMCwpLaAcKWGAvCvewCwvSYC8I76gPC23IBwma1BsK1pAHCZwoEwsvVA8LQ6wHCr5//wVTT+8HXgwPCWKr6wVUQDMKa0wbCMCAOwjyUCcLTIwrCoIQKwmtjCsL4MwTCE1f8wYnvAcIXQv/BBX79wbm/DcKKIQvCZm0GwltaCsKPjwzCUucJwjbqBMK7WAvCPDgNwq1SBcLbLfzBpVEGwmH1BcL/pALCmRAAwsNuC8IE3v3B+A0Fwj7iDcJbdQzCMzAIwvRKAMKEZQPCqfIKwgcoB8JeNQfC7IgLwrJS/cHVvwvCOf4IwhM5BsI8QgPCeez7wXrFCsL/oQ3CLn0BwsoaDMKC///BeeEKwvjdDMJ1VAHCOAsDwmwQDsIEX/3BBwMDwrcWDMLLVwXCU6gHwv2xAsI5DwHCB1b7wYrACsIt/P3B58kHwlr9DcJVygHCLqoEwhVMA8KlmgrCqL4Kwjjd/cFzbAfCLrgCwvQXB8JxmwLCigUMwjhBCsLP5wTCuUYGwqBEBsL1FwrCqtsEwhV8A8LzngTCTP/+waobBsKl0gfCO7EJwq1uBsJDvADCtVoOwl+5BcL+dwPC2c4CwsDPCcJPWgTCckcMwuc0BcIInAPCIQf7weZ4DcIkxQPCAwQNwl21CcIEPPzBn8gLwmweB8Js2QHC6TcKwkVDBMLY7QvC+zULwrfN/sEukQrCnPIEwnqHC8J24wrCCIQBwsxIAsLs3v3BqN4HwiCZAsKaxQTCvDMJwg52/sF/aw7CT3oDwkOdDMKIjwrCwnUMwg2u/MGAWwLC1e8Hwue+BsJRWQ7CjpAEwj5eDcIhKAvCXDMMwnB3A8IjzQjCsvILwuSHDMIPhA3C6wIJwogQDsIxkgHCHKoKwkNKAcI6cwbCufEMwq8HAsICUAvCqugNwqMsBcJfPwPCXxUFwqGMA8JI5Q3CCg0HwsD6DMJO4gHC4RUGwqAMCMJvMAPCtz8Awjju/8GD5gjCpzwEwjgLCcJmog3CMFD8wZgfCsL4oQvCnowNwtue/8E+hAPC6h4Lwt55C8ICNg7CQSsLwr4hBcIIRP/BXUf8wcpI/cFJnAHCOHwBwhohAcLY0gnCABX+wXnABMKbMv/BE4MDwrrpCsLWNPvBUfYKwnbrBsLZ4QTCwJD7wVyrCcJzVQnCkbwEwriWCsLCZQbCWZYFwv/yCMLslQTCySEBwqpBDsILIAPCGUwNwnyR/sGRvQfCr4MOwjT+AcI4SwbCyywAwnD8BMK8nAfCdF0Gwpx2+8GlsgPCWaz/wcWpAsIfuAPCxdX7waExBsJMtvzBskUCwuBh+8H/9wbCMpIHwgdBDsJu3AfCqy0KwrI0DsJwAA3CgnkAwrzxBMJlsQ3CAF0NwpCLAMLLPv/Bp90KwgStC8Ka2AzCWtMJwklIC8LrFAfCNMACwgj8/cE+vAfCviwCwgnOBcIDNADC0NwGwi4qAsJnuwjCCiL/wV2EC8L0GQXCik0KwnC4DMLzlAvC2xcMwqcSC8IAkgTCVy8GwjGDCMKfIADC/In/wb1OBsIhLQbCLdwEwvuCDcJ8gQLCsB8IwjlJBcJHXg3CDucMwia1CcJt9ADCtd0LwlB6AMJR+QfCSjH/wTPkDMK1OALCGkIIwmUrDsLILQHCG3MJwrYQ+8FeI/vB5pn7wctoAsJjxwPCBQMMwkpW/sF+dQjC0GD7weAlCcJviwHC+KT6wV1BBsKwVgXC1qYEwmAx/MG9HADC764IwvDxAMLatgDCXq0MwuhC/sGongnCpTcJwusxBsIaXw3CXogOwhroA8L+eQPCJ5j/wTU0AMJEqwHCz8kDwprX+sGTwAHCdPsDwoXLAcIbuQXCLZMAwml6CsI08QnCdmEAwtkFCMLOlf/BNJABwtsUDsKo+wrC6uAJwm7cA8K8lwXCszAHwgrzBcJ0XAHCP+oHwtiqB8Lf0gzC/XUOwoIXCsKzhAPCwjQKwqNRDcL1rfvB1bALwgOJBsLl0gnCNdoBwu+hAcKugQPC8kn+wV/NBMKs4gPCnH4Mwj6MC8LeBP3BkWMOwr+F/8GWUgfCYO4MwpR/DsJxKA3CV3T8wd89BsI/lg3Cv8wMwmla/sEuif7BtgsLwuyMCcJ2gQrCqQMKwpyxA8K0DArC+jIOwoWvAMKwD/3B85D7wY/RBsKRrALCwXYFwhRZ/MEGuADCGxwLwkohC8K6Av7BeoUCwpUNC8L9KwLChToDwkKzCcIU6gjCMkkOwubi/8FlNgjCUrMDwtHpCcJ9qgfCpqQDwoGQ/cGHuQzCyCYGwjP5B8KQ9/rBz53/wRMyBsL4cgbCfvQEwsp7CMJ20gvCX0v8wad0+sEi1gbCSykHwvPKA8JIfv/BNxwBwt64DMIxswrCl/8AwjaECsL9HA7CTx78wWQLDMJgPgjC5FIOwqTNCMJJ+QPC7+MLwoXHDcJaW/rBvbkHws0vBMKgqQTCmAsJwsTFBcIGOQTCwMkIwuEnBcKHswjCRsIMwtnKCMLVQQ3C4BwAwiz1C8LnLg3C9hkHwhMDCMIsmQPCJmkFwhgSB8KeagrCUocAwl3d/MGoswXCu4P+wQ54BsIaOgPCxOcJwmegAcKzawnCHQMAwmJbBMLEuQTCV6wFwvyDCsLFpgXCjTIMwhiqBcITfATCxM0BwlfHAsLtiAfCvMwIwgkSBcKSIwLCJnoEwtf2AsJhfwLChHMOwrE0+8ElqgnCKNwKwmOgC8IiNAvC1I8HwkZmBcJ80AHCQzn7wSqj+8EbfA7CqdMLwmPUDMIGzwrCQqP/waY8+8Es6/rBcTwFwptICML2vwjCZjECwoYADsJVRQDCECYMwpiiDMJZ3AfC19wDwjZDBsKIZwbC+58EwiByBsIuXAbCY+cJwovDCcJ0JQXCqcb+waHEB8L00frBS1UEwtlJA8KiGAHC1tsBwoufCsKHQgTCsQMDwgMXDsLNRQPCzs0Awm0zC8KXhg3CPnABwiLFBcLfQvzB9+j+wYQjCcIdMQPCbeQHwqS7BMInrgPCkKQLwrL2AcKL3Q3CkggNwgByCcLCmAfCvc4KwmjWCsK8DAjCDC8MwvqzC8JEffzBMXkJwlH4AMIhWPvB9sENwj1aBcJYQgrCN5EDwo3TBcIX1wLC7R4CwvIM/MHJaAnCRzQGwpuHDMIgnw3C0sEEwmTYDcI8+AHCsJcAwjFDAsIyeQLCd+b6wVGK/MEDkPvBmi79waoaDsIAWAvCGDgEwk6//sE6HQ7CmM4DwvOH+8EKMgDCXhINwqnR/MGNOQTC/AoKwvA1/cFn8AnCpWkEwmZ8C8JZAgLC9dMEws0pB8KWIArCBuP8wdM+BcKIWfzBSJUHwktSAsIcnAHCumkLwp2zAcLwdAHCMX8MwlgjC8I6fgDCBCEMwjgBCMJh/gHCaVwFwuhk/ME6xvrBjLwJwvzoB8IuYwPC5v7/wSXpCsJW/ADCa0sGwr0hA8IeqQvCzuQLwlU1/8GUewHCFYYCwhTvA8JOEQrCIvEGwr5UBcL2lAHCI9gLwg==\",\"dtype\":\"float32\",\"shape\":[1000]}},\"selected\":{\"id\":\"1159\",\"type\":\"Selection\"},\"selection_policy\":{\"id\":\"1160\",\"type\":\"UnionRenderers\"}},\"id\":\"1135\",\"type\":\"ColumnDataSource\"},{\"attributes\":{},\"id\":\"1123\",\"type\":\"SaveTool\"},{\"attributes\":{},\"id\":\"1156\",\"type\":\"BasicTickFormatter\"},{\"attributes\":{},\"id\":\"1159\",\"type\":\"Selection\"},{\"attributes\":{\"fill_alpha\":{\"value\":0.1},\"fill_color\":{\"value\":\"#1f77b4\"},\"line_alpha\":{\"value\":0.1},\"line_color\":{\"value\":\"#1f77b4\"},\"size\":{\"units\":\"screen\",\"value\":5},\"x\":{\"field\":\"x\"},\"y\":{\"field\":\"y\"}},\"id\":\"1137\",\"type\":\"Scatter\"},{\"attributes\":{},\"id\":\"1160\",\"type\":\"UnionRenderers\"},{\"attributes\":{},\"id\":\"1121\",\"type\":\"WheelZoomTool\"},{\"attributes\":{\"callback\":null},\"id\":\"1102\",\"type\":\"DataRange1d\"},{\"attributes\":{\"plot\":null,\"text\":\"\"},\"id\":\"1099\",\"type\":\"Title\"},{\"attributes\":{},\"id\":\"1161\",\"type\":\"Selection\"},{\"attributes\":{},\"id\":\"1106\",\"type\":\"LinearScale\"},{\"attributes\":{},\"id\":\"1162\",\"type\":\"UnionRenderers\"},{\"attributes\":{},\"id\":\"1108\",\"type\":\"LinearScale\"}],\"root_ids\":[\"1100\"]},\"title\":\"Bokeh Application\",\"version\":\"1.0.2\"}};\n",
       "  var render_items = [{\"docid\":\"236fe4a6-b0f1-4417-82c8-091f84375655\",\"roots\":{\"1100\":\"4739ec19-2d9c-4dc7-bcd3-20f57e63d3cd\"}}];\n",
       "  root.Bokeh.embed.embed_items_notebook(docs_json, render_items);\n",
       "\n",
       "  }\n",
       "  if (root.Bokeh !== undefined) {\n",
       "    embed_document(root);\n",
       "  } else {\n",
       "    var attempts = 0;\n",
       "    var timer = setInterval(function(root) {\n",
       "      if (root.Bokeh !== undefined) {\n",
       "        embed_document(root);\n",
       "        clearInterval(timer);\n",
       "      }\n",
       "      attempts++;\n",
       "      if (attempts > 100) {\n",
       "        console.log(\"Bokeh: ERROR: Unable to run BokehJS code because BokehJS library is missing\");\n",
       "        clearInterval(timer);\n",
       "      }\n",
       "    }, 10, root)\n",
       "  }\n",
       "})(window);"
      ],
      "application/vnd.bokehjs_exec.v0+json": ""
     },
     "metadata": {
      "application/vnd.bokehjs_exec.v0+json": {
       "id": "1100"
      }
     },
     "output_type": "display_data"
    }
   ],
   "source": [
    "y_pred = output.data\n",
    "\n",
    "p = scatter(\n",
    "    x.numpy().reshape(-1),\n",
    "    y_pred.numpy().reshape(-1)\n",
    ")\n",
    "\n",
    "mscatter(\n",
    "    p,\n",
    "    x.numpy().reshape(-1),\n",
    "    y.numpy().reshape(-1),\n",
    "    fill_color='red'\n",
    ")\n",
    "\n",
    "show(p)"
   ]
  },
  {
   "cell_type": "markdown",
   "metadata": {},
   "source": [
    "## Non-linear regression. Feed-forward neural network\n",
    "\n",
    "이번에는 두 개의 hidden layer 를 쌓아서 이차함수의 분포를 학습해 봅니다.\n",
    "\n",
    "여러 개의 layer 를 쌓을 때에는 nn.Sequential 을 이용하면 좋습니다. 순차적으로 모든 layer 가 적용된다는 의미입니다.\n",
    "\n",
    "처음에 1 차원의 데이터를 20 차원으로 보내고, 20 차원의 데이터를 다시 5 차원으로 보낸 뒤, 이를 이용하여 y 를 prediction 하는 1 - 20 - 5 - 1 구조의 feed forward neural network 를 만듭니다. Activation function 으로 ReLU 를 이용합니다."
   ]
  },
  {
   "cell_type": "code",
   "execution_count": 15,
   "metadata": {},
   "outputs": [],
   "source": [
    "# model construction\n",
    "model = nn.Sequential(\n",
    "    \n",
    "    # 1st hidden layer\n",
    "    nn.Linear(1,20),\n",
    "    \n",
    "    # 1st activation function\n",
    "    nn.ReLU(),\n",
    "    \n",
    "    # 2nd hidden layer\n",
    "    nn.Linear(20,5),\n",
    "    \n",
    "    # 2st activation function\n",
    "    nn.ReLU(),\n",
    "    \n",
    "    # last hidden layer\n",
    "    # output is 1-dim for prediction\n",
    "    nn.Linear(5,1),\n",
    "\n",
    ")"
   ]
  },
  {
   "cell_type": "markdown",
   "metadata": {},
   "source": [
    "optimizer 는 반드시 다시 만들어줘야 합니다. 각 optimizer 를 만들 때 우리는 학습할 패러매터 model.parameters() 를 argument 로 받았습니다. 새롭게 모델을 만들면, 그 모델의 parameters() 를 optimizer 에 연결해야 합니다."
   ]
  },
  {
   "cell_type": "code",
   "execution_count": 16,
   "metadata": {},
   "outputs": [],
   "source": [
    "# loss function & optimizer\n",
    "# L1 loss\n",
    "loss_func = nn.L1Loss()\n",
    "\n",
    "# Adam optimizer\n",
    "optimizer = optim.Adam(model.parameters(),lr=0.001)"
   ]
  },
  {
   "cell_type": "markdown",
   "metadata": {},
   "source": [
    "이번에는 10K 번 학습을 합니다. 1000 번의 epoch 단위로 loss 값을 출력하도록 하였습니다. 조금씩 정확히 y 를 맞춰갑니다."
   ]
  },
  {
   "cell_type": "code",
   "execution_count": 17,
   "metadata": {},
   "outputs": [
    {
     "name": "stdout",
     "output_type": "stream",
     "text": [
      "iter = 1000, loss = 7.198390483856201\n",
      "iter = 2000, loss = 4.1908292770385745\n",
      "iter = 3000, loss = 3.9579622745513916\n",
      "iter = 4000, loss = 3.9368557929992676\n",
      "iter = 5000, loss = 3.9320967197418213\n",
      "iter = 6000, loss = 3.9279549121856697\n",
      "iter = 7000, loss = 3.9249975681304936\n",
      "iter = 8000, loss = 3.9244503974914554\n",
      "iter = 9000, loss = 3.9237837791442875\n",
      "iter = 10000, loss = 3.923490047454834\n"
     ]
    }
   ],
   "source": [
    "model, output = train(x, y, model, loss_func, optimizer, num_epoch=10000)"
   ]
  },
  {
   "cell_type": "markdown",
   "metadata": {},
   "source": [
    "앞선 코드를 그대로 다시 이용하여 prediction 결과를 살펴봅니다. 이번에는 2 차 함수의 곡선을 거의 맞춰냈습니다."
   ]
  },
  {
   "cell_type": "code",
   "execution_count": 18,
   "metadata": {},
   "outputs": [
    {
     "data": {
      "text/html": [
       "\n",
       "\n",
       "\n",
       "\n",
       "\n",
       "\n",
       "  <div class=\"bk-root\" id=\"bd355af0-abae-40d8-b145-ad49ac0a7d10\"></div>\n"
      ]
     },
     "metadata": {},
     "output_type": "display_data"
    },
    {
     "data": {
      "application/javascript": [
       "(function(root) {\n",
       "  function embed_document(root) {\n",
       "    \n",
       "  var docs_json = {\"ae2e66d6-47dc-4271-bac1-a9bacf2b2c00\":{\"roots\":{\"references\":[{\"attributes\":{\"below\":[{\"id\":\"1234\",\"type\":\"LinearAxis\"}],\"height\":600,\"left\":[{\"id\":\"1239\",\"type\":\"LinearAxis\"}],\"renderers\":[{\"id\":\"1234\",\"type\":\"LinearAxis\"},{\"id\":\"1238\",\"type\":\"Grid\"},{\"id\":\"1239\",\"type\":\"LinearAxis\"},{\"id\":\"1243\",\"type\":\"Grid\"},{\"id\":\"1252\",\"type\":\"BoxAnnotation\"},{\"id\":\"1262\",\"type\":\"GlyphRenderer\"},{\"id\":\"1267\",\"type\":\"GlyphRenderer\"}],\"title\":{\"id\":\"1223\",\"type\":\"Title\"},\"toolbar\":{\"id\":\"1250\",\"type\":\"Toolbar\"},\"width\":600,\"x_range\":{\"id\":\"1226\",\"type\":\"DataRange1d\"},\"x_scale\":{\"id\":\"1230\",\"type\":\"LinearScale\"},\"y_range\":{\"id\":\"1228\",\"type\":\"DataRange1d\"},\"y_scale\":{\"id\":\"1232\",\"type\":\"LinearScale\"}},\"id\":\"1224\",\"subtype\":\"Figure\",\"type\":\"Plot\"},{\"attributes\":{},\"id\":\"1232\",\"type\":\"LinearScale\"},{\"attributes\":{\"fill_alpha\":{\"value\":0.5},\"fill_color\":{\"value\":\"red\"},\"line_alpha\":{\"value\":0.5},\"line_color\":{\"value\":\"#1f77b4\"},\"size\":{\"units\":\"screen\",\"value\":5},\"x\":{\"field\":\"x\"},\"y\":{\"field\":\"y\"}},\"id\":\"1265\",\"type\":\"Scatter\"},{\"attributes\":{\"formatter\":{\"id\":\"1290\",\"type\":\"BasicTickFormatter\"},\"plot\":{\"id\":\"1224\",\"subtype\":\"Figure\",\"type\":\"Plot\"},\"ticker\":{\"id\":\"1235\",\"type\":\"BasicTicker\"}},\"id\":\"1234\",\"type\":\"LinearAxis\"},{\"attributes\":{\"fill_alpha\":{\"value\":0.1},\"fill_color\":{\"value\":\"#1f77b4\"},\"line_alpha\":{\"value\":0.1},\"line_color\":{\"value\":\"#1f77b4\"},\"size\":{\"units\":\"screen\",\"value\":5},\"x\":{\"field\":\"x\"},\"y\":{\"field\":\"y\"}},\"id\":\"1266\",\"type\":\"Scatter\"},{\"attributes\":{},\"id\":\"1235\",\"type\":\"BasicTicker\"},{\"attributes\":{\"data_source\":{\"id\":\"1264\",\"type\":\"ColumnDataSource\"},\"glyph\":{\"id\":\"1265\",\"type\":\"Scatter\"},\"hover_glyph\":null,\"muted_glyph\":null,\"nonselection_glyph\":{\"id\":\"1266\",\"type\":\"Scatter\"},\"selection_glyph\":null,\"view\":{\"id\":\"1268\",\"type\":\"CDSView\"}},\"id\":\"1267\",\"type\":\"GlyphRenderer\"},{\"attributes\":{\"active_drag\":\"auto\",\"active_inspect\":\"auto\",\"active_multi\":null,\"active_scroll\":\"auto\",\"active_tap\":\"auto\",\"tools\":[{\"id\":\"1244\",\"type\":\"PanTool\"},{\"id\":\"1245\",\"type\":\"WheelZoomTool\"},{\"id\":\"1246\",\"type\":\"BoxZoomTool\"},{\"id\":\"1247\",\"type\":\"SaveTool\"},{\"id\":\"1248\",\"type\":\"ResetTool\"},{\"id\":\"1249\",\"type\":\"HelpTool\"}]},\"id\":\"1250\",\"type\":\"Toolbar\"},{\"attributes\":{\"plot\":{\"id\":\"1224\",\"subtype\":\"Figure\",\"type\":\"Plot\"},\"ticker\":{\"id\":\"1235\",\"type\":\"BasicTicker\"}},\"id\":\"1238\",\"type\":\"Grid\"},{\"attributes\":{\"source\":{\"id\":\"1264\",\"type\":\"ColumnDataSource\"}},\"id\":\"1268\",\"type\":\"CDSView\"},{\"attributes\":{\"formatter\":{\"id\":\"1288\",\"type\":\"BasicTickFormatter\"},\"plot\":{\"id\":\"1224\",\"subtype\":\"Figure\",\"type\":\"Plot\"},\"ticker\":{\"id\":\"1240\",\"type\":\"BasicTicker\"}},\"id\":\"1239\",\"type\":\"LinearAxis\"},{\"attributes\":{},\"id\":\"1288\",\"type\":\"BasicTickFormatter\"},{\"attributes\":{},\"id\":\"1240\",\"type\":\"BasicTicker\"},{\"attributes\":{},\"id\":\"1290\",\"type\":\"BasicTickFormatter\"},{\"attributes\":{\"dimension\":1,\"plot\":{\"id\":\"1224\",\"subtype\":\"Figure\",\"type\":\"Plot\"},\"ticker\":{\"id\":\"1240\",\"type\":\"BasicTicker\"}},\"id\":\"1243\",\"type\":\"Grid\"},{\"attributes\":{\"callback\":null},\"id\":\"1226\",\"type\":\"DataRange1d\"},{\"attributes\":{},\"id\":\"1293\",\"type\":\"Selection\"},{\"attributes\":{\"data_source\":{\"id\":\"1259\",\"type\":\"ColumnDataSource\"},\"glyph\":{\"id\":\"1260\",\"type\":\"Scatter\"},\"hover_glyph\":null,\"muted_glyph\":null,\"nonselection_glyph\":{\"id\":\"1261\",\"type\":\"Scatter\"},\"selection_glyph\":null,\"view\":{\"id\":\"1263\",\"type\":\"CDSView\"}},\"id\":\"1262\",\"type\":\"GlyphRenderer\"},{\"attributes\":{},\"id\":\"1294\",\"type\":\"UnionRenderers\"},{\"attributes\":{\"fill_alpha\":{\"value\":0.1},\"fill_color\":{\"value\":\"#1f77b4\"},\"line_alpha\":{\"value\":0.1},\"line_color\":{\"value\":\"#1f77b4\"},\"size\":{\"units\":\"screen\",\"value\":5},\"x\":{\"field\":\"x\"},\"y\":{\"field\":\"y\"}},\"id\":\"1261\",\"type\":\"Scatter\"},{\"attributes\":{},\"id\":\"1295\",\"type\":\"Selection\"},{\"attributes\":{\"bottom_units\":\"screen\",\"fill_alpha\":{\"value\":0.5},\"fill_color\":{\"value\":\"lightgrey\"},\"left_units\":\"screen\",\"level\":\"overlay\",\"line_alpha\":{\"value\":1.0},\"line_color\":{\"value\":\"black\"},\"line_dash\":[4,4],\"line_width\":{\"value\":2},\"plot\":null,\"render_mode\":\"css\",\"right_units\":\"screen\",\"top_units\":\"screen\"},\"id\":\"1252\",\"type\":\"BoxAnnotation\"},{\"attributes\":{},\"id\":\"1244\",\"type\":\"PanTool\"},{\"attributes\":{},\"id\":\"1296\",\"type\":\"UnionRenderers\"},{\"attributes\":{},\"id\":\"1245\",\"type\":\"WheelZoomTool\"},{\"attributes\":{},\"id\":\"1230\",\"type\":\"LinearScale\"},{\"attributes\":{\"overlay\":{\"id\":\"1252\",\"type\":\"BoxAnnotation\"}},\"id\":\"1246\",\"type\":\"BoxZoomTool\"},{\"attributes\":{\"callback\":null,\"data\":{\"x\":{\"__ndarray__\":\"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\",\"dtype\":\"float32\",\"shape\":[1000]},\"y\":{\"__ndarray__\":\"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\",\"dtype\":\"float32\",\"shape\":[1000]}},\"selected\":{\"id\":\"1295\",\"type\":\"Selection\"},\"selection_policy\":{\"id\":\"1296\",\"type\":\"UnionRenderers\"}},\"id\":\"1264\",\"type\":\"ColumnDataSource\"},{\"attributes\":{},\"id\":\"1247\",\"type\":\"SaveTool\"},{\"attributes\":{\"callback\":null},\"id\":\"1228\",\"type\":\"DataRange1d\"},{\"attributes\":{},\"id\":\"1248\",\"type\":\"ResetTool\"},{\"attributes\":{},\"id\":\"1249\",\"type\":\"HelpTool\"},{\"attributes\":{\"plot\":null,\"text\":\"\"},\"id\":\"1223\",\"type\":\"Title\"},{\"attributes\":{\"fill_alpha\":{\"value\":0.5},\"fill_color\":{\"value\":\"orange\"},\"line_alpha\":{\"value\":0.5},\"line_color\":{\"value\":\"#1f77b4\"},\"size\":{\"units\":\"screen\",\"value\":5},\"x\":{\"field\":\"x\"},\"y\":{\"field\":\"y\"}},\"id\":\"1260\",\"type\":\"Scatter\"},{\"attributes\":{\"callback\":null,\"data\":{\"x\":{\"__ndarray__\":\"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\",\"dtype\":\"float32\",\"shape\":[1000]},\"y\":{\"__ndarray__\":\"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\",\"dtype\":\"float32\",\"shape\":[1000]}},\"selected\":{\"id\":\"1293\",\"type\":\"Selection\"},\"selection_policy\":{\"id\":\"1294\",\"type\":\"UnionRenderers\"}},\"id\":\"1259\",\"type\":\"ColumnDataSource\"},{\"attributes\":{\"source\":{\"id\":\"1259\",\"type\":\"ColumnDataSource\"}},\"id\":\"1263\",\"type\":\"CDSView\"}],\"root_ids\":[\"1224\"]},\"title\":\"Bokeh Application\",\"version\":\"1.0.2\"}};\n",
       "  var render_items = [{\"docid\":\"ae2e66d6-47dc-4271-bac1-a9bacf2b2c00\",\"roots\":{\"1224\":\"bd355af0-abae-40d8-b145-ad49ac0a7d10\"}}];\n",
       "  root.Bokeh.embed.embed_items_notebook(docs_json, render_items);\n",
       "\n",
       "  }\n",
       "  if (root.Bokeh !== undefined) {\n",
       "    embed_document(root);\n",
       "  } else {\n",
       "    var attempts = 0;\n",
       "    var timer = setInterval(function(root) {\n",
       "      if (root.Bokeh !== undefined) {\n",
       "        embed_document(root);\n",
       "        clearInterval(timer);\n",
       "      }\n",
       "      attempts++;\n",
       "      if (attempts > 100) {\n",
       "        console.log(\"Bokeh: ERROR: Unable to run BokehJS code because BokehJS library is missing\");\n",
       "        clearInterval(timer);\n",
       "      }\n",
       "    }, 10, root)\n",
       "  }\n",
       "})(window);"
      ],
      "application/vnd.bokehjs_exec.v0+json": ""
     },
     "metadata": {
      "application/vnd.bokehjs_exec.v0+json": {
       "id": "1224"
      }
     },
     "output_type": "display_data"
    }
   ],
   "source": [
    "y_pred = output.data\n",
    "\n",
    "p = scatter(\n",
    "    x.numpy().reshape(-1),\n",
    "    y_pred.numpy().reshape(-1)\n",
    ")\n",
    "\n",
    "mscatter(\n",
    "    p,\n",
    "    x.numpy().reshape(-1),\n",
    "    y.numpy().reshape(-1),\n",
    "    fill_color='red'\n",
    ")\n",
    "\n",
    "show(p)"
   ]
  },
  {
   "cell_type": "markdown",
   "metadata": {},
   "source": [
    "## Using GPU\n",
    "\n",
    "Pytorch 에서 GPU 를 이용하려면 데이터와 모델에 cuda() 함수를 걸어주면 됩니다.\n",
    "\n",
    "그 전에 해당 머신이 GPU 를 이용할 수 있는지 확인해야 합니다. 안전장치로 아래처럼 torch.cuda.is_available() 함수를 이용하여, GPU 를 사용할 것이고, 사용할 수 있을 때에만 조건적으로 cuda() 함수가 작동하도록 몇 줄만 추가하면 앞서 만든 train 함수를 GPU 용으로 만들 수 있습니다."
   ]
  },
  {
   "cell_type": "code",
   "execution_count": 19,
   "metadata": {},
   "outputs": [
    {
     "name": "stdout",
     "output_type": "stream",
     "text": [
      "iter = 1000, loss = 3.923213243484497\n",
      "iter = 2000, loss = 3.9229459762573245\n",
      "iter = 3000, loss = 3.9227581024169923\n",
      "iter = 4000, loss = 3.9226343631744385\n",
      "iter = 5000, loss = 3.9231815338134766\n",
      "iter = 6000, loss = 3.9222884178161626\n",
      "iter = 7000, loss = 3.9221689701080322\n",
      "iter = 8000, loss = 3.9227156639099127\n",
      "iter = 9000, loss = 3.9228537082672124\n",
      "iter = 10000, loss = 3.921921968460083\n"
     ]
    }
   ],
   "source": [
    "def train_w_gpu(x, y, model, loss_func, optimizer, num_epoch, use_gpu=True):\n",
    "\n",
    "    if use_gpu and torch.cuda.is_available():\n",
    "        model = model.cuda()\n",
    "    \n",
    "    # output as Variable\n",
    "    if use_gpu and torch.cuda.is_available():\n",
    "        label = y.cuda()\n",
    "    else:\n",
    "        label = y\n",
    "    \n",
    "    # for given epochs\n",
    "    for i in range(1, num_epoch + 1):\n",
    "\n",
    "        # prediction\n",
    "        if use_gpu and torch.cuda.is_available():\n",
    "            output = model(x.cuda())\n",
    "        else:\n",
    "            output = model(x)\n",
    "\n",
    "        # clears the gradients of all optimized\n",
    "        optimizer.zero_grad()\n",
    "\n",
    "        # compute loss\n",
    "        loss = loss_func(output,label)\n",
    "\n",
    "        # back-propagation\n",
    "        loss.backward()\n",
    "\n",
    "        # update model parameter\n",
    "        optimizer.step()\n",
    "\n",
    "        if i % 100 == 0:\n",
    "            if use_gpu and torch.cuda.is_available():\n",
    "                loss_value = loss.data.cpu().numpy()\n",
    "            else:\n",
    "                loss_value = loss.data.numpy()\n",
    "            print('\\riter = {}, loss = {}'.format(i, loss_value), end='', flush=True)\n",
    "        if i % 1000 == 0:\n",
    "            print()\n",
    "\n",
    "    if use_gpu and torch.cuda.is_available():\n",
    "        output = output.cpu()\n",
    "\n",
    "    return model, output\n",
    "\n",
    "model, output = train_w_gpu(x, y, model, loss_func, optimizer, num_epoch=10000)"
   ]
  },
  {
   "cell_type": "markdown",
   "metadata": {},
   "source": [
    "## Model 을 class 로 만들기\n",
    "\n",
    "이전에는 model 을 nn.Sequential 의 형태로 만들었습니다. 같은 구조의 모델을 재활용하기 위해서는 해당 모델을 class 형태로 만들면 좋습니다.\n",
    "\n",
    "Pytorch 에서 neural network 를 class 로 만들 때에는 두 가지 형식으로 만들 수 있습니다. 둘 모두 공통적으로 nn.Module 을 상속해야 합니다. 그리고 forward() 함수를 오버라이딩해야 합니다. nn.Module 을 상속하면, 이후 class instance 를 model 로 이용할 수 있습니다."
   ]
  },
  {
   "cell_type": "markdown",
   "metadata": {},
   "source": [
    "### type 1\n",
    "\n",
    "일단 Python 의 class 상속이기 때문에 super().__init__() 을 반드시 구현해야 합니다.\n",
    "\n",
    "첫번째 타입으로는, 앞서 만든 nn.Sequential() 을 class attribute 로 이용하는 것입니다. self.layers 에 앞서 만든 nn.Sequential 을 그대로 구현합니다.\n",
    "\n",
    "forward 함수의 input argument 는 데이터 X 입니다. 이를 받아 self.layers 에 입력하여 forward 결과 값을 얻습니다. 이를 output 으로 return 합니다."
   ]
  },
  {
   "cell_type": "code",
   "execution_count": 20,
   "metadata": {},
   "outputs": [],
   "source": [
    "class FFN1_type1(nn.Module):\n",
    "    # torch.nn 의 layers 로 이뤄진 모델로 만들기 위해서 \n",
    "    # nn.Module 을 상속받아야 합니다.\n",
    "\n",
    "    def __init__(self):        \n",
    "        # 상속받은 class 를 생성하기 위해서는 아래처럼 super().__init__() 을 실행합니다.\n",
    "        super(FFN1_type1, self).__init__()\n",
    "\n",
    "        # model construction\n",
    "        self.layers =  nn.Sequential(\n",
    "            # 1st hidden layer\n",
    "            nn.Linear(1,20),\n",
    "            # 1st activation function\n",
    "            nn.ReLU(),\n",
    "            # 2nd hidden layer\n",
    "            nn.Linear(20,5),\n",
    "            # 2st activation function\n",
    "            nn.ReLU(),\n",
    "            # last hidden layer\n",
    "            # output is 1-dim for prediction\n",
    "            nn.Linear(5,1)\n",
    "        )\n",
    "\n",
    "    # feed-forward 를 위해서 forward() 함수를 overriding 합니다.\n",
    "    def forward(self, x):\n",
    "        output = self.layers(x)\n",
    "        return output"
   ]
  },
  {
   "cell_type": "markdown",
   "metadata": {},
   "source": [
    "앞서 만든 타입의 class 의 instance 를 만듭니다. 이것만으로 모델을 만드는 것이 모두 끝납니다. 그 뒤는 앞과 동일하게 train 함수를 이용합니다."
   ]
  },
  {
   "cell_type": "code",
   "execution_count": 21,
   "metadata": {},
   "outputs": [
    {
     "name": "stdout",
     "output_type": "stream",
     "text": [
      "iter = 1000, loss = 33.730430603027344\n",
      "iter = 2000, loss = 32.980560302734375\n",
      "iter = 3000, loss = 32.296669006347656\n",
      "iter = 4000, loss = 31.681135177612305\n",
      "iter = 5000, loss = 31.110933303833008\n",
      "iter = 6000, loss = 30.591102600097656\n",
      "iter = 7000, loss = 30.103364944458008\n",
      "iter = 8000, loss = 29.653665542602545\n",
      "iter = 9000, loss = 29.230665206909187\n",
      "iter = 10000, loss = 28.849462509155273\n"
     ]
    }
   ],
   "source": [
    "# model construction\n",
    "model = FFN1_type1()\n",
    "\n",
    "# loss function & optimizer\n",
    "# L1 loss\n",
    "loss_func = nn.L1Loss()\n",
    "# Adam optimizer\n",
    "optimizer = optim.Adam(model.parameters(),lr=0.001)\n",
    "\n",
    "# train model\n",
    "model, output = train(x, y, model, loss_func, optimizer, num_epoch=10000)"
   ]
  },
  {
   "cell_type": "markdown",
   "metadata": {},
   "source": [
    "학습 결과도 제대로 되었음을 확인할 수 있습니다."
   ]
  },
  {
   "cell_type": "code",
   "execution_count": 22,
   "metadata": {},
   "outputs": [
    {
     "data": {
      "text/html": [
       "\n",
       "\n",
       "\n",
       "\n",
       "\n",
       "\n",
       "  <div class=\"bk-root\" id=\"90eabf04-2415-4152-ada1-0198d8eaeb01\"></div>\n"
      ]
     },
     "metadata": {},
     "output_type": "display_data"
    },
    {
     "data": {
      "application/javascript": [
       "(function(root) {\n",
       "  function embed_document(root) {\n",
       "    \n",
       "  var docs_json = {\"2d2b458f-2016-4f6e-853e-bbf4720ba7e5\":{\"roots\":{\"references\":[{\"attributes\":{\"below\":[{\"id\":\"1368\",\"type\":\"LinearAxis\"}],\"height\":600,\"left\":[{\"id\":\"1373\",\"type\":\"LinearAxis\"}],\"renderers\":[{\"id\":\"1368\",\"type\":\"LinearAxis\"},{\"id\":\"1372\",\"type\":\"Grid\"},{\"id\":\"1373\",\"type\":\"LinearAxis\"},{\"id\":\"1377\",\"type\":\"Grid\"},{\"id\":\"1386\",\"type\":\"BoxAnnotation\"},{\"id\":\"1396\",\"type\":\"GlyphRenderer\"},{\"id\":\"1401\",\"type\":\"GlyphRenderer\"}],\"title\":{\"id\":\"1357\",\"type\":\"Title\"},\"toolbar\":{\"id\":\"1384\",\"type\":\"Toolbar\"},\"width\":600,\"x_range\":{\"id\":\"1360\",\"type\":\"DataRange1d\"},\"x_scale\":{\"id\":\"1364\",\"type\":\"LinearScale\"},\"y_range\":{\"id\":\"1362\",\"type\":\"DataRange1d\"},\"y_scale\":{\"id\":\"1366\",\"type\":\"LinearScale\"}},\"id\":\"1358\",\"subtype\":\"Figure\",\"type\":\"Plot\"},{\"attributes\":{\"data_source\":{\"id\":\"1393\",\"type\":\"ColumnDataSource\"},\"glyph\":{\"id\":\"1394\",\"type\":\"Scatter\"},\"hover_glyph\":null,\"muted_glyph\":null,\"nonselection_glyph\":{\"id\":\"1395\",\"type\":\"Scatter\"},\"selection_glyph\":null,\"view\":{\"id\":\"1397\",\"type\":\"CDSView\"}},\"id\":\"1396\",\"type\":\"GlyphRenderer\"},{\"attributes\":{},\"id\":\"1439\",\"type\":\"Selection\"},{\"attributes\":{},\"id\":\"1437\",\"type\":\"Selection\"},{\"attributes\":{\"plot\":{\"id\":\"1358\",\"subtype\":\"Figure\",\"type\":\"Plot\"},\"ticker\":{\"id\":\"1369\",\"type\":\"BasicTicker\"}},\"id\":\"1372\",\"type\":\"Grid\"},{\"attributes\":{},\"id\":\"1438\",\"type\":\"UnionRenderers\"},{\"attributes\":{},\"id\":\"1440\",\"type\":\"UnionRenderers\"},{\"attributes\":{\"callback\":null,\"data\":{\"x\":{\"__ndarray__\":\"CNEEwHBPLr/ep+7AALu3wJjRHEA4+4PA1DcKwExgR0D09gRBykAHQVjmpz9OvQvBfJD7QHCAyb9+QTjAoDryQOB/wMAAI9m9KRHUwCCcnL/ACJ8/aF2mP1RcPEDg0g5BgAv0QF5vjsCXpRDB+Laiv+ih4z8IAsZAkF0SQax6EcHE9cJAvKZUQEBUBUEAEY2+Utq5wMAspL7yHpdAfk4ewRRGesBYNGtAiagQwZK4HkGiQ67AgNUFvso038AOVrfAMOkPQbQ6xUBAfxZBtKhYQBKRd8BmZQxBGHvnQKwD40AxcujA6BlpwGy30kCAHiU/ymrlwMk/CMHA/WW+hYcXwWtVqMCUGhlB8EddQERkAUEA0ctA8G/uQHyPw0DkjrZAXv0dwVDVikBQdpg/7BlMQJobC8BYDfs/5g0dwFK5qEAS1bvAUBF9wIoRAsGwRfO/OIHhP5AxCEAAU51A0PEOQQDfND5E57hAAO7WQAAxH0FKCQDBwOWUP0SZn8DSbalAgIv+vrAjvz9egejAuPR7QKwJGkATG4bA5LnuQDbKHEEUVpBAuDQJQKyI/EAAM0Y/osICQQa3DMFi2wzBe5ENwRAQYMBg4g6/gNhwv3RP88Ba8A7BFidgwOggfUAOewDBnF0eQU6UgUC3YZvAuGLCQCC0kr9ftxnBFO7EQOU2HsF0PTtA2XKVwBB73kCw2R5B7C3xQCQ0UEDETOVAMC6UwHY0vECGpgTBoLwcwLqcQcBkfAfA1nUGwMhLScC2J5DAGDGCwABZMj7qLqDAGfv+wHdo2cA0G2xAQhrBwFL7uEDYh+xASs0YQYT0OcDwuTS/cF2vQB/IBcGcwJVAWHAHQDJPlcAQ5gs/aOmRv7zessCpx5PA0kcLwbMiF8GwCZY/ICrKP4I0DMFWbAtB+DWawDDBusDebBzBtIpOwHADqMDEoQRBftitQBjbh8D4awxByIWzv2U4BcE65MDAVxL6wDsah8AQ+UlAZHQzwEgZnD+WXADBU1eqwEDFfb6GBQ/BIMgjQIQps8A0yM3AIOZdvx5MosBgXhVBwPdIPsDWhkBsxJ1A3pwEQczZfcBKuJZAYIK7QJbgDUEAQHm7+MUzQJCCO0BuehTABLUUQS5sg0AYmedAWIIdQQz0tUAq0oXACKZNQJi4eEB4XPvAnmmvwHzse0Dg9qlAABY9PyCok79wQYE/IPuBPzDXVT9kKIzAWQriwNwan8DIOMy/QERrv1t/scCATWS+nAV/QBRSh8B4J8pAIJ2yv7yo4UA0+krAOG7mQP++EMEA2XY+4GPKP1CFD0EAbO0+aJHiQMwMasBgWU4/cJLsQKBeU0A0jB1BBXMWwQiwy0AgRuO/DLRWwBQF7EAEWHjA+TwcwdQN2kA4jBrBEFksQOJ9zMBg1b9A1IVSQFQgLUBYdsRAxFSmQJzE90DMrQJBIJOZPwCWZsCACCq+YF8OP32z2MCQtBhAasISwcDpK0CQ6eu/GsebQOQ3j0AcgUJAcKhMwGaTHkF0HWtAjJP1wNBsvEAkNwfBtInSQMhLjEBsontAob8BwZDb1sDYNBtBhOo8wCQnFkHIXARAEosawYjAy0DgfphAeOu8P450BEF03SLAsExgv4BF0r28/R9BakEMwTmM1cDIOjDAVLzJQDlZ6sAoru5AYKlKvwHIAsFkUARB+OauwLgjSUDAyNY+YG7Uvt7vhMBAYNzA2uEbQfafm8BqysfAYEHGv8Rv2EC4xrdA3C2twDBoTUDg8Z2/sCZ8QGh5AUGkJ0nA4JWmvySTqUCIFXFAutG2QL8skcCBABbB+IV/wC5kk8A0tcBAoPZXwNAo00BGFg/AxUyiwKAOej9HIpvAlNYFwJL2FMCo6ZDAt4fewB41EsEOhizAOuEcwchR5ED4ZI4/AhkYQXbiiEBmhp1AgHCrQHCqpkA4x/O/IHkNwchgkMDGQeXAv98CwRwqEUGo/sFAsEInP/hcpUCAm/ZA4tOUQFj+ir+Y7clARG0HQeDbHb9M9A7BQFgHPwDy6T2olmzA4jjVwFAYzUA02f7AAN5sv0SlE0FQ1/JABGorQGLVzMDaPTXAlEG7QGDvvj8wm8Y/6NrQQExuBMGIv9hAuKRmQIAt1j5cYj/AyE0RwejCtEAsBw9B1tCgwJjS5UChpNfABMm4QHTwAEFGq6bAcDNPwOb2FkH0/APBHI5RwLQ85UAQ+Re/KFoEQG7aaMAWn7DA2LUWwTANtEBMrvzAYAEOQAqYFUG4uZXAcM+vv36NPMCqmq5A1MezQOvn/sAgR+Y/1BJnwKCxtT+0VW/ArMTiQPa/oUDoX4y/QJH1PmC/8D6c0ZtAQFuTvxLBLsBwRLa/uA7qwOCJkj6QhBBAdg2NQCC6KD/pi7zArE0cQQAPH77o7S/AWI5gwJRwkUCYu92/0D3sQNAYQL+kkSXArYsZwf4SDEE4wBnAYKwDQZSljUAGcg7B+ALaQMhpuT9ojpPAZmmgQAj76r+8XN9A1O7EQPqe7cB8Pq1A8CmGv8Cl0EAwErlAs9SfwAmMg8CUyP7AxPgTQEYAcMAYC6C/yAZ2QNTr88CYgh1BaEMvwLyT+EC4Aa1ACObyQPNYCsHL24DAqOgYQNB9gj8eNBxBwIq+v4woCkEM8cJAxFrpQOQWMMD4h1hANA/gQGiB9UBe4AxBCP5nQPD4FkGby53A2tOwQH4iqMBA9i0/5lsCQRDojMCMrMhAaBsUQYCZSb/wNEDAYFpkvyj/KcAy3RNBAGuvPwQCA0GKR5LAoDuFPrgvIUBqgETACXPOwLfi2MB4019A4MjuvxhhakCWDg9Bd7gNwaDqnECgdNRA1n0NQfCW3sBsaCzAFJ7BQPSwzkBsqhlBGGTDQMAgVr8SHuXApQkOwXTJBMEmWJzAIvSgwBoNrsBs4pFAl+X6wKD9or+rXubAaL4swMr4uUAr5xfBDMi7QLgcnD8gzY+/n5kUwXg1jEBIuH9A8Dylv0QKrkBweR4/oBSgvnhqY0DgdLu//vOtwPSAGkG+NknAutoIQS7z8cB8dQpAoD8fQQRFjsBg5/8+PCvRwHCDgL8MBQFAQOwUPxqKFcE2ER/AvJ7dwEY3a8BMfh3ArB4SwcANxT4aDQrBOv6DwNhIFsH4UaM/4Pr7Py51GkH0VBNAlPCeQEqSGUGgagNBTCTGwBCrhr94IhBBthEKQeqLw8BzfuXAfDy4QBQL1kCojQBBCPWRQHSQx0Ag87M/EMRkwPew/MDgEwpAbpSHwAAAgL2YIdDAeLCTP6jyh8DgblNAdo/nwCAz0EDgFV+/YIWjQNR7/ECAldJAmGblQNDav0Awtr2/4Mq/PgBGQ0A869LA9BbgwPD/Az/AtLo+MBCTv37MDEE8zHbA2KomQMC6KL8yKQpBopcBQbSdjUAnebTA5ArdQK4GxsCoohtA3nbmwA5jAUEi3IXAjI8wQDbnGEGMOqzAWh+EQIAzGcHehxjBbkUUwTrlfcDEGhnA+GfiQEM09sC0VT9AnFIWwcgKckBOxJ7ArxIdwQA+6T4APxm/gLuxv+zTDsERetPAQNlPQLzUtMD+Ur3AYOT6QPGY98D6YYpAwCZ3QIC3xT5YOApBypUfQfSyD8DIWi/AQhLfwGwa0MDkMJrAkGgYwOBAG8HWIJfA7iIKwAKOlcCARyC+snPCwHz4qUCCP5ZAM5nJwPg8H0B5Pd/AxRSewHxIF0GijLxANuiTQPoNE8Cg45y+UOzDP4Bn1D0ehaXAmE0XQFgTBUA6JABBrEMeQSLBm0CoRizAgPWfQKJACUHujBPBkJfWQNADRz9Q5JFAnnGTwFaIm8DoJC3AbBf3wECTm7+QQhHAwCv0QAhV0UBNOgfBtPAcQfFk4MAQaNc/Th4CQRr0HkGsSgZB4GsMwcA04T76Lg5BGGf/QHbo9cD0i/LAVNu+QF7Vh0D2+6pAxuaYQHBdH8CEM5pAtHIZQcpgvsDA1gbBw5cUwUA4jT9qaWrAQLzovqtmDcHSJ73AoDbBQFz1wUDDNfzAaKZ1wEQgv0AdsIfANJpBwAhYjUAE2mBAdgsbQQmz2cD8MS1AlN8ewLYvlUBI+QRAjBcjwKw1AsHko/xAQBusPhCaG0DdGhrBNarewAAVxj6gqi0/GBWFvyAlQUAUbdtAwuQNwTLPHsFw2Y8/0Km/P6gUGMBC7uDA9sCuwJiL/EAKIrJAVd6ywDhhq0Aa3hdBUoMPwQCc40BofS9A5r0bQTStWEBOwgrACPDdQIq5EUHutx/BuFsJQMAs9r/oILC/uHxqQAAVzL3g3vC/zI5XQFAST78oK1FAzOX9QJjfV0DQHQhB+nTTwFRq4ECSwQZBUNm2P9BwHkAEZCbAkAMEv+hSsj9ms6dAECjEwLSlCMHAVzm+P/DywACDMz/auEHAQOSUQK3Am8DSDoNA+ijXwEgd3b/I2Ka/gP1avvBYq0DAnnS+7DzpQEBTZb6AUcq/YTuVwPi2YsBApvY/bGpYQAAxaL/o5YjAMG3LvyQPVcAkZ3fALBYeQYToF8HMCIxAdgW4QGQ61EDYqsRAQJ76P/BRB79k15TAdL4XwTnwE8E4tB5BOJnbQBpAAEE8IrZA70XewEqfF8HYjBrB0Gw3vzBuMkBwvlRADemGwGLSFUFWpM3AgHHnQARY+UCkThNAyO8SwAB+7T6AgiA/cKy1v1CxLD9AdRM/aNaUQFSvj0BQ3FG/wCDuwCx9DEDbdBvB0J3gv+gxPcC2RK/AlDWTwARPr0BAaOu/NF1RwCxwF0HkWz7AZAa6wNiQxEDwDg1B9KyiwADk0b38Mg7BnqnrwDhdcUBMTkTAYKEVQEDFpb/QWyDAANTUQDVZj8DKThNBQAAEQaj2g0D4wP8/vhe2QMwxt0AEOCFA+LvoQEQL10C/GQzBSP+EQPbps8B8ohbBSlMRQQApFb9w6aFAkK0owACCGr3cL17A1JCJwAwjEMGWo4JAQCbLPtB29UBc0g5BYDeivwLwEkGYII/Ats3BwFhahMBALnnAK7gawbWhC8FqoBTBXroFwVKzF0Gg0slAqGfxvxao7sCE4hdBPAgXwJLqFMEsatDAgrQEQWARCcGQkfC/RvSZQNx2BcEiIpZAMOrUvxwOz0B6rI3AAMqXv+j0vz8oD51ApnEIwaCvNL+CYg3BEMH9P64ugsCqXpzACF/MQLT9mMAeAKLANEH0QBBBwkCodsXAvLfmQFDoHUCQPo7AAKoSv9j5DMG54BvB5K2OQNjwFkDA6TXA3K/XwFrjuUAIVrPAUC8APwi6SMCoe9VA/A/eQH4s5sDBC6HAwnl1wLaxDcDs3JpAaF+fP+B6G7+xZZ3A3D3cQA==\",\"dtype\":\"float32\",\"shape\":[1000]},\"y\":{\"__ndarray__\":\"gmEPwYJhD8GCYQ/BgmEPwYJhD8GCYQ/BgmEPwYJhD8GCYQ/BgmEPwYJhD8GCYQ/BgmEPwYJhD8GCYQ/BgmEPwYJhD8GCYQ/BgmEPwYJhD8GCYQ/BgmEPwYJhD8GCYQ/BgmEPwYJhD8GCYQ/BgmEPwYJhD8GCYQ/BgmEPwYJhD8GCYQ/BgmEPwYJhD8GCYQ/BgmEPwYJhD8GCYQ/BgmEPwYJhD8GCYQ/BgmEPwYJhD8GCYQ/BgmEPwYJhD8GCYQ/BgmEPwYJhD8GCYQ/BgmEPwYJhD8GCYQ/BgmEPwYJhD8GCYQ/BgmEPwYJhD8GCYQ/BgmEPwYJhD8GCYQ/BgmEPwYJhD8GCYQ/BgmEPwYJhD8GCYQ/BgmEPwYJhD8GCYQ/BgmEPwYJhD8GCYQ/BgmEPwYJhD8GCYQ/BgmEPwYJhD8GCYQ/BgmEPwYJhD8GCYQ/BgmEPwYJhD8GCYQ/BgmEPwYJhD8GCYQ/BgmEPwYJhD8GCYQ/BgmEPwYJhD8GCYQ/BgmEPwYJhD8GCYQ/BgmEPwYJhD8GCYQ/BgmEPwYJhD8GCYQ/BgmEPwYJhD8GCYQ/BgmEPwYJhD8GCYQ/BgmEPwYJhD8GCYQ/BgmEPwYJhD8GCYQ/BgmEPwYJhD8GCYQ/BgmEPwYJhD8GCYQ/BgmEPwYJhD8GCYQ/BgmEPwYJhD8GCYQ/BgmEPwYJhD8GCYQ/BgmEPwYJhD8GCYQ/BgmEPwYJhD8GCYQ/BgmEPwYJhD8GCYQ/BgmEPwYJhD8GCYQ/BgmEPwYJhD8GCYQ/BgmEPwYJhD8GCYQ/BgmEPwYJhD8GCYQ/BgmEPwYJhD8GCYQ/BgmEPwYJhD8GCYQ/BgmEPwYJhD8GCYQ/BgmEPwYJhD8GCYQ/BgmEPwYJhD8GCYQ/BgmEPwYJhD8GCYQ/BgmEPwYJhD8GCYQ/BgmEPwYJhD8GCYQ/BgmEPwYJhD8GCYQ/BgmEPwYJhD8GCYQ/BgmEPwYJhD8GCYQ/BgmEPwYJhD8GCYQ/BgmEPwYJhD8GCYQ/BgmEPwYJhD8GCYQ/BgmEPwYJhD8GCYQ/BgmEPwYJhD8GCYQ/BgmEPwYJhD8GCYQ/BgmEPwYJhD8GCYQ/BgmEPwYJhD8GCYQ/BgmEPwYJhD8GCYQ/BgmEPwYJhD8GCYQ/BgmEPwYJhD8GCYQ/BgmEPwYJhD8GCYQ/BgmEPwYJhD8GCYQ/BgmEPwYJhD8GCYQ/BgmEPwYJhD8GCYQ/BgmEPwYJhD8GCYQ/BgmEPwYJhD8GCYQ/BgmEPwYJhD8GCYQ/BgmEPwYJhD8GCYQ/BgmEPwYJhD8GCYQ/BgmEPwYJhD8GCYQ/BgmEPwYJhD8GCYQ/BgmEPwYJhD8GCYQ/BgmEPwYJhD8GCYQ/BgmEPwYJhD8GCYQ/BgmEPwYJhD8GCYQ/BgmEPwYJhD8GCYQ/BgmEPwYJhD8GCYQ/BgmEPwYJhD8GCYQ/BgmEPwYJhD8GCYQ/BgmEPwYJhD8GCYQ/BgmEPwYJhD8GCYQ/BgmEPwYJhD8GCYQ/BgmEPwYJhD8GCYQ/BgmEPwYJhD8GCYQ/BgmEPwYJhD8GCYQ/BgmEPwYJhD8GCYQ/BgmEPwYJhD8GCYQ/BgmEPwYJhD8GCYQ/BgmEPwYJhD8GCYQ/BgmEPwYJhD8GCYQ/BgmEPwYJhD8GCYQ/BgmEPwYJhD8GCYQ/BgmEPwYJhD8GCYQ/BgmEPwYJhD8GCYQ/BgmEPwYJhD8GCYQ/BgmEPwYJhD8GCYQ/BgmEPwYJhD8GCYQ/BgmEPwYJhD8GCYQ/BgmEPwYJhD8GCYQ/BgmEPwYJhD8GCYQ/BgmEPwYJhD8GCYQ/BgmEPwYJhD8GCYQ/BgmEPwYJhD8GCYQ/BgmEPwYJhD8GCYQ/BgmEPwYJhD8GCYQ/BgmEPwYJhD8GCYQ/BgmEPwYJhD8GCYQ/BgmEPwYJhD8GCYQ/BgmEPwYJhD8GCYQ/BgmEPwYJhD8GCYQ/BgmEPwYJhD8GCYQ/BgmEPwYJhD8GCYQ/BgmEPwYJhD8GCYQ/BgmEPwYJhD8GCYQ/BgmEPwYJhD8GCYQ/BgmEPwYJhD8GCYQ/BgmEPwYJhD8GCYQ/BgmEPwYJhD8GCYQ/BgmEPwYJhD8GCYQ/BgmEPwYJhD8GCYQ/BgmEPwYJhD8GCYQ/BgmEPwYJhD8GCYQ/BgmEPwYJhD8GCYQ/BgmEPwYJhD8GCYQ/BgmEPwYJhD8GCYQ/BgmEPwYJhD8GCYQ/BgmEPwYJhD8GCYQ/BgmEPwYJhD8GCYQ/BgmEPwYJhD8GCYQ/BgmEPwYJhD8GCYQ/BgmEPwYJhD8GCYQ/BgmEPwYJhD8GCYQ/BgmEPwYJhD8GCYQ/BgmEPwYJhD8GCYQ/BgmEPwYJhD8GCYQ/BgmEPwYJhD8GCYQ/BgmEPwYJhD8GCYQ/BgmEPwYJhD8GCYQ/BgmEPwYJhD8GCYQ/BgmEPwYJhD8GCYQ/BgmEPwYJhD8GCYQ/BgmEPwYJhD8GCYQ/BgmEPwYJhD8GCYQ/BgmEPwYJhD8GCYQ/BgmEPwYJhD8GCYQ/BgmEPwYJhD8GCYQ/BgmEPwYJhD8GCYQ/BgmEPwYJhD8GCYQ/BgmEPwYJhD8GCYQ/BgmEPwYJhD8GCYQ/BgmEPwYJhD8GCYQ/BgmEPwYJhD8GCYQ/BgmEPwYJhD8GCYQ/BgmEPwYJhD8GCYQ/BgmEPwYJhD8GCYQ/BgmEPwYJhD8GCYQ/BgmEPwYJhD8GCYQ/BgmEPwYJhD8GCYQ/BgmEPwYJhD8GCYQ/BgmEPwYJhD8GCYQ/BgmEPwYJhD8GCYQ/BgmEPwYJhD8GCYQ/BgmEPwYJhD8GCYQ/BgmEPwYJhD8GCYQ/BgmEPwYJhD8GCYQ/BgmEPwYJhD8GCYQ/BgmEPwYJhD8GCYQ/BgmEPwYJhD8GCYQ/BgmEPwYJhD8GCYQ/BgmEPwYJhD8GCYQ/BgmEPwYJhD8GCYQ/BgmEPwYJhD8GCYQ/BgmEPwYJhD8GCYQ/BgmEPwYJhD8GCYQ/BgmEPwYJhD8GCYQ/BgmEPwYJhD8GCYQ/BgmEPwYJhD8GCYQ/BgmEPwYJhD8GCYQ/BgmEPwYJhD8GCYQ/BgmEPwYJhD8GCYQ/BgmEPwYJhD8GCYQ/BgmEPwYJhD8GCYQ/BgmEPwYJhD8GCYQ/BgmEPwYJhD8GCYQ/BgmEPwYJhD8GCYQ/BgmEPwYJhD8GCYQ/BgmEPwYJhD8GCYQ/BgmEPwYJhD8GCYQ/BgmEPwYJhD8GCYQ/BgmEPwYJhD8GCYQ/BgmEPwYJhD8GCYQ/BgmEPwYJhD8GCYQ/BgmEPwYJhD8GCYQ/BgmEPwYJhD8GCYQ/BgmEPwYJhD8GCYQ/BgmEPwYJhD8GCYQ/BgmEPwYJhD8GCYQ/BgmEPwYJhD8GCYQ/BgmEPwYJhD8GCYQ/BgmEPwYJhD8GCYQ/BgmEPwYJhD8GCYQ/BgmEPwYJhD8GCYQ/BgmEPwYJhD8GCYQ/BgmEPwYJhD8GCYQ/BgmEPwYJhD8GCYQ/BgmEPwYJhD8GCYQ/BgmEPwYJhD8GCYQ/BgmEPwYJhD8GCYQ/BgmEPwYJhD8GCYQ/BgmEPwYJhD8GCYQ/BgmEPwYJhD8GCYQ/BgmEPwYJhD8GCYQ/BgmEPwYJhD8GCYQ/BgmEPwYJhD8GCYQ/BgmEPwYJhD8GCYQ/BgmEPwYJhD8GCYQ/BgmEPwYJhD8GCYQ/BgmEPwYJhD8GCYQ/BgmEPwYJhD8GCYQ/BgmEPwYJhD8GCYQ/BgmEPwYJhD8GCYQ/BgmEPwYJhD8GCYQ/BgmEPwYJhD8GCYQ/BgmEPwYJhD8GCYQ/BgmEPwYJhD8GCYQ/BgmEPwYJhD8GCYQ/BgmEPwYJhD8GCYQ/BgmEPwYJhD8GCYQ/BgmEPwYJhD8GCYQ/BgmEPwYJhD8GCYQ/BgmEPwYJhD8GCYQ/BgmEPwYJhD8GCYQ/BgmEPwYJhD8GCYQ/BgmEPwYJhD8GCYQ/BgmEPwYJhD8GCYQ/BgmEPwYJhD8GCYQ/BgmEPwYJhD8GCYQ/BgmEPwYJhD8GCYQ/BgmEPwYJhD8GCYQ/BgmEPwYJhD8GCYQ/BgmEPwYJhD8GCYQ/BgmEPwYJhD8GCYQ/BgmEPwYJhD8GCYQ/BgmEPwYJhD8GCYQ/BgmEPwYJhD8GCYQ/BgmEPwYJhD8GCYQ/BgmEPwYJhD8GCYQ/BgmEPwYJhD8GCYQ/BgmEPwYJhD8GCYQ/BgmEPwYJhD8GCYQ/BgmEPwYJhD8GCYQ/BgmEPwYJhD8GCYQ/BgmEPwYJhD8GCYQ/BgmEPwYJhD8GCYQ/BgmEPwYJhD8GCYQ/BgmEPwYJhD8GCYQ/BgmEPwYJhD8GCYQ/BgmEPwYJhD8GCYQ/BgmEPwYJhD8GCYQ/BgmEPwYJhD8GCYQ/BgmEPwYJhD8GCYQ/BgmEPwYJhD8GCYQ/BgmEPwYJhD8GCYQ/BgmEPwYJhD8GCYQ/BgmEPwYJhD8GCYQ/BgmEPwYJhD8GCYQ/BgmEPwYJhD8GCYQ/BgmEPwYJhD8GCYQ/BgmEPwYJhD8GCYQ/BgmEPwYJhD8GCYQ/BgmEPwYJhD8GCYQ/BgmEPwYJhD8GCYQ/BgmEPwYJhD8GCYQ/BgmEPwYJhD8GCYQ/BgmEPwYJhD8GCYQ/BgmEPwYJhD8GCYQ/BgmEPwYJhD8GCYQ/BgmEPwYJhD8GCYQ/BgmEPwYJhD8GCYQ/BgmEPwYJhD8GCYQ/BgmEPwYJhD8GCYQ/BgmEPwYJhD8GCYQ/BgmEPwYJhD8GCYQ/BgmEPwYJhD8GCYQ/BgmEPwYJhD8GCYQ/BgmEPwYJhD8GCYQ/BgmEPwYJhD8GCYQ/BgmEPwYJhD8GCYQ/BgmEPwYJhD8GCYQ/BgmEPwYJhD8GCYQ/BgmEPwYJhD8GCYQ/BgmEPwYJhD8GCYQ/BgmEPwYJhD8GCYQ/BgmEPwYJhD8GCYQ/BgmEPwYJhD8GCYQ/BgmEPwYJhD8GCYQ/BgmEPwYJhD8GCYQ/BgmEPwYJhD8GCYQ/BgmEPwYJhD8GCYQ/BgmEPwYJhD8GCYQ/BgmEPwYJhD8GCYQ/BgmEPwYJhD8GCYQ/BgmEPwYJhD8GCYQ/BgmEPwYJhD8GCYQ/BgmEPwYJhD8GCYQ/BgmEPwYJhD8GCYQ/BgmEPwYJhD8GCYQ/BgmEPwYJhD8GCYQ/BgmEPwYJhD8GCYQ/BgmEPwYJhD8GCYQ/BgmEPwYJhD8GCYQ/BgmEPwYJhD8GCYQ/BgmEPwYJhD8GCYQ/BgmEPwYJhD8GCYQ/BgmEPwYJhD8GCYQ/BgmEPwYJhD8GCYQ/BgmEPwYJhD8GCYQ/BgmEPwYJhD8GCYQ/BgmEPwYJhD8GCYQ/BgmEPwYJhD8GCYQ/BgmEPwQ==\",\"dtype\":\"float32\",\"shape\":[1000]}},\"selected\":{\"id\":\"1437\",\"type\":\"Selection\"},\"selection_policy\":{\"id\":\"1438\",\"type\":\"UnionRenderers\"}},\"id\":\"1393\",\"type\":\"ColumnDataSource\"},{\"attributes\":{\"fill_alpha\":{\"value\":0.1},\"fill_color\":{\"value\":\"#1f77b4\"},\"line_alpha\":{\"value\":0.1},\"line_color\":{\"value\":\"#1f77b4\"},\"size\":{\"units\":\"screen\",\"value\":5},\"x\":{\"field\":\"x\"},\"y\":{\"field\":\"y\"}},\"id\":\"1395\",\"type\":\"Scatter\"},{\"attributes\":{\"formatter\":{\"id\":\"1432\",\"type\":\"BasicTickFormatter\"},\"plot\":{\"id\":\"1358\",\"subtype\":\"Figure\",\"type\":\"Plot\"},\"ticker\":{\"id\":\"1374\",\"type\":\"BasicTicker\"}},\"id\":\"1373\",\"type\":\"LinearAxis\"},{\"attributes\":{\"fill_alpha\":{\"value\":0.1},\"fill_color\":{\"value\":\"#1f77b4\"},\"line_alpha\":{\"value\":0.1},\"line_color\":{\"value\":\"#1f77b4\"},\"size\":{\"units\":\"screen\",\"value\":5},\"x\":{\"field\":\"x\"},\"y\":{\"field\":\"y\"}},\"id\":\"1400\",\"type\":\"Scatter\"},{\"attributes\":{\"bottom_units\":\"screen\",\"fill_alpha\":{\"value\":0.5},\"fill_color\":{\"value\":\"lightgrey\"},\"left_units\":\"screen\",\"level\":\"overlay\",\"line_alpha\":{\"value\":1.0},\"line_color\":{\"value\":\"black\"},\"line_dash\":[4,4],\"line_width\":{\"value\":2},\"plot\":null,\"render_mode\":\"css\",\"right_units\":\"screen\",\"top_units\":\"screen\"},\"id\":\"1386\",\"type\":\"BoxAnnotation\"},{\"attributes\":{},\"id\":\"1432\",\"type\":\"BasicTickFormatter\"},{\"attributes\":{\"source\":{\"id\":\"1398\",\"type\":\"ColumnDataSource\"}},\"id\":\"1402\",\"type\":\"CDSView\"},{\"attributes\":{},\"id\":\"1379\",\"type\":\"WheelZoomTool\"},{\"attributes\":{\"dimension\":1,\"plot\":{\"id\":\"1358\",\"subtype\":\"Figure\",\"type\":\"Plot\"},\"ticker\":{\"id\":\"1374\",\"type\":\"BasicTicker\"}},\"id\":\"1377\",\"type\":\"Grid\"},{\"attributes\":{},\"id\":\"1364\",\"type\":\"LinearScale\"},{\"attributes\":{},\"id\":\"1378\",\"type\":\"PanTool\"},{\"attributes\":{\"fill_alpha\":{\"value\":0.5},\"fill_color\":{\"value\":\"orange\"},\"line_alpha\":{\"value\":0.5},\"line_color\":{\"value\":\"#1f77b4\"},\"size\":{\"units\":\"screen\",\"value\":5},\"x\":{\"field\":\"x\"},\"y\":{\"field\":\"y\"}},\"id\":\"1394\",\"type\":\"Scatter\"},{\"attributes\":{},\"id\":\"1374\",\"type\":\"BasicTicker\"},{\"attributes\":{\"callback\":null},\"id\":\"1360\",\"type\":\"DataRange1d\"},{\"attributes\":{\"overlay\":{\"id\":\"1386\",\"type\":\"BoxAnnotation\"}},\"id\":\"1380\",\"type\":\"BoxZoomTool\"},{\"attributes\":{},\"id\":\"1381\",\"type\":\"SaveTool\"},{\"attributes\":{\"formatter\":{\"id\":\"1434\",\"type\":\"BasicTickFormatter\"},\"plot\":{\"id\":\"1358\",\"subtype\":\"Figure\",\"type\":\"Plot\"},\"ticker\":{\"id\":\"1369\",\"type\":\"BasicTicker\"}},\"id\":\"1368\",\"type\":\"LinearAxis\"},{\"attributes\":{\"active_drag\":\"auto\",\"active_inspect\":\"auto\",\"active_multi\":null,\"active_scroll\":\"auto\",\"active_tap\":\"auto\",\"tools\":[{\"id\":\"1378\",\"type\":\"PanTool\"},{\"id\":\"1379\",\"type\":\"WheelZoomTool\"},{\"id\":\"1380\",\"type\":\"BoxZoomTool\"},{\"id\":\"1381\",\"type\":\"SaveTool\"},{\"id\":\"1382\",\"type\":\"ResetTool\"},{\"id\":\"1383\",\"type\":\"HelpTool\"}]},\"id\":\"1384\",\"type\":\"Toolbar\"},{\"attributes\":{\"plot\":null,\"text\":\"\"},\"id\":\"1357\",\"type\":\"Title\"},{\"attributes\":{\"fill_alpha\":{\"value\":0.5},\"fill_color\":{\"value\":\"red\"},\"line_alpha\":{\"value\":0.5},\"line_color\":{\"value\":\"#1f77b4\"},\"size\":{\"units\":\"screen\",\"value\":5},\"x\":{\"field\":\"x\"},\"y\":{\"field\":\"y\"}},\"id\":\"1399\",\"type\":\"Scatter\"},{\"attributes\":{\"callback\":null},\"id\":\"1362\",\"type\":\"DataRange1d\"},{\"attributes\":{},\"id\":\"1382\",\"type\":\"ResetTool\"},{\"attributes\":{},\"id\":\"1383\",\"type\":\"HelpTool\"},{\"attributes\":{},\"id\":\"1366\",\"type\":\"LinearScale\"},{\"attributes\":{\"data_source\":{\"id\":\"1398\",\"type\":\"ColumnDataSource\"},\"glyph\":{\"id\":\"1399\",\"type\":\"Scatter\"},\"hover_glyph\":null,\"muted_glyph\":null,\"nonselection_glyph\":{\"id\":\"1400\",\"type\":\"Scatter\"},\"selection_glyph\":null,\"view\":{\"id\":\"1402\",\"type\":\"CDSView\"}},\"id\":\"1401\",\"type\":\"GlyphRenderer\"},{\"attributes\":{},\"id\":\"1434\",\"type\":\"BasicTickFormatter\"},{\"attributes\":{},\"id\":\"1369\",\"type\":\"BasicTicker\"},{\"attributes\":{\"callback\":null,\"data\":{\"x\":{\"__ndarray__\":\"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\",\"dtype\":\"float32\",\"shape\":[1000]},\"y\":{\"__ndarray__\":\"GFCDwJTa0T/iYD7CiibnwXTWyUB4yJvBMIs5wAZLOMGXe4bCMQeOwjWYiMDtUZbCVpR4wl48TEAczgfBVOxZwj6cB8INRGS/2A0IwgReKT84giTAIGCUwDmYqsDpoJTCidp1wgX9rsFDWZzCgE5iwD72g7+P2wTCKH+cwkZTmsKJLg/CglSjwQYslML7zGm/upUgwsXOLEA6geDBfvq1wuyeKME0WTPB79GtwmXRwcIkiwvC5EuDQC/dVsK/Rf7BAQaWwn4CHsKhyrjC/lrQwOLdjcEsro/Ce9s6wqqORcLHrD/Cd35VwcorN8KidJrAVWZTwqDBksITmlFANIivwkLM9MGnmbLCs7ZCwWGLbMIMWSDCNLlRwuclAsKmpwrCiPrewrt8nsE1eFTAmf+DwZ5THsAeCMbAVEXWwNryJ8KDlgXCArGbwfsBcsIgO9m/xY7dQCx2nsBAQbDBhsSmwrsMcEDMiQjCTBYbwvXMvMJ2qGvC3GngwIQdmcGq6bjBk8OPP2Ay9j7zllHC/BlCwVT/vsByyInBepFlwgOJx8LGR2zBlBkNwBPYcsJTrQHAv8lzwtH1mMJ26ZPCwPajwsgbvMB0WRM/q1yOQAefUMIDMafC6HKNwWz/bcH+sXDCUjfZwt02tMGL4cXB0kkLwjJn8z/dd7zCJ60JwtsozsK+aYrACPCRwdMgUcJuBL3CvxuJwr0bvMBgvlXCnxFOwfF+D8JkRYbCAPSQuw6cAsFqQLHAvJMBv4KxM8EWJSvBI+SPwW8J80Cz/MTBSk12wohRTMKAIevAmBUiwvhi/MHumIbC9TuxwkB0oj8Ew5S/doMhwmnpk8I+X6fBT90MwHcCYsHWapRAvaIlwKvpDsLGwmbBuyGiwvCvqsL5NMY/qEnRQDJBf8LicYbCIsXHwePL6MHugLrCTzSOwRpfuMHC3W/CGHXxwe9SkcEDpJ3CUNRBvkaujMLn7xnColZ2wngHgcEAygjBME38v3aqJ8DuloHC9iySwfjGXD/4FJrC8GUaQPEMI8KRuR7CurM+P7UbrMFFuLjCyYRMwKASkMFoi6/BP92Nws6WhcFkFB7B2FwHwuVknsLzCRVAQkK7wKyG08A3BxrArgrJwl1tjcFcskLCT27MwrvF8cGiW9DBwIWuv/9hlcGw64LCEJQBwn6afMHuuNnBe9iNP2I+IsAJYx5BCtSLwHTjssANU8fBxqRCwpL2t8HMYzTBG/eUQEFd9cGYZpXATbAbwWrLjMGZ2xnCopVOwBh0V8K6a6LBmZ9AwunwqMKg98jAvAiLwCEgssJoCzrB+WJBwhe+V8Fx7fJAeFgvwo7TpcBtir/ClNCwwq5JJMKjKQXBIEqAwa1lU8K8zWLBTQLUwtTkPMJdXrrC8IlCwQfYIsInAhDChcU3wVLYh8FvMwDCx10DwiO4dMKzR3bChgzFwNOvqcBT3di/lPXjQIboKMLHeWrAADiswi51CsGqu9S/6Pj2wUi4ycEQcg7Broc5wI3StsKhUArBJ6Z1wrywHcK/OpXCTgMywpjSr8E8Fe/A+12EwuEXJ8LEVsLCsFSRwMVUosJYoqvAKhW0woLoQcLv3YvBOAh5P6YijMI+JlzABlAZwMG618C9J7/CRPWPwp7hL8KF+yLBH7sNwvBIRsI3z17CrgoIwbf4hMJDgo3CZfC3wSTEesEj5v+94DZ8PwCDzsGEpkPCajy+wj1H7cEOJibC/By/v8otP8LscRTCCHfxwZC2kT/QyV7A5Zp8wQ27hcKQKMy/EaaiQCmHxsFlI4fBqqHkwTRWnMF+WaHCJnl1wSibwcHSHhHCcePiwOFLM8K4wK7AcVy1wT4HVEBQntHB3PjMwFMhu8BoBJDBf5sewtHhq8KELXzAAUqzwqDDX8KgL+BAdvuywkNfzcGlPMvB2LrgwcsU4MHNmnBAEVCcwhpPjcEdYmDCfS2Wwsm4rcL7xh/CsBm+QGQtrMFjKGnCZWs+wYBe7z4BWP3BS5mVwr7FnsCUa5jCjdKsP6+ma0B6EI3BdKgrwobCE8In14LC+rohwe7pr8KgfVjCNp/twEevHsIgIkbBujrpwbIhY8CW+lhA1zUcws9yf8Kaw1/CKwMQwbiuOL/H9izBW5yqwqoZ18E6mqnCsDgGwoiYWMIEUC7CxFsYwgnBjcKC+vvBzKJYwC4AucLKTIrC9PBswe/TNcJc3Pc/Rin7v1dVNMFxbA3CPICdwiJR/cHA+YLC5Cdwvy31q8LWi1TByfEKQKyFL8HGzwHCygYhwvn5bsKZaZzAaP/DwXbTC8EW7i/BIH8+wvyBDcIUWbQ+Jz9VwBljt0BHho3BGk4WwEPYAcGOCgLAaoFnwhwBCcB6nCPBnmlbwXqU0cBLkRLCn3+5wjAS3D3kHx3AzLAIwEs34sEE5KvAdL1YwoGMvcAMjOu/9me1wlzHlsJ6s0bAu+aGwj9UX8EimaLCc9U/wsweDMDc4NfBIhDMwU0zpMBeJFvCeF8hwp9ieMIhjA3CblPYvi/vOcIwBPDBU+jkwdIQ7sFwnHHCMq4lwKC4VsES/wa/WoRmwV0IecKAP9HCAODFP1xSbcIq/QTCxYdhwjDIlcKYOdLBaofFwHBdecCP2b/C4yItwT/FgsLfAxTCQTdQwlwmmMEtZIrA+Zc9wjAZccJf9KTCnZMrwUSYscJLeKrBht/2wYDH68GOwi5BJnWGwr3IkcGdZy7CkOLFwiDIhsBuGbDAufE3wFz588CpopnC9iW4v66yisIMZrfBSo6OwKaDFsB8/QbBGncswr1lJsJnTUfBmnMOwOzhgMFs1ofCuk6mwqh6ncEUwkHCBhaUwhF2XsJwPQe/KEkQwiQ6CMLclMHCq5wkwqDVK0Ehim/Cp+6jwmU7jMJEfAPC26Xdwbne98G2XzDBw7hfwqUS9sA30iTCfPQcwbArpsGtwL3CbvkBwiBNS8Al6I6/nhScwhh3rsFlNabB/bsEQQWHGcKGM4TAeEzLwDmXDsHWbIzAotf4wZlXwsJca1LAvEeBwnYrWMLCVRvBMPHBwqRrs8Ho8T3AtEc3wvjWdb7cJNw/2ZHGv85Qs8JyUXDAOLQ/wtCStcG44v7AeuWrwnmhgcB1PIzC0q1Ewe5DsMIBPB1BvIG/wB85vcI0wiHBzqyywY4eqMKUkmfCbNAEwlHKC0GrG5jChjubwiQcCsKXDlzCFkkewtyrLsKIS47CNh1TwSunH8KLNx7AZm5RwcXIc8IcrV3Aejo8wQObJsBKjFHC6j2CQGzdfsCrwCDBY9Jowsm3BcKo3TM/xg7MwbswiMKcTR7CrIFMwiMtEcKgNIo9lYjvQGhkC8ErMyXCmNVrwuE4S0Di2/k+b4EPQY9nncKrU2vBI7sNwUzojcDcl5fCaJqAwo4Mu8HkUB/CQ5ZUwnYfAsLsFCVAvV5swopghsK+TMPBqFMNwL7TvMJ8P9bBR66twZvWq8IjorDCrwGxwuP+ncFiMg/BjPFcwqbZa8JNhwHBU162wtRxisDvbuXBvNW5wgOdfkAX5zW/5M0AvxqMncLrbkfCPW0pwYuhAcIKF8zB2Gpnwh+Kd8JOXlTBz5aawdy7y0Ajc5bC0E3Jwlo1v8Ccqee/MkRPwpcfKMI4iaLB1vCCwZaqwsLTi6HBDM1mwEDSD8KZGi0/aG8iwsa5ysHg6IrBMEUSwmYxGsCp+VrC9sGSwVbctcKHUyLCsofKwVkxNcH/QSM/znjbvwk6lL/gDsnBREDVwFCGwkAD94LCyVrJwhAm5cF8gb6/+vmawbLij8LcR6jCIQBJwhJzh0CGOaPBNOSFwdJBisHYR3/Adox9wtzgvz4oCOq/gN94wuaMZ8JjgJjCS7TAwoIwTcLY0fjA4DGOwutRw8I6+ZfCI3aiwja8L8DD56/CrOl/wmsCb8IUSW7ChgoZwuY5g8G6y5jBTyy8weoXicHNHOTB0xKswmBT7sGGiIzCZwG/wrA1yj+TKJDBlnnYPxqPkMKntunBls8QwgKkKMJ9BWHCRTobwTSaEcLKZbnBeBP1wNSZbMGRKJ/BrF/EwmstUcIHdADBVFAiQJGVrcERtBzBqicPwQegjcIyNojCmln4wPrCCMCqA9XC9qRNwliT0L+v2AdBpj5yPykHDsG2fW/Cdh2rwta3w8JIFvk/KtOVwPBYA8HGqUnC1LMJwkqHWsLPo/DBeNMYwhukBMJKtLbCL2GhwpsIWcI1ic/AS6XDwizyZsFgBTm/oN9hwrXMpMKXssvCNLkxwNUrD0GQbsU/MH4owTihDkC36QrAbUNYwcl5NUG0lufA1QJ9wjCwB7/6ZprC8r0wwgTSKsIjY5zCdENoQNkg/sDQ3oPAHTatwI+1v0COcfXBfDkbwnEMqMJsLqXA+iNEwkuJdMD6UyvB0OYQwj91pMGfG4bBx8Mwwmy25T/Yqi/BnR3CwCJHAsJPAerA7GI5wpUU5sCMoNvAklF4wd8q4MCf2OS/IYxAwf0YZcDY55PBdAmgQHBqacFWdC/BKiPcwts1rsLOZ43BGq0FwiOgFsLelh7CfNWeQG8kekD+PLTBVbi0woalr8IB8cvCOj4swl50hcLvMA7C3PEywryWwMKAVrrC0KuQvKkkJcEQZem/yh5ywa04t8Jq1SDC711PwgXkT8ImF0fBg2+QQHaBCMD5Ct0/VvS7wF4X/MDfveK+xYKawXwrxcG9KopAgEJIwo+UAMG0arPCPCWXwA4+lMDPufjBmFbTwast6sGg/Ii+b4TdwH0Yt8KJ7OjAb1IowqFQHcJUBJbCWkKOwQP0qz84h5PCJkd5wmvBdsEoAYnBinxzQMQ4ur6CfU7BXMH0wYvaqsEl8LDCVp2MwpJvlsAg1OO/LmwIwiug/8GG7Q7BOlZZwr9rN8JF3Y7C4OadwYjHDMKYabHCnW+rwpJWpEDOetHBOUX9wJ4gecD0GhDB0tfJwcykuMIcMTbBr1txwKjqVsKkbZHCxIM4wI2nqsJaNnTBELESwsKGgcEU6JbBPum3wgImosJEjZ7CLgeFwiLZqcJHThjCeO2JwGodc8IJE7jCU2OwwFBYtcKTZTHCGuiJwhzilMJYXre+oihlwRQih8LHLJPBqrsowfFtMcIAi8bBsy7Vv4h6/j8CxsLB3gKgwikUmj+Ob4rC6yI+wdzaiMHG3MbBARwbwialyMGsEdfBwrKEwuSGLsLKkxLClBxWwvn0BsH238jBIjUNwfYhmMLStKnCChKQwQqIx8AphwHBdSQows0lJMIlFRHCOtBTwHq9esEsbxLCzKBMwgDZYcKmCPjBh6+lwcD6RcGVTs/BiLWDvuzmOUAd7JLBjO5Pwg==\",\"dtype\":\"float32\",\"shape\":[1000]}},\"selected\":{\"id\":\"1439\",\"type\":\"Selection\"},\"selection_policy\":{\"id\":\"1440\",\"type\":\"UnionRenderers\"}},\"id\":\"1398\",\"type\":\"ColumnDataSource\"},{\"attributes\":{\"source\":{\"id\":\"1393\",\"type\":\"ColumnDataSource\"}},\"id\":\"1397\",\"type\":\"CDSView\"}],\"root_ids\":[\"1358\"]},\"title\":\"Bokeh Application\",\"version\":\"1.0.2\"}};\n",
       "  var render_items = [{\"docid\":\"2d2b458f-2016-4f6e-853e-bbf4720ba7e5\",\"roots\":{\"1358\":\"90eabf04-2415-4152-ada1-0198d8eaeb01\"}}];\n",
       "  root.Bokeh.embed.embed_items_notebook(docs_json, render_items);\n",
       "\n",
       "  }\n",
       "  if (root.Bokeh !== undefined) {\n",
       "    embed_document(root);\n",
       "  } else {\n",
       "    var attempts = 0;\n",
       "    var timer = setInterval(function(root) {\n",
       "      if (root.Bokeh !== undefined) {\n",
       "        embed_document(root);\n",
       "        clearInterval(timer);\n",
       "      }\n",
       "      attempts++;\n",
       "      if (attempts > 100) {\n",
       "        console.log(\"Bokeh: ERROR: Unable to run BokehJS code because BokehJS library is missing\");\n",
       "        clearInterval(timer);\n",
       "      }\n",
       "    }, 10, root)\n",
       "  }\n",
       "})(window);"
      ],
      "application/vnd.bokehjs_exec.v0+json": ""
     },
     "metadata": {
      "application/vnd.bokehjs_exec.v0+json": {
       "id": "1358"
      }
     },
     "output_type": "display_data"
    }
   ],
   "source": [
    "y_pred = output.data\n",
    "\n",
    "p = scatter(\n",
    "    x.numpy().reshape(-1),\n",
    "    y_pred.numpy().reshape(-1)\n",
    ")\n",
    "\n",
    "mscatter(\n",
    "    p,\n",
    "    x.numpy().reshape(-1),\n",
    "    y.numpy().reshape(-1),\n",
    "    fill_color='red'\n",
    ")\n",
    "\n",
    "show(p)"
   ]
  },
  {
   "cell_type": "markdown",
   "metadata": {},
   "source": [
    "### type 2\n",
    "\n",
    "두번째 타입은 nn.Sequential 에 들어가던 각 요소를 따로따로 구현하는 것입니다. 이 때에는 forward 함수가 조금 복잡해집니다. 정확히는 nn.Sequential 에 들어가던 요소들을 풀어서 적용하는 것입니다. \n",
    "\n",
    "이번에는 activation function 이 layer 가 아니라 함수 형태로 이용됩니다. 그렇기 때문에 torch.nn.functional 을 import 합니다."
   ]
  },
  {
   "cell_type": "code",
   "execution_count": 23,
   "metadata": {},
   "outputs": [],
   "source": [
    "import torch.nn.functional as F\n",
    "\n",
    "class FFN1_type2(nn.Module):\n",
    "    # torch.nn 의 layers 로 이뤄진 모델로 만들기 위해서 \n",
    "    # nn.Module 을 상속받아야 합니다.\n",
    "    \n",
    "    def __init__(self):        \n",
    "        # 상속받은 class 를 생성하기 위해서는 아래처럼 super().__init__() 을 실행합니다.\n",
    "        super(FFN1_type2, self).__init__()\n",
    "        \n",
    "        # 1st hidden layer\n",
    "        self.fc1 = nn.Linear(1,20)\n",
    "        \n",
    "        # 2nd hidden layer\n",
    "        self.fc2 = nn.Linear(20,5)\n",
    "\n",
    "        # last hidden layer\n",
    "        # output is 1-dim for prediction\n",
    "        self.fc_out = nn.Linear(5,1)\n",
    "    \n",
    "    # feed-forward 를 위해서 forward() 함수를 overriding 합니다.\n",
    "    # activation function 은 torch.nn 이 아닌\n",
    "    # torch.nn.functional 을 이용합니다.\n",
    "    def forward(self, x):\n",
    "\n",
    "        # 1st hidden layer\n",
    "        out = self.fc1(x)\n",
    "\n",
    "        # 1st activation function\n",
    "        out = F.relu(out)\n",
    "\n",
    "        # 2nd hidden layer and activation\n",
    "        out = F.relu(self.fc2(out))\n",
    "\n",
    "        # to ouput layer\n",
    "        out = self.fc_out(out)\n",
    "\n",
    "        return out"
   ]
  },
  {
   "cell_type": "markdown",
   "metadata": {},
   "source": [
    "두번째 타입의 class instance 를 만들어 학습을 합니다."
   ]
  },
  {
   "cell_type": "code",
   "execution_count": 24,
   "metadata": {},
   "outputs": [
    {
     "name": "stdout",
     "output_type": "stream",
     "text": [
      "iter = 1000, loss = 8.240599632263184\n",
      "iter = 2000, loss = 4.4990673065185555\n",
      "iter = 3000, loss = 3.9837970733642584\n",
      "iter = 4000, loss = 3.9413194656372072\n",
      "iter = 5000, loss = 3.9314763545989993\n",
      "iter = 6000, loss = 3.9282135963439945\n",
      "iter = 7000, loss = 3.9260275363922128\n",
      "iter = 8000, loss = 3.9244666099548343\n",
      "iter = 9000, loss = 3.9237902164459237\n",
      "iter = 10000, loss = 3.9234724044799805\n"
     ]
    }
   ],
   "source": [
    "# model construction\n",
    "model2 = FFN1_type2()\n",
    "\n",
    "# loss function & optimizer\n",
    "# L1 loss\n",
    "loss_func = nn.L1Loss()\n",
    "# Adam optimizer\n",
    "optimizer = optim.Adam(model2.parameters(),lr=0.001)\n",
    "\n",
    "# train model\n",
    "model2, output = train(x, y, model2, loss_func, optimizer, num_epoch=10000)"
   ]
  },
  {
   "cell_type": "markdown",
   "metadata": {},
   "source": [
    "그리고 결과도 확인합니다. 둘 모두 학습이 잘 되었습니다."
   ]
  },
  {
   "cell_type": "code",
   "execution_count": 25,
   "metadata": {},
   "outputs": [
    {
     "data": {
      "text/html": [
       "\n",
       "\n",
       "\n",
       "\n",
       "\n",
       "\n",
       "  <div class=\"bk-root\" id=\"f5204ce3-d624-4dbd-b870-a02611f3a45e\"></div>\n"
      ]
     },
     "metadata": {},
     "output_type": "display_data"
    },
    {
     "data": {
      "application/javascript": [
       "(function(root) {\n",
       "  function embed_document(root) {\n",
       "    \n",
       "  var docs_json = {\"63a6df79-8e03-43f8-a972-eaf15d416afc\":{\"roots\":{\"references\":[{\"attributes\":{\"below\":[{\"id\":\"1512\",\"type\":\"LinearAxis\"}],\"height\":600,\"left\":[{\"id\":\"1517\",\"type\":\"LinearAxis\"}],\"renderers\":[{\"id\":\"1512\",\"type\":\"LinearAxis\"},{\"id\":\"1516\",\"type\":\"Grid\"},{\"id\":\"1517\",\"type\":\"LinearAxis\"},{\"id\":\"1521\",\"type\":\"Grid\"},{\"id\":\"1530\",\"type\":\"BoxAnnotation\"},{\"id\":\"1540\",\"type\":\"GlyphRenderer\"},{\"id\":\"1545\",\"type\":\"GlyphRenderer\"}],\"title\":{\"id\":\"1501\",\"type\":\"Title\"},\"toolbar\":{\"id\":\"1528\",\"type\":\"Toolbar\"},\"width\":600,\"x_range\":{\"id\":\"1504\",\"type\":\"DataRange1d\"},\"x_scale\":{\"id\":\"1508\",\"type\":\"LinearScale\"},\"y_range\":{\"id\":\"1506\",\"type\":\"DataRange1d\"},\"y_scale\":{\"id\":\"1510\",\"type\":\"LinearScale\"}},\"id\":\"1502\",\"subtype\":\"Figure\",\"type\":\"Plot\"},{\"attributes\":{\"bottom_units\":\"screen\",\"fill_alpha\":{\"value\":0.5},\"fill_color\":{\"value\":\"lightgrey\"},\"left_units\":\"screen\",\"level\":\"overlay\",\"line_alpha\":{\"value\":1.0},\"line_color\":{\"value\":\"black\"},\"line_dash\":[4,4],\"line_width\":{\"value\":2},\"plot\":null,\"render_mode\":\"css\",\"right_units\":\"screen\",\"top_units\":\"screen\"},\"id\":\"1530\",\"type\":\"BoxAnnotation\"},{\"attributes\":{},\"id\":\"1513\",\"type\":\"BasicTicker\"},{\"attributes\":{\"source\":{\"id\":\"1537\",\"type\":\"ColumnDataSource\"}},\"id\":\"1541\",\"type\":\"CDSView\"},{\"attributes\":{\"plot\":{\"id\":\"1502\",\"subtype\":\"Figure\",\"type\":\"Plot\"},\"ticker\":{\"id\":\"1513\",\"type\":\"BasicTicker\"}},\"id\":\"1516\",\"type\":\"Grid\"},{\"attributes\":{},\"id\":\"1508\",\"type\":\"LinearScale\"},{\"attributes\":{},\"id\":\"1588\",\"type\":\"BasicTickFormatter\"},{\"attributes\":{\"formatter\":{\"id\":\"1586\",\"type\":\"BasicTickFormatter\"},\"plot\":{\"id\":\"1502\",\"subtype\":\"Figure\",\"type\":\"Plot\"},\"ticker\":{\"id\":\"1518\",\"type\":\"BasicTicker\"}},\"id\":\"1517\",\"type\":\"LinearAxis\"},{\"attributes\":{},\"id\":\"1518\",\"type\":\"BasicTicker\"},{\"attributes\":{\"fill_alpha\":{\"value\":0.1},\"fill_color\":{\"value\":\"#1f77b4\"},\"line_alpha\":{\"value\":0.1},\"line_color\":{\"value\":\"#1f77b4\"},\"size\":{\"units\":\"screen\",\"value\":5},\"x\":{\"field\":\"x\"},\"y\":{\"field\":\"y\"}},\"id\":\"1544\",\"type\":\"Scatter\"},{\"attributes\":{\"callback\":null},\"id\":\"1506\",\"type\":\"DataRange1d\"},{\"attributes\":{\"data_source\":{\"id\":\"1542\",\"type\":\"ColumnDataSource\"},\"glyph\":{\"id\":\"1543\",\"type\":\"Scatter\"},\"hover_glyph\":null,\"muted_glyph\":null,\"nonselection_glyph\":{\"id\":\"1544\",\"type\":\"Scatter\"},\"selection_glyph\":null,\"view\":{\"id\":\"1546\",\"type\":\"CDSView\"}},\"id\":\"1545\",\"type\":\"GlyphRenderer\"},{\"attributes\":{\"dimension\":1,\"plot\":{\"id\":\"1502\",\"subtype\":\"Figure\",\"type\":\"Plot\"},\"ticker\":{\"id\":\"1518\",\"type\":\"BasicTicker\"}},\"id\":\"1521\",\"type\":\"Grid\"},{\"attributes\":{\"source\":{\"id\":\"1542\",\"type\":\"ColumnDataSource\"}},\"id\":\"1546\",\"type\":\"CDSView\"},{\"attributes\":{\"fill_alpha\":{\"value\":0.1},\"fill_color\":{\"value\":\"#1f77b4\"},\"line_alpha\":{\"value\":0.1},\"line_color\":{\"value\":\"#1f77b4\"},\"size\":{\"units\":\"screen\",\"value\":5},\"x\":{\"field\":\"x\"},\"y\":{\"field\":\"y\"}},\"id\":\"1539\",\"type\":\"Scatter\"},{\"attributes\":{\"fill_alpha\":{\"value\":0.5},\"fill_color\":{\"value\":\"orange\"},\"line_alpha\":{\"value\":0.5},\"line_color\":{\"value\":\"#1f77b4\"},\"size\":{\"units\":\"screen\",\"value\":5},\"x\":{\"field\":\"x\"},\"y\":{\"field\":\"y\"}},\"id\":\"1538\",\"type\":\"Scatter\"},{\"attributes\":{},\"id\":\"1586\",\"type\":\"BasicTickFormatter\"},{\"attributes\":{\"data_source\":{\"id\":\"1537\",\"type\":\"ColumnDataSource\"},\"glyph\":{\"id\":\"1538\",\"type\":\"Scatter\"},\"hover_glyph\":null,\"muted_glyph\":null,\"nonselection_glyph\":{\"id\":\"1539\",\"type\":\"Scatter\"},\"selection_glyph\":null,\"view\":{\"id\":\"1541\",\"type\":\"CDSView\"}},\"id\":\"1540\",\"type\":\"GlyphRenderer\"},{\"attributes\":{},\"id\":\"1591\",\"type\":\"Selection\"},{\"attributes\":{},\"id\":\"1522\",\"type\":\"PanTool\"},{\"attributes\":{},\"id\":\"1592\",\"type\":\"UnionRenderers\"},{\"attributes\":{},\"id\":\"1523\",\"type\":\"WheelZoomTool\"},{\"attributes\":{},\"id\":\"1510\",\"type\":\"LinearScale\"},{\"attributes\":{},\"id\":\"1593\",\"type\":\"Selection\"},{\"attributes\":{\"overlay\":{\"id\":\"1530\",\"type\":\"BoxAnnotation\"}},\"id\":\"1524\",\"type\":\"BoxZoomTool\"},{\"attributes\":{\"fill_alpha\":{\"value\":0.5},\"fill_color\":{\"value\":\"red\"},\"line_alpha\":{\"value\":0.5},\"line_color\":{\"value\":\"#1f77b4\"},\"size\":{\"units\":\"screen\",\"value\":5},\"x\":{\"field\":\"x\"},\"y\":{\"field\":\"y\"}},\"id\":\"1543\",\"type\":\"Scatter\"},{\"attributes\":{},\"id\":\"1594\",\"type\":\"UnionRenderers\"},{\"attributes\":{},\"id\":\"1525\",\"type\":\"SaveTool\"},{\"attributes\":{},\"id\":\"1526\",\"type\":\"ResetTool\"},{\"attributes\":{\"callback\":null},\"id\":\"1504\",\"type\":\"DataRange1d\"},{\"attributes\":{\"plot\":null,\"text\":\"\"},\"id\":\"1501\",\"type\":\"Title\"},{\"attributes\":{\"callback\":null,\"data\":{\"x\":{\"__ndarray__\":\"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\",\"dtype\":\"float32\",\"shape\":[1000]},\"y\":{\"__ndarray__\":\"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\",\"dtype\":\"float32\",\"shape\":[1000]}},\"selected\":{\"id\":\"1591\",\"type\":\"Selection\"},\"selection_policy\":{\"id\":\"1592\",\"type\":\"UnionRenderers\"}},\"id\":\"1537\",\"type\":\"ColumnDataSource\"},{\"attributes\":{\"callback\":null,\"data\":{\"x\":{\"__ndarray__\":\"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\",\"dtype\":\"float32\",\"shape\":[1000]},\"y\":{\"__ndarray__\":\"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\",\"dtype\":\"float32\",\"shape\":[1000]}},\"selected\":{\"id\":\"1593\",\"type\":\"Selection\"},\"selection_policy\":{\"id\":\"1594\",\"type\":\"UnionRenderers\"}},\"id\":\"1542\",\"type\":\"ColumnDataSource\"},{\"attributes\":{},\"id\":\"1527\",\"type\":\"HelpTool\"},{\"attributes\":{\"active_drag\":\"auto\",\"active_inspect\":\"auto\",\"active_multi\":null,\"active_scroll\":\"auto\",\"active_tap\":\"auto\",\"tools\":[{\"id\":\"1522\",\"type\":\"PanTool\"},{\"id\":\"1523\",\"type\":\"WheelZoomTool\"},{\"id\":\"1524\",\"type\":\"BoxZoomTool\"},{\"id\":\"1525\",\"type\":\"SaveTool\"},{\"id\":\"1526\",\"type\":\"ResetTool\"},{\"id\":\"1527\",\"type\":\"HelpTool\"}]},\"id\":\"1528\",\"type\":\"Toolbar\"},{\"attributes\":{\"formatter\":{\"id\":\"1588\",\"type\":\"BasicTickFormatter\"},\"plot\":{\"id\":\"1502\",\"subtype\":\"Figure\",\"type\":\"Plot\"},\"ticker\":{\"id\":\"1513\",\"type\":\"BasicTicker\"}},\"id\":\"1512\",\"type\":\"LinearAxis\"}],\"root_ids\":[\"1502\"]},\"title\":\"Bokeh Application\",\"version\":\"1.0.2\"}};\n",
       "  var render_items = [{\"docid\":\"63a6df79-8e03-43f8-a972-eaf15d416afc\",\"roots\":{\"1502\":\"f5204ce3-d624-4dbd-b870-a02611f3a45e\"}}];\n",
       "  root.Bokeh.embed.embed_items_notebook(docs_json, render_items);\n",
       "\n",
       "  }\n",
       "  if (root.Bokeh !== undefined) {\n",
       "    embed_document(root);\n",
       "  } else {\n",
       "    var attempts = 0;\n",
       "    var timer = setInterval(function(root) {\n",
       "      if (root.Bokeh !== undefined) {\n",
       "        embed_document(root);\n",
       "        clearInterval(timer);\n",
       "      }\n",
       "      attempts++;\n",
       "      if (attempts > 100) {\n",
       "        console.log(\"Bokeh: ERROR: Unable to run BokehJS code because BokehJS library is missing\");\n",
       "        clearInterval(timer);\n",
       "      }\n",
       "    }, 10, root)\n",
       "  }\n",
       "})(window);"
      ],
      "application/vnd.bokehjs_exec.v0+json": ""
     },
     "metadata": {
      "application/vnd.bokehjs_exec.v0+json": {
       "id": "1502"
      }
     },
     "output_type": "display_data"
    }
   ],
   "source": [
    "y_pred = output.data\n",
    "\n",
    "p = scatter(\n",
    "    x.numpy().reshape(-1),\n",
    "    y_pred.numpy().reshape(-1)\n",
    ")\n",
    "\n",
    "mscatter(\n",
    "    p,\n",
    "    x.numpy().reshape(-1),\n",
    "    y.numpy().reshape(-1),\n",
    "    fill_color='red'\n",
    ")\n",
    "\n",
    "show(p)"
   ]
  },
  {
   "cell_type": "markdown",
   "metadata": {},
   "source": [
    "## model print\n",
    "\n",
    "두 종류로 모델을 구현하였을 때 성능에는 차이가 없습니다. 단, 첫번째 타입에서는 activation function 도 neural network layer 취급이 됩니다.\n",
    "\n",
    "nn.Module 을 print 하면 class 내부의 torch.nn 들이 출력됩니다."
   ]
  },
  {
   "cell_type": "code",
   "execution_count": 26,
   "metadata": {},
   "outputs": [
    {
     "name": "stdout",
     "output_type": "stream",
     "text": [
      "FFN1_type1(\n",
      "  (layers): Sequential(\n",
      "    (0): Linear(in_features=1, out_features=20, bias=True)\n",
      "    (1): ReLU()\n",
      "    (2): Linear(in_features=20, out_features=5, bias=True)\n",
      "    (3): ReLU()\n",
      "    (4): Linear(in_features=5, out_features=1, bias=True)\n",
      "  )\n",
      ")\n"
     ]
    }
   ],
   "source": [
    "print(model)"
   ]
  },
  {
   "cell_type": "code",
   "execution_count": 27,
   "metadata": {},
   "outputs": [
    {
     "name": "stdout",
     "output_type": "stream",
     "text": [
      "FFN1_type2(\n",
      "  (fc1): Linear(in_features=1, out_features=20, bias=True)\n",
      "  (fc2): Linear(in_features=20, out_features=5, bias=True)\n",
      "  (fc_out): Linear(in_features=5, out_features=1, bias=True)\n",
      ")\n"
     ]
    }
   ],
   "source": [
    "print(model2)"
   ]
  },
  {
   "cell_type": "markdown",
   "metadata": {},
   "source": [
    "## Get parameters\n",
    "\n",
    "optimizer 에 입력하던 model.parameters() 는 실제 layer 에 저장된 값입니다. 우리가 학습된 모델을 다른 곳에 이식한다면, 이 값이 필요합니다.\n",
    "\n",
    "그런데 이 때에는 첫번째, 두번째 type 모두 activation function 도 parameters 로 출력됩니다. 쌍으로 (layer, activation) 입니다."
   ]
  },
  {
   "cell_type": "code",
   "execution_count": 28,
   "metadata": {},
   "outputs": [],
   "source": [
    "parameters = list(model2.parameters())"
   ]
  },
  {
   "cell_type": "markdown",
   "metadata": {},
   "source": [
    "2 개의 hidden layer, 1 개의 output layer 가 있었기 때문에 총 6 개의 layers 가 parameters 로 만들어집니다."
   ]
  },
  {
   "cell_type": "code",
   "execution_count": 29,
   "metadata": {},
   "outputs": [
    {
     "data": {
      "text/plain": [
       "6"
      ]
     },
     "execution_count": 29,
     "metadata": {},
     "output_type": "execute_result"
    }
   ],
   "source": [
    "len(parameters)"
   ]
  },
  {
   "cell_type": "markdown",
   "metadata": {},
   "source": [
    "각각의 layer 의 size 를 확인할 수 있습니다."
   ]
  },
  {
   "cell_type": "code",
   "execution_count": 30,
   "metadata": {},
   "outputs": [
    {
     "name": "stdout",
     "output_type": "stream",
     "text": [
      "\n",
      "0 th layer\n",
      "<class 'torch.nn.parameter.Parameter'>\n",
      "torch.Size([20, 1])\n",
      "\n",
      "1 th layer\n",
      "<class 'torch.nn.parameter.Parameter'>\n",
      "torch.Size([20])\n",
      "\n",
      "2 th layer\n",
      "<class 'torch.nn.parameter.Parameter'>\n",
      "torch.Size([5, 20])\n",
      "\n",
      "3 th layer\n",
      "<class 'torch.nn.parameter.Parameter'>\n",
      "torch.Size([5])\n",
      "\n",
      "4 th layer\n",
      "<class 'torch.nn.parameter.Parameter'>\n",
      "torch.Size([1, 5])\n",
      "\n",
      "5 th layer\n",
      "<class 'torch.nn.parameter.Parameter'>\n",
      "torch.Size([1])\n"
     ]
    }
   ],
   "source": [
    "for i, parameter in enumerate(parameters):\n",
    "    print('\\n{} th layer'.format(i))\n",
    "    print(type(parameter))\n",
    "    print(parameter.size())"
   ]
  },
  {
   "cell_type": "markdown",
   "metadata": {},
   "source": [
    "첫 번째 hidden layer 의 학습된 parameter 값입니다."
   ]
  },
  {
   "cell_type": "code",
   "execution_count": 31,
   "metadata": {},
   "outputs": [
    {
     "data": {
      "text/plain": [
       "array([[ 1.0069038 ],\n",
       "       [-0.6488291 ],\n",
       "       [-0.4380213 ],\n",
       "       [-0.37485817],\n",
       "       [ 1.1819209 ],\n",
       "       [ 1.1533408 ],\n",
       "       [-0.7821023 ],\n",
       "       [ 0.64279705],\n",
       "       [-0.7592641 ],\n",
       "       [-0.61557776],\n",
       "       [ 0.3255952 ],\n",
       "       [ 0.38282624],\n",
       "       [ 0.40262616],\n",
       "       [-0.35437056],\n",
       "       [-0.9587932 ],\n",
       "       [ 0.97473705],\n",
       "       [-0.29412025],\n",
       "       [-1.1960163 ],\n",
       "       [-1.1228583 ],\n",
       "       [-1.0446827 ]], dtype=float32)"
      ]
     },
     "execution_count": 31,
     "metadata": {},
     "output_type": "execute_result"
    }
   ],
   "source": [
    "parameters[0].data.numpy()"
   ]
  },
  {
   "cell_type": "markdown",
   "metadata": {},
   "source": [
    "두 번째 hidden layer 의 학습된 parameter 값입니다. "
   ]
  },
  {
   "cell_type": "code",
   "execution_count": 32,
   "metadata": {},
   "outputs": [
    {
     "data": {
      "text/plain": [
       "array([[ 0.08238118, -0.09378945, -0.21451661,  0.0714435 ,  0.02653917,\n",
       "         0.03684681, -0.5732388 ,  0.86364645, -0.667664  , -0.41329437,\n",
       "         0.95490116,  1.4865568 ,  0.6791376 , -0.04992038, -0.57627535,\n",
       "         0.7528278 , -0.40299642, -0.391516  , -0.4464575 , -0.31906828],\n",
       "       [ 0.22835948,  0.7510188 ,  0.7969089 ,  0.5579024 ,  0.5372791 ,\n",
       "         0.46390927,  0.47158128,  0.6133131 , -0.05740607,  0.62654245,\n",
       "         0.90926474,  1.447403  ,  0.5799547 ,  1.8063073 ,  0.23899978,\n",
       "         0.82361466,  0.8469997 ,  0.2639937 ,  0.43468878,  0.42705274],\n",
       "       [ 0.23600258, -0.53622675, -0.5032731 ,  0.04095028,  0.39693716,\n",
       "        -0.00671157, -0.00488812, -0.17832151,  0.03863805, -0.6074972 ,\n",
       "        -1.5534173 , -2.3230612 , -0.85318726, -2.1534767 ,  0.0720914 ,\n",
       "         0.00537452, -1.1395208 ,  0.33150098,  0.37445506,  0.44952103],\n",
       "       [ 0.21627013,  0.80991375,  0.9080119 ,  0.60840756,  0.37264973,\n",
       "         0.4103319 ,  0.2994296 ,  0.9533467 ,  0.15328647,  0.9138193 ,\n",
       "         0.9068892 ,  1.8237331 ,  0.8710814 ,  1.9015326 ,  0.39151448,\n",
       "         0.81629807,  0.94451404,  0.43622148,  0.48016748,  0.50290996],\n",
       "       [ 0.6209818 ,  0.8915036 ,  0.8812275 ,  0.41403338,  0.65961885,\n",
       "         0.30888817,  0.5765451 ,  0.97248423,  0.04530922,  0.874052  ,\n",
       "         1.0644249 ,  1.6602904 ,  0.9164743 ,  1.9020245 ,  0.25703403,\n",
       "         0.81736445,  1.258229  ,  0.6608789 ,  0.585261  ,  0.47768027]],\n",
       "      dtype=float32)"
      ]
     },
     "execution_count": 32,
     "metadata": {},
     "output_type": "execute_result"
    }
   ],
   "source": [
    "parameters[2].data.numpy()"
   ]
  },
  {
   "cell_type": "code",
   "execution_count": null,
   "metadata": {},
   "outputs": [],
   "source": []
  }
 ],
 "metadata": {
  "kernelspec": {
   "display_name": "Python 3",
   "language": "python",
   "name": "python3"
  },
  "language_info": {
   "codemirror_mode": {
    "name": "ipython",
    "version": 3
   },
   "file_extension": ".py",
   "mimetype": "text/x-python",
   "name": "python",
   "nbconvert_exporter": "python",
   "pygments_lexer": "ipython3",
   "version": "3.7.1"
  }
 },
 "nbformat": 4,
 "nbformat_minor": 2
}
