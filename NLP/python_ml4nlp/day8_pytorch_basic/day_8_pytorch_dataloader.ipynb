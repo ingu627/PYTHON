{
 "cells": [
  {
   "cell_type": "markdown",
   "metadata": {},
   "source": [
    "## Dataset and DataLoader with MNIST data"
   ]
  },
  {
   "cell_type": "markdown",
   "metadata": {},
   "source": [
    "MNIST 는 gray image 이기 때문에 image 로 볼 수 있습니다. matplotlib 을 이용한 이미지 출력 함수 `imshow` 를 만듭니다."
   ]
  },
  {
   "cell_type": "code",
   "execution_count": 1,
   "metadata": {},
   "outputs": [],
   "source": [
    "%matplotlib inline\n",
    "\n",
    "import matplotlib.pyplot as plt\n",
    "import numpy as np\n",
    "\n",
    "def imshow(img):\n",
    "    \"\"\"\n",
    "    Notes\n",
    "    -----\n",
    "    plt.imshow input : numpy.ndarray\n",
    "        Shape:\n",
    "            (M, N) : 1 channel image\n",
    "            (M, N, 3) : RBG channel image\n",
    "            (M, N, 4) : RBGA channel image\n",
    "    \"\"\"\n",
    "    npimg = img.squeeze().numpy() # (1, 28, 28) -> (28, 28)\n",
    "    plt.imshow(npimg, cmap='gray')\n",
    "    plt.show()"
   ]
  },
  {
   "cell_type": "markdown",
   "metadata": {},
   "source": [
    "torchvision 에서 datasets 을 import 합니다. `torch_data_dir` 은 fetch 받은 데이터들의 저장 위치입니다."
   ]
  },
  {
   "cell_type": "code",
   "execution_count": 2,
   "metadata": {},
   "outputs": [
    {
     "name": "stdout",
     "output_type": "stream",
     "text": [
      "1.0.1.post2\n"
     ]
    }
   ],
   "source": [
    "import torch\n",
    "import torch.nn as nn\n",
    "import torch.nn.init as init\n",
    "import torch.optim as optim\n",
    "from torchvision import datasets, transforms\n",
    "\n",
    "from config import torch_data_dir\n",
    "\n",
    "print(torch.__version__)"
   ]
  },
  {
   "cell_type": "markdown",
   "metadata": {},
   "source": [
    "dataset 에서 MNIST 를 불러옵니다. `download=True` 로 설정하면 `torch_data_dir` 에 데이터가 없을 경우 다운로드 받습니다. transform 은 파일을 읽어 torch.Tensor 형태로 변형하는 함수 입니다."
   ]
  },
  {
   "cell_type": "code",
   "execution_count": 3,
   "metadata": {},
   "outputs": [],
   "source": [
    "transform_func = transforms.Compose(\n",
    "    [transforms.ToTensor(),\n",
    "     transforms.Normalize((0.1307,), (0.3081,))]\n",
    ")\n",
    "\n",
    "train_dataset = datasets.MNIST(\n",
    "    torch_data_dir, train=True, download=True,\n",
    "    transform=transform_func)\n",
    "\n",
    "test_dataset = datasets.MNIST(\n",
    "    torch_data_dir, train=False, download=True,\n",
    "    transform=transform_func)"
   ]
  },
  {
   "cell_type": "markdown",
   "metadata": {},
   "source": [
    "Dataset 은 `__len__` 과 `__getitem__` 이 구현되어 있습니다. `__len__` 에 의하여 데이터셋의 길이를 확인할 수 있습니다."
   ]
  },
  {
   "cell_type": "code",
   "execution_count": 4,
   "metadata": {},
   "outputs": [
    {
     "name": "stdout",
     "output_type": "stream",
     "text": [
      "60000\n",
      "10000\n"
     ]
    }
   ],
   "source": [
    "print(len(train_dataset))\n",
    "print(len(test_dataset))"
   ]
  },
  {
   "cell_type": "markdown",
   "metadata": {},
   "source": [
    "`__getitem__` 에 의하여 특정 데이터를 가져올 수 있습니다. MNIST data 는 (28, 28) 의 image 입니다."
   ]
  },
  {
   "cell_type": "code",
   "execution_count": 5,
   "metadata": {},
   "outputs": [
    {
     "name": "stdout",
     "output_type": "stream",
     "text": [
      "torch.Size([1, 28, 28])\n",
      "tensor(2)\n"
     ]
    },
    {
     "data": {
      "image/png": "[encoded data removed]",
      "text/plain": [
       "<Figure size 432x288 with 1 Axes>"
      ]
     },
     "metadata": {
      "needs_background": "light"
     },
     "output_type": "display_data"
    }
   ],
   "source": [
    "X, y = train_dataset[5]\n",
    "print(X.size())\n",
    "print(y)\n",
    "\n",
    "imshow(X)    "
   ]
  },
  {
   "cell_type": "markdown",
   "metadata": {},
   "source": [
    "Index 가 넘어가면 IndexError 가 출력됩니다."
   ]
  },
  {
   "cell_type": "code",
   "execution_count": 6,
   "metadata": {},
   "outputs": [
    {
     "ename": "IndexError",
     "evalue": "index 60000 is out of bounds for dimension 0 with size 60000",
     "output_type": "error",
     "traceback": [
      "\u001b[0;31m---------------------------------------------------------------------------\u001b[0m",
      "\u001b[0;31mIndexError\u001b[0m                                Traceback (most recent call last)",
      "\u001b[0;32m<ipython-input-6-275d044d18e1>\u001b[0m in \u001b[0;36m<module>\u001b[0;34m\u001b[0m\n\u001b[0;32m----> 1\u001b[0;31m \u001b[0mtrain_dataset\u001b[0m\u001b[0;34m[\u001b[0m\u001b[0;36m60000\u001b[0m\u001b[0;34m]\u001b[0m\u001b[0;34m\u001b[0m\u001b[0;34m\u001b[0m\u001b[0m\n\u001b[0m",
      "\u001b[0;32m~/anaconda3/envs/pytorch/lib/python3.7/site-packages/torchvision/datasets/mnist.py\u001b[0m in \u001b[0;36m__getitem__\u001b[0;34m(self, index)\u001b[0m\n\u001b[1;32m     66\u001b[0m         \"\"\"\n\u001b[1;32m     67\u001b[0m         \u001b[0;32mif\u001b[0m \u001b[0mself\u001b[0m\u001b[0;34m.\u001b[0m\u001b[0mtrain\u001b[0m\u001b[0;34m:\u001b[0m\u001b[0;34m\u001b[0m\u001b[0;34m\u001b[0m\u001b[0m\n\u001b[0;32m---> 68\u001b[0;31m             \u001b[0mimg\u001b[0m\u001b[0;34m,\u001b[0m \u001b[0mtarget\u001b[0m \u001b[0;34m=\u001b[0m \u001b[0mself\u001b[0m\u001b[0;34m.\u001b[0m\u001b[0mtrain_data\u001b[0m\u001b[0;34m[\u001b[0m\u001b[0mindex\u001b[0m\u001b[0;34m]\u001b[0m\u001b[0;34m,\u001b[0m \u001b[0mself\u001b[0m\u001b[0;34m.\u001b[0m\u001b[0mtrain_labels\u001b[0m\u001b[0;34m[\u001b[0m\u001b[0mindex\u001b[0m\u001b[0;34m]\u001b[0m\u001b[0;34m\u001b[0m\u001b[0;34m\u001b[0m\u001b[0m\n\u001b[0m\u001b[1;32m     69\u001b[0m         \u001b[0;32melse\u001b[0m\u001b[0;34m:\u001b[0m\u001b[0;34m\u001b[0m\u001b[0;34m\u001b[0m\u001b[0m\n\u001b[1;32m     70\u001b[0m             \u001b[0mimg\u001b[0m\u001b[0;34m,\u001b[0m \u001b[0mtarget\u001b[0m \u001b[0;34m=\u001b[0m \u001b[0mself\u001b[0m\u001b[0;34m.\u001b[0m\u001b[0mtest_data\u001b[0m\u001b[0;34m[\u001b[0m\u001b[0mindex\u001b[0m\u001b[0;34m]\u001b[0m\u001b[0;34m,\u001b[0m \u001b[0mself\u001b[0m\u001b[0;34m.\u001b[0m\u001b[0mtest_labels\u001b[0m\u001b[0;34m[\u001b[0m\u001b[0mindex\u001b[0m\u001b[0;34m]\u001b[0m\u001b[0;34m\u001b[0m\u001b[0;34m\u001b[0m\u001b[0m\n",
      "\u001b[0;31mIndexError\u001b[0m: index 60000 is out of bounds for dimension 0 with size 60000"
     ]
    }
   ],
   "source": [
    "train_dataset[60000]"
   ]
  },
  {
   "cell_type": "markdown",
   "metadata": {},
   "source": [
    "MNIST dataset 은 모든 데이터를 memory 에 올려둔 형태입니다. 만약 데이터의 크기가 매우 크다면 이 부분을 Gensim Word2Vec 의 input 처럼 index 가 입력된 부분만 읽는 형식으로 만들 수도 있습니다."
   ]
  },
  {
   "cell_type": "code",
   "execution_count": 7,
   "metadata": {},
   "outputs": [
    {
     "name": "stdout",
     "output_type": "stream",
     "text": [
      "torch.Size([60000, 28, 28])\n",
      "torch.Size([60000])\n"
     ]
    }
   ],
   "source": [
    "print(train_dataset.train_data.size())\n",
    "print(train_dataset.train_labels.size())"
   ]
  },
  {
   "cell_type": "markdown",
   "metadata": {},
   "source": [
    "DataLoader 는 dataset 의 데이터를 shuffle 할 수도 있으며, mini batch 로 yield 합니다. 또한 torch 내부에서 데이터를 읽어들이는 부분과 모델을 학습하는 부분을 병렬로 처리할 수 있도록 도와줍니다.\n",
    "\n",
    "train_loader 의 mini batch size 는 64 이기 때문에 각 batch 별로 (64, 1, 28, 28) 의 tensor (64 장의 images) 가 yield 됩니다."
   ]
  },
  {
   "cell_type": "code",
   "execution_count": 8,
   "metadata": {},
   "outputs": [
    {
     "name": "stdout",
     "output_type": "stream",
     "text": [
      "Batch # 0\n",
      "X: torch.Size([64, 1, 28, 28]), <class 'torch.Tensor'>\n",
      "y: torch.Size([64]), <class 'torch.Tensor'>\n",
      "\n",
      "Batch # 1\n",
      "X: torch.Size([64, 1, 28, 28]), <class 'torch.Tensor'>\n",
      "y: torch.Size([64]), <class 'torch.Tensor'>\n",
      "\n",
      "Batch # 2\n",
      "X: torch.Size([64, 1, 28, 28]), <class 'torch.Tensor'>\n",
      "y: torch.Size([64]), <class 'torch.Tensor'>\n",
      "\n"
     ]
    }
   ],
   "source": [
    "batch_size = 64\n",
    "use_cuda = False\n",
    "kwargs = {'num_workers': 1, 'pin_memory': True} if use_cuda else {}\n",
    "\n",
    "train_loader = torch.utils.data.DataLoader(\n",
    "    train_dataset, batch_size=batch_size, shuffle=True, **kwargs)\n",
    "\n",
    "test_loader = torch.utils.data.DataLoader(\n",
    "    train_dataset, batch_size=batch_size, shuffle=True, **kwargs)\n",
    "\n",
    "for i_batch, (X, y) in enumerate(train_loader):\n",
    "    if i_batch >= 3:\n",
    "        break\n",
    "    print('Batch # {}'.format(i_batch))\n",
    "    print('X: {}, {}'.format(X.size(), type(X)))\n",
    "    print('y: {}, {}'.format(y.size(), type(y)), end='\\n\\n')"
   ]
  },
  {
   "cell_type": "markdown",
   "metadata": {},
   "source": [
    "## Custom Dataset\n",
    "\n",
    "우리가 이용할 데이터 역시 dataset 으로 만들어 DataLoader 를 이용할 수 있습니다. 토크나이징이 된 네이버 영화평 데이터의 단어를 vocabulary index 로 치환하여 comments images 를 만들었습니다. 데이터의 한 줄은 아래처럼 vocabulary index 가 띄어쓰기로 나뉘어져 있는 형태입니다. 문장마다 길이가 다릅니다."
   ]
  },
  {
   "cell_type": "code",
   "execution_count": 9,
   "metadata": {},
   "outputs": [
    {
     "name": "stdout",
     "output_type": "stream",
     "text": [
      "590 699 126 188 205 5 126 13\n",
      "493 14 757 65 108 1580 590 699 126 272 8965 154 7 851 575 8517 6 620 953 104 24 153\n",
      "126 1029 263 536 220 245 11327 312 120 8 13 6743 4254\n",
      "224 497 71 2430 10 10558\n"
     ]
    }
   ],
   "source": [
    "from navermovie_comments import get_comments_image_path\n",
    "\n",
    "x_path, y_path, vocab_path = get_comments_image_path(large=False, tokenize='soynlp_unsup')\n",
    "\n",
    "with open(x_path, encoding='utf-8') as f:\n",
    "    for _ in range(4):\n",
    "        print(next(f).strip())"
   ]
  },
  {
   "cell_type": "markdown",
   "metadata": {},
   "source": [
    "CommentsImage 는 위의 데이터를 numpy.ndarray 형태로 읽어들입니다. 문장의 길이가 다르기 때문에 짧은 문장의 경우에는 <padding> 이 추가됩니다. padding index 는 마지막 vocabulary index 입니다.."
   ]
  },
  {
   "cell_type": "code",
   "execution_count": 10,
   "metadata": {},
   "outputs": [
    {
     "name": "stdout",
     "output_type": "stream",
     "text": [
      "<class 'numpy.ndarray'> (294078, 20)\n",
      "<class 'numpy.ndarray'> (294078,)\n",
      "['살아남는것', 'Mar', '농업', '대장님', '<padding>']\n"
     ]
    }
   ],
   "source": [
    "from navermovie_comments import load_comments_image\n",
    "\n",
    "X, y, idx_to_vocab = load_comments_image(\n",
    "    large=False, tokenize='soynlp_unsup', max_len=20)\n",
    "\n",
    "print(type(X), X.shape)\n",
    "print(type(y), y.shape)\n",
    "print(idx_to_vocab[-5:])"
   ]
  },
  {
   "cell_type": "code",
   "execution_count": 11,
   "metadata": {},
   "outputs": [
    {
     "data": {
      "text/plain": [
       "array([[  590,   699,   126,   188,   205,     5,   126,    13, 26809,\n",
       "        26809, 26809, 26809, 26809, 26809, 26809, 26809, 26809, 26809,\n",
       "        26809, 26809],\n",
       "       [  493,    14,   757,    65,   108,  1580,   590,   699,   126,\n",
       "          272,  8965,   154,     7,   851,   575,  8517,     6,   620,\n",
       "          953,   104],\n",
       "       [  126,  1029,   263,   536,   220,   245, 11327,   312,   120,\n",
       "            8,    13,  6743,  4254, 26809, 26809, 26809, 26809, 26809,\n",
       "        26809, 26809]])"
      ]
     },
     "execution_count": 11,
     "metadata": {},
     "output_type": "execute_result"
    }
   ],
   "source": [
    "X[:3]"
   ]
  },
  {
   "cell_type": "markdown",
   "metadata": {},
   "source": [
    "`__getitem__` 과 `__len__` 을 구현하여 torch 의 Dataset 으로 만듭니다. `init` 부분에서 numpy.ndarray 를 torch.Tensor 로 변환하는 부분을 추가합니다."
   ]
  },
  {
   "cell_type": "code",
   "execution_count": 12,
   "metadata": {},
   "outputs": [
    {
     "name": "stdout",
     "output_type": "stream",
     "text": [
      "294078\n",
      "tensor([  224,   497,    71,  2430,    10, 10558, 26809, 26809, 26809, 26809,\n",
      "        26809, 26809, 26809, 26809, 26809, 26809, 26809, 26809, 26809, 26809])\n",
      "tensor(2)\n"
     ]
    }
   ],
   "source": [
    "from navermovie_comments import load_comments_image\n",
    "\n",
    "class CommentsImage(torch.utils.data.Dataset):\n",
    "    def __init__(self, large=False, max_len=20):\n",
    "        super(CommentsImage, self).__init__()\n",
    "        # use only this tokenizer\n",
    "        tokenize = 'soynlp_unsup'\n",
    "\n",
    "        self.X, labels, self.idx_to_vocab = load_comments_image(\n",
    "            large=large, tokenize=tokenize, max_len=max_len)\n",
    "\n",
    "        # {0: negative, 1: neutral, 2: positive}\n",
    "        labels[np.where(labels < 4)[0]] = 0\n",
    "        labels[np.where((labels >= 4) & (labels < 8))] = 1\n",
    "        labels[np.where(8 <= labels)[0]] = 2\n",
    "        self.labels = labels\n",
    "\n",
    "        # transform numpy.ndarray to torch.tensor\n",
    "        self.X = torch.LongTensor(self.X)\n",
    "        self.labels = torch.LongTensor(self.labels)\n",
    "\n",
    "    def __len__(self):\n",
    "        return len(self.labels)\n",
    "\n",
    "    def __getitem__(self, index):\n",
    "        X = self.X[index]\n",
    "        y = self.labels[index]\n",
    "        return X, y\n",
    "\n",
    "comments_images = CommentsImage()\n",
    "\n",
    "print(len(comments_images))\n",
    "\n",
    "X, y = comments_images[3]\n",
    "print(X)\n",
    "print(y)"
   ]
  },
  {
   "cell_type": "markdown",
   "metadata": {},
   "source": [
    "comments_images 를 DataLoader 에 입력할 수 있습니다."
   ]
  },
  {
   "cell_type": "code",
   "execution_count": 14,
   "metadata": {},
   "outputs": [
    {
     "name": "stdout",
     "output_type": "stream",
     "text": [
      "tensor([[  590,   699,   126,   188,   205,     5,   126,    13, 26809, 26809,\n",
      "         26809, 26809, 26809, 26809, 26809, 26809, 26809, 26809, 26809, 26809],\n",
      "        [  493,    14,   757,    65,   108,  1580,   590,   699,   126,   272,\n",
      "          8965,   154,     7,   851,   575,  8517,     6,   620,   953,   104],\n",
      "        [  126,  1029,   263,   536,   220,   245, 11327,   312,   120,     8,\n",
      "            13,  6743,  4254, 26809, 26809, 26809, 26809, 26809, 26809, 26809],\n",
      "        [  224,   497,    71,  2430,    10, 10558, 26809, 26809, 26809, 26809,\n",
      "         26809, 26809, 26809, 26809, 26809, 26809, 26809, 26809, 26809, 26809]])\n",
      "tensor([2, 2, 2, 2])\n",
      "torch.Size([4, 20])\n"
     ]
    }
   ],
   "source": [
    "comments_loader = torch.utils.data.DataLoader(\n",
    "    comments_images, batch_size=4, shuffle=False)\n",
    "\n",
    "for X, y in comments_loader:\n",
    "    print(X)\n",
    "    print(y)\n",
    "    print(X.size())\n",
    "    break"
   ]
  },
  {
   "cell_type": "markdown",
   "metadata": {},
   "source": [
    "## Dataset for large size\n",
    "\n",
    "만약 이미지 파일처럼 각각의 instance 가 파일로 나뉘어져 있을 경우에는 index 별 file path 를 저장한 뒤, getitem 에서 각 파일을 loading 하는 함수로 만들 수 있습니다."
   ]
  },
  {
   "cell_type": "code",
   "execution_count": 15,
   "metadata": {},
   "outputs": [],
   "source": [
    "class MemoryFriendlyDataset(torch.utils.data.Dataset):\n",
    "    def __init__(self, index_to_file):\n",
    "        super(MemoryFriendlyDataset, self).__init__()\n",
    "        self.index_to_file = index_to_file\n",
    "\n",
    "    def __len__(self):\n",
    "        return len(self.index_to_file)\n",
    "\n",
    "    def __getitem__(self, index):\n",
    "        path = self.index_to_file[index]\n",
    "        X, y = self._load_instance(path)\n",
    "\n",
    "    def _load_instance(self, path):\n",
    "        raise NotImplemented"
   ]
  },
  {
   "cell_type": "markdown",
   "metadata": {},
   "source": [
    "DataLoader 에 대한 설명은 다음의 포스트를 참고하세요.\n",
    "\n",
    "https://stanford.edu/~shervine/blog/pytorch-how-to-generate-data-parallel"
   ]
  }
 ],
 "metadata": {
  "kernelspec": {
   "display_name": "Python 3",
   "language": "python",
   "name": "python3"
  },
  "language_info": {
   "codemirror_mode": {
    "name": "ipython",
    "version": 3
   },
   "file_extension": ".py",
   "mimetype": "text/x-python",
   "name": "python",
   "nbconvert_exporter": "python",
   "pygments_lexer": "ipython3",
   "version": "3.7.1"
  }
 },
 "nbformat": 4,
 "nbformat_minor": 2
}
