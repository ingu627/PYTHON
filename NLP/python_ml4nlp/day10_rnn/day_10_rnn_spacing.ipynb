{
 "cells": [
  {
   "cell_type": "markdown",
   "metadata": {},
   "source": [
    "라라랜드 영화 리뷰들을 학습데이터로 이용합니다."
   ]
  },
  {
   "cell_type": "code",
   "execution_count": 1,
   "metadata": {},
   "outputs": [],
   "source": [
    "import config\n",
    "from navermovie_comments import load_movie_comments\n",
    "\n",
    "_, texts, _ = load_movie_comments(idxs='134963')"
   ]
  },
  {
   "cell_type": "markdown",
   "metadata": {},
   "source": [
    "Character-level RNN 을 이용합니다. RNN 은 character embedding matrix 를 가지고 있습니다. 이 크기를 지정하기 위해 데이터의 character 종류를 확인합니다. `scan_vocabulary` 함수는 한 문장이 list of str 임을 가정하지만, str 역시 list of char 이기 때문에 scan_vocabulary 함수를 이용할 수 있습니다."
   ]
  },
  {
   "cell_type": "code",
   "execution_count": 2,
   "metadata": {},
   "outputs": [
    {
     "name": "stdout",
     "output_type": "stream",
     "text": [
      "num characters = 1609\n"
     ]
    }
   ],
   "source": [
    "from utils import scan_vocabulary\n",
    "\n",
    "class TextsDecorator:\n",
    "    def __init__(self, texts):\n",
    "        self.texts = texts\n",
    "    def __iter__(self):\n",
    "        for text in self.texts:\n",
    "            yield text.replace(' ','')\n",
    "\n",
    "decorated_texts = TextsDecorator(texts)\n",
    "idx_to_char, char_to_idx = scan_vocabulary(decorated_texts, min_count=1)\n",
    "print('num characters = %d' % len(idx_to_char))"
   ]
  },
  {
   "cell_type": "markdown",
   "metadata": {},
   "source": [
    "to_idx 는 character 를 index 로 변환하는 함수입니다. 모르는 글자는 char_to_idx 길이의 값으로 표현하도록 했습니다. Character size + 1 의 값을 Embedding layer 의 길이로 정의할 겁니다."
   ]
  },
  {
   "cell_type": "code",
   "execution_count": 3,
   "metadata": {},
   "outputs": [
    {
     "name": "stdout",
     "output_type": "stream",
     "text": [
      "tensor([32])\n",
      "tensor([1609])\n"
     ]
    }
   ],
   "source": [
    "from utils import encode_sequence\n",
    "\n",
    "print(encode_sequence('라', char_to_idx))\n",
    "print(encode_sequence('퀡', char_to_idx))"
   ]
  },
  {
   "cell_type": "markdown",
   "metadata": {},
   "source": [
    "예문을 학습용 x, y 로 만듭니다."
   ]
  },
  {
   "cell_type": "code",
   "execution_count": 4,
   "metadata": {},
   "outputs": [
    {
     "data": {
      "text/plain": [
       "['이', '다', '영', '는', '화', '고', '지', '람', '관', '객']"
      ]
     },
     "execution_count": 4,
     "metadata": {},
     "output_type": "execute_result"
    }
   ],
   "source": [
    "idx_to_char[:10]"
   ]
  },
  {
   "cell_type": "code",
   "execution_count": 5,
   "metadata": {},
   "outputs": [
    {
     "data": {
      "text/plain": [
       "'시사회에서 보고왔습니다동화와 재즈뮤지컬의 만남 지루하지않고 재밌습니다'"
      ]
     },
     "execution_count": 5,
     "metadata": {},
     "output_type": "execute_result"
    }
   ],
   "source": [
    "texts[0]"
   ]
  },
  {
   "cell_type": "markdown",
   "metadata": {},
   "source": [
    "sent_to_xy 함수에 str 과 char_to_idx 를 입력하여 torch.LongTensor 의 character sequence 와 tag sequence 를 만듭니다."
   ]
  },
  {
   "cell_type": "code",
   "execution_count": 6,
   "metadata": {},
   "outputs": [
    {
     "data": {
      "text/plain": [
       "(tensor([ 57,  40, 290,  12,  25,  18,   5, 294,  67,  26,   1,  95,   4, 112,\n",
       "          45, 165, 108,   6, 109,  24,  23,  76,   6,  91,  13,   6, 103,   5,\n",
       "          45, 123,  67,  26,   1]),\n",
       " tensor([0, 0, 0, 0, 1, 0, 0, 0, 0, 0, 0, 0, 0, 1, 0, 0, 0, 0, 0, 1, 0, 1, 0, 0,\n",
       "         0, 0, 0, 1, 0, 0, 0, 0, 1]))"
      ]
     },
     "execution_count": 6,
     "metadata": {},
     "output_type": "execute_result"
    }
   ],
   "source": [
    "from space import sent_to_xy\n",
    "\n",
    "sent_to_xy(texts[0], char_to_idx)"
   ]
  },
  {
   "cell_type": "markdown",
   "metadata": {},
   "source": [
    "학습용 데이터 X, Y 를 만듭니다."
   ]
  },
  {
   "cell_type": "code",
   "execution_count": 7,
   "metadata": {},
   "outputs": [],
   "source": [
    "X = [] # list of sentence\n",
    "Y = [] # list of label\n",
    "\n",
    "for text in texts:\n",
    "    x, y = sent_to_xy(text, char_to_idx)\n",
    "    X.append(x)\n",
    "    Y.append(y)"
   ]
  },
  {
   "cell_type": "markdown",
   "metadata": {},
   "source": [
    "set_num_threads 를 설정하면 사용 가능한 코어의 최대 개수를 정의할 수 있습니다. 기본값은 모든 코어를 이용하는 것입니다.\n",
    "\n",
    "그 외의 모델 패러매터들을 설정합니다. GRU 와 LSTM 은 forward 함수의 return 형식이 다릅니다. 이는 rnnspace.model 파일을 확인하세요."
   ]
  },
  {
   "cell_type": "code",
   "execution_count": 8,
   "metadata": {},
   "outputs": [],
   "source": [
    "import torch\n",
    "import torch.nn as nn\n",
    "import torch.optim as optim\n",
    "\n",
    "from space import GRUSpace\n",
    "\n",
    "# set parameters\n",
    "embedding_dim = 16\n",
    "hidden_dim = 64\n",
    "tagset_size = 2\n",
    "vocab_size = len(idx_to_char) + 1 # for unknown character\n",
    "bidirectional = True\n",
    "\n",
    "# model\n",
    "model = GRUSpace(embedding_dim, hidden_dim, vocab_size, tagset_size, bidirectional=bidirectional)"
   ]
  },
  {
   "cell_type": "markdown",
   "metadata": {},
   "source": [
    "만든 함수를 적용하여 띄어쓰기 교정 결과를 확인합니다."
   ]
  },
  {
   "cell_type": "code",
   "execution_count": 9,
   "metadata": {},
   "outputs": [
    {
     "data": {
      "text/plain": [
       "tensor([[-0.5543, -0.8545],\n",
       "        [-0.5405, -0.8734],\n",
       "        [-0.5967, -0.7999],\n",
       "        [-0.6115, -0.7820],\n",
       "        [-0.6448, -0.7439],\n",
       "        [-0.6635, -0.7237],\n",
       "        [-0.6247, -0.7667],\n",
       "        [-0.5131, -0.9128],\n",
       "        [-0.6033, -0.7918],\n",
       "        [-0.6247, -0.7666],\n",
       "        [-0.6354, -0.7545],\n",
       "        [-0.6612, -0.7262],\n",
       "        [-0.7511, -0.6384],\n",
       "        [-0.7641, -0.6269],\n",
       "        [-0.6991, -0.6872],\n",
       "        [-0.6176, -0.7749],\n",
       "        [-0.7037, -0.6827],\n",
       "        [-0.7444, -0.6444],\n",
       "        [-0.7385, -0.6497],\n",
       "        [-0.7059, -0.6806],\n",
       "        [-0.7205, -0.6665],\n",
       "        [-0.6463, -0.7423],\n",
       "        [-0.6833, -0.7031],\n",
       "        [-0.6173, -0.7752],\n",
       "        [-0.6075, -0.7868],\n",
       "        [-0.7092, -0.6774],\n",
       "        [-0.6738, -0.7129],\n",
       "        [-0.6659, -0.7212],\n",
       "        [-0.6459, -0.7427],\n",
       "        [-0.6336, -0.7565],\n",
       "        [-0.6252, -0.7661],\n",
       "        [-0.6321, -0.7581],\n",
       "        [-0.6339, -0.7561]], grad_fn=<LogSoftmaxBackward>)"
      ]
     },
     "execution_count": 9,
     "metadata": {},
     "output_type": "execute_result"
    }
   ],
   "source": [
    "model(X[0])"
   ]
  },
  {
   "cell_type": "code",
   "execution_count": 10,
   "metadata": {},
   "outputs": [
    {
     "name": "stdout",
     "output_type": "stream",
     "text": [
      "이건진짜좋은영화 라라랜드진짜좋은영화\n"
     ]
    }
   ],
   "source": [
    "from space import correct\n",
    "\n",
    "sent = '이건진짜좋은영화 라라랜드진짜좋은영화'\n",
    "print(correct(sent, char_to_idx, model))"
   ]
  },
  {
   "cell_type": "code",
   "execution_count": 11,
   "metadata": {},
   "outputs": [],
   "source": [
    "def train(model, X, Y, optimizer, loss_func, epoch):\n",
    "    for i, (x, y) in enumerate(zip(X, Y)):\n",
    "        model.zero_grad()\n",
    "        y_pred = model(x)\n",
    "        loss = loss_func(y_pred, y)\n",
    "        loss.backward()\n",
    "        optimizer.step()\n",
    "        if i % 100 == 0:\n",
    "            print('\\repoch = {}, batch = {} / {}'.format(epoch, i, len(X)), end='')\n",
    "    print('\\repoch {} was done{}'.format(epoch, ' '*60))\n",
    "    return model"
   ]
  },
  {
   "cell_type": "code",
   "execution_count": 14,
   "metadata": {},
   "outputs": [
    {
     "name": "stdout",
     "output_type": "stream",
     "text": [
      "Before training\n",
      "이 건진짜좋은 영 화 라 라 랜드진짜좋은 영 화\n",
      "\n",
      "epoch 1 was done                                                            \n",
      "이건 진짜 좋은 영화 라라랜드 진짜 좋은 영화\n",
      "training time = 2.5e+02 seconds\n",
      "\n",
      "epoch = 2, batch = 3100 / 15599"
     ]
    },
    {
     "ename": "KeyboardInterrupt",
     "evalue": "",
     "output_type": "error",
     "traceback": [
      "\u001b[0;31m---------------------------------------------------------------------------\u001b[0m",
      "\u001b[0;31mKeyboardInterrupt\u001b[0m                         Traceback (most recent call last)",
      "\u001b[0;32m<ipython-input-14-0a55a071e3b4>\u001b[0m in \u001b[0;36m<module>\u001b[0;34m\u001b[0m\n\u001b[1;32m     17\u001b[0m \u001b[0;34m\u001b[0m\u001b[0m\n\u001b[1;32m     18\u001b[0m     \u001b[0mt\u001b[0m \u001b[0;34m=\u001b[0m \u001b[0mtime\u001b[0m\u001b[0;34m.\u001b[0m\u001b[0mtime\u001b[0m\u001b[0;34m(\u001b[0m\u001b[0;34m)\u001b[0m\u001b[0;34m\u001b[0m\u001b[0;34m\u001b[0m\u001b[0m\n\u001b[0;32m---> 19\u001b[0;31m     \u001b[0mmodel\u001b[0m \u001b[0;34m=\u001b[0m \u001b[0mtrain\u001b[0m\u001b[0;34m(\u001b[0m\u001b[0mmodel\u001b[0m\u001b[0;34m,\u001b[0m \u001b[0mX\u001b[0m\u001b[0;34m,\u001b[0m \u001b[0mY\u001b[0m\u001b[0;34m,\u001b[0m \u001b[0moptimizer\u001b[0m\u001b[0;34m,\u001b[0m \u001b[0mloss_func\u001b[0m\u001b[0;34m,\u001b[0m \u001b[0mepoch\u001b[0m\u001b[0;34m)\u001b[0m\u001b[0;34m\u001b[0m\u001b[0;34m\u001b[0m\u001b[0m\n\u001b[0m\u001b[1;32m     20\u001b[0m     \u001b[0mt\u001b[0m \u001b[0;34m=\u001b[0m \u001b[0mtime\u001b[0m\u001b[0;34m.\u001b[0m\u001b[0mtime\u001b[0m\u001b[0;34m(\u001b[0m\u001b[0;34m)\u001b[0m \u001b[0;34m-\u001b[0m \u001b[0mt\u001b[0m\u001b[0;34m\u001b[0m\u001b[0;34m\u001b[0m\u001b[0m\n\u001b[1;32m     21\u001b[0m \u001b[0;34m\u001b[0m\u001b[0m\n",
      "\u001b[0;32m<ipython-input-11-3a325e859d4d>\u001b[0m in \u001b[0;36mtrain\u001b[0;34m(model, X, Y, optimizer, loss_func, epoch)\u001b[0m\n\u001b[1;32m      4\u001b[0m         \u001b[0my_pred\u001b[0m \u001b[0;34m=\u001b[0m \u001b[0mmodel\u001b[0m\u001b[0;34m(\u001b[0m\u001b[0mx\u001b[0m\u001b[0;34m)\u001b[0m\u001b[0;34m\u001b[0m\u001b[0;34m\u001b[0m\u001b[0m\n\u001b[1;32m      5\u001b[0m         \u001b[0mloss\u001b[0m \u001b[0;34m=\u001b[0m \u001b[0mloss_func\u001b[0m\u001b[0;34m(\u001b[0m\u001b[0my_pred\u001b[0m\u001b[0;34m,\u001b[0m \u001b[0my\u001b[0m\u001b[0;34m)\u001b[0m\u001b[0;34m\u001b[0m\u001b[0;34m\u001b[0m\u001b[0m\n\u001b[0;32m----> 6\u001b[0;31m         \u001b[0mloss\u001b[0m\u001b[0;34m.\u001b[0m\u001b[0mbackward\u001b[0m\u001b[0;34m(\u001b[0m\u001b[0;34m)\u001b[0m\u001b[0;34m\u001b[0m\u001b[0;34m\u001b[0m\u001b[0m\n\u001b[0m\u001b[1;32m      7\u001b[0m         \u001b[0moptimizer\u001b[0m\u001b[0;34m.\u001b[0m\u001b[0mstep\u001b[0m\u001b[0;34m(\u001b[0m\u001b[0;34m)\u001b[0m\u001b[0;34m\u001b[0m\u001b[0;34m\u001b[0m\u001b[0m\n\u001b[1;32m      8\u001b[0m         \u001b[0;32mif\u001b[0m \u001b[0mi\u001b[0m \u001b[0;34m%\u001b[0m \u001b[0;36m100\u001b[0m \u001b[0;34m==\u001b[0m \u001b[0;36m0\u001b[0m\u001b[0;34m:\u001b[0m\u001b[0;34m\u001b[0m\u001b[0;34m\u001b[0m\u001b[0m\n",
      "\u001b[0;32m~/anaconda3/envs/pytorch/lib/python3.7/site-packages/torch/tensor.py\u001b[0m in \u001b[0;36mbackward\u001b[0;34m(self, gradient, retain_graph, create_graph)\u001b[0m\n\u001b[1;32m    100\u001b[0m                 \u001b[0mproducts\u001b[0m\u001b[0;34m.\u001b[0m \u001b[0mDefaults\u001b[0m \u001b[0mto\u001b[0m\u001b[0;31m \u001b[0m\u001b[0;31m`\u001b[0m\u001b[0;31m`\u001b[0m\u001b[0;32mFalse\u001b[0m\u001b[0;31m`\u001b[0m\u001b[0;31m`\u001b[0m\u001b[0;34m.\u001b[0m\u001b[0;34m\u001b[0m\u001b[0;34m\u001b[0m\u001b[0m\n\u001b[1;32m    101\u001b[0m         \"\"\"\n\u001b[0;32m--> 102\u001b[0;31m         \u001b[0mtorch\u001b[0m\u001b[0;34m.\u001b[0m\u001b[0mautograd\u001b[0m\u001b[0;34m.\u001b[0m\u001b[0mbackward\u001b[0m\u001b[0;34m(\u001b[0m\u001b[0mself\u001b[0m\u001b[0;34m,\u001b[0m \u001b[0mgradient\u001b[0m\u001b[0;34m,\u001b[0m \u001b[0mretain_graph\u001b[0m\u001b[0;34m,\u001b[0m \u001b[0mcreate_graph\u001b[0m\u001b[0;34m)\u001b[0m\u001b[0;34m\u001b[0m\u001b[0;34m\u001b[0m\u001b[0m\n\u001b[0m\u001b[1;32m    103\u001b[0m \u001b[0;34m\u001b[0m\u001b[0m\n\u001b[1;32m    104\u001b[0m     \u001b[0;32mdef\u001b[0m \u001b[0mregister_hook\u001b[0m\u001b[0;34m(\u001b[0m\u001b[0mself\u001b[0m\u001b[0;34m,\u001b[0m \u001b[0mhook\u001b[0m\u001b[0;34m)\u001b[0m\u001b[0;34m:\u001b[0m\u001b[0;34m\u001b[0m\u001b[0;34m\u001b[0m\u001b[0m\n",
      "\u001b[0;32m~/anaconda3/envs/pytorch/lib/python3.7/site-packages/torch/autograd/__init__.py\u001b[0m in \u001b[0;36mbackward\u001b[0;34m(tensors, grad_tensors, retain_graph, create_graph, grad_variables)\u001b[0m\n\u001b[1;32m     88\u001b[0m     Variable._execution_engine.run_backward(\n\u001b[1;32m     89\u001b[0m         \u001b[0mtensors\u001b[0m\u001b[0;34m,\u001b[0m \u001b[0mgrad_tensors\u001b[0m\u001b[0;34m,\u001b[0m \u001b[0mretain_graph\u001b[0m\u001b[0;34m,\u001b[0m \u001b[0mcreate_graph\u001b[0m\u001b[0;34m,\u001b[0m\u001b[0;34m\u001b[0m\u001b[0;34m\u001b[0m\u001b[0m\n\u001b[0;32m---> 90\u001b[0;31m         allow_unreachable=True)  # allow_unreachable flag\n\u001b[0m\u001b[1;32m     91\u001b[0m \u001b[0;34m\u001b[0m\u001b[0m\n\u001b[1;32m     92\u001b[0m \u001b[0;34m\u001b[0m\u001b[0m\n",
      "\u001b[0;31mKeyboardInterrupt\u001b[0m: "
     ]
    }
   ],
   "source": [
    "import time\n",
    "\n",
    "max_epochs = 5\n",
    "num_threads = 3\n",
    "\n",
    "model = GRUSpace(embedding_dim, hidden_dim, vocab_size, tagset_size, bidirectional=bidirectional)\n",
    "loss_func = nn.NLLLoss()\n",
    "optimizer = optim.SGD(model.parameters(), lr=0.1)\n",
    "\n",
    "# set max num of threads\n",
    "torch.set_num_threads(num_threads)\n",
    "\n",
    "print('Before training')\n",
    "print(correct(sent, char_to_idx, model), end='\\n\\n')\n",
    "\n",
    "for epoch in range(1, max_epochs + 1):\n",
    "\n",
    "    t = time.time()\n",
    "    model = train(model, X, Y, optimizer, loss_func, epoch)\n",
    "    t = time.time() - t\n",
    "\n",
    "    print(correct(sent, char_to_idx, model))\n",
    "    print('training time = {:.2} seconds'.format(t), end='\\n\\n')"
   ]
  },
  {
   "cell_type": "code",
   "execution_count": 15,
   "metadata": {},
   "outputs": [
    {
     "name": "stdout",
     "output_type": "stream",
     "text": [
      "스파이 더맨같은 모르는 글 자를 넣었으면 ?\n"
     ]
    }
   ],
   "source": [
    "sent = '스파이더맨같은모르는글자를넣었으면?'\n",
    "print(correct(sent, char_to_idx, model))"
   ]
  },
  {
   "cell_type": "code",
   "execution_count": 16,
   "metadata": {},
   "outputs": [
    {
     "name": "stdout",
     "output_type": "stream",
     "text": [
      "라라랜드 영화와 관련된 말을 넣는 다면 ?\n"
     ]
    }
   ],
   "source": [
    "sent = '라라랜드영화와관련된말을넣는다면?'\n",
    "print(correct(sent, char_to_idx, model))"
   ]
  },
  {
   "cell_type": "code",
   "execution_count": null,
   "metadata": {},
   "outputs": [],
   "source": []
  }
 ],
 "metadata": {
  "kernelspec": {
   "display_name": "Python 3",
   "language": "python",
   "name": "python3"
  },
  "language_info": {
   "codemirror_mode": {
    "name": "ipython",
    "version": 3
   },
   "file_extension": ".py",
   "mimetype": "text/x-python",
   "name": "python",
   "nbconvert_exporter": "python",
   "pygments_lexer": "ipython3",
   "version": "3.7.1"
  }
 },
 "nbformat": 4,
 "nbformat_minor": 2
}
