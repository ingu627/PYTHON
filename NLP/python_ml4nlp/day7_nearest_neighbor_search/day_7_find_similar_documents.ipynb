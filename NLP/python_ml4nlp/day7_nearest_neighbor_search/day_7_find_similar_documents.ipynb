{
 "cells": [
  {
   "cell_type": "markdown",
   "metadata": {},
   "source": [
    "2016-10-20 일 뉴스에서 하나의 뉴스와 비슷한 뉴스를 찾아봅니다."
   ]
  },
  {
   "cell_type": "code",
   "execution_count": 1,
   "metadata": {},
   "outputs": [
    {
     "name": "stdout",
     "output_type": "stream",
     "text": [
      "soynlp=0.0.49\n",
      "added lovit_textmining_dataset\n",
      "(30091, 9774)\n",
      "30091\n"
     ]
    }
   ],
   "source": [
    "import config\n",
    "from navernews_10days import get_bow, get_news_paths\n",
    "from soynlp.utils import DoublespaceLineCorpus\n",
    "\n",
    "x, idx_to_vocab, vocab_to_idx = get_bow(date='2016-10-20', tokenize='noun')\n",
    "path = get_news_paths(date='2016-10-20')\n",
    "docs = [doc for doc in DoublespaceLineCorpus(path, iter_sent=False)]\n",
    "\n",
    "print(x.shape)\n",
    "print(len(docs))"
   ]
  },
  {
   "cell_type": "markdown",
   "metadata": {},
   "source": [
    "임의의 문서 하나를 선택하였습니다. 도널드 트럼프 vs 힐러리 클린턴의 미국 대선에 대한 뉴스입니다.\n",
    "\n",
    "이 뉴스의 term frequency vector 는 x[4,:] 으로 선택할 수 있습니다. "
   ]
  },
  {
   "cell_type": "code",
   "execution_count": 2,
   "metadata": {},
   "outputs": [
    {
     "data": {
      "text/plain": [
       "'클린턴 득표율 50 목표 가능성 아주 크다  워싱턴 연합뉴스 강영두 특파원 미국 민주당 대선후보 힐러리 클린턴이 다음달 8일 대선에서 400명 이상의 선거인단을 확보하면서 대승을 거둘 수 있다는 분석이 나왔다  미국 민주당 대선후보 힐러리 클린턴이 지난 10일 현지시간 오하이오 주 콜럼버스에서 유세하는 모습 연합뉴스  미 공화당 전략가인 스티브 슈미트는 19일 현지시간 방송의 모닝조 프로그램 인터뷰에서 이 같이 전망했다  슈미트는 2008년 존 매케인의 대선캠프에 관여했다  간접선거인 미 대선에서 승리에 필요한 선거인단 매직 넘버 는 전체 538명 의 과반인 270명이다  슈미트는 현 상황은 클린턴이 선거인단 400명을 넘기는 추세 라고 분석했다  그는 대선과 함께 치러지는 연방 상 하원의원 선거에 대해서도 상원은 민주당이 장악할 것으로 보이며 하원도 민주당이 장악할 수 있는 쪽으로 근접해 가고 있다 고 관측했다  현재는 공화당이 상원과 하원을 모두 장악하고 있다  슈미트는 만약 선거가 오늘 열린다고 가정하면 공화당은 하원에서 25석을 잃게 될 것으로 보인다 면서 공화당 입장에서는 선거판의 흐름을 보여주는 추세선이 잘못된 방향으로 가고 있다 내부에서 패닉이 시작됐다 고 말했다  미 일간 워싱턴포스트 가 서베이몽키와 15개 경합주에 대한 공동 여론조사 10월8 16일 1만7천379명 를 실시해 전날 발표한 결과를 보면 클린턴은 9개 주에서 공화당의 도널드 트럼프를 앞섰고 선거인단 304명을 확보한 것으로 나타났다  공화당 주변에서조차 트럼프의 완패 가능성이 거론되는 가운데 클린턴 진영은 득표율 50 고지 점령을 새로운 목표로 내걸었다  클린턴 측은 트럼프가 음담패설 비디오 파문과 성추문 논란에 휩싸이면 사실상 지지율을 견인할 추동력을 잃은 것으로 판단하고 있다 다만 자유당 게리 존슨 등 제3 후보 의 지지율이 10 안팎으로 상대적으로 높다는 점이 변수다  클린턴 캠프의 중량감 있는 한 인사는 의회전문매체 더힐 과의 인터뷰에서 득표율 50 전망에 대해 가능성이 아주 크다 며 이를 위해 현재 자금과 인력을 총동원해 쏟아붓고 있다 고 말했다  실제로 클린턴은 지난 17일 발표된 몬마우스 대학이 적극 투표층을 상대로 한 대선 여론조사에서 50 의 지지율을 기록한 바 있다 이 조사에서 트럼프는 38 를 얻었고 게리 존슨과 질 스타인 녹색당 이 각각 5 와 2 를 차지했다  0279\\n'"
      ]
     },
     "execution_count": 2,
     "metadata": {},
     "output_type": "execute_result"
    }
   ],
   "source": [
    "query_idx = 15\n",
    "docs[query_idx]"
   ]
  },
  {
   "cell_type": "markdown",
   "metadata": {},
   "source": [
    "앞서 연습하였던 LSHFores t를 이용하여 Cosine distance 기준으로 유사한 문서를 찾겠습니다. training은 lsh.fit(x) 로 끝납니다. 패러메터는 기본값을 이용하였습니다. "
   ]
  },
  {
   "cell_type": "code",
   "execution_count": 3,
   "metadata": {},
   "outputs": [
    {
     "name": "stderr",
     "output_type": "stream",
     "text": [
      "/home/lovit/anaconda2/envs/scrapper/lib/python3.6/site-packages/sklearn/neighbors/approximate.py:258: DeprecationWarning: LSHForest has poor performance and has been deprecated in 0.19. It will be removed in version 0.21.\n",
      "  DeprecationWarning)\n"
     ]
    },
    {
     "name": "stdout",
     "output_type": "stream",
     "text": [
      "CPU times: user 892 ms, sys: 4 ms, total: 896 ms\n",
      "Wall time: 892 ms\n"
     ]
    }
   ],
   "source": [
    "%%time\n",
    "\n",
    "from sklearn.neighbors import LSHForest\n",
    "\n",
    "lsh = LSHForest()\n",
    "lsh.fit(x)"
   ]
  },
  {
   "cell_type": "markdown",
   "metadata": {},
   "source": [
    "2317번 문서와 유사한 10개의 문서를 선택하였습니다. 가장 비슷한 문서는 2317번이어야 합니다. "
   ]
  },
  {
   "cell_type": "code",
   "execution_count": 4,
   "metadata": {
    "collapsed": true
   },
   "outputs": [],
   "source": [
    "dist, idxs = lsh.kneighbors(x[query_idx,:], n_neighbors=10)"
   ]
  },
  {
   "cell_type": "markdown",
   "metadata": {},
   "source": [
    "2317번을 포함한 10개의 문서에 대하여 각 문서 별 200글자까지만 snippest를 출력하여 그 내용을 확인하겠습니다. 이와 같이 비슷한 문서를 찾는 문제에서는 LSHForest를 쓰면 편리합니다. \n",
    "\n",
    "또한, 문서는 어느 정도 길이가 긴 문서인 것이 좋습니다. 짧은 문서는 too much sparse하여 인덱싱이 잘 되지 않을 수 있습니다. "
   ]
  },
  {
   "cell_type": "code",
   "execution_count": 5,
   "metadata": {},
   "outputs": [
    {
     "name": "stdout",
     "output_type": "stream",
     "text": [
      "[idx = 15, cos = 1.0] 클린턴 득표율 50 목표 가능성 아주 크다  워싱턴 연합뉴스 강영두 특파원 미국 민주당 대선후보 힐러리 클린턴이 다음달 8일 대선에서 400명 이상의 선거인단을 확보하면서 대승을 거둘 수 있다는 분석이 나왔다  미국 민주당 대선후보 힐러리 클린턴이 지난 10일 현지시간 오하이오 주 콜럼버스에서 유세하는 모습 연합뉴스  미 공화당 전략가인 스티브 슈미트는 1 ...\n",
      "\n",
      "[idx = 15006, cos = 0.846] 미국 민주당 대선후보 힐러리 클린턴이 다음달 8일 대선에서 400명 이상의 선거인단을 확보하면서 대승을 거둘 수 있다는 분석이 나왔다  미 공화당 전략가인 스티브 슈미트는 현지시간 19일 방송의 모닝조 프로그램 인터뷰에서 이 같이 전망했다 슈미트는 2008년 존 매케인의 대선캠프에 관여했다 간접선거인 미 대선에서 승리에 필요한 선거인단 매직 넘버 는 전체  ...\n",
      "\n",
      "[idx = 11309, cos = 0.698] 공화 상 하원선거도 고전할 듯 2016년 미국 대선이 19일 앞으로 다가온 가운데 민주당 후보 힐러리 클린턴 전 국무장관이 400명 이상의 선거인단을 확보해 압승을 거둘 것이라는 전망이 제기됐다 미 공화당 전략가인 스티브 슈밋은 19일 방송의 모닝조 프로그램에 출연 클린턴이 당선 매직넘버인 선거인단 270명을 훌쩍 넘어선 400명을 확보해 공화당 도널드 트 ...\n",
      "\n",
      "[idx = 8380, cos = 0.56] 세차례 토론을 모두 끝내고 20일 앞으로 다가온 미국 대통령 선거 11월 8일 에서 힐러리 클린턴 민주당 후보의 우세가 이어지고 있다 미국 대선에서 승리에 필요한 선거인단 과반 270명의 매직넘버 확보에서 클린턴은 공화당 도널드 트럼프 후보를 크게 앞서고 있다  19일 현지시간 에 따르면 이날 기준 미국 50개주 민주 공화당 지지 판세에서 클린턴은 매직넘버 ...\n",
      "\n",
      "[idx = 8441, cos = 0.486] 미국 대선에 무소속으로 출마한 에번 맥멀린이 투표를 20일 앞두고 공개된 유타주 여론조사에서 지지율 1위를 차지했다 이같은 상승세가 계속된다면 48년만에 처음으로 무소속 후보가 선거인단을 확보하는 이변이 발생할 가능성도 있다  미 경제전문방송 에 따르면 맥멀린은 19일 현지시간 미 에머슨대학이 발표한 여론조사 결과 유타주에서 31 의 지지를 얻어 1위를 차 ...\n",
      "\n",
      "[idx = 1327, cos = 0.458] 뉴욕 연합뉴스 박성제 특파원 19일 현지시간 미국 대통령선거 후보 3차 토론에서도 확인되지 않은 각종 주장이 전파를 탔다  민주당 힐러리 클린턴과 공화당 도널드 트럼프는 유권자들의 표심을 잡기 위해 상대를 공격하거나 자신을 변호하는 말들을 쉴새 없이 쏟아냈다  미국의 주요 언론들은 1 2차 토론 때와 마찬가지로 두 후보 발언의 진위를 확인해 유권자들이 현혹 ...\n",
      "\n",
      "[idx = 30026, cos = 0.451] 르윈스키 사건 변호 클린턴 발언  인터뷰에서 같은 논리 옹호  공화당 전당대회에서 미셸 오바마 영부인을 표절한 연설로 구설수에 올랐던 멜라니아 트럼프가 이번에는 과거 남편 스캔들을 수습하던 힐러리 클린턴 민주당 후보를 흉내 내고 있다는 지적이 나왔다  미국 뉴욕타임스 칼럼니스트 앤드류 로젠탈은 19일 현지시간 멜라니아가 도널드 트럼프를 옹호하기 위해 힐러리 ...\n",
      "\n",
      "[idx = 14975, cos = 0.447] 미국 대선 레이스 최종 분수령으로 꼽히는 3차 토론이 현지시간 19일 오후 9시 네바다 주 라스베이거스 네바다 대학에서 열린다 토론회는 이민과 복지 대법원 인사 경제 외교 대통령 자격 등 6개 주제를 놓고 90분간 격돌이 펼쳐진다  트럼프가 1 2차 토론에서 판정패한 데 더해 음담패설 녹음파일 파문 잇단 성추행 의혹 등으로 벼랑 끝에 선 가운데 대대적 반격 ...\n",
      "\n",
      "[idx = 8889, cos = 0.427] 선거 조작 을 주장해온 도널드 트럼프 미국 공화당 대선후보가 대선 패배시 불복할 것을 시사했다  19일 현지시간 네바다주 라스베이거스 네바다대에서 열린 미국 대선 3차 토론에 나선 트럼프는 힐러리 클린턴 민주당 후보 측과 미디어가 한편이 돼 선거를 조작했다는 그간의 주장과 관련 대선 결과에 승복하겠는가 라는 진행자의 질문에 그때 가서 말하겠다 고 말했다   ...\n",
      "\n",
      "[idx = 27676, cos = 0.418] 도널드 트럼프 미국 공화당 대통령 후보 왼쪽 와 힐러리 클린턴 민주당 후보가 19일 현지시간 열린 3차 대선후보 토론회에 참석했다 뉴스1  대선 3차 토론 대선 승복 그때 가서  서울 뉴스1 정이나 기자 도널드 트럼프 미국 공화당 대통령 후보는 19일 현지시간 다음달 치러지는 대선 결과를 수용할지 여부에 대해 모호한 입장을 보였다  트럼프 후보는 이날 열린 ...\n",
      "\n"
     ]
    }
   ],
   "source": [
    "for d, idx in zip(dist[0], idxs[0]):\n",
    "    print('[idx = {}, cos = {:.3}] {} ...\\n'.format(idx, 1 - d, docs[idx][:200]))"
   ]
  },
  {
   "cell_type": "code",
   "execution_count": null,
   "metadata": {
    "collapsed": true
   },
   "outputs": [],
   "source": []
  }
 ],
 "metadata": {
  "kernelspec": {
   "display_name": "Python 3",
   "language": "python",
   "name": "python3"
  },
  "language_info": {
   "codemirror_mode": {
    "name": "ipython",
    "version": 3
   },
   "file_extension": ".py",
   "mimetype": "text/x-python",
   "name": "python",
   "nbconvert_exporter": "python",
   "pygments_lexer": "ipython3",
   "version": "3.6.2"
  }
 },
 "nbformat": 4,
 "nbformat_minor": 1
}
