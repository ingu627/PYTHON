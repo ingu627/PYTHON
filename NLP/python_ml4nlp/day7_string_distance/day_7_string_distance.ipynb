{
 "cells": [
  {
   "cell_type": "code",
   "execution_count": 1,
   "metadata": {},
   "outputs": [
    {
     "name": "stdout",
     "output_type": "stream",
     "text": [
      "soynlp=0.0.49\n",
      "added lovit_textmining_dataset\n"
     ]
    }
   ],
   "source": [
    "import config"
   ]
  },
  {
   "cell_type": "markdown",
   "metadata": {},
   "source": [
    "## String distance\n",
    "\n",
    "Levenshtein distance 는 한 string s1 이 다른 string s2 로 바뀌기 위한 수정 (edit) 횟수를 두 글자의 거리로 정의합니다. 그렇기 때문에 edit distance 라고도 불립니다. Editing 의 종류에는 새로운 글자를 삽입하는 insert, 한 글자를 제거하는 delete, 한 글자를 다른 글자로 변환되는 substitution 세 가지로 나뉩니다.\n",
    "\n",
    "Edit distance 는 editing 의 unit 을 글자, 초/중/종성, 단어로 정의할 수 있습니다. 이 튜토리얼에서는 editing 단위에 따른 edit distance 에 대하여 알아봅니다.\n",
    "\n",
    "1. Edit distance (Levenshtein distance)\n",
    "1. Token edit distance\n",
    "1. Jamo edit distance\n",
    "1. Token - Jamo edit distance\n",
    "\n",
    "그 외에도 Cosine distance 와 Jaccard distance 를 직접 구현해 봅니다."
   ]
  },
  {
   "cell_type": "markdown",
   "metadata": {},
   "source": [
    "## Levenshtein distance\n",
    "\n",
    "기본적인 Levenshtein distance (Edit distance)를 먼저 만든 뒤, 하나씩 변형을 해보겠습니다. \n",
    "\n",
    "코드는 [이 주소][lev]를 참고하여 가져왔습니다. 두 str s1, s2에 대하여 s1의 길이가 s2보다 길거나 같다고 가정합니다. 그래서 len(s1) < len(s2)를 확인하여, s2의 길이가 더 길 경우에는 반대로 입력합니다. s1에서 s2로 바뀌거나, s2에서 s1으로 바뀌는 비용은 같기 때문입니다. \n",
    "\n",
    "[lev]: https://en.wikibooks.org/wiki/Algorithm_Implementation/Strings/Levenshtein_distance#Python"
   ]
  },
  {
   "cell_type": "markdown",
   "metadata": {},
   "source": [
    "Python에서는 Boolean 비교의 결과가 0과 1로 출력됩니다. True는 1이며, 0은 False입니다. levenshtein 구현의 Line number 15에서 c1과 c2가 다르면 1의 substitution cost를 주는 것을 볼 수 있습니다. \n",
    "\n",
    "```python\n",
    "substitutions = previous_row[j] + (c1 != c2)\n",
    "```"
   ]
  },
  {
   "cell_type": "code",
   "execution_count": 2,
   "metadata": {
    "collapsed": true
   },
   "outputs": [],
   "source": [
    "def levenshtein(s1, s2):\n",
    "    if len(s1) < len(s2):\n",
    "        return levenshtein(s2, s1)\n",
    "\n",
    "    # len(s1) >= len(s2)\n",
    "    if len(s2) == 0:\n",
    "        return len(s1)\n",
    "\n",
    "    previous_row = range(len(s2) + 1)\n",
    "    for i, c1 in enumerate(s1):\n",
    "        current_row = [i + 1]\n",
    "        for j, c2 in enumerate(s2):\n",
    "            insertions = previous_row[j + 1] + 1 # j+1 instead of j since previous_row and current_row are one character longer\n",
    "            deletions = current_row[j] + 1       # than s2\n",
    "            substitutions = previous_row[j] + (c1 != c2)\n",
    "            current_row.append(min(insertions, deletions, substitutions))\n",
    "        previous_row = current_row\n",
    "    \n",
    "    return previous_row[-1]"
   ]
  },
  {
   "cell_type": "markdown",
   "metadata": {},
   "source": [
    "s1 과 s2 는 str 형식이어도 되며, list of str 이어도 됩니다. s1, s2 가 str 형식이라면 글자 단위의 edit distance 입니다"
   ]
  },
  {
   "cell_type": "code",
   "execution_count": 3,
   "metadata": {},
   "outputs": [
    {
     "name": "stdout",
     "output_type": "stream",
     "text": [
      "pair=('머신러닝 텍스트 마이닝', '머신러닝 택스트 마이니'), distance = 2\n",
      "pair=('머신러닝 텍스트 마이닝', '머신러닝 마이닝 텍스트'), distance = 6\n",
      "pair=('머신러닝 텍스트 마이닝', '머신텍스트 마이닝'), distance = 3\n"
     ]
    }
   ],
   "source": [
    "test_pairs = [\n",
    "    ('머신러닝 텍스트 마이닝', '머신러닝 택스트 마이니'), # (텍 <-> 택, 닝 <-> 니)\n",
    "    ('머신러닝 텍스트 마이닝', '머신러닝 마이닝 텍스트'), # (텍스트 <-> 마이닝)\n",
    "    ('머신러닝 텍스트 마이닝', '머신텍스트 마이닝') # (러닝_ delete)\n",
    "]\n",
    "\n",
    "for pair in test_pairs:\n",
    "    print('pair={}, distance = {}'.format(pair, levenshtein(pair[0], pair[1])))"
   ]
  },
  {
   "cell_type": "markdown",
   "metadata": {},
   "source": [
    "list of str 이라면 단어 단위의 edit distance 가 됩니다."
   ]
  },
  {
   "cell_type": "code",
   "execution_count": 4,
   "metadata": {},
   "outputs": [
    {
     "name": "stdout",
     "output_type": "stream",
     "text": [
      "pair=('머신러닝 텍스트 마이닝', '머신러닝 택스트 마이니'), distance = 2\n",
      "pair=('머신러닝 텍스트 마이닝', '머신러닝 마이닝 텍스트'), distance = 2\n",
      "pair=('머신러닝 텍스트 마이닝', '머신텍스트 마이닝'), distance = 2\n"
     ]
    }
   ],
   "source": [
    "for pair in test_pairs:\n",
    "    distance = levenshtein(pair[0].split(),pair[1].split())\n",
    "    print('pair={}, distance = {}'.format(pair, distance))"
   ]
  },
  {
   "cell_type": "markdown",
   "metadata": {},
   "source": [
    "사용자가 substitutions 의 비용을 설정할 수도 있습니다. c1 에서 c2 로 바뀌는 비용을 cost 에 넣어둡니다. get_cost 함수를 이용하여 c1 이 c2 로 바뀔 때의 비용을 가져옵니다. 만약 설정된 값이 없으면 1 을 부여합니다.\n",
    "\n",
    "```python\n",
    "def levenshtein(s1, s2, cost=None):\n",
    "    # ...\n",
    "    def get_cost(c1, c2, cost):\n",
    "        return 0 if (c1 == c2) else cost.get((c1, c2), 1)\n",
    "\n",
    "    for i, c1 in enumerate(s1):\n",
    "        for j, c2 in enumerate(s2):\n",
    "            substitutions = previous_row[j] + get_cost(c1, c2, cost)\n",
    "```"
   ]
  },
  {
   "cell_type": "code",
   "execution_count": 5,
   "metadata": {
    "collapsed": true
   },
   "outputs": [],
   "source": [
    "def levenshtein(s1, s2, cost=None):\n",
    "    if len(s1) < len(s2):\n",
    "        return levenshtein(s2, s1)\n",
    "\n",
    "    # len(s1) >= len(s2)\n",
    "    if len(s2) == 0:\n",
    "        return len(s1)\n",
    "    \n",
    "    if cost == None:\n",
    "        cost = {}\n",
    "    \n",
    "    def get_cost(c1, c2, cost):\n",
    "        return 0 if (c1 == c2) else cost.get((c1, c2), 1)\n",
    "\n",
    "    previous_row = range(len(s2) + 1)\n",
    "    for i, c1 in enumerate(s1):\n",
    "        current_row = [i + 1]\n",
    "        for j, c2 in enumerate(s2):\n",
    "            insertions = previous_row[j + 1] + 1 # j+1 instead of j since previous_row and current_row are one character longer\n",
    "            deletions = current_row[j] + 1       # than s2\n",
    "            substitutions = previous_row[j] + get_cost(c1, c2, cost)\n",
    "            current_row.append(min(insertions, deletions, substitutions))\n",
    "        previous_row = current_row\n",
    "    \n",
    "    return previous_row[-1]"
   ]
  },
  {
   "cell_type": "code",
   "execution_count": 6,
   "metadata": {},
   "outputs": [
    {
     "name": "stdout",
     "output_type": "stream",
     "text": [
      "w/o cost\t텍스트 마이닝 --> 택스트 마이닝 : 1\n",
      "with cost\t텍스트 마이닝 --> 택스트 마이닝 : 0.1\n"
     ]
    }
   ],
   "source": [
    "dist = levenshtein('텍스트 마이닝', '택스트 마이닝')\n",
    "print('w/o cost\\t텍스트 마이닝 --> 택스트 마이닝 : {}'.format(dist))\n",
    "\n",
    "dist = levenshtein('텍스트 마이닝', '택스트 마이닝', {('텍', '택'):0.1})\n",
    "print('with cost\\t텍스트 마이닝 --> 택스트 마이닝 : {}'.format(dist))"
   ]
  },
  {
   "cell_type": "markdown",
   "metadata": {},
   "source": [
    "FastText 의 실습에서 이용하였던 decompose 함수를 이용하여 한글을 초/중/종성으로 분리할 수 있습니다."
   ]
  },
  {
   "cell_type": "code",
   "execution_count": 7,
   "metadata": {},
   "outputs": [
    {
     "name": "stdout",
     "output_type": "stream",
     "text": [
      "False\n",
      "False\n",
      "True\n",
      "('ㄱ', 'ㅏ', 'ㅁ')\n"
     ]
    }
   ],
   "source": [
    "from soynlp.hangle import character_is_complete_korean as is_hangle\n",
    "from soynlp.hangle import decompose\n",
    "\n",
    "\n",
    "print(is_hangle('ㄱ'))\n",
    "print(is_hangle('a'))\n",
    "print(is_hangle('감'))\n",
    "print(decompose('감'))"
   ]
  },
  {
   "cell_type": "markdown",
   "metadata": {},
   "source": [
    "글자의 substitution 비용에서 한글을 초/중/종성으로 분해하는 기능을 넣으면 jamo levenshtein distance 를 정의할 수 있습니다.\n",
    "\n",
    "get_cost 함수만 다시 정의하면 됩니다. c1 과 c2 중 하나 이상이 한글이 아니면 1 을 return 하고, 둘 모두가 한글이라면 초/중/종성을 분리하여 leveshtein distance 를 계산합니다. 1 음절의 한글은 3 개의 글자 (초/중/종)를 가지기 때문에 이 거리를 3 으로 나누어 return 합니다.\n",
    "\n",
    "```python\n",
    "def jamo_levenshtein(s1, s2):\n",
    "    # ...\n",
    "    def get_cost(c1, c2):\n",
    "        if not is_hangle(c1) or not is_hangle(c2):\n",
    "            return 1\n",
    "        return 0 if (c1 == c2) else levenshtein(decompose(c1), decompose(c2))/3\n",
    "```"
   ]
  },
  {
   "cell_type": "code",
   "execution_count": 8,
   "metadata": {},
   "outputs": [
    {
     "data": {
      "text/plain": [
       "0.3333333333333333"
      ]
     },
     "execution_count": 8,
     "metadata": {},
     "output_type": "execute_result"
    }
   ],
   "source": [
    "def jamo_levenshtein(s1, s2):\n",
    "    if len(s1) < len(s2):\n",
    "        return levenshtein(s2, s1)\n",
    "\n",
    "    # len(s1) >= len(s2)\n",
    "    if len(s2) == 0:\n",
    "        return len(s1)\n",
    "    \n",
    "    def get_cost(c1, c2):\n",
    "        if c1 == c2:\n",
    "            return 0\n",
    "        if not is_hangle(c1) or not is_hangle(c2):\n",
    "            return 1\n",
    "        return levenshtein(decompose(c1), decompose(c2))/3\n",
    "\n",
    "    previous_row = range(len(s2) + 1)\n",
    "    for i, c1 in enumerate(s1):\n",
    "        current_row = [i + 1]\n",
    "        for j, c2 in enumerate(s2):\n",
    "            insertions = previous_row[j + 1] + 1\n",
    "            deletions = current_row[j] + 1\n",
    "            substitutions = previous_row[j] + get_cost(c1, c2)\n",
    "            current_row.append(min(insertions, deletions, substitutions))\n",
    "        previous_row = current_row\n",
    "    \n",
    "    return previous_row[-1]\n",
    "\n",
    "jamo_levenshtein('텍스트 마이닝', '택스트 마이닝')"
   ]
  },
  {
   "cell_type": "markdown",
   "metadata": {},
   "source": [
    "## Jaccard distance"
   ]
  },
  {
   "cell_type": "markdown",
   "metadata": {},
   "source": [
    "Jaccard distance 는 unit 들에 대하여 set 의 1 - (intersection / union) 값입니다. \n",
    "\n",
    "주어진 단어 s1, s2에 대하여 unit을 만드는 함수를 lambda를 통하여 정의하였습니다. \n",
    "\n",
    "```python\n",
    "s1_set = unify(s1)\n",
    "```\n",
    " \n",
    "이 부분을 통하여 주어진 s1, s2 는 unit set 으로 바뀌게 되며, str 을 set 처리하면 글자의 set 이 출력됩니다. set 은 str 의 글자들의 unique set 을 만듭니다."
   ]
  },
  {
   "cell_type": "code",
   "execution_count": 9,
   "metadata": {},
   "outputs": [
    {
     "name": "stdout",
     "output_type": "stream",
     "text": [
      "{'a', 'c', 'b'}\n",
      "{'a'}\n"
     ]
    }
   ],
   "source": [
    "print(set('abcc'))\n",
    "print(set('a'))"
   ]
  },
  {
   "cell_type": "code",
   "execution_count": 10,
   "metadata": {},
   "outputs": [],
   "source": [
    "def jaccard_distance(s1, s2, unitfy=lambda x:set(x), debug=False):\n",
    "    if (not s1) or (not s2):\n",
    "        return 1\n",
    "    \n",
    "    s1_set = unitfy(s1)\n",
    "    s2_set = unitfy(s2)\n",
    "\n",
    "    if debug:\n",
    "        print('  - unit of s1 = {}'.format(s1_set))\n",
    "        print('  - unit of s2 = {}'.format(s2_set))\n",
    "\n",
    "    intersection = s1_set.intersection(s2_set)\n",
    "    union = s1_set.union(s2_set)\n",
    "    return 1 - len(intersection) / len(union)"
   ]
  },
  {
   "cell_type": "code",
   "execution_count": 11,
   "metadata": {},
   "outputs": [
    {
     "name": "stdout",
     "output_type": "stream",
     "text": [
      "unigram unit\n",
      "  - unit of s1 = {'살', '금', '지', '자'}\n",
      "  - unit of s2 = {'지', '자', '살', '금'}\n",
      "distance = 0.0\n",
      "\n",
      "bigram unit\n",
      "  - unit of s1 = {'자살', '살금', '금지'}\n",
      "  - unit of s2 = {'지금', '금살', '살자'}\n",
      "distance = 1.0\n",
      "\n",
      "edit distance = 4\n"
     ]
    }
   ],
   "source": [
    "s1 = '자살금지'\n",
    "s2 = '지금살자'\n",
    "\n",
    "print('unigram unit')\n",
    "dist = jaccard_distance(s1, s2, debug=True)\n",
    "print('distance = {}'.format(dist), end='\\n\\n')\n",
    "\n",
    "\n",
    "bigram = lambda x:set([x[i:i+2] for i in range(len(x)-1)])\n",
    "print('bigram unit')\n",
    "dist = jaccard_distance(s1, s2, bigram, debug=True) \n",
    "print('distance = {}'.format(dist), end='\\n\\n')\n",
    "\n",
    "dist = levenshtein(s1, s2)\n",
    "print('edit distance = {}'.format(dist))"
   ]
  },
  {
   "cell_type": "markdown",
   "metadata": {},
   "source": [
    "## Cosine"
   ]
  },
  {
   "cell_type": "markdown",
   "metadata": {},
   "source": [
    "Jaccard 는 각 unit 이 몇 번 등장했는지에 대한 정보를 이용하지 않습니다. Boolean vector 와 같습니다. Cosine distance 는 한 unit 의 등장 횟수도 이용합니다. unitfy 함수를 Counter 를 이용할 수 있습니다."
   ]
  },
  {
   "cell_type": "code",
   "execution_count": 12,
   "metadata": {},
   "outputs": [
    {
     "data": {
      "text/plain": [
       "Counter({'a': 1, 'b': 1, 'c': 2})"
      ]
     },
     "execution_count": 12,
     "metadata": {},
     "output_type": "execute_result"
    }
   ],
   "source": [
    "from collections import Counter\n",
    "\n",
    "Counter('abcc')"
   ]
  },
  {
   "cell_type": "markdown",
   "metadata": {},
   "source": [
    "cosine 은 두 벡터의 내적을 각 벡터의 L2 norm 으로 나눠준 값입니다. d1 과 d2 의 빈도수 제곱의 합의 1/2 승이 L2 norm 입니다."
   ]
  },
  {
   "cell_type": "code",
   "execution_count": 13,
   "metadata": {},
   "outputs": [],
   "source": [
    "import numpy as np\n",
    "\n",
    "def cosine_distance(s1, s2, unitfy=lambda x:Counter(x), debug=False):\n",
    "    \"\"\"distance = 1 - cosine similarity; [0, 2]\n",
    "    \"\"\"\n",
    "    \n",
    "    if (not s1) or (not s2):\n",
    "        return 2\n",
    "    \n",
    "    d1 = unitfy(s1)\n",
    "    d2 = unitfy(s2)\n",
    "\n",
    "    if debug:\n",
    "        print('  - unit of s1 = {}'.format(d1))\n",
    "        print('  - unit of s2 = {}'.format(d2))\n",
    "\n",
    "    prod = 0\n",
    "    for c1, f in d1.items():\n",
    "        prod += (f * d2.get(c1, 0))\n",
    "\n",
    "    norm1 = sum(v**2 for v in d1.values()) ** (1/2)\n",
    "    norm2 = sum(v**2 for v in d2.values()) ** (1/2)\n",
    "\n",
    "    cos_sim = prod / (norm1 * norm2)\n",
    "    cos_dist = 1 - cos_sim\n",
    "    return cos_dist"
   ]
  },
  {
   "cell_type": "code",
   "execution_count": 14,
   "metadata": {},
   "outputs": [
    {
     "name": "stdout",
     "output_type": "stream",
     "text": [
      "  - unit of s1 = Counter({'이': 2, '데': 1, '터': 1, '마': 1, '닝': 1})\n",
      "  - unit of s2 = Counter({'이': 2, '대': 1, '타': 1, '마': 1, '닝': 1})\n",
      "distance = 0.25\n",
      "\n",
      "  - unit of s1 = Counter({'마이': 1, '터마': 1, '이터': 1, '이닝': 1, '데이': 1})\n",
      "  - unit of s2 = Counter({'마이': 1, '대이': 1, '타마': 1, '이닝': 1, '이타': 1})\n",
      "distance = 0.6\n",
      "\n",
      "jaccard distance = 0.5714285714285714\n"
     ]
    }
   ],
   "source": [
    "s1 = '데이터마이닝'\n",
    "s2 = '대이타마이닝'\n",
    "\n",
    "\n",
    "dist = cosine_distance(s1, s2, debug=True)\n",
    "print('distance = {:.3}'.format(dist), end='\\n\\n')\n",
    "\n",
    "dist = cosine_distance(s1, s2, lambda x:Counter(bigram(x)), debug=True)\n",
    "print('distance = {:.3}'.format(dist), end='\\n\\n')\n",
    "\n",
    "print('jaccard distance = {}'.format(jaccard_distance(s1, s2)))"
   ]
  },
  {
   "cell_type": "markdown",
   "metadata": {},
   "source": [
    "## soynlp\n",
    "\n",
    "위에서 실습한 기능들은 모두 soynlp에 구현해 두었습니다. 함수를 튜닝하실 때에는 코드를 직접 만드시고, 있는 기능을 쓰실 때에는 import 해서 쓰셔도 됩니다. "
   ]
  },
  {
   "cell_type": "code",
   "execution_count": 15,
   "metadata": {
    "collapsed": true
   },
   "outputs": [],
   "source": [
    "from soynlp.hangle import levenshtein, jamo_levenshtein, cosine_distance, jaccard_distance"
   ]
  },
  {
   "cell_type": "code",
   "execution_count": 16,
   "metadata": {},
   "outputs": [
    {
     "name": "stdout",
     "output_type": "stream",
     "text": [
      "levenshtein:         2.000\n",
      "jamo levenshtein:    0.667\n"
     ]
    }
   ],
   "source": [
    "s1 = '데이터마이닝'\n",
    "s2 = '대이타마이닝'\n",
    "\n",
    "print('levenshtein:         %.3f' % levenshtein(s1, s2))\n",
    "print('jamo levenshtein:    %.3f' % jamo_levenshtein(s1, s2))"
   ]
  },
  {
   "cell_type": "code",
   "execution_count": 17,
   "metadata": {},
   "outputs": [
    {
     "name": "stdout",
     "output_type": "stream",
     "text": [
      "cosine w 1syllable:  0.250\n",
      "cosine w 2syllable:  0.600\n"
     ]
    }
   ],
   "source": [
    "print('cosine w 1syllable:  %.3f' % cosine_distance(s1, s2))\n",
    "print('cosine w 2syllable:  %.3f' %  cosine_distance(s1, s2, lambda x:Counter(bigram(x))))"
   ]
  },
  {
   "cell_type": "code",
   "execution_count": 18,
   "metadata": {},
   "outputs": [
    {
     "name": "stdout",
     "output_type": "stream",
     "text": [
      "jaccard w 1syllable: 0.571\n",
      "jaccard w 2syllable: 0.750\n"
     ]
    }
   ],
   "source": [
    "print('jaccard w 1syllable: %.3f' %  jaccard_distance(s1, s2))\n",
    "print('jaccard w 2syllable: %.3f' %  jaccard_distance(s1, s2, bigram))"
   ]
  },
  {
   "cell_type": "code",
   "execution_count": null,
   "metadata": {
    "collapsed": true
   },
   "outputs": [],
   "source": []
  }
 ],
 "metadata": {
  "kernelspec": {
   "display_name": "Python 3",
   "language": "python",
   "name": "python3"
  },
  "language_info": {
   "codemirror_mode": {
    "name": "ipython",
    "version": 3
   },
   "file_extension": ".py",
   "mimetype": "text/x-python",
   "name": "python",
   "nbconvert_exporter": "python",
   "pygments_lexer": "ipython3",
   "version": "3.6.2"
  }
 },
 "nbformat": 4,
 "nbformat_minor": 1
}
