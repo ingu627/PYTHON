{
 "cells": [
  {
   "cell_type": "code",
   "execution_count": 1,
   "metadata": {
    "collapsed": true
   },
   "outputs": [],
   "source": [
    "import fast_hangle_levenshtein"
   ]
  },
  {
   "cell_type": "code",
   "execution_count": 2,
   "metadata": {},
   "outputs": [
    {
     "data": {
      "text/plain": [
       "'빠른 한글 수정 거리 검색을 위한 inverted index '"
      ]
     },
     "execution_count": 2,
     "metadata": {},
     "output_type": "execute_result"
    }
   ],
   "source": [
    "fast_hangle_levenshtein.__title__"
   ]
  },
  {
   "cell_type": "code",
   "execution_count": 3,
   "metadata": {},
   "outputs": [
    {
     "data": {
      "text/plain": [
       "'0.0.2'"
      ]
     },
     "execution_count": 3,
     "metadata": {},
     "output_type": "execute_result"
    }
   ],
   "source": [
    "fast_hangle_levenshtein.__version__"
   ]
  },
  {
   "cell_type": "markdown",
   "metadata": {},
   "source": [
    "## Toy example"
   ]
  },
  {
   "cell_type": "code",
   "execution_count": 4,
   "metadata": {
    "collapsed": true
   },
   "outputs": [],
   "source": [
    "from fast_hangle_levenshtein import LevenshteinIndex\n",
    "indexer = LevenshteinIndex(verbose=True)"
   ]
  },
  {
   "cell_type": "code",
   "execution_count": 5,
   "metadata": {},
   "outputs": [],
   "source": [
    "indexer.indexing('아이고 어이고 아이고야 아이고야야야야 어이구야 지화자 징화자 쟝화장'.split())"
   ]
  },
  {
   "cell_type": "code",
   "execution_count": 6,
   "metadata": {},
   "outputs": [
    {
     "data": {
      "text/plain": [
       "{'고': {'아이고', '아이고야', '아이고야야야야', '어이고'},\n",
       " '구': {'어이구야'},\n",
       " '아': {'아이고', '아이고야', '아이고야야야야'},\n",
       " '야': {'아이고야', '아이고야야야야', '어이구야'},\n",
       " '어': {'어이고', '어이구야'},\n",
       " '이': {'아이고', '아이고야', '아이고야야야야', '어이고', '어이구야'},\n",
       " '자': {'지화자', '징화자'},\n",
       " '장': {'쟝화장'},\n",
       " '쟝': {'쟝화장'},\n",
       " '지': {'지화자'},\n",
       " '징': {'징화자'},\n",
       " '화': {'쟝화장', '지화자', '징화자'}}"
      ]
     },
     "execution_count": 6,
     "metadata": {},
     "output_type": "execute_result"
    }
   ],
   "source": [
    "indexer._index"
   ]
  },
  {
   "cell_type": "code",
   "execution_count": 7,
   "metadata": {},
   "outputs": [
    {
     "data": {
      "text/plain": [
       "{'ㄱ': {'아이고', '아이고야', '아이고야야야야', '어이고', '어이구야'},\n",
       " 'ㅇ': {'아이고', '아이고야', '아이고야야야야', '어이고', '어이구야'},\n",
       " 'ㅈ': {'쟝화장', '지화자', '징화자'},\n",
       " 'ㅎ': {'쟝화장', '지화자', '징화자'}}"
      ]
     },
     "execution_count": 7,
     "metadata": {},
     "output_type": "execute_result"
    }
   ],
   "source": [
    "indexer._cho_index"
   ]
  },
  {
   "cell_type": "code",
   "execution_count": 8,
   "metadata": {},
   "outputs": [
    {
     "name": "stdout",
     "output_type": "stream",
     "text": [
      "query=아이코, candidates=5 -> 2, time=0.000798 sec.\n"
     ]
    },
    {
     "data": {
      "text/plain": [
       "[('아이고', 1)]"
      ]
     },
     "execution_count": 8,
     "metadata": {},
     "output_type": "execute_result"
    }
   ],
   "source": [
    "indexer.verbose = True\n",
    "indexer.levenshtein_search('아이코')"
   ]
  },
  {
   "cell_type": "code",
   "execution_count": 9,
   "metadata": {},
   "outputs": [
    {
     "name": "stdout",
     "output_type": "stream",
     "text": [
      "query=아이코, candidates=8 -> 3, time=0.00143 sec.\n"
     ]
    },
    {
     "data": {
      "text/plain": [
       "[('아이고', 0.3333333333333333), ('어이고', 0.6666666666666666)]"
      ]
     },
     "execution_count": 9,
     "metadata": {},
     "output_type": "execute_result"
    }
   ],
   "source": [
    "indexer.verbose = True\n",
    "indexer.jamo_levenshtein_search('아이코')"
   ]
  },
  {
   "cell_type": "markdown",
   "metadata": {
    "collapsed": true
   },
   "source": [
    "## Financial text example"
   ]
  },
  {
   "cell_type": "code",
   "execution_count": 10,
   "metadata": {},
   "outputs": [
    {
     "data": {
      "text/plain": [
       "132864"
      ]
     },
     "execution_count": 10,
     "metadata": {},
     "output_type": "execute_result"
    }
   ],
   "source": [
    "with open('./data/nouns_from_financial_news.json', encoding='utf-8') as f:\n",
    "    import json    \n",
    "    noun_scores = json.load(f)\n",
    "len(noun_scores)"
   ]
  },
  {
   "cell_type": "code",
   "execution_count": 11,
   "metadata": {},
   "outputs": [
    {
     "data": {
      "text/plain": [
       "['양식어가',\n",
       " '식품유통사',\n",
       " 'ETN전담팀',\n",
       " '도로주행',\n",
       " '로우프라이스펀드',\n",
       " '국가브랜드',\n",
       " '대체부지',\n",
       " '한화솔라원',\n",
       " '박준영씨',\n",
       " '온라인마트']"
      ]
     },
     "execution_count": 11,
     "metadata": {},
     "output_type": "execute_result"
    }
   ],
   "source": [
    "list(noun_scores.keys())[:10]"
   ]
  },
  {
   "cell_type": "code",
   "execution_count": 12,
   "metadata": {
    "collapsed": true
   },
   "outputs": [],
   "source": [
    "financial_word_indexer = LevenshteinIndex(noun_scores)"
   ]
  },
  {
   "cell_type": "markdown",
   "metadata": {},
   "source": [
    "character set을 기준으로 모두 등장하는 글자를 찾기 때문에 순서는 달라질 수 있습니다."
   ]
  },
  {
   "cell_type": "code",
   "execution_count": 13,
   "metadata": {},
   "outputs": [
    {
     "name": "stdout",
     "output_type": "stream",
     "text": [
      "query=분식회계, candidates=10137 -> 7, time=0.00606 sec.\n"
     ]
    },
    {
     "data": {
      "text/plain": [
       "[('분식회계', 0), ('분식회', 1), ('분식회계설', 1), ('분석회계', 1)]"
      ]
     },
     "execution_count": 13,
     "metadata": {},
     "output_type": "execute_result"
    }
   ],
   "source": [
    "financial_word_indexer.verbose = True\n",
    "financial_word_indexer.levenshtein_search('분식회계')"
   ]
  },
  {
   "cell_type": "code",
   "execution_count": 14,
   "metadata": {},
   "outputs": [
    {
     "name": "stdout",
     "output_type": "stream",
     "text": [
      "query=분식회계a, candidates=10451 -> 3, time=0.00534 sec.\n"
     ]
    },
    {
     "data": {
      "text/plain": [
       "[('분식회계설', 1), ('분식회계', 1)]"
      ]
     },
     "execution_count": 14,
     "metadata": {},
     "output_type": "execute_result"
    }
   ],
   "source": [
    "financial_word_indexer.verbose = True\n",
    "financial_word_indexer.levenshtein_search('분식회계a')"
   ]
  },
  {
   "cell_type": "code",
   "execution_count": 15,
   "metadata": {},
   "outputs": [
    {
     "name": "stdout",
     "output_type": "stream",
     "text": [
      "query=분식회곙, candidates=129447 -> 162, time=0.235 sec.\n"
     ]
    },
    {
     "data": {
      "text/plain": [
       "[('분식회계', 0.3333333333333333),\n",
       " ('분석회계', 0.6666666666666666),\n",
       " ('분식회', 1),\n",
       " ('부실회계', 1.0)]"
      ]
     },
     "execution_count": 15,
     "metadata": {},
     "output_type": "execute_result"
    }
   ],
   "source": [
    "financial_word_indexer.jamo_levenshtein_search('분식회곙')"
   ]
  },
  {
   "cell_type": "markdown",
   "metadata": {
    "collapsed": true
   },
   "source": [
    "## Compare times"
   ]
  },
  {
   "cell_type": "code",
   "execution_count": 16,
   "metadata": {},
   "outputs": [
    {
     "name": "stdout",
     "output_type": "stream",
     "text": [
      "search time = 2.27 sec\n",
      "[('분식회계', 0), ('분식회', 1), ('분식회계설', 1), ('분석회계', 1)]\n"
     ]
    }
   ],
   "source": [
    "import time\n",
    "from fast_hangle_levenshtein import levenshtein\n",
    "from fast_hangle_levenshtein import jamo_levenshtein\n",
    "\n",
    "query = '분식회계'\n",
    "\n",
    "search_time = time.time()\n",
    "distance = {word:levenshtein(word, query) for word in noun_scores}\n",
    "search_time = time.time() - search_time\n",
    "print('search time = {} sec'.format('%.2f'%search_time))\n",
    "\n",
    "similars = sorted(filter(lambda x:x[1] <= 1, distance.items()), key=lambda x:x[1])\n",
    "print(similars)"
   ]
  },
  {
   "cell_type": "code",
   "execution_count": 17,
   "metadata": {},
   "outputs": [
    {
     "name": "stdout",
     "output_type": "stream",
     "text": [
      "search time = 27.39 sec\n",
      "[('분식회계', 0), ('분석회계', 0.3333333333333333), ('부실회계', 0.6666666666666666), ('분식회', 1), ('분석체계', 1.0), ('분식회계설', 1)]\n"
     ]
    }
   ],
   "source": [
    "search_time = time.time()\n",
    "distance = {word:jamo_levenshtein(word, query) for word in noun_scores}\n",
    "search_time = time.time() - search_time\n",
    "print('search time = {} sec'.format('%.2f'%search_time))\n",
    "\n",
    "similars = sorted(filter(lambda x:x[1] <= 1, distance.items()), key=lambda x:x[1])\n",
    "print(similars)"
   ]
  },
  {
   "cell_type": "code",
   "execution_count": null,
   "metadata": {
    "collapsed": true
   },
   "outputs": [],
   "source": []
  }
 ],
 "metadata": {
  "kernelspec": {
   "display_name": "Python 3",
   "language": "python",
   "name": "python3"
  },
  "language_info": {
   "codemirror_mode": {
    "name": "ipython",
    "version": 3
   },
   "file_extension": ".py",
   "mimetype": "text/x-python",
   "name": "python",
   "nbconvert_exporter": "python",
   "pygments_lexer": "ipython3",
   "version": "3.6.2"
  }
 },
 "nbformat": 4,
 "nbformat_minor": 1
}
