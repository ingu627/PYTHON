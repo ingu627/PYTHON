{
 "cells": [
  {
   "cell_type": "markdown",
   "metadata": {},
   "source": [
    "Bokeh 는 figure 를 만든 뒤, 그 위에 scatter plot 을 그리고 annotation 을 합니다. \n",
    "\n",
    "show 를 통하여 plot 을 출력합니다.\n",
    "\n",
    "Jupyter notebook 에서는 output_notebook() 을 한 번 이상 실행해야 합니다. Bokeh 를 이용할 jupyter file 의 맨 처음에 실행해두면 편합니다."
   ]
  },
  {
   "cell_type": "code",
   "execution_count": 1,
   "metadata": {},
   "outputs": [
    {
     "name": "stderr",
     "output_type": "stream",
     "text": [
      "/home/lovit/anaconda2/envs/scrapper/lib/python3.6/importlib/_bootstrap.py:205: RuntimeWarning: numpy.dtype size changed, may indicate binary incompatibility. Expected 96, got 88\n",
      "  return f(*args, **kwds)\n"
     ]
    },
    {
     "data": {
      "text/html": [
       "\n",
       "    <div class=\"bk-root\">\n",
       "        <a href=\"https://bokeh.pydata.org\" target=\"_blank\" class=\"bk-logo bk-logo-small bk-logo-notebook\"></a>\n",
       "        <span id=\"c3ad42b5-5132-4749-acf3-ed230ed603db\">Loading BokehJS ...</span>\n",
       "    </div>"
      ]
     },
     "metadata": {},
     "output_type": "display_data"
    },
    {
     "data": {
      "application/javascript": [
       "\n",
       "(function(root) {\n",
       "  function now() {\n",
       "    return new Date();\n",
       "  }\n",
       "\n",
       "  var force = true;\n",
       "\n",
       "  if (typeof (root._bokeh_onload_callbacks) === \"undefined\" || force === true) {\n",
       "    root._bokeh_onload_callbacks = [];\n",
       "    root._bokeh_is_loading = undefined;\n",
       "  }\n",
       "\n",
       "  var JS_MIME_TYPE = 'application/javascript';\n",
       "  var HTML_MIME_TYPE = 'text/html';\n",
       "  var EXEC_MIME_TYPE = 'application/vnd.bokehjs_exec.v0+json';\n",
       "  var CLASS_NAME = 'output_bokeh rendered_html';\n",
       "\n",
       "  /**\n",
       "   * Render data to the DOM node\n",
       "   */\n",
       "  function render(props, node) {\n",
       "    var script = document.createElement(\"script\");\n",
       "    node.appendChild(script);\n",
       "  }\n",
       "\n",
       "  /**\n",
       "   * Handle when an output is cleared or removed\n",
       "   */\n",
       "  function handleClearOutput(event, handle) {\n",
       "    var cell = handle.cell;\n",
       "\n",
       "    var id = cell.output_area._bokeh_element_id;\n",
       "    var server_id = cell.output_area._bokeh_server_id;\n",
       "    // Clean up Bokeh references\n",
       "    if (id != null && id in Bokeh.index) {\n",
       "      Bokeh.index[id].model.document.clear();\n",
       "      delete Bokeh.index[id];\n",
       "    }\n",
       "\n",
       "    if (server_id !== undefined) {\n",
       "      // Clean up Bokeh references\n",
       "      var cmd = \"from bokeh.io.state import curstate; print(curstate().uuid_to_server['\" + server_id + \"'].get_sessions()[0].document.roots[0]._id)\";\n",
       "      cell.notebook.kernel.execute(cmd, {\n",
       "        iopub: {\n",
       "          output: function(msg) {\n",
       "            var id = msg.content.text.trim();\n",
       "            if (id in Bokeh.index) {\n",
       "              Bokeh.index[id].model.document.clear();\n",
       "              delete Bokeh.index[id];\n",
       "            }\n",
       "          }\n",
       "        }\n",
       "      });\n",
       "      // Destroy server and session\n",
       "      var cmd = \"import bokeh.io.notebook as ion; ion.destroy_server('\" + server_id + \"')\";\n",
       "      cell.notebook.kernel.execute(cmd);\n",
       "    }\n",
       "  }\n",
       "\n",
       "  /**\n",
       "   * Handle when a new output is added\n",
       "   */\n",
       "  function handleAddOutput(event, handle) {\n",
       "    var output_area = handle.output_area;\n",
       "    var output = handle.output;\n",
       "\n",
       "    // limit handleAddOutput to display_data with EXEC_MIME_TYPE content only\n",
       "    if ((output.output_type != \"display_data\") || (!output.data.hasOwnProperty(EXEC_MIME_TYPE))) {\n",
       "      return\n",
       "    }\n",
       "\n",
       "    var toinsert = output_area.element.find(\".\" + CLASS_NAME.split(' ')[0]);\n",
       "\n",
       "    if (output.metadata[EXEC_MIME_TYPE][\"id\"] !== undefined) {\n",
       "      toinsert[toinsert.length - 1].firstChild.textContent = output.data[JS_MIME_TYPE];\n",
       "      // store reference to embed id on output_area\n",
       "      output_area._bokeh_element_id = output.metadata[EXEC_MIME_TYPE][\"id\"];\n",
       "    }\n",
       "    if (output.metadata[EXEC_MIME_TYPE][\"server_id\"] !== undefined) {\n",
       "      var bk_div = document.createElement(\"div\");\n",
       "      bk_div.innerHTML = output.data[HTML_MIME_TYPE];\n",
       "      var script_attrs = bk_div.children[0].attributes;\n",
       "      for (var i = 0; i < script_attrs.length; i++) {\n",
       "        toinsert[toinsert.length - 1].firstChild.setAttribute(script_attrs[i].name, script_attrs[i].value);\n",
       "      }\n",
       "      // store reference to server id on output_area\n",
       "      output_area._bokeh_server_id = output.metadata[EXEC_MIME_TYPE][\"server_id\"];\n",
       "    }\n",
       "  }\n",
       "\n",
       "  function register_renderer(events, OutputArea) {\n",
       "\n",
       "    function append_mime(data, metadata, element) {\n",
       "      // create a DOM node to render to\n",
       "      var toinsert = this.create_output_subarea(\n",
       "        metadata,\n",
       "        CLASS_NAME,\n",
       "        EXEC_MIME_TYPE\n",
       "      );\n",
       "      this.keyboard_manager.register_events(toinsert);\n",
       "      // Render to node\n",
       "      var props = {data: data, metadata: metadata[EXEC_MIME_TYPE]};\n",
       "      render(props, toinsert[toinsert.length - 1]);\n",
       "      element.append(toinsert);\n",
       "      return toinsert\n",
       "    }\n",
       "\n",
       "    /* Handle when an output is cleared or removed */\n",
       "    events.on('clear_output.CodeCell', handleClearOutput);\n",
       "    events.on('delete.Cell', handleClearOutput);\n",
       "\n",
       "    /* Handle when a new output is added */\n",
       "    events.on('output_added.OutputArea', handleAddOutput);\n",
       "\n",
       "    /**\n",
       "     * Register the mime type and append_mime function with output_area\n",
       "     */\n",
       "    OutputArea.prototype.register_mime_type(EXEC_MIME_TYPE, append_mime, {\n",
       "      /* Is output safe? */\n",
       "      safe: true,\n",
       "      /* Index of renderer in `output_area.display_order` */\n",
       "      index: 0\n",
       "    });\n",
       "  }\n",
       "\n",
       "  // register the mime type if in Jupyter Notebook environment and previously unregistered\n",
       "  if (root.Jupyter !== undefined) {\n",
       "    var events = require('base/js/events');\n",
       "    var OutputArea = require('notebook/js/outputarea').OutputArea;\n",
       "\n",
       "    if (OutputArea.prototype.mime_types().indexOf(EXEC_MIME_TYPE) == -1) {\n",
       "      register_renderer(events, OutputArea);\n",
       "    }\n",
       "  }\n",
       "\n",
       "  \n",
       "  if (typeof (root._bokeh_timeout) === \"undefined\" || force === true) {\n",
       "    root._bokeh_timeout = Date.now() + 5000;\n",
       "    root._bokeh_failed_load = false;\n",
       "  }\n",
       "\n",
       "  var NB_LOAD_WARNING = {'data': {'text/html':\n",
       "     \"<div style='background-color: #fdd'>\\n\"+\n",
       "     \"<p>\\n\"+\n",
       "     \"BokehJS does not appear to have successfully loaded. If loading BokehJS from CDN, this \\n\"+\n",
       "     \"may be due to a slow or bad network connection. Possible fixes:\\n\"+\n",
       "     \"</p>\\n\"+\n",
       "     \"<ul>\\n\"+\n",
       "     \"<li>re-rerun `output_notebook()` to attempt to load from CDN again, or</li>\\n\"+\n",
       "     \"<li>use INLINE resources instead, as so:</li>\\n\"+\n",
       "     \"</ul>\\n\"+\n",
       "     \"<code>\\n\"+\n",
       "     \"from bokeh.resources import INLINE\\n\"+\n",
       "     \"output_notebook(resources=INLINE)\\n\"+\n",
       "     \"</code>\\n\"+\n",
       "     \"</div>\"}};\n",
       "\n",
       "  function display_loaded() {\n",
       "    var el = document.getElementById(\"c3ad42b5-5132-4749-acf3-ed230ed603db\");\n",
       "    if (el != null) {\n",
       "      el.textContent = \"BokehJS is loading...\";\n",
       "    }\n",
       "    if (root.Bokeh !== undefined) {\n",
       "      if (el != null) {\n",
       "        el.textContent = \"BokehJS \" + root.Bokeh.version + \" successfully loaded.\";\n",
       "      }\n",
       "    } else if (Date.now() < root._bokeh_timeout) {\n",
       "      setTimeout(display_loaded, 100)\n",
       "    }\n",
       "  }\n",
       "\n",
       "\n",
       "  function run_callbacks() {\n",
       "    try {\n",
       "      root._bokeh_onload_callbacks.forEach(function(callback) { callback() });\n",
       "    }\n",
       "    finally {\n",
       "      delete root._bokeh_onload_callbacks\n",
       "    }\n",
       "    console.info(\"Bokeh: all callbacks have finished\");\n",
       "  }\n",
       "\n",
       "  function load_libs(js_urls, callback) {\n",
       "    root._bokeh_onload_callbacks.push(callback);\n",
       "    if (root._bokeh_is_loading > 0) {\n",
       "      console.log(\"Bokeh: BokehJS is being loaded, scheduling callback at\", now());\n",
       "      return null;\n",
       "    }\n",
       "    if (js_urls == null || js_urls.length === 0) {\n",
       "      run_callbacks();\n",
       "      return null;\n",
       "    }\n",
       "    console.log(\"Bokeh: BokehJS not loaded, scheduling load and callback at\", now());\n",
       "    root._bokeh_is_loading = js_urls.length;\n",
       "    for (var i = 0; i < js_urls.length; i++) {\n",
       "      var url = js_urls[i];\n",
       "      var s = document.createElement('script');\n",
       "      s.src = url;\n",
       "      s.async = false;\n",
       "      s.onreadystatechange = s.onload = function() {\n",
       "        root._bokeh_is_loading--;\n",
       "        if (root._bokeh_is_loading === 0) {\n",
       "          console.log(\"Bokeh: all BokehJS libraries loaded\");\n",
       "          run_callbacks()\n",
       "        }\n",
       "      };\n",
       "      s.onerror = function() {\n",
       "        console.warn(\"failed to load library \" + url);\n",
       "      };\n",
       "      console.log(\"Bokeh: injecting script tag for BokehJS library: \", url);\n",
       "      document.getElementsByTagName(\"head\")[0].appendChild(s);\n",
       "    }\n",
       "  };var element = document.getElementById(\"c3ad42b5-5132-4749-acf3-ed230ed603db\");\n",
       "  if (element == null) {\n",
       "    console.log(\"Bokeh: ERROR: autoload.js configured with elementid 'c3ad42b5-5132-4749-acf3-ed230ed603db' but no matching script tag was found. \")\n",
       "    return false;\n",
       "  }\n",
       "\n",
       "  var js_urls = [\"https://cdn.pydata.org/bokeh/release/bokeh-0.13.0.min.js\", \"https://cdn.pydata.org/bokeh/release/bokeh-widgets-0.13.0.min.js\", \"https://cdn.pydata.org/bokeh/release/bokeh-tables-0.13.0.min.js\", \"https://cdn.pydata.org/bokeh/release/bokeh-gl-0.13.0.min.js\"];\n",
       "\n",
       "  var inline_js = [\n",
       "    function(Bokeh) {\n",
       "      Bokeh.set_log_level(\"info\");\n",
       "    },\n",
       "    \n",
       "    function(Bokeh) {\n",
       "      \n",
       "    },\n",
       "    function(Bokeh) {\n",
       "      console.log(\"Bokeh: injecting CSS: https://cdn.pydata.org/bokeh/release/bokeh-0.13.0.min.css\");\n",
       "      Bokeh.embed.inject_css(\"https://cdn.pydata.org/bokeh/release/bokeh-0.13.0.min.css\");\n",
       "      console.log(\"Bokeh: injecting CSS: https://cdn.pydata.org/bokeh/release/bokeh-widgets-0.13.0.min.css\");\n",
       "      Bokeh.embed.inject_css(\"https://cdn.pydata.org/bokeh/release/bokeh-widgets-0.13.0.min.css\");\n",
       "      console.log(\"Bokeh: injecting CSS: https://cdn.pydata.org/bokeh/release/bokeh-tables-0.13.0.min.css\");\n",
       "      Bokeh.embed.inject_css(\"https://cdn.pydata.org/bokeh/release/bokeh-tables-0.13.0.min.css\");\n",
       "    }\n",
       "  ];\n",
       "\n",
       "  function run_inline_js() {\n",
       "    \n",
       "    if ((root.Bokeh !== undefined) || (force === true)) {\n",
       "      for (var i = 0; i < inline_js.length; i++) {\n",
       "        inline_js[i].call(root, root.Bokeh);\n",
       "      }if (force === true) {\n",
       "        display_loaded();\n",
       "      }} else if (Date.now() < root._bokeh_timeout) {\n",
       "      setTimeout(run_inline_js, 100);\n",
       "    } else if (!root._bokeh_failed_load) {\n",
       "      console.log(\"Bokeh: BokehJS failed to load within specified timeout.\");\n",
       "      root._bokeh_failed_load = true;\n",
       "    } else if (force !== true) {\n",
       "      var cell = $(document.getElementById(\"c3ad42b5-5132-4749-acf3-ed230ed603db\")).parents('.cell').data().cell;\n",
       "      cell.output_area.append_execute_result(NB_LOAD_WARNING)\n",
       "    }\n",
       "\n",
       "  }\n",
       "\n",
       "  if (root._bokeh_is_loading === 0) {\n",
       "    console.log(\"Bokeh: BokehJS loaded, going straight to plotting\");\n",
       "    run_inline_js();\n",
       "  } else {\n",
       "    load_libs(js_urls, function() {\n",
       "      console.log(\"Bokeh: BokehJS plotting callback run at\", now());\n",
       "      run_inline_js();\n",
       "    });\n",
       "  }\n",
       "}(window));"
      ],
      "application/vnd.bokehjs_load.v0+json": "\n(function(root) {\n  function now() {\n    return new Date();\n  }\n\n  var force = true;\n\n  if (typeof (root._bokeh_onload_callbacks) === \"undefined\" || force === true) {\n    root._bokeh_onload_callbacks = [];\n    root._bokeh_is_loading = undefined;\n  }\n\n  \n\n  \n  if (typeof (root._bokeh_timeout) === \"undefined\" || force === true) {\n    root._bokeh_timeout = Date.now() + 5000;\n    root._bokeh_failed_load = false;\n  }\n\n  var NB_LOAD_WARNING = {'data': {'text/html':\n     \"<div style='background-color: #fdd'>\\n\"+\n     \"<p>\\n\"+\n     \"BokehJS does not appear to have successfully loaded. If loading BokehJS from CDN, this \\n\"+\n     \"may be due to a slow or bad network connection. Possible fixes:\\n\"+\n     \"</p>\\n\"+\n     \"<ul>\\n\"+\n     \"<li>re-rerun `output_notebook()` to attempt to load from CDN again, or</li>\\n\"+\n     \"<li>use INLINE resources instead, as so:</li>\\n\"+\n     \"</ul>\\n\"+\n     \"<code>\\n\"+\n     \"from bokeh.resources import INLINE\\n\"+\n     \"output_notebook(resources=INLINE)\\n\"+\n     \"</code>\\n\"+\n     \"</div>\"}};\n\n  function display_loaded() {\n    var el = document.getElementById(\"c3ad42b5-5132-4749-acf3-ed230ed603db\");\n    if (el != null) {\n      el.textContent = \"BokehJS is loading...\";\n    }\n    if (root.Bokeh !== undefined) {\n      if (el != null) {\n        el.textContent = \"BokehJS \" + root.Bokeh.version + \" successfully loaded.\";\n      }\n    } else if (Date.now() < root._bokeh_timeout) {\n      setTimeout(display_loaded, 100)\n    }\n  }\n\n\n  function run_callbacks() {\n    try {\n      root._bokeh_onload_callbacks.forEach(function(callback) { callback() });\n    }\n    finally {\n      delete root._bokeh_onload_callbacks\n    }\n    console.info(\"Bokeh: all callbacks have finished\");\n  }\n\n  function load_libs(js_urls, callback) {\n    root._bokeh_onload_callbacks.push(callback);\n    if (root._bokeh_is_loading > 0) {\n      console.log(\"Bokeh: BokehJS is being loaded, scheduling callback at\", now());\n      return null;\n    }\n    if (js_urls == null || js_urls.length === 0) {\n      run_callbacks();\n      return null;\n    }\n    console.log(\"Bokeh: BokehJS not loaded, scheduling load and callback at\", now());\n    root._bokeh_is_loading = js_urls.length;\n    for (var i = 0; i < js_urls.length; i++) {\n      var url = js_urls[i];\n      var s = document.createElement('script');\n      s.src = url;\n      s.async = false;\n      s.onreadystatechange = s.onload = function() {\n        root._bokeh_is_loading--;\n        if (root._bokeh_is_loading === 0) {\n          console.log(\"Bokeh: all BokehJS libraries loaded\");\n          run_callbacks()\n        }\n      };\n      s.onerror = function() {\n        console.warn(\"failed to load library \" + url);\n      };\n      console.log(\"Bokeh: injecting script tag for BokehJS library: \", url);\n      document.getElementsByTagName(\"head\")[0].appendChild(s);\n    }\n  };var element = document.getElementById(\"c3ad42b5-5132-4749-acf3-ed230ed603db\");\n  if (element == null) {\n    console.log(\"Bokeh: ERROR: autoload.js configured with elementid 'c3ad42b5-5132-4749-acf3-ed230ed603db' but no matching script tag was found. \")\n    return false;\n  }\n\n  var js_urls = [\"https://cdn.pydata.org/bokeh/release/bokeh-0.13.0.min.js\", \"https://cdn.pydata.org/bokeh/release/bokeh-widgets-0.13.0.min.js\", \"https://cdn.pydata.org/bokeh/release/bokeh-tables-0.13.0.min.js\", \"https://cdn.pydata.org/bokeh/release/bokeh-gl-0.13.0.min.js\"];\n\n  var inline_js = [\n    function(Bokeh) {\n      Bokeh.set_log_level(\"info\");\n    },\n    \n    function(Bokeh) {\n      \n    },\n    function(Bokeh) {\n      console.log(\"Bokeh: injecting CSS: https://cdn.pydata.org/bokeh/release/bokeh-0.13.0.min.css\");\n      Bokeh.embed.inject_css(\"https://cdn.pydata.org/bokeh/release/bokeh-0.13.0.min.css\");\n      console.log(\"Bokeh: injecting CSS: https://cdn.pydata.org/bokeh/release/bokeh-widgets-0.13.0.min.css\");\n      Bokeh.embed.inject_css(\"https://cdn.pydata.org/bokeh/release/bokeh-widgets-0.13.0.min.css\");\n      console.log(\"Bokeh: injecting CSS: https://cdn.pydata.org/bokeh/release/bokeh-tables-0.13.0.min.css\");\n      Bokeh.embed.inject_css(\"https://cdn.pydata.org/bokeh/release/bokeh-tables-0.13.0.min.css\");\n    }\n  ];\n\n  function run_inline_js() {\n    \n    if ((root.Bokeh !== undefined) || (force === true)) {\n      for (var i = 0; i < inline_js.length; i++) {\n        inline_js[i].call(root, root.Bokeh);\n      }if (force === true) {\n        display_loaded();\n      }} else if (Date.now() < root._bokeh_timeout) {\n      setTimeout(run_inline_js, 100);\n    } else if (!root._bokeh_failed_load) {\n      console.log(\"Bokeh: BokehJS failed to load within specified timeout.\");\n      root._bokeh_failed_load = true;\n    } else if (force !== true) {\n      var cell = $(document.getElementById(\"c3ad42b5-5132-4749-acf3-ed230ed603db\")).parents('.cell').data().cell;\n      cell.output_area.append_execute_result(NB_LOAD_WARNING)\n    }\n\n  }\n\n  if (root._bokeh_is_loading === 0) {\n    console.log(\"Bokeh: BokehJS loaded, going straight to plotting\");\n    run_inline_js();\n  } else {\n    load_libs(js_urls, function() {\n      console.log(\"Bokeh: BokehJS plotting callback run at\", now());\n      run_inline_js();\n    });\n  }\n}(window));"
     },
     "metadata": {},
     "output_type": "display_data"
    },
    {
     "name": "stdout",
     "output_type": "stream",
     "text": [
      "[[2.7558342  7.19343999]\n",
      " [9.86293985 8.77083727]\n",
      " [3.36675182 3.22935373]\n",
      " [7.42214909 9.97785784]\n",
      " [3.58188327 9.41891905]]\n"
     ]
    }
   ],
   "source": [
    "import numpy as np\n",
    "import warnings\n",
    "from bokeh.plotting import figure, show, output_notebook, reset_output\n",
    "\n",
    "warnings.filterwarnings('ignore')\n",
    "output_notebook()\n",
    "\n",
    "# generate data\n",
    "data = np.random.random_sample((5,2)) * 10\n",
    "print(data)\n",
    "\n",
    "# set x, y\n",
    "x = data[:,0]\n",
    "y = data[:,1]"
   ]
  },
  {
   "cell_type": "markdown",
   "metadata": {},
   "source": [
    "scatter plot 은 figure.scatter 를 이용합니다. annotation 은 p.text 를 이용합니다.\n",
    "\n",
    "여러 번 반복할 수 있으니 mscatter 와 mtext 라는 함수를 미리 만들어 둡니다."
   ]
  },
  {
   "cell_type": "code",
   "execution_count": 2,
   "metadata": {
    "collapsed": true
   },
   "outputs": [],
   "source": [
    "def mscatter(p, x, y, marker=\"circle\", size=5,\n",
    "               line_color=\"navy\", fill_color=\"orange\" , alpha=0.5):\n",
    "    p.scatter(x, y, marker=marker, size=size,\n",
    "        line_color= line_color, fill_color= fill_color, alpha=alpha) \n",
    "\n",
    "def mtext(p, x, y, text):\n",
    "    p.text(x, y, text=[text],\n",
    "           text_color=\"firebrick\", text_align=\"center\", text_font_size=\"10pt\")"
   ]
  },
  {
   "cell_type": "markdown",
   "metadata": {},
   "source": [
    "figure 를 만들 때 크기, 배경색 등을 지정할 수도 있습니다. 하지만, figure 를 만든 다음에 attribute 를 조절할 수도 있습니다.\n",
    "\n",
    "한 장의 그림 p 를 만듭니다."
   ]
  },
  {
   "cell_type": "code",
   "execution_count": 3,
   "metadata": {
    "collapsed": true
   },
   "outputs": [],
   "source": [
    "# set figure\n",
    "p = figure(title=\"Bokeh Markers\")\n",
    "p.grid.grid_line_color = None\n",
    "p.background_fill_color = \"white\"\n",
    "p.width = 400\n",
    "p.height = 400"
   ]
  },
  {
   "cell_type": "markdown",
   "metadata": {},
   "source": [
    "mscatter 를 이용하여 p 에 scatter plot 을 그리고, mtext 를 이용하여 p 에 annotation 을 합니다.\n",
    "\n",
    "p 를 도화지라 생각하면 좋습니다. 그 위에 여러 겹 그림과 글을 적습니다.\n",
    "\n",
    "마지막으로 show() 를 이용하여 그 그림을 보여줍니다."
   ]
  },
  {
   "cell_type": "code",
   "execution_count": 4,
   "metadata": {},
   "outputs": [
    {
     "data": {
      "text/html": [
       "\n",
       "\n",
       "\n",
       "\n",
       "\n",
       "\n",
       "  <div class=\"bk-root\" id=\"bb66a220-dca7-4e60-8d77-4061a9a69080\"></div>\n"
      ]
     },
     "metadata": {},
     "output_type": "display_data"
    },
    {
     "data": {
      "application/javascript": [
       "(function(root) {\n",
       "  function embed_document(root) {\n",
       "    \n",
       "  var docs_json = {\"ecaf83d3-8360-41d3-8703-54c1bdc84865\":{\"roots\":{\"references\":[{\"attributes\":{\"data_source\":{\"id\":\"c5987a73-32f5-4bad-b453-c873e03b16bc\",\"type\":\"ColumnDataSource\"},\"glyph\":{\"id\":\"8e81bd6f-ab6c-4162-966a-664ae2618978\",\"type\":\"Text\"},\"hover_glyph\":null,\"muted_glyph\":null,\"nonselection_glyph\":{\"id\":\"2ced20a2-fe78-4f4b-a0d4-d45ff132eef0\",\"type\":\"Text\"},\"selection_glyph\":null,\"view\":{\"id\":\"3c343ddc-6728-43b8-b2c5-bd84b510a4c9\",\"type\":\"CDSView\"}},\"id\":\"4d1c0fea-f3d6-4a5b-9bc1-873e28214353\",\"type\":\"GlyphRenderer\"},{\"attributes\":{},\"id\":\"e74621ec-b882-4586-ae9e-a6a69f5510b8\",\"type\":\"HelpTool\"},{\"attributes\":{},\"id\":\"808f83ac-b54a-445e-b27d-4966db63a728\",\"type\":\"UnionRenderers\"},{\"attributes\":{\"dimension\":1,\"grid_line_color\":{\"value\":null},\"plot\":{\"id\":\"662e5f7d-bcf3-45dc-b6dc-82068aa3756a\",\"subtype\":\"Figure\",\"type\":\"Plot\"},\"ticker\":{\"id\":\"bb28580b-98db-44c6-a8dd-fd1403e2d41c\",\"type\":\"BasicTicker\"}},\"id\":\"4818d0a6-0d55-4e05-9ece-12273005073b\",\"type\":\"Grid\"},{\"attributes\":{\"source\":{\"id\":\"3dc99435-0016-48e6-a4ee-ecd6add812cc\",\"type\":\"ColumnDataSource\"}},\"id\":\"9b7b9d66-8dd5-4cbd-a622-c55cbf391587\",\"type\":\"CDSView\"},{\"attributes\":{},\"id\":\"61252e12-b898-4169-be04-01ac78580bf1\",\"type\":\"Selection\"},{\"attributes\":{\"text_align\":\"center\",\"text_alpha\":{\"value\":0.1},\"text_color\":{\"value\":\"black\"},\"text_font_size\":{\"value\":\"10pt\"},\"x\":{\"value\":3.416751816278751},\"y\":{\"value\":3.2793537257879755}},\"id\":\"2ced20a2-fe78-4f4b-a0d4-d45ff132eef0\",\"type\":\"Text\"},{\"attributes\":{},\"id\":\"e88baf13-d6ee-4d2b-bce5-edc33695c60b\",\"type\":\"UnionRenderers\"},{\"attributes\":{},\"id\":\"bb28580b-98db-44c6-a8dd-fd1403e2d41c\",\"type\":\"BasicTicker\"},{\"attributes\":{},\"id\":\"873a4459-4540-4bcf-8998-5fe1421c6728\",\"type\":\"Selection\"},{\"attributes\":{\"callback\":null,\"data\":{\"text\":[\"point #2\"]},\"selected\":{\"id\":\"873a4459-4540-4bcf-8998-5fe1421c6728\",\"type\":\"Selection\"},\"selection_policy\":{\"id\":\"1a290b7d-2001-42be-84d7-b409be5a7ba3\",\"type\":\"UnionRenderers\"}},\"id\":\"6700f8dc-1f2e-41b4-a093-c2ba4e13d33a\",\"type\":\"ColumnDataSource\"},{\"attributes\":{},\"id\":\"1a290b7d-2001-42be-84d7-b409be5a7ba3\",\"type\":\"UnionRenderers\"},{\"attributes\":{\"bottom_units\":\"screen\",\"fill_alpha\":{\"value\":0.5},\"fill_color\":{\"value\":\"lightgrey\"},\"left_units\":\"screen\",\"level\":\"overlay\",\"line_alpha\":{\"value\":1.0},\"line_color\":{\"value\":\"black\"},\"line_dash\":[4,4],\"line_width\":{\"value\":2},\"plot\":null,\"render_mode\":\"css\",\"right_units\":\"screen\",\"top_units\":\"screen\"},\"id\":\"8e4b2c6f-4f12-4934-99a0-2ff2cb472756\",\"type\":\"BoxAnnotation\"},{\"attributes\":{\"text_align\":\"center\",\"text_color\":{\"value\":\"firebrick\"},\"text_font_size\":{\"value\":\"10pt\"},\"x\":{\"value\":9.912939847496736},\"y\":{\"value\":8.820837274485992}},\"id\":\"a0af8666-fa94-4c1d-8cbe-58623813ddce\",\"type\":\"Text\"},{\"attributes\":{},\"id\":\"e4b33b4b-1d22-4c69-b7aa-340ebe28556c\",\"type\":\"Selection\"},{\"attributes\":{\"text_align\":\"center\",\"text_alpha\":{\"value\":0.1},\"text_color\":{\"value\":\"black\"},\"text_font_size\":{\"value\":\"10pt\"},\"x\":{\"value\":9.912939847496736},\"y\":{\"value\":8.820837274485992}},\"id\":\"0482ef7c-b294-4700-b214-b1f5c2b34e45\",\"type\":\"Text\"},{\"attributes\":{},\"id\":\"27b12d3a-ced7-4260-baed-c5eab50ed8e4\",\"type\":\"UnionRenderers\"},{\"attributes\":{\"data_source\":{\"id\":\"6700f8dc-1f2e-41b4-a093-c2ba4e13d33a\",\"type\":\"ColumnDataSource\"},\"glyph\":{\"id\":\"a0af8666-fa94-4c1d-8cbe-58623813ddce\",\"type\":\"Text\"},\"hover_glyph\":null,\"muted_glyph\":null,\"nonselection_glyph\":{\"id\":\"0482ef7c-b294-4700-b214-b1f5c2b34e45\",\"type\":\"Text\"},\"selection_glyph\":null,\"view\":{\"id\":\"3c479f4f-ba71-419c-93f7-bf0262dc585f\",\"type\":\"CDSView\"}},\"id\":\"4fdec9c4-4140-4dd5-bb5d-da233215070b\",\"type\":\"GlyphRenderer\"},{\"attributes\":{},\"id\":\"534d9fe8-851d-4a59-bd61-7a65107c72a5\",\"type\":\"Selection\"},{\"attributes\":{\"source\":{\"id\":\"6700f8dc-1f2e-41b4-a093-c2ba4e13d33a\",\"type\":\"ColumnDataSource\"}},\"id\":\"3c479f4f-ba71-419c-93f7-bf0262dc585f\",\"type\":\"CDSView\"},{\"attributes\":{},\"id\":\"fb4b12a2-9e9c-4281-8383-1aba5a65b4ba\",\"type\":\"UnionRenderers\"},{\"attributes\":{\"fill_alpha\":{\"value\":0.1},\"fill_color\":{\"value\":\"#1f77b4\"},\"line_alpha\":{\"value\":0.1},\"line_color\":{\"value\":\"#1f77b4\"},\"size\":{\"units\":\"screen\",\"value\":5},\"x\":{\"field\":\"x\"},\"y\":{\"field\":\"y\"}},\"id\":\"fbaed37b-efc2-4dae-a4c2-59943da9e905\",\"type\":\"Circle\"},{\"attributes\":{\"callback\":null,\"data\":{\"text\":[\"point #3\"]},\"selected\":{\"id\":\"e4b33b4b-1d22-4c69-b7aa-340ebe28556c\",\"type\":\"Selection\"},\"selection_policy\":{\"id\":\"27b12d3a-ced7-4260-baed-c5eab50ed8e4\",\"type\":\"UnionRenderers\"}},\"id\":\"c5987a73-32f5-4bad-b453-c873e03b16bc\",\"type\":\"ColumnDataSource\"},{\"attributes\":{},\"id\":\"45ea31e7-ae82-4b10-b77b-b3082e30e4f6\",\"type\":\"Selection\"},{\"attributes\":{\"text_align\":\"center\",\"text_color\":{\"value\":\"firebrick\"},\"text_font_size\":{\"value\":\"10pt\"},\"x\":{\"value\":3.416751816278751},\"y\":{\"value\":3.2793537257879755}},\"id\":\"8e81bd6f-ab6c-4162-966a-664ae2618978\",\"type\":\"Text\"},{\"attributes\":{},\"id\":\"e41cb0f3-fd31-4a1d-a87f-5c09bf3ac609\",\"type\":\"PanTool\"},{\"attributes\":{},\"id\":\"94ab47ea-21fc-481f-ad30-73611c6be779\",\"type\":\"UnionRenderers\"},{\"attributes\":{},\"id\":\"aad13158-2b67-4ecd-9ea5-221fe6c74592\",\"type\":\"ResetTool\"},{\"attributes\":{},\"id\":\"ea6b1372-15b8-4c23-bdf4-f93d1e2bd7ad\",\"type\":\"WheelZoomTool\"},{\"attributes\":{\"overlay\":{\"id\":\"8e4b2c6f-4f12-4934-99a0-2ff2cb472756\",\"type\":\"BoxAnnotation\"}},\"id\":\"d541d568-9667-4d13-9010-892efabecacd\",\"type\":\"BoxZoomTool\"},{\"attributes\":{},\"id\":\"70baf6fe-ab33-4e9d-ad2e-0499d95f9a3d\",\"type\":\"SaveTool\"},{\"attributes\":{\"fill_alpha\":{\"value\":0.5},\"fill_color\":{\"value\":\"orange\"},\"line_alpha\":{\"value\":0.5},\"line_color\":{\"value\":\"navy\"},\"size\":{\"units\":\"screen\",\"value\":5},\"x\":{\"field\":\"x\"},\"y\":{\"field\":\"y\"}},\"id\":\"b93ec182-b89e-4bae-b51e-e1a303401a6b\",\"type\":\"Circle\"},{\"attributes\":{\"source\":{\"id\":\"e9fd63be-c136-4347-ac12-1c674697e853\",\"type\":\"ColumnDataSource\"}},\"id\":\"c5d7c75e-db28-4431-8fd5-df683f1f8d4a\",\"type\":\"CDSView\"},{\"attributes\":{\"callback\":null,\"data\":{\"text\":[\"point #1\"]},\"selected\":{\"id\":\"61252e12-b898-4169-be04-01ac78580bf1\",\"type\":\"Selection\"},\"selection_policy\":{\"id\":\"e88baf13-d6ee-4d2b-bce5-edc33695c60b\",\"type\":\"UnionRenderers\"}},\"id\":\"3dc99435-0016-48e6-a4ee-ecd6add812cc\",\"type\":\"ColumnDataSource\"},{\"attributes\":{\"formatter\":{\"id\":\"db8d4066-5c6d-4e8c-9c29-4ed1c27eeeee\",\"type\":\"BasicTickFormatter\"},\"plot\":{\"id\":\"662e5f7d-bcf3-45dc-b6dc-82068aa3756a\",\"subtype\":\"Figure\",\"type\":\"Plot\"},\"ticker\":{\"id\":\"bb28580b-98db-44c6-a8dd-fd1403e2d41c\",\"type\":\"BasicTicker\"}},\"id\":\"d4a6b57a-8473-4150-899e-b17c1f83d84d\",\"type\":\"LinearAxis\"},{\"attributes\":{},\"id\":\"580c2ff0-9f2d-4875-a185-9bb12a03200f\",\"type\":\"Selection\"},{\"attributes\":{\"text_align\":\"center\",\"text_color\":{\"value\":\"firebrick\"},\"text_font_size\":{\"value\":\"10pt\"},\"x\":{\"value\":2.805834199207707},\"y\":{\"value\":7.243439992662364}},\"id\":\"d6507023-ccad-4613-b30d-0abb054556e7\",\"type\":\"Text\"},{\"attributes\":{},\"id\":\"db8d4066-5c6d-4e8c-9c29-4ed1c27eeeee\",\"type\":\"BasicTickFormatter\"},{\"attributes\":{\"callback\":null,\"data\":{\"x\":{\"__ndarray__\":\"Fl32zPILBkDR025A07kjQKJThZMb7wpABxfB2UewHUBMBMZqsqcMQA==\",\"dtype\":\"float64\",\"shape\":[5]},\"y\":{\"__ndarray__\":\"suQoIhXGHEAE6eguq4ohQAXN+2e31QlA9CF0yKn0I0BdytSOfNYiQA==\",\"dtype\":\"float64\",\"shape\":[5]}},\"selected\":{\"id\":\"580c2ff0-9f2d-4875-a185-9bb12a03200f\",\"type\":\"Selection\"},\"selection_policy\":{\"id\":\"808f83ac-b54a-445e-b27d-4966db63a728\",\"type\":\"UnionRenderers\"}},\"id\":\"e9fd63be-c136-4347-ac12-1c674697e853\",\"type\":\"ColumnDataSource\"},{\"attributes\":{\"data_source\":{\"id\":\"3dc99435-0016-48e6-a4ee-ecd6add812cc\",\"type\":\"ColumnDataSource\"},\"glyph\":{\"id\":\"d6507023-ccad-4613-b30d-0abb054556e7\",\"type\":\"Text\"},\"hover_glyph\":null,\"muted_glyph\":null,\"nonselection_glyph\":{\"id\":\"16c5b19e-7739-478e-baca-b963569d6c6c\",\"type\":\"Text\"},\"selection_glyph\":null,\"view\":{\"id\":\"9b7b9d66-8dd5-4cbd-a622-c55cbf391587\",\"type\":\"CDSView\"}},\"id\":\"e3323ea4-64ad-42db-9637-7be9f59fbf6b\",\"type\":\"GlyphRenderer\"},{\"attributes\":{\"background_fill_color\":{\"value\":\"white\"},\"below\":[{\"id\":\"23caa60b-17de-4525-b7d3-f0deda6f7507\",\"type\":\"LinearAxis\"}],\"height\":400,\"left\":[{\"id\":\"d4a6b57a-8473-4150-899e-b17c1f83d84d\",\"type\":\"LinearAxis\"}],\"renderers\":[{\"id\":\"23caa60b-17de-4525-b7d3-f0deda6f7507\",\"type\":\"LinearAxis\"},{\"id\":\"99599ab6-b423-4c39-8092-d215ce99b510\",\"type\":\"Grid\"},{\"id\":\"d4a6b57a-8473-4150-899e-b17c1f83d84d\",\"type\":\"LinearAxis\"},{\"id\":\"4818d0a6-0d55-4e05-9ece-12273005073b\",\"type\":\"Grid\"},{\"id\":\"8e4b2c6f-4f12-4934-99a0-2ff2cb472756\",\"type\":\"BoxAnnotation\"},{\"id\":\"156c1208-c48a-4893-bba2-39e562c4e06b\",\"type\":\"GlyphRenderer\"},{\"id\":\"e3323ea4-64ad-42db-9637-7be9f59fbf6b\",\"type\":\"GlyphRenderer\"},{\"id\":\"4fdec9c4-4140-4dd5-bb5d-da233215070b\",\"type\":\"GlyphRenderer\"},{\"id\":\"4d1c0fea-f3d6-4a5b-9bc1-873e28214353\",\"type\":\"GlyphRenderer\"},{\"id\":\"ddbb3e00-49e7-469e-8d42-76d2231fd97c\",\"type\":\"GlyphRenderer\"},{\"id\":\"4a27541f-85f7-4cb0-a06e-ebcb25e7d377\",\"type\":\"GlyphRenderer\"}],\"title\":{\"id\":\"e215aca6-d537-4151-b3d0-ac132d911f2f\",\"type\":\"Title\"},\"toolbar\":{\"id\":\"7abad82d-4c5f-4b80-9f06-1a9cfe870a0c\",\"type\":\"Toolbar\"},\"width\":400,\"x_range\":{\"id\":\"64386ee3-f2aa-4887-85c9-8f135cddbc95\",\"type\":\"DataRange1d\"},\"x_scale\":{\"id\":\"2bb743af-2486-4e96-b630-e839869e2c49\",\"type\":\"LinearScale\"},\"y_range\":{\"id\":\"27b6b89f-f71e-4376-a917-ffe7ac147837\",\"type\":\"DataRange1d\"},\"y_scale\":{\"id\":\"1286a977-235c-48aa-9765-de43fa97c8cf\",\"type\":\"LinearScale\"}},\"id\":\"662e5f7d-bcf3-45dc-b6dc-82068aa3756a\",\"subtype\":\"Figure\",\"type\":\"Plot\"},{\"attributes\":{\"plot\":null,\"text\":\"Bokeh Markers\"},\"id\":\"e215aca6-d537-4151-b3d0-ac132d911f2f\",\"type\":\"Title\"},{\"attributes\":{\"callback\":null},\"id\":\"64386ee3-f2aa-4887-85c9-8f135cddbc95\",\"type\":\"DataRange1d\"},{\"attributes\":{\"active_drag\":\"auto\",\"active_inspect\":\"auto\",\"active_multi\":null,\"active_scroll\":\"auto\",\"active_tap\":\"auto\",\"tools\":[{\"id\":\"e41cb0f3-fd31-4a1d-a87f-5c09bf3ac609\",\"type\":\"PanTool\"},{\"id\":\"ea6b1372-15b8-4c23-bdf4-f93d1e2bd7ad\",\"type\":\"WheelZoomTool\"},{\"id\":\"d541d568-9667-4d13-9010-892efabecacd\",\"type\":\"BoxZoomTool\"},{\"id\":\"70baf6fe-ab33-4e9d-ad2e-0499d95f9a3d\",\"type\":\"SaveTool\"},{\"id\":\"aad13158-2b67-4ecd-9ea5-221fe6c74592\",\"type\":\"ResetTool\"},{\"id\":\"e74621ec-b882-4586-ae9e-a6a69f5510b8\",\"type\":\"HelpTool\"}]},\"id\":\"7abad82d-4c5f-4b80-9f06-1a9cfe870a0c\",\"type\":\"Toolbar\"},{\"attributes\":{\"text_align\":\"center\",\"text_alpha\":{\"value\":0.1},\"text_color\":{\"value\":\"black\"},\"text_font_size\":{\"value\":\"10pt\"},\"x\":{\"value\":2.805834199207707},\"y\":{\"value\":7.243439992662364}},\"id\":\"16c5b19e-7739-478e-baca-b963569d6c6c\",\"type\":\"Text\"},{\"attributes\":{},\"id\":\"2bb743af-2486-4e96-b630-e839869e2c49\",\"type\":\"LinearScale\"},{\"attributes\":{\"callback\":null},\"id\":\"27b6b89f-f71e-4376-a917-ffe7ac147837\",\"type\":\"DataRange1d\"},{\"attributes\":{},\"id\":\"1286a977-235c-48aa-9765-de43fa97c8cf\",\"type\":\"LinearScale\"},{\"attributes\":{\"formatter\":{\"id\":\"28ea3dd1-7c05-409d-bfdd-bea3b5488375\",\"type\":\"BasicTickFormatter\"},\"plot\":{\"id\":\"662e5f7d-bcf3-45dc-b6dc-82068aa3756a\",\"subtype\":\"Figure\",\"type\":\"Plot\"},\"ticker\":{\"id\":\"b350318c-97bb-487a-8708-8454764ab67b\",\"type\":\"BasicTicker\"}},\"id\":\"23caa60b-17de-4525-b7d3-f0deda6f7507\",\"type\":\"LinearAxis\"},{\"attributes\":{},\"id\":\"b350318c-97bb-487a-8708-8454764ab67b\",\"type\":\"BasicTicker\"},{\"attributes\":{\"grid_line_color\":{\"value\":null},\"plot\":{\"id\":\"662e5f7d-bcf3-45dc-b6dc-82068aa3756a\",\"subtype\":\"Figure\",\"type\":\"Plot\"},\"ticker\":{\"id\":\"b350318c-97bb-487a-8708-8454764ab67b\",\"type\":\"BasicTicker\"}},\"id\":\"99599ab6-b423-4c39-8092-d215ce99b510\",\"type\":\"Grid\"},{\"attributes\":{\"source\":{\"id\":\"c5987a73-32f5-4bad-b453-c873e03b16bc\",\"type\":\"ColumnDataSource\"}},\"id\":\"3c343ddc-6728-43b8-b2c5-bd84b510a4c9\",\"type\":\"CDSView\"},{\"attributes\":{\"callback\":null,\"data\":{\"text\":[\"point #4\"]},\"selected\":{\"id\":\"534d9fe8-851d-4a59-bd61-7a65107c72a5\",\"type\":\"Selection\"},\"selection_policy\":{\"id\":\"fb4b12a2-9e9c-4281-8383-1aba5a65b4ba\",\"type\":\"UnionRenderers\"}},\"id\":\"21b8cb81-57de-4267-ac79-508df2143567\",\"type\":\"ColumnDataSource\"},{\"attributes\":{\"text_align\":\"center\",\"text_color\":{\"value\":\"firebrick\"},\"text_font_size\":{\"value\":\"10pt\"},\"x\":{\"value\":7.472149088297153},\"y\":{\"value\":10.027857841659877}},\"id\":\"310a81ff-584e-4867-88bc-6f62aedb12ac\",\"type\":\"Text\"},{\"attributes\":{\"text_align\":\"center\",\"text_alpha\":{\"value\":0.1},\"text_color\":{\"value\":\"black\"},\"text_font_size\":{\"value\":\"10pt\"},\"x\":{\"value\":7.472149088297153},\"y\":{\"value\":10.027857841659877}},\"id\":\"69160d07-95af-49a3-b08f-70125ed8d93d\",\"type\":\"Text\"},{\"attributes\":{\"data_source\":{\"id\":\"21b8cb81-57de-4267-ac79-508df2143567\",\"type\":\"ColumnDataSource\"},\"glyph\":{\"id\":\"310a81ff-584e-4867-88bc-6f62aedb12ac\",\"type\":\"Text\"},\"hover_glyph\":null,\"muted_glyph\":null,\"nonselection_glyph\":{\"id\":\"69160d07-95af-49a3-b08f-70125ed8d93d\",\"type\":\"Text\"},\"selection_glyph\":null,\"view\":{\"id\":\"baa8522f-1e9a-457f-becd-11fe08cf2801\",\"type\":\"CDSView\"}},\"id\":\"ddbb3e00-49e7-469e-8d42-76d2231fd97c\",\"type\":\"GlyphRenderer\"},{\"attributes\":{\"source\":{\"id\":\"21b8cb81-57de-4267-ac79-508df2143567\",\"type\":\"ColumnDataSource\"}},\"id\":\"baa8522f-1e9a-457f-becd-11fe08cf2801\",\"type\":\"CDSView\"},{\"attributes\":{\"callback\":null,\"data\":{\"text\":[\"point #5\"]},\"selected\":{\"id\":\"45ea31e7-ae82-4b10-b77b-b3082e30e4f6\",\"type\":\"Selection\"},\"selection_policy\":{\"id\":\"94ab47ea-21fc-481f-ad30-73611c6be779\",\"type\":\"UnionRenderers\"}},\"id\":\"56574c83-c43b-4968-b901-a4e5745a9853\",\"type\":\"ColumnDataSource\"},{\"attributes\":{\"text_align\":\"center\",\"text_color\":{\"value\":\"firebrick\"},\"text_font_size\":{\"value\":\"10pt\"},\"x\":{\"value\":3.6318832723312306},\"y\":{\"value\":9.468919051623727}},\"id\":\"5f72be9c-70f0-4e9e-b801-8448299702b8\",\"type\":\"Text\"},{\"attributes\":{\"text_align\":\"center\",\"text_alpha\":{\"value\":0.1},\"text_color\":{\"value\":\"black\"},\"text_font_size\":{\"value\":\"10pt\"},\"x\":{\"value\":3.6318832723312306},\"y\":{\"value\":9.468919051623727}},\"id\":\"a27ceab6-5043-489b-892a-04670026f7a1\",\"type\":\"Text\"},{\"attributes\":{\"data_source\":{\"id\":\"56574c83-c43b-4968-b901-a4e5745a9853\",\"type\":\"ColumnDataSource\"},\"glyph\":{\"id\":\"5f72be9c-70f0-4e9e-b801-8448299702b8\",\"type\":\"Text\"},\"hover_glyph\":null,\"muted_glyph\":null,\"nonselection_glyph\":{\"id\":\"a27ceab6-5043-489b-892a-04670026f7a1\",\"type\":\"Text\"},\"selection_glyph\":null,\"view\":{\"id\":\"6b24388c-b0f9-4397-a137-cfd33e33e585\",\"type\":\"CDSView\"}},\"id\":\"4a27541f-85f7-4cb0-a06e-ebcb25e7d377\",\"type\":\"GlyphRenderer\"},{\"attributes\":{\"source\":{\"id\":\"56574c83-c43b-4968-b901-a4e5745a9853\",\"type\":\"ColumnDataSource\"}},\"id\":\"6b24388c-b0f9-4397-a137-cfd33e33e585\",\"type\":\"CDSView\"},{\"attributes\":{\"data_source\":{\"id\":\"e9fd63be-c136-4347-ac12-1c674697e853\",\"type\":\"ColumnDataSource\"},\"glyph\":{\"id\":\"b93ec182-b89e-4bae-b51e-e1a303401a6b\",\"type\":\"Circle\"},\"hover_glyph\":null,\"muted_glyph\":null,\"nonselection_glyph\":{\"id\":\"fbaed37b-efc2-4dae-a4c2-59943da9e905\",\"type\":\"Circle\"},\"selection_glyph\":null,\"view\":{\"id\":\"c5d7c75e-db28-4431-8fd5-df683f1f8d4a\",\"type\":\"CDSView\"}},\"id\":\"156c1208-c48a-4893-bba2-39e562c4e06b\",\"type\":\"GlyphRenderer\"},{\"attributes\":{},\"id\":\"28ea3dd1-7c05-409d-bfdd-bea3b5488375\",\"type\":\"BasicTickFormatter\"}],\"root_ids\":[\"662e5f7d-bcf3-45dc-b6dc-82068aa3756a\"]},\"title\":\"Bokeh Application\",\"version\":\"0.13.0\"}};\n",
       "  var render_items = [{\"docid\":\"ecaf83d3-8360-41d3-8703-54c1bdc84865\",\"roots\":{\"662e5f7d-bcf3-45dc-b6dc-82068aa3756a\":\"bb66a220-dca7-4e60-8d77-4061a9a69080\"}}];\n",
       "  root.Bokeh.embed.embed_items_notebook(docs_json, render_items);\n",
       "\n",
       "  }\n",
       "  if (root.Bokeh !== undefined) {\n",
       "    embed_document(root);\n",
       "  } else {\n",
       "    var attempts = 0;\n",
       "    var timer = setInterval(function(root) {\n",
       "      if (root.Bokeh !== undefined) {\n",
       "        embed_document(root);\n",
       "        clearInterval(timer);\n",
       "      }\n",
       "      attempts++;\n",
       "      if (attempts > 100) {\n",
       "        console.log(\"Bokeh: ERROR: Unable to run BokehJS code because BokehJS library is missing\")\n",
       "        clearInterval(timer);\n",
       "      }\n",
       "    }, 10, root)\n",
       "  }\n",
       "})(window);"
      ],
      "application/vnd.bokehjs_exec.v0+json": ""
     },
     "metadata": {
      "application/vnd.bokehjs_exec.v0+json": {
       "id": "662e5f7d-bcf3-45dc-b6dc-82068aa3756a"
      }
     },
     "output_type": "display_data"
    }
   ],
   "source": [
    "# scatter plot\n",
    "mscatter(p, x, y)\n",
    "\n",
    "# annotation\n",
    "for idx in range(data.shape[0]):\n",
    "    x_ = data[idx,0] + 0.05\n",
    "    y_ = data[idx,1] + 0.05\n",
    "    text = 'point #{}'.format(idx+1)\n",
    "    mtext(p, x_, y_, text)\n",
    "\n",
    "# show\n",
    "show(p)"
   ]
  },
  {
   "cell_type": "markdown",
   "metadata": {},
   "source": [
    "Bokeh 는 이미 그려놓은 figure 의 크기, 배경 등의 properties 를 바꿀 수 있습니다."
   ]
  },
  {
   "cell_type": "code",
   "execution_count": 5,
   "metadata": {},
   "outputs": [
    {
     "data": {
      "text/html": [
       "\n",
       "\n",
       "\n",
       "\n",
       "\n",
       "\n",
       "  <div class=\"bk-root\" id=\"66caa613-1c55-4621-b872-0d0cd0e0d8e2\"></div>\n"
      ]
     },
     "metadata": {},
     "output_type": "display_data"
    },
    {
     "data": {
      "application/javascript": [
       "(function(root) {\n",
       "  function embed_document(root) {\n",
       "    \n",
       "  var docs_json = {\"554fdf92-fb03-44f4-8b7e-d1d6a2c80a51\":{\"roots\":{\"references\":[{\"attributes\":{\"data_source\":{\"id\":\"c5987a73-32f5-4bad-b453-c873e03b16bc\",\"type\":\"ColumnDataSource\"},\"glyph\":{\"id\":\"8e81bd6f-ab6c-4162-966a-664ae2618978\",\"type\":\"Text\"},\"hover_glyph\":null,\"muted_glyph\":null,\"nonselection_glyph\":{\"id\":\"2ced20a2-fe78-4f4b-a0d4-d45ff132eef0\",\"type\":\"Text\"},\"selection_glyph\":null,\"view\":{\"id\":\"3c343ddc-6728-43b8-b2c5-bd84b510a4c9\",\"type\":\"CDSView\"}},\"id\":\"4d1c0fea-f3d6-4a5b-9bc1-873e28214353\",\"type\":\"GlyphRenderer\"},{\"attributes\":{},\"id\":\"e74621ec-b882-4586-ae9e-a6a69f5510b8\",\"type\":\"HelpTool\"},{\"attributes\":{},\"id\":\"808f83ac-b54a-445e-b27d-4966db63a728\",\"type\":\"UnionRenderers\"},{\"attributes\":{\"dimension\":1,\"grid_line_color\":{\"value\":null},\"plot\":{\"id\":\"662e5f7d-bcf3-45dc-b6dc-82068aa3756a\",\"subtype\":\"Figure\",\"type\":\"Plot\"},\"ticker\":{\"id\":\"bb28580b-98db-44c6-a8dd-fd1403e2d41c\",\"type\":\"BasicTicker\"}},\"id\":\"4818d0a6-0d55-4e05-9ece-12273005073b\",\"type\":\"Grid\"},{\"attributes\":{\"source\":{\"id\":\"3dc99435-0016-48e6-a4ee-ecd6add812cc\",\"type\":\"ColumnDataSource\"}},\"id\":\"9b7b9d66-8dd5-4cbd-a622-c55cbf391587\",\"type\":\"CDSView\"},{\"attributes\":{},\"id\":\"61252e12-b898-4169-be04-01ac78580bf1\",\"type\":\"Selection\"},{\"attributes\":{\"text_align\":\"center\",\"text_alpha\":{\"value\":0.1},\"text_color\":{\"value\":\"black\"},\"text_font_size\":{\"value\":\"10pt\"},\"x\":{\"value\":3.416751816278751},\"y\":{\"value\":3.2793537257879755}},\"id\":\"2ced20a2-fe78-4f4b-a0d4-d45ff132eef0\",\"type\":\"Text\"},{\"attributes\":{},\"id\":\"e88baf13-d6ee-4d2b-bce5-edc33695c60b\",\"type\":\"UnionRenderers\"},{\"attributes\":{},\"id\":\"bb28580b-98db-44c6-a8dd-fd1403e2d41c\",\"type\":\"BasicTicker\"},{\"attributes\":{},\"id\":\"873a4459-4540-4bcf-8998-5fe1421c6728\",\"type\":\"Selection\"},{\"attributes\":{\"callback\":null,\"data\":{\"text\":[\"point #2\"]},\"selected\":{\"id\":\"873a4459-4540-4bcf-8998-5fe1421c6728\",\"type\":\"Selection\"},\"selection_policy\":{\"id\":\"1a290b7d-2001-42be-84d7-b409be5a7ba3\",\"type\":\"UnionRenderers\"}},\"id\":\"6700f8dc-1f2e-41b4-a093-c2ba4e13d33a\",\"type\":\"ColumnDataSource\"},{\"attributes\":{},\"id\":\"1a290b7d-2001-42be-84d7-b409be5a7ba3\",\"type\":\"UnionRenderers\"},{\"attributes\":{\"bottom_units\":\"screen\",\"fill_alpha\":{\"value\":0.5},\"fill_color\":{\"value\":\"lightgrey\"},\"left_units\":\"screen\",\"level\":\"overlay\",\"line_alpha\":{\"value\":1.0},\"line_color\":{\"value\":\"black\"},\"line_dash\":[4,4],\"line_width\":{\"value\":2},\"plot\":null,\"render_mode\":\"css\",\"right_units\":\"screen\",\"top_units\":\"screen\"},\"id\":\"8e4b2c6f-4f12-4934-99a0-2ff2cb472756\",\"type\":\"BoxAnnotation\"},{\"attributes\":{\"text_align\":\"center\",\"text_color\":{\"value\":\"firebrick\"},\"text_font_size\":{\"value\":\"10pt\"},\"x\":{\"value\":9.912939847496736},\"y\":{\"value\":8.820837274485992}},\"id\":\"a0af8666-fa94-4c1d-8cbe-58623813ddce\",\"type\":\"Text\"},{\"attributes\":{},\"id\":\"e4b33b4b-1d22-4c69-b7aa-340ebe28556c\",\"type\":\"Selection\"},{\"attributes\":{\"text_align\":\"center\",\"text_alpha\":{\"value\":0.1},\"text_color\":{\"value\":\"black\"},\"text_font_size\":{\"value\":\"10pt\"},\"x\":{\"value\":9.912939847496736},\"y\":{\"value\":8.820837274485992}},\"id\":\"0482ef7c-b294-4700-b214-b1f5c2b34e45\",\"type\":\"Text\"},{\"attributes\":{},\"id\":\"27b12d3a-ced7-4260-baed-c5eab50ed8e4\",\"type\":\"UnionRenderers\"},{\"attributes\":{\"data_source\":{\"id\":\"6700f8dc-1f2e-41b4-a093-c2ba4e13d33a\",\"type\":\"ColumnDataSource\"},\"glyph\":{\"id\":\"a0af8666-fa94-4c1d-8cbe-58623813ddce\",\"type\":\"Text\"},\"hover_glyph\":null,\"muted_glyph\":null,\"nonselection_glyph\":{\"id\":\"0482ef7c-b294-4700-b214-b1f5c2b34e45\",\"type\":\"Text\"},\"selection_glyph\":null,\"view\":{\"id\":\"3c479f4f-ba71-419c-93f7-bf0262dc585f\",\"type\":\"CDSView\"}},\"id\":\"4fdec9c4-4140-4dd5-bb5d-da233215070b\",\"type\":\"GlyphRenderer\"},{\"attributes\":{},\"id\":\"534d9fe8-851d-4a59-bd61-7a65107c72a5\",\"type\":\"Selection\"},{\"attributes\":{\"source\":{\"id\":\"6700f8dc-1f2e-41b4-a093-c2ba4e13d33a\",\"type\":\"ColumnDataSource\"}},\"id\":\"3c479f4f-ba71-419c-93f7-bf0262dc585f\",\"type\":\"CDSView\"},{\"attributes\":{},\"id\":\"fb4b12a2-9e9c-4281-8383-1aba5a65b4ba\",\"type\":\"UnionRenderers\"},{\"attributes\":{\"fill_alpha\":{\"value\":0.1},\"fill_color\":{\"value\":\"#1f77b4\"},\"line_alpha\":{\"value\":0.1},\"line_color\":{\"value\":\"#1f77b4\"},\"size\":{\"units\":\"screen\",\"value\":5},\"x\":{\"field\":\"x\"},\"y\":{\"field\":\"y\"}},\"id\":\"fbaed37b-efc2-4dae-a4c2-59943da9e905\",\"type\":\"Circle\"},{\"attributes\":{\"callback\":null,\"data\":{\"text\":[\"point #3\"]},\"selected\":{\"id\":\"e4b33b4b-1d22-4c69-b7aa-340ebe28556c\",\"type\":\"Selection\"},\"selection_policy\":{\"id\":\"27b12d3a-ced7-4260-baed-c5eab50ed8e4\",\"type\":\"UnionRenderers\"}},\"id\":\"c5987a73-32f5-4bad-b453-c873e03b16bc\",\"type\":\"ColumnDataSource\"},{\"attributes\":{},\"id\":\"45ea31e7-ae82-4b10-b77b-b3082e30e4f6\",\"type\":\"Selection\"},{\"attributes\":{\"text_align\":\"center\",\"text_color\":{\"value\":\"firebrick\"},\"text_font_size\":{\"value\":\"10pt\"},\"x\":{\"value\":3.416751816278751},\"y\":{\"value\":3.2793537257879755}},\"id\":\"8e81bd6f-ab6c-4162-966a-664ae2618978\",\"type\":\"Text\"},{\"attributes\":{},\"id\":\"e41cb0f3-fd31-4a1d-a87f-5c09bf3ac609\",\"type\":\"PanTool\"},{\"attributes\":{},\"id\":\"94ab47ea-21fc-481f-ad30-73611c6be779\",\"type\":\"UnionRenderers\"},{\"attributes\":{},\"id\":\"aad13158-2b67-4ecd-9ea5-221fe6c74592\",\"type\":\"ResetTool\"},{\"attributes\":{},\"id\":\"ea6b1372-15b8-4c23-bdf4-f93d1e2bd7ad\",\"type\":\"WheelZoomTool\"},{\"attributes\":{\"overlay\":{\"id\":\"8e4b2c6f-4f12-4934-99a0-2ff2cb472756\",\"type\":\"BoxAnnotation\"}},\"id\":\"d541d568-9667-4d13-9010-892efabecacd\",\"type\":\"BoxZoomTool\"},{\"attributes\":{},\"id\":\"70baf6fe-ab33-4e9d-ad2e-0499d95f9a3d\",\"type\":\"SaveTool\"},{\"attributes\":{\"fill_alpha\":{\"value\":0.5},\"fill_color\":{\"value\":\"orange\"},\"line_alpha\":{\"value\":0.5},\"line_color\":{\"value\":\"navy\"},\"size\":{\"units\":\"screen\",\"value\":5},\"x\":{\"field\":\"x\"},\"y\":{\"field\":\"y\"}},\"id\":\"b93ec182-b89e-4bae-b51e-e1a303401a6b\",\"type\":\"Circle\"},{\"attributes\":{\"source\":{\"id\":\"e9fd63be-c136-4347-ac12-1c674697e853\",\"type\":\"ColumnDataSource\"}},\"id\":\"c5d7c75e-db28-4431-8fd5-df683f1f8d4a\",\"type\":\"CDSView\"},{\"attributes\":{\"callback\":null,\"data\":{\"text\":[\"point #1\"]},\"selected\":{\"id\":\"61252e12-b898-4169-be04-01ac78580bf1\",\"type\":\"Selection\"},\"selection_policy\":{\"id\":\"e88baf13-d6ee-4d2b-bce5-edc33695c60b\",\"type\":\"UnionRenderers\"}},\"id\":\"3dc99435-0016-48e6-a4ee-ecd6add812cc\",\"type\":\"ColumnDataSource\"},{\"attributes\":{\"formatter\":{\"id\":\"db8d4066-5c6d-4e8c-9c29-4ed1c27eeeee\",\"type\":\"BasicTickFormatter\"},\"plot\":{\"id\":\"662e5f7d-bcf3-45dc-b6dc-82068aa3756a\",\"subtype\":\"Figure\",\"type\":\"Plot\"},\"ticker\":{\"id\":\"bb28580b-98db-44c6-a8dd-fd1403e2d41c\",\"type\":\"BasicTicker\"}},\"id\":\"d4a6b57a-8473-4150-899e-b17c1f83d84d\",\"type\":\"LinearAxis\"},{\"attributes\":{},\"id\":\"580c2ff0-9f2d-4875-a185-9bb12a03200f\",\"type\":\"Selection\"},{\"attributes\":{\"text_align\":\"center\",\"text_color\":{\"value\":\"firebrick\"},\"text_font_size\":{\"value\":\"10pt\"},\"x\":{\"value\":2.805834199207707},\"y\":{\"value\":7.243439992662364}},\"id\":\"d6507023-ccad-4613-b30d-0abb054556e7\",\"type\":\"Text\"},{\"attributes\":{},\"id\":\"db8d4066-5c6d-4e8c-9c29-4ed1c27eeeee\",\"type\":\"BasicTickFormatter\"},{\"attributes\":{\"callback\":null,\"data\":{\"x\":{\"__ndarray__\":\"Fl32zPILBkDR025A07kjQKJThZMb7wpABxfB2UewHUBMBMZqsqcMQA==\",\"dtype\":\"float64\",\"shape\":[5]},\"y\":{\"__ndarray__\":\"suQoIhXGHEAE6eguq4ohQAXN+2e31QlA9CF0yKn0I0BdytSOfNYiQA==\",\"dtype\":\"float64\",\"shape\":[5]}},\"selected\":{\"id\":\"580c2ff0-9f2d-4875-a185-9bb12a03200f\",\"type\":\"Selection\"},\"selection_policy\":{\"id\":\"808f83ac-b54a-445e-b27d-4966db63a728\",\"type\":\"UnionRenderers\"}},\"id\":\"e9fd63be-c136-4347-ac12-1c674697e853\",\"type\":\"ColumnDataSource\"},{\"attributes\":{\"data_source\":{\"id\":\"3dc99435-0016-48e6-a4ee-ecd6add812cc\",\"type\":\"ColumnDataSource\"},\"glyph\":{\"id\":\"d6507023-ccad-4613-b30d-0abb054556e7\",\"type\":\"Text\"},\"hover_glyph\":null,\"muted_glyph\":null,\"nonselection_glyph\":{\"id\":\"16c5b19e-7739-478e-baca-b963569d6c6c\",\"type\":\"Text\"},\"selection_glyph\":null,\"view\":{\"id\":\"9b7b9d66-8dd5-4cbd-a622-c55cbf391587\",\"type\":\"CDSView\"}},\"id\":\"e3323ea4-64ad-42db-9637-7be9f59fbf6b\",\"type\":\"GlyphRenderer\"},{\"attributes\":{\"background_fill_color\":{\"value\":\"white\"},\"below\":[{\"id\":\"23caa60b-17de-4525-b7d3-f0deda6f7507\",\"type\":\"LinearAxis\"}],\"height\":200,\"left\":[{\"id\":\"d4a6b57a-8473-4150-899e-b17c1f83d84d\",\"type\":\"LinearAxis\"}],\"renderers\":[{\"id\":\"23caa60b-17de-4525-b7d3-f0deda6f7507\",\"type\":\"LinearAxis\"},{\"id\":\"99599ab6-b423-4c39-8092-d215ce99b510\",\"type\":\"Grid\"},{\"id\":\"d4a6b57a-8473-4150-899e-b17c1f83d84d\",\"type\":\"LinearAxis\"},{\"id\":\"4818d0a6-0d55-4e05-9ece-12273005073b\",\"type\":\"Grid\"},{\"id\":\"8e4b2c6f-4f12-4934-99a0-2ff2cb472756\",\"type\":\"BoxAnnotation\"},{\"id\":\"156c1208-c48a-4893-bba2-39e562c4e06b\",\"type\":\"GlyphRenderer\"},{\"id\":\"e3323ea4-64ad-42db-9637-7be9f59fbf6b\",\"type\":\"GlyphRenderer\"},{\"id\":\"4fdec9c4-4140-4dd5-bb5d-da233215070b\",\"type\":\"GlyphRenderer\"},{\"id\":\"4d1c0fea-f3d6-4a5b-9bc1-873e28214353\",\"type\":\"GlyphRenderer\"},{\"id\":\"ddbb3e00-49e7-469e-8d42-76d2231fd97c\",\"type\":\"GlyphRenderer\"},{\"id\":\"4a27541f-85f7-4cb0-a06e-ebcb25e7d377\",\"type\":\"GlyphRenderer\"}],\"title\":{\"id\":\"e215aca6-d537-4151-b3d0-ac132d911f2f\",\"type\":\"Title\"},\"toolbar\":{\"id\":\"7abad82d-4c5f-4b80-9f06-1a9cfe870a0c\",\"type\":\"Toolbar\"},\"width\":200,\"x_range\":{\"id\":\"64386ee3-f2aa-4887-85c9-8f135cddbc95\",\"type\":\"DataRange1d\"},\"x_scale\":{\"id\":\"2bb743af-2486-4e96-b630-e839869e2c49\",\"type\":\"LinearScale\"},\"y_range\":{\"id\":\"27b6b89f-f71e-4376-a917-ffe7ac147837\",\"type\":\"DataRange1d\"},\"y_scale\":{\"id\":\"1286a977-235c-48aa-9765-de43fa97c8cf\",\"type\":\"LinearScale\"}},\"id\":\"662e5f7d-bcf3-45dc-b6dc-82068aa3756a\",\"subtype\":\"Figure\",\"type\":\"Plot\"},{\"attributes\":{\"plot\":null,\"text\":\"Bokeh Markers\"},\"id\":\"e215aca6-d537-4151-b3d0-ac132d911f2f\",\"type\":\"Title\"},{\"attributes\":{\"callback\":null},\"id\":\"64386ee3-f2aa-4887-85c9-8f135cddbc95\",\"type\":\"DataRange1d\"},{\"attributes\":{\"active_drag\":\"auto\",\"active_inspect\":\"auto\",\"active_multi\":null,\"active_scroll\":\"auto\",\"active_tap\":\"auto\",\"tools\":[{\"id\":\"e41cb0f3-fd31-4a1d-a87f-5c09bf3ac609\",\"type\":\"PanTool\"},{\"id\":\"ea6b1372-15b8-4c23-bdf4-f93d1e2bd7ad\",\"type\":\"WheelZoomTool\"},{\"id\":\"d541d568-9667-4d13-9010-892efabecacd\",\"type\":\"BoxZoomTool\"},{\"id\":\"70baf6fe-ab33-4e9d-ad2e-0499d95f9a3d\",\"type\":\"SaveTool\"},{\"id\":\"aad13158-2b67-4ecd-9ea5-221fe6c74592\",\"type\":\"ResetTool\"},{\"id\":\"e74621ec-b882-4586-ae9e-a6a69f5510b8\",\"type\":\"HelpTool\"}]},\"id\":\"7abad82d-4c5f-4b80-9f06-1a9cfe870a0c\",\"type\":\"Toolbar\"},{\"attributes\":{\"text_align\":\"center\",\"text_alpha\":{\"value\":0.1},\"text_color\":{\"value\":\"black\"},\"text_font_size\":{\"value\":\"10pt\"},\"x\":{\"value\":2.805834199207707},\"y\":{\"value\":7.243439992662364}},\"id\":\"16c5b19e-7739-478e-baca-b963569d6c6c\",\"type\":\"Text\"},{\"attributes\":{},\"id\":\"2bb743af-2486-4e96-b630-e839869e2c49\",\"type\":\"LinearScale\"},{\"attributes\":{\"callback\":null},\"id\":\"27b6b89f-f71e-4376-a917-ffe7ac147837\",\"type\":\"DataRange1d\"},{\"attributes\":{},\"id\":\"1286a977-235c-48aa-9765-de43fa97c8cf\",\"type\":\"LinearScale\"},{\"attributes\":{\"formatter\":{\"id\":\"28ea3dd1-7c05-409d-bfdd-bea3b5488375\",\"type\":\"BasicTickFormatter\"},\"plot\":{\"id\":\"662e5f7d-bcf3-45dc-b6dc-82068aa3756a\",\"subtype\":\"Figure\",\"type\":\"Plot\"},\"ticker\":{\"id\":\"b350318c-97bb-487a-8708-8454764ab67b\",\"type\":\"BasicTicker\"}},\"id\":\"23caa60b-17de-4525-b7d3-f0deda6f7507\",\"type\":\"LinearAxis\"},{\"attributes\":{},\"id\":\"b350318c-97bb-487a-8708-8454764ab67b\",\"type\":\"BasicTicker\"},{\"attributes\":{\"grid_line_color\":{\"value\":null},\"plot\":{\"id\":\"662e5f7d-bcf3-45dc-b6dc-82068aa3756a\",\"subtype\":\"Figure\",\"type\":\"Plot\"},\"ticker\":{\"id\":\"b350318c-97bb-487a-8708-8454764ab67b\",\"type\":\"BasicTicker\"}},\"id\":\"99599ab6-b423-4c39-8092-d215ce99b510\",\"type\":\"Grid\"},{\"attributes\":{\"source\":{\"id\":\"c5987a73-32f5-4bad-b453-c873e03b16bc\",\"type\":\"ColumnDataSource\"}},\"id\":\"3c343ddc-6728-43b8-b2c5-bd84b510a4c9\",\"type\":\"CDSView\"},{\"attributes\":{\"callback\":null,\"data\":{\"text\":[\"point #4\"]},\"selected\":{\"id\":\"534d9fe8-851d-4a59-bd61-7a65107c72a5\",\"type\":\"Selection\"},\"selection_policy\":{\"id\":\"fb4b12a2-9e9c-4281-8383-1aba5a65b4ba\",\"type\":\"UnionRenderers\"}},\"id\":\"21b8cb81-57de-4267-ac79-508df2143567\",\"type\":\"ColumnDataSource\"},{\"attributes\":{\"text_align\":\"center\",\"text_color\":{\"value\":\"firebrick\"},\"text_font_size\":{\"value\":\"10pt\"},\"x\":{\"value\":7.472149088297153},\"y\":{\"value\":10.027857841659877}},\"id\":\"310a81ff-584e-4867-88bc-6f62aedb12ac\",\"type\":\"Text\"},{\"attributes\":{\"text_align\":\"center\",\"text_alpha\":{\"value\":0.1},\"text_color\":{\"value\":\"black\"},\"text_font_size\":{\"value\":\"10pt\"},\"x\":{\"value\":7.472149088297153},\"y\":{\"value\":10.027857841659877}},\"id\":\"69160d07-95af-49a3-b08f-70125ed8d93d\",\"type\":\"Text\"},{\"attributes\":{\"data_source\":{\"id\":\"21b8cb81-57de-4267-ac79-508df2143567\",\"type\":\"ColumnDataSource\"},\"glyph\":{\"id\":\"310a81ff-584e-4867-88bc-6f62aedb12ac\",\"type\":\"Text\"},\"hover_glyph\":null,\"muted_glyph\":null,\"nonselection_glyph\":{\"id\":\"69160d07-95af-49a3-b08f-70125ed8d93d\",\"type\":\"Text\"},\"selection_glyph\":null,\"view\":{\"id\":\"baa8522f-1e9a-457f-becd-11fe08cf2801\",\"type\":\"CDSView\"}},\"id\":\"ddbb3e00-49e7-469e-8d42-76d2231fd97c\",\"type\":\"GlyphRenderer\"},{\"attributes\":{\"source\":{\"id\":\"21b8cb81-57de-4267-ac79-508df2143567\",\"type\":\"ColumnDataSource\"}},\"id\":\"baa8522f-1e9a-457f-becd-11fe08cf2801\",\"type\":\"CDSView\"},{\"attributes\":{\"callback\":null,\"data\":{\"text\":[\"point #5\"]},\"selected\":{\"id\":\"45ea31e7-ae82-4b10-b77b-b3082e30e4f6\",\"type\":\"Selection\"},\"selection_policy\":{\"id\":\"94ab47ea-21fc-481f-ad30-73611c6be779\",\"type\":\"UnionRenderers\"}},\"id\":\"56574c83-c43b-4968-b901-a4e5745a9853\",\"type\":\"ColumnDataSource\"},{\"attributes\":{\"text_align\":\"center\",\"text_color\":{\"value\":\"firebrick\"},\"text_font_size\":{\"value\":\"10pt\"},\"x\":{\"value\":3.6318832723312306},\"y\":{\"value\":9.468919051623727}},\"id\":\"5f72be9c-70f0-4e9e-b801-8448299702b8\",\"type\":\"Text\"},{\"attributes\":{\"text_align\":\"center\",\"text_alpha\":{\"value\":0.1},\"text_color\":{\"value\":\"black\"},\"text_font_size\":{\"value\":\"10pt\"},\"x\":{\"value\":3.6318832723312306},\"y\":{\"value\":9.468919051623727}},\"id\":\"a27ceab6-5043-489b-892a-04670026f7a1\",\"type\":\"Text\"},{\"attributes\":{\"data_source\":{\"id\":\"56574c83-c43b-4968-b901-a4e5745a9853\",\"type\":\"ColumnDataSource\"},\"glyph\":{\"id\":\"5f72be9c-70f0-4e9e-b801-8448299702b8\",\"type\":\"Text\"},\"hover_glyph\":null,\"muted_glyph\":null,\"nonselection_glyph\":{\"id\":\"a27ceab6-5043-489b-892a-04670026f7a1\",\"type\":\"Text\"},\"selection_glyph\":null,\"view\":{\"id\":\"6b24388c-b0f9-4397-a137-cfd33e33e585\",\"type\":\"CDSView\"}},\"id\":\"4a27541f-85f7-4cb0-a06e-ebcb25e7d377\",\"type\":\"GlyphRenderer\"},{\"attributes\":{\"source\":{\"id\":\"56574c83-c43b-4968-b901-a4e5745a9853\",\"type\":\"ColumnDataSource\"}},\"id\":\"6b24388c-b0f9-4397-a137-cfd33e33e585\",\"type\":\"CDSView\"},{\"attributes\":{\"data_source\":{\"id\":\"e9fd63be-c136-4347-ac12-1c674697e853\",\"type\":\"ColumnDataSource\"},\"glyph\":{\"id\":\"b93ec182-b89e-4bae-b51e-e1a303401a6b\",\"type\":\"Circle\"},\"hover_glyph\":null,\"muted_glyph\":null,\"nonselection_glyph\":{\"id\":\"fbaed37b-efc2-4dae-a4c2-59943da9e905\",\"type\":\"Circle\"},\"selection_glyph\":null,\"view\":{\"id\":\"c5d7c75e-db28-4431-8fd5-df683f1f8d4a\",\"type\":\"CDSView\"}},\"id\":\"156c1208-c48a-4893-bba2-39e562c4e06b\",\"type\":\"GlyphRenderer\"},{\"attributes\":{},\"id\":\"28ea3dd1-7c05-409d-bfdd-bea3b5488375\",\"type\":\"BasicTickFormatter\"}],\"root_ids\":[\"662e5f7d-bcf3-45dc-b6dc-82068aa3756a\"]},\"title\":\"Bokeh Application\",\"version\":\"0.13.0\"}};\n",
       "  var render_items = [{\"docid\":\"554fdf92-fb03-44f4-8b7e-d1d6a2c80a51\",\"roots\":{\"662e5f7d-bcf3-45dc-b6dc-82068aa3756a\":\"66caa613-1c55-4621-b872-0d0cd0e0d8e2\"}}];\n",
       "  root.Bokeh.embed.embed_items_notebook(docs_json, render_items);\n",
       "\n",
       "  }\n",
       "  if (root.Bokeh !== undefined) {\n",
       "    embed_document(root);\n",
       "  } else {\n",
       "    var attempts = 0;\n",
       "    var timer = setInterval(function(root) {\n",
       "      if (root.Bokeh !== undefined) {\n",
       "        embed_document(root);\n",
       "        clearInterval(timer);\n",
       "      }\n",
       "      attempts++;\n",
       "      if (attempts > 100) {\n",
       "        console.log(\"Bokeh: ERROR: Unable to run BokehJS code because BokehJS library is missing\")\n",
       "        clearInterval(timer);\n",
       "      }\n",
       "    }, 10, root)\n",
       "  }\n",
       "})(window);"
      ],
      "application/vnd.bokehjs_exec.v0+json": ""
     },
     "metadata": {
      "application/vnd.bokehjs_exec.v0+json": {
       "id": "662e5f7d-bcf3-45dc-b6dc-82068aa3756a"
      }
     },
     "output_type": "display_data"
    }
   ],
   "source": [
    "# resize\n",
    "p.width = 200\n",
    "p.height = 200\n",
    "\n",
    "# show\n",
    "show(p)"
   ]
  },
  {
   "cell_type": "markdown",
   "metadata": {},
   "source": [
    "figure 를 html 로 저장할 수 있습니다. output_file 을 이용합니다. static file 위치를 정한 것이므로, show 를 한 번 더 하면 저장됩니다."
   ]
  },
  {
   "cell_type": "code",
   "execution_count": 6,
   "metadata": {
    "collapsed": true
   },
   "outputs": [],
   "source": [
    "from bokeh.io import save\n",
    "\n",
    "reset_output() # 여러 그림들이 겹치지 않기 위하여 reset_output 을 반드시 실행시킵니다.\n",
    "path = save(p, './bokeh_scatterplot.html')"
   ]
  },
  {
   "cell_type": "markdown",
   "metadata": {},
   "source": [
    "Hover tool 도 제공하기 때문에 interactive 한 plotting 도 할 수 있습니다."
   ]
  },
  {
   "cell_type": "code",
   "execution_count": 7,
   "metadata": {
    "collapsed": true
   },
   "outputs": [],
   "source": [
    "from bokeh.plotting import ColumnDataSource\n",
    "\n",
    "source = ColumnDataSource(data=dict(\n",
    "    x = data[:,0].tolist(),\n",
    "    y = data[:,1].tolist(),\n",
    "    desc= ['point #{}'.format(idx+1) for idx in range(data.shape[0])]\n",
    "))\n",
    "\n",
    "TOOLTIPS = [\n",
    "    (\"index\", \"$index\"), # $ 표시는 figure 에서 이용하는 변수\n",
    "    (\"(x,y)\", \"($x, $y)\"),\n",
    "    (\"desc\", \"@desc\"),   # @ 표시는 figure 에서 이용하지 않는 변수\n",
    "]\n",
    "\n",
    "p = figure(plot_width=600, plot_height=600, tooltips=TOOLTIPS,\n",
    "           title=\"Mouse over the dots\")\n",
    "\n",
    "p.circle('x', 'y', size=20, source=source)\n",
    "show(p)\n",
    "\n",
    "reset_output()\n",
    "path = save(p, './bokeh_hover.html')"
   ]
  },
  {
   "cell_type": "markdown",
   "metadata": {},
   "source": [
    "see more https://bokeh.pydata.org/en/latest/docs/user_guide/tools.html"
   ]
  },
  {
   "cell_type": "code",
   "execution_count": null,
   "metadata": {
    "collapsed": true
   },
   "outputs": [],
   "source": []
  }
 ],
 "metadata": {
  "kernelspec": {
   "display_name": "Python 3",
   "language": "python",
   "name": "python3"
  },
  "language_info": {
   "codemirror_mode": {
    "name": "ipython",
    "version": 3
   },
   "file_extension": ".py",
   "mimetype": "text/x-python",
   "name": "python",
   "nbconvert_exporter": "python",
   "pygments_lexer": "ipython3",
   "version": "3.6.2"
  }
 },
 "nbformat": 4,
 "nbformat_minor": 2
}
