{
 "cells": [
  {
   "cell_type": "markdown",
   "metadata": {},
   "source": [
    "### Load data\n",
    "\n",
    "앞서 학습한 doc2vec model 을 읽어옵니다."
   ]
  },
  {
   "cell_type": "code",
   "execution_count": 1,
   "metadata": {},
   "outputs": [
    {
     "name": "stdout",
     "output_type": "stream",
     "text": [
      "soynlp=0.0.49\n",
      "added lovit_textmining_dataset\n",
      "Gensim version = 3.6.0\n"
     ]
    }
   ],
   "source": [
    "import config\n",
    "import gensim\n",
    "print('Gensim version = {}'.format(gensim.__version__))\n",
    "\n",
    "import warnings\n",
    "warnings.filterwarnings('ignore')"
   ]
  },
  {
   "cell_type": "markdown",
   "metadata": {},
   "source": [
    "이전 (Gensim <= 3.6.x) 에는 document vectors 가 `Doc2Vec.docvecs.doctag_syn0` 에 있었습니다.\n",
    "\n",
    "Gensim >= 4.0.0 이후에 `Doc2Vec.docvecs.vectors_docs` 로 옮겨집니다."
   ]
  },
  {
   "cell_type": "code",
   "execution_count": 2,
   "metadata": {},
   "outputs": [
    {
     "name": "stdout",
     "output_type": "stream",
     "text": [
      "(172, 100)\n",
      "<class 'numpy.ndarray'>\n"
     ]
    }
   ],
   "source": [
    "from navermovie_comments import load_trained_embedding\n",
    "from navermovie_comments import load_id_to_movie\n",
    "\n",
    "\n",
    "tag_to_movie = load_id_to_movie()\n",
    "tag_to_movie = {'#%s'%idx:movie for idx, movie in tag_to_movie.items()}\n",
    "\n",
    "doc2vec_model = load_trained_embedding(\n",
    "    data_name='large',\n",
    "    tokenize='soynlp_unsup',\n",
    "    embedding='doc2vec')\n",
    "\n",
    "print(doc2vec_model.docvecs.vectors_docs.shape)\n",
    "print(type(doc2vec_model.docvecs.vectors_docs))"
   ]
  },
  {
   "cell_type": "code",
   "execution_count": 3,
   "metadata": {},
   "outputs": [
    {
     "data": {
      "text/plain": [
       "['고사 두 번째 이야기: 교생실습', '박쥐', '해무']"
      ]
     },
     "execution_count": 3,
     "metadata": {},
     "output_type": "execute_result"
    }
   ],
   "source": [
    "doctags = doc2vec_model.docvecs.doctags\n",
    "tag_to_idx = {tag:info.offset for tag, info in doctags.items()}\n",
    "idx_to_tag = [tag for tag, idx in sorted(tag_to_idx.items(), key=lambda x:x[1])]\n",
    "idx_to_movie = [tag_to_movie[tag] for tag in idx_to_tag]\n",
    "\n",
    "idx_to_movie[:3]"
   ]
  },
  {
   "cell_type": "markdown",
   "metadata": {},
   "source": [
    "### t-SNE"
   ]
  },
  {
   "cell_type": "code",
   "execution_count": 7,
   "metadata": {},
   "outputs": [
    {
     "name": "stdout",
     "output_type": "stream",
     "text": [
      "CPU times: user 848 ms, sys: 252 ms, total: 1.1 s\n",
      "Wall time: 772 ms\n"
     ]
    }
   ],
   "source": [
    "%%time \n",
    "\n",
    "from sklearn.manifold import TSNE\n",
    "\n",
    "tsne = TSNE(n_components=2, metric='cosine')\n",
    "y_tsne = tsne.fit_transform(doc2vec_model.docvecs.vectors_docs)"
   ]
  },
  {
   "cell_type": "markdown",
   "metadata": {},
   "source": [
    "### preparing Bokeh"
   ]
  },
  {
   "cell_type": "code",
   "execution_count": 8,
   "metadata": {},
   "outputs": [
    {
     "data": {
      "text/html": [
       "\n",
       "    <div class=\"bk-root\">\n",
       "        <a href=\"https://bokeh.pydata.org\" target=\"_blank\" class=\"bk-logo bk-logo-small bk-logo-notebook\"></a>\n",
       "        <span id=\"87aa2ad8-bb2d-4fe4-bebe-a7e6f7a93e4c\">Loading BokehJS ...</span>\n",
       "    </div>"
      ]
     },
     "metadata": {},
     "output_type": "display_data"
    },
    {
     "data": {
      "application/javascript": [
       "\n",
       "(function(root) {\n",
       "  function now() {\n",
       "    return new Date();\n",
       "  }\n",
       "\n",
       "  var force = true;\n",
       "\n",
       "  if (typeof (root._bokeh_onload_callbacks) === \"undefined\" || force === true) {\n",
       "    root._bokeh_onload_callbacks = [];\n",
       "    root._bokeh_is_loading = undefined;\n",
       "  }\n",
       "\n",
       "  var JS_MIME_TYPE = 'application/javascript';\n",
       "  var HTML_MIME_TYPE = 'text/html';\n",
       "  var EXEC_MIME_TYPE = 'application/vnd.bokehjs_exec.v0+json';\n",
       "  var CLASS_NAME = 'output_bokeh rendered_html';\n",
       "\n",
       "  /**\n",
       "   * Render data to the DOM node\n",
       "   */\n",
       "  function render(props, node) {\n",
       "    var script = document.createElement(\"script\");\n",
       "    node.appendChild(script);\n",
       "  }\n",
       "\n",
       "  /**\n",
       "   * Handle when an output is cleared or removed\n",
       "   */\n",
       "  function handleClearOutput(event, handle) {\n",
       "    var cell = handle.cell;\n",
       "\n",
       "    var id = cell.output_area._bokeh_element_id;\n",
       "    var server_id = cell.output_area._bokeh_server_id;\n",
       "    // Clean up Bokeh references\n",
       "    if (id != null && id in Bokeh.index) {\n",
       "      Bokeh.index[id].model.document.clear();\n",
       "      delete Bokeh.index[id];\n",
       "    }\n",
       "\n",
       "    if (server_id !== undefined) {\n",
       "      // Clean up Bokeh references\n",
       "      var cmd = \"from bokeh.io.state import curstate; print(curstate().uuid_to_server['\" + server_id + \"'].get_sessions()[0].document.roots[0]._id)\";\n",
       "      cell.notebook.kernel.execute(cmd, {\n",
       "        iopub: {\n",
       "          output: function(msg) {\n",
       "            var id = msg.content.text.trim();\n",
       "            if (id in Bokeh.index) {\n",
       "              Bokeh.index[id].model.document.clear();\n",
       "              delete Bokeh.index[id];\n",
       "            }\n",
       "          }\n",
       "        }\n",
       "      });\n",
       "      // Destroy server and session\n",
       "      var cmd = \"import bokeh.io.notebook as ion; ion.destroy_server('\" + server_id + \"')\";\n",
       "      cell.notebook.kernel.execute(cmd);\n",
       "    }\n",
       "  }\n",
       "\n",
       "  /**\n",
       "   * Handle when a new output is added\n",
       "   */\n",
       "  function handleAddOutput(event, handle) {\n",
       "    var output_area = handle.output_area;\n",
       "    var output = handle.output;\n",
       "\n",
       "    // limit handleAddOutput to display_data with EXEC_MIME_TYPE content only\n",
       "    if ((output.output_type != \"display_data\") || (!output.data.hasOwnProperty(EXEC_MIME_TYPE))) {\n",
       "      return\n",
       "    }\n",
       "\n",
       "    var toinsert = output_area.element.find(\".\" + CLASS_NAME.split(' ')[0]);\n",
       "\n",
       "    if (output.metadata[EXEC_MIME_TYPE][\"id\"] !== undefined) {\n",
       "      toinsert[toinsert.length - 1].firstChild.textContent = output.data[JS_MIME_TYPE];\n",
       "      // store reference to embed id on output_area\n",
       "      output_area._bokeh_element_id = output.metadata[EXEC_MIME_TYPE][\"id\"];\n",
       "    }\n",
       "    if (output.metadata[EXEC_MIME_TYPE][\"server_id\"] !== undefined) {\n",
       "      var bk_div = document.createElement(\"div\");\n",
       "      bk_div.innerHTML = output.data[HTML_MIME_TYPE];\n",
       "      var script_attrs = bk_div.children[0].attributes;\n",
       "      for (var i = 0; i < script_attrs.length; i++) {\n",
       "        toinsert[toinsert.length - 1].firstChild.setAttribute(script_attrs[i].name, script_attrs[i].value);\n",
       "      }\n",
       "      // store reference to server id on output_area\n",
       "      output_area._bokeh_server_id = output.metadata[EXEC_MIME_TYPE][\"server_id\"];\n",
       "    }\n",
       "  }\n",
       "\n",
       "  function register_renderer(events, OutputArea) {\n",
       "\n",
       "    function append_mime(data, metadata, element) {\n",
       "      // create a DOM node to render to\n",
       "      var toinsert = this.create_output_subarea(\n",
       "        metadata,\n",
       "        CLASS_NAME,\n",
       "        EXEC_MIME_TYPE\n",
       "      );\n",
       "      this.keyboard_manager.register_events(toinsert);\n",
       "      // Render to node\n",
       "      var props = {data: data, metadata: metadata[EXEC_MIME_TYPE]};\n",
       "      render(props, toinsert[toinsert.length - 1]);\n",
       "      element.append(toinsert);\n",
       "      return toinsert\n",
       "    }\n",
       "\n",
       "    /* Handle when an output is cleared or removed */\n",
       "    events.on('clear_output.CodeCell', handleClearOutput);\n",
       "    events.on('delete.Cell', handleClearOutput);\n",
       "\n",
       "    /* Handle when a new output is added */\n",
       "    events.on('output_added.OutputArea', handleAddOutput);\n",
       "\n",
       "    /**\n",
       "     * Register the mime type and append_mime function with output_area\n",
       "     */\n",
       "    OutputArea.prototype.register_mime_type(EXEC_MIME_TYPE, append_mime, {\n",
       "      /* Is output safe? */\n",
       "      safe: true,\n",
       "      /* Index of renderer in `output_area.display_order` */\n",
       "      index: 0\n",
       "    });\n",
       "  }\n",
       "\n",
       "  // register the mime type if in Jupyter Notebook environment and previously unregistered\n",
       "  if (root.Jupyter !== undefined) {\n",
       "    var events = require('base/js/events');\n",
       "    var OutputArea = require('notebook/js/outputarea').OutputArea;\n",
       "\n",
       "    if (OutputArea.prototype.mime_types().indexOf(EXEC_MIME_TYPE) == -1) {\n",
       "      register_renderer(events, OutputArea);\n",
       "    }\n",
       "  }\n",
       "\n",
       "  \n",
       "  if (typeof (root._bokeh_timeout) === \"undefined\" || force === true) {\n",
       "    root._bokeh_timeout = Date.now() + 5000;\n",
       "    root._bokeh_failed_load = false;\n",
       "  }\n",
       "\n",
       "  var NB_LOAD_WARNING = {'data': {'text/html':\n",
       "     \"<div style='background-color: #fdd'>\\n\"+\n",
       "     \"<p>\\n\"+\n",
       "     \"BokehJS does not appear to have successfully loaded. If loading BokehJS from CDN, this \\n\"+\n",
       "     \"may be due to a slow or bad network connection. Possible fixes:\\n\"+\n",
       "     \"</p>\\n\"+\n",
       "     \"<ul>\\n\"+\n",
       "     \"<li>re-rerun `output_notebook()` to attempt to load from CDN again, or</li>\\n\"+\n",
       "     \"<li>use INLINE resources instead, as so:</li>\\n\"+\n",
       "     \"</ul>\\n\"+\n",
       "     \"<code>\\n\"+\n",
       "     \"from bokeh.resources import INLINE\\n\"+\n",
       "     \"output_notebook(resources=INLINE)\\n\"+\n",
       "     \"</code>\\n\"+\n",
       "     \"</div>\"}};\n",
       "\n",
       "  function display_loaded() {\n",
       "    var el = document.getElementById(\"87aa2ad8-bb2d-4fe4-bebe-a7e6f7a93e4c\");\n",
       "    if (el != null) {\n",
       "      el.textContent = \"BokehJS is loading...\";\n",
       "    }\n",
       "    if (root.Bokeh !== undefined) {\n",
       "      if (el != null) {\n",
       "        el.textContent = \"BokehJS \" + root.Bokeh.version + \" successfully loaded.\";\n",
       "      }\n",
       "    } else if (Date.now() < root._bokeh_timeout) {\n",
       "      setTimeout(display_loaded, 100)\n",
       "    }\n",
       "  }\n",
       "\n",
       "\n",
       "  function run_callbacks() {\n",
       "    try {\n",
       "      root._bokeh_onload_callbacks.forEach(function(callback) { callback() });\n",
       "    }\n",
       "    finally {\n",
       "      delete root._bokeh_onload_callbacks\n",
       "    }\n",
       "    console.info(\"Bokeh: all callbacks have finished\");\n",
       "  }\n",
       "\n",
       "  function load_libs(js_urls, callback) {\n",
       "    root._bokeh_onload_callbacks.push(callback);\n",
       "    if (root._bokeh_is_loading > 0) {\n",
       "      console.log(\"Bokeh: BokehJS is being loaded, scheduling callback at\", now());\n",
       "      return null;\n",
       "    }\n",
       "    if (js_urls == null || js_urls.length === 0) {\n",
       "      run_callbacks();\n",
       "      return null;\n",
       "    }\n",
       "    console.log(\"Bokeh: BokehJS not loaded, scheduling load and callback at\", now());\n",
       "    root._bokeh_is_loading = js_urls.length;\n",
       "    for (var i = 0; i < js_urls.length; i++) {\n",
       "      var url = js_urls[i];\n",
       "      var s = document.createElement('script');\n",
       "      s.src = url;\n",
       "      s.async = false;\n",
       "      s.onreadystatechange = s.onload = function() {\n",
       "        root._bokeh_is_loading--;\n",
       "        if (root._bokeh_is_loading === 0) {\n",
       "          console.log(\"Bokeh: all BokehJS libraries loaded\");\n",
       "          run_callbacks()\n",
       "        }\n",
       "      };\n",
       "      s.onerror = function() {\n",
       "        console.warn(\"failed to load library \" + url);\n",
       "      };\n",
       "      console.log(\"Bokeh: injecting script tag for BokehJS library: \", url);\n",
       "      document.getElementsByTagName(\"head\")[0].appendChild(s);\n",
       "    }\n",
       "  };var element = document.getElementById(\"87aa2ad8-bb2d-4fe4-bebe-a7e6f7a93e4c\");\n",
       "  if (element == null) {\n",
       "    console.log(\"Bokeh: ERROR: autoload.js configured with elementid '87aa2ad8-bb2d-4fe4-bebe-a7e6f7a93e4c' but no matching script tag was found. \")\n",
       "    return false;\n",
       "  }\n",
       "\n",
       "  var js_urls = [\"https://cdn.pydata.org/bokeh/release/bokeh-0.13.0.min.js\", \"https://cdn.pydata.org/bokeh/release/bokeh-widgets-0.13.0.min.js\", \"https://cdn.pydata.org/bokeh/release/bokeh-tables-0.13.0.min.js\", \"https://cdn.pydata.org/bokeh/release/bokeh-gl-0.13.0.min.js\"];\n",
       "\n",
       "  var inline_js = [\n",
       "    function(Bokeh) {\n",
       "      Bokeh.set_log_level(\"info\");\n",
       "    },\n",
       "    \n",
       "    function(Bokeh) {\n",
       "      \n",
       "    },\n",
       "    function(Bokeh) {\n",
       "      console.log(\"Bokeh: injecting CSS: https://cdn.pydata.org/bokeh/release/bokeh-0.13.0.min.css\");\n",
       "      Bokeh.embed.inject_css(\"https://cdn.pydata.org/bokeh/release/bokeh-0.13.0.min.css\");\n",
       "      console.log(\"Bokeh: injecting CSS: https://cdn.pydata.org/bokeh/release/bokeh-widgets-0.13.0.min.css\");\n",
       "      Bokeh.embed.inject_css(\"https://cdn.pydata.org/bokeh/release/bokeh-widgets-0.13.0.min.css\");\n",
       "      console.log(\"Bokeh: injecting CSS: https://cdn.pydata.org/bokeh/release/bokeh-tables-0.13.0.min.css\");\n",
       "      Bokeh.embed.inject_css(\"https://cdn.pydata.org/bokeh/release/bokeh-tables-0.13.0.min.css\");\n",
       "    }\n",
       "  ];\n",
       "\n",
       "  function run_inline_js() {\n",
       "    \n",
       "    if ((root.Bokeh !== undefined) || (force === true)) {\n",
       "      for (var i = 0; i < inline_js.length; i++) {\n",
       "        inline_js[i].call(root, root.Bokeh);\n",
       "      }if (force === true) {\n",
       "        display_loaded();\n",
       "      }} else if (Date.now() < root._bokeh_timeout) {\n",
       "      setTimeout(run_inline_js, 100);\n",
       "    } else if (!root._bokeh_failed_load) {\n",
       "      console.log(\"Bokeh: BokehJS failed to load within specified timeout.\");\n",
       "      root._bokeh_failed_load = true;\n",
       "    } else if (force !== true) {\n",
       "      var cell = $(document.getElementById(\"87aa2ad8-bb2d-4fe4-bebe-a7e6f7a93e4c\")).parents('.cell').data().cell;\n",
       "      cell.output_area.append_execute_result(NB_LOAD_WARNING)\n",
       "    }\n",
       "\n",
       "  }\n",
       "\n",
       "  if (root._bokeh_is_loading === 0) {\n",
       "    console.log(\"Bokeh: BokehJS loaded, going straight to plotting\");\n",
       "    run_inline_js();\n",
       "  } else {\n",
       "    load_libs(js_urls, function() {\n",
       "      console.log(\"Bokeh: BokehJS plotting callback run at\", now());\n",
       "      run_inline_js();\n",
       "    });\n",
       "  }\n",
       "}(window));"
      ],
      "application/vnd.bokehjs_load.v0+json": "\n(function(root) {\n  function now() {\n    return new Date();\n  }\n\n  var force = true;\n\n  if (typeof (root._bokeh_onload_callbacks) === \"undefined\" || force === true) {\n    root._bokeh_onload_callbacks = [];\n    root._bokeh_is_loading = undefined;\n  }\n\n  \n\n  \n  if (typeof (root._bokeh_timeout) === \"undefined\" || force === true) {\n    root._bokeh_timeout = Date.now() + 5000;\n    root._bokeh_failed_load = false;\n  }\n\n  var NB_LOAD_WARNING = {'data': {'text/html':\n     \"<div style='background-color: #fdd'>\\n\"+\n     \"<p>\\n\"+\n     \"BokehJS does not appear to have successfully loaded. If loading BokehJS from CDN, this \\n\"+\n     \"may be due to a slow or bad network connection. Possible fixes:\\n\"+\n     \"</p>\\n\"+\n     \"<ul>\\n\"+\n     \"<li>re-rerun `output_notebook()` to attempt to load from CDN again, or</li>\\n\"+\n     \"<li>use INLINE resources instead, as so:</li>\\n\"+\n     \"</ul>\\n\"+\n     \"<code>\\n\"+\n     \"from bokeh.resources import INLINE\\n\"+\n     \"output_notebook(resources=INLINE)\\n\"+\n     \"</code>\\n\"+\n     \"</div>\"}};\n\n  function display_loaded() {\n    var el = document.getElementById(\"87aa2ad8-bb2d-4fe4-bebe-a7e6f7a93e4c\");\n    if (el != null) {\n      el.textContent = \"BokehJS is loading...\";\n    }\n    if (root.Bokeh !== undefined) {\n      if (el != null) {\n        el.textContent = \"BokehJS \" + root.Bokeh.version + \" successfully loaded.\";\n      }\n    } else if (Date.now() < root._bokeh_timeout) {\n      setTimeout(display_loaded, 100)\n    }\n  }\n\n\n  function run_callbacks() {\n    try {\n      root._bokeh_onload_callbacks.forEach(function(callback) { callback() });\n    }\n    finally {\n      delete root._bokeh_onload_callbacks\n    }\n    console.info(\"Bokeh: all callbacks have finished\");\n  }\n\n  function load_libs(js_urls, callback) {\n    root._bokeh_onload_callbacks.push(callback);\n    if (root._bokeh_is_loading > 0) {\n      console.log(\"Bokeh: BokehJS is being loaded, scheduling callback at\", now());\n      return null;\n    }\n    if (js_urls == null || js_urls.length === 0) {\n      run_callbacks();\n      return null;\n    }\n    console.log(\"Bokeh: BokehJS not loaded, scheduling load and callback at\", now());\n    root._bokeh_is_loading = js_urls.length;\n    for (var i = 0; i < js_urls.length; i++) {\n      var url = js_urls[i];\n      var s = document.createElement('script');\n      s.src = url;\n      s.async = false;\n      s.onreadystatechange = s.onload = function() {\n        root._bokeh_is_loading--;\n        if (root._bokeh_is_loading === 0) {\n          console.log(\"Bokeh: all BokehJS libraries loaded\");\n          run_callbacks()\n        }\n      };\n      s.onerror = function() {\n        console.warn(\"failed to load library \" + url);\n      };\n      console.log(\"Bokeh: injecting script tag for BokehJS library: \", url);\n      document.getElementsByTagName(\"head\")[0].appendChild(s);\n    }\n  };var element = document.getElementById(\"87aa2ad8-bb2d-4fe4-bebe-a7e6f7a93e4c\");\n  if (element == null) {\n    console.log(\"Bokeh: ERROR: autoload.js configured with elementid '87aa2ad8-bb2d-4fe4-bebe-a7e6f7a93e4c' but no matching script tag was found. \")\n    return false;\n  }\n\n  var js_urls = [\"https://cdn.pydata.org/bokeh/release/bokeh-0.13.0.min.js\", \"https://cdn.pydata.org/bokeh/release/bokeh-widgets-0.13.0.min.js\", \"https://cdn.pydata.org/bokeh/release/bokeh-tables-0.13.0.min.js\", \"https://cdn.pydata.org/bokeh/release/bokeh-gl-0.13.0.min.js\"];\n\n  var inline_js = [\n    function(Bokeh) {\n      Bokeh.set_log_level(\"info\");\n    },\n    \n    function(Bokeh) {\n      \n    },\n    function(Bokeh) {\n      console.log(\"Bokeh: injecting CSS: https://cdn.pydata.org/bokeh/release/bokeh-0.13.0.min.css\");\n      Bokeh.embed.inject_css(\"https://cdn.pydata.org/bokeh/release/bokeh-0.13.0.min.css\");\n      console.log(\"Bokeh: injecting CSS: https://cdn.pydata.org/bokeh/release/bokeh-widgets-0.13.0.min.css\");\n      Bokeh.embed.inject_css(\"https://cdn.pydata.org/bokeh/release/bokeh-widgets-0.13.0.min.css\");\n      console.log(\"Bokeh: injecting CSS: https://cdn.pydata.org/bokeh/release/bokeh-tables-0.13.0.min.css\");\n      Bokeh.embed.inject_css(\"https://cdn.pydata.org/bokeh/release/bokeh-tables-0.13.0.min.css\");\n    }\n  ];\n\n  function run_inline_js() {\n    \n    if ((root.Bokeh !== undefined) || (force === true)) {\n      for (var i = 0; i < inline_js.length; i++) {\n        inline_js[i].call(root, root.Bokeh);\n      }if (force === true) {\n        display_loaded();\n      }} else if (Date.now() < root._bokeh_timeout) {\n      setTimeout(run_inline_js, 100);\n    } else if (!root._bokeh_failed_load) {\n      console.log(\"Bokeh: BokehJS failed to load within specified timeout.\");\n      root._bokeh_failed_load = true;\n    } else if (force !== true) {\n      var cell = $(document.getElementById(\"87aa2ad8-bb2d-4fe4-bebe-a7e6f7a93e4c\")).parents('.cell').data().cell;\n      cell.output_area.append_execute_result(NB_LOAD_WARNING)\n    }\n\n  }\n\n  if (root._bokeh_is_loading === 0) {\n    console.log(\"Bokeh: BokehJS loaded, going straight to plotting\");\n    run_inline_js();\n  } else {\n    load_libs(js_urls, function() {\n      console.log(\"Bokeh: BokehJS plotting callback run at\", now());\n      run_inline_js();\n    });\n  }\n}(window));"
     },
     "metadata": {},
     "output_type": "display_data"
    }
   ],
   "source": [
    "from bokeh.plotting import figure, show, output_notebook\n",
    "from bokeh.plotting import ColumnDataSource\n",
    "\n",
    "output_notebook()\n",
    "\n",
    "def draw_scatterplot(tags, title, embedding):\n",
    "\n",
    "    # prepare data source\n",
    "\n",
    "    source = ColumnDataSource(data=dict(\n",
    "        x = embedding[:,0].tolist(),\n",
    "        y = embedding[:,1].tolist(),\n",
    "        desc= idx_to_movie\n",
    "    ))\n",
    "\n",
    "    TOOLTIPS = [\n",
    "        (\"(x,y)\", \"($x, $y)\"),\n",
    "        (\"desc\", \"@desc\"),\n",
    "    ]\n",
    "\n",
    "    # draw figure\n",
    "    p = figure(plot_width=600, plot_height=600, tooltips=TOOLTIPS, title=title)\n",
    "    p.grid.grid_line_color = None\n",
    "    p.background_fill_color = \"white\"\n",
    "    p.scatter('x', 'y', source=source, marker=\"circle\", size=5,\n",
    "        line_color=\"navy\", fill_color=\"orange\" , alpha=0.5)\n",
    "\n",
    "    def mtext(p, x, y, text):\n",
    "        p.text(x, y, text=[text], text_color=\"black\",\n",
    "               text_align=\"center\", text_font_size=\"10pt\")\n",
    "\n",
    "    # annotation\n",
    "    for tag in tags:\n",
    "        idx = tag_to_idx[tag]\n",
    "        movie = tag_to_movie[tag]\n",
    "        x, y = embedding[idx, 0], embedding[idx, 1]\n",
    "        mtext(p, x, y, movie)\n",
    "\n",
    "    return p"
   ]
  },
  {
   "cell_type": "code",
   "execution_count": 9,
   "metadata": {},
   "outputs": [
    {
     "data": {
      "text/html": [
       "\n",
       "\n",
       "\n",
       "\n",
       "\n",
       "\n",
       "  <div class=\"bk-root\" id=\"9f9c4ecd-63fe-4b48-9485-e282577190f6\"></div>\n"
      ]
     },
     "metadata": {},
     "output_type": "display_data"
    },
    {
     "data": {
      "application/javascript": [
       "(function(root) {\n",
       "  function embed_document(root) {\n",
       "    \n",
       "  var docs_json = {\"029d07e6-8a10-4e1e-8249-4004b5b9fcd0\":{\"roots\":{\"references\":[{\"attributes\":{},\"id\":\"f215065c-8553-490f-998a-8b945da7a90f\",\"type\":\"BasicTicker\"},{\"attributes\":{\"fill_alpha\":{\"value\":0.1},\"fill_color\":{\"value\":\"#1f77b4\"},\"line_alpha\":{\"value\":0.1},\"line_color\":{\"value\":\"#1f77b4\"},\"size\":{\"units\":\"screen\",\"value\":5},\"x\":{\"field\":\"x\"},\"y\":{\"field\":\"y\"}},\"id\":\"1b325eed-512f-4ae0-92da-996603076a6e\",\"type\":\"Circle\"},{\"attributes\":{},\"id\":\"489c2b25-a380-4566-8059-5a6aa6a24835\",\"type\":\"Selection\"},{\"attributes\":{\"formatter\":{\"id\":\"bf93c81a-f480-40f1-a198-1862c03eeaa3\",\"type\":\"BasicTickFormatter\"},\"plot\":{\"id\":\"b13923f1-489e-4fd7-9da1-72cae8ddda7e\",\"subtype\":\"Figure\",\"type\":\"Plot\"},\"ticker\":{\"id\":\"f215065c-8553-490f-998a-8b945da7a90f\",\"type\":\"BasicTicker\"}},\"id\":\"e6b36d0b-86ef-4023-84c3-9adf76a8fd17\",\"type\":\"LinearAxis\"},{\"attributes\":{},\"id\":\"1e3611a6-6327-42ab-b0aa-39c03ee5a506\",\"type\":\"UnionRenderers\"},{\"attributes\":{},\"id\":\"1369948f-c586-407a-bac4-8d5b5e11cf5f\",\"type\":\"LinearScale\"},{\"attributes\":{},\"id\":\"44a601d0-b910-4f18-a35d-af1335bb0f78\",\"type\":\"Selection\"},{\"attributes\":{\"grid_line_color\":{\"value\":null},\"plot\":{\"id\":\"b13923f1-489e-4fd7-9da1-72cae8ddda7e\",\"subtype\":\"Figure\",\"type\":\"Plot\"},\"ticker\":{\"id\":\"f215065c-8553-490f-998a-8b945da7a90f\",\"type\":\"BasicTicker\"}},\"id\":\"9be69391-bc1f-4cd7-baab-4c41dfd4c355\",\"type\":\"Grid\"},{\"attributes\":{},\"id\":\"1c58cf62-477a-4ad0-b47f-45c1ea691d42\",\"type\":\"UnionRenderers\"},{\"attributes\":{\"formatter\":{\"id\":\"49d2a009-e12f-4182-b5da-a854c5d71e0c\",\"type\":\"BasicTickFormatter\"},\"plot\":{\"id\":\"b13923f1-489e-4fd7-9da1-72cae8ddda7e\",\"subtype\":\"Figure\",\"type\":\"Plot\"},\"ticker\":{\"id\":\"af1aa7ce-6379-4373-b16d-7c000ca90dcf\",\"type\":\"BasicTicker\"}},\"id\":\"423533a4-630f-487d-943f-1c4b7a0bab1d\",\"type\":\"LinearAxis\"},{\"attributes\":{},\"id\":\"20cded87-09c3-4623-9efd-78beb330c62d\",\"type\":\"Selection\"},{\"attributes\":{\"callback\":null,\"renderers\":\"auto\",\"tooltips\":[[\"(x,y)\",\"($x, $y)\"],[\"desc\",\"@desc\"]]},\"id\":\"b4a7e85f-2894-47dc-9f06-a49d1afe834f\",\"type\":\"HoverTool\"},{\"attributes\":{},\"id\":\"9cf5ecb3-432e-410a-82bc-928e9301ad06\",\"type\":\"UnionRenderers\"},{\"attributes\":{},\"id\":\"81a8f4db-b4fe-49db-ba64-bfa9d020d39d\",\"type\":\"Selection\"},{\"attributes\":{\"text_align\":\"center\",\"text_color\":{\"value\":\"black\"},\"text_font_size\":{\"value\":\"10pt\"},\"x\":{\"value\":3.2858643531799316},\"y\":{\"value\":-3.9426357746124268}},\"id\":\"9b12017e-4152-4880-92f7-4c19927e398e\",\"type\":\"Text\"},{\"attributes\":{},\"id\":\"d8826624-d2a1-4837-9ec8-45595d2979e6\",\"type\":\"UnionRenderers\"},{\"attributes\":{},\"id\":\"af1aa7ce-6379-4373-b16d-7c000ca90dcf\",\"type\":\"BasicTicker\"},{\"attributes\":{\"background_fill_color\":{\"value\":\"white\"},\"below\":[{\"id\":\"e6b36d0b-86ef-4023-84c3-9adf76a8fd17\",\"type\":\"LinearAxis\"}],\"left\":[{\"id\":\"423533a4-630f-487d-943f-1c4b7a0bab1d\",\"type\":\"LinearAxis\"}],\"renderers\":[{\"id\":\"e6b36d0b-86ef-4023-84c3-9adf76a8fd17\",\"type\":\"LinearAxis\"},{\"id\":\"9be69391-bc1f-4cd7-baab-4c41dfd4c355\",\"type\":\"Grid\"},{\"id\":\"423533a4-630f-487d-943f-1c4b7a0bab1d\",\"type\":\"LinearAxis\"},{\"id\":\"2443bb8c-a7d6-4d7f-a3e6-e2ed2a1f8056\",\"type\":\"Grid\"},{\"id\":\"998ce76b-54e3-4cb4-bcb6-44d98fb94d6f\",\"type\":\"BoxAnnotation\"},{\"id\":\"2a7e3409-5ff9-4091-b880-82d4cb6ff15d\",\"type\":\"GlyphRenderer\"},{\"id\":\"a98b362e-b901-43c9-90c3-0e6b0ae913cb\",\"type\":\"GlyphRenderer\"},{\"id\":\"b1396104-da20-4fff-8339-5d931fd21a48\",\"type\":\"GlyphRenderer\"},{\"id\":\"61084728-8546-416d-8cfc-67dc8e00c729\",\"type\":\"GlyphRenderer\"},{\"id\":\"397db721-93c2-4485-93e0-a39ae9eaf78f\",\"type\":\"GlyphRenderer\"},{\"id\":\"0bcdd4bd-ea53-4446-800d-53537d124123\",\"type\":\"GlyphRenderer\"},{\"id\":\"d595b8d3-befa-460e-ae85-0cae5b08fc89\",\"type\":\"GlyphRenderer\"},{\"id\":\"40d8321c-51ad-41ef-ab70-f3bf907f8c44\",\"type\":\"GlyphRenderer\"},{\"id\":\"e056544c-0f91-4876-8ac4-8c3e861acf45\",\"type\":\"GlyphRenderer\"},{\"id\":\"15a0699d-bee3-4400-b01d-5b2c233d8b8d\",\"type\":\"GlyphRenderer\"},{\"id\":\"d76979ca-58d7-4c90-ad1f-bb7230355176\",\"type\":\"GlyphRenderer\"}],\"title\":{\"id\":\"f44a8b93-f6ea-406b-b8a8-94d8d9fcf3bc\",\"type\":\"Title\"},\"toolbar\":{\"id\":\"d9fad2f8-a57d-4ad5-957c-cb448a3ef088\",\"type\":\"Toolbar\"},\"x_range\":{\"id\":\"085546eb-4507-4d26-8eca-f7d575826a63\",\"type\":\"DataRange1d\"},\"x_scale\":{\"id\":\"62932450-3449-44b1-8550-cd9efc2246d8\",\"type\":\"LinearScale\"},\"y_range\":{\"id\":\"161ddeeb-bbfc-4b63-8021-5c7d6fd2bd89\",\"type\":\"DataRange1d\"},\"y_scale\":{\"id\":\"1369948f-c586-407a-bac4-8d5b5e11cf5f\",\"type\":\"LinearScale\"}},\"id\":\"b13923f1-489e-4fd7-9da1-72cae8ddda7e\",\"subtype\":\"Figure\",\"type\":\"Plot\"},{\"attributes\":{},\"id\":\"6be5015c-65e9-4ede-b38d-4f7a4dab8e91\",\"type\":\"Selection\"},{\"attributes\":{\"dimension\":1,\"grid_line_color\":{\"value\":null},\"plot\":{\"id\":\"b13923f1-489e-4fd7-9da1-72cae8ddda7e\",\"subtype\":\"Figure\",\"type\":\"Plot\"},\"ticker\":{\"id\":\"af1aa7ce-6379-4373-b16d-7c000ca90dcf\",\"type\":\"BasicTicker\"}},\"id\":\"2443bb8c-a7d6-4d7f-a3e6-e2ed2a1f8056\",\"type\":\"Grid\"},{\"attributes\":{},\"id\":\"76051b48-7e95-402b-95ce-674eab02d266\",\"type\":\"UnionRenderers\"},{\"attributes\":{},\"id\":\"eb6169ea-78fb-427a-bf49-4e4d8c4749f3\",\"type\":\"PanTool\"},{\"attributes\":{},\"id\":\"9b0d901e-da55-494f-b2e5-8182d3a06430\",\"type\":\"Selection\"},{\"attributes\":{\"data_source\":{\"id\":\"c6d1e64c-8519-47bb-a64a-213a613991b1\",\"type\":\"ColumnDataSource\"},\"glyph\":{\"id\":\"28196152-0e26-4c59-9c3f-f8ce4c2a5538\",\"type\":\"Circle\"},\"hover_glyph\":null,\"muted_glyph\":null,\"nonselection_glyph\":{\"id\":\"1b325eed-512f-4ae0-92da-996603076a6e\",\"type\":\"Circle\"},\"selection_glyph\":null,\"view\":{\"id\":\"a8a129d4-e3a9-473a-a09d-bd7999ec52bd\",\"type\":\"CDSView\"}},\"id\":\"2a7e3409-5ff9-4091-b880-82d4cb6ff15d\",\"type\":\"GlyphRenderer\"},{\"attributes\":{},\"id\":\"04fd0a4d-0fff-4fd5-a526-0515d835a469\",\"type\":\"UnionRenderers\"},{\"attributes\":{\"fill_alpha\":{\"value\":0.5},\"fill_color\":{\"value\":\"orange\"},\"line_alpha\":{\"value\":0.5},\"line_color\":{\"value\":\"navy\"},\"size\":{\"units\":\"screen\",\"value\":5},\"x\":{\"field\":\"x\"},\"y\":{\"field\":\"y\"}},\"id\":\"28196152-0e26-4c59-9c3f-f8ce4c2a5538\",\"type\":\"Circle\"},{\"attributes\":{},\"id\":\"c83a45c1-7a8c-438e-a761-74583a5881b0\",\"type\":\"Selection\"},{\"attributes\":{\"callback\":null,\"data\":{\"text\":[\"\\ube44\\uae34 \\uc5b4\\uac8c\\uc778\"]},\"selected\":{\"id\":\"489c2b25-a380-4566-8059-5a6aa6a24835\",\"type\":\"Selection\"},\"selection_policy\":{\"id\":\"1e3611a6-6327-42ab-b0aa-39c03ee5a506\",\"type\":\"UnionRenderers\"}},\"id\":\"335deb13-24f8-4233-b9dd-74e90ede2000\",\"type\":\"ColumnDataSource\"},{\"attributes\":{},\"id\":\"d9cab749-fd14-4fbb-b6f4-4bbb4720cc23\",\"type\":\"UnionRenderers\"},{\"attributes\":{\"bottom_units\":\"screen\",\"fill_alpha\":{\"value\":0.5},\"fill_color\":{\"value\":\"lightgrey\"},\"left_units\":\"screen\",\"level\":\"overlay\",\"line_alpha\":{\"value\":1.0},\"line_color\":{\"value\":\"black\"},\"line_dash\":[4,4],\"line_width\":{\"value\":2},\"plot\":null,\"render_mode\":\"css\",\"right_units\":\"screen\",\"top_units\":\"screen\"},\"id\":\"998ce76b-54e3-4cb4-bcb6-44d98fb94d6f\",\"type\":\"BoxAnnotation\"},{\"attributes\":{},\"id\":\"6e8cd868-8d7c-41fb-9f7b-859ed4ae436d\",\"type\":\"Selection\"},{\"attributes\":{\"source\":{\"id\":\"c6d1e64c-8519-47bb-a64a-213a613991b1\",\"type\":\"ColumnDataSource\"}},\"id\":\"a8a129d4-e3a9-473a-a09d-bd7999ec52bd\",\"type\":\"CDSView\"},{\"attributes\":{\"callback\":null},\"id\":\"085546eb-4507-4d26-8eca-f7d575826a63\",\"type\":\"DataRange1d\"},{\"attributes\":{},\"id\":\"55136884-a85c-4ff3-b8bb-195e44140ce4\",\"type\":\"UnionRenderers\"},{\"attributes\":{},\"id\":\"6e42bf0d-e683-495f-8982-101ab834a92b\",\"type\":\"HelpTool\"},{\"attributes\":{},\"id\":\"62932450-3449-44b1-8550-cd9efc2246d8\",\"type\":\"LinearScale\"},{\"attributes\":{},\"id\":\"057308ad-8d1f-4fdc-8e45-76f055bb5ea4\",\"type\":\"Selection\"},{\"attributes\":{},\"id\":\"b80770c0-f3e8-4de3-bd85-38bb80a72ecc\",\"type\":\"WheelZoomTool\"},{\"attributes\":{},\"id\":\"7bf41bfa-6f11-4fe8-99de-cd75ca849ddb\",\"type\":\"UnionRenderers\"},{\"attributes\":{\"overlay\":{\"id\":\"998ce76b-54e3-4cb4-bcb6-44d98fb94d6f\",\"type\":\"BoxAnnotation\"}},\"id\":\"81f9f409-bda7-4752-97a9-304442e86d06\",\"type\":\"BoxZoomTool\"},{\"attributes\":{},\"id\":\"d826cf87-13e3-4aad-bd3e-2afae69609e7\",\"type\":\"Selection\"},{\"attributes\":{},\"id\":\"904063c3-9652-48a8-8704-ee796c87019d\",\"type\":\"SaveTool\"},{\"attributes\":{},\"id\":\"10772ffd-b411-42c5-bebc-e6e7c605d4db\",\"type\":\"UnionRenderers\"},{\"attributes\":{},\"id\":\"0a848842-0951-4044-bb7e-951c263070cd\",\"type\":\"ResetTool\"},{\"attributes\":{\"data_source\":{\"id\":\"cbd6a6ff-831c-4454-872d-eae614c60d82\",\"type\":\"ColumnDataSource\"},\"glyph\":{\"id\":\"67cb89d7-0703-41b7-8dd1-f32b1452b64c\",\"type\":\"Text\"},\"hover_glyph\":null,\"muted_glyph\":null,\"nonselection_glyph\":{\"id\":\"4f2b42c9-c442-4f27-9ef4-569444096acc\",\"type\":\"Text\"},\"selection_glyph\":null,\"view\":{\"id\":\"6ee308aa-cfb3-4757-9787-cc69174c9828\",\"type\":\"CDSView\"}},\"id\":\"15a0699d-bee3-4400-b01d-5b2c233d8b8d\",\"type\":\"GlyphRenderer\"},{\"attributes\":{\"text_align\":\"center\",\"text_alpha\":{\"value\":0.1},\"text_color\":{\"value\":\"black\"},\"text_font_size\":{\"value\":\"10pt\"},\"x\":{\"value\":3.2858643531799316},\"y\":{\"value\":-3.9426357746124268}},\"id\":\"23ff0757-b5b3-488d-97bf-424ffa648b56\",\"type\":\"Text\"},{\"attributes\":{\"text_align\":\"center\",\"text_alpha\":{\"value\":0.1},\"text_color\":{\"value\":\"black\"},\"text_font_size\":{\"value\":\"10pt\"},\"x\":{\"value\":2.6384217739105225},\"y\":{\"value\":-4.323911190032959}},\"id\":\"423c9f56-79c0-48e1-bc68-7dd68a760256\",\"type\":\"Text\"},{\"attributes\":{\"data_source\":{\"id\":\"335deb13-24f8-4233-b9dd-74e90ede2000\",\"type\":\"ColumnDataSource\"},\"glyph\":{\"id\":\"9b12017e-4152-4880-92f7-4c19927e398e\",\"type\":\"Text\"},\"hover_glyph\":null,\"muted_glyph\":null,\"nonselection_glyph\":{\"id\":\"23ff0757-b5b3-488d-97bf-424ffa648b56\",\"type\":\"Text\"},\"selection_glyph\":null,\"view\":{\"id\":\"d2bde9db-88d2-4ac2-a74c-48bc1c08547d\",\"type\":\"CDSView\"}},\"id\":\"a98b362e-b901-43c9-90c3-0e6b0ae913cb\",\"type\":\"GlyphRenderer\"},{\"attributes\":{\"source\":{\"id\":\"335deb13-24f8-4233-b9dd-74e90ede2000\",\"type\":\"ColumnDataSource\"}},\"id\":\"d2bde9db-88d2-4ac2-a74c-48bc1c08547d\",\"type\":\"CDSView\"},{\"attributes\":{\"callback\":null,\"data\":{\"text\":[\"\\uc5b4\\ubc14\\uc6c3 \\ud0c0\\uc784\"]},\"selected\":{\"id\":\"44a601d0-b910-4f18-a35d-af1335bb0f78\",\"type\":\"Selection\"},\"selection_policy\":{\"id\":\"1c58cf62-477a-4ad0-b47f-45c1ea691d42\",\"type\":\"UnionRenderers\"}},\"id\":\"0413ae43-fb4b-468b-8bd6-39ebe2f81e91\",\"type\":\"ColumnDataSource\"},{\"attributes\":{\"text_align\":\"center\",\"text_color\":{\"value\":\"black\"},\"text_font_size\":{\"value\":\"10pt\"},\"x\":{\"value\":2.6384217739105225},\"y\":{\"value\":-4.323911190032959}},\"id\":\"b46788cb-6742-4ed4-b67e-1e7554fd1efd\",\"type\":\"Text\"},{\"attributes\":{\"data_source\":{\"id\":\"0413ae43-fb4b-468b-8bd6-39ebe2f81e91\",\"type\":\"ColumnDataSource\"},\"glyph\":{\"id\":\"b46788cb-6742-4ed4-b67e-1e7554fd1efd\",\"type\":\"Text\"},\"hover_glyph\":null,\"muted_glyph\":null,\"nonselection_glyph\":{\"id\":\"423c9f56-79c0-48e1-bc68-7dd68a760256\",\"type\":\"Text\"},\"selection_glyph\":null,\"view\":{\"id\":\"03b9bf47-748c-4420-addb-ced197eeb1cc\",\"type\":\"CDSView\"}},\"id\":\"b1396104-da20-4fff-8339-5d931fd21a48\",\"type\":\"GlyphRenderer\"},{\"attributes\":{\"source\":{\"id\":\"0413ae43-fb4b-468b-8bd6-39ebe2f81e91\",\"type\":\"ColumnDataSource\"}},\"id\":\"03b9bf47-748c-4420-addb-ced197eeb1cc\",\"type\":\"CDSView\"},{\"attributes\":{\"callback\":null,\"data\":{\"text\":[\"\\uc778\\ud134\"]},\"selected\":{\"id\":\"20cded87-09c3-4623-9efd-78beb330c62d\",\"type\":\"Selection\"},\"selection_policy\":{\"id\":\"9cf5ecb3-432e-410a-82bc-928e9301ad06\",\"type\":\"UnionRenderers\"}},\"id\":\"f6348f52-41df-428a-97aa-c3db4d643734\",\"type\":\"ColumnDataSource\"},{\"attributes\":{\"text_align\":\"center\",\"text_color\":{\"value\":\"black\"},\"text_font_size\":{\"value\":\"10pt\"},\"x\":{\"value\":2.340023994445801},\"y\":{\"value\":-3.7574987411499023}},\"id\":\"acb00b2e-463c-474d-b9ca-254344cd0ed0\",\"type\":\"Text\"},{\"attributes\":{\"text_align\":\"center\",\"text_color\":{\"value\":\"black\"},\"text_font_size\":{\"value\":\"10pt\"},\"x\":{\"value\":6.360003471374512},\"y\":{\"value\":9.674723625183105}},\"id\":\"ac82093e-86f6-46f8-822f-519521a92d65\",\"type\":\"Text\"},{\"attributes\":{\"callback\":null,\"data\":{\"desc\":[\"\\uace0\\uc0ac \\ub450 \\ubc88\\uc9f8 \\uc774\\uc57c\\uae30: \\uad50\\uc0dd\\uc2e4\\uc2b5\",\"\\ubc15\\uc950\",\"\\ud574\\ubb34\",\"\\ud574\\uc6b4\\ub300\",\"\\uc778\\ud130\\uc2a4\\ud154\\ub77c\",\"\\uad6d\\uac00\\ub300\\ud45c\",\"\\ub3c4\\ub451\\ub4e4\",\"\\ubca0\\ub97c\\ub9b0\",\"\\ud574\\ub9ac \\ud3ec\\ud130\\uc640 \\uc8fd\\uc74c\\uc758 \\uc131\\ubb3c - 2\\ubd80\",\"\\ubbf8\\uc2a4\\ud130 \\uace0\",\"7\\uad11\\uad6c\",\"\\ub7ed\\ud0a4\",\"\\ub2e4\\ud06c \\ub098\\uc774\\ud2b8 \\ub77c\\uc774\\uc988\",\"\\ud574\\uc801: \\ubc14\\ub2e4\\ub85c \\uac04 \\uc0b0\\uc801\",\"\\ubc30\\ud2b8\\ub9e8 \\ub300 \\uc288\\ud37c\\ub9e8: \\uc800\\uc2a4\\ud2f0\\uc2a4\\uc758 \\uc2dc\\uc791\",\"\\uc544\\uac00\\uc528\",\"\\ub0b4\\uac00 \\uc0b4\\uc778\\ubc94\\uc774\\ub2e4\",\"\\uba54\\uc774\\uc988 \\ub7ec\\ub108: \\uc2a4\\ucf54\\uce58 \\ud2b8\\ub77c\\uc774\\uc5bc\",\"\\ub2e4\\ud06c \\ub098\\uc774\\ud2b8\",\"\\ucea1\\ud2f4 \\uc544\\uba54\\ub9ac\\uce74: \\uc2dc\\ube4c \\uc6cc\",\"\\uacfc\\uc18d\\uc2a4\\uce94\\ub4e4\",\"\\ubbf8\\ub140\\ub294 \\uad34\\ub85c\\uc6cc\",\"\\ud130\\ub110\",\"\\uc601\\uc6c5: \\uc0d0\\ub7ec\\uba58\\ub354\\uc758 \\ube44\\ubc00\",\"\\uc751\\ub2f5\\ud558\\ub77c 1988\",\"\\ub300\\ud638\",\"\\uc2e0\\uc138\\uacc4\",\"\\uace1\\uc131(\\u54ed\\u8072)\",\"\\uaca8\\uc6b8\\uc655\\uad6d\",\"\\uc644\\ub4dd\\uc774\",\"\\ube45 \\ud788\\uc5b4\\ub85c\",\"\\uc778\\uc149\\uc158\",\"\\ud0c0\\uc774\\ud0c0\\ub2c9\",\"26\\ub144\",\"\\uc9c0\\uae08, \\ub9cc\\ub098\\ub7ec \\uac11\\ub2c8\\ub2e4\",\"\\uc554\\uc0b4\",\"\\ud3ec\\ud654 \\uc18d\\uc73c\\ub85c\",\"\\uc778\\ud134\",\"\\uc758\\ud615\\uc81c\",\"\\ud310\\ub3c4\\ub77c\",\"\\uac80\\uc740 \\uc0ac\\uc81c\\ub4e4\",\"\\uc545\\ub9c8\\ub97c \\ubcf4\\uc558\\ub2e4\",\"\\uc88b\\uc740 \\ub188, \\ub098\\uc05c \\ub188, \\uc774\\uc0c1\\ud55c \\ub188\",\"\\ucc9c\\uc548\\ud568 \\ud504\\ub85c\\uc81d\\ud2b8\",\"\\uc778\\ub514\\ud39c\\ub358\\uc2a4 \\ub370\\uc774: \\ub9ac\\uc368\\uc804\\uc2a4\",\"\\uc6a9\\uc758\\uc790\",\"\\uad11\\ud574, \\uc655\\uc774 \\ub41c \\ub0a8\\uc790\",\"\\uc81c\\uc774\\uc2a8 \\ubcf8\",\"\\uce90\\ub9ac\\ube44\\uc548\\uc758 \\ud574\\uc801 - \\uc138\\uc0c1\\uc758 \\ub05d\\uc5d0\\uc11c\",\"\\ub2d8\\uc544, \\uadf8 \\uac15\\uc744 \\uac74\\ub108\\uc9c0 \\ub9c8\\uc624\",\"\\ud2b8\\ub79c\\uc2a4\\ud3ec\\uba38 3\",\"\\uce74\\ud2b8\",\"\\ubc30\\ud2c0\\uc27d\",\"\\uac80\\uc0ac\\uc678\\uc804\",\"\\uad6d\\uc81c\\uc2dc\\uc7a5\",\"\\uc96c\\ub77c\\uae30 \\uc6d4\\ub4dc\",\"\\uad00\\uc0c1\",\"\\ud574\\ubc14\\ub77c\\uae30\",\"\\uc5d1\\uc2a4\\ub9e8: \\ub370\\uc774\\uc988 \\uc624\\ube0c \\ud4e8\\ucc98 \\ud328\\uc2a4\\ud2b8\",\"\\ubc15\\uc218\\uac74\\ub2ec\",\"\\uac10\\uae30\",\"\\ucd5c\\uc885\\ubcd1\\uae30 \\ud65c\",\"\\uace0\\uc9c0\\uc804\",\"\\ud074\\ub808\\uba58\\ud0c0\\uc778\",\"\\uac10\\uc2dc\\uc790\\ub4e4\",\"\\uc2a4\\uce74\\uc774\\ub77c\\uc778\",\"\\uc6cc\\ud06c\\ub798\\ud504\\ud2b8: \\uc804\\uc7c1\\uc758 \\uc11c\\ub9c9\",\"\\uc778\\uc0ac\\uc774\\ub4dc \\uc544\\uc6c3\",\"\\uc138 \\uc5bc\\uac04\\uc774\",\"\\ud615\",\"\\ud2b8\\uc640\\uc77c\\ub77c\\uc787\",\"\\uc5ed\\ub9b0\",\"\\ube44\\uae34 \\uc5b4\\uac8c\\uc778\",\"\\ub450\\uadfc\\ub450\\uadfc \\ub0b4 \\uc778\\uc0dd\",\"\\ub354 \\ud14c\\ub7ec \\ub77c\\uc774\\ube0c\",\"2012\",\"\\ub3c4\\uac00\\ub2c8\",\"\\uc5e3\\uc9c0 \\uc624\\ube0c \\ud22c\\ubaa8\\ub85c\\uc6b0\",\"\\ub9e8 \\uc624\\ube0c \\uc2a4\\ud2f8\",\"\\ud0b9\\uc2a4\\ub9e8 : \\uc2dc\\ud06c\\ub9bf \\uc5d0\\uc774\\uc804\\ud2b8\",\"\\uc655\\uc758 \\ub0a8\\uc790\",\"\\ubc00\\uc815\",\"\\ubbf8\\uc158 \\uc784\\ud30c\\uc11c\\ube14: \\ub85c\\uadf8\\ub124\\uc774\\uc158\",\"\\uc5f0\\uac00\\uc2dc\",\"\\uc5f0\\ud3c9\\ud574\\uc804\",\"\\ub808\\ubbf8\\uc81c\\ub77c\\ube14\",\"\\ucd08\\ub2a5\\ub825\\uc790\",\"\\ub05d\\uae4c\\uc9c0 \\uac04\\ub2e4\",\"\\uc5b4\\uac70\\uc2a4\\ud2b8 \\ub7ec\\uc26c\",\"\\ud035\",\"\\uadf8\\ub798\\ube44\\ud2f0\",\"\\uad34\\ubb3c\",\"\\uc778\\ucc9c\\uc0c1\\ub959\\uc791\\uc804\",\"\\ud558\\uc6b8\\uc758 \\uc6c0\\uc9c1\\uc774\\ub294 \\uc131\",\"\\ubbf8\\uc2a4 \\ud398\\ub808\\uadf8\\ub9b0\\uacfc \\uc774\\uc0c1\\ud55c \\uc544\\uc774\\ub4e4\\uc758 \\uc9d1\",\"\\uc2e0\\uc758 \\ud55c \\uc218\",\"\\uc2e0\\ube44\\ud55c \\ub3d9\\ubb3c\\uc0ac\\uc804\",\"7\\ubc88\\ubc29\\uc758 \\uc120\\ubb3c\",\"\\ud639\\uc131\\ud0c8\\ucd9c: \\ubc18\\uaca9\\uc758 \\uc11c\\ub9c9\",\"\\ud654\\ub824\\ud55c \\ud734\\uac00\",\"\\uc544\\uc774\\uc5b8\\ub9e8 3\",\"\\ub77c\\ub77c\\ub79c\\ub4dc\",\"\\uc5b4\\ubca4\\uc838\\uc2a4: \\uc5d0\\uc774\\uc9c0 \\uc624\\ube0c \\uc6b8\\ud2b8\\ub860\",\"\\uc228\\ubc14\\uaf2d\\uc9c8\",\"\\uc778\\uc0dd\\uc740 \\uc544\\ub984\\ub2e4\\uc6cc\",\"\\ub098\\ub294 \\uc804\\uc124\\uc774\\ub2e4\",\"\\uc6f0\\ucef4 \\ud22c \\ub3d9\\ub9c9\\uace8\",\"\\ub370\\ub4dc\\ud480\",\"\\ubc18\\ucc3d\\uaf2c\",\"\\ud574\\ub9ac \\ud3ec\\ud130\\uc640 \\ud63c\\ud608 \\uc655\\uc790\",\"\\uc544\\uc800\\uc528\",\"\\uadc0\\ud5a5\",\"\\ubd80\\uc0b0\\ud589\",\"\\ud22c\\uc0ac\\ubd80\\uc77c\\uccb4\",\"\\uc1fc\\uc0dd\\ud06c \\ud0c8\\ucd9c\",\"\\ud130\\ubbf8\\ub124\\uc774\\ud130 \\uc81c\\ub2c8\\uc2dc\\uc2a4\",\"\\uc544\\uc218\\ub77c\",\"\\uc2dc\\ub77c\\ub178; \\uc5f0\\uc560\\uc870\\uc791\\ub2e8\",\"\\ub291\\ub300\\uc18c\\ub144\",\"\\uc804\\uc6b0\\uce58\",\"\\uc368\\ub2c8\",\"\\ub514 \\uc6cc\",\"\\ub9ac\\uc5bc \\uc2a4\\ud2f8\",\"\\ud2b8\\ub79c\\uc2a4\\ud3ec\\uba38: \\ud328\\uc790\\uc758 \\uc5ed\\uc2b5\",\"\\uc218\\uc0c1\\ud55c \\uadf8\\ub140\",\"\\uc544\\uc774\\uc5b8\\ub9e8\",\"\\uac74\\ucd95\\ud559\\uac1c\\ub860\",\"\\uc218\\uc5b4\\uc0ac\\uc774\\ub4dc \\uc2a4\\ucffc\\ub4dc\",\"\\ub355\\ud61c\\uc639\\uc8fc\",\"\\ud14c\\uc774\\ud070\",\"\\ud0c0\\uc6cc\",\"\\uc13c\\uacfc \\uce58\\ud788\\ub85c\\uc758 \\ud589\\ubc29\\ubd88\\uba85\",\"\\uc2dc\\uac04\\uc744 \\ub2ec\\ub9ac\\ub294 \\uc18c\\ub140\",\"\\uc6b0\\ub9ac\\ub4e4\\uc758 \\ud589\\ubcf5\\ud55c \\uc2dc\\uac04\",\"\\ub2e5\\ud130 \\uc2a4\\ud2b8\\ub808\\uc778\\uc9c0\",\"\\ubca0\\ud14c\\ub791\",\"\\uc5b4\\ubca4\\uc838\\uc2a4\",\"\\ud558\\ubaa8\\ub2c8\",\"\\ub274 \\ubb38\",\"\\uc384\\uc2dc\\ubd09\",\"\\uc6dc \\ubc14\\ub514\\uc2a4\",\"\\ub2e4\\uc138\\ud3ec \\uc18c\\ub140\",\"\\ud0c0\\uc9dc-\\uc2e0\\uc758 \\uc190\",\"\\ucd94\\uaca9\\uc790\",\"\\uc5b4\\ubc14\\uc6c3 \\ud0c0\\uc784\",\"\\ud5ec\\ub85c\\uc6b0 \\uace0\\uc2a4\\ud2b8\",\"\\uc870\\uc120\\uba85\\ud0d0\\uc815: \\uac01\\uc2dc\\ud22c\\uad6c\\uaf43\\uc758 \\ube44\\ubc00\",\"\\ub9d0\\ud560 \\uc218 \\uc5c6\\ub294 \\ube44\\ubc00\",\"\\uc30d\\ud654\\uc810\",\"\\uc18c\\uc6d0\",\"\\uad70\\ub3c4:\\ubbfc\\ub780\\uc758 \\uc2dc\\ub300\",\"\\uc5d1\\uc2a4\\ub9e8: \\uc544\\ud3ec\\uce7c\\ub9bd\\uc2a4\",\"\\ud30c\\ud30c\\ub85c\\ud2f0\",\"\\ud788\\ub9d0\\ub77c\\uc57c\",\"\\uc124\\uad6d\\uc5f4\\ucc28\",\"\\ud2b8\\ub79c\\uc2a4\\ud3ec\\uba38: \\uc0ac\\ub77c\\uc9c4 \\uc2dc\\ub300\",\"\\uc6d4\\ub4dc\\uc6ccZ\",\"\\ub77c\\ub514\\uc624 \\uc2a4\\ud0c0\",\"\\ub514\\uc2a4\\ud2b8\\ub9ad\\ud2b8 9\",\"\\uc138\\ube10 \\ub370\\uc774\\uc988\",\"\\uce90\\ub9ac\\ube44\\uc548\\uc758 \\ud574\\uc801 - \\ub9dd\\uc790\\uc758 \\ud568\",\"\\ud2b8\\ub79c\\uc2a4\\ud3ec\\uba38\",\"\\ucea1\\ud2f4 \\uc544\\uba54\\ub9ac\\uce74: \\uc708\\ud130 \\uc194\\uc838\",\"\\ub77c\\uc2a4\\ud2b8 \\uac13\\ud30c\\ub354\",\"\\ub9e4\\ub4dc\\ub9e5\\uc2a4: \\ubd84\\ub178\\uc758 \\ub3c4\\ub85c\",\"\\ub098\\uc6b0 \\uc720 \\uc528 \\ubbf8 2\",\"\\uc5b4\\uba54\\uc774\\uc9d5 \\uc2a4\\ud30c\\uc774\\ub354\\ub9e8 2\",\"\\ubdf0\\ud2f0 \\uc778\\uc0ac\\uc774\\ub4dc\",\"\\ud37c\\uc2dc\\ud53d \\ub9bc\",\"\\uc0ac\\ub3c4\",\"\\ub9c8\\uc158\",\"\\uc544\\ubc14\\ud0c0\"],\"x\":[-1.394061803817749,-3.356041193008423,-8.762958526611328,-0.7483838200569153,11.462432861328125,-0.8392059803009033,-9.266213417053223,-7.629822254180908,7.315851211547852,0.9106549024581909,-0.5816501975059509,-11.584921836853027,8.161821365356445,-11.80797290802002,10.544958114624023,-8.45599365234375,-5.508133888244629,13.20724105834961,7.770938873291016,10.396780014038086,-0.8599739074707031,-1.1725841760635376,-6.486378192901611,5.607064723968506,-5.536158084869385,-10.813197135925293,-7.332540035247803,-7.710780143737793,6.437443733215332,-2.0171468257904053,6.633240222930908,3.600099802017212,5.206543445587158,-6.900869369506836,3.82519793510437,-10.0742769241333,-5.59369421005249,2.340023994445801,-3.9547066688537598,-6.081601142883301,-7.715938568115234,-3.8934524059295654,-2.7457141876220703,-7.275416851043701,9.514646530151367,-7.102909564971924,-11.974514961242676,12.332804679870605,5.151686191558838,1.1831992864608765,6.639776706695557,-6.634997844696045,5.690677642822266,-11.072908401489258,-9.313880920410156,9.733613967895508,-11.324575424194336,-3.1086556911468506,10.999197006225586,-2.0589702129364014,-4.475189208984375,-5.025686740875244,-5.268005847930908,5.50935697555542,-8.393644332885742,3.773050546646118,11.750164031982422,6.360003471374512,2.3727359771728516,-4.036133766174316,5.6152520179748535,-10.604057312011719,3.2858643531799316,-5.224851131439209,-5.223845958709717,4.27747917175293,-6.84415864944458,11.405153274536133,8.028342247009277,14.705619812011719,-2.628605365753174,-10.215007781982422,12.135376930236816,-3.9557650089263916,-7.992021083831787,4.819275856018066,-1.36631441116333,-9.022683143615723,4.57732629776001,-1.0429668426513672,11.407959938049316,0.8409330248832703,-8.695075988769531,6.333369255065918,14.140096664428711,-9.761650085449219,13.809428215026855,-2.9101104736328125,10.333786010742188,-6.119785785675049,8.62454891204834,3.5432450771331787,10.278335571289062,-4.2618408203125,3.7775826454162598,1.9320995807647705,-2.3388562202453613,14.664851188659668,-1.5664434432983398,6.641965866088867,-5.084617614746094,-8.757129669189453,-5.50781774520874,0.39016371965408325,4.653477668762207,11.145406723022461,-9.467809677124023,-0.2450229823589325,-0.27229779958724976,-1.4527413845062256,0.30222856998443604,2.434441328048706,6.072579383850098,6.195343017578125,-3.015568494796753,7.204543590545654,0.4131176471710205,11.25396728515625,-10.048881530761719,-5.638088703155518,-3.9476959705352783,6.3134002685546875,5.64275598526001,-3.6304233074188232,12.401154518127441,-9.889959335327148,7.945141792297363,-2.778812885284424,5.793369293212891,-5.72490930557251,1.8023042678833008,0.14060285687446594,-10.559599876403809,-4.805155277252197,2.6384217739105225,-1.997976541519165,-0.9903249740600586,4.553210258483887,-2.8767685890197754,-6.607759952545166,-10.284226417541504,11.25443172454834,-1.2494115829467773,-10.292524337768555,-1.9242244958877563,8.503532409667969,-2.0839924812316895,-2.149477005004883,3.481790065765381,-5.122333526611328,4.884883880615234,5.36682653427124,10.022141456604004,1.0667859315872192,12.851832389831543,12.68100643157959,9.59174919128418,-4.9819865226745605,6.349157333374023,-10.858673095703125,11.949687004089355,4.480194091796875],\"y\":[2.4801087379455566,1.377502679824829,0.026169372722506523,-2.380107879638672,1.2327384948730469,-3.3994758129119873,3.6889796257019043,3.323542356491089,-0.7002939581871033,6.920493125915527,2.6317529678344727,1.4220654964447021,2.19382381439209,1.8937848806381226,7.502434253692627,-0.9879656434059143,3.1440045833587646,7.997196674346924,1.8586325645446777,6.854846000671387,-5.673737525939941,-5.037930488586426,6.382537841796875,-9.184409141540527,-10.49613094329834,-5.5642008781433105,2.3981575965881348,0.8035662770271301,9.003351211547852,-9.408255577087402,8.783226013183594,2.963649272918701,-7.192296504974365,-4.624321460723877,-6.4076762199401855,-2.854203939437866,-3.055569887161255,-3.7574987411499023,-1.2048192024230957,6.911901473999023,0.9705448746681213,1.772931694984436,0.3014087378978729,-4.655442714691162,4.153713703155518,3.368901014328003,-1.65946626663208,4.686967372894287,1.1113094091415405,-4.938828468322754,3.696781635284424,-7.884255886077881,4.877634048461914,1.5226188898086548,-6.6055402755737305,3.8084754943847656,-1.231539249420166,-3.860779047012329,5.790792942047119,-7.98820686340332,6.368671417236328,-0.41936713457107544,-2.778280019760132,-8.977875709533691,3.1589529514312744,4.410926342010498,8.349047660827637,9.674723625183105,-6.85224723815918,-8.226947784423828,-0.8339329957962036,-1.2643437385559082,-3.9426357746124268,-8.816286087036133,4.72341251373291,5.048338413238525,-6.493618488311768,3.58545184135437,6.134672164916992,4.314517021179199,-2.821359395980835,-2.835049867630005,4.574084281921387,5.6226091384887695,-4.72980260848999,-4.551063060760498,1.605084776878357,2.1193504333496094,-5.5495219230651855,-0.1373448669910431,1.2924020290374756,2.518022060394287,-4.258231163024902,-5.25070858001709,6.689204216003418,2.9561400413513184,6.770335674285889,-7.148437023162842,4.824105262756348,-4.3209147453308105,5.585491180419922,-3.80092716217041,6.0858283042907715,4.73118257522583,-7.261557579040527,4.132490634918213,-3.6560239791870117,4.527293682098389,-8.592035293579102,-0.6301763653755188,0.8935827612876892,-5.813784122467041,6.292911052703857,0.38809734582901,-7.189093589782715,4.651390075683594,0.48259857296943665,-6.628299713134766,-8.72060489654541,0.8179423809051514,-6.817641735076904,1.8876276016235352,6.2987589836120605,3.341043710708618,-8.27094841003418,4.803754806518555,-7.527178764343262,7.326162815093994,-4.669276714324951,1.303443193435669,6.883579730987549,-5.550224304199219,-5.833490371704102,-5.634304523468018,6.07835054397583,1.7718422412872314,5.371880054473877,-6.388838768005371,-0.7095905542373657,-9.34826946258545,-9.74896240234375,1.549835443496704,3.5394127368927,2.3656365871429443,-4.323911190032959,-6.506165504455566,0.522998571395874,-6.011826515197754,-1.8950783014297485,-7.110280513763428,-0.06163066625595093,6.2158427238464355,-7.692353248596191,-5.859098434448242,5.219221115112305,4.272976398468018,6.021356582641602,-4.596059322357178,3.848484754562378,2.1794707775115967,0.9237141013145447,3.493636131286621,5.9159393310546875,0.32573628425598145,3.838040828704834,6.804727554321289,7.007125377655029,-9.52000904083252,5.256425857543945,-3.873427152633667,1.945081114768982,3.4895505905151367]},\"selected\":{\"id\":\"1c698447-0cf3-49cf-92a0-5ada4bfe7813\",\"type\":\"Selection\"},\"selection_policy\":{\"id\":\"d7e54230-772b-4eae-8ee0-b4ff308ca0cb\",\"type\":\"UnionRenderers\"}},\"id\":\"c6d1e64c-8519-47bb-a64a-213a613991b1\",\"type\":\"ColumnDataSource\"},{\"attributes\":{\"data_source\":{\"id\":\"f6348f52-41df-428a-97aa-c3db4d643734\",\"type\":\"ColumnDataSource\"},\"glyph\":{\"id\":\"acb00b2e-463c-474d-b9ca-254344cd0ed0\",\"type\":\"Text\"},\"hover_glyph\":null,\"muted_glyph\":null,\"nonselection_glyph\":{\"id\":\"ca64ebbb-1541-44d7-bd7b-2b4e4b2e52b9\",\"type\":\"Text\"},\"selection_glyph\":null,\"view\":{\"id\":\"31f5ef7c-d6fe-4e83-922d-01abc71c02ff\",\"type\":\"CDSView\"}},\"id\":\"61084728-8546-416d-8cfc-67dc8e00c729\",\"type\":\"GlyphRenderer\"},{\"attributes\":{\"source\":{\"id\":\"f6348f52-41df-428a-97aa-c3db4d643734\",\"type\":\"ColumnDataSource\"}},\"id\":\"31f5ef7c-d6fe-4e83-922d-01abc71c02ff\",\"type\":\"CDSView\"},{\"attributes\":{\"source\":{\"id\":\"dfb38a6d-133c-442e-824c-ac33f5e603d8\",\"type\":\"ColumnDataSource\"}},\"id\":\"89b816fd-35c0-4146-a145-56e4de70d6d4\",\"type\":\"CDSView\"},{\"attributes\":{\"callback\":null,\"data\":{\"text\":[\"\\uc778\\uc0ac\\uc774\\ub4dc \\uc544\\uc6c3\"]},\"selected\":{\"id\":\"81a8f4db-b4fe-49db-ba64-bfa9d020d39d\",\"type\":\"Selection\"},\"selection_policy\":{\"id\":\"d8826624-d2a1-4837-9ec8-45595d2979e6\",\"type\":\"UnionRenderers\"}},\"id\":\"dfb38a6d-133c-442e-824c-ac33f5e603d8\",\"type\":\"ColumnDataSource\"},{\"attributes\":{\"text_align\":\"center\",\"text_alpha\":{\"value\":0.1},\"text_color\":{\"value\":\"black\"},\"text_font_size\":{\"value\":\"10pt\"},\"x\":{\"value\":2.340023994445801},\"y\":{\"value\":-3.7574987411499023}},\"id\":\"ca64ebbb-1541-44d7-bd7b-2b4e4b2e52b9\",\"type\":\"Text\"},{\"attributes\":{\"callback\":null},\"id\":\"161ddeeb-bbfc-4b63-8021-5c7d6fd2bd89\",\"type\":\"DataRange1d\"},{\"attributes\":{\"data_source\":{\"id\":\"dfb38a6d-133c-442e-824c-ac33f5e603d8\",\"type\":\"ColumnDataSource\"},\"glyph\":{\"id\":\"ac82093e-86f6-46f8-822f-519521a92d65\",\"type\":\"Text\"},\"hover_glyph\":null,\"muted_glyph\":null,\"nonselection_glyph\":{\"id\":\"afc8b903-b368-4b18-8935-bc23b531a2bd\",\"type\":\"Text\"},\"selection_glyph\":null,\"view\":{\"id\":\"89b816fd-35c0-4146-a145-56e4de70d6d4\",\"type\":\"CDSView\"}},\"id\":\"397db721-93c2-4485-93e0-a39ae9eaf78f\",\"type\":\"GlyphRenderer\"},{\"attributes\":{\"text_align\":\"center\",\"text_alpha\":{\"value\":0.1},\"text_color\":{\"value\":\"black\"},\"text_font_size\":{\"value\":\"10pt\"},\"x\":{\"value\":6.360003471374512},\"y\":{\"value\":9.674723625183105}},\"id\":\"afc8b903-b368-4b18-8935-bc23b531a2bd\",\"type\":\"Text\"},{\"attributes\":{\"callback\":null,\"data\":{\"text\":[\"\\uc2dc\\uac04\\uc744 \\ub2ec\\ub9ac\\ub294 \\uc18c\\ub140\"]},\"selected\":{\"id\":\"6be5015c-65e9-4ede-b38d-4f7a4dab8e91\",\"type\":\"Selection\"},\"selection_policy\":{\"id\":\"76051b48-7e95-402b-95ce-674eab02d266\",\"type\":\"UnionRenderers\"}},\"id\":\"5718dbef-8512-4733-8fe7-80ec90de7087\",\"type\":\"ColumnDataSource\"},{\"attributes\":{\"text_align\":\"center\",\"text_color\":{\"value\":\"black\"},\"text_font_size\":{\"value\":\"10pt\"},\"x\":{\"value\":5.64275598526001},\"y\":{\"value\":-5.833490371704102}},\"id\":\"01678b3c-da37-4dc6-a741-ea5a0e35dd70\",\"type\":\"Text\"},{\"attributes\":{\"text_align\":\"center\",\"text_alpha\":{\"value\":0.1},\"text_color\":{\"value\":\"black\"},\"text_font_size\":{\"value\":\"10pt\"},\"x\":{\"value\":5.64275598526001},\"y\":{\"value\":-5.833490371704102}},\"id\":\"209f81f4-739d-43cd-ac5f-28d44b930525\",\"type\":\"Text\"},{\"attributes\":{\"data_source\":{\"id\":\"5718dbef-8512-4733-8fe7-80ec90de7087\",\"type\":\"ColumnDataSource\"},\"glyph\":{\"id\":\"01678b3c-da37-4dc6-a741-ea5a0e35dd70\",\"type\":\"Text\"},\"hover_glyph\":null,\"muted_glyph\":null,\"nonselection_glyph\":{\"id\":\"209f81f4-739d-43cd-ac5f-28d44b930525\",\"type\":\"Text\"},\"selection_glyph\":null,\"view\":{\"id\":\"dd699041-2f23-4df9-bd5d-8d6df7cecf16\",\"type\":\"CDSView\"}},\"id\":\"0bcdd4bd-ea53-4446-800d-53537d124123\",\"type\":\"GlyphRenderer\"},{\"attributes\":{\"source\":{\"id\":\"5718dbef-8512-4733-8fe7-80ec90de7087\",\"type\":\"ColumnDataSource\"}},\"id\":\"dd699041-2f23-4df9-bd5d-8d6df7cecf16\",\"type\":\"CDSView\"},{\"attributes\":{\"active_drag\":\"auto\",\"active_inspect\":\"auto\",\"active_multi\":null,\"active_scroll\":\"auto\",\"active_tap\":\"auto\",\"tools\":[{\"id\":\"eb6169ea-78fb-427a-bf49-4e4d8c4749f3\",\"type\":\"PanTool\"},{\"id\":\"b80770c0-f3e8-4de3-bd85-38bb80a72ecc\",\"type\":\"WheelZoomTool\"},{\"id\":\"81f9f409-bda7-4752-97a9-304442e86d06\",\"type\":\"BoxZoomTool\"},{\"id\":\"904063c3-9652-48a8-8704-ee796c87019d\",\"type\":\"SaveTool\"},{\"id\":\"0a848842-0951-4044-bb7e-951c263070cd\",\"type\":\"ResetTool\"},{\"id\":\"6e42bf0d-e683-495f-8982-101ab834a92b\",\"type\":\"HelpTool\"},{\"id\":\"b4a7e85f-2894-47dc-9f06-a49d1afe834f\",\"type\":\"HoverTool\"}]},\"id\":\"d9fad2f8-a57d-4ad5-957c-cb448a3ef088\",\"type\":\"Toolbar\"},{\"attributes\":{\"text_align\":\"center\",\"text_color\":{\"value\":\"black\"},\"text_font_size\":{\"value\":\"10pt\"},\"x\":{\"value\":-4.9819865226745605},\"y\":{\"value\":-9.52000904083252}},\"id\":\"67cb89d7-0703-41b7-8dd1-f32b1452b64c\",\"type\":\"Text\"},{\"attributes\":{\"callback\":null,\"data\":{\"text\":[\"\\ud558\\uc6b8\\uc758 \\uc6c0\\uc9c1\\uc774\\ub294 \\uc131\"]},\"selected\":{\"id\":\"9b0d901e-da55-494f-b2e5-8182d3a06430\",\"type\":\"Selection\"},\"selection_policy\":{\"id\":\"04fd0a4d-0fff-4fd5-a526-0515d835a469\",\"type\":\"UnionRenderers\"}},\"id\":\"254d132f-ef34-44a7-be7f-1612c99ff4f7\",\"type\":\"ColumnDataSource\"},{\"attributes\":{\"plot\":null,\"text\":\"\\\"\\ub77c\\ub77c\\ub79c\\ub4dc\\\" \\uc720\\uc0ac \\uc601\\ud654\"},\"id\":\"f44a8b93-f6ea-406b-b8a8-94d8d9fcf3bc\",\"type\":\"Title\"},{\"attributes\":{\"text_align\":\"center\",\"text_color\":{\"value\":\"black\"},\"text_font_size\":{\"value\":\"10pt\"},\"x\":{\"value\":6.333369255065918},\"y\":{\"value\":-5.25070858001709}},\"id\":\"671aa83e-aba5-487d-9165-9440b91c7135\",\"type\":\"Text\"},{\"attributes\":{\"text_align\":\"center\",\"text_alpha\":{\"value\":0.1},\"text_color\":{\"value\":\"black\"},\"text_font_size\":{\"value\":\"10pt\"},\"x\":{\"value\":6.333369255065918},\"y\":{\"value\":-5.25070858001709}},\"id\":\"9237aafe-1840-42fd-81b6-79ea4bb49c32\",\"type\":\"Text\"},{\"attributes\":{\"data_source\":{\"id\":\"254d132f-ef34-44a7-be7f-1612c99ff4f7\",\"type\":\"ColumnDataSource\"},\"glyph\":{\"id\":\"671aa83e-aba5-487d-9165-9440b91c7135\",\"type\":\"Text\"},\"hover_glyph\":null,\"muted_glyph\":null,\"nonselection_glyph\":{\"id\":\"9237aafe-1840-42fd-81b6-79ea4bb49c32\",\"type\":\"Text\"},\"selection_glyph\":null,\"view\":{\"id\":\"983e4874-f0e4-44e5-b953-b3e070cdad62\",\"type\":\"CDSView\"}},\"id\":\"d595b8d3-befa-460e-ae85-0cae5b08fc89\",\"type\":\"GlyphRenderer\"},{\"attributes\":{\"source\":{\"id\":\"254d132f-ef34-44a7-be7f-1612c99ff4f7\",\"type\":\"ColumnDataSource\"}},\"id\":\"983e4874-f0e4-44e5-b953-b3e070cdad62\",\"type\":\"CDSView\"},{\"attributes\":{\"callback\":null,\"data\":{\"text\":[\"\\ub808\\ubbf8\\uc81c\\ub77c\\ube14\"]},\"selected\":{\"id\":\"c83a45c1-7a8c-438e-a761-74583a5881b0\",\"type\":\"Selection\"},\"selection_policy\":{\"id\":\"d9cab749-fd14-4fbb-b6f4-4bbb4720cc23\",\"type\":\"UnionRenderers\"}},\"id\":\"4a33e122-2619-4fbf-bfb3-9f0e9bd8aeb9\",\"type\":\"ColumnDataSource\"},{\"attributes\":{\"text_align\":\"center\",\"text_alpha\":{\"value\":0.1},\"text_color\":{\"value\":\"black\"},\"text_font_size\":{\"value\":\"10pt\"},\"x\":{\"value\":-4.9819865226745605},\"y\":{\"value\":-9.52000904083252}},\"id\":\"4f2b42c9-c442-4f27-9ef4-569444096acc\",\"type\":\"Text\"},{\"attributes\":{\"text_align\":\"center\",\"text_color\":{\"value\":\"black\"},\"text_font_size\":{\"value\":\"10pt\"},\"x\":{\"value\":4.819275856018066},\"y\":{\"value\":-4.551063060760498}},\"id\":\"e48b5375-3d16-4b3d-a21a-26fe554b9ed7\",\"type\":\"Text\"},{\"attributes\":{\"text_align\":\"center\",\"text_alpha\":{\"value\":0.1},\"text_color\":{\"value\":\"black\"},\"text_font_size\":{\"value\":\"10pt\"},\"x\":{\"value\":4.819275856018066},\"y\":{\"value\":-4.551063060760498}},\"id\":\"958d81c7-f571-4a55-ac18-dff006628957\",\"type\":\"Text\"},{\"attributes\":{\"data_source\":{\"id\":\"4a33e122-2619-4fbf-bfb3-9f0e9bd8aeb9\",\"type\":\"ColumnDataSource\"},\"glyph\":{\"id\":\"e48b5375-3d16-4b3d-a21a-26fe554b9ed7\",\"type\":\"Text\"},\"hover_glyph\":null,\"muted_glyph\":null,\"nonselection_glyph\":{\"id\":\"958d81c7-f571-4a55-ac18-dff006628957\",\"type\":\"Text\"},\"selection_glyph\":null,\"view\":{\"id\":\"7da2b85f-6793-4131-be39-da89118e861d\",\"type\":\"CDSView\"}},\"id\":\"40d8321c-51ad-41ef-ab70-f3bf907f8c44\",\"type\":\"GlyphRenderer\"},{\"attributes\":{},\"id\":\"bf93c81a-f480-40f1-a198-1862c03eeaa3\",\"type\":\"BasicTickFormatter\"},{\"attributes\":{\"source\":{\"id\":\"4a33e122-2619-4fbf-bfb3-9f0e9bd8aeb9\",\"type\":\"ColumnDataSource\"}},\"id\":\"7da2b85f-6793-4131-be39-da89118e861d\",\"type\":\"CDSView\"},{\"attributes\":{\"callback\":null,\"data\":{\"text\":[\"\\ubbf8\\uc2a4 \\ud398\\ub808\\uadf8\\ub9b0\\uacfc \\uc774\\uc0c1\\ud55c \\uc544\\uc774\\ub4e4\\uc758 \\uc9d1\"]},\"selected\":{\"id\":\"6e8cd868-8d7c-41fb-9f7b-859ed4ae436d\",\"type\":\"Selection\"},\"selection_policy\":{\"id\":\"55136884-a85c-4ff3-b8bb-195e44140ce4\",\"type\":\"UnionRenderers\"}},\"id\":\"dd6bbb92-a17b-48da-8824-6001031980e3\",\"type\":\"ColumnDataSource\"},{\"attributes\":{\"text_align\":\"center\",\"text_color\":{\"value\":\"black\"},\"text_font_size\":{\"value\":\"10pt\"},\"x\":{\"value\":14.140096664428711},\"y\":{\"value\":6.689204216003418}},\"id\":\"a174629e-f1c2-44f7-97b0-65f0d5104af8\",\"type\":\"Text\"},{\"attributes\":{\"text_align\":\"center\",\"text_alpha\":{\"value\":0.1},\"text_color\":{\"value\":\"black\"},\"text_font_size\":{\"value\":\"10pt\"},\"x\":{\"value\":14.140096664428711},\"y\":{\"value\":6.689204216003418}},\"id\":\"fe940186-9866-4673-a5f3-7f40d784ecc0\",\"type\":\"Text\"},{\"attributes\":{\"data_source\":{\"id\":\"dd6bbb92-a17b-48da-8824-6001031980e3\",\"type\":\"ColumnDataSource\"},\"glyph\":{\"id\":\"a174629e-f1c2-44f7-97b0-65f0d5104af8\",\"type\":\"Text\"},\"hover_glyph\":null,\"muted_glyph\":null,\"nonselection_glyph\":{\"id\":\"fe940186-9866-4673-a5f3-7f40d784ecc0\",\"type\":\"Text\"},\"selection_glyph\":null,\"view\":{\"id\":\"5e4edd8f-746a-4e07-a24e-119ebd364ca5\",\"type\":\"CDSView\"}},\"id\":\"e056544c-0f91-4876-8ac4-8c3e861acf45\",\"type\":\"GlyphRenderer\"},{\"attributes\":{\"source\":{\"id\":\"dd6bbb92-a17b-48da-8824-6001031980e3\",\"type\":\"ColumnDataSource\"}},\"id\":\"5e4edd8f-746a-4e07-a24e-119ebd364ca5\",\"type\":\"CDSView\"},{\"attributes\":{\"callback\":null,\"data\":{\"text\":[\"\\ubdf0\\ud2f0 \\uc778\\uc0ac\\uc774\\ub4dc\"]},\"selected\":{\"id\":\"057308ad-8d1f-4fdc-8e45-76f055bb5ea4\",\"type\":\"Selection\"},\"selection_policy\":{\"id\":\"7bf41bfa-6f11-4fe8-99de-cd75ca849ddb\",\"type\":\"UnionRenderers\"}},\"id\":\"cbd6a6ff-831c-4454-872d-eae614c60d82\",\"type\":\"ColumnDataSource\"},{\"attributes\":{},\"id\":\"49d2a009-e12f-4182-b5da-a854c5d71e0c\",\"type\":\"BasicTickFormatter\"},{\"attributes\":{\"source\":{\"id\":\"cbd6a6ff-831c-4454-872d-eae614c60d82\",\"type\":\"ColumnDataSource\"}},\"id\":\"6ee308aa-cfb3-4757-9787-cc69174c9828\",\"type\":\"CDSView\"},{\"attributes\":{\"callback\":null,\"data\":{\"text\":[\"\\uaca8\\uc6b8\\uc655\\uad6d\"]},\"selected\":{\"id\":\"d826cf87-13e3-4aad-bd3e-2afae69609e7\",\"type\":\"Selection\"},\"selection_policy\":{\"id\":\"10772ffd-b411-42c5-bebc-e6e7c605d4db\",\"type\":\"UnionRenderers\"}},\"id\":\"80f5ddd4-e697-420d-906c-0f037bd1915a\",\"type\":\"ColumnDataSource\"},{\"attributes\":{\"text_align\":\"center\",\"text_color\":{\"value\":\"black\"},\"text_font_size\":{\"value\":\"10pt\"},\"x\":{\"value\":6.437443733215332},\"y\":{\"value\":9.003351211547852}},\"id\":\"f083d62c-c14e-403b-bde1-6c2b6957b73c\",\"type\":\"Text\"},{\"attributes\":{\"text_align\":\"center\",\"text_alpha\":{\"value\":0.1},\"text_color\":{\"value\":\"black\"},\"text_font_size\":{\"value\":\"10pt\"},\"x\":{\"value\":6.437443733215332},\"y\":{\"value\":9.003351211547852}},\"id\":\"36d0e243-5145-4e57-8402-4e2a88ac4bf8\",\"type\":\"Text\"},{\"attributes\":{\"data_source\":{\"id\":\"80f5ddd4-e697-420d-906c-0f037bd1915a\",\"type\":\"ColumnDataSource\"},\"glyph\":{\"id\":\"f083d62c-c14e-403b-bde1-6c2b6957b73c\",\"type\":\"Text\"},\"hover_glyph\":null,\"muted_glyph\":null,\"nonselection_glyph\":{\"id\":\"36d0e243-5145-4e57-8402-4e2a88ac4bf8\",\"type\":\"Text\"},\"selection_glyph\":null,\"view\":{\"id\":\"bc59c35c-e2aa-4c3e-be24-4449a8f4a809\",\"type\":\"CDSView\"}},\"id\":\"d76979ca-58d7-4c90-ad1f-bb7230355176\",\"type\":\"GlyphRenderer\"},{\"attributes\":{\"source\":{\"id\":\"80f5ddd4-e697-420d-906c-0f037bd1915a\",\"type\":\"ColumnDataSource\"}},\"id\":\"bc59c35c-e2aa-4c3e-be24-4449a8f4a809\",\"type\":\"CDSView\"},{\"attributes\":{},\"id\":\"1c698447-0cf3-49cf-92a0-5ada4bfe7813\",\"type\":\"Selection\"},{\"attributes\":{},\"id\":\"d7e54230-772b-4eae-8ee0-b4ff308ca0cb\",\"type\":\"UnionRenderers\"}],\"root_ids\":[\"b13923f1-489e-4fd7-9da1-72cae8ddda7e\"]},\"title\":\"Bokeh Application\",\"version\":\"0.13.0\"}};\n",
       "  var render_items = [{\"docid\":\"029d07e6-8a10-4e1e-8249-4004b5b9fcd0\",\"roots\":{\"b13923f1-489e-4fd7-9da1-72cae8ddda7e\":\"9f9c4ecd-63fe-4b48-9485-e282577190f6\"}}];\n",
       "  root.Bokeh.embed.embed_items_notebook(docs_json, render_items);\n",
       "\n",
       "  }\n",
       "  if (root.Bokeh !== undefined) {\n",
       "    embed_document(root);\n",
       "  } else {\n",
       "    var attempts = 0;\n",
       "    var timer = setInterval(function(root) {\n",
       "      if (root.Bokeh !== undefined) {\n",
       "        embed_document(root);\n",
       "        clearInterval(timer);\n",
       "      }\n",
       "      attempts++;\n",
       "      if (attempts > 100) {\n",
       "        console.log(\"Bokeh: ERROR: Unable to run BokehJS code because BokehJS library is missing\")\n",
       "        clearInterval(timer);\n",
       "      }\n",
       "    }, 10, root)\n",
       "  }\n",
       "})(window);"
      ],
      "application/vnd.bokehjs_exec.v0+json": ""
     },
     "metadata": {
      "application/vnd.bokehjs_exec.v0+json": {
       "id": "b13923f1-489e-4fd7-9da1-72cae8ddda7e"
      }
     },
     "output_type": "display_data"
    },
    {
     "data": {
      "text/html": [
       "\n",
       "\n",
       "\n",
       "\n",
       "\n",
       "\n",
       "  <div class=\"bk-root\" id=\"c5616024-511f-4200-aeb9-76f18e9fd1cb\"></div>\n"
      ]
     },
     "metadata": {},
     "output_type": "display_data"
    },
    {
     "data": {
      "application/javascript": [
       "(function(root) {\n",
       "  function embed_document(root) {\n",
       "    \n",
       "  var docs_json = {\"23230ba9-9766-4ab7-8d18-9846510a6de5\":{\"roots\":{\"references\":[{\"attributes\":{\"data_source\":{\"id\":\"a70f3df2-fba7-4dcb-a1ee-e6d47c1cd3c2\",\"type\":\"ColumnDataSource\"},\"glyph\":{\"id\":\"61db8ed4-d989-4f64-ab3b-0f4572939c87\",\"type\":\"Text\"},\"hover_glyph\":null,\"muted_glyph\":null,\"nonselection_glyph\":{\"id\":\"b805a45e-ac0a-4efb-af22-58fe94c526a6\",\"type\":\"Text\"},\"selection_glyph\":null,\"view\":{\"id\":\"cc3cda42-d92d-4a00-b216-70c4ee63539d\",\"type\":\"CDSView\"}},\"id\":\"8860771b-83e7-41fc-b051-23aa23ccd623\",\"type\":\"GlyphRenderer\"},{\"attributes\":{\"callback\":null,\"data\":{\"text\":[\"\\ub3c4\\ub451\\ub4e4\"]},\"selected\":{\"id\":\"4e1cd61c-011a-42f3-bd60-eea1ae567694\",\"type\":\"Selection\"},\"selection_policy\":{\"id\":\"4ea70164-427e-4e13-b0ba-de2e8875221b\",\"type\":\"UnionRenderers\"}},\"id\":\"a70f3df2-fba7-4dcb-a1ee-e6d47c1cd3c2\",\"type\":\"ColumnDataSource\"},{\"attributes\":{\"data_source\":{\"id\":\"748808fc-89c5-41c8-9bb0-312b41d31e17\",\"type\":\"ColumnDataSource\"},\"glyph\":{\"id\":\"7b563060-3c7a-4377-bf10-5d37ea277d0c\",\"type\":\"Text\"},\"hover_glyph\":null,\"muted_glyph\":null,\"nonselection_glyph\":{\"id\":\"4d3789e4-d5b8-470c-a218-04fc6bdf59bc\",\"type\":\"Text\"},\"selection_glyph\":null,\"view\":{\"id\":\"515e0e4c-bc7e-4513-88f2-32e0c35b91f1\",\"type\":\"CDSView\"}},\"id\":\"84ae6188-c6e5-419c-b78f-51e6f141e433\",\"type\":\"GlyphRenderer\"},{\"attributes\":{\"source\":{\"id\":\"a70f3df2-fba7-4dcb-a1ee-e6d47c1cd3c2\",\"type\":\"ColumnDataSource\"}},\"id\":\"cc3cda42-d92d-4a00-b216-70c4ee63539d\",\"type\":\"CDSView\"},{\"attributes\":{\"callback\":null,\"data\":{\"text\":[\"\\uac80\\uc0ac\\uc678\\uc804\"]},\"selected\":{\"id\":\"1e9507e8-55b8-4d00-ac3a-ddbe9e97c97d\",\"type\":\"Selection\"},\"selection_policy\":{\"id\":\"fba564f8-4101-4403-9ce5-3131918ed7e7\",\"type\":\"UnionRenderers\"}},\"id\":\"8b0dfd54-9f3c-4de0-ab40-0fed0243f7a4\",\"type\":\"ColumnDataSource\"},{\"attributes\":{\"text_align\":\"center\",\"text_color\":{\"value\":\"black\"},\"text_font_size\":{\"value\":\"10pt\"},\"x\":{\"value\":-11.072908401489258},\"y\":{\"value\":1.5226188898086548}},\"id\":\"173b510c-e65d-441b-8974-ac3c9f97d1f9\",\"type\":\"Text\"},{\"attributes\":{\"text_align\":\"center\",\"text_alpha\":{\"value\":0.1},\"text_color\":{\"value\":\"black\"},\"text_font_size\":{\"value\":\"10pt\"},\"x\":{\"value\":-11.072908401489258},\"y\":{\"value\":1.5226188898086548}},\"id\":\"0dbf3aa6-42bd-4cbd-8590-21333b598220\",\"type\":\"Text\"},{\"attributes\":{\"data_source\":{\"id\":\"8b0dfd54-9f3c-4de0-ab40-0fed0243f7a4\",\"type\":\"ColumnDataSource\"},\"glyph\":{\"id\":\"173b510c-e65d-441b-8974-ac3c9f97d1f9\",\"type\":\"Text\"},\"hover_glyph\":null,\"muted_glyph\":null,\"nonselection_glyph\":{\"id\":\"0dbf3aa6-42bd-4cbd-8590-21333b598220\",\"type\":\"Text\"},\"selection_glyph\":null,\"view\":{\"id\":\"d2314d67-8242-481a-9bfa-79cd318252ea\",\"type\":\"CDSView\"}},\"id\":\"f54170b1-409d-41e4-98cd-357f8c250446\",\"type\":\"GlyphRenderer\"},{\"attributes\":{\"source\":{\"id\":\"8b0dfd54-9f3c-4de0-ab40-0fed0243f7a4\",\"type\":\"ColumnDataSource\"}},\"id\":\"d2314d67-8242-481a-9bfa-79cd318252ea\",\"type\":\"CDSView\"},{\"attributes\":{\"callback\":null,\"data\":{\"text\":[\"\\uc2e0\\uc138\\uacc4\"]},\"selected\":{\"id\":\"4418efbb-b7b0-46e7-b06e-e2e5603f5d2b\",\"type\":\"Selection\"},\"selection_policy\":{\"id\":\"d84fa68b-2fbb-49a7-a7ab-7b2b71c2a02a\",\"type\":\"UnionRenderers\"}},\"id\":\"b7c83fd1-c253-41b5-83fc-27541cb08da1\",\"type\":\"ColumnDataSource\"},{\"attributes\":{\"text_align\":\"center\",\"text_color\":{\"value\":\"black\"},\"text_font_size\":{\"value\":\"10pt\"},\"x\":{\"value\":-7.332540035247803},\"y\":{\"value\":2.3981575965881348}},\"id\":\"0b4d3cdd-2ff2-45bf-9c68-50547423827e\",\"type\":\"Text\"},{\"attributes\":{\"text_align\":\"center\",\"text_alpha\":{\"value\":0.1},\"text_color\":{\"value\":\"black\"},\"text_font_size\":{\"value\":\"10pt\"},\"x\":{\"value\":-7.332540035247803},\"y\":{\"value\":2.3981575965881348}},\"id\":\"642ecae5-438b-48d9-a96b-b81f109340fc\",\"type\":\"Text\"},{\"attributes\":{\"data_source\":{\"id\":\"b7c83fd1-c253-41b5-83fc-27541cb08da1\",\"type\":\"ColumnDataSource\"},\"glyph\":{\"id\":\"0b4d3cdd-2ff2-45bf-9c68-50547423827e\",\"type\":\"Text\"},\"hover_glyph\":null,\"muted_glyph\":null,\"nonselection_glyph\":{\"id\":\"642ecae5-438b-48d9-a96b-b81f109340fc\",\"type\":\"Text\"},\"selection_glyph\":null,\"view\":{\"id\":\"cedb4cd4-4d40-4681-aed3-3f6b2575c26f\",\"type\":\"CDSView\"}},\"id\":\"5939f265-28ea-4ac1-9f97-0153f672164c\",\"type\":\"GlyphRenderer\"},{\"attributes\":{\"source\":{\"id\":\"b7c83fd1-c253-41b5-83fc-27541cb08da1\",\"type\":\"ColumnDataSource\"}},\"id\":\"cedb4cd4-4d40-4681-aed3-3f6b2575c26f\",\"type\":\"CDSView\"},{\"attributes\":{},\"id\":\"7030270e-e3a2-496e-80ec-3a4e03a05c59\",\"type\":\"BasicTickFormatter\"},{\"attributes\":{\"source\":{\"id\":\"748808fc-89c5-41c8-9bb0-312b41d31e17\",\"type\":\"ColumnDataSource\"}},\"id\":\"515e0e4c-bc7e-4513-88f2-32e0c35b91f1\",\"type\":\"CDSView\"},{\"attributes\":{\"callback\":null,\"data\":{\"text\":[\"\\ubc00\\uc815\"]},\"selected\":{\"id\":\"8b265cbe-2bf4-4cbf-871e-0415010ad8e2\",\"type\":\"Selection\"},\"selection_policy\":{\"id\":\"9513e5e3-0853-4813-8beb-706f1233387c\",\"type\":\"UnionRenderers\"}},\"id\":\"a53b5410-8ee6-4f2f-8031-95784c81a0a2\",\"type\":\"ColumnDataSource\"},{\"attributes\":{\"text_align\":\"center\",\"text_color\":{\"value\":\"black\"},\"text_font_size\":{\"value\":\"10pt\"},\"x\":{\"value\":-10.215007781982422},\"y\":{\"value\":-2.835049867630005}},\"id\":\"e484e0b9-f4a5-470d-a792-8fe8447c0c67\",\"type\":\"Text\"},{\"attributes\":{\"text_align\":\"center\",\"text_alpha\":{\"value\":0.1},\"text_color\":{\"value\":\"black\"},\"text_font_size\":{\"value\":\"10pt\"},\"x\":{\"value\":-10.215007781982422},\"y\":{\"value\":-2.835049867630005}},\"id\":\"f35a5134-aec8-4721-a749-f324d4bc5911\",\"type\":\"Text\"},{\"attributes\":{\"data_source\":{\"id\":\"a53b5410-8ee6-4f2f-8031-95784c81a0a2\",\"type\":\"ColumnDataSource\"},\"glyph\":{\"id\":\"e484e0b9-f4a5-470d-a792-8fe8447c0c67\",\"type\":\"Text\"},\"hover_glyph\":null,\"muted_glyph\":null,\"nonselection_glyph\":{\"id\":\"f35a5134-aec8-4721-a749-f324d4bc5911\",\"type\":\"Text\"},\"selection_glyph\":null,\"view\":{\"id\":\"c6d515bd-bf7d-42da-898f-b433b6d31e62\",\"type\":\"CDSView\"}},\"id\":\"ef1fc0ee-1318-4021-93af-97abf9fa0d93\",\"type\":\"GlyphRenderer\"},{\"attributes\":{\"source\":{\"id\":\"a53b5410-8ee6-4f2f-8031-95784c81a0a2\",\"type\":\"ColumnDataSource\"}},\"id\":\"c6d515bd-bf7d-42da-898f-b433b6d31e62\",\"type\":\"CDSView\"},{\"attributes\":{\"callback\":null,\"data\":{\"text\":[\"\\uc30d\\ud654\\uc810\"]},\"selected\":{\"id\":\"1a6e4a67-fb22-405d-b25c-446751ef1049\",\"type\":\"Selection\"},\"selection_policy\":{\"id\":\"29553197-328f-4f89-b281-4d8bab797eda\",\"type\":\"UnionRenderers\"}},\"id\":\"dc9cfaf6-dc5a-4e67-ae49-456f05a5eeea\",\"type\":\"ColumnDataSource\"},{\"attributes\":{\"text_align\":\"center\",\"text_alpha\":{\"value\":0.1},\"text_color\":{\"value\":\"black\"},\"text_font_size\":{\"value\":\"10pt\"},\"x\":{\"value\":-3.9547066688537598},\"y\":{\"value\":-1.2048192024230957}},\"id\":\"4d3789e4-d5b8-470c-a218-04fc6bdf59bc\",\"type\":\"Text\"},{\"attributes\":{\"text_align\":\"center\",\"text_color\":{\"value\":\"black\"},\"text_font_size\":{\"value\":\"10pt\"},\"x\":{\"value\":-2.8767685890197754},\"y\":{\"value\":-1.8950783014297485}},\"id\":\"5d084200-23b6-4290-b9af-be25a5586783\",\"type\":\"Text\"},{\"attributes\":{\"text_align\":\"center\",\"text_color\":{\"value\":\"black\"},\"text_font_size\":{\"value\":\"10pt\"},\"x\":{\"value\":-3.9547066688537598},\"y\":{\"value\":-1.2048192024230957}},\"id\":\"7b563060-3c7a-4377-bf10-5d37ea277d0c\",\"type\":\"Text\"},{\"attributes\":{\"text_align\":\"center\",\"text_alpha\":{\"value\":0.1},\"text_color\":{\"value\":\"black\"},\"text_font_size\":{\"value\":\"10pt\"},\"x\":{\"value\":-2.8767685890197754},\"y\":{\"value\":-1.8950783014297485}},\"id\":\"7400fad8-21f0-40d5-ab09-f944167af259\",\"type\":\"Text\"},{\"attributes\":{\"data_source\":{\"id\":\"dc9cfaf6-dc5a-4e67-ae49-456f05a5eeea\",\"type\":\"ColumnDataSource\"},\"glyph\":{\"id\":\"5d084200-23b6-4290-b9af-be25a5586783\",\"type\":\"Text\"},\"hover_glyph\":null,\"muted_glyph\":null,\"nonselection_glyph\":{\"id\":\"7400fad8-21f0-40d5-ab09-f944167af259\",\"type\":\"Text\"},\"selection_glyph\":null,\"view\":{\"id\":\"ae43380b-4c96-4848-b792-9467b233f3a4\",\"type\":\"CDSView\"}},\"id\":\"e2c2afec-0789-454a-9823-978fde02656c\",\"type\":\"GlyphRenderer\"},{\"attributes\":{\"source\":{\"id\":\"607df378-3940-41de-84f1-0ca9c0023c49\",\"type\":\"ColumnDataSource\"}},\"id\":\"d8e02221-4778-42cf-80af-394aff83738c\",\"type\":\"CDSView\"},{\"attributes\":{\"callback\":null},\"id\":\"cc347860-afc3-452f-b6f1-842535ab6ff6\",\"type\":\"DataRange1d\"},{\"attributes\":{\"source\":{\"id\":\"dc9cfaf6-dc5a-4e67-ae49-456f05a5eeea\",\"type\":\"ColumnDataSource\"}},\"id\":\"ae43380b-4c96-4848-b792-9467b233f3a4\",\"type\":\"CDSView\"},{\"attributes\":{\"text_align\":\"center\",\"text_alpha\":{\"value\":0.1},\"text_color\":{\"value\":\"black\"},\"text_font_size\":{\"value\":\"10pt\"},\"x\":{\"value\":-10.858673095703125},\"y\":{\"value\":-3.873427152633667}},\"id\":\"9acd9a01-bf26-44f8-bfc5-f52c2b3ff45c\",\"type\":\"Text\"},{\"attributes\":{\"data_source\":{\"id\":\"607df378-3940-41de-84f1-0ca9c0023c49\",\"type\":\"ColumnDataSource\"},\"glyph\":{\"id\":\"61f509ec-bd6a-4414-83e8-47086160ac40\",\"type\":\"Text\"},\"hover_glyph\":null,\"muted_glyph\":null,\"nonselection_glyph\":{\"id\":\"9acd9a01-bf26-44f8-bfc5-f52c2b3ff45c\",\"type\":\"Text\"},\"selection_glyph\":null,\"view\":{\"id\":\"d8e02221-4778-42cf-80af-394aff83738c\",\"type\":\"CDSView\"}},\"id\":\"648195cd-229b-47af-a330-aeebd646d75c\",\"type\":\"GlyphRenderer\"},{\"attributes\":{},\"id\":\"6489d807-0956-49bf-a1f8-0f8ab8a3e8fd\",\"type\":\"BasicTickFormatter\"},{\"attributes\":{\"callback\":null,\"data\":{\"desc\":[\"\\uace0\\uc0ac \\ub450 \\ubc88\\uc9f8 \\uc774\\uc57c\\uae30: \\uad50\\uc0dd\\uc2e4\\uc2b5\",\"\\ubc15\\uc950\",\"\\ud574\\ubb34\",\"\\ud574\\uc6b4\\ub300\",\"\\uc778\\ud130\\uc2a4\\ud154\\ub77c\",\"\\uad6d\\uac00\\ub300\\ud45c\",\"\\ub3c4\\ub451\\ub4e4\",\"\\ubca0\\ub97c\\ub9b0\",\"\\ud574\\ub9ac \\ud3ec\\ud130\\uc640 \\uc8fd\\uc74c\\uc758 \\uc131\\ubb3c - 2\\ubd80\",\"\\ubbf8\\uc2a4\\ud130 \\uace0\",\"7\\uad11\\uad6c\",\"\\ub7ed\\ud0a4\",\"\\ub2e4\\ud06c \\ub098\\uc774\\ud2b8 \\ub77c\\uc774\\uc988\",\"\\ud574\\uc801: \\ubc14\\ub2e4\\ub85c \\uac04 \\uc0b0\\uc801\",\"\\ubc30\\ud2b8\\ub9e8 \\ub300 \\uc288\\ud37c\\ub9e8: \\uc800\\uc2a4\\ud2f0\\uc2a4\\uc758 \\uc2dc\\uc791\",\"\\uc544\\uac00\\uc528\",\"\\ub0b4\\uac00 \\uc0b4\\uc778\\ubc94\\uc774\\ub2e4\",\"\\uba54\\uc774\\uc988 \\ub7ec\\ub108: \\uc2a4\\ucf54\\uce58 \\ud2b8\\ub77c\\uc774\\uc5bc\",\"\\ub2e4\\ud06c \\ub098\\uc774\\ud2b8\",\"\\ucea1\\ud2f4 \\uc544\\uba54\\ub9ac\\uce74: \\uc2dc\\ube4c \\uc6cc\",\"\\uacfc\\uc18d\\uc2a4\\uce94\\ub4e4\",\"\\ubbf8\\ub140\\ub294 \\uad34\\ub85c\\uc6cc\",\"\\ud130\\ub110\",\"\\uc601\\uc6c5: \\uc0d0\\ub7ec\\uba58\\ub354\\uc758 \\ube44\\ubc00\",\"\\uc751\\ub2f5\\ud558\\ub77c 1988\",\"\\ub300\\ud638\",\"\\uc2e0\\uc138\\uacc4\",\"\\uace1\\uc131(\\u54ed\\u8072)\",\"\\uaca8\\uc6b8\\uc655\\uad6d\",\"\\uc644\\ub4dd\\uc774\",\"\\ube45 \\ud788\\uc5b4\\ub85c\",\"\\uc778\\uc149\\uc158\",\"\\ud0c0\\uc774\\ud0c0\\ub2c9\",\"26\\ub144\",\"\\uc9c0\\uae08, \\ub9cc\\ub098\\ub7ec \\uac11\\ub2c8\\ub2e4\",\"\\uc554\\uc0b4\",\"\\ud3ec\\ud654 \\uc18d\\uc73c\\ub85c\",\"\\uc778\\ud134\",\"\\uc758\\ud615\\uc81c\",\"\\ud310\\ub3c4\\ub77c\",\"\\uac80\\uc740 \\uc0ac\\uc81c\\ub4e4\",\"\\uc545\\ub9c8\\ub97c \\ubcf4\\uc558\\ub2e4\",\"\\uc88b\\uc740 \\ub188, \\ub098\\uc05c \\ub188, \\uc774\\uc0c1\\ud55c \\ub188\",\"\\ucc9c\\uc548\\ud568 \\ud504\\ub85c\\uc81d\\ud2b8\",\"\\uc778\\ub514\\ud39c\\ub358\\uc2a4 \\ub370\\uc774: \\ub9ac\\uc368\\uc804\\uc2a4\",\"\\uc6a9\\uc758\\uc790\",\"\\uad11\\ud574, \\uc655\\uc774 \\ub41c \\ub0a8\\uc790\",\"\\uc81c\\uc774\\uc2a8 \\ubcf8\",\"\\uce90\\ub9ac\\ube44\\uc548\\uc758 \\ud574\\uc801 - \\uc138\\uc0c1\\uc758 \\ub05d\\uc5d0\\uc11c\",\"\\ub2d8\\uc544, \\uadf8 \\uac15\\uc744 \\uac74\\ub108\\uc9c0 \\ub9c8\\uc624\",\"\\ud2b8\\ub79c\\uc2a4\\ud3ec\\uba38 3\",\"\\uce74\\ud2b8\",\"\\ubc30\\ud2c0\\uc27d\",\"\\uac80\\uc0ac\\uc678\\uc804\",\"\\uad6d\\uc81c\\uc2dc\\uc7a5\",\"\\uc96c\\ub77c\\uae30 \\uc6d4\\ub4dc\",\"\\uad00\\uc0c1\",\"\\ud574\\ubc14\\ub77c\\uae30\",\"\\uc5d1\\uc2a4\\ub9e8: \\ub370\\uc774\\uc988 \\uc624\\ube0c \\ud4e8\\ucc98 \\ud328\\uc2a4\\ud2b8\",\"\\ubc15\\uc218\\uac74\\ub2ec\",\"\\uac10\\uae30\",\"\\ucd5c\\uc885\\ubcd1\\uae30 \\ud65c\",\"\\uace0\\uc9c0\\uc804\",\"\\ud074\\ub808\\uba58\\ud0c0\\uc778\",\"\\uac10\\uc2dc\\uc790\\ub4e4\",\"\\uc2a4\\uce74\\uc774\\ub77c\\uc778\",\"\\uc6cc\\ud06c\\ub798\\ud504\\ud2b8: \\uc804\\uc7c1\\uc758 \\uc11c\\ub9c9\",\"\\uc778\\uc0ac\\uc774\\ub4dc \\uc544\\uc6c3\",\"\\uc138 \\uc5bc\\uac04\\uc774\",\"\\ud615\",\"\\ud2b8\\uc640\\uc77c\\ub77c\\uc787\",\"\\uc5ed\\ub9b0\",\"\\ube44\\uae34 \\uc5b4\\uac8c\\uc778\",\"\\ub450\\uadfc\\ub450\\uadfc \\ub0b4 \\uc778\\uc0dd\",\"\\ub354 \\ud14c\\ub7ec \\ub77c\\uc774\\ube0c\",\"2012\",\"\\ub3c4\\uac00\\ub2c8\",\"\\uc5e3\\uc9c0 \\uc624\\ube0c \\ud22c\\ubaa8\\ub85c\\uc6b0\",\"\\ub9e8 \\uc624\\ube0c \\uc2a4\\ud2f8\",\"\\ud0b9\\uc2a4\\ub9e8 : \\uc2dc\\ud06c\\ub9bf \\uc5d0\\uc774\\uc804\\ud2b8\",\"\\uc655\\uc758 \\ub0a8\\uc790\",\"\\ubc00\\uc815\",\"\\ubbf8\\uc158 \\uc784\\ud30c\\uc11c\\ube14: \\ub85c\\uadf8\\ub124\\uc774\\uc158\",\"\\uc5f0\\uac00\\uc2dc\",\"\\uc5f0\\ud3c9\\ud574\\uc804\",\"\\ub808\\ubbf8\\uc81c\\ub77c\\ube14\",\"\\ucd08\\ub2a5\\ub825\\uc790\",\"\\ub05d\\uae4c\\uc9c0 \\uac04\\ub2e4\",\"\\uc5b4\\uac70\\uc2a4\\ud2b8 \\ub7ec\\uc26c\",\"\\ud035\",\"\\uadf8\\ub798\\ube44\\ud2f0\",\"\\uad34\\ubb3c\",\"\\uc778\\ucc9c\\uc0c1\\ub959\\uc791\\uc804\",\"\\ud558\\uc6b8\\uc758 \\uc6c0\\uc9c1\\uc774\\ub294 \\uc131\",\"\\ubbf8\\uc2a4 \\ud398\\ub808\\uadf8\\ub9b0\\uacfc \\uc774\\uc0c1\\ud55c \\uc544\\uc774\\ub4e4\\uc758 \\uc9d1\",\"\\uc2e0\\uc758 \\ud55c \\uc218\",\"\\uc2e0\\ube44\\ud55c \\ub3d9\\ubb3c\\uc0ac\\uc804\",\"7\\ubc88\\ubc29\\uc758 \\uc120\\ubb3c\",\"\\ud639\\uc131\\ud0c8\\ucd9c: \\ubc18\\uaca9\\uc758 \\uc11c\\ub9c9\",\"\\ud654\\ub824\\ud55c \\ud734\\uac00\",\"\\uc544\\uc774\\uc5b8\\ub9e8 3\",\"\\ub77c\\ub77c\\ub79c\\ub4dc\",\"\\uc5b4\\ubca4\\uc838\\uc2a4: \\uc5d0\\uc774\\uc9c0 \\uc624\\ube0c \\uc6b8\\ud2b8\\ub860\",\"\\uc228\\ubc14\\uaf2d\\uc9c8\",\"\\uc778\\uc0dd\\uc740 \\uc544\\ub984\\ub2e4\\uc6cc\",\"\\ub098\\ub294 \\uc804\\uc124\\uc774\\ub2e4\",\"\\uc6f0\\ucef4 \\ud22c \\ub3d9\\ub9c9\\uace8\",\"\\ub370\\ub4dc\\ud480\",\"\\ubc18\\ucc3d\\uaf2c\",\"\\ud574\\ub9ac \\ud3ec\\ud130\\uc640 \\ud63c\\ud608 \\uc655\\uc790\",\"\\uc544\\uc800\\uc528\",\"\\uadc0\\ud5a5\",\"\\ubd80\\uc0b0\\ud589\",\"\\ud22c\\uc0ac\\ubd80\\uc77c\\uccb4\",\"\\uc1fc\\uc0dd\\ud06c \\ud0c8\\ucd9c\",\"\\ud130\\ubbf8\\ub124\\uc774\\ud130 \\uc81c\\ub2c8\\uc2dc\\uc2a4\",\"\\uc544\\uc218\\ub77c\",\"\\uc2dc\\ub77c\\ub178; \\uc5f0\\uc560\\uc870\\uc791\\ub2e8\",\"\\ub291\\ub300\\uc18c\\ub144\",\"\\uc804\\uc6b0\\uce58\",\"\\uc368\\ub2c8\",\"\\ub514 \\uc6cc\",\"\\ub9ac\\uc5bc \\uc2a4\\ud2f8\",\"\\ud2b8\\ub79c\\uc2a4\\ud3ec\\uba38: \\ud328\\uc790\\uc758 \\uc5ed\\uc2b5\",\"\\uc218\\uc0c1\\ud55c \\uadf8\\ub140\",\"\\uc544\\uc774\\uc5b8\\ub9e8\",\"\\uac74\\ucd95\\ud559\\uac1c\\ub860\",\"\\uc218\\uc5b4\\uc0ac\\uc774\\ub4dc \\uc2a4\\ucffc\\ub4dc\",\"\\ub355\\ud61c\\uc639\\uc8fc\",\"\\ud14c\\uc774\\ud070\",\"\\ud0c0\\uc6cc\",\"\\uc13c\\uacfc \\uce58\\ud788\\ub85c\\uc758 \\ud589\\ubc29\\ubd88\\uba85\",\"\\uc2dc\\uac04\\uc744 \\ub2ec\\ub9ac\\ub294 \\uc18c\\ub140\",\"\\uc6b0\\ub9ac\\ub4e4\\uc758 \\ud589\\ubcf5\\ud55c \\uc2dc\\uac04\",\"\\ub2e5\\ud130 \\uc2a4\\ud2b8\\ub808\\uc778\\uc9c0\",\"\\ubca0\\ud14c\\ub791\",\"\\uc5b4\\ubca4\\uc838\\uc2a4\",\"\\ud558\\ubaa8\\ub2c8\",\"\\ub274 \\ubb38\",\"\\uc384\\uc2dc\\ubd09\",\"\\uc6dc \\ubc14\\ub514\\uc2a4\",\"\\ub2e4\\uc138\\ud3ec \\uc18c\\ub140\",\"\\ud0c0\\uc9dc-\\uc2e0\\uc758 \\uc190\",\"\\ucd94\\uaca9\\uc790\",\"\\uc5b4\\ubc14\\uc6c3 \\ud0c0\\uc784\",\"\\ud5ec\\ub85c\\uc6b0 \\uace0\\uc2a4\\ud2b8\",\"\\uc870\\uc120\\uba85\\ud0d0\\uc815: \\uac01\\uc2dc\\ud22c\\uad6c\\uaf43\\uc758 \\ube44\\ubc00\",\"\\ub9d0\\ud560 \\uc218 \\uc5c6\\ub294 \\ube44\\ubc00\",\"\\uc30d\\ud654\\uc810\",\"\\uc18c\\uc6d0\",\"\\uad70\\ub3c4:\\ubbfc\\ub780\\uc758 \\uc2dc\\ub300\",\"\\uc5d1\\uc2a4\\ub9e8: \\uc544\\ud3ec\\uce7c\\ub9bd\\uc2a4\",\"\\ud30c\\ud30c\\ub85c\\ud2f0\",\"\\ud788\\ub9d0\\ub77c\\uc57c\",\"\\uc124\\uad6d\\uc5f4\\ucc28\",\"\\ud2b8\\ub79c\\uc2a4\\ud3ec\\uba38: \\uc0ac\\ub77c\\uc9c4 \\uc2dc\\ub300\",\"\\uc6d4\\ub4dc\\uc6ccZ\",\"\\ub77c\\ub514\\uc624 \\uc2a4\\ud0c0\",\"\\ub514\\uc2a4\\ud2b8\\ub9ad\\ud2b8 9\",\"\\uc138\\ube10 \\ub370\\uc774\\uc988\",\"\\uce90\\ub9ac\\ube44\\uc548\\uc758 \\ud574\\uc801 - \\ub9dd\\uc790\\uc758 \\ud568\",\"\\ud2b8\\ub79c\\uc2a4\\ud3ec\\uba38\",\"\\ucea1\\ud2f4 \\uc544\\uba54\\ub9ac\\uce74: \\uc708\\ud130 \\uc194\\uc838\",\"\\ub77c\\uc2a4\\ud2b8 \\uac13\\ud30c\\ub354\",\"\\ub9e4\\ub4dc\\ub9e5\\uc2a4: \\ubd84\\ub178\\uc758 \\ub3c4\\ub85c\",\"\\ub098\\uc6b0 \\uc720 \\uc528 \\ubbf8 2\",\"\\uc5b4\\uba54\\uc774\\uc9d5 \\uc2a4\\ud30c\\uc774\\ub354\\ub9e8 2\",\"\\ubdf0\\ud2f0 \\uc778\\uc0ac\\uc774\\ub4dc\",\"\\ud37c\\uc2dc\\ud53d \\ub9bc\",\"\\uc0ac\\ub3c4\",\"\\ub9c8\\uc158\",\"\\uc544\\ubc14\\ud0c0\"],\"x\":[-1.394061803817749,-3.356041193008423,-8.762958526611328,-0.7483838200569153,11.462432861328125,-0.8392059803009033,-9.266213417053223,-7.629822254180908,7.315851211547852,0.9106549024581909,-0.5816501975059509,-11.584921836853027,8.161821365356445,-11.80797290802002,10.544958114624023,-8.45599365234375,-5.508133888244629,13.20724105834961,7.770938873291016,10.396780014038086,-0.8599739074707031,-1.1725841760635376,-6.486378192901611,5.607064723968506,-5.536158084869385,-10.813197135925293,-7.332540035247803,-7.710780143737793,6.437443733215332,-2.0171468257904053,6.633240222930908,3.600099802017212,5.206543445587158,-6.900869369506836,3.82519793510437,-10.0742769241333,-5.59369421005249,2.340023994445801,-3.9547066688537598,-6.081601142883301,-7.715938568115234,-3.8934524059295654,-2.7457141876220703,-7.275416851043701,9.514646530151367,-7.102909564971924,-11.974514961242676,12.332804679870605,5.151686191558838,1.1831992864608765,6.639776706695557,-6.634997844696045,5.690677642822266,-11.072908401489258,-9.313880920410156,9.733613967895508,-11.324575424194336,-3.1086556911468506,10.999197006225586,-2.0589702129364014,-4.475189208984375,-5.025686740875244,-5.268005847930908,5.50935697555542,-8.393644332885742,3.773050546646118,11.750164031982422,6.360003471374512,2.3727359771728516,-4.036133766174316,5.6152520179748535,-10.604057312011719,3.2858643531799316,-5.224851131439209,-5.223845958709717,4.27747917175293,-6.84415864944458,11.405153274536133,8.028342247009277,14.705619812011719,-2.628605365753174,-10.215007781982422,12.135376930236816,-3.9557650089263916,-7.992021083831787,4.819275856018066,-1.36631441116333,-9.022683143615723,4.57732629776001,-1.0429668426513672,11.407959938049316,0.8409330248832703,-8.695075988769531,6.333369255065918,14.140096664428711,-9.761650085449219,13.809428215026855,-2.9101104736328125,10.333786010742188,-6.119785785675049,8.62454891204834,3.5432450771331787,10.278335571289062,-4.2618408203125,3.7775826454162598,1.9320995807647705,-2.3388562202453613,14.664851188659668,-1.5664434432983398,6.641965866088867,-5.084617614746094,-8.757129669189453,-5.50781774520874,0.39016371965408325,4.653477668762207,11.145406723022461,-9.467809677124023,-0.2450229823589325,-0.27229779958724976,-1.4527413845062256,0.30222856998443604,2.434441328048706,6.072579383850098,6.195343017578125,-3.015568494796753,7.204543590545654,0.4131176471710205,11.25396728515625,-10.048881530761719,-5.638088703155518,-3.9476959705352783,6.3134002685546875,5.64275598526001,-3.6304233074188232,12.401154518127441,-9.889959335327148,7.945141792297363,-2.778812885284424,5.793369293212891,-5.72490930557251,1.8023042678833008,0.14060285687446594,-10.559599876403809,-4.805155277252197,2.6384217739105225,-1.997976541519165,-0.9903249740600586,4.553210258483887,-2.8767685890197754,-6.607759952545166,-10.284226417541504,11.25443172454834,-1.2494115829467773,-10.292524337768555,-1.9242244958877563,8.503532409667969,-2.0839924812316895,-2.149477005004883,3.481790065765381,-5.122333526611328,4.884883880615234,5.36682653427124,10.022141456604004,1.0667859315872192,12.851832389831543,12.68100643157959,9.59174919128418,-4.9819865226745605,6.349157333374023,-10.858673095703125,11.949687004089355,4.480194091796875],\"y\":[2.4801087379455566,1.377502679824829,0.026169372722506523,-2.380107879638672,1.2327384948730469,-3.3994758129119873,3.6889796257019043,3.323542356491089,-0.7002939581871033,6.920493125915527,2.6317529678344727,1.4220654964447021,2.19382381439209,1.8937848806381226,7.502434253692627,-0.9879656434059143,3.1440045833587646,7.997196674346924,1.8586325645446777,6.854846000671387,-5.673737525939941,-5.037930488586426,6.382537841796875,-9.184409141540527,-10.49613094329834,-5.5642008781433105,2.3981575965881348,0.8035662770271301,9.003351211547852,-9.408255577087402,8.783226013183594,2.963649272918701,-7.192296504974365,-4.624321460723877,-6.4076762199401855,-2.854203939437866,-3.055569887161255,-3.7574987411499023,-1.2048192024230957,6.911901473999023,0.9705448746681213,1.772931694984436,0.3014087378978729,-4.655442714691162,4.153713703155518,3.368901014328003,-1.65946626663208,4.686967372894287,1.1113094091415405,-4.938828468322754,3.696781635284424,-7.884255886077881,4.877634048461914,1.5226188898086548,-6.6055402755737305,3.8084754943847656,-1.231539249420166,-3.860779047012329,5.790792942047119,-7.98820686340332,6.368671417236328,-0.41936713457107544,-2.778280019760132,-8.977875709533691,3.1589529514312744,4.410926342010498,8.349047660827637,9.674723625183105,-6.85224723815918,-8.226947784423828,-0.8339329957962036,-1.2643437385559082,-3.9426357746124268,-8.816286087036133,4.72341251373291,5.048338413238525,-6.493618488311768,3.58545184135437,6.134672164916992,4.314517021179199,-2.821359395980835,-2.835049867630005,4.574084281921387,5.6226091384887695,-4.72980260848999,-4.551063060760498,1.605084776878357,2.1193504333496094,-5.5495219230651855,-0.1373448669910431,1.2924020290374756,2.518022060394287,-4.258231163024902,-5.25070858001709,6.689204216003418,2.9561400413513184,6.770335674285889,-7.148437023162842,4.824105262756348,-4.3209147453308105,5.585491180419922,-3.80092716217041,6.0858283042907715,4.73118257522583,-7.261557579040527,4.132490634918213,-3.6560239791870117,4.527293682098389,-8.592035293579102,-0.6301763653755188,0.8935827612876892,-5.813784122467041,6.292911052703857,0.38809734582901,-7.189093589782715,4.651390075683594,0.48259857296943665,-6.628299713134766,-8.72060489654541,0.8179423809051514,-6.817641735076904,1.8876276016235352,6.2987589836120605,3.341043710708618,-8.27094841003418,4.803754806518555,-7.527178764343262,7.326162815093994,-4.669276714324951,1.303443193435669,6.883579730987549,-5.550224304199219,-5.833490371704102,-5.634304523468018,6.07835054397583,1.7718422412872314,5.371880054473877,-6.388838768005371,-0.7095905542373657,-9.34826946258545,-9.74896240234375,1.549835443496704,3.5394127368927,2.3656365871429443,-4.323911190032959,-6.506165504455566,0.522998571395874,-6.011826515197754,-1.8950783014297485,-7.110280513763428,-0.06163066625595093,6.2158427238464355,-7.692353248596191,-5.859098434448242,5.219221115112305,4.272976398468018,6.021356582641602,-4.596059322357178,3.848484754562378,2.1794707775115967,0.9237141013145447,3.493636131286621,5.9159393310546875,0.32573628425598145,3.838040828704834,6.804727554321289,7.007125377655029,-9.52000904083252,5.256425857543945,-3.873427152633667,1.945081114768982,3.4895505905151367]},\"selected\":{\"id\":\"2977444c-9dc4-4220-97a1-6e000f66012a\",\"type\":\"Selection\"},\"selection_policy\":{\"id\":\"c1cade38-9840-4b34-aa73-eba41a3de816\",\"type\":\"UnionRenderers\"}},\"id\":\"8b826a51-3580-4778-ad34-faeaef33718b\",\"type\":\"ColumnDataSource\"},{\"attributes\":{},\"id\":\"2977444c-9dc4-4220-97a1-6e000f66012a\",\"type\":\"Selection\"},{\"attributes\":{\"active_drag\":\"auto\",\"active_inspect\":\"auto\",\"active_multi\":null,\"active_scroll\":\"auto\",\"active_tap\":\"auto\",\"tools\":[{\"id\":\"4a3223aa-a612-4418-b207-717211422a43\",\"type\":\"PanTool\"},{\"id\":\"e5ed1919-3c42-4203-8ae4-fc19b73838c6\",\"type\":\"WheelZoomTool\"},{\"id\":\"49803243-bb76-4071-ab12-949862fec1a7\",\"type\":\"BoxZoomTool\"},{\"id\":\"388e9aea-a91a-49f5-8e37-e82bad508902\",\"type\":\"SaveTool\"},{\"id\":\"f33e62ea-3675-4ef4-bdd4-4d86a95693e8\",\"type\":\"ResetTool\"},{\"id\":\"5d10ddcd-87a3-4856-93db-2a3c4411e0a1\",\"type\":\"HelpTool\"},{\"id\":\"2f30bc9d-d672-4f82-92e0-bea938e5bb4b\",\"type\":\"HoverTool\"}]},\"id\":\"85f852c8-5f21-46a3-9814-d9d5dfac27be\",\"type\":\"Toolbar\"},{\"attributes\":{},\"id\":\"c1cade38-9840-4b34-aa73-eba41a3de816\",\"type\":\"UnionRenderers\"},{\"attributes\":{},\"id\":\"388e9aea-a91a-49f5-8e37-e82bad508902\",\"type\":\"SaveTool\"},{\"attributes\":{\"bottom_units\":\"screen\",\"fill_alpha\":{\"value\":0.5},\"fill_color\":{\"value\":\"lightgrey\"},\"left_units\":\"screen\",\"level\":\"overlay\",\"line_alpha\":{\"value\":1.0},\"line_color\":{\"value\":\"black\"},\"line_dash\":[4,4],\"line_width\":{\"value\":2},\"plot\":null,\"render_mode\":\"css\",\"right_units\":\"screen\",\"top_units\":\"screen\"},\"id\":\"8e530d0d-99c0-4381-9686-b825459faaeb\",\"type\":\"BoxAnnotation\"},{\"attributes\":{},\"id\":\"39e5d0f8-9ff0-4948-8a7a-fad678f5e059\",\"type\":\"Selection\"},{\"attributes\":{\"data_source\":{\"id\":\"8b826a51-3580-4778-ad34-faeaef33718b\",\"type\":\"ColumnDataSource\"},\"glyph\":{\"id\":\"b0ce241b-79f8-49d9-a74c-8875f9d9f3c6\",\"type\":\"Circle\"},\"hover_glyph\":null,\"muted_glyph\":null,\"nonselection_glyph\":{\"id\":\"d42a13ac-c5aa-4154-8931-f77e8c761dd1\",\"type\":\"Circle\"},\"selection_glyph\":null,\"view\":{\"id\":\"2b5c0ce9-1a1c-4f6a-982a-7e4d576cb5f4\",\"type\":\"CDSView\"}},\"id\":\"708e8b52-f6d9-49f0-aa49-c54737d57000\",\"type\":\"GlyphRenderer\"},{\"attributes\":{},\"id\":\"9ee3e055-7cdb-4d3a-a918-89b65803d857\",\"type\":\"UnionRenderers\"},{\"attributes\":{\"grid_line_color\":{\"value\":null},\"plot\":{\"id\":\"ca378de4-85a8-45ad-b5ef-42485dd8a960\",\"subtype\":\"Figure\",\"type\":\"Plot\"},\"ticker\":{\"id\":\"f845edba-87cf-4c6d-9137-0187f25fdd7f\",\"type\":\"BasicTicker\"}},\"id\":\"fee935dc-a110-4ae5-a5cf-b3b5ff54494b\",\"type\":\"Grid\"},{\"attributes\":{},\"id\":\"b7635777-4557-4bdb-a468-dc1a66aee9ae\",\"type\":\"Selection\"},{\"attributes\":{},\"id\":\"77b37d95-f400-40fd-87b6-a2a021ca5020\",\"type\":\"UnionRenderers\"},{\"attributes\":{},\"id\":\"c8f01c01-5669-4f46-b573-da05bed0dbf4\",\"type\":\"LinearScale\"},{\"attributes\":{},\"id\":\"81fb2528-b4c9-4fd6-a850-a450823bb1a6\",\"type\":\"Selection\"},{\"attributes\":{\"callback\":null},\"id\":\"bf085868-a25f-4c77-85e9-cae0ea8d5ab6\",\"type\":\"DataRange1d\"},{\"attributes\":{},\"id\":\"b0921b3c-86ce-4fcd-8ddd-46dcc53b2790\",\"type\":\"LinearScale\"},{\"attributes\":{},\"id\":\"a246eb58-5b15-44a5-abf2-d3465004ce14\",\"type\":\"UnionRenderers\"},{\"attributes\":{\"plot\":null,\"text\":\"\\\"\\uad00\\uc0c1\\\" \\uc720\\uc0ac \\uc601\\ud654\"},\"id\":\"eb44521d-dadf-4ac8-a13c-a6392504ef2e\",\"type\":\"Title\"},{\"attributes\":{},\"id\":\"1df6a97c-9bb8-4898-bbc2-de512dd2a054\",\"type\":\"Selection\"},{\"attributes\":{\"fill_alpha\":{\"value\":0.5},\"fill_color\":{\"value\":\"orange\"},\"line_alpha\":{\"value\":0.5},\"line_color\":{\"value\":\"navy\"},\"size\":{\"units\":\"screen\",\"value\":5},\"x\":{\"field\":\"x\"},\"y\":{\"field\":\"y\"}},\"id\":\"b0ce241b-79f8-49d9-a74c-8875f9d9f3c6\",\"type\":\"Circle\"},{\"attributes\":{},\"id\":\"32a268b9-91f8-425c-908a-12f5672f5030\",\"type\":\"UnionRenderers\"},{\"attributes\":{},\"id\":\"f845edba-87cf-4c6d-9137-0187f25fdd7f\",\"type\":\"BasicTicker\"},{\"attributes\":{},\"id\":\"4e1cd61c-011a-42f3-bd60-eea1ae567694\",\"type\":\"Selection\"},{\"attributes\":{\"dimension\":1,\"grid_line_color\":{\"value\":null},\"plot\":{\"id\":\"ca378de4-85a8-45ad-b5ef-42485dd8a960\",\"subtype\":\"Figure\",\"type\":\"Plot\"},\"ticker\":{\"id\":\"4dcfc268-8644-4feb-96cb-6085b0e57d8e\",\"type\":\"BasicTicker\"}},\"id\":\"409d3ac8-ba9b-4e1d-9a31-d33ed390e851\",\"type\":\"Grid\"},{\"attributes\":{},\"id\":\"4ea70164-427e-4e13-b0ba-de2e8875221b\",\"type\":\"UnionRenderers\"},{\"attributes\":{},\"id\":\"4dcfc268-8644-4feb-96cb-6085b0e57d8e\",\"type\":\"BasicTicker\"},{\"attributes\":{\"text_align\":\"center\",\"text_color\":{\"value\":\"black\"},\"text_font_size\":{\"value\":\"10pt\"},\"x\":{\"value\":-9.266213417053223},\"y\":{\"value\":3.6889796257019043}},\"id\":\"61db8ed4-d989-4f64-ab3b-0f4572939c87\",\"type\":\"Text\"},{\"attributes\":{},\"id\":\"1e9507e8-55b8-4d00-ac3a-ddbe9e97c97d\",\"type\":\"Selection\"},{\"attributes\":{\"formatter\":{\"id\":\"6489d807-0956-49bf-a1f8-0f8ab8a3e8fd\",\"type\":\"BasicTickFormatter\"},\"plot\":{\"id\":\"ca378de4-85a8-45ad-b5ef-42485dd8a960\",\"subtype\":\"Figure\",\"type\":\"Plot\"},\"ticker\":{\"id\":\"4dcfc268-8644-4feb-96cb-6085b0e57d8e\",\"type\":\"BasicTicker\"}},\"id\":\"5ca50cba-aa41-4d69-8159-c18c77b421d9\",\"type\":\"LinearAxis\"},{\"attributes\":{},\"id\":\"fba564f8-4101-4403-9ce5-3131918ed7e7\",\"type\":\"UnionRenderers\"},{\"attributes\":{\"callback\":null,\"data\":{\"text\":[\"\\uc5ed\\ub9b0\"]},\"selected\":{\"id\":\"39e5d0f8-9ff0-4948-8a7a-fad678f5e059\",\"type\":\"Selection\"},\"selection_policy\":{\"id\":\"9ee3e055-7cdb-4d3a-a918-89b65803d857\",\"type\":\"UnionRenderers\"}},\"id\":\"e2b1b494-60f6-4a8e-bbae-1def16b67d10\",\"type\":\"ColumnDataSource\"},{\"attributes\":{},\"id\":\"4418efbb-b7b0-46e7-b06e-e2e5603f5d2b\",\"type\":\"Selection\"},{\"attributes\":{\"formatter\":{\"id\":\"7030270e-e3a2-496e-80ec-3a4e03a05c59\",\"type\":\"BasicTickFormatter\"},\"plot\":{\"id\":\"ca378de4-85a8-45ad-b5ef-42485dd8a960\",\"subtype\":\"Figure\",\"type\":\"Plot\"},\"ticker\":{\"id\":\"f845edba-87cf-4c6d-9137-0187f25fdd7f\",\"type\":\"BasicTicker\"}},\"id\":\"badd2e1f-55b3-4529-a0ed-db82d98d5418\",\"type\":\"LinearAxis\"},{\"attributes\":{},\"id\":\"d84fa68b-2fbb-49a7-a7ab-7b2b71c2a02a\",\"type\":\"UnionRenderers\"},{\"attributes\":{\"callback\":null,\"data\":{\"text\":[\"\\uc758\\ud615\\uc81c\"]},\"selected\":{\"id\":\"994a26b5-e3ef-44f4-aee0-6f7b9282f596\",\"type\":\"Selection\"},\"selection_policy\":{\"id\":\"61d85748-cedc-461b-bbd2-0a6b5b060262\",\"type\":\"UnionRenderers\"}},\"id\":\"748808fc-89c5-41c8-9bb0-312b41d31e17\",\"type\":\"ColumnDataSource\"},{\"attributes\":{},\"id\":\"994a26b5-e3ef-44f4-aee0-6f7b9282f596\",\"type\":\"Selection\"},{\"attributes\":{\"source\":{\"id\":\"8b826a51-3580-4778-ad34-faeaef33718b\",\"type\":\"ColumnDataSource\"}},\"id\":\"2b5c0ce9-1a1c-4f6a-982a-7e4d576cb5f4\",\"type\":\"CDSView\"},{\"attributes\":{},\"id\":\"61d85748-cedc-461b-bbd2-0a6b5b060262\",\"type\":\"UnionRenderers\"},{\"attributes\":{\"fill_alpha\":{\"value\":0.1},\"fill_color\":{\"value\":\"#1f77b4\"},\"line_alpha\":{\"value\":0.1},\"line_color\":{\"value\":\"#1f77b4\"},\"size\":{\"units\":\"screen\",\"value\":5},\"x\":{\"field\":\"x\"},\"y\":{\"field\":\"y\"}},\"id\":\"d42a13ac-c5aa-4154-8931-f77e8c761dd1\",\"type\":\"Circle\"},{\"attributes\":{},\"id\":\"8b265cbe-2bf4-4cbf-871e-0415010ad8e2\",\"type\":\"Selection\"},{\"attributes\":{},\"id\":\"4a3223aa-a612-4418-b207-717211422a43\",\"type\":\"PanTool\"},{\"attributes\":{},\"id\":\"9513e5e3-0853-4813-8beb-706f1233387c\",\"type\":\"UnionRenderers\"},{\"attributes\":{},\"id\":\"e5ed1919-3c42-4203-8ae4-fc19b73838c6\",\"type\":\"WheelZoomTool\"},{\"attributes\":{},\"id\":\"1a6e4a67-fb22-405d-b25c-446751ef1049\",\"type\":\"Selection\"},{\"attributes\":{\"source\":{\"id\":\"84355c9c-4625-4db0-8e58-51938092b0b2\",\"type\":\"ColumnDataSource\"}},\"id\":\"f8a57ddc-292c-4bb3-9195-7d87932057f7\",\"type\":\"CDSView\"},{\"attributes\":{},\"id\":\"29553197-328f-4f89-b281-4d8bab797eda\",\"type\":\"UnionRenderers\"},{\"attributes\":{\"callback\":null,\"renderers\":\"auto\",\"tooltips\":[[\"(x,y)\",\"($x, $y)\"],[\"desc\",\"@desc\"]]},\"id\":\"2f30bc9d-d672-4f82-92e0-bea938e5bb4b\",\"type\":\"HoverTool\"},{\"attributes\":{\"overlay\":{\"id\":\"8e530d0d-99c0-4381-9686-b825459faaeb\",\"type\":\"BoxAnnotation\"}},\"id\":\"49803243-bb76-4071-ab12-949862fec1a7\",\"type\":\"BoxZoomTool\"},{\"attributes\":{\"callback\":null,\"data\":{\"text\":[\"\\uad70\\ub3c4:\\ubbfc\\ub780\\uc758 \\uc2dc\\ub300\"]},\"selected\":{\"id\":\"81fb2528-b4c9-4fd6-a850-a450823bb1a6\",\"type\":\"Selection\"},\"selection_policy\":{\"id\":\"a246eb58-5b15-44a5-abf2-d3465004ce14\",\"type\":\"UnionRenderers\"}},\"id\":\"2a6b949c-39f7-47a3-8ca8-7d856a2670f3\",\"type\":\"ColumnDataSource\"},{\"attributes\":{},\"id\":\"5d10ddcd-87a3-4856-93db-2a3c4411e0a1\",\"type\":\"HelpTool\"},{\"attributes\":{},\"id\":\"f33e62ea-3675-4ef4-bdd4-4d86a95693e8\",\"type\":\"ResetTool\"},{\"attributes\":{\"data_source\":{\"id\":\"2a6b949c-39f7-47a3-8ca8-7d856a2670f3\",\"type\":\"ColumnDataSource\"},\"glyph\":{\"id\":\"9be0662f-76f4-4db6-b5e8-1c0579a75868\",\"type\":\"Text\"},\"hover_glyph\":null,\"muted_glyph\":null,\"nonselection_glyph\":{\"id\":\"51ce9ad0-f7a6-418d-b9a0-d11e9123e614\",\"type\":\"Text\"},\"selection_glyph\":null,\"view\":{\"id\":\"71b619af-dcd0-4805-a178-17aac46a5e1f\",\"type\":\"CDSView\"}},\"id\":\"76543269-090b-4db8-9b8b-28dce2947bc2\",\"type\":\"GlyphRenderer\"},{\"attributes\":{\"text_align\":\"center\",\"text_alpha\":{\"value\":0.1},\"text_color\":{\"value\":\"black\"},\"text_font_size\":{\"value\":\"10pt\"},\"x\":{\"value\":-10.284226417541504},\"y\":{\"value\":-0.06163066625595093}},\"id\":\"51ce9ad0-f7a6-418d-b9a0-d11e9123e614\",\"type\":\"Text\"},{\"attributes\":{\"text_align\":\"center\",\"text_color\":{\"value\":\"black\"},\"text_font_size\":{\"value\":\"10pt\"},\"x\":{\"value\":-10.284226417541504},\"y\":{\"value\":-0.06163066625595093}},\"id\":\"9be0662f-76f4-4db6-b5e8-1c0579a75868\",\"type\":\"Text\"},{\"attributes\":{\"background_fill_color\":{\"value\":\"white\"},\"below\":[{\"id\":\"badd2e1f-55b3-4529-a0ed-db82d98d5418\",\"type\":\"LinearAxis\"}],\"left\":[{\"id\":\"5ca50cba-aa41-4d69-8159-c18c77b421d9\",\"type\":\"LinearAxis\"}],\"renderers\":[{\"id\":\"badd2e1f-55b3-4529-a0ed-db82d98d5418\",\"type\":\"LinearAxis\"},{\"id\":\"fee935dc-a110-4ae5-a5cf-b3b5ff54494b\",\"type\":\"Grid\"},{\"id\":\"5ca50cba-aa41-4d69-8159-c18c77b421d9\",\"type\":\"LinearAxis\"},{\"id\":\"409d3ac8-ba9b-4e1d-9a31-d33ed390e851\",\"type\":\"Grid\"},{\"id\":\"8e530d0d-99c0-4381-9686-b825459faaeb\",\"type\":\"BoxAnnotation\"},{\"id\":\"708e8b52-f6d9-49f0-aa49-c54737d57000\",\"type\":\"GlyphRenderer\"},{\"id\":\"20f713a2-5abe-43b0-aadc-f49010ef7d4a\",\"type\":\"GlyphRenderer\"},{\"id\":\"4ff6cdd0-bb22-4ff4-a7b5-141319a1aeca\",\"type\":\"GlyphRenderer\"},{\"id\":\"76543269-090b-4db8-9b8b-28dce2947bc2\",\"type\":\"GlyphRenderer\"},{\"id\":\"648195cd-229b-47af-a330-aeebd646d75c\",\"type\":\"GlyphRenderer\"},{\"id\":\"8860771b-83e7-41fc-b051-23aa23ccd623\",\"type\":\"GlyphRenderer\"},{\"id\":\"f54170b1-409d-41e4-98cd-357f8c250446\",\"type\":\"GlyphRenderer\"},{\"id\":\"5939f265-28ea-4ac1-9f97-0153f672164c\",\"type\":\"GlyphRenderer\"},{\"id\":\"84ae6188-c6e5-419c-b78f-51e6f141e433\",\"type\":\"GlyphRenderer\"},{\"id\":\"ef1fc0ee-1318-4021-93af-97abf9fa0d93\",\"type\":\"GlyphRenderer\"},{\"id\":\"e2c2afec-0789-454a-9823-978fde02656c\",\"type\":\"GlyphRenderer\"}],\"title\":{\"id\":\"eb44521d-dadf-4ac8-a13c-a6392504ef2e\",\"type\":\"Title\"},\"toolbar\":{\"id\":\"85f852c8-5f21-46a3-9814-d9d5dfac27be\",\"type\":\"Toolbar\"},\"x_range\":{\"id\":\"cc347860-afc3-452f-b6f1-842535ab6ff6\",\"type\":\"DataRange1d\"},\"x_scale\":{\"id\":\"b0921b3c-86ce-4fcd-8ddd-46dcc53b2790\",\"type\":\"LinearScale\"},\"y_range\":{\"id\":\"bf085868-a25f-4c77-85e9-cae0ea8d5ab6\",\"type\":\"DataRange1d\"},\"y_scale\":{\"id\":\"c8f01c01-5669-4f46-b573-da05bed0dbf4\",\"type\":\"LinearScale\"}},\"id\":\"ca378de4-85a8-45ad-b5ef-42485dd8a960\",\"subtype\":\"Figure\",\"type\":\"Plot\"},{\"attributes\":{\"data_source\":{\"id\":\"84355c9c-4625-4db0-8e58-51938092b0b2\",\"type\":\"ColumnDataSource\"},\"glyph\":{\"id\":\"9a352df3-0723-4055-85bc-b31479a04259\",\"type\":\"Text\"},\"hover_glyph\":null,\"muted_glyph\":null,\"nonselection_glyph\":{\"id\":\"35cb7236-e9c6-44ff-a3b0-8c57a3054409\",\"type\":\"Text\"},\"selection_glyph\":null,\"view\":{\"id\":\"f8a57ddc-292c-4bb3-9195-7d87932057f7\",\"type\":\"CDSView\"}},\"id\":\"4ff6cdd0-bb22-4ff4-a7b5-141319a1aeca\",\"type\":\"GlyphRenderer\"},{\"attributes\":{\"text_align\":\"center\",\"text_alpha\":{\"value\":0.1},\"text_color\":{\"value\":\"black\"},\"text_font_size\":{\"value\":\"10pt\"},\"x\":{\"value\":-11.974514961242676},\"y\":{\"value\":-1.65946626663208}},\"id\":\"35cb7236-e9c6-44ff-a3b0-8c57a3054409\",\"type\":\"Text\"},{\"attributes\":{\"text_align\":\"center\",\"text_color\":{\"value\":\"black\"},\"text_font_size\":{\"value\":\"10pt\"},\"x\":{\"value\":-11.974514961242676},\"y\":{\"value\":-1.65946626663208}},\"id\":\"9a352df3-0723-4055-85bc-b31479a04259\",\"type\":\"Text\"},{\"attributes\":{\"callback\":null,\"data\":{\"text\":[\"\\uad11\\ud574, \\uc655\\uc774 \\ub41c \\ub0a8\\uc790\"]},\"selected\":{\"id\":\"b7635777-4557-4bdb-a468-dc1a66aee9ae\",\"type\":\"Selection\"},\"selection_policy\":{\"id\":\"77b37d95-f400-40fd-87b6-a2a021ca5020\",\"type\":\"UnionRenderers\"}},\"id\":\"84355c9c-4625-4db0-8e58-51938092b0b2\",\"type\":\"ColumnDataSource\"},{\"attributes\":{\"source\":{\"id\":\"e2b1b494-60f6-4a8e-bbae-1def16b67d10\",\"type\":\"ColumnDataSource\"}},\"id\":\"751b7c3b-05c1-46f8-9734-8dbf828431a5\",\"type\":\"CDSView\"},{\"attributes\":{\"callback\":null,\"data\":{\"text\":[\"\\uc0ac\\ub3c4\"]},\"selected\":{\"id\":\"1df6a97c-9bb8-4898-bbc2-de512dd2a054\",\"type\":\"Selection\"},\"selection_policy\":{\"id\":\"32a268b9-91f8-425c-908a-12f5672f5030\",\"type\":\"UnionRenderers\"}},\"id\":\"607df378-3940-41de-84f1-0ca9c0023c49\",\"type\":\"ColumnDataSource\"},{\"attributes\":{\"text_align\":\"center\",\"text_alpha\":{\"value\":0.1},\"text_color\":{\"value\":\"black\"},\"text_font_size\":{\"value\":\"10pt\"},\"x\":{\"value\":-10.604057312011719},\"y\":{\"value\":-1.2643437385559082}},\"id\":\"e2232654-464f-4e82-8700-794c37cb9c61\",\"type\":\"Text\"},{\"attributes\":{\"data_source\":{\"id\":\"e2b1b494-60f6-4a8e-bbae-1def16b67d10\",\"type\":\"ColumnDataSource\"},\"glyph\":{\"id\":\"1b898082-aca9-46d7-b287-fd10948ce5b3\",\"type\":\"Text\"},\"hover_glyph\":null,\"muted_glyph\":null,\"nonselection_glyph\":{\"id\":\"e2232654-464f-4e82-8700-794c37cb9c61\",\"type\":\"Text\"},\"selection_glyph\":null,\"view\":{\"id\":\"751b7c3b-05c1-46f8-9734-8dbf828431a5\",\"type\":\"CDSView\"}},\"id\":\"20f713a2-5abe-43b0-aadc-f49010ef7d4a\",\"type\":\"GlyphRenderer\"},{\"attributes\":{\"source\":{\"id\":\"2a6b949c-39f7-47a3-8ca8-7d856a2670f3\",\"type\":\"ColumnDataSource\"}},\"id\":\"71b619af-dcd0-4805-a178-17aac46a5e1f\",\"type\":\"CDSView\"},{\"attributes\":{\"text_align\":\"center\",\"text_alpha\":{\"value\":0.1},\"text_color\":{\"value\":\"black\"},\"text_font_size\":{\"value\":\"10pt\"},\"x\":{\"value\":-9.266213417053223},\"y\":{\"value\":3.6889796257019043}},\"id\":\"b805a45e-ac0a-4efb-af22-58fe94c526a6\",\"type\":\"Text\"},{\"attributes\":{\"text_align\":\"center\",\"text_color\":{\"value\":\"black\"},\"text_font_size\":{\"value\":\"10pt\"},\"x\":{\"value\":-10.604057312011719},\"y\":{\"value\":-1.2643437385559082}},\"id\":\"1b898082-aca9-46d7-b287-fd10948ce5b3\",\"type\":\"Text\"},{\"attributes\":{\"text_align\":\"center\",\"text_color\":{\"value\":\"black\"},\"text_font_size\":{\"value\":\"10pt\"},\"x\":{\"value\":-10.858673095703125},\"y\":{\"value\":-3.873427152633667}},\"id\":\"61f509ec-bd6a-4414-83e8-47086160ac40\",\"type\":\"Text\"}],\"root_ids\":[\"ca378de4-85a8-45ad-b5ef-42485dd8a960\"]},\"title\":\"Bokeh Application\",\"version\":\"0.13.0\"}};\n",
       "  var render_items = [{\"docid\":\"23230ba9-9766-4ab7-8d18-9846510a6de5\",\"roots\":{\"ca378de4-85a8-45ad-b5ef-42485dd8a960\":\"c5616024-511f-4200-aeb9-76f18e9fd1cb\"}}];\n",
       "  root.Bokeh.embed.embed_items_notebook(docs_json, render_items);\n",
       "\n",
       "  }\n",
       "  if (root.Bokeh !== undefined) {\n",
       "    embed_document(root);\n",
       "  } else {\n",
       "    var attempts = 0;\n",
       "    var timer = setInterval(function(root) {\n",
       "      if (root.Bokeh !== undefined) {\n",
       "        embed_document(root);\n",
       "        clearInterval(timer);\n",
       "      }\n",
       "      attempts++;\n",
       "      if (attempts > 100) {\n",
       "        console.log(\"Bokeh: ERROR: Unable to run BokehJS code because BokehJS library is missing\")\n",
       "        clearInterval(timer);\n",
       "      }\n",
       "    }, 10, root)\n",
       "  }\n",
       "})(window);"
      ],
      "application/vnd.bokehjs_exec.v0+json": ""
     },
     "metadata": {
      "application/vnd.bokehjs_exec.v0+json": {
       "id": "ca378de4-85a8-45ad-b5ef-42485dd8a960"
      }
     },
     "output_type": "display_data"
    }
   ],
   "source": [
    "queries = [\n",
    "    ('라라랜드', '#134963'),\n",
    "    ('관상', '#93728')\n",
    "]\n",
    "\n",
    "for query_name, query_tag in queries:\n",
    "    similars = doc2vec_model.docvecs.most_similar(query_tag)\n",
    "    similar_tags, _ = zip(*similars)\n",
    "\n",
    "    p = draw_scatterplot(\n",
    "        similar_tags,\n",
    "        title = '\"{}\" 유사 영화'.format(query_name),\n",
    "        embedding = y_tsne\n",
    "    )\n",
    "    show(p)"
   ]
  },
  {
   "cell_type": "code",
   "execution_count": null,
   "metadata": {
    "collapsed": true
   },
   "outputs": [],
   "source": []
  }
 ],
 "metadata": {
  "kernelspec": {
   "display_name": "Python 3",
   "language": "python",
   "name": "python3"
  },
  "language_info": {
   "codemirror_mode": {
    "name": "ipython",
    "version": 3
   },
   "file_extension": ".py",
   "mimetype": "text/x-python",
   "name": "python",
   "nbconvert_exporter": "python",
   "pygments_lexer": "ipython3",
   "version": "3.6.2"
  }
 },
 "nbformat": 4,
 "nbformat_minor": 2
}
