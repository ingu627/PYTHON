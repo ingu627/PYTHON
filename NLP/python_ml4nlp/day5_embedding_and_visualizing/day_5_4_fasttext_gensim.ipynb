{
 "cells": [
  {
   "cell_type": "markdown",
   "metadata": {},
   "source": [
    "FastText 는 Facebook Research 에서도 제공하고 있습니다. 이는 pip install 로 이용 가능합니다.\n",
    "\n",
    "```\n",
    "pip install fasttext\n",
    "```\n",
    "\n",
    "학습의 편의를 위하여 Gensim 에서 제공하는 FastText 를 이용합니다. 한글의 FastText 를 적용하려면 초/중/종성을 분리해야 합니다. 이를 위하여 compose, decompose 함수를 이용합니다."
   ]
  },
  {
   "cell_type": "code",
   "execution_count": 1,
   "metadata": {},
   "outputs": [
    {
     "name": "stdout",
     "output_type": "stream",
     "text": [
      "soynlp=0.0.49\n",
      "added lovit_textmining_dataset\n"
     ]
    }
   ],
   "source": [
    "import config\n",
    "from soynlp.hangle import decompose, compose\n",
    "from soynlp.normalizer import remove_doublespace\n",
    "\n",
    "def encode(s):\n",
    "    def process(c):\n",
    "        if c == ' ':\n",
    "            return c\n",
    "        jamo = decompose(c)\n",
    "        # 'a' or 모음 or 자음\n",
    "        if (jamo is None) or (jamo[0] == ' ') or (jamo[1] == ' '):\n",
    "            return ' '\n",
    "        base = jamo[0]+jamo[1]\n",
    "        if jamo[2] == ' ':\n",
    "            return base + '-'\n",
    "        return base + jamo[2]\n",
    "\n",
    "    s = ''.join(process(c) for c in s)\n",
    "    return remove_doublespace(s).strip()\n",
    "\n",
    "def decode(s):\n",
    "    def process(t):\n",
    "        assert len(t) % 3 == 0\n",
    "        t_ = t.replace('-', ' ')\n",
    "        chars = [tuple(t_[3*i:3*(i+1)]) for i in range(len(t_)//3)]\n",
    "        recovered = [compose(*char) for char in chars]\n",
    "        recovered = ''.join(recovered)\n",
    "        return recovered\n",
    "\n",
    "    return ' '.join(process(t) for t in s.split())"
   ]
  },
  {
   "cell_type": "code",
   "execution_count": 2,
   "metadata": {},
   "outputs": [
    {
     "name": "stdout",
     "output_type": "stream",
     "text": [
      "ㄱㅏ-ㄴㅏ-ㄷㅏ-ㄹㅏㄹ ㅎㅏ-ㅎㅏㅅ\n",
      "가나다랄 하핫\n"
     ]
    }
   ],
   "source": [
    "s = '가나다랄  a2ㅗㅛㅠ ㅋㅋㅋ 하핫'\n",
    "print(encode(s))\n",
    "print(decode(encode(s)))"
   ]
  },
  {
   "cell_type": "code",
   "execution_count": 3,
   "metadata": {},
   "outputs": [
    {
     "name": "stdout",
     "output_type": "stream",
     "text": [
      "['ㅋㅡ-ㄹㅣ-ㅅㅡ-ㅌㅗ-ㅍㅓ-', 'ㄴㅗㄹㄹㅏㄴ', 'ㅇㅔ-ㄱㅔ-', 'ㅇㅜ-ㄹㅣ-ㄴㅡㄴ', 'ㄴㅗㄹㄹㅏㄴ', 'ㄷㅏ-']\n",
      "['ㅇㅣㄴㅅㅔㅂㅅㅕㄴ', 'ㅈㅓㅇㅁㅏㄹ', 'ㅎㅡㅇㅁㅣ-ㅈㅣㄴㅈㅣㄴㅎㅏ-ㄱㅔ-', 'ㅂㅘㅆㅇㅓㅆㄱㅗ-', 'ㅋㅡ-ㄹㅣ-ㅅㅡ-ㅌㅗ-ㅍㅓ-', 'ㄴㅗㄹㄹㅏㄴ', 'ㄱㅏㅁㄷㅗㄱㄴㅣㅁ', 'ㅅㅣㄴㅈㅏㄱ', 'ㅇㅣㄴㅌㅓ-ㅅㅡ-ㅌㅔㄹㄹㅏ-ㄷㅗ-', 'ㅇㅣ-ㅂㅓㄴㅈㅜ-', 'ㅇㅣㄹㅇㅛ-ㅇㅣㄹㅇㅔ-', 'ㅂㅗ-ㄹㅓ-ㄱㅏㅂㄴㅣ-ㄷㅏ-', 'ㅇㅘㄴㅈㅓㄴ', 'ㄱㅣ-ㄷㅐ-ㅈㅜㅇ']\n",
      "['ㄴㅗㄹㄹㅏㄴㅇㅣ-ㅁㅕㄴ', 'ㅁㅜ-ㅈㅗ-ㄱㅓㄴ', 'ㅂㅘ-ㅇㅑ-', 'ㄷㅚㄴㄷㅏ-', 'ㅇㅙ-ㄴㅑ-ㅎㅏ-ㅁㅕㄴ', 'ㅁㅗ-ㄷㅡㄴ', 'ㅈㅏㄱㅍㅜㅁㅇㅡㄹ', 'ㄷㅏ-', 'ㅎㅣ-ㅌㅡ-', 'ㅊㅕㅆㅇㅡ-ㄴㅣ-ㄲㅏㄴ']\n"
     ]
    }
   ],
   "source": [
    "from navermovie_comments import get_movie_comments_path\n",
    "from navermovie_comments import load_trained_embedding\n",
    "\n",
    "\n",
    "class FastTextCorpus:\n",
    "    def __init__(self, path):\n",
    "        self.path = path\n",
    "        self.n_iter = 0\n",
    "    def __iter__(self):\n",
    "        with open(self.path, encoding='utf-8') as f:\n",
    "            for i, doc in enumerate(f):\n",
    "                if i % 10000 == 0 and i > 0:\n",
    "                    print('\\riter = {}, sents = {} ...'.format(self.n_iter, i), end='')\n",
    "                idx, text, rate = doc.strip().split('\\t')\n",
    "                yield text.split()\n",
    "            self.n_iter += 1\n",
    "            print('\\riter = {}, sents = {} done{}'.format(self.n_iter, i, ' '*20))\n",
    "\n",
    "path = get_movie_comments_path(large=False, tokenize='fasttext')\n",
    "corpus = FastTextCorpus(path)\n",
    "for i, sent in enumerate(corpus):\n",
    "    if i >= 3:\n",
    "        break\n",
    "    print(sent)"
   ]
  },
  {
   "cell_type": "markdown",
   "metadata": {},
   "source": [
    "시간이 오래 걸리기 때문에 모델을 미리 학습해뒀습니다."
   ]
  },
  {
   "cell_type": "code",
   "execution_count": 4,
   "metadata": {},
   "outputs": [],
   "source": [
    "import pickle\n",
    "from gensim.models import FastText\n",
    "\n",
    "TRAIN = False\n",
    "if TRAIN:\n",
    "    fasttext_model = FastText(\n",
    "        corpus,\n",
    "        window = 3,\n",
    "        min_count = 10,\n",
    "        min_n = 3,\n",
    "        max_n = 6\n",
    "    )\n",
    "else:\n",
    "    fasttext_model = load_trained_embedding(\n",
    "        data_name = 'small',\n",
    "        tokenize = 'fasttext',\n",
    "        embedding = 'fasttext'\n",
    "    )"
   ]
  },
  {
   "cell_type": "markdown",
   "metadata": {},
   "source": [
    "한글로 이뤄진 단어 (query) 를 입력하면 preprocessing 을 통하여 초/중/종성으로 분해된 단어를 만듭니다. 이를 바탕으로 fasttext 에서 벡터가 비슷한 단어를 찾습니다.\n",
    "\n",
    "fasttext model 에 학습된 단어는 초/중/종성이 분해된 형태입니다. 이를 우리가 이해하기 쉬운 형식으로 복원합니다."
   ]
  },
  {
   "cell_type": "code",
   "execution_count": 5,
   "metadata": {
    "collapsed": true
   },
   "outputs": [],
   "source": [
    "def most_similar(query, topn=10):\n",
    "    query_ = encode(query)\n",
    "    similars = fasttext_model.wv.most_similar(query_, topn=topn)\n",
    "    similars = [(decode(word), sim) for word, sim in similars]\n",
    "    return similars"
   ]
  },
  {
   "cell_type": "code",
   "execution_count": 6,
   "metadata": {},
   "outputs": [
    {
     "name": "stderr",
     "output_type": "stream",
     "text": [
      "/home/lovit/anaconda2/envs/scrapper/lib/python3.6/site-packages/gensim/matutils.py:737: FutureWarning: Conversion of the second argument of issubdtype from `int` to `np.signedinteger` is deprecated. In future, it will be treated as `np.int64 == np.dtype(int).type`.\n",
      "  if np.issubdtype(vec.dtype, np.int):\n"
     ]
    },
    {
     "data": {
      "text/plain": [
       "[('영활', 0.9843769073486328),\n",
       " ('영환', 0.9834325313568115),\n",
       " ('영화표', 0.9814302921295166),\n",
       " ('영화평', 0.9701882004737854),\n",
       " ('영화판', 0.9635608196258545),\n",
       " ('영화비', 0.9625624418258667),\n",
       " ('영화처럼', 0.9606270790100098),\n",
       " ('영화화', 0.9602814316749573),\n",
       " ('영화계', 0.9562531113624573),\n",
       " ('영화죠', 0.9556574821472168)]"
      ]
     },
     "execution_count": 6,
     "metadata": {},
     "output_type": "execute_result"
    }
   ],
   "source": [
    "most_similar('영홯')"
   ]
  },
  {
   "cell_type": "code",
   "execution_count": null,
   "metadata": {
    "collapsed": true
   },
   "outputs": [],
   "source": []
  }
 ],
 "metadata": {
  "kernelspec": {
   "display_name": "Python 3",
   "language": "python",
   "name": "python3"
  },
  "language_info": {
   "codemirror_mode": {
    "name": "ipython",
    "version": 3
   },
   "file_extension": ".py",
   "mimetype": "text/x-python",
   "name": "python",
   "nbconvert_exporter": "python",
   "pygments_lexer": "ipython3",
   "version": "3.6.2"
  }
 },
 "nbformat": 4,
 "nbformat_minor": 2
}
