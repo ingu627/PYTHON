{
 "cells": [
  {
   "cell_type": "markdown",
   "metadata": {},
   "source": [
    "이전에 영화 리뷰를 이용하여 172 개의 영화의 document vectors 를 학습했습니다. 이 벡터를 이용하면 리뷰가 비슷한 영화들을 군집화 할 수 있습니다."
   ]
  },
  {
   "cell_type": "code",
   "execution_count": 1,
   "metadata": {},
   "outputs": [
    {
     "name": "stdout",
     "output_type": "stream",
     "text": [
      "soynlp=0.0.491\n",
      "added lovit_textmining_dataset\n",
      "Gensim version = 3.6.0\n"
     ]
    }
   ],
   "source": [
    "import config\n",
    "import gensim\n",
    "from navermovie_comments import load_trained_embedding\n",
    "from navermovie_comments import load_id_to_movie\n",
    "import warnings\n",
    "\n",
    "warnings.filterwarnings('ignore')\n",
    "print('Gensim version = {}'.format(gensim.__version__))"
   ]
  },
  {
   "cell_type": "markdown",
   "metadata": {},
   "source": [
    "Doc2Vec에서 document (영화)의 임베딩 차원은 300이며, 영화의 개수는 172개임을 확인할 수 있습니다. "
   ]
  },
  {
   "cell_type": "code",
   "execution_count": 2,
   "metadata": {},
   "outputs": [
    {
     "name": "stdout",
     "output_type": "stream",
     "text": [
      "docvec shape = (172, 100)\n"
     ]
    }
   ],
   "source": [
    "tag_to_movie = load_id_to_movie()\n",
    "tag_to_movie = {'#%s'%idx:movie for idx, movie in tag_to_movie.items()}\n",
    "\n",
    "doc2vec_model = load_trained_embedding(\n",
    "    data_name='large',\n",
    "    tokenize='soynlp_unsup',\n",
    "    embedding='doc2vec')\n",
    "\n",
    "doctags = doc2vec_model.docvecs.doctags\n",
    "\n",
    "print('docvec shape = {}'.format(doc2vec_model.docvecs.vectors_docs.shape))"
   ]
  },
  {
   "cell_type": "markdown",
   "metadata": {},
   "source": [
    "각 row 에 해당하는 영화 이름도 idx_to_movie 에 저장합니다."
   ]
  },
  {
   "cell_type": "code",
   "execution_count": 3,
   "metadata": {},
   "outputs": [
    {
     "name": "stdout",
     "output_type": "stream",
     "text": [
      "example of idx_to_movie = ['고사 두 번째 이야기: 교생실습', '박쥐', '해무']\n"
     ]
    }
   ],
   "source": [
    "tag_to_idx = {tag:info.offset for tag, info in doctags.items()}\n",
    "idx_to_tag = [tag for tag, idx in sorted(tag_to_idx.items(), key=lambda x:x[1])]\n",
    "idx_to_movie = [tag_to_movie[tag] for tag in idx_to_tag]\n",
    "\n",
    "print('example of idx_to_movie = {}'.format(idx_to_movie[:3]))"
   ]
  },
  {
   "cell_type": "markdown",
   "metadata": {},
   "source": [
    "Scikit-learn 의 k-means 를 이용하여 학습합니다.\n",
    "    \n",
    "```python\n",
    "class KMeans(n_clusters=8, init='k-means++', n_init=10,\n",
    "    max_iter=300, tol=0.0001, precompute_distances='auto',\n",
    "    verbose=0, random_state=None, copy_x=True, n_jobs=1, algorithm='auto'):\n",
    "\n",
    "    # ...\n",
    "```\n",
    "\n",
    "| Parameter | Help |\n",
    "| --- | --- |\n",
    "| n_clusters | k. 군집의 개수는 예상하는 것보다 크게 설정 |\n",
    "| n_init | 반복 횟수는 1로 설정 |\n",
    "| max_iter | 큰 데이터라 하더라도 10 ~ 20 번 안에 수렴하기 때문에 작게 설정 |\n",
    "| verbose | True 설정하면 iteration 마다 progress 가 출력 |\n",
    "\n",
    "Scikit-learn 은 `metrics='cosine'` 을 지원하지 않습니다. Scikit-learn 을 이용하여 비슷한 학습 결과를 얻고 싶을 때에는 반드시 row normalize 을 하시기 바랍니다."
   ]
  },
  {
   "cell_type": "code",
   "execution_count": 4,
   "metadata": {
    "collapsed": true
   },
   "outputs": [],
   "source": [
    "from sklearn.preprocessing import normalize\n",
    "\n",
    "movie_vectors = doc2vec_model.docvecs.vectors_docs_norm\n",
    "movie_vectors = normalize(movie_vectors)"
   ]
  },
  {
   "cell_type": "markdown",
   "metadata": {},
   "source": [
    "kmeans 는 .fit_predict() 와 .fit_transform() 을 제공합니다. predict 함수는 각 row 의 cluster label 을 return 합니다."
   ]
  },
  {
   "cell_type": "code",
   "execution_count": 5,
   "metadata": {},
   "outputs": [
    {
     "name": "stdout",
     "output_type": "stream",
     "text": [
      "CPU times: user 104 ms, sys: 176 ms, total: 280 ms\n",
      "Wall time: 112 ms\n"
     ]
    }
   ],
   "source": [
    "%%time\n",
    "\n",
    "from sklearn.cluster import KMeans\n",
    "\n",
    "kmeans = KMeans(n_clusters=10, max_iter=10, n_init=1, verbose=0)\n",
    "clusters = kmeans.fit_predict(movie_vectors)"
   ]
  },
  {
   "cell_type": "code",
   "execution_count": 6,
   "metadata": {},
   "outputs": [
    {
     "data": {
      "text/plain": [
       "array([7, 0, 0, 2, 8, 2, 5, 0, 4, 7, 7, 5, 1, 5, 1, 0, 0, 1, 8, 1, 6, 2,\n",
       "       3, 8, 9, 3, 0, 0, 9, 6, 1, 8, 8, 3, 6, 3, 2, 9, 2, 3, 0, 0, 0, 3,\n",
       "       1, 0, 2, 1, 4, 9, 8, 9, 8, 5, 3, 1, 0, 2, 1, 6, 7, 0, 2, 8, 0, 8,\n",
       "       1, 9, 6, 9, 4, 0, 9, 9, 7, 8, 3, 1, 1, 1, 2, 3, 1, 7, 3, 8, 4, 5,\n",
       "       8, 7, 8, 2, 3, 8, 1, 5, 1, 6, 1, 2, 1, 9, 1, 7, 2, 8, 2, 1, 6, 4,\n",
       "       0, 3, 7, 2, 8, 1, 0, 6, 6, 4, 6, 8, 8, 8, 6, 1, 6, 1, 3, 0, 7, 8,\n",
       "       8, 2, 1, 5, 1, 6, 4, 9, 6, 2, 5, 0, 9, 6, 5, 8, 2, 3, 5, 1, 6, 3,\n",
       "       7, 1, 7, 2, 8, 0, 4, 8, 1, 2, 1, 1, 1, 9, 8, 3, 1, 8], dtype=int32)"
      ]
     },
     "execution_count": 6,
     "metadata": {},
     "output_type": "execute_result"
    }
   ],
   "source": [
    "clusters"
   ]
  },
  {
   "cell_type": "markdown",
   "metadata": {},
   "source": [
    "fit_transform 은 각 row 와 k 개의 centroid 와의 거리를 출력합니다."
   ]
  },
  {
   "cell_type": "code",
   "execution_count": 7,
   "metadata": {},
   "outputs": [
    {
     "data": {
      "text/plain": [
       "(172, 10)"
      ]
     },
     "execution_count": 7,
     "metadata": {},
     "output_type": "execute_result"
    }
   ],
   "source": [
    "distance = kmeans.fit_transform(movie_vectors)\n",
    "distance.shape"
   ]
  },
  {
   "cell_type": "markdown",
   "metadata": {},
   "source": [
    "같은 cluster label 을 지니는 영화 별로 그룹을 만듭니다."
   ]
  },
  {
   "cell_type": "code",
   "execution_count": 8,
   "metadata": {},
   "outputs": [
    {
     "name": "stdout",
     "output_type": "stream",
     "text": [
      "cluster #0 : 20 movies\n",
      "cluster #1 : 32 movies\n",
      "cluster #2 : 19 movies\n",
      "cluster #3 : 16 movies\n",
      "cluster #4 : 8 movies\n",
      "cluster #5 : 10 movies\n",
      "cluster #6 : 16 movies\n",
      "cluster #7 : 12 movies\n",
      "cluster #8 : 26 movies\n",
      "cluster #9 : 13 movies\n"
     ]
    }
   ],
   "source": [
    "import numpy as np\n",
    "\n",
    "unique_labels = np.unique(clusters)\n",
    "for label in unique_labels:\n",
    "    idxs = np.where(clusters == label)[0]\n",
    "    print('cluster #{} : {} movies'.format(label, idxs.shape[0]))"
   ]
  },
  {
   "cell_type": "markdown",
   "metadata": {},
   "source": [
    "각 cluster 별로 10개씩 영화의 이름을 출력하여, 군집화 결과가 어떤 느낌인지 확인해봅시다. 앞서 만들어둔 row2movie를 이용합니다. "
   ]
  },
  {
   "cell_type": "code",
   "execution_count": 9,
   "metadata": {
    "scrolled": false
   },
   "outputs": [
    {
     "name": "stdout",
     "output_type": "stream",
     "text": [
      "\n",
      "cluster #0 : 20 movies\n",
      "  > 박쥐\n",
      "  > 해무\n",
      "  > 베를린\n",
      "  > 아가씨\n",
      "  > 내가 살인범이다\n",
      "  > 신세계\n",
      "  > 곡성(哭聲)\n",
      "  > 검은 사제들\n",
      "  > 악마를 보았다\n",
      "  > 좋은 놈, 나쁜 놈, 이상한 놈\n",
      "  > 용의자\n",
      "  > 관상\n",
      "  > 최종병기 활\n",
      "  > 감시자들\n",
      "  > 역린\n",
      "  > 아저씨\n",
      "  > 아수라\n",
      "  > 테이큰\n",
      "  > 추격자\n",
      "  > 세븐 데이즈\n",
      "\n",
      "cluster #1 : 32 movies\n",
      "  > 다크 나이트 라이즈\n",
      "  > 배트맨 대 슈퍼맨: 저스티스의 시작\n",
      "  > 메이즈 러너: 스코치 트라이얼\n",
      "  > 캡틴 아메리카: 시빌 워\n",
      "  > 빅 히어로\n",
      "  > 인디펜던스 데이: 리써전스\n",
      "  > 제이슨 본\n",
      "  > 쥬라기 월드\n",
      "  > 엑스맨: 데이즈 오브 퓨처 패스트\n",
      "  > 워크래프트: 전쟁의 서막\n",
      "  > 엣지 오브 투모로우\n",
      "  > 맨 오브 스틸\n",
      "  > 킹스맨 : 시크릿 에이전트\n",
      "  > 미션 임파서블: 로그네이션\n",
      "  > 미스 페레그린과 이상한 아이들의 집\n",
      "  > 신비한 동물사전\n",
      "  > 혹성탈출: 반격의 서막\n",
      "  > 아이언맨 3\n",
      "  > 어벤져스: 에이지 오브 울트론\n",
      "  > 데드풀\n",
      "  > 터미네이터 제니시스\n",
      "  > 아이언맨\n",
      "  > 수어사이드 스쿼드\n",
      "  > 닥터 스트레인지\n",
      "  > 어벤져스\n",
      "  > 엑스맨: 아포칼립스\n",
      "  > 트랜스포머: 사라진 시대\n",
      "  > 캡틴 아메리카: 윈터 솔져\n",
      "  > 매드맥스: 분노의 도로\n",
      "  > 나우 유 씨 미 2\n",
      "  > 어메이징 스파이더맨 2\n",
      "  > 마션\n",
      "\n",
      "cluster #2 : 19 movies\n",
      "  > 해운대\n",
      "  > 국가대표\n",
      "  > 미녀는 괴로워\n",
      "  > 포화 속으로\n",
      "  > 의형제\n",
      "  > 광해, 왕이 된 남자\n",
      "  > 해바라기\n",
      "  > 고지전\n",
      "  > 왕의 남자\n",
      "  > 괴물\n",
      "  > 화려한 휴가\n",
      "  > 인생은 아름다워\n",
      "  > 웰컴 투 동막골\n",
      "  > 투사부일체\n",
      "  > 우리들의 행복한 시간\n",
      "  > 다세포 소녀\n",
      "  > 쌍화점\n",
      "  > 라디오 스타\n",
      "  > 라스트 갓파더\n",
      "\n",
      "cluster #3 : 16 movies\n",
      "  > 터널\n",
      "  > 대호\n",
      "  > 26년\n",
      "  > 암살\n",
      "  > 판도라\n",
      "  > 천안함 프로젝트\n",
      "  > 국제시장\n",
      "  > 도가니\n",
      "  > 밀정\n",
      "  > 연평해전\n",
      "  > 인천상륙작전\n",
      "  > 귀향\n",
      "  > 덕혜옹주\n",
      "  > 소원\n",
      "  > 히말라야\n",
      "  > 사도\n",
      "\n",
      "cluster #4 : 8 movies\n",
      "  > 해리 포터와 죽음의 성물 - 2부\n",
      "  > 캐리비안의 해적 - 세상의 끝에서\n",
      "  > 트와일라잇\n",
      "  > 초능력자\n",
      "  > 해리 포터와 혼혈 왕자\n",
      "  > 전우치\n",
      "  > 뉴 문\n",
      "  > 캐리비안의 해적 - 망자의 함\n",
      "\n",
      "cluster #5 : 10 movies\n",
      "  > 도둑들\n",
      "  > 럭키\n",
      "  > 해적: 바다로 간 산적\n",
      "  > 검사외전\n",
      "  > 끝까지 간다\n",
      "  > 신의 한 수\n",
      "  > 베테랑\n",
      "  > 타짜-신의 손\n",
      "  > 조선명탐정: 각시투구꽃의 비밀\n",
      "  > 군도:민란의 시대\n",
      "\n",
      "cluster #6 : 16 movies\n",
      "  > 과속스캔들\n",
      "  > 완득이\n",
      "  > 지금, 만나러 갑니다\n",
      "  > 박수건달\n",
      "  > 세 얼간이\n",
      "  > 7번방의 선물\n",
      "  > 반창꼬\n",
      "  > 시라노; 연애조작단\n",
      "  > 늑대소년\n",
      "  > 써니\n",
      "  > 수상한 그녀\n",
      "  > 건축학개론\n",
      "  > 하모니\n",
      "  > 웜 바디스\n",
      "  > 헬로우 고스트\n",
      "  > 파파로티\n",
      "\n",
      "cluster #7 : 12 movies\n",
      "  > 고사 두 번째 이야기: 교생실습\n",
      "  > 미스터 고\n",
      "  > 7광구\n",
      "  > 감기\n",
      "  > 더 테러 라이브\n",
      "  > 연가시\n",
      "  > 퀵\n",
      "  > 숨바꼭질\n",
      "  > 부산행\n",
      "  > 타워\n",
      "  > 설국열차\n",
      "  > 월드워Z\n",
      "\n",
      "cluster #8 : 26 movies\n",
      "  > 인터스텔라\n",
      "  > 다크 나이트\n",
      "  > 영웅: 샐러멘더의 비밀\n",
      "  > 인셉션\n",
      "  > 타이타닉\n",
      "  > 트랜스포머 3\n",
      "  > 배틀쉽\n",
      "  > 클레멘타인\n",
      "  > 스카이라인\n",
      "  > 2012\n",
      "  > 레미제라블\n",
      "  > 어거스트 러쉬\n",
      "  > 그래비티\n",
      "  > 하울의 움직이는 성\n",
      "  > 나는 전설이다\n",
      "  > 쇼생크 탈출\n",
      "  > 디 워\n",
      "  > 리얼 스틸\n",
      "  > 트랜스포머: 패자의 역습\n",
      "  > 센과 치히로의 행방불명\n",
      "  > 시간을 달리는 소녀\n",
      "  > 말할 수 없는 비밀\n",
      "  > 디스트릭트 9\n",
      "  > 트랜스포머\n",
      "  > 퍼시픽 림\n",
      "  > 아바타\n",
      "\n",
      "cluster #9 : 13 movies\n",
      "  > 응답하라 1988\n",
      "  > 겨울왕국\n",
      "  > 인턴\n",
      "  > 님아, 그 강을 건너지 마오\n",
      "  > 카트\n",
      "  > 인사이드 아웃\n",
      "  > 형\n",
      "  > 비긴 어게인\n",
      "  > 두근두근 내 인생\n",
      "  > 라라랜드\n",
      "  > 쎄시봉\n",
      "  > 어바웃 타임\n",
      "  > 뷰티 인사이드\n"
     ]
    }
   ],
   "source": [
    "for label in unique_labels:\n",
    "    idxs = np.where(clusters == label)[0]\n",
    "    print('\\ncluster #{} : {} movies'.format(label, idxs.shape[0]))\n",
    "    for idx in idxs:        \n",
    "        print('  > {}'.format(idx_to_movie[idx]))"
   ]
  },
  {
   "cell_type": "markdown",
   "metadata": {},
   "source": [
    "kmeans 의 `KMeans.cluster_centers_` 는 각 centroid 좌표입니다. \n",
    "\n",
    "Doc2Vec 임베딩 벡터의 크기가 100 이고, 클러스터의 개수가 10이기 때문에 centers 행렬의 크기는 (10, 100)입니다. "
   ]
  },
  {
   "cell_type": "code",
   "execution_count": 10,
   "metadata": {},
   "outputs": [
    {
     "data": {
      "text/plain": [
       "(10, 100)"
      ]
     },
     "execution_count": 10,
     "metadata": {},
     "output_type": "execute_result"
    }
   ],
   "source": [
    "kmeans.cluster_centers_.shape"
   ]
  },
  {
   "cell_type": "code",
   "execution_count": null,
   "metadata": {
    "collapsed": true
   },
   "outputs": [],
   "source": []
  }
 ],
 "metadata": {
  "kernelspec": {
   "display_name": "Python 3",
   "language": "python",
   "name": "python3"
  },
  "language_info": {
   "codemirror_mode": {
    "name": "ipython",
    "version": 3
   },
   "file_extension": ".py",
   "mimetype": "text/x-python",
   "name": "python",
   "nbconvert_exporter": "python",
   "pygments_lexer": "ipython3",
   "version": "3.6.2"
  }
 },
 "nbformat": 4,
 "nbformat_minor": 1
}
