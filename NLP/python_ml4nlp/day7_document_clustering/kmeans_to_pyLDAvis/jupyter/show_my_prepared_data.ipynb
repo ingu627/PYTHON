{
 "cells": [
  {
   "cell_type": "code",
   "execution_count": 1,
   "metadata": {},
   "outputs": [
    {
     "name": "stderr",
     "output_type": "stream",
     "text": [
      "/home/lovit/anaconda2/envs/scrapper/lib/python3.6/importlib/_bootstrap.py:205: RuntimeWarning: numpy.dtype size changed, may indicate binary incompatibility. Expected 96, got 88\n",
      "  return f(*args, **kwds)\n"
     ]
    }
   ],
   "source": [
    "import pyLDAvis\n",
    "import pandas as pd"
   ]
  },
  {
   "cell_type": "markdown",
   "metadata": {},
   "source": [
    "pyLDAvis 는 LDA 모델로부터 topic - term, doc - topic 확률과 term frequency, doc lengths 를 추출하고, 이를 바탕으로 세 종류의 테이블을 만듭니다. 테이블과 컬럼의 이름이 모호하지만, pyLDAvis 의 변수명을 그대로 따랐습니다.\n",
    "\n",
    "- topic_coordinates\n",
    "- topic_info\n",
    "- token_table\n",
    "\n",
    "이 세 종류의 테이블을 직접 준비하여 PreparedData 를 만듦으로써 pyLDAvis 를 이해할 수 있습니다.\n",
    "\n",
    "    class PreparedData:\n",
    "        def __init__(topic_coordinates, topic_info,\n",
    "            token_table, R, lambda_step, plot_opts, topic_order):\n",
    "            ..."
   ]
  },
  {
   "cell_type": "markdown",
   "metadata": {},
   "source": [
    "### Default value"
   ]
  },
  {
   "cell_type": "code",
   "execution_count": 2,
   "metadata": {
    "collapsed": true
   },
   "outputs": [],
   "source": [
    "# default value\n",
    "R=30\n",
    "lambda_step=0.01\n",
    "plot_opts={'xlab': 'PC1', 'ylab': 'PC2'}"
   ]
  },
  {
   "cell_type": "markdown",
   "metadata": {},
   "source": [
    "### topic info"
   ]
  },
  {
   "cell_type": "code",
   "execution_count": 3,
   "metadata": {},
   "outputs": [
    {
     "name": "stderr",
     "output_type": "stream",
     "text": [
      "/home/lovit/anaconda2/envs/scrapper/lib/python3.6/site-packages/ipykernel_launcher.py:37: FutureWarning: from_csv is deprecated. Please use read_csv(...) instead. Note that some of the default arguments are different, so please refer to the documentation for from_csv when changing your function calls\n"
     ]
    }
   ],
   "source": [
    "# topic_info\n",
    "columns = ['term', 'Category', 'Freq', 'Term', 'Total', 'loglift', 'logprob']\n",
    "\n",
    "rows = [\n",
    "    (0, 'Default', 298, '흔한단어', 300, 30, 30),\n",
    "    (1, 'Default', 100, '공연', 102, 22.3, 22.3),\n",
    "    (2, 'Default', 95, '무대', 98, 22, 22),\n",
    "    (3, 'Default', 92, '유명인사', 95, 21.5, 21.5),\n",
    "    (10, 'Default', 55, '정치인', 58, 18, 18),\n",
    "    (11, 'Default', 50, '정책', 51, 17, 17),\n",
    "    (20, 'Default', 81, '박물관', 82, 19, 19),\n",
    "    (21, 'Default', 17, '큐레이터', 18, 15, 15),\n",
    "    (22, 'Default', 18, '명화', 18.1, 15.5, 15.5),\n",
    "\n",
    "    (0, 'Topic1', 150, '흔한단어', 300, 5, -5),\n",
    "    (3, 'Topic1', 55, '유명인사', 98, 4, -4),\n",
    "    (1, 'Topic1', 50, '공연', 102, 3.8, -4.4),\n",
    "    (2, 'Topic1', 45, '무대', 98, 3.7, -4.1),\n",
    "\n",
    "    (0, 'Topic2', 100, '흔한단어', 300, 3, -5),\n",
    "    (3, 'Topic2', 25, '유명인사', 98, 3, -4),\n",
    "    (10, 'Topic2', 55, '정치인', 58, 3.4, -3.4),\n",
    "    (11, 'Topic2', 50, '정책', 51, 3.7, -2.1),\n",
    "\n",
    "    (0, 'Topic3', 48, '흔한단어', 300, 2, -5),\n",
    "    (3, 'Topic3', 22, '유명인사', 98, 2, -4),\n",
    "    (20, 'Topic3', 81, '박물관', 82, 4.4, -3.4),\n",
    "    (21, 'Topic3', 17, '큐레이터', 18, 3.7, -2.1),\n",
    "    (22, 'Topic3', 18, '명화', 18.1, 4.7, -2.1),\n",
    "]\n",
    "\n",
    "with open('./topic_info.csv', 'w', encoding='utf-8') as f:\n",
    "    f.write(','.join(columns) + '\\n')\n",
    "    for row in rows:\n",
    "        f.write('{}\\n'.format(','.join(str(v) for v in row)))\n",
    "\n",
    "topic_info = pd.DataFrame.from_csv('./topic_info.csv')"
   ]
  },
  {
   "cell_type": "code",
   "execution_count": 4,
   "metadata": {},
   "outputs": [
    {
     "data": {
      "text/html": [
       "<div>\n",
       "<style scoped>\n",
       "    .dataframe tbody tr th:only-of-type {\n",
       "        vertical-align: middle;\n",
       "    }\n",
       "\n",
       "    .dataframe tbody tr th {\n",
       "        vertical-align: top;\n",
       "    }\n",
       "\n",
       "    .dataframe thead th {\n",
       "        text-align: right;\n",
       "    }\n",
       "</style>\n",
       "<table border=\"1\" class=\"dataframe\">\n",
       "  <thead>\n",
       "    <tr style=\"text-align: right;\">\n",
       "      <th></th>\n",
       "      <th>Category</th>\n",
       "      <th>Freq</th>\n",
       "      <th>Term</th>\n",
       "      <th>Total</th>\n",
       "      <th>loglift</th>\n",
       "      <th>logprob</th>\n",
       "    </tr>\n",
       "    <tr>\n",
       "      <th>term</th>\n",
       "      <th></th>\n",
       "      <th></th>\n",
       "      <th></th>\n",
       "      <th></th>\n",
       "      <th></th>\n",
       "      <th></th>\n",
       "    </tr>\n",
       "  </thead>\n",
       "  <tbody>\n",
       "    <tr>\n",
       "      <th>0</th>\n",
       "      <td>Default</td>\n",
       "      <td>298</td>\n",
       "      <td>흔한단어</td>\n",
       "      <td>300.0</td>\n",
       "      <td>30.0</td>\n",
       "      <td>30.0</td>\n",
       "    </tr>\n",
       "    <tr>\n",
       "      <th>1</th>\n",
       "      <td>Default</td>\n",
       "      <td>100</td>\n",
       "      <td>공연</td>\n",
       "      <td>102.0</td>\n",
       "      <td>22.3</td>\n",
       "      <td>22.3</td>\n",
       "    </tr>\n",
       "    <tr>\n",
       "      <th>2</th>\n",
       "      <td>Default</td>\n",
       "      <td>95</td>\n",
       "      <td>무대</td>\n",
       "      <td>98.0</td>\n",
       "      <td>22.0</td>\n",
       "      <td>22.0</td>\n",
       "    </tr>\n",
       "    <tr>\n",
       "      <th>3</th>\n",
       "      <td>Default</td>\n",
       "      <td>92</td>\n",
       "      <td>유명인사</td>\n",
       "      <td>95.0</td>\n",
       "      <td>21.5</td>\n",
       "      <td>21.5</td>\n",
       "    </tr>\n",
       "    <tr>\n",
       "      <th>10</th>\n",
       "      <td>Default</td>\n",
       "      <td>55</td>\n",
       "      <td>정치인</td>\n",
       "      <td>58.0</td>\n",
       "      <td>18.0</td>\n",
       "      <td>18.0</td>\n",
       "    </tr>\n",
       "    <tr>\n",
       "      <th>11</th>\n",
       "      <td>Default</td>\n",
       "      <td>50</td>\n",
       "      <td>정책</td>\n",
       "      <td>51.0</td>\n",
       "      <td>17.0</td>\n",
       "      <td>17.0</td>\n",
       "    </tr>\n",
       "    <tr>\n",
       "      <th>20</th>\n",
       "      <td>Default</td>\n",
       "      <td>81</td>\n",
       "      <td>박물관</td>\n",
       "      <td>82.0</td>\n",
       "      <td>19.0</td>\n",
       "      <td>19.0</td>\n",
       "    </tr>\n",
       "    <tr>\n",
       "      <th>21</th>\n",
       "      <td>Default</td>\n",
       "      <td>17</td>\n",
       "      <td>큐레이터</td>\n",
       "      <td>18.0</td>\n",
       "      <td>15.0</td>\n",
       "      <td>15.0</td>\n",
       "    </tr>\n",
       "    <tr>\n",
       "      <th>22</th>\n",
       "      <td>Default</td>\n",
       "      <td>18</td>\n",
       "      <td>명화</td>\n",
       "      <td>18.1</td>\n",
       "      <td>15.5</td>\n",
       "      <td>15.5</td>\n",
       "    </tr>\n",
       "    <tr>\n",
       "      <th>0</th>\n",
       "      <td>Topic1</td>\n",
       "      <td>150</td>\n",
       "      <td>흔한단어</td>\n",
       "      <td>300.0</td>\n",
       "      <td>5.0</td>\n",
       "      <td>-5.0</td>\n",
       "    </tr>\n",
       "    <tr>\n",
       "      <th>3</th>\n",
       "      <td>Topic1</td>\n",
       "      <td>55</td>\n",
       "      <td>유명인사</td>\n",
       "      <td>98.0</td>\n",
       "      <td>4.0</td>\n",
       "      <td>-4.0</td>\n",
       "    </tr>\n",
       "    <tr>\n",
       "      <th>1</th>\n",
       "      <td>Topic1</td>\n",
       "      <td>50</td>\n",
       "      <td>공연</td>\n",
       "      <td>102.0</td>\n",
       "      <td>3.8</td>\n",
       "      <td>-4.4</td>\n",
       "    </tr>\n",
       "    <tr>\n",
       "      <th>2</th>\n",
       "      <td>Topic1</td>\n",
       "      <td>45</td>\n",
       "      <td>무대</td>\n",
       "      <td>98.0</td>\n",
       "      <td>3.7</td>\n",
       "      <td>-4.1</td>\n",
       "    </tr>\n",
       "    <tr>\n",
       "      <th>0</th>\n",
       "      <td>Topic2</td>\n",
       "      <td>100</td>\n",
       "      <td>흔한단어</td>\n",
       "      <td>300.0</td>\n",
       "      <td>3.0</td>\n",
       "      <td>-5.0</td>\n",
       "    </tr>\n",
       "    <tr>\n",
       "      <th>3</th>\n",
       "      <td>Topic2</td>\n",
       "      <td>25</td>\n",
       "      <td>유명인사</td>\n",
       "      <td>98.0</td>\n",
       "      <td>3.0</td>\n",
       "      <td>-4.0</td>\n",
       "    </tr>\n",
       "    <tr>\n",
       "      <th>10</th>\n",
       "      <td>Topic2</td>\n",
       "      <td>55</td>\n",
       "      <td>정치인</td>\n",
       "      <td>58.0</td>\n",
       "      <td>3.4</td>\n",
       "      <td>-3.4</td>\n",
       "    </tr>\n",
       "    <tr>\n",
       "      <th>11</th>\n",
       "      <td>Topic2</td>\n",
       "      <td>50</td>\n",
       "      <td>정책</td>\n",
       "      <td>51.0</td>\n",
       "      <td>3.7</td>\n",
       "      <td>-2.1</td>\n",
       "    </tr>\n",
       "    <tr>\n",
       "      <th>0</th>\n",
       "      <td>Topic3</td>\n",
       "      <td>48</td>\n",
       "      <td>흔한단어</td>\n",
       "      <td>300.0</td>\n",
       "      <td>2.0</td>\n",
       "      <td>-5.0</td>\n",
       "    </tr>\n",
       "    <tr>\n",
       "      <th>3</th>\n",
       "      <td>Topic3</td>\n",
       "      <td>22</td>\n",
       "      <td>유명인사</td>\n",
       "      <td>98.0</td>\n",
       "      <td>2.0</td>\n",
       "      <td>-4.0</td>\n",
       "    </tr>\n",
       "    <tr>\n",
       "      <th>20</th>\n",
       "      <td>Topic3</td>\n",
       "      <td>81</td>\n",
       "      <td>박물관</td>\n",
       "      <td>82.0</td>\n",
       "      <td>4.4</td>\n",
       "      <td>-3.4</td>\n",
       "    </tr>\n",
       "    <tr>\n",
       "      <th>21</th>\n",
       "      <td>Topic3</td>\n",
       "      <td>17</td>\n",
       "      <td>큐레이터</td>\n",
       "      <td>18.0</td>\n",
       "      <td>3.7</td>\n",
       "      <td>-2.1</td>\n",
       "    </tr>\n",
       "    <tr>\n",
       "      <th>22</th>\n",
       "      <td>Topic3</td>\n",
       "      <td>18</td>\n",
       "      <td>명화</td>\n",
       "      <td>18.1</td>\n",
       "      <td>4.7</td>\n",
       "      <td>-2.1</td>\n",
       "    </tr>\n",
       "  </tbody>\n",
       "</table>\n",
       "</div>"
      ],
      "text/plain": [
       "     Category  Freq  Term  Total  loglift  logprob\n",
       "term                                              \n",
       "0     Default   298  흔한단어  300.0     30.0     30.0\n",
       "1     Default   100    공연  102.0     22.3     22.3\n",
       "2     Default    95    무대   98.0     22.0     22.0\n",
       "3     Default    92  유명인사   95.0     21.5     21.5\n",
       "10    Default    55   정치인   58.0     18.0     18.0\n",
       "11    Default    50    정책   51.0     17.0     17.0\n",
       "20    Default    81   박물관   82.0     19.0     19.0\n",
       "21    Default    17  큐레이터   18.0     15.0     15.0\n",
       "22    Default    18    명화   18.1     15.5     15.5\n",
       "0      Topic1   150  흔한단어  300.0      5.0     -5.0\n",
       "3      Topic1    55  유명인사   98.0      4.0     -4.0\n",
       "1      Topic1    50    공연  102.0      3.8     -4.4\n",
       "2      Topic1    45    무대   98.0      3.7     -4.1\n",
       "0      Topic2   100  흔한단어  300.0      3.0     -5.0\n",
       "3      Topic2    25  유명인사   98.0      3.0     -4.0\n",
       "10     Topic2    55   정치인   58.0      3.4     -3.4\n",
       "11     Topic2    50    정책   51.0      3.7     -2.1\n",
       "0      Topic3    48  흔한단어  300.0      2.0     -5.0\n",
       "3      Topic3    22  유명인사   98.0      2.0     -4.0\n",
       "20     Topic3    81   박물관   82.0      4.4     -3.4\n",
       "21     Topic3    17  큐레이터   18.0      3.7     -2.1\n",
       "22     Topic3    18    명화   18.1      4.7     -2.1"
      ]
     },
     "execution_count": 4,
     "metadata": {},
     "output_type": "execute_result"
    }
   ],
   "source": [
    "topic_info"
   ]
  },
  {
   "cell_type": "markdown",
   "metadata": {},
   "source": [
    "(실제 데이터 예시)\n",
    "\n",
    "        Category\tFreq\tTerm\tTotal\tloglift\tlogprob\n",
    "    term\t\t\t\t\t\t\n",
    "    8537\tTopic20\t1112.902466\t취하고\t1115.395142\t4.2541\t-3.5667\n",
    "    9034\tTopic20\t1217.860840\t포즈\t1220.655029\t4.2540\t-3.4765\n",
    "    7590\tTopic20\t836.985291\t제작발표회\t839.770264\t4.2530\t-3.8516"
   ]
  },
  {
   "cell_type": "markdown",
   "metadata": {},
   "source": [
    "### topic coordinate"
   ]
  },
  {
   "cell_type": "code",
   "execution_count": 5,
   "metadata": {
    "collapsed": true
   },
   "outputs": [],
   "source": [
    "# topic_coordinate, topics 는 1 부터 시작\n",
    "columns = ['topic', 'x', 'y', 'topics', 'cluster', 'Freq']\n",
    "rows = [\n",
    "    (3, 1, 1, 1, 1, 3.5),\n",
    "    (1, -1.5, -0.5, 2, 1, 2.1),\n",
    "    (2, 0.5, 2, 3, 1, 0.7)\n",
    "]\n",
    "topic_coordinate = pd.DataFrame.from_records(rows, columns=columns, index='topic')"
   ]
  },
  {
   "cell_type": "code",
   "execution_count": 6,
   "metadata": {
    "collapsed": true
   },
   "outputs": [],
   "source": [
    "topic_coordinate.to_csv('./topic_coordinates.csv')"
   ]
  },
  {
   "cell_type": "code",
   "execution_count": 7,
   "metadata": {},
   "outputs": [
    {
     "name": "stderr",
     "output_type": "stream",
     "text": [
      "/home/lovit/anaconda2/envs/scrapper/lib/python3.6/site-packages/ipykernel_launcher.py:1: FutureWarning: from_csv is deprecated. Please use read_csv(...) instead. Note that some of the default arguments are different, so please refer to the documentation for from_csv when changing your function calls\n",
      "  \"\"\"Entry point for launching an IPython kernel.\n"
     ]
    }
   ],
   "source": [
    "topic_coordinate_2 = pd.DataFrame.from_csv('./topic_coordinates.csv')"
   ]
  },
  {
   "cell_type": "code",
   "execution_count": 8,
   "metadata": {},
   "outputs": [
    {
     "data": {
      "text/html": [
       "<div>\n",
       "<style scoped>\n",
       "    .dataframe tbody tr th:only-of-type {\n",
       "        vertical-align: middle;\n",
       "    }\n",
       "\n",
       "    .dataframe tbody tr th {\n",
       "        vertical-align: top;\n",
       "    }\n",
       "\n",
       "    .dataframe thead th {\n",
       "        text-align: right;\n",
       "    }\n",
       "</style>\n",
       "<table border=\"1\" class=\"dataframe\">\n",
       "  <thead>\n",
       "    <tr style=\"text-align: right;\">\n",
       "      <th></th>\n",
       "      <th>x</th>\n",
       "      <th>y</th>\n",
       "      <th>topics</th>\n",
       "      <th>cluster</th>\n",
       "      <th>Freq</th>\n",
       "    </tr>\n",
       "    <tr>\n",
       "      <th>topic</th>\n",
       "      <th></th>\n",
       "      <th></th>\n",
       "      <th></th>\n",
       "      <th></th>\n",
       "      <th></th>\n",
       "    </tr>\n",
       "  </thead>\n",
       "  <tbody>\n",
       "    <tr>\n",
       "      <th>3</th>\n",
       "      <td>1.0</td>\n",
       "      <td>1.0</td>\n",
       "      <td>1</td>\n",
       "      <td>1</td>\n",
       "      <td>3.5</td>\n",
       "    </tr>\n",
       "    <tr>\n",
       "      <th>1</th>\n",
       "      <td>-1.5</td>\n",
       "      <td>-0.5</td>\n",
       "      <td>2</td>\n",
       "      <td>1</td>\n",
       "      <td>2.1</td>\n",
       "    </tr>\n",
       "    <tr>\n",
       "      <th>2</th>\n",
       "      <td>0.5</td>\n",
       "      <td>2.0</td>\n",
       "      <td>3</td>\n",
       "      <td>1</td>\n",
       "      <td>0.7</td>\n",
       "    </tr>\n",
       "  </tbody>\n",
       "</table>\n",
       "</div>"
      ],
      "text/plain": [
       "         x    y  topics  cluster  Freq\n",
       "topic                                 \n",
       "3      1.0  1.0       1        1   3.5\n",
       "1     -1.5 -0.5       2        1   2.1\n",
       "2      0.5  2.0       3        1   0.7"
      ]
     },
     "execution_count": 8,
     "metadata": {},
     "output_type": "execute_result"
    }
   ],
   "source": [
    "topic_coordinate_2"
   ]
  },
  {
   "cell_type": "markdown",
   "metadata": {},
   "source": [
    "Freq 의 최소값은 0 보다 커야 함. 원의 크기를 결정하는 값. [0.5 ~ 3]으로 범위를 잡아두면 좋음\n",
    "\n",
    "(실제 데이터 예시)\n",
    "\n",
    "    x\ty\ttopics\tcluster\tFreq\n",
    "    topic\t\t\t\t\t\n",
    "    87\t0.116826\t0.192296\t1\t1\t3.327655\n",
    "    50\t0.172420\t-0.093400\t2\t1\t3.040433\n",
    "    95\t-0.002153\t-0.167669\t3\t1\t2.809797\n",
    "    81\t0.142578\t-0.214649\t4\t1\t2.287351\n",
    "    68\t0.103613\t0.156019\t5\t1\t2.070516"
   ]
  },
  {
   "cell_type": "markdown",
   "metadata": {},
   "source": [
    "### token table"
   ]
  },
  {
   "cell_type": "code",
   "execution_count": 9,
   "metadata": {
    "collapsed": true
   },
   "outputs": [],
   "source": [
    "# token_table\n",
    "columns = ['term', 'Topic', 'Freq', 'Term']\n",
    "rows = [\n",
    "    (0, 1, 0.3, '흔한단어'),\n",
    "    (0, 2, 0.4, '흔한단어'),\n",
    "    (0, 3, 0.3, '흔한단어'),\n",
    "    (1, 1, 0.95, '공연'),\n",
    "    (2, 1, 0.98, '무대'),\n",
    "    (3, 1, 0.55, '유명인사'),\n",
    "    (3, 2, 0.24, '유명인사'),\n",
    "    (3, 3, 0.20, '유명인사'),\n",
    "    (10, 2, 0.85, '정치인'),\n",
    "    (11, 2, 0.99, '정책'),\n",
    "    (20, 3, 0.85, '박물관'),\n",
    "    (21, 3, 0.97, '큐레이터'),\n",
    "    (22, 3, 0.97, '명화'),\n",
    "]\n",
    "\n",
    "with open('./token_table.csv', 'w', encoding='utf-8') as f:\n",
    "    f.write(','.join(columns)+'\\n')\n",
    "    for row in rows:\n",
    "        f.write(','.join((str(v) for v in row))+'\\n')"
   ]
  },
  {
   "cell_type": "code",
   "execution_count": 10,
   "metadata": {},
   "outputs": [
    {
     "name": "stderr",
     "output_type": "stream",
     "text": [
      "/home/lovit/anaconda2/envs/scrapper/lib/python3.6/site-packages/ipykernel_launcher.py:1: FutureWarning: from_csv is deprecated. Please use read_csv(...) instead. Note that some of the default arguments are different, so please refer to the documentation for from_csv when changing your function calls\n",
      "  \"\"\"Entry point for launching an IPython kernel.\n"
     ]
    }
   ],
   "source": [
    "token_table = pd.DataFrame.from_csv('./token_table.csv')"
   ]
  },
  {
   "cell_type": "code",
   "execution_count": 11,
   "metadata": {},
   "outputs": [
    {
     "data": {
      "text/html": [
       "<div>\n",
       "<style scoped>\n",
       "    .dataframe tbody tr th:only-of-type {\n",
       "        vertical-align: middle;\n",
       "    }\n",
       "\n",
       "    .dataframe tbody tr th {\n",
       "        vertical-align: top;\n",
       "    }\n",
       "\n",
       "    .dataframe thead th {\n",
       "        text-align: right;\n",
       "    }\n",
       "</style>\n",
       "<table border=\"1\" class=\"dataframe\">\n",
       "  <thead>\n",
       "    <tr style=\"text-align: right;\">\n",
       "      <th></th>\n",
       "      <th>Topic</th>\n",
       "      <th>Freq</th>\n",
       "      <th>Term</th>\n",
       "    </tr>\n",
       "    <tr>\n",
       "      <th>term</th>\n",
       "      <th></th>\n",
       "      <th></th>\n",
       "      <th></th>\n",
       "    </tr>\n",
       "  </thead>\n",
       "  <tbody>\n",
       "    <tr>\n",
       "      <th>0</th>\n",
       "      <td>1</td>\n",
       "      <td>0.30</td>\n",
       "      <td>흔한단어</td>\n",
       "    </tr>\n",
       "    <tr>\n",
       "      <th>0</th>\n",
       "      <td>2</td>\n",
       "      <td>0.40</td>\n",
       "      <td>흔한단어</td>\n",
       "    </tr>\n",
       "    <tr>\n",
       "      <th>0</th>\n",
       "      <td>3</td>\n",
       "      <td>0.30</td>\n",
       "      <td>흔한단어</td>\n",
       "    </tr>\n",
       "    <tr>\n",
       "      <th>1</th>\n",
       "      <td>1</td>\n",
       "      <td>0.95</td>\n",
       "      <td>공연</td>\n",
       "    </tr>\n",
       "    <tr>\n",
       "      <th>2</th>\n",
       "      <td>1</td>\n",
       "      <td>0.98</td>\n",
       "      <td>무대</td>\n",
       "    </tr>\n",
       "    <tr>\n",
       "      <th>3</th>\n",
       "      <td>1</td>\n",
       "      <td>0.55</td>\n",
       "      <td>유명인사</td>\n",
       "    </tr>\n",
       "    <tr>\n",
       "      <th>3</th>\n",
       "      <td>2</td>\n",
       "      <td>0.24</td>\n",
       "      <td>유명인사</td>\n",
       "    </tr>\n",
       "    <tr>\n",
       "      <th>3</th>\n",
       "      <td>3</td>\n",
       "      <td>0.20</td>\n",
       "      <td>유명인사</td>\n",
       "    </tr>\n",
       "    <tr>\n",
       "      <th>10</th>\n",
       "      <td>2</td>\n",
       "      <td>0.85</td>\n",
       "      <td>정치인</td>\n",
       "    </tr>\n",
       "    <tr>\n",
       "      <th>11</th>\n",
       "      <td>2</td>\n",
       "      <td>0.99</td>\n",
       "      <td>정책</td>\n",
       "    </tr>\n",
       "    <tr>\n",
       "      <th>20</th>\n",
       "      <td>3</td>\n",
       "      <td>0.85</td>\n",
       "      <td>박물관</td>\n",
       "    </tr>\n",
       "    <tr>\n",
       "      <th>21</th>\n",
       "      <td>3</td>\n",
       "      <td>0.97</td>\n",
       "      <td>큐레이터</td>\n",
       "    </tr>\n",
       "    <tr>\n",
       "      <th>22</th>\n",
       "      <td>3</td>\n",
       "      <td>0.97</td>\n",
       "      <td>명화</td>\n",
       "    </tr>\n",
       "  </tbody>\n",
       "</table>\n",
       "</div>"
      ],
      "text/plain": [
       "      Topic  Freq  Term\n",
       "term                   \n",
       "0         1  0.30  흔한단어\n",
       "0         2  0.40  흔한단어\n",
       "0         3  0.30  흔한단어\n",
       "1         1  0.95    공연\n",
       "2         1  0.98    무대\n",
       "3         1  0.55  유명인사\n",
       "3         2  0.24  유명인사\n",
       "3         3  0.20  유명인사\n",
       "10        2  0.85   정치인\n",
       "11        2  0.99    정책\n",
       "20        3  0.85   박물관\n",
       "21        3  0.97  큐레이터\n",
       "22        3  0.97    명화"
      ]
     },
     "execution_count": 11,
     "metadata": {},
     "output_type": "execute_result"
    }
   ],
   "source": [
    "token_table"
   ]
  },
  {
   "cell_type": "markdown",
   "metadata": {},
   "source": [
    "Freq 의 합은 1 보다 작아야 함 (1의 근사치)\n",
    "\n",
    "(실제 데이터 예시)\n",
    "\n",
    "    Topic\tFreq\tTerm\n",
    "    term\t\t\t\n",
    "    2429\t7\t0.016450\t뉴스\n",
    "    2429\t8\t0.006729\t뉴스\n",
    "    2429\t10\t0.015702\t뉴스"
   ]
  },
  {
   "cell_type": "markdown",
   "metadata": {},
   "source": [
    "### topic order"
   ]
  },
  {
   "cell_type": "code",
   "execution_count": 12,
   "metadata": {
    "collapsed": true
   },
   "outputs": [],
   "source": [
    "# topic_order\n",
    "topic_order = [3, 1, 2]"
   ]
  },
  {
   "cell_type": "code",
   "execution_count": 13,
   "metadata": {
    "collapsed": true
   },
   "outputs": [],
   "source": [
    "prepared_data = pyLDAvis.PreparedData(topic_coordinate, topic_info, token_table, R, lambda_step, plot_opts, topic_order)"
   ]
  },
  {
   "cell_type": "code",
   "execution_count": 14,
   "metadata": {},
   "outputs": [
    {
     "data": {
      "text/html": [
       "\n",
       "<link rel=\"stylesheet\" type=\"text/css\" href=\"https://cdn.rawgit.com/bmabey/pyLDAvis/files/ldavis.v1.0.0.css\">\n",
       "\n",
       "\n",
       "<div id=\"ldavis_el214431399716920808482697939609\"></div>\n",
       "<script type=\"text/javascript\">\n",
       "\n",
       "var ldavis_el214431399716920808482697939609_data = {\"mdsDat\": {\"x\": [1.0, -1.5, 0.5], \"y\": [1.0, -0.5, 2.0], \"topics\": [1, 2, 3], \"cluster\": [1, 1, 1], \"Freq\": [3.5, 2.1, 0.7]}, \"tinfo\": {\"Category\": [\"Default\", \"Default\", \"Default\", \"Default\", \"Default\", \"Default\", \"Default\", \"Default\", \"Default\", \"Topic1\", \"Topic1\", \"Topic1\", \"Topic1\", \"Topic2\", \"Topic2\", \"Topic2\", \"Topic2\", \"Topic3\", \"Topic3\", \"Topic3\", \"Topic3\", \"Topic3\"], \"Freq\": [298, 100, 95, 92, 55, 50, 81, 17, 18, 150, 55, 50, 45, 100, 25, 55, 50, 48, 22, 81, 17, 18], \"Term\": [\"\\ud754\\ud55c\\ub2e8\\uc5b4\", \"\\uacf5\\uc5f0\", \"\\ubb34\\ub300\", \"\\uc720\\uba85\\uc778\\uc0ac\", \"\\uc815\\uce58\\uc778\", \"\\uc815\\ucc45\", \"\\ubc15\\ubb3c\\uad00\", \"\\ud050\\ub808\\uc774\\ud130\", \"\\uba85\\ud654\", \"\\ud754\\ud55c\\ub2e8\\uc5b4\", \"\\uc720\\uba85\\uc778\\uc0ac\", \"\\uacf5\\uc5f0\", \"\\ubb34\\ub300\", \"\\ud754\\ud55c\\ub2e8\\uc5b4\", \"\\uc720\\uba85\\uc778\\uc0ac\", \"\\uc815\\uce58\\uc778\", \"\\uc815\\ucc45\", \"\\ud754\\ud55c\\ub2e8\\uc5b4\", \"\\uc720\\uba85\\uc778\\uc0ac\", \"\\ubc15\\ubb3c\\uad00\", \"\\ud050\\ub808\\uc774\\ud130\", \"\\uba85\\ud654\"], \"Total\": [300.0, 102.0, 98.0, 95.0, 58.0, 51.0, 82.0, 18.0, 18.1, 300.0, 98.0, 102.0, 98.0, 300.0, 98.0, 58.0, 51.0, 300.0, 98.0, 82.0, 18.0, 18.1], \"loglift\": [30.0, 22.3, 22.0, 21.5, 18.0, 17.0, 19.0, 15.0, 15.5, 5.0, 4.0, 3.8, 3.7, 3.0, 3.0, 3.4, 3.7, 2.0, 2.0, 4.4, 3.7, 4.7], \"logprob\": [30.0, 22.3, 22.0, 21.5, 18.0, 17.0, 19.0, 15.0, 15.5, -5.0, -4.0, -4.4, -4.1, -5.0, -4.0, -3.4, -2.1, -5.0, -4.0, -3.4, -2.1, -2.1]}, \"token.table\": {\"Topic\": [1, 2, 3, 1, 1, 1, 2, 3, 2, 2, 3, 3, 3], \"Freq\": [0.3, 0.4, 0.3, 0.95, 0.98, 0.55, 0.24, 0.2, 0.85, 0.99, 0.85, 0.97, 0.97], \"Term\": [\"\\ud754\\ud55c\\ub2e8\\uc5b4\", \"\\ud754\\ud55c\\ub2e8\\uc5b4\", \"\\ud754\\ud55c\\ub2e8\\uc5b4\", \"\\uacf5\\uc5f0\", \"\\ubb34\\ub300\", \"\\uc720\\uba85\\uc778\\uc0ac\", \"\\uc720\\uba85\\uc778\\uc0ac\", \"\\uc720\\uba85\\uc778\\uc0ac\", \"\\uc815\\uce58\\uc778\", \"\\uc815\\ucc45\", \"\\ubc15\\ubb3c\\uad00\", \"\\ud050\\ub808\\uc774\\ud130\", \"\\uba85\\ud654\"]}, \"R\": 30, \"lambda.step\": 0.01, \"plot.opts\": {\"xlab\": \"PC1\", \"ylab\": \"PC2\"}, \"topic.order\": [3, 1, 2]};\n",
       "\n",
       "function LDAvis_load_lib(url, callback){\n",
       "  var s = document.createElement('script');\n",
       "  s.src = url;\n",
       "  s.async = true;\n",
       "  s.onreadystatechange = s.onload = callback;\n",
       "  s.onerror = function(){console.warn(\"failed to load library \" + url);};\n",
       "  document.getElementsByTagName(\"head\")[0].appendChild(s);\n",
       "}\n",
       "\n",
       "if(typeof(LDAvis) !== \"undefined\"){\n",
       "   // already loaded: just create the visualization\n",
       "   !function(LDAvis){\n",
       "       new LDAvis(\"#\" + \"ldavis_el214431399716920808482697939609\", ldavis_el214431399716920808482697939609_data);\n",
       "   }(LDAvis);\n",
       "}else if(typeof define === \"function\" && define.amd){\n",
       "   // require.js is available: use it to load d3/LDAvis\n",
       "   require.config({paths: {d3: \"https://cdnjs.cloudflare.com/ajax/libs/d3/3.5.5/d3.min\"}});\n",
       "   require([\"d3\"], function(d3){\n",
       "      window.d3 = d3;\n",
       "      LDAvis_load_lib(\"https://cdn.rawgit.com/bmabey/pyLDAvis/files/ldavis.v1.0.0.js\", function(){\n",
       "        new LDAvis(\"#\" + \"ldavis_el214431399716920808482697939609\", ldavis_el214431399716920808482697939609_data);\n",
       "      });\n",
       "    });\n",
       "}else{\n",
       "    // require.js not available: dynamically load d3 & LDAvis\n",
       "    LDAvis_load_lib(\"https://cdnjs.cloudflare.com/ajax/libs/d3/3.5.5/d3.min.js\", function(){\n",
       "         LDAvis_load_lib(\"https://cdn.rawgit.com/bmabey/pyLDAvis/files/ldavis.v1.0.0.js\", function(){\n",
       "                 new LDAvis(\"#\" + \"ldavis_el214431399716920808482697939609\", ldavis_el214431399716920808482697939609_data);\n",
       "            })\n",
       "         });\n",
       "}\n",
       "</script>"
      ],
      "text/plain": [
       "<IPython.core.display.HTML object>"
      ]
     },
     "execution_count": 14,
     "metadata": {},
     "output_type": "execute_result"
    }
   ],
   "source": [
    "pyLDAvis.display(prepared_data)"
   ]
  },
  {
   "cell_type": "code",
   "execution_count": 15,
   "metadata": {
    "collapsed": true
   },
   "outputs": [],
   "source": [
    "pyLDAvis.save_html(prepared_data, 'example.html')"
   ]
  },
  {
   "cell_type": "code",
   "execution_count": null,
   "metadata": {
    "collapsed": true
   },
   "outputs": [],
   "source": []
  }
 ],
 "metadata": {
  "kernelspec": {
   "display_name": "Python 3",
   "language": "python",
   "name": "python3"
  },
  "language_info": {
   "codemirror_mode": {
    "name": "ipython",
    "version": 3
   },
   "file_extension": ".py",
   "mimetype": "text/x-python",
   "name": "python",
   "nbconvert_exporter": "python",
   "pygments_lexer": "ipython3",
   "version": "3.6.2"
  }
 },
 "nbformat": 4,
 "nbformat_minor": 2
}
