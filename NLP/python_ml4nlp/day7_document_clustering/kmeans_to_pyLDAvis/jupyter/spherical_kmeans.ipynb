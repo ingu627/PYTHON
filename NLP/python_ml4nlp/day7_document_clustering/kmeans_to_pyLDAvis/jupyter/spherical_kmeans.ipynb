{
 "cells": [
  {
   "cell_type": "code",
   "execution_count": null,
   "metadata": {
    "collapsed": true
   },
   "outputs": [],
   "source": [
    "import warnings\n",
    "warnings.filterwarnings('ignore')"
   ]
  },
  {
   "cell_type": "code",
   "execution_count": 2,
   "metadata": {},
   "outputs": [
    {
     "name": "stdout",
     "output_type": "stream",
     "text": [
      "(30091, 9774)\n",
      "5537\n"
     ]
    }
   ],
   "source": [
    "# data loading\n",
    "\n",
    "import pickle\n",
    "\n",
    "data_path = '../data/2016-10-20-news-bow.pkl'\n",
    "SAVE_RESULT = False\n",
    "\n",
    "with open(data_path, 'rb') as f:\n",
    "    params = pickle.load(f)\n",
    "    x = params['x']\n",
    "    index2word = params['index2word']\n",
    "    word2index = params['word2index']\n",
    "\n",
    "print(x.shape)\n",
    "print(word2index['아이오아이'])"
   ]
  },
  {
   "cell_type": "code",
   "execution_count": 3,
   "metadata": {},
   "outputs": [
    {
     "name": "stdout",
     "output_type": "stream",
     "text": [
      "initialization_time=1.218108 sec, sparsity=0.00796\n",
      "n_iter=1, changed=29969, inertia=15323.440, iter_time=4.435 sec, sparsity=0.116\n",
      "n_iter=2, changed=5062, inertia=11127.620, iter_time=4.466 sec, sparsity=0.108\n",
      "n_iter=3, changed=2179, inertia=10675.314, iter_time=4.463 sec, sparsity=0.105\n",
      "n_iter=4, changed=1040, inertia=10491.637, iter_time=4.449 sec, sparsity=0.103\n",
      "n_iter=5, changed=487, inertia=10423.503, iter_time=4.437 sec, sparsity=0.103\n",
      "n_iter=6, changed=297, inertia=10392.490, iter_time=4.483 sec, sparsity=0.102\n",
      "n_iter=7, changed=178, inertia=10373.646, iter_time=4.442 sec, sparsity=0.102\n",
      "n_iter=8, changed=119, inertia=10362.625, iter_time=4.449 sec, sparsity=0.102\n",
      "n_iter=9, changed=78, inertia=10355.905, iter_time=4.438 sec, sparsity=0.102\n",
      "n_iter=10, changed=80, inertia=10350.703, iter_time=4.452 sec, sparsity=0.102\n"
     ]
    }
   ],
   "source": [
    "# train spherical k-means model\n",
    "\n",
    "from soyclustering import SphericalKMeans\n",
    "from sklearn.preprocessing import normalize\n",
    "\n",
    "kmeans = SphericalKMeans(\n",
    "    n_clusters = 500,\n",
    "    init = 'similar_cut',\n",
    "    verbose = True\n",
    ")\n",
    "\n",
    "x = normalize(x, norm='l2')\n",
    "labels = kmeans.fit_predict(x)"
   ]
  },
  {
   "cell_type": "code",
   "execution_count": 4,
   "metadata": {},
   "outputs": [
    {
     "name": "stdout",
     "output_type": "stream",
     "text": [
      "CPU times: user 508 ms, sys: 4 ms, total: 512 ms\n",
      "Wall time: 514 ms\n"
     ]
    }
   ],
   "source": [
    "# cluster labeling\n",
    "\n",
    "from soyclustering import proportion_keywords\n",
    "\n",
    "centers = kmeans.cluster_centers_\n",
    "keywords = proportion_keywords(\n",
    "    centers,\n",
    "    labels,\n",
    "    index2word = index2word\n",
    ")"
   ]
  },
  {
   "cell_type": "code",
   "execution_count": 5,
   "metadata": {},
   "outputs": [
    {
     "data": {
      "text/plain": [
       "(500, 9774)"
      ]
     },
     "execution_count": 5,
     "metadata": {},
     "output_type": "execute_result"
    }
   ],
   "source": [
    "centers.shape"
   ]
  },
  {
   "cell_type": "code",
   "execution_count": 5,
   "metadata": {},
   "outputs": [
    {
     "name": "stdout",
     "output_type": "stream",
     "text": [
      "number of selected clusters = 117\n"
     ]
    }
   ],
   "source": [
    "from collections import Counter\n",
    "\n",
    "cluster_size = Counter(labels)\n",
    "selected_clusters = {\n",
    "    idx for idx in range(centers.shape[0])\n",
    "    if 50 <= cluster_size.get(idx) <= 100\n",
    "}\n",
    "\n",
    "print('number of selected clusters = {}'.format(len(selected_clusters)))"
   ]
  },
  {
   "cell_type": "code",
   "execution_count": 6,
   "metadata": {
    "collapsed": true
   },
   "outputs": [],
   "source": [
    "if SAVE_RESULT:\n",
    "    with open('./2016-10-20-news-kmeans500.pkl', 'wb') as f:\n",
    "        params = {\n",
    "            'centers': centers,\n",
    "            'labels': labels,\n",
    "            'index2word': index2word\n",
    "        }\n",
    "        pickle.dump(params, f)"
   ]
  },
  {
   "cell_type": "code",
   "execution_count": 7,
   "metadata": {
    "scrolled": false
   },
   "outputs": [
    {
     "name": "stdout",
     "output_type": "stream",
     "text": [
      "\n",
      "# cluster = 0\n",
      "당사국, 해상, 평택, 5차례, 공사비, 남쪽, 몰래, 총회, 등재, 370, \n",
      "항만, 당진, 적법, 수산, 올리기, 깊게, 상업, 얻게, 낭비, 면적, \n",
      "배출, 국토, 발급, 해도, 식별, 해양수산부, 저해, 본토, 수산물, 연휴, \n",
      "투기, 협정, 의무화, 해수부, 아리아, 선장, 국제적, 급감, 256, 유럽연합, \n",
      "구축함, 절감, 작성, 해경, 2천, 부실, 간부, 삭제, 동쪽, 협약, \n",
      "\n",
      "\n",
      "# cluster = 3\n",
      "박수진, 남성미, 화보, 몽환적, 시크, 매거진, 오연서, 패셔니스타, 입술, 11월호, \n",
      "메이크업, 빛이, 촉촉, 탄성, 예민, 소신, 최성, 빠지게, 진한, 반짝, \n",
      "아낌없, 보석, 섹시함, 따스, 물씬, 오렌지, 하이, 환절기, 수분, 이종석, \n",
      "원피스, 소화, 몸매, 데이즈, 돋보, 정수, 에이핑크, 김남주, 실루엣, 정체성, \n",
      "훌륭, 화장, 러블리, 입어, 햇살, 과감, 정은지, 진솔, 발간, 스타일링, \n",
      "\n",
      "\n",
      "# cluster = 17\n",
      "논현동, 런칭, 양윤영, 강소영, 김진솔, 박희, 미스코리아, 서인영, 손예진, 라움, \n",
      "론칭, 화장품, 미샤, 고아라, 역삼동, 이탈, 시리즈, 이지, 기념, 화사, \n",
      "강남구, 뉴스1스타, 시계, 신제품, 구두, 우아, 스포츠조선, 취하고, 포즈, 행사, \n",
      "헤럴드, 브랜드, 가수, 어마어마, 자태, 자신감, 원피스, 모델, 출시, 하트, \n",
      "스타, 발산, 다국적, 참석, 러블리, 배우, 무브먼트, 곡선, 눈빛, 케이스, \n",
      "\n",
      "\n",
      "# cluster = 18\n",
      "총기사고, 윤동, 벌이기, 부엌, 묵념, 모니터, 번동파출소, 법무부, 동료들, 추모, \n",
      "오패산, 공조, 터널, 1세대, 내구성, 경관, 전자발찌, 순직, 문제점, 김주, \n",
      "강북구, 강북경찰서, 성모씨, 경감, 용의자, 살해, 직전, 리본, 진화, 성병대, \n",
      "잠시, 총격, 경찰관, 헬멧, 2008년, 달고, 경찰서, 김창, 숨지게, 출동, \n",
      "방탄조끼, 김동, 폭죽, 하기, 붙어, 서바이벌, 사제, 관리, 검거, 신발, \n",
      "\n",
      "\n",
      "# cluster = 30\n",
      "돋보기, 우측, 하단, 원본, 클릭, 디스, 남양주, 버튼, 김민정, 감상, \n",
      "09, 크기, 뮤직비디오, 눈물, 방탄소년단, 27, 정국, 이미지, 촬영, 있습니다, \n",
      "경기, 2016, \n",
      "\n",
      "# cluster = 38\n",
      "누리과정, 삭감, 예산, 예산안, 서해안, 충남도, 배출량, 육안, 조례, 편성, \n",
      "마실, 2025년, 보강, 7대, 증액, 발전소, 부산시, 법인세, 행정처분, 입법예고, \n",
      "도의회, 불신, 교체, 선포, 지리적, 건축물, 어린이집, 오염, 마시는, 심의, \n",
      "노후, 옥상, 상정, 분산, 100억원, 획기적, 도교육청, 제정, 전액, 창원시, \n",
      "복지, 5억원, 집안, 저소득층, 낭비, 재원, 보급, 근본적, 철거, 감축, \n",
      "\n",
      "\n",
      "# cluster = 40\n",
      "로베코샘, 지속가능경영, 평가대상, 사회책임, 지속가능성, 다우존스, 금융정보, 편입, 태평양, 제일제당, \n",
      "두산, 인증서, 온실가스, 배출량, 종합적, 600여, 상위, 엔지니어링, 146, 스위스, \n",
      "컨퍼런스, 1999년, 월드, 그랜드, 7년, 측면, 점수, 기후변화, 전문기관, 한남동, \n",
      "타이어, 시가총액, 지속가능, 지수, 항목, 아시아, 지표, 경제적, 다각적, 산물, \n",
      "연속, 자산관리, 효율성, 커뮤니케이션, 사회적, 환경, 지배구조, 사용량, 사회공헌, 업종, \n",
      "\n",
      "\n",
      "# cluster = 44\n",
      "수석비서관회의, 백승, 본인들, 기공식, 영주, 추경, 박정희, 냉철, 예우, 박근혜, \n",
      "민심, 오찬, 구미, 소수, 몰두, 단합, 청와대, 결함, 10조원, 도시락, \n",
      "신산업, 지지층, 대통령, 발언, 선제적, 민생, 전직, 악재, 주재, 김정일, \n",
      "확고, 단종, 중장기적, 저하, 체질, 화물연대, 행복교육박람회, 물이, 집회, 해운업, \n",
      "내수, 면밀, 타격, 강소기업, 관광지, 나서야, 고향, 지지율, 조속, 나가는, \n",
      "\n",
      "\n",
      "# cluster = 51\n",
      "전북대병원, 전남대병원, 권역응급의료센터, 권역외상센터, 응급의료, 수술실, 호출, 재지정, 중증외상, 권역, \n",
      "중앙응급의료위원회, 수술, 의료기관, 소아환자, 정형외과, 복지부, 핫라인, 환자, 취소, 당직, \n",
      "과징금, 중징계, 전원, 응급, 재발, 진료, 지역민, 교통사고, 보건복지부, 응급실, \n",
      "중증, 거절당, 13곳, 나타났다고, 개원, 유예, 환자들, 보조금, 응급의학, 치료법, \n",
      "2006년, 위원회, 어렵다고, 이뤄지지, 재검토, 외상, 소아, 2001년, 의뢰, 병원, \n",
      "\n",
      "\n",
      "# cluster = 52\n",
      "역삼동, 김현철, 김도훈, 미샤, 포토, 라움, 이탈, 손예진, 김남주, 지형, \n",
      "서인영, 김진솔, 타임, 미스코리아, 팬사인회, 강소영, 기념, 론칭, 박희, 걸음, \n",
      "최규, 양윤영, 시리즈, 스포츠서울, 하이, 25일, 단아, 이승, 출시, 이마트, \n",
      "취하고, 포즈, 87, 강남구, 신제품, 텐아시아, 포토타임, 우아, 리포트, 핑크빛, \n",
      "여성미, 행사, 원피스, 가수, 모델, 참석, 미모, 여신, 화이트, 무릎, \n",
      "\n"
     ]
    }
   ],
   "source": [
    "topk = 50\n",
    "\n",
    "def pretty_label_print(labels, words_in_a_line=10):\n",
    "    for i, word in enumerate(labels):\n",
    "        print('{}, '.format(word), end='')\n",
    "        if (i + 1) % words_in_a_line == 0:\n",
    "            print()\n",
    "    print()\n",
    "\n",
    "for cluster_idx in list(selected_clusters)[:10]:\n",
    "    cluster_labels = [\n",
    "        word for word, score in sorted(\n",
    "            keywords[cluster_idx], key=lambda x:-x[1])[:topk]\n",
    "    ]\n",
    "\n",
    "    print('\\n# cluster = {}'.format(cluster_idx))\n",
    "    pretty_label_print(cluster_labels)"
   ]
  },
  {
   "cell_type": "code",
   "execution_count": null,
   "metadata": {
    "collapsed": true
   },
   "outputs": [],
   "source": []
  }
 ],
 "metadata": {
  "kernelspec": {
   "display_name": "Python 3",
   "language": "python",
   "name": "python3"
  },
  "language_info": {
   "codemirror_mode": {
    "name": "ipython",
    "version": 3
   },
   "file_extension": ".py",
   "mimetype": "text/x-python",
   "name": "python",
   "nbconvert_exporter": "python",
   "pygments_lexer": "ipython3",
   "version": "3.6.2"
  }
 },
 "nbformat": 4,
 "nbformat_minor": 2
}
