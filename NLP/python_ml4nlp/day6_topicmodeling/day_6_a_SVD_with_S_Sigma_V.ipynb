{
 "cells": [
  {
   "cell_type": "markdown",
   "metadata": {},
   "source": [
    "TruncatedSVD 는 학습 결과로 S, Sigma, VT 를 얻습니다. 그런데, Scikit learn 의 TruncatedSVD 는 S * Sigma 를 input data X 의 차원축소된 값으로 return 하고, VT 를 .components_ 에 저장합니다. 때로는 S, Sigma, VT 가 각각 필요할 경우가 있습니다. Scikit-learn 의 TruncatedSVD 의 fit 함수 안을 살펴보면 이를 얻을 수 있는 코드들이 있습니다.\n",
    "\n",
    "이번 튜토리얼에서는 scikit-learn 의 코드를 바탕으로 SVD 의 각 성분을 얻는 함수를 만듭니다."
   ]
  },
  {
   "cell_type": "markdown",
   "metadata": {},
   "source": [
    "## Data loading"
   ]
  },
  {
   "cell_type": "code",
   "execution_count": 1,
   "metadata": {},
   "outputs": [
    {
     "name": "stdout",
     "output_type": "stream",
     "text": [
      "soynlp=0.0.49\n",
      "added lovit_textmining_dataset\n"
     ]
    }
   ],
   "source": [
    "import config\n",
    "from lovit_textmining_dataset.navernews_10days import get_bow\n",
    "\n",
    "x, idx_to_vocab, vocab_to_idx = get_bow(date='2016-10-20', tokenize='noun')"
   ]
  },
  {
   "cell_type": "markdown",
   "metadata": {},
   "source": [
    "## Scikit-learn SVD"
   ]
  },
  {
   "cell_type": "code",
   "execution_count": 3,
   "metadata": {},
   "outputs": [
    {
     "name": "stdout",
     "output_type": "stream",
     "text": [
      "(30091, 9774)\n",
      "(30091, 100)\n",
      "(100, 9774)\n",
      "0.9999999999999986\n"
     ]
    }
   ],
   "source": [
    "from sklearn.decomposition import TruncatedSVD\n",
    "from sklearn.preprocessing import normalize\n",
    "\n",
    "x_ = normalize(x)\n",
    "svd = TruncatedSVD(n_components=100)\n",
    "y = svd.fit_transform(x_)\n",
    "\n",
    "print(x_.shape)\n",
    "print(y.shape)\n",
    "print(svd.components_.shape)\n",
    "print((svd.components_[0,:] ** 2).sum())"
   ]
  },
  {
   "cell_type": "markdown",
   "metadata": {},
   "source": [
    "## Three components\n",
    "\n",
    "아래 함수는 scikit-learn TruncatedSVD 의 내부 부분을 옮겨온 것입니다. randomized_svd 는 sparse matrix 에 대하여 효율적인 SVD 연산을 도와주는 함수입니다. 그 결과로 S, Sigma, VT 가 출력됩니다."
   ]
  },
  {
   "cell_type": "code",
   "execution_count": 4,
   "metadata": {
    "collapsed": true
   },
   "outputs": [],
   "source": [
    "from sklearn.utils import check_random_state\n",
    "from sklearn.utils.extmath import randomized_svd\n",
    "\n",
    "def fit_svd(X, n_components, n_iter=5, random_state=None):\n",
    "\n",
    "    if (random_state == None) or isinstance(random_state, int):\n",
    "        random_state = check_random_state(random_state)\n",
    "\n",
    "    n_features = X.shape[1]\n",
    "\n",
    "    if n_components >= n_features:\n",
    "        raise ValueError(\"n_components must be < n_features;\"\n",
    "                         \" got %d >= %d\" % (n_components, n_features))\n",
    "\n",
    "    U, Sigma, VT = randomized_svd(\n",
    "        X, n_components,\n",
    "        n_iter = n_iter,\n",
    "        random_state = random_state)\n",
    "\n",
    "    return U, Sigma, VT\n",
    "\n",
    "U, Sigma, VT = fit_svd(x_, n_components=100)"
   ]
  },
  {
   "cell_type": "markdown",
   "metadata": {},
   "source": [
    "때로는 Sigma 를 두 부분으로 나눠서 dimension reduction 의 결과와 components 를 만들기도 합니다. components 의 각 축에 중요도를 부여하기 위해서입니다."
   ]
  },
  {
   "cell_type": "code",
   "execution_count": 5,
   "metadata": {},
   "outputs": [
    {
     "name": "stdout",
     "output_type": "stream",
     "text": [
      "(30091, 100)\n",
      "(100,)\n",
      "(100, 9774)\n"
     ]
    }
   ],
   "source": [
    "print(U.shape)\n",
    "print(Sigma.shape)\n",
    "print(VT.shape)"
   ]
  },
  {
   "cell_type": "markdown",
   "metadata": {},
   "source": [
    "components 의 각 축의 L2 norm 크기는 더 이상 1 이 아닙니다. 0, 1, 2 순으로 각 축의 L2 norm 이 커짐을 확인할 수 있습니다."
   ]
  },
  {
   "cell_type": "code",
   "execution_count": 9,
   "metadata": {},
   "outputs": [
    {
     "name": "stdout",
     "output_type": "stream",
     "text": [
      "(30091, 100)\n",
      "(100, 9774)\n",
      "49.83335905316896\n",
      "41.272542240242544\n",
      "30.456088260664192\n"
     ]
    }
   ],
   "source": [
    "S_ = Sigma ** (0.5)\n",
    "\n",
    "y = U * S_\n",
    "components = (VT.T * S_).T\n",
    "\n",
    "print(y.shape)\n",
    "print(components.shape)\n",
    "print((components[0,:] ** 2).sum())\n",
    "print((components[1,:] ** 2).sum())\n",
    "print((components[2,:] ** 2).sum())"
   ]
  },
  {
   "cell_type": "code",
   "execution_count": null,
   "metadata": {
    "collapsed": true
   },
   "outputs": [],
   "source": []
  }
 ],
 "metadata": {
  "kernelspec": {
   "display_name": "Python 3",
   "language": "python",
   "name": "python3"
  },
  "language_info": {
   "codemirror_mode": {
    "name": "ipython",
    "version": 3
   },
   "file_extension": ".py",
   "mimetype": "text/x-python",
   "name": "python",
   "nbconvert_exporter": "python",
   "pygments_lexer": "ipython3",
   "version": "3.6.2"
  }
 },
 "nbformat": 4,
 "nbformat_minor": 2
}
