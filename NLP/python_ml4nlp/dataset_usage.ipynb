{
 "cells": [
  {
   "cell_type": "code",
   "execution_count": 1,
   "metadata": {},
   "outputs": [
    {
     "name": "stdout",
     "output_type": "stream",
     "text": [
      "soynlp == 0.0.49\n",
      "\n",
      "Dataset version\n",
      "[navermovie_comments.data] is latest (0.0.2)\n",
      "[navermovie_comments.models] is latest (0.0.2)\n",
      "[navernews_10days.data] is latest (0.0.1)\n",
      "[navernews_10days.models] is latest (0.0.1)\n"
     ]
    }
   ],
   "source": [
    "import config"
   ]
  },
  {
   "cell_type": "markdown",
   "metadata": {},
   "source": [
    "실습에서는 soynlp 와 textminig 용 dataset 을 이용합니다. 각각의 repository 는 아래와 같습니다.\n",
    "\n",
    "- soynlp: https://github.com/lovit/soynlp/\n",
    "- textmining dataset: https://github.com/lovit/textmining_dataset/\n",
    "\n",
    "실험 코드는 config.py 파일을 이용합니다. 각자의 환경에 맞춰 soynlp 과 dataset 의 local repository path 를 입력해 주십시요.\n",
    "\n",
    "```\n",
    "import sys\n",
    "\n",
    "soynlp_dir = ''\n",
    "dataset_dir = ''\n",
    "sys.path.append(soynlp_dir)\n",
    "sys.path.append(dataset_dir)\n",
    "```\n",
    "\n",
    "데이터셋을 이용하려면 위의 repository 에서 git clone 을 한 뒤, fetch 함수를 이용하십시요. 데이터셋이 최신 버전일 경우, 업데이트는 중복되어 실행되지 않습니다."
   ]
  },
  {
   "cell_type": "code",
   "execution_count": 2,
   "metadata": {},
   "outputs": [
    {
     "name": "stdout",
     "output_type": "stream",
     "text": [
      "[navermovie_comments.data] is latest (0.0.1)\n",
      "[navermovie_comments.models] is latest (0.0.1)\n",
      "[navernews_10days.data] is latest (0.0.1)\n",
      "[navernews_10days.models] is latest (0.0.1)\n"
     ]
    }
   ],
   "source": [
    "from lovit_textmining_dataset import fetch\n",
    "\n",
    "fetch()"
   ]
  },
  {
   "cell_type": "markdown",
   "metadata": {},
   "source": [
    "현재 설치된 데이터셋의 버전 역시 확인가능합니다."
   ]
  },
  {
   "cell_type": "code",
   "execution_count": 3,
   "metadata": {},
   "outputs": [
    {
     "name": "stdout",
     "output_type": "stream",
     "text": [
      "[navermovie_comments.data] is latest (0.0.1)\n",
      "[navermovie_comments.models] is latest (0.0.1)\n",
      "[navernews_10days.data] is latest (0.0.1)\n",
      "[navernews_10days.models] is latest (0.0.1)\n"
     ]
    }
   ],
   "source": [
    "from lovit_textmining_dataset import version_check\n",
    "\n",
    "version_check()"
   ]
  },
  {
   "cell_type": "markdown",
   "metadata": {},
   "source": [
    "더 자세한 데이터셋 사용 방법은 위의 repository 를 참고하십시요."
   ]
  },
  {
   "cell_type": "code",
   "execution_count": null,
   "metadata": {
    "collapsed": true
   },
   "outputs": [],
   "source": []
  }
 ],
 "metadata": {
  "kernelspec": {
   "display_name": "Python 3",
   "language": "python",
   "name": "python3"
  },
  "language_info": {
   "codemirror_mode": {
    "name": "ipython",
    "version": 3
   },
   "file_extension": ".py",
   "mimetype": "text/x-python",
   "name": "python",
   "nbconvert_exporter": "python",
   "pygments_lexer": "ipython3",
   "version": "3.6.2"
  }
 },
 "nbformat": 4,
 "nbformat_minor": 2
}
