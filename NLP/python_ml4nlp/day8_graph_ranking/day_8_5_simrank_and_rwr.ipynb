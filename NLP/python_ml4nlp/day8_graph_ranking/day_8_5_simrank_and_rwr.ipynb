{
 "cells": [
  {
   "cell_type": "markdown",
   "metadata": {},
   "source": [
    "(doc, term) matrix 를 x0 로 읽어들인 뒤, 이를 bipartite graph 인 x 로 만듭니다. 그래프에서 `단어 0 번`과 `문서 0 번`은 서로 다른 마디입니다. bow_to_graph 함수를 이용하여 sparse matrix 로부터 그래프를 만듭니다. Row 와 column 이 각각 그래프의 마디가 됩니다.\n",
    "\n",
    "그래프의 마디 인덱스는 [Row | Column] 으로 만들어졌습니다. x 에서 0 부터 30090 까지는 문서이며 30091 부터 39864 까지는 단어입니다."
   ]
  },
  {
   "cell_type": "code",
   "execution_count": 1,
   "metadata": {},
   "outputs": [
    {
     "name": "stdout",
     "output_type": "stream",
     "text": [
      "soynlp=0.0.491\n",
      "added lovit_textmining_dataset\n"
     ]
    }
   ],
   "source": [
    "import config\n",
    "import soygraph\n",
    "from soygraph import bow_to_graph\n",
    "from navernews_10days import get_bow\n",
    "\n",
    "x0, idx_to_vocab, vocab_to_idx = get_bow(date='2016-10-20', tokenize='noun')\n",
    "x = bow_to_graph(x0)"
   ]
  },
  {
   "cell_type": "markdown",
   "metadata": {},
   "source": [
    "Random Walk with Restart (RWR) 함수를 import 한 뒤, graph 를 입력합니다."
   ]
  },
  {
   "cell_type": "code",
   "execution_count": 2,
   "metadata": {
    "collapsed": true
   },
   "outputs": [],
   "source": [
    "from soygraph.similarity import RandomWalkWithRestart\n",
    "\n",
    "# Random walk with Restart 를 만듭니다. \n",
    "# graph 를 입력합니다. \n",
    "rwr = RandomWalkWithRestart(x)"
   ]
  },
  {
   "cell_type": "markdown",
   "metadata": {},
   "source": [
    "`아이오아이`의 index 는 5537 입니다."
   ]
  },
  {
   "cell_type": "code",
   "execution_count": 3,
   "metadata": {},
   "outputs": [
    {
     "data": {
      "text/plain": [
       "5537"
      ]
     },
     "execution_count": 3,
     "metadata": {},
     "output_type": "execute_result"
    }
   ],
   "source": [
    "# query word 의 index 를 찾습니다.\n",
    "vocab_to_idx['아이오아이']"
   ]
  },
  {
   "cell_type": "markdown",
   "metadata": {},
   "source": [
    "문서의 개수에 단어 index 를 더하여 seed node 를 입력합니다. Seed node 로부터 가까운 topk 개의 마디를 찾습니다. Random Walk 는 6 steps 를 움직입니다. Topically similar terms 가 탐색됨을 알 수 있습니다."
   ]
  },
  {
   "cell_type": "code",
   "execution_count": 5,
   "metadata": {},
   "outputs": [
    {
     "name": "stdout",
     "output_type": "stream",
     "text": [
      "빅브레인\n",
      "너무너무너무\n",
      "오블리스\n",
      "신용재\n",
      "갓세븐\n",
      "아이오아이\n",
      "엠카운트다운\n",
      "다비치\n",
      "세븐\n",
      "완전체\n",
      "박진영\n",
      "펜타곤\n",
      "산들\n",
      "중독성\n",
      "엠넷\n",
      "열창\n",
      "잠깐\n",
      "깜찍\n",
      "타이틀곡\n",
      "상큼\n",
      "소녀들\n",
      "몬스타엑스\n",
      "일산동구\n",
      "키미\n",
      "불독\n",
      "프로듀스\n",
      "소라\n",
      "방탄소년단\n",
      "형은\n",
      "파워풀\n",
      "CPU times: user 84 ms, sys: 0 ns, total: 84 ms\n",
      "Wall time: 80.8 ms\n"
     ]
    }
   ],
   "source": [
    "%%time\n",
    "# 문서 길이 + vocabulary idx\n",
    "similars_rwr = rwr.most_similar(x0.shape[0] + 5537, topk=30, max_iter=6)\n",
    "\n",
    "for idx, _ in similars_rwr:\n",
    "    print(idx_to_vocab[idx - x0.shape[0]])"
   ]
  },
  {
   "cell_type": "markdown",
   "metadata": {},
   "source": [
    "Single Vector SimRank 는 sparse matrix 가 아닌 Python dict 로 구현하였습니다. 이를 이용하기 위해 sparse matrix 를 dict 로 변환하는 matrix_to_dict 함수를 불러들입니다."
   ]
  },
  {
   "cell_type": "code",
   "execution_count": 6,
   "metadata": {},
   "outputs": [
    {
     "name": "stdout",
     "output_type": "stream",
     "text": [
      "39776\n"
     ]
    }
   ],
   "source": [
    "from soygraph import matrix_to_dict\n",
    "\n",
    "# sparse matrix 를 dict - dict 로 변환합니다.\n",
    "dd = matrix_to_dict(x)\n",
    "print(len(dd))"
   ]
  },
  {
   "cell_type": "markdown",
   "metadata": {},
   "source": [
    "dict 를 DictGraph 로 만듭니다."
   ]
  },
  {
   "cell_type": "code",
   "execution_count": 7,
   "metadata": {
    "collapsed": true
   },
   "outputs": [],
   "source": [
    "from soygraph import DictGraph\n",
    "\n",
    "# soygraph 의 DictGraph 를 이용하여 graph 를 만듭니다.\n",
    "g = DictGraph(dd)"
   ]
  },
  {
   "cell_type": "markdown",
   "metadata": {},
   "source": [
    "Single Vector SimRank 에 DictGraph g 를 입력합니다."
   ]
  },
  {
   "cell_type": "code",
   "execution_count": 8,
   "metadata": {
    "collapsed": true
   },
   "outputs": [],
   "source": [
    "from soygraph.similarity import SingleVectorSimRank\n",
    "\n",
    "# Single Vector SimRank 를 만듭니다. \n",
    "# graph 를 입력합니다. \n",
    "simrank = SingleVectorSimRank(g)"
   ]
  },
  {
   "cell_type": "markdown",
   "metadata": {},
   "source": [
    "동일한 작업을 수행합니다. RWR 은 빠른 시간에 계산이 되지만, Single Vector SimRank 는 좀 느립니다. 이는 Python dict 를 이용한, 최적화된 구현체가 아니기 때문이기도 하지만, SimRank 는 Random Walk with Restart 보다 더 많은 과정을 거쳐 계산이 되기 때문에 본래 구현체가 좋아도 느립니다. 하지만 topically similar terms 가 찾아짐은 동일합니다. Bipartite graph 임을 알고 있다면, SimRank 보다는 RWR 에서 random walk steps 를 짝수 번 수행하여 topically similarterms 를 탐색하는 것이 더 효율적입니다."
   ]
  },
  {
   "cell_type": "code",
   "execution_count": 9,
   "metadata": {},
   "outputs": [
    {
     "name": "stdout",
     "output_type": "stream",
     "text": [
      "너무너무너무\n",
      "박진영\n",
      "빅브레인\n",
      "완전체\n",
      "신용재\n",
      "오블리스\n",
      "갓세븐\n",
      "엠카운트다운\n",
      "중독성\n",
      "잠깐\n",
      "세븐\n",
      "다비치\n",
      "상큼\n",
      "소녀들\n",
      "선의\n",
      "산들\n",
      "수록곡\n",
      "프로듀스101\n",
      "펜타곤\n",
      "열창\n",
      "타이틀곡\n",
      "엠넷\n",
      "본명\n",
      "박소라\n",
      "음원차트\n",
      "깜찍\n",
      "이진희\n",
      "불독\n",
      "키미\n",
      "음악방송\n",
      "CPU times: user 15.9 s, sys: 4 ms, total: 15.9 s\n",
      "Wall time: 15.9 s\n"
     ]
    }
   ],
   "source": [
    "%%time\n",
    "similars_simrank = simrank.most_similar(x0.shape[0] + 5537, max_iter=4, topk=30)\n",
    "for idx, _ in similars_simrank:\n",
    "    print(idx_to_vocab[idx - x0.shape[0]])"
   ]
  },
  {
   "cell_type": "code",
   "execution_count": null,
   "metadata": {
    "collapsed": true
   },
   "outputs": [],
   "source": []
  }
 ],
 "metadata": {
  "kernelspec": {
   "display_name": "Python 3",
   "language": "python",
   "name": "python3"
  },
  "language_info": {
   "codemirror_mode": {
    "name": "ipython",
    "version": 3
   },
   "file_extension": ".py",
   "mimetype": "text/x-python",
   "name": "python",
   "nbconvert_exporter": "python",
   "pygments_lexer": "ipython3",
   "version": "3.6.2"
  }
 },
 "nbformat": 4,
 "nbformat_minor": 2
}
