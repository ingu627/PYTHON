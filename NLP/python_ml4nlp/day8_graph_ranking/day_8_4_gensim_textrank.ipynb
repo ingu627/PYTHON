{
 "cells": [
  {
   "cell_type": "markdown",
   "metadata": {},
   "source": [
    "Gensim 의 summarizer 를 이용합니다. TextRank 의 변형인 LexRank 를 이용한 구현체입니다. 사용법은 summarize 함수에 `\\n` 으로 줄바꿈이 구분되는 텍스트를 입력합니다."
   ]
  },
  {
   "cell_type": "code",
   "execution_count": 1,
   "metadata": {},
   "outputs": [
    {
     "name": "stdout",
     "output_type": "stream",
     "text": [
      "3.6.0\n",
      "And she won't eat her dinner - rice pudding again -\n",
      "I've promised her dolls and a daisy-chain,\n",
      "I've promised her sweets and a ride in the train,\n",
      "And it's lovely rice pudding for dinner again!\n"
     ]
    }
   ],
   "source": [
    "import gensim\n",
    "from gensim.summarization.summarizer import summarize\n",
    "\n",
    "print(gensim.__version__)\n",
    "\n",
    "text = '''Rice Pudding - Poem by Alan Alexander Milne\n",
    "What is the matter with Mary Jane?\n",
    "She's crying with all her might and main,\n",
    "And she won't eat her dinner - rice pudding again -\n",
    "What is the matter with Mary Jane?\n",
    "What is the matter with Mary Jane?\n",
    "I've promised her dolls and a daisy-chain,\n",
    "And a book about animals - all in vain -\n",
    "What is the matter with Mary Jane?\n",
    "What is the matter with Mary Jane?\n",
    "She's perfectly well, and she hasn't a pain;\n",
    "But, look at her, now she's beginning again! -\n",
    "What is the matter with Mary Jane?\n",
    "What is the matter with Mary Jane?\n",
    "I've promised her sweets and a ride in the train,\n",
    "And I've begged her to stop for a bit and explain -\n",
    "What is the matter with Mary Jane?\n",
    "What is the matter with Mary Jane?\n",
    "She's perfectly well and she hasn't a pain,\n",
    "And it's lovely rice pudding for dinner again!\n",
    "What is the matter with Mary Jane?'''\n",
    "print(summarize(text))\n"
   ]
  },
  {
   "cell_type": "markdown",
   "metadata": {},
   "source": [
    "우리는 뉴스를 읽어들여 각 뉴스의 핵심 문장을 찾아봅니다."
   ]
  },
  {
   "cell_type": "code",
   "execution_count": 2,
   "metadata": {},
   "outputs": [
    {
     "name": "stdout",
     "output_type": "stream",
     "text": [
      "soynlp=0.0.491\n",
      "added lovit_textmining_dataset\n"
     ]
    }
   ],
   "source": [
    "import config\n",
    "from navernews_10days import get_news_paths\n",
    "from soynlp.utils import DoublespaceLineCorpus\n",
    "\n",
    "path = get_news_paths(date='2016-10-20')\n",
    "corpus = DoublespaceLineCorpus(path, iter_sent=False)\n",
    "docs = [doc for doc in corpus]"
   ]
  },
  {
   "cell_type": "markdown",
   "metadata": {},
   "source": [
    "우리의 데이터는 두 칸 띄어쓰기가 줄바꿈 기호이기 때문에 이를 `\\n` 으로 변환하여 summarize 함수를 이용합니다."
   ]
  },
  {
   "cell_type": "code",
   "execution_count": 3,
   "metadata": {
    "collapsed": true
   },
   "outputs": [],
   "source": [
    "def _summarize_a_news(doc):\n",
    "    sents = '\\n'.join(doc.split('  '))\n",
    "    return summarize(sents)"
   ]
  },
  {
   "cell_type": "markdown",
   "metadata": {},
   "source": [
    "뉴스의 모든 문장을 입력하면 계산도 힘들 뿐더러 (22만개의 마디로 이뤄진 그래프를 만듭니다, 그리고 그 graph 는 dense 할 가능성이 높습니다), 유의미한 핵심 문장도 선택되지 않습니다.\n",
    "\n",
    "docs 에서 i 번째 뉴스의 핵심문장을 선택하는 함수를 만듭니다."
   ]
  },
  {
   "cell_type": "code",
   "execution_count": 4,
   "metadata": {
    "collapsed": true
   },
   "outputs": [],
   "source": [
    "def summarize_a_news(docs, i):\n",
    "    print('texts :\\n{}'.format(docs[i]))\n",
    "    sents = _summarize_a_news(docs[i]).split('\\n')\n",
    "    sents = [' - %s' % sent.strip() for sent in sents]\n",
    "    sents = '\\n'.join(sents)\n",
    "    print('summary :\\n{}'.format(sents))"
   ]
  },
  {
   "cell_type": "markdown",
   "metadata": {},
   "source": [
    "4 번 뉴스의 핵심 문장입니다."
   ]
  },
  {
   "cell_type": "code",
   "execution_count": 5,
   "metadata": {},
   "outputs": [
    {
     "name": "stdout",
     "output_type": "stream",
     "text": [
      "texts :\n",
      "브뤼셀 연합뉴스 김병수 특파원 독일 정부는 19일 원자력발전소를 폐쇄하기로 함에 따라 원자력 발전소 운영자들에게 핵폐기물 처리를 지원하는 펀드에 235억 유로 260억 달러 29조 원 를 지불하도록 하는 계획을 승인했다고 언론들이 보도했다  앞서 독일은 5년 전 일본 후쿠시마 원전사태 이후 오는 2022년까지 원전 17기를 모두 폐쇄하기로 하고 오는 2050년까지 전기생산량의 80 를 재생에너지로 충당하는 것을 목표로 세웠다  이날 내각을 통과한 법안은 원전 운영자들이 원전 해체와 핵폐기물 처리를 위한 포장을 책임지고 정부는 핵폐기물 보관을 책임지도록 했다  독일 경제부는 전력회사들과 공식적인 접촉은 아직 합의되지 않았다고 밝혔다  독일 원자력 발전소 연합뉴스 자료사진\n",
      "\n",
      "summary :\n",
      " - 브뤼셀 연합뉴스 김병수 특파원 독일 정부는 19일 원자력발전소를 폐쇄하기로 함에 따라 원자력 발전소 운영자들에게 핵폐기물 처리를 지원하는 펀드에 235억 유로 260억 달러 29조 원 를 지불하도록 하는 계획을 승인했다고 언론들이 보도했다\n"
     ]
    }
   ],
   "source": [
    "summarize_a_news(docs, 4)"
   ]
  },
  {
   "cell_type": "markdown",
   "metadata": {},
   "source": [
    "6 번 뉴스의 핵심 문장입니다."
   ]
  },
  {
   "cell_type": "code",
   "execution_count": 6,
   "metadata": {},
   "outputs": [
    {
     "name": "stdout",
     "output_type": "stream",
     "text": [
      "texts :\n",
      "몇 개월 새 1억 달러 벌어 리스크관리 강화탓에 드문 일  뉴욕 연합뉴스 박성제 특파원 미국의 대형은행인 골드만삭스에서 근무하는 트레이더가 투자부적격 등급의 채권인 정크본드 에 투자해 몇 개월 사이에 1억 달러 약 1천123억 원 가 넘는 이익을 남긴 것으로 알려졌다  금융감독당국이 글로벌 금융위기 이후 대형은행의 리스크관리를 강조하는 상황이어서 이런 대박은 흔치 않은 것으로 여겨지고 있다  월스트리트저널은 뉴욕에서 고수익채권업무를 하는 골드만삭스의 톰 맬러프론트 34 관리이사가 올 초에 정크본드에 투자해 1억 달러 이상의 수익을 골드만삭스에 안겼다고 소식통을 인용해 19일 현지시간 보도했다  맬러프론트는 올 1월에 광산업체인 프리포트 맥모란 과 테크 리소시즈 가 발행한 투자부적격 등급 채권을 수십억 달러어치 매입했다  이어 채권 가격이 오르자 짧게는 며칠 뒤에 길게는 몇 주 뒤에 되팔아 거액을 챙긴 것으로 전해졌다  뉴저지 주 럿거스대학 야구선수 출신인 그는 2013년 골드만삭스 입사 전에 헤지펀드 블루 마운틴 캐피털 매니지먼트와 크레디트 스위스그룹에서 근무했다  월스트리트저널은 금융 감독 당국의 감시 탓에 대형은행이 정크본드에 투자해 엄청난 수익을 내는 일이 최근에는 드물다고 설명했다  글로벌 금융위기 이전에는 리스크를 무릅쓰고 고수익을 추구한 탓에 이런 사례가 종종 있었지만 위기 재발 방지에 나선 감독 당국이 대형은행에 리스크관리를 강하게 주문하면서 수익률이 낮지만 안전한 투자가 주를 이루고 있다  감독 당국은 은행에 채권 판매자와 구매자를 중개하는 시장 조성자 의 역할을 강조하고 자체 돈으로 투자하는 것도 제한하고 있다  이에 따라 대형은행들은 고객의 돈이 아닌 은행 자체 돈을 투자하는 이른바 프랍 트레이딩 을 없애는 등 채권에 대한 투자를 줄였다  골드만삭스는 트레이더가 하루에 채권에 투자할 수 있는 금액의 한도를 설정하는 등 자체 기준도 강화해 시행하고 있다  맬러프론트가 은행 돈을 투자한 것인지 아니면 시장 조성자로서 고객의 돈을 중개한 것인지는 명확하지 않다  또 골드만삭스가 정한 투자 한도를 초과했는지와 감독 당국이 이번 투자 건을 조사했는지도 확인되지 않았다고 월스트리트저널은 덧붙였다  뉴욕에 있는 골드만삭스 본부 연합뉴스 자료사진\n",
      "\n",
      "summary :\n",
      " - 뉴욕 연합뉴스 박성제 특파원 미국의 대형은행인 골드만삭스에서 근무하는 트레이더가 투자부적격 등급의 채권인 정크본드 에 투자해 몇 개월 사이에 1억 달러 약 1천123억 원 가 넘는 이익을 남긴 것으로 알려졌다\n",
      " - 월스트리트저널은 금융 감독 당국의 감시 탓에 대형은행이 정크본드에 투자해 엄청난 수익을 내는 일이 최근에는 드물다고 설명했다\n",
      " - 이에 따라 대형은행들은 고객의 돈이 아닌 은행 자체 돈을 투자하는 이른바 프랍 트레이딩 을 없애는 등 채권에 대한 투자를 줄였다\n"
     ]
    }
   ],
   "source": [
    "summarize_a_news(docs, 6)"
   ]
  },
  {
   "cell_type": "code",
   "execution_count": 7,
   "metadata": {},
   "outputs": [
    {
     "name": "stdout",
     "output_type": "stream",
     "text": [
      "texts :\n",
      "측 제안 한미 해군 수상전센터서 미래 해상전투개념 등 연구  워싱턴 연합뉴스 이영재 기자 제48차 한미안보협의회 참석차 미국을 방문 중인 한민구 국방부 장관이 19일 현지시간 미 해군의 최첨단 무기체계를 개발하는 수상전센터 를 방문했다  국방부 관계자는 이날 한 장관이 미국 버지니아주에 있는 미 해군 수상전센터 달그렌 지부를 찾아 무기체계 개발 현황을 살펴봤다 고 밝혔다 한국 국방부 장관이 를 방문한 것은 이번이 처음이다 한 장관의 방문은 미국 측 제안으로 이뤄진 것으로 알려졌다  한 장관은 한미 외교 국방장관 2 2 회의와 참석차 미국을 방문 중이다 한 장관은 2 2 회의 참석을 앞두고 워싱턴 와 가장 가까운 수상전센터 달그렌 지부를 찾았다  한 장관의 수상전센터 방문에는 에이브러햄 덴마크 미 국방부 동아시아 부차관보도 동행했다 톰 드러건 수상전센터장 해군 소장 이 한 장관 일행을 맞았다  미 해군 수상전센터는 해군 수상전에 쓰이는 함정과 전투체계 연구개발과 시험평가 업무를 하는 곳으로 1991년 미 해군 체계사령부 예하 기관으로 설립됐다 이 센터는 버지니아주 등 8개 지역에 지부를 뒀다 버지니아주의 달그랜 지부에는 현역 군인과 연구원 등 3천500여명이 근무하고 있다 규모는 포토맥강 전투실험장을 포함해 1만7천여 이다  1918년 미 해군 지상 전투실험장으로 설립된 역사 깊은 곳이다 수상전 관련 해군의 전투 전략 무기체계의 연구개발 시험이 이뤄진다 2차 세계대전까지 해군의 대포와 탄약류 실험은 주로 포토맥강 전투실험실에서 진행됐다  화약이 아닌 전자기력으로 발사체를 쏘는 최첨단 무기인 레일건 도 수상전센터에서 개발됐다 레일건은 해상에서 멀리 떨어진 적 함정을 파괴할뿐 아니라 미사일도 요격할 수 있다  기존 함포보다 월등히 빠른 속도로 발사할 수 있고 화약을 쓰지 않기 때문에 불발탄과 같은 문제도 발생하지 않는다  수상전센터는 2014년에는 레이저로 적을 공격하고 탐지하는 레이저 무기체계를 개발했고 이는 페르시아만에 파견된 미 해군 폰스함에 장착돼 완벽한 성능을 과시했다 달그랜지부내 무인기 활주로에서 무인기 센서 중량 무기 교전체계를 연구 개발하고 시험도 한다 최근에는 해군 연구소 와 함께 연안전투함에 탑재되는 함포를 개발했다  한 장관은 수상전센터에서 미 해군의 첨단 무기체계를 살펴보고 이들의 성능에 관한 보고를 청취했으며 한미 양국의 군사기술 협력 방안도 논의했다 앞으로 한국과 미군의 해군 국방과학연구소 관계자 등은 이 곳에서 수상전과 같은 형태의 교전 방식 뿐 아니라 미래 해상 전투 개념 등을 연구할 것으로 알려졌다  국방부 관계자는 한 장관의 방문은 잠수함발사탄도미사일 개발 등 북한의 해상 전투능력 발전에 대응하자는 취지 라며 앞으로 한미 해군이 에서 많은 일들을 하게 될 것 이라고 말했다  한 장관은 수상전센터 방문에 이어 미 국무부에서 열리는 한미 2 2 회의와 에 참석한다 이번 한미 외교 국방장관 연쇄 회의에서 양국은 북한의 점증하는 핵 미사일 위협에 대응해 미국이 한국에 제공하는 확장억제의 실행력을 강화하는 방안을 집중적으로 논의한다\n",
      "\n",
      "summary :\n",
      " - 워싱턴 연합뉴스 이영재 기자 제48차 한미안보협의회 참석차 미국을 방문 중인 한민구 국방부 장관이 19일 현지시간 미 해군의 최첨단 무기체계를 개발하는 수상전센터 를 방문했다\n",
      " - 국방부 관계자는 이날 한 장관이 미국 버지니아주에 있는 미 해군 수상전센터 달그렌 지부를 찾아 무기체계 개발 현황을 살펴봤다 고 밝혔다 한국 국방부 장관이 를 방문한 것은 이번이 처음이다 한 장관의 방문은 미국 측 제안으로 이뤄진 것으로 알려졌다\n"
     ]
    }
   ],
   "source": [
    "summarize_a_news(docs, 8)"
   ]
  },
  {
   "cell_type": "code",
   "execution_count": null,
   "metadata": {
    "collapsed": true
   },
   "outputs": [],
   "source": []
  }
 ],
 "metadata": {
  "kernelspec": {
   "display_name": "Python 3",
   "language": "python",
   "name": "python3"
  },
  "language_info": {
   "codemirror_mode": {
    "name": "ipython",
    "version": 3
   },
   "file_extension": ".py",
   "mimetype": "text/x-python",
   "name": "python",
   "nbconvert_exporter": "python",
   "pygments_lexer": "ipython3",
   "version": "3.6.2"
  }
 },
 "nbformat": 4,
 "nbformat_minor": 2
}
