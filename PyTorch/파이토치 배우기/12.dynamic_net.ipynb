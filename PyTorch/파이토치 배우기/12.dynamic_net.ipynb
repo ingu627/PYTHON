{
  "cells": [
    {
      "cell_type": "code",
      "execution_count": null,
      "metadata": {
        "collapsed": false
      },
      "outputs": [],
      "source": [
        "%matplotlib inline"
      ]
    },
    {
      "cell_type": "markdown",
      "metadata": {},
      "source": [
        "\nPyTorch: \uc81c\uc5b4 \ud750\ub984(Control Flow) + \uac00\uc911\uce58 \uacf5\uc720(Weight Sharing)\n---------------------------------------------------------------\n\nPyTorch \ub3d9\uc801 \uadf8\ub798\ud504\uc758 \uac15\ub825\ud568\uc744 \ubcf4\uc5ec\uc8fc\uae30 \uc704\ud574, \ub9e4\uc6b0 \uc774\uc0c1\ud55c \ubaa8\ub378\uc744 \uad6c\ud604\ud574\ubcf4\uaca0\uc2b5\ub2c8\ub2e4:\n\uac01 \uc21c\uc804\ud30c \ub2e8\uacc4\uc5d0\uc11c 3 ~ 5 \uc0ac\uc774\uc758 \uc784\uc758\uc758 \uc22b\uc790\ub97c \uc120\ud0dd\ud558\uc5ec \ub2e4\ucc28\ud56d\ub4e4\uc5d0\uc11c \uc0ac\uc6a9\ud558\uace0, \ub3d9\uc77c\ud55c \uac00\uc911\uce58\ub97c \uc5ec\ub7ec\ubc88\n\uc7ac\uc0ac\uc6a9\ud558\uc5ec 4\ucc28\ud56d\uacfc 5\ucc28\ud56d\uc744 \uacc4\uc0b0\ud558\ub294 3-5\ucc28 \ub2e4\ud56d\uc2dd\uc785\ub2c8\ub2e4.\n"
      ]
    },
    {
      "cell_type": "code",
      "execution_count": null,
      "metadata": {
        "collapsed": false
      },
      "outputs": [],
      "source": [
        "import random\nimport torch\nimport math\n\n\nclass DynamicNet(torch.nn.Module):\n    def __init__(self):\n        \"\"\"\n        \uc0dd\uc131\uc790\uc5d0\uc11c 5\uac1c\uc758 \ub9e4\uac1c\ubcc0\uc218\ub97c \uc0dd\uc131(instantiate)\ud558\uace0 \uba64\ubc84 \ubcc0\uc218\ub85c \uc9c0\uc815\ud569\ub2c8\ub2e4.\n        \"\"\"\n        super().__init__()\n        self.a = torch.nn.Parameter(torch.randn(()))\n        self.b = torch.nn.Parameter(torch.randn(()))\n        self.c = torch.nn.Parameter(torch.randn(()))\n        self.d = torch.nn.Parameter(torch.randn(()))\n        self.e = torch.nn.Parameter(torch.randn(()))\n\n    def forward(self, x):\n        \"\"\"\n        \ubaa8\ub378\uc758 \uc21c\uc804\ud30c \ub2e8\uacc4\uc5d0\uc11c\ub294 \ubb34\uc791\uc704\ub85c 4, 5 \uc911 \ud558\ub098\ub97c \uc120\ud0dd\ud55c \ub4a4 \ub9e4\uac1c\ubcc0\uc218 e\ub97c \uc7ac\uc0ac\uc6a9\ud558\uc5ec\n        \uc774 \ucc28\uc218\ub4e4\uc758\uc758 \uae30\uc5ec\ub3c4(contribution)\ub97c \uacc4\uc0b0\ud569\ub2c8\ub2e4.\n\n        \uac01 \uc21c\uc804\ud30c \ub2e8\uacc4\ub294 \ub3d9\uc801 \uc5f0\uc0b0 \uadf8\ub798\ud504\ub97c \uad6c\uc131\ud558\uae30 \ub584\ubb38\uc5d0, \ubaa8\ub378\uc758 \uc21c\uc804\ud30c \ub2e8\uacc4\ub97c \uc815\uc758\ud560 \ub54c\n        \ubc18\ubcf5\ubb38\uc774\ub098 \uc870\uac74\ubb38\uacfc \uac19\uc740 \uc77c\ubc18\uc801\uc778 Python \uc81c\uc5b4-\ud750\ub984 \uc5f0\uc0b0\uc790\ub97c \uc0ac\uc6a9\ud560 \uc218 \uc788\uc2b5\ub2c8\ub2e4.\n\n        \uc5ec\uae30\uc5d0\uc11c \uc5f0\uc0b0 \uadf8\ub798\ud504\ub97c \uc815\uc758\ud560 \ub54c \ub3d9\uc77c\ud55c \ub9e4\uac1c\ubcc0\uc218\ub97c \uc5ec\ub7ec\ubc88 \uc0ac\uc6a9\ud558\ub294 \uac83\uc774 \uc644\ubcbd\ud788 \uc548\uc804\ud558\ub2e4\ub294\n        \uac83\uc744 \uc54c \uc218 \uc788\uc2b5\ub2c8\ub2e4.\n        \"\"\"\n        y = self.a + self.b * x + self.c * x ** 2 + self.d * x ** 3\n        for exp in range(4, random.randint(4, 6)):\n            y = y + self.e * x ** exp\n        return y\n\n    def string(self):\n        \"\"\"\n        Python\uc758 \ub2e4\ub978 \ud074\ub798\uc2a4(class)\ucc98\ub7fc, PyTorch \ubaa8\ub4c8\uc744 \uc0ac\uc6a9\ud574\uc11c \uc0ac\uc6a9\uc790 \uc815\uc758 \uba54\uc18c\ub4dc\ub97c \uc815\uc758\ud560 \uc218 \uc788\uc2b5\ub2c8\ub2e4.\n        \"\"\"\n        return f'y = {self.a.item()} + {self.b.item()} x + {self.c.item()} x^2 + {self.d.item()} x^3 + {self.e.item()} x^4 ? + {self.e.item()} x^5 ?'\n\n\n# \uc785\ub825\uac12\uacfc \ucd9c\ub825\uac12\uc744 \uac16\ub294 \ud150\uc11c\ub4e4\uc744 \uc0dd\uc131\ud569\ub2c8\ub2e4.\nx = torch.linspace(-math.pi, math.pi, 2000)\ny = torch.sin(x)\n\n# \uc704\uc5d0\uc11c \uc815\uc758\ud55c \ud074\ub798\uc2a4\ub85c \ubaa8\ub378\uc744 \uc0dd\uc131\ud569\ub2c8\ub2e4.\nmodel = DynamicNet()\n\n# \uc190\uc2e4 \ud568\uc218\uc640 optimizer\ub97c \uc0dd\uc131\ud569\ub2c8\ub2e4. \uc774 \uc774\uc0c1\ud55c \ubaa8\ub378\uc744 \uc21c\uc218\ud55c \ud655\ub960\uc801 \uacbd\uc0ac\ud558\uac15\ubc95(SGD; Stochastic Gradient Descent)\uc73c\ub85c\n# \ud559\uc2b5\ud558\ub294 \uac83\uc740 \uc5b4\ub824\uc6b0\ubbc0\ub85c, \ubaa8\uba58\ud140(momentum)\uc744 \uc0ac\uc6a9\ud569\ub2c8\ub2e4.\ncriterion = torch.nn.MSELoss(reduction='sum')\noptimizer = torch.optim.SGD(model.parameters(), lr=1e-8, momentum=0.9)\nfor t in range(30000):\n    # \uc21c\uc804\ud30c \ub2e8\uacc4: \ubaa8\ub378\uc5d0 x\ub97c \uc804\ub2ec\ud558\uc5ec \uc608\uce21\uac12 y\ub97c \uacc4\uc0b0\ud569\ub2c8\ub2e4.\n    y_pred = model(x)\n\n    # \uc190\uc2e4\uc744 \uacc4\uc0b0\ud558\uace0 \ucd9c\ub825\ud569\ub2c8\ub2e4.\n    loss = criterion(y_pred, y)\n    if t % 2000 == 1999:\n        print(t, loss.item())\n\n    # \ubcc0\ud654\ub3c4\ub97c 0\uc73c\ub85c \ub9cc\ub4e4\uace0, \uc5ed\uc804\ud30c \ub2e8\uacc4\ub97c \uc218\ud589\ud558\uace0, \uac00\uc911\uce58\ub97c \uac31\uc2e0\ud569\ub2c8\ub2e4.\n    optimizer.zero_grad()\n    loss.backward()\n    optimizer.step()\n\nprint(f'Result: {model.string()}')"
      ]
    }
  ],
  "metadata": {
    "kernelspec": {
      "display_name": "Python 3",
      "language": "python",
      "name": "python3"
    },
    "language_info": {
      "codemirror_mode": {
        "name": "ipython",
        "version": 3
      },
      "file_extension": ".py",
      "mimetype": "text/x-python",
      "name": "python",
      "nbconvert_exporter": "python",
      "pygments_lexer": "ipython3",
      "version": "3.8.8"
    }
  },
  "nbformat": 4,
  "nbformat_minor": 0
}