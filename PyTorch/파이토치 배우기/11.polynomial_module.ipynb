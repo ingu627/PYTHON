{
  "cells": [
    {
      "cell_type": "code",
      "execution_count": null,
      "metadata": {
        "collapsed": false
      },
      "outputs": [],
      "source": [
        "%matplotlib inline"
      ]
    },
    {
      "cell_type": "markdown",
      "metadata": {},
      "source": [
        "\nPyTorch: \uc0ac\uc6a9\uc790 \uc815\uc758 nn.Module\n------------------------------------\n\n$y=\\sin(x)$ \uc744 \uc608\uce21\ud560 \uc218 \uc788\ub3c4\ub85d, $-\\pi$ \ubd80\ud130 $pi$ \uae4c\uc9c0\n\uc720\ud074\ub9ac\ub4dc \uac70\ub9ac(Euclidean distance)\ub97c \ucd5c\uc18c\ud654\ud558\ub3c4\ub85d 3\ucc28 \ub2e4\ud56d\uc2dd\uc744 \ud559\uc2b5\ud569\ub2c8\ub2e4.\n\n\uc774\ubc88\uc5d0\ub294 \uc0ac\uc6a9\uc790\uac00 \uc0c8\ub86d\uac8c \uc815\uc758\ud55c Module\uc758 \ud558\uc704 \ud074\ub798\uc2a4(subclass)\ub85c \ubaa8\ub378\uc744 \uc815\uc758\ud569\ub2c8\ub2e4.\n\uae30\uc874 Module\ub4e4\uc744 \uc0ac\uc6a9\ud558\ub294 \uac04\ub2e8\ud55c \uad6c\uc131\ubcf4\ub2e4 \ub354 \ubcf5\uc7a1\ud55c \ubaa8\ub378\uc744 \uc6d0\ud55c\ub2e4\uba74, \uc774 \ubc29\ubc95\uc73c\ub85c \ubaa8\ub378\uc744 \uc815\uc758\ud558\uba74 \ub429\ub2c8\ub2e4.\n"
      ]
    },
    {
      "cell_type": "code",
      "execution_count": null,
      "metadata": {
        "collapsed": false
      },
      "outputs": [],
      "source": [
        "import torch\nimport math\n\n\nclass Polynomial3(torch.nn.Module):\n    def __init__(self):\n        \"\"\"\n        \uc0dd\uc131\uc790\uc5d0\uc11c 4\uac1c\uc758 \ub9e4\uac1c\ubcc0\uc218\ub97c \uc0dd\uc131(instantiate)\ud558\uace0, \uba64\ubc84 \ubcc0\uc218\ub85c \uc9c0\uc815\ud569\ub2c8\ub2e4.\n        \"\"\"\n        super().__init__()\n        self.a = torch.nn.Parameter(torch.randn(()))\n        self.b = torch.nn.Parameter(torch.randn(()))\n        self.c = torch.nn.Parameter(torch.randn(()))\n        self.d = torch.nn.Parameter(torch.randn(()))\n\n    def forward(self, x):\n        \"\"\"\n        \uc21c\uc804\ud30c \ud568\uc218\uc5d0\uc11c\ub294 \uc785\ub825 \ub370\uc774\ud130\uc758 \ud150\uc11c\ub97c \ubc1b\uace0 \ucd9c\ub825 \ub370\uc774\ud130\uc758 \ud150\uc11c\ub97c \ubc18\ud658\ud574\uc57c \ud569\ub2c8\ub2e4.\n        \ud150\uc11c\ub4e4 \uac04\uc758 \uc784\uc758\uc758 \uc5f0\uc0b0\ubfd0\ub9cc \uc544\ub2c8\ub77c, \uc0dd\uc131\uc790\uc5d0\uc11c \uc815\uc758\ud55c Module\uc744 \uc0ac\uc6a9\ud560 \uc218 \uc788\uc2b5\ub2c8\ub2e4.\n        \"\"\"\n        return self.a + self.b * x + self.c * x ** 2 + self.d * x ** 3\n\n    def string(self):\n        \"\"\"\n        Python\uc758 \ub2e4\ub978 \ud074\ub798\uc2a4(class)\ucc98\ub7fc, PyTorch \ubaa8\ub4c8\uc744 \uc0ac\uc6a9\ud574\uc11c \uc0ac\uc6a9\uc790 \uc815\uc758 \uba54\uc18c\ub4dc\ub97c \uc815\uc758\ud560 \uc218 \uc788\uc2b5\ub2c8\ub2e4.\n        \"\"\"\n        return f'y = {self.a.item()} + {self.b.item()} x + {self.c.item()} x^2 + {self.d.item()} x^3'\n\n\n# \uc785\ub825\uac12\uacfc \ucd9c\ub825\uac12\uc744 \uac16\ub294 \ud150\uc11c\ub4e4\uc744 \uc0dd\uc131\ud569\ub2c8\ub2e4.\nx = torch.linspace(-math.pi, math.pi, 2000)\ny = torch.sin(x)\n\n# \uc704\uc5d0\uc11c \uc815\uc758\ud55c \ud074\ub798\uc2a4\ub85c \ubaa8\ub378\uc744 \uc0dd\uc131\ud569\ub2c8\ub2e4.\nmodel = Polynomial3()\n\n# \uc190\uc2e4 \ud568\uc218\uc640 optimizer\ub97c \uc0dd\uc131\ud569\ub2c8\ub2e4. SGD \uc0dd\uc131\uc790\uc5d0 model.paramaters()\ub97c \ud638\ucd9c\ud574\uc8fc\uba74\n# \ubaa8\ub378\uc758 \uba64\ubc84 \ud559\uc2b5 \uac00\ub2a5\ud55c (torch.nn.Parameter\ub85c \uc815\uc758\ub41c) \ub9e4\uac1c\ubcc0\uc218\ub4e4\uc774 \ud3ec\ud568\ub429\ub2c8\ub2e4.\ncriterion = torch.nn.MSELoss(reduction='sum')\noptimizer = torch.optim.SGD(model.parameters(), lr=1e-6)\nfor t in range(2000):\n    # \uc21c\uc804\ud30c \ub2e8\uacc4: \ubaa8\ub378\uc5d0 x\ub97c \uc804\ub2ec\ud558\uc5ec \uc608\uce21\uac12 y\ub97c \uacc4\uc0b0\ud569\ub2c8\ub2e4.\n    y_pred = model(x)\n\n    # \uc190\uc2e4\uc744 \uacc4\uc0b0\ud558\uace0 \ucd9c\ub825\ud569\ub2c8\ub2e4.\n    loss = criterion(y_pred, y)\n    if t % 100 == 99:\n        print(t, loss.item())\n\n    # \ubcc0\ud654\ub3c4\ub97c 0\uc73c\ub85c \ub9cc\ub4e4\uace0, \uc5ed\uc804\ud30c \ub2e8\uacc4\ub97c \uc218\ud589\ud558\uace0, \uac00\uc911\uce58\ub97c \uac31\uc2e0\ud569\ub2c8\ub2e4.\n    optimizer.zero_grad()\n    loss.backward()\n    optimizer.step()\n\nprint(f'Result: {model.string()}')"
      ]
    }
  ],
  "metadata": {
    "kernelspec": {
      "display_name": "Python 3",
      "language": "python",
      "name": "python3"
    },
    "language_info": {
      "codemirror_mode": {
        "name": "ipython",
        "version": 3
      },
      "file_extension": ".py",
      "mimetype": "text/x-python",
      "name": "python",
      "nbconvert_exporter": "python",
      "pygments_lexer": "ipython3",
      "version": "3.8.8"
    }
  },
  "nbformat": 4,
  "nbformat_minor": 0
}