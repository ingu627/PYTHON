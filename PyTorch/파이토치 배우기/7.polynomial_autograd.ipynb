{
  "cells": [
    {
      "cell_type": "code",
      "execution_count": null,
      "metadata": {
        "collapsed": false
      },
      "outputs": [],
      "source": [
        "%matplotlib inline"
      ]
    },
    {
      "cell_type": "markdown",
      "metadata": {},
      "source": [
        "\nPyTorch: \ud150\uc11c(Tensor)\uc640 autograd\n--------------------------------\n\n$y=\\sin(x)$ \uc744 \uc608\uce21\ud560 \uc218 \uc788\ub3c4\ub85d, $-\\pi$ \ubd80\ud130 $pi$ \uae4c\uc9c0\n\uc720\ud074\ub9ac\ub4dc \uac70\ub9ac(Euclidean distance)\ub97c \ucd5c\uc18c\ud654\ud558\ub3c4\ub85d 3\ucc28 \ub2e4\ud56d\uc2dd\uc744 \ud559\uc2b5\ud569\ub2c8\ub2e4.\n\n\uc774 \uad6c\ud604\uc740 PyTorch \ud150\uc11c \uc5f0\uc0b0\uc744 \uc0ac\uc6a9\ud558\uc5ec \uc21c\uc804\ud30c \ub2e8\uacc4\ub97c \uacc4\uc0b0\ud558\uace0, PyTorch autograd\ub97c \uc0ac\uc6a9\ud558\uc5ec\n\ubcc0\ud654\ub3c4(gradient)\ub97c \uacc4\uc0b0\ud569\ub2c8\ub2e4.\n\nPyTorch \ud150\uc11c\ub294 \uc5f0\uc0b0 \uadf8\ub798\ud504\uc5d0\uc11c \ub178\ub4dc(node)\ub85c \ud45c\ud604\ub429\ub2c8\ub2e4. \ub9cc\uc57d ``x`` \uac00 ``x.requires_grad=True`` \uc778\n\ud150\uc11c\ub77c\uba74, ``x.grad`` \ub294 \uc5b4\ub5a4 \uc2a4\uce7c\ub77c \uac12\uc5d0 \ub300\ud55c ``x`` \uc758 \ubcc0\ud654\ub3c4\ub97c \uac16\ub294 \ub610\ub2e4\ub978 \ud150\uc11c\uc785\ub2c8\ub2e4.\n"
      ]
    },
    {
      "cell_type": "code",
      "execution_count": null,
      "metadata": {
        "collapsed": false
      },
      "outputs": [],
      "source": [
        "import torch\nimport math\n\ndtype = torch.float\ndevice = torch.device(\"cpu\")\n# device = torch.device(\"cuda:0\") # GPU\uc5d0\uc11c \uc2e4\ud589\ud558\ub824\uba74 \uc774 \uc8fc\uc11d\uc744 \uc81c\uac70\ud558\uc138\uc694\n\n# \uc785\ub825\uac12\uacfc \ucd9c\ub825\uac12\uc744 \uac16\ub294 \ud150\uc11c\ub4e4\uc744 \uc0dd\uc131\ud569\ub2c8\ub2e4.\n# requires_grad=False\uac00 \uae30\ubcf8\uac12\uc73c\ub85c \uc124\uc815\ub418\uc5b4 \uc5ed\uc804\ud30c \ub2e8\uacc4 \uc911\uc5d0 \uc774 \ud150\uc11c\ub4e4\uc5d0 \ub300\ud55c \ubcc0\ud654\ub3c4\ub97c\n# \uacc4\uc0b0\ud560 \ud544\uc694\uac00 \uc5c6\uc74c\uc744 \ub098\ud0c0\ub0c5\ub2c8\ub2e4.\nx = torch.linspace(-math.pi, math.pi, 2000, device=device, dtype=dtype)\ny = torch.sin(x)\n\n# \uac00\uc911\uce58\ub97c \uac16\ub294 \uc784\uc758\uc758 \ud150\uc11c\ub97c \uc0dd\uc131\ud569\ub2c8\ub2e4. 3\ucc28 \ub2e4\ud56d\uc2dd\uc774\ubbc0\ub85c 4\uac1c\uc758 \uac00\uc911\uce58\uac00 \ud544\uc694\ud569\ub2c8\ub2e4:\n# y = a + b x + c x^2 + d x^3\n# requires_grad=True\ub85c \uc124\uc815\ud558\uc5ec \uc5ed\uc804\ud30c \ub2e8\uacc4 \uc911\uc5d0 \uc774 \ud150\uc11c\ub4e4\uc5d0 \ub300\ud55c \ubcc0\ud654\ub3c4\ub97c \uacc4\uc0b0\ud560 \ud544\uc694\uac00 \n# \uc788\uc74c\uc744 \ub098\ud0c0\ub0c5\ub2c8\ub2e4.\na = torch.randn((), device=device, dtype=dtype, requires_grad=True)\nb = torch.randn((), device=device, dtype=dtype, requires_grad=True)\nc = torch.randn((), device=device, dtype=dtype, requires_grad=True)\nd = torch.randn((), device=device, dtype=dtype, requires_grad=True)\n\nlearning_rate = 1e-6\nfor t in range(2000):\n    # \uc21c\uc804\ud30c \ub2e8\uacc4: \ud150\uc11c\ub4e4 \uac04\uc758 \uc5f0\uc0b0\uc744 \uc0ac\uc6a9\ud558\uc5ec \uc608\uce21\uac12 y\ub97c \uacc4\uc0b0\ud569\ub2c8\ub2e4.\n    y_pred = a + b * x + c * x ** 2 + d * x ** 3\n\n    # \ud150\uc11c\ub4e4\uac04\uc758 \uc5f0\uc0b0\uc744 \uc0ac\uc6a9\ud558\uc5ec \uc190\uc2e4(loss)\uc744 \uacc4\uc2fc\ud558\uace0 \ucd9c\ub825\ud569\ub2c8\ub2e4.\n    # \uc774 \ub54c \uc190\uc2e4\uc740 (1,) shape\uc744 \uac16\ub294 \ud150\uc11c\uc785\ub2c8\ub2e4.\n    # loss.item() \uc73c\ub85c \uc190\uc2e4\uc774 \uac16\uace0 \uc788\ub294 \uc2a4\uce7c\ub77c \uac12\uc744 \uac00\uc838\uc62c \uc218 \uc788\uc2b5\ub2c8\ub2e4.\n    loss = (y_pred - y).pow(2).sum()\n    if t % 100 == 99:\n        print(t, loss.item())\n\n    # autograd \ub97c \uc0ac\uc6a9\ud558\uc5ec \uc5ed\uc804\ud30c \ub2e8\uacc4\ub97c \uacc4\uc0b0\ud569\ub2c8\ub2e4. \uc774\ub294 requires_grad=True\ub97c \uac16\ub294\n    # \ubaa8\ub4e0 \ud150\uc11c\ub4e4\uc5d0 \ub300\ud55c \uc190\uc2e4\uc758 \ubcc0\ud654\ub3c4\ub97c \uacc4\uc0b0\ud569\ub2c8\ub2e4. \n    # \uc774\ud6c4 a.grad\uc640 b.grad, c.grad, d.grad\ub294 \uac01\uac01 a, b, c, d\uc5d0 \ub300\ud55c \uc190\uc2e4\uc758 \ubcc0\ud654\ub3c4\ub97c\n    # \uac16\ub294 \ud150\uc11c\uac00 \ub429\ub2c8\ub2e4.\n    loss.backward()\n\n    # \uacbd\uc0ac\ud558\uac15\ubc95(gradient descent)\ub97c \uc0ac\uc6a9\ud558\uc5ec \uac00\uc911\uce58\ub97c \uc9c1\uc811 \uac31\uc2e0\ud569\ub2c8\ub2e4.\n    # torch.no_grad()\ub85c \uac10\uc2f8\ub294 \uc774\uc720\ub294, \uac00\uc911\uce58\ub4e4\uc774 requires_grad=True \uc9c0\ub9cc\n    # autograd\uc5d0\uc11c\ub294 \uc774\ub97c \ucd94\uc801\ud558\uc9c0 \uc54a\uc744 \uac83\uc774\uae30 \ub54c\ubb38\uc785\ub2c8\ub2e4.\n    with torch.no_grad():\n        a -= learning_rate * a.grad\n        b -= learning_rate * b.grad\n        c -= learning_rate * c.grad\n        d -= learning_rate * d.grad\n\n        # \uac00\uc911\uce58 \uac31\uc2e0 \ud6c4\uc5d0\ub294 \ubcc0\ud654\ub3c4\ub97c \uc9c1\uc811 0\uc73c\ub85c \ub9cc\ub4ed\ub2c8\ub2e4.\n        a.grad = None\n        b.grad = None\n        c.grad = None\n        d.grad = None\n\nprint(f'Result: y = {a.item()} + {b.item()} x + {c.item()} x^2 + {d.item()} x^3')"
      ]
    }
  ],
  "metadata": {
    "kernelspec": {
      "display_name": "Python 3",
      "language": "python",
      "name": "python3"
    },
    "language_info": {
      "codemirror_mode": {
        "name": "ipython",
        "version": 3
      },
      "file_extension": ".py",
      "mimetype": "text/x-python",
      "name": "python",
      "nbconvert_exporter": "python",
      "pygments_lexer": "ipython3",
      "version": "3.8.8"
    }
  },
  "nbformat": 4,
  "nbformat_minor": 0
}