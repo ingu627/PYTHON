{
  "cells": [
    {
      "cell_type": "code",
      "execution_count": null,
      "metadata": {
        "collapsed": false
      },
      "outputs": [],
      "source": [
        "%matplotlib inline"
      ]
    },
    {
      "cell_type": "markdown",
      "metadata": {},
      "source": [
        "\n\ud30c\uc774\ud1a0\uce58(PyTorch): \ud150\uc11c(Tensor)\n--------------------------------\n\n$y=\\sin(x)$ \uc744 \uc608\uce21\ud560 \uc218 \uc788\ub3c4\ub85d, $-\\pi$ \ubd80\ud130 $pi$ \uae4c\uc9c0\n\uc720\ud074\ub9ac\ub4dc \uac70\ub9ac(Euclidean distance)\ub97c \ucd5c\uc18c\ud654\ud558\ub3c4\ub85d 3\ucc28 \ub2e4\ud56d\uc2dd\uc744 \ud559\uc2b5\ud569\ub2c8\ub2e4.\n\n\uc774 \uad6c\ud604\uc740 PyTorch \ud150\uc11c\ub97c \uc0ac\uc6a9\ud558\uc5ec \uc21c\uc804\ud30c \ub2e8\uacc4\uc640 \uc190\uc2e4(loss), \uc5ed\uc804\ud30c \ub2e8\uacc4\ub97c \uc9c1\uc811 \uacc4\uc0b0\ud569\ub2c8\ub2e4.\n\nPyTorch \ud150\uc11c\ub294 \uae30\ubcf8\uc801\uc73c\ub85c NumPy \ubc30\uc5f4\uacfc \ub3d9\uc77c\ud558\uac8c \ub525\ub7ec\ub2dd\uc774\ub098 \ubcc0\ud654\ub3c4(gradient), \n\uc5f0\uc0b0 \uadf8\ub798\ud504(computational graph)\ub294 \uc54c\uc9c0 \ubabb\ud558\uba70, \uc77c\ubc18\uc801\uc778 n-\ucc28\uc6d0 \ubc30\uc5f4\ub85c \uc784\uc758\uc758 \uc218\uce58 \uc5f0\uc0b0\uc5d0 \uc0ac\uc6a9\ub429\ub2c8\ub2e4.\n\nNumPy \ubc30\uc5f4\uacfc PyTorch \ud150\uc11c\uc758 \uac00\uc7a5 \ud070 \ucc28\uc774\uc810\uc740 PyTorch \ud150\uc11c\ub294 CPU \ubc0f GPU\uc5d0\uc11c \uc2e4\ud589\ub420 \uc218 \uc788\ub2e4\ub294 \uac83\uc785\ub2c8\ub2e4.\nGPU\uc5d0\uc11c \uc5f0\uc0b0\uc744 \uc2e4\ud589\ud558\uae30 \uc704\ud574\uc11c\ub294 \ud150\uc11c\ub97c cuda \ub370\uc774\ud130\ud615(datatype)\uc73c\ub85c \ubcc0\ud658(cast)\ud574\uc8fc\uae30\ub9cc \ud558\uba74 \ub429\ub2c8\ub2e4.\n"
      ]
    },
    {
      "cell_type": "code",
      "execution_count": null,
      "metadata": {
        "collapsed": false
      },
      "outputs": [],
      "source": [
        "import torch\nimport math\n\n\ndtype = torch.float\ndevice = torch.device(\"cpu\")\n# device = torch.device(\"cuda:0\") # GPU\uc5d0\uc11c \uc2e4\ud589\ud558\ub824\uba74 \uc774 \uc8fc\uc11d\uc744 \uc81c\uac70\ud558\uc138\uc694\n\n# \ubb34\uc791\uc704\ub85c \uc785\ub825\uacfc \ucd9c\ub825 \ub370\uc774\ud130\ub97c \uc0dd\uc131\ud569\ub2c8\ub2e4\nx = torch.linspace(-math.pi, math.pi, 2000, device=device, dtype=dtype)\ny = torch.sin(x)\n\n# \ubb34\uc791\uc704\ub85c \uac00\uc911\uce58\ub97c \ucd08\uae30\ud654\ud569\ub2c8\ub2e4\na = torch.randn((), device=device, dtype=dtype)\nb = torch.randn((), device=device, dtype=dtype)\nc = torch.randn((), device=device, dtype=dtype)\nd = torch.randn((), device=device, dtype=dtype)\n\nlearning_rate = 1e-6\nfor t in range(2000):\n    # \uc21c\uc804\ud30c \ub2e8\uacc4: \uc608\uce21\uac12 y\ub97c \uacc4\uc0b0\ud569\ub2c8\ub2e4\n    y_pred = a + b * x + c * x ** 2 + d * x ** 3\n\n    # \uc190\uc2e4(loss)\uc744 \uacc4\uc0b0\ud558\uace0 \ucd9c\ub825\ud569\ub2c8\ub2e4\n    loss = (y_pred - y).pow(2).sum().item()\n    if t % 100 == 99:\n        print(t, loss)\n\n    # \uc190\uc2e4\uc5d0 \ub530\ub978 a, b, c, d\uc758 \ubcc0\ud654\ub3c4(gradient)\ub97c \uacc4\uc0b0\ud558\uace0 \uc5ed\uc804\ud30c\ud569\ub2c8\ub2e4.\n    grad_y_pred = 2.0 * (y_pred - y)\n    grad_a = grad_y_pred.sum()\n    grad_b = (grad_y_pred * x).sum()\n    grad_c = (grad_y_pred * x ** 2).sum()\n    grad_d = (grad_y_pred * x ** 3).sum()\n\n    # \uac00\uc911\uce58\ub97c \uac31\uc2e0\ud569\ub2c8\ub2e4.\n    a -= learning_rate * grad_a\n    b -= learning_rate * grad_b\n    c -= learning_rate * grad_c\n    d -= learning_rate * grad_d\n\n\nprint(f'Result: y = {a.item()} + {b.item()} x + {c.item()} x^2 + {d.item()} x^3')"
      ]
    }
  ],
  "metadata": {
    "kernelspec": {
      "display_name": "Python 3",
      "language": "python",
      "name": "python3"
    },
    "language_info": {
      "codemirror_mode": {
        "name": "ipython",
        "version": 3
      },
      "file_extension": ".py",
      "mimetype": "text/x-python",
      "name": "python",
      "nbconvert_exporter": "python",
      "pygments_lexer": "ipython3",
      "version": "3.8.8"
    }
  },
  "nbformat": 4,
  "nbformat_minor": 0
}