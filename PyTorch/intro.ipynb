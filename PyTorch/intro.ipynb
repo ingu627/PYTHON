{
  "cells": [
    {
      "cell_type": "code",
      "execution_count": null,
      "metadata": {
        "collapsed": false
      },
      "outputs": [],
      "source": [
        "%matplotlib inline"
      ]
    },
    {
      "cell_type": "markdown",
      "metadata": {},
      "source": [
        "\n**\ud30c\uc774\ud1a0\uce58(PyTorch) \uae30\ubcf8 \uc775\ud788\uae30** ||\n`\ube60\ub978 \uc2dc\uc791 <quickstart_tutorial.html>`_ ||\n`\ud150\uc11c(Tensor) <tensorqs_tutorial.html>`_ ||\n`Dataset\uacfc Dataloader <data_tutorial.html>`_ ||\n`\ubcc0\ud615(Transform) <transforms_tutorial.html>`_ ||\n`\uc2e0\uacbd\ub9dd \ubaa8\ub378 \uad6c\uc131\ud558\uae30 <buildmodel_tutorial.html>`_ ||\n`Autograd <autogradqs_tutorial.html>`_ ||\n`\ucd5c\uc801\ud654(Optimization) <optimization_tutorial.html>`_ ||\n`\ubaa8\ub378 \uc800\uc7a5\ud558\uace0 \ubd88\ub7ec\uc624\uae30 <saveloadrun_tutorial.html>`_\n\n\ud30c\uc774\ud1a0\uce58(PyTorch) \uae30\ubcf8 \uc775\ud788\uae30\n==========================================================================\n\nAuthors:\n`Suraj Subramanian <https://github.com/suraj813>`_,\n`Seth Juarez <https://github.com/sethjuarez/>`_,\n`Cassie Breviu <https://github.com/cassieview/>`_,\n`Dmitry Soshnikov <https://soshnikov.com/>`_,\n`Ari Bornstein <https://github.com/aribornstein/>`_\n\n\ubc88\uc5ed:\n`\ubc15\uc815\ud658 <https://github.com/9bow>`_\n\n\ub300\ubd80\ubd84\uc758 \uba38\uc2e0\ub7ec\ub2dd \uc6cc\ud06c\ud50c\ub85c\uc6b0\ub294 \ub370\uc774\ud130 \uc791\uc5c5\uacfc \ubaa8\ub378 \uc0dd\uc131, \ubaa8\ub378 \ub9e4\uac1c\ubcc0\uc218 \ucd5c\uc801\ud654, \ud559\uc2b5\ub41c \ubaa8\ub378 \uc800\uc7a5\uc774 \ud3ec\ud568\ub429\ub2c8\ub2e4.\n\uc774 \ud29c\ud1a0\ub9ac\uc5bc\uc5d0\uc11c\ub294 \uc774\ub7ec\ud55c \uac1c\ub150\ub4e4\uc5d0 \ub300\ud574 \ub354 \uc790\uc138\ud788 \uc54c\uc544\ubcfc \uc218 \uc788\ub294 \ubc14\ub85c\uac00\uae30\uc640 \ud568\uaed8 PyTorch\ub85c \uad6c\ud604\ub41c \uc804\uccb4 ML \uc6cc\ud06c\ud50c\ub85c\uc6b0\ub97c \uc18c\uac1c\ud569\ub2c8\ub2e4.\n\nFashionMNIST \ub370\uc774\ud130\uc14b\uc744 \uc0ac\uc6a9\ud558\uc5ec \uc785\ub825 \uc774\ubbf8\uc9c0\uac00 \ub2e4\uc74c \ubd84\ub958(class) \uc911 \ud558\ub098\uc5d0 \uc18d\ud558\ub294\uc9c0\ub97c \uc608\uce21\ud558\ub294 \uc2e0\uacbd\ub9dd\uc744 \ud559\uc2b5\ud569\ub2c8\ub2e4:\nT-shirt/top, Trouser, Pullover, Dress, Coat, Sandal, Shirt, Sneaker, Bag, or Ankle boot.\n\n`\uc774 \ud29c\ud1a0\ub9ac\uc5bc\uc740 Python\uacfc \ub525\ub7ec\ub2dd \uac1c\ub150\uc5d0 \ub300\ud574 \uae30\ubcf8\uc801\uc778 \uc9c0\uc2dd\uc774 \uc788\ub2e4\uace0 \uac00\uc815\ud569\ub2c8\ub2e4.`\n\n\n\ud29c\ud1a0\ub9ac\uc5bc \ucf54\ub4dc \uc2e4\ud589\ud558\uae30\n------------------------------------------------------------------------------------------\n\n\ub2e4\uc74c\uc758 \ub450 \uac00\uc9c0 \ubc29\ubc95\uc73c\ub85c \uc774 \ud29c\ud1a0\ub9ac\uc5bc\uc744 \uc2e4\ud589\ud574\ubcfc \uc218 \uc788\uc2b5\ub2c8\ub2e4:\n\n- **\ud074\ub77c\uc6b0\ub4dc**: \uc2dc\uc791\ud558\uae30 \uac00\uc7a5 \uc26c\uc6b4 \ubc29\ubc95\uc785\ub2c8\ub2e4! \uac01 \uc139\uc158\uc758 \ub9e8 \uc704\uc5d0\ub294 \"Run in Microsoft Learn\" \ub9c1\ud06c\uac00 \uc788\uc73c\uba70, \uc774 \ub9c1\ud06c\ub294 \uc644\uc804\ud788 \ud638\uc2a4\ud305\ub418\ub294 \ud658\uacbd\uc5d0\uc11c Microsoft Learn\uc758 \ub178\ud2b8\ubd81\uc744 \uc5fd\ub2c8\ub2e4.\n- **\ub85c\uceec**: \uba3c\uc800 \ub85c\uceec \ucef4\ud4e8\ud130\uc5d0 PyTorch\uc640 TorchVision\uc744 \uc124\uce58\ud574\uc57c \ud569\ub2c8\ub2e4 (`\uc124\uce58 \ubc29\ubc95 <https://pytorch.org/get-started/locally/>`_). \ub178\ud2b8\ubd81\uc744 \ub0b4\ub824\ubc1b\uac70\ub098 \ucf54\ub4dc\ub97c \uc6d0\ud558\ub294 IDE\uc5d0 \ubcf5\uc0ac\ud558\uc138\uc694.\n\n\n\ud29c\ud1a0\ub9ac\uc5bc \uc0ac\uc6a9 \ubc29\ubc95\n------------------------------------------------------------------------------------------\n\ub2e4\ub978 \ub525\ub7ec\ub2dd \ud504\ub808\uc784\uc6cc\ud06c\uc5d0 \uc775\uc219\ud558\ub2e4\uba74, `0. \ube60\ub978 \uc2dc\uc791 <quickstart_tutorial.html>`_ \uc744 \ubcf4\uace0 PyTorch\uc758 API\ub4e4\uc744 \ube60\ub974\uac8c \uc775\ud788\uc138\uc694.\n\n\ub525\ub7ec\ub2dd \ud504\ub808\uc784\uc6cc\ud06c\uac00 \ucc98\uc74c\uc774\ub77c\uba74, \ub2e8\uacc4\ubcc4(step-by-step) \uac00\uc774\ub4dc\uc758 \uccab\ubc88\uc9f8\uc778 `1. \ud150\uc11c(Tensor) <tensor_tutorial.html>`_ \ub85c \uc774\ub3d9\ud558\uc138\uc694.\n\n\n.. include:: /beginner_source/basics/qs_toc.txt\n\n.. toctree::\n   :hidden:\n"
      ]
    }
  ],
  "metadata": {
    "kernelspec": {
      "display_name": "Python 3",
      "language": "python",
      "name": "python3"
    },
    "language_info": {
      "codemirror_mode": {
        "name": "ipython",
        "version": 3
      },
      "file_extension": ".py",
      "mimetype": "text/x-python",
      "name": "python",
      "nbconvert_exporter": "python",
      "pygments_lexer": "ipython3",
      "version": "3.8.8"
    }
  },
  "nbformat": 4,
  "nbformat_minor": 0
}