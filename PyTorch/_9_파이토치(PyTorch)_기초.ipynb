{
  "cells": [
    {
      "cell_type": "markdown",
      "metadata": {
        "id": "f9Xx-jP92OgP"
      },
      "source": [
        "# 파이토치(PyTorch)\n",
        "\n",
        "<img src=\"https://img1.daumcdn.net/thumb/R800x0/?scode=mtistory2&fname=https%3A%2F%2Fblog.kakaocdn.net%2Fdn%2FbuUgoV%2FbtqwWZvcHHX%2Fd6XzIFBEfiuFb0UvyV4A50%2Fimg.jpg\" width=\"300\">\n",
        "\n",
        "- 코드 출처: https://pytorch.org/tutorials/"
      ]
    },
    {
      "cell_type": "markdown",
      "metadata": {
        "id": "3cxreguz2sL0"
      },
      "source": [
        "## 파이토치의 구성요소\n",
        "\n",
        "- `torch`: 텐서를 생성하는 라이브러리\n",
        "\n",
        "- `torch.autograd`: 자동미분 기능을 제공하는 라이브러리\n",
        "\n",
        "- `torch.nn`: 신경망을 생성하는 라이브러리\n",
        "\n",
        "- `torch.multiprocessing`: 병럴처리 기능을 제공하는 라이브러리\n",
        "\n",
        "- `torch.utils`: 데이터 조작 등 유틸리티 기능 제공\n",
        "\n",
        "- `torch.legacy`(./nn/.optim): Torch로부터 포팅해온 코드\n",
        "\n",
        "- `torch.onnx`: ONNX(Open Neural Network Exchange)\n",
        "\n",
        "  - 서로 다른 프레임워크 간의 모델을 공유할 때 사용"
      ]
    },
    {
      "cell_type": "markdown",
      "metadata": {
        "id": "gb5O_aSvtHvb"
      },
      "source": [
        "## 텐서(Tensors)\n",
        "- 넘파이(NumPy)의 ndarray와 유사\n",
        "\n",
        "- GPU를 사용한 연산 가속도 가능"
      ]
    },
    {
      "cell_type": "code",
      "execution_count": 1,
      "metadata": {
        "id": "CmKIvnx0s8G6"
      },
      "outputs": [],
      "source": [
        "import torch"
      ]
    },
    {
      "cell_type": "code",
      "execution_count": 2,
      "metadata": {
        "id": "49IHV-qJE5FI"
      },
      "outputs": [
        {
          "data": {
            "text/plain": [
              "'1.9.1'"
            ]
          },
          "execution_count": 2,
          "metadata": {},
          "output_type": "execute_result"
        }
      ],
      "source": [
        "torch.__version__"
      ]
    },
    {
      "cell_type": "markdown",
      "metadata": {
        "id": "isUHVy-gtZeT"
      },
      "source": [
        "### 초기화 되지 않은 행렬 "
      ]
    },
    {
      "cell_type": "code",
      "execution_count": 3,
      "metadata": {
        "id": "3PqY3cZatU0D"
      },
      "outputs": [
        {
          "name": "stdout",
          "output_type": "stream",
          "text": [
            "tensor([[0.0000e+00, 0.0000e+00],\n",
            "        [0.0000e+00, 0.0000e+00],\n",
            "        [0.0000e+00, 7.8473e-44],\n",
            "        [3.3828e+21, 2.0798e+20]])\n"
          ]
        }
      ],
      "source": [
        "x = torch.empty(4, 2)\n",
        "print(x)"
      ]
    },
    {
      "cell_type": "markdown",
      "metadata": {
        "id": "zPCIJ2pNteZv"
      },
      "source": [
        "### 무작위로 초기화된 행렬"
      ]
    },
    {
      "cell_type": "code",
      "execution_count": 4,
      "metadata": {
        "id": "h6oPj2Q9tdYx"
      },
      "outputs": [
        {
          "name": "stdout",
          "output_type": "stream",
          "text": [
            "tensor([[0.7388, 0.5230],\n",
            "        [0.4597, 0.4458],\n",
            "        [0.2232, 0.8040],\n",
            "        [0.1677, 0.4414]])\n"
          ]
        }
      ],
      "source": [
        "x = torch.rand(4, 2)\n",
        "print(x)"
      ]
    },
    {
      "cell_type": "markdown",
      "metadata": {
        "id": "A5aHphIHtiJk"
      },
      "source": [
        "### dtype이 long, 0으로 채워진 텐서"
      ]
    },
    {
      "cell_type": "code",
      "execution_count": 5,
      "metadata": {
        "id": "4zykN8aMthXk"
      },
      "outputs": [
        {
          "name": "stdout",
          "output_type": "stream",
          "text": [
            "tensor([[0, 0],\n",
            "        [0, 0],\n",
            "        [0, 0],\n",
            "        [0, 0]])\n"
          ]
        }
      ],
      "source": [
        "x = torch.zeros(4, 2, dtype=torch.long)\n",
        "print(x)"
      ]
    },
    {
      "cell_type": "code",
      "execution_count": 6,
      "metadata": {
        "id": "W4VL8C_ctu8b"
      },
      "outputs": [
        {
          "name": "stdout",
          "output_type": "stream",
          "text": [
            "tensor([3.0000, 2.3000])\n"
          ]
        }
      ],
      "source": [
        "x = torch.tensor([3, 2.3])\n",
        "print(x)"
      ]
    },
    {
      "cell_type": "code",
      "execution_count": 7,
      "metadata": {
        "id": "4RmVBVtIt46M"
      },
      "outputs": [
        {
          "name": "stdout",
          "output_type": "stream",
          "text": [
            "tensor([[1., 1., 1., 1.],\n",
            "        [1., 1., 1., 1.]], dtype=torch.float64)\n"
          ]
        }
      ],
      "source": [
        "x = x.new_ones(2, 4, dtype=torch.double)\n",
        "print(x)"
      ]
    },
    {
      "cell_type": "code",
      "execution_count": 8,
      "metadata": {
        "id": "xxskTUfGuPUe"
      },
      "outputs": [
        {
          "name": "stdout",
          "output_type": "stream",
          "text": [
            "tensor([[-1.4862, -1.3421, -1.1774,  0.6146],\n",
            "        [-0.6974, -0.8834,  1.4828,  0.1746]])\n"
          ]
        }
      ],
      "source": [
        "x = torch.randn_like(x, dtype=torch.float) # x라는 shape을 그대로 가져와서\n",
        "print(x)"
      ]
    },
    {
      "cell_type": "markdown",
      "metadata": {
        "id": "7j5sGxGvucpH"
      },
      "source": [
        "### 텐서의 크기"
      ]
    },
    {
      "cell_type": "code",
      "execution_count": 9,
      "metadata": {
        "id": "yy-JbqKEuYIR"
      },
      "outputs": [
        {
          "name": "stdout",
          "output_type": "stream",
          "text": [
            "torch.Size([2, 4])\n"
          ]
        }
      ],
      "source": [
        "print(x.size())"
      ]
    },
    {
      "cell_type": "markdown",
      "metadata": {
        "id": "ehOg0eDwufru"
      },
      "source": [
        "## 텐서의 연산(operations)"
      ]
    },
    {
      "cell_type": "markdown",
      "metadata": {
        "id": "j8Doc_37uh3G"
      },
      "source": [
        "### 덧셈 1"
      ]
    },
    {
      "cell_type": "code",
      "execution_count": 10,
      "metadata": {
        "id": "Rw4JCYkYuef9"
      },
      "outputs": [
        {
          "name": "stdout",
          "output_type": "stream",
          "text": [
            "tensor([[-1.4862, -1.3421, -1.1774,  0.6146],\n",
            "        [-0.6974, -0.8834,  1.4828,  0.1746]])\n"
          ]
        }
      ],
      "source": [
        "print(x)"
      ]
    },
    {
      "cell_type": "code",
      "execution_count": 13,
      "metadata": {
        "id": "Wa44ur1Nuj5U"
      },
      "outputs": [
        {
          "name": "stdout",
          "output_type": "stream",
          "text": [
            "tensor([[0.4856, 0.9806, 0.9667, 0.9494],\n",
            "        [0.5282, 0.3311, 0.4714, 0.3294]])\n",
            "tensor([[-1.0006, -0.3615, -0.2107,  1.5640],\n",
            "        [-0.1692, -0.5522,  1.9543,  0.5040]])\n"
          ]
        }
      ],
      "source": [
        "y = torch.rand(2, 4)\n",
        "print(y)\n",
        "print(x + y)"
      ]
    },
    {
      "cell_type": "markdown",
      "metadata": {
        "id": "E5gcOo-Ouo9B"
      },
      "source": [
        "### 덧셈2"
      ]
    },
    {
      "cell_type": "code",
      "execution_count": 14,
      "metadata": {
        "id": "Qx-NzJhhumZx"
      },
      "outputs": [
        {
          "name": "stdout",
          "output_type": "stream",
          "text": [
            "tensor([[-1.0006, -0.3615, -0.2107,  1.5640],\n",
            "        [-0.1692, -0.5522,  1.9543,  0.5040]])\n"
          ]
        }
      ],
      "source": [
        "print(torch.add(x, y))"
      ]
    },
    {
      "cell_type": "markdown",
      "metadata": {
        "id": "RlvrQhLuuuIr"
      },
      "source": [
        "### 덧셈3\n",
        "- 결과 텐서를 인자로 제공"
      ]
    },
    {
      "cell_type": "code",
      "execution_count": 16,
      "metadata": {
        "id": "lUsLAOTcur1-"
      },
      "outputs": [
        {
          "name": "stdout",
          "output_type": "stream",
          "text": [
            "tensor([[-1.0006, -0.3615, -0.2107,  1.5640],\n",
            "        [-0.1692, -0.5522,  1.9543,  0.5040]])\n"
          ]
        }
      ],
      "source": [
        "result = torch.empty(2, 4)\n",
        "torch.add(x, y, out=result) # 결과값을 result로 뺄 수 있다.\n",
        "print(result)"
      ]
    },
    {
      "cell_type": "markdown",
      "metadata": {
        "id": "V6BdyZFSu2Ei"
      },
      "source": [
        "### 덧셈4\n",
        "- `in-place` 방식\n",
        "\n",
        "- (참고) in-place 방식\n",
        "  - in-place방식으로 텐서의 값을 변경하는 연산 뒤에는 _''가 붙음\n",
        "  - `x.copy_(y), x.t_()`"
      ]
    },
    {
      "cell_type": "code",
      "execution_count": 17,
      "metadata": {
        "id": "lu8rR4WVu0wQ"
      },
      "outputs": [
        {
          "name": "stdout",
          "output_type": "stream",
          "text": [
            "tensor([[-1.4862, -1.3421, -1.1774,  0.6146],\n",
            "        [-0.6974, -0.8834,  1.4828,  0.1746]])\n",
            "tensor([[0.4856, 0.9806, 0.9667, 0.9494],\n",
            "        [0.5282, 0.3311, 0.4714, 0.3294]])\n",
            "tensor([[-1.0006, -0.3615, -0.2107,  1.5640],\n",
            "        [-0.1692, -0.5522,  1.9543,  0.5040]])\n"
          ]
        }
      ],
      "source": [
        "print(x)\n",
        "print(y)\n",
        "y.add_(x) # y+=x\n",
        "print(y) "
      ]
    },
    {
      "cell_type": "markdown",
      "metadata": {
        "id": "Uo8nsrGjOw6W"
      },
      "source": [
        "### 그 외의 연산\n",
        "- `torch.sub` : 뺄셈\n",
        "\n",
        "- `torch.mul` : 곱셉\n",
        "\n",
        "- `torch.div` : 나눗셈\n",
        "\n",
        "- `torch.mm` : 내적(dot product)"
      ]
    },
    {
      "cell_type": "code",
      "execution_count": 18,
      "metadata": {
        "id": "S51kxzPTO1ER"
      },
      "outputs": [
        {
          "name": "stdout",
          "output_type": "stream",
          "text": [
            "tensor([[-1., -1.],\n",
            "        [-1., -1.]])\n",
            "tensor([[-1., -1.],\n",
            "        [-1., -1.]])\n",
            "tensor([[-1., -1.],\n",
            "        [-1., -1.]])\n"
          ]
        }
      ],
      "source": [
        "x = torch.Tensor(\n",
        "    [[1, 3],\n",
        "    [5,7]])\n",
        "y = torch.Tensor(\n",
        "    [[2, 4],\n",
        "    [6,8]])\n",
        "\n",
        "print(x - y)\n",
        "print(torch.sub(x, y))\n",
        "print(x.sub(y))"
      ]
    },
    {
      "cell_type": "code",
      "execution_count": 19,
      "metadata": {
        "id": "ou0dY8mkPR24"
      },
      "outputs": [
        {
          "name": "stdout",
          "output_type": "stream",
          "text": [
            "tensor([[ 2., 12.],\n",
            "        [30., 56.]])\n",
            "tensor([[ 2., 12.],\n",
            "        [30., 56.]])\n",
            "tensor([[ 2., 12.],\n",
            "        [30., 56.]])\n"
          ]
        }
      ],
      "source": [
        "x = torch.Tensor(\n",
        "    [[1, 3],\n",
        "    [5,7]])\n",
        "y = torch.Tensor(\n",
        "    [[2, 4],\n",
        "    [6,8]])\n",
        "\n",
        "print(x * y)\n",
        "print(torch.mul(x, y))\n",
        "print(x.mul(y))"
      ]
    },
    {
      "cell_type": "code",
      "execution_count": 20,
      "metadata": {
        "id": "6RlZZBp3PbE4"
      },
      "outputs": [
        {
          "name": "stdout",
          "output_type": "stream",
          "text": [
            "tensor([[0.5000, 0.7500],\n",
            "        [0.8333, 0.8750]])\n",
            "tensor([[0.5000, 0.7500],\n",
            "        [0.8333, 0.8750]])\n",
            "tensor([[0.5000, 0.7500],\n",
            "        [0.8333, 0.8750]])\n"
          ]
        }
      ],
      "source": [
        "x = torch.Tensor(\n",
        "    [[1, 3],\n",
        "    [5,7]])\n",
        "y = torch.Tensor(\n",
        "    [[2, 4],\n",
        "    [6,8]])\n",
        "\n",
        "print(x / y)\n",
        "print(torch.div(x, y))\n",
        "print(x.div(y))"
      ]
    },
    {
      "cell_type": "code",
      "execution_count": 21,
      "metadata": {
        "id": "7MR-ofE5P7VC"
      },
      "outputs": [
        {
          "name": "stdout",
          "output_type": "stream",
          "text": [
            "tensor([[20., 28.],\n",
            "        [52., 76.]])\n"
          ]
        }
      ],
      "source": [
        "x = torch.Tensor(\n",
        "    [[1, 3],\n",
        "    [5,7]])\n",
        "y = torch.Tensor(\n",
        "    [[2, 4],\n",
        "    [6,8]])\n",
        "\n",
        "print(torch.mm(x, y)) #matrix muliply = 행렬 곱"
      ]
    },
    {
      "cell_type": "markdown",
      "metadata": {
        "id": "8URGwHE_NjDi"
      },
      "source": [
        "## 텐서의 조작(manipulations)"
      ]
    },
    {
      "cell_type": "markdown",
      "metadata": {
        "id": "uCsdZIPTvG53"
      },
      "source": [
        "### 인덱싱\n",
        "- 넘파이처럼 인덱싱 사용가능"
      ]
    },
    {
      "cell_type": "code",
      "execution_count": 22,
      "metadata": {
        "id": "jF2DE8kzvOs3"
      },
      "outputs": [
        {
          "name": "stdout",
          "output_type": "stream",
          "text": [
            "tensor([[1., 3.],\n",
            "        [5., 7.]])\n"
          ]
        }
      ],
      "source": [
        "print(x)"
      ]
    },
    {
      "cell_type": "code",
      "execution_count": 23,
      "metadata": {
        "id": "GQtBH3r3u7c3"
      },
      "outputs": [
        {
          "name": "stdout",
          "output_type": "stream",
          "text": [
            "tensor([3., 7.])\n"
          ]
        }
      ],
      "source": [
        "print(x[:, 1])"
      ]
    },
    {
      "cell_type": "markdown",
      "metadata": {
        "id": "jEscXddKvQ5l"
      },
      "source": [
        "### view\n",
        "- 텐서의 크기(size)나 모양(shape)을 변경"
      ]
    },
    {
      "cell_type": "code",
      "execution_count": 27,
      "metadata": {
        "id": "xwhWeqhLvKKj"
      },
      "outputs": [
        {
          "name": "stdout",
          "output_type": "stream",
          "text": [
            "tensor([[-0.6969, -1.6245,  0.3492,  1.1271,  0.3968],\n",
            "        [-0.3692,  0.6942,  1.7492,  0.5376, -1.6478],\n",
            "        [-0.1043, -0.3768, -0.5384,  0.3515, -0.7586],\n",
            "        [-1.4581,  0.7731,  2.3177,  1.2412, -0.1327]])\n",
            "tensor([-0.6969, -1.6245,  0.3492,  1.1271,  0.3968, -0.3692,  0.6942,  1.7492,\n",
            "         0.5376, -1.6478, -0.1043, -0.3768, -0.5384,  0.3515, -0.7586, -1.4581,\n",
            "         0.7731,  2.3177,  1.2412, -0.1327])\n",
            "tensor([[-0.6969, -1.6245,  0.3492,  1.1271],\n",
            "        [ 0.3968, -0.3692,  0.6942,  1.7492],\n",
            "        [ 0.5376, -1.6478, -0.1043, -0.3768],\n",
            "        [-0.5384,  0.3515, -0.7586, -1.4581],\n",
            "        [ 0.7731,  2.3177,  1.2412, -0.1327]])\n",
            "torch.Size([4, 5])\n",
            "torch.Size([20])\n",
            "torch.Size([5, 4])\n"
          ]
        }
      ],
      "source": [
        "x = torch.randn(4, 5)\n",
        "y = x.view(20)\n",
        "z = x.view(5, -1)\n",
        "\n",
        "print(x)\n",
        "print(y) # 1차원 형태\n",
        "print(z) # -1은 자동으로 계산\n",
        "\n",
        "print(x.size())\n",
        "print(y.size())\n",
        "print(z.size())"
      ]
    },
    {
      "cell_type": "markdown",
      "metadata": {
        "id": "iBY_wuIRvf5j"
      },
      "source": [
        "### item\n",
        "- 텐서에 값이 단 하나라도 존재하면 숫자값을 얻을 수 있음\n"
      ]
    },
    {
      "cell_type": "code",
      "execution_count": 28,
      "metadata": {
        "id": "E0W24QqpvcmV"
      },
      "outputs": [
        {
          "name": "stdout",
          "output_type": "stream",
          "text": [
            "tensor([-0.6066])\n",
            "-0.6065935492515564\n",
            "torch.float32\n"
          ]
        }
      ],
      "source": [
        "x = torch.randn(1)\n",
        "print(x)\n",
        "print(x.item()) # item : 실제 안에 존재하는 값 \n",
        "print(x.dtype)"
      ]
    },
    {
      "cell_type": "markdown",
      "metadata": {
        "id": "V1sCUVwC3Nua"
      },
      "source": [
        "- 스칼라값 하나만 존재해야함"
      ]
    },
    {
      "cell_type": "code",
      "execution_count": 29,
      "metadata": {
        "id": "jl4_FAgd3Lt9"
      },
      "outputs": [
        {
          "name": "stdout",
          "output_type": "stream",
          "text": [
            "tensor([-0.3643,  0.2732])\n"
          ]
        },
        {
          "ename": "ValueError",
          "evalue": "only one element tensors can be converted to Python scalars",
          "output_type": "error",
          "traceback": [
            "\u001b[1;31m---------------------------------------------------------------------------\u001b[0m",
            "\u001b[1;31mValueError\u001b[0m                                Traceback (most recent call last)",
            "\u001b[1;32m~\\AppData\\Local\\Temp/ipykernel_11236/4147517315.py\u001b[0m in \u001b[0;36m<module>\u001b[1;34m\u001b[0m\n\u001b[0;32m      1\u001b[0m \u001b[0mx\u001b[0m \u001b[1;33m=\u001b[0m \u001b[0mtorch\u001b[0m\u001b[1;33m.\u001b[0m\u001b[0mrandn\u001b[0m\u001b[1;33m(\u001b[0m\u001b[1;36m2\u001b[0m\u001b[1;33m)\u001b[0m\u001b[1;33m\u001b[0m\u001b[1;33m\u001b[0m\u001b[0m\n\u001b[0;32m      2\u001b[0m \u001b[0mprint\u001b[0m\u001b[1;33m(\u001b[0m\u001b[0mx\u001b[0m\u001b[1;33m)\u001b[0m\u001b[1;33m\u001b[0m\u001b[1;33m\u001b[0m\u001b[0m\n\u001b[1;32m----> 3\u001b[1;33m \u001b[0mprint\u001b[0m\u001b[1;33m(\u001b[0m\u001b[0mx\u001b[0m\u001b[1;33m.\u001b[0m\u001b[0mitem\u001b[0m\u001b[1;33m(\u001b[0m\u001b[1;33m)\u001b[0m\u001b[1;33m)\u001b[0m\u001b[1;33m\u001b[0m\u001b[1;33m\u001b[0m\u001b[0m\n\u001b[0m\u001b[0;32m      4\u001b[0m \u001b[0mprint\u001b[0m\u001b[1;33m(\u001b[0m\u001b[0mx\u001b[0m\u001b[1;33m.\u001b[0m\u001b[0mdtype\u001b[0m\u001b[1;33m)\u001b[0m\u001b[1;33m\u001b[0m\u001b[1;33m\u001b[0m\u001b[0m\n",
            "\u001b[1;31mValueError\u001b[0m: only one element tensors can be converted to Python scalars"
          ]
        }
      ],
      "source": [
        "# x = torch.randn(2)\n",
        "# print(x)\n",
        "# print(x.item()) # value error가 뜬다.\n",
        "# print(x.dtype)"
      ]
    },
    {
      "cell_type": "markdown",
      "metadata": {
        "id": "uThndsy5M6wM"
      },
      "source": [
        "### squeeze \n",
        "- 차원을 축소(제거)"
      ]
    },
    {
      "cell_type": "code",
      "execution_count": 30,
      "metadata": {
        "id": "OF3rOavnRxgM"
      },
      "outputs": [
        {
          "data": {
            "text/plain": [
              "torch.Size([1, 3, 3])"
            ]
          },
          "execution_count": 30,
          "metadata": {},
          "output_type": "execute_result"
        }
      ],
      "source": [
        "tensor = torch.rand(1, 3, 3)\n",
        "tensor.shape"
      ]
    },
    {
      "cell_type": "code",
      "execution_count": 32,
      "metadata": {
        "id": "Y2jq0jHJR5Jw"
      },
      "outputs": [
        {
          "name": "stdout",
          "output_type": "stream",
          "text": [
            "tensor([[0.4969, 0.8329, 0.4914],\n",
            "        [0.8732, 0.2870, 0.2386],\n",
            "        [0.8530, 0.9249, 0.8019]])\n",
            "torch.Size([3, 3])\n"
          ]
        }
      ],
      "source": [
        "t = tensor.squeeze()\n",
        "\n",
        "print(t)\n",
        "print(t.shape)"
      ]
    },
    {
      "cell_type": "markdown",
      "metadata": {
        "id": "COv-dnTYNJ8Z"
      },
      "source": [
        "### unsqueeze\n",
        "- 차원을 증가(생성)"
      ]
    },
    {
      "cell_type": "code",
      "execution_count": 33,
      "metadata": {
        "id": "PFxaHGY1NOBo"
      },
      "outputs": [
        {
          "name": "stdout",
          "output_type": "stream",
          "text": [
            "tensor([[[0.0750, 0.5935, 0.7569],\n",
            "         [0.4388, 0.5325, 0.5615],\n",
            "         [0.0501, 0.2786, 0.4675]]])\n",
            "torch.Size([1, 3, 3])\n"
          ]
        }
      ],
      "source": [
        "tensor = torch.rand(1, 3, 3)\n",
        "print(tensor)\n",
        "print(tensor.shape)"
      ]
    },
    {
      "cell_type": "code",
      "execution_count": 34,
      "metadata": {
        "id": "b6sa4tJ7SA8G"
      },
      "outputs": [
        {
          "name": "stdout",
          "output_type": "stream",
          "text": [
            "tensor([[[[0.0750, 0.5935, 0.7569],\n",
            "          [0.4388, 0.5325, 0.5615],\n",
            "          [0.0501, 0.2786, 0.4675]]]])\n",
            "torch.Size([1, 1, 3, 3])\n"
          ]
        }
      ],
      "source": [
        "t = tensor.unsqueeze(dim=0) # 차원이 오히려 증가\n",
        "\n",
        "print(t)\n",
        "print(t.shape)"
      ]
    },
    {
      "cell_type": "markdown",
      "metadata": {
        "id": "_C_oa9JANOa6"
      },
      "source": [
        "### stack\n",
        "- 텐서간 결합"
      ]
    },
    {
      "cell_type": "code",
      "execution_count": 35,
      "metadata": {
        "id": "f3x_XaUYNOuc"
      },
      "outputs": [
        {
          "name": "stdout",
          "output_type": "stream",
          "text": [
            "tensor([[1., 4.],\n",
            "        [2., 5.],\n",
            "        [3., 6.]])\n"
          ]
        }
      ],
      "source": [
        "x = torch.FloatTensor([1, 4])\n",
        "y = torch.FloatTensor([2, 5])\n",
        "z = torch.FloatTensor([3, 6])\n",
        "\n",
        "print(torch.stack([x, y, z])) # stack = 쌓는다\n"
      ]
    },
    {
      "cell_type": "markdown",
      "metadata": {
        "id": "XmJscbfg35-c"
      },
      "source": [
        "### cat\n",
        "- 텐서를 결합하는 메소드(concatenate)\n",
        "\n",
        "- 넘파이의 `stack`과 유사하지만, 쌓을 dim이 존재해야함\n",
        "  - 예를 들어, 해당 차원을 늘려준 후 결합\n"
      ]
    },
    {
      "cell_type": "code",
      "execution_count": 38,
      "metadata": {
        "id": "Mv3zlaNm37P1"
      },
      "outputs": [
        {
          "name": "stdout",
          "output_type": "stream",
          "text": [
            "a :  tensor([[[[-1.1836,  0.0092,  0.7193],\n",
            "          [ 1.1564,  0.1212, -0.3557],\n",
            "          [ 1.2340,  1.6694,  0.8006]]]])\n",
            "b :  tensor([[[[ 2.0300,  0.9320, -0.0976],\n",
            "          [ 1.9815,  0.7354, -0.8266],\n",
            "          [-0.1027,  1.2076,  0.0698]]]])\n",
            "tensor([[[[-1.1836,  0.0092,  0.7193],\n",
            "          [ 1.1564,  0.1212, -0.3557],\n",
            "          [ 1.2340,  1.6694,  0.8006]]],\n",
            "\n",
            "\n",
            "        [[[ 2.0300,  0.9320, -0.0976],\n",
            "          [ 1.9815,  0.7354, -0.8266],\n",
            "          [-0.1027,  1.2076,  0.0698]]]])\n",
            "torch.Size([2, 1, 3, 3])\n"
          ]
        }
      ],
      "source": [
        "a = torch.randn(1, 1, 3, 3)\n",
        "b = torch.randn(1, 1, 3, 3)\n",
        "c = torch.cat((a, b), dim=0)\n",
        "\n",
        "print('a : ', a)\n",
        "print('b : ', b)\n",
        "print(c)\n",
        "print(c.size())"
      ]
    },
    {
      "cell_type": "code",
      "execution_count": 40,
      "metadata": {
        "id": "69M5jY60S7Mi"
      },
      "outputs": [
        {
          "name": "stdout",
          "output_type": "stream",
          "text": [
            "a :  tensor([[[ 0.7126,  0.5637,  1.4222],\n",
            "         [-0.5656, -0.7211,  0.3971],\n",
            "         [-0.5972,  0.0381, -2.2858]]])\n",
            "b :  tensor([[[ 0.6700, -0.8062,  0.6849],\n",
            "         [ 0.5044, -0.1445, -0.1194],\n",
            "         [ 0.0154, -0.6785, -0.6289]]])\n",
            "tensor([[[ 0.7126,  0.5637,  1.4222],\n",
            "         [-0.5656, -0.7211,  0.3971],\n",
            "         [-0.5972,  0.0381, -2.2858],\n",
            "         [ 0.6700, -0.8062,  0.6849],\n",
            "         [ 0.5044, -0.1445, -0.1194],\n",
            "         [ 0.0154, -0.6785, -0.6289]]])\n",
            "torch.Size([1, 6, 3])\n"
          ]
        }
      ],
      "source": [
        "a = torch.randn(1, 3, 3)\n",
        "b = torch.randn(1, 3, 3)\n",
        "c = torch.cat((a, b), dim=1) # 차원을 지정해준다. 1단위로 \n",
        "# 내가 cat하고자 하는 dim 지정\n",
        "\n",
        "print('a : ', a)\n",
        "print('b : ', b)\n",
        "print(c)\n",
        "print(c.size())"
      ]
    },
    {
      "cell_type": "markdown",
      "metadata": {
        "id": "7gGXnOAqQTmG"
      },
      "source": [
        "### chuck\n",
        "- 텐서를 여러 개로 나눌 때 사용\n",
        "\n",
        "- 몇 개의 텐서로 나눌 것이냐"
      ]
    },
    {
      "cell_type": "code",
      "execution_count": 41,
      "metadata": {
        "id": "pNV80VzPQZgG"
      },
      "outputs": [
        {
          "name": "stdout",
          "output_type": "stream",
          "text": [
            "tensor([[0.3538, 0.0405, 0.9346, 0.8562, 0.1822, 0.0013],\n",
            "        [0.6756, 0.2766, 0.4767, 0.8419, 0.4189, 0.5001],\n",
            "        [0.0378, 0.1759, 0.4003, 0.5231, 0.2567, 0.3970]])\n",
            "tensor([[0.3538, 0.0405],\n",
            "        [0.6756, 0.2766],\n",
            "        [0.0378, 0.1759]])\n",
            "tensor([[0.9346, 0.8562],\n",
            "        [0.4767, 0.8419],\n",
            "        [0.4003, 0.5231]])\n",
            "tensor([[0.1822, 0.0013],\n",
            "        [0.4189, 0.5001],\n",
            "        [0.2567, 0.3970]])\n"
          ]
        }
      ],
      "source": [
        "tensor = torch.rand(3, 6)\n",
        "t1, t2, t3 = torch.chunk(tensor, 3, dim=1) # tensor를 3으로 묶음 dim=1로\n",
        "\n",
        "print(tensor)\n",
        "print(t1)\n",
        "print(t2)\n",
        "print(t3)"
      ]
    },
    {
      "cell_type": "markdown",
      "metadata": {
        "id": "7U0Qb0jWQgm-"
      },
      "source": [
        "### split\n",
        "- `chunck`와 동일한 기능이지만 조금 다름\n",
        "\n",
        "- 하나의 텐서당 크기가 얼마이냐"
      ]
    },
    {
      "cell_type": "code",
      "execution_count": 42,
      "metadata": {
        "id": "1V6DDnLVQqxz"
      },
      "outputs": [
        {
          "name": "stdout",
          "output_type": "stream",
          "text": [
            "tensor([[0.4239, 0.5405, 0.1660, 0.1185, 0.1737, 0.4505],\n",
            "        [0.2128, 0.1640, 0.5203, 0.2921, 0.9682, 0.5209],\n",
            "        [0.9468, 0.5017, 0.6463, 0.4637, 0.1088, 0.0976]])\n",
            "tensor([[0.4239, 0.5405, 0.1660],\n",
            "        [0.2128, 0.1640, 0.5203],\n",
            "        [0.9468, 0.5017, 0.6463]])\n",
            "tensor([[0.1185, 0.1737, 0.4505],\n",
            "        [0.2921, 0.9682, 0.5209],\n",
            "        [0.4637, 0.1088, 0.0976]])\n"
          ]
        }
      ],
      "source": [
        "tensor = torch.rand(3, 6)\n",
        "t1, t2 = torch.split(tensor, 3, dim=1) # 3 = 크기 지정\n",
        "\n",
        "print(tensor)\n",
        "print(t1)\n",
        "print(t2)"
      ]
    },
    {
      "cell_type": "markdown",
      "metadata": {
        "id": "estSwhCgvta6"
      },
      "source": [
        "### torch ↔ numpy\n",
        "- Torch Tensor(텐서)를 Numpy array(배열)로 변환 가능\n",
        "\n",
        "  - `numpy()`\n",
        "  - `from_numpy()`\n",
        "\n",
        "- (참고)\n",
        "  - Tensor가 CPU상에 있다면 Numpy 배열은 메모리 공간을 공유하므로 하나가 변하면, 다른 하나도 변함"
      ]
    },
    {
      "cell_type": "code",
      "execution_count": 43,
      "metadata": {
        "id": "VxHI7c_yvmAT"
      },
      "outputs": [
        {
          "name": "stdout",
          "output_type": "stream",
          "text": [
            "tensor([1., 1., 1., 1., 1., 1., 1.])\n"
          ]
        }
      ],
      "source": [
        "a = torch.ones(7) # 하나로 채우는 것 7개\n",
        "print(a)"
      ]
    },
    {
      "cell_type": "code",
      "execution_count": 44,
      "metadata": {
        "id": "whbrhokHwJ3A"
      },
      "outputs": [
        {
          "name": "stdout",
          "output_type": "stream",
          "text": [
            "[1. 1. 1. 1. 1. 1. 1.]\n"
          ]
        }
      ],
      "source": [
        "b = a.numpy()\n",
        "print(b)"
      ]
    },
    {
      "cell_type": "code",
      "execution_count": 45,
      "metadata": {
        "id": "5StIhUWDwQjA"
      },
      "outputs": [
        {
          "name": "stdout",
          "output_type": "stream",
          "text": [
            "tensor([2., 2., 2., 2., 2., 2., 2.])\n",
            "[2. 2. 2. 2. 2. 2. 2.]\n"
          ]
        }
      ],
      "source": [
        "a.add_(1) # a에 1을 모두 더함\n",
        "print(a)\n",
        "print(b) # tensor가 cpu상에 있기 때문에 메모리 공유"
      ]
    },
    {
      "cell_type": "code",
      "execution_count": 46,
      "metadata": {
        "id": "3RNS5-cRwTt8"
      },
      "outputs": [
        {
          "name": "stdout",
          "output_type": "stream",
          "text": [
            "[2. 2. 2. 2. 2. 2. 2.]\n",
            "tensor([2., 2., 2., 2., 2., 2., 2.], dtype=torch.float64)\n"
          ]
        }
      ],
      "source": [
        "import numpy as np\n",
        "\n",
        "a = np.ones(7)\n",
        "b = torch.from_numpy(a)\n",
        "np.add(a, 1, out=a)\n",
        "print(a)\n",
        "print(b)"
      ]
    },
    {
      "cell_type": "markdown",
      "metadata": {
        "id": "v-ZaxSvLxEej"
      },
      "source": [
        "## CUDA Tensors\n",
        "- `.to` 메소드를 사용하여 텐서를 어떠한 장치로도 옮길 수 있음\n",
        "  - 예) cpu, gpu"
      ]
    },
    {
      "cell_type": "code",
      "execution_count": 47,
      "metadata": {
        "id": "xkaQznCRxpUj"
      },
      "outputs": [],
      "source": [
        "import torch"
      ]
    },
    {
      "cell_type": "code",
      "execution_count": 48,
      "metadata": {
        "id": "SCnC0x2Rxpbk"
      },
      "outputs": [
        {
          "name": "stdout",
          "output_type": "stream",
          "text": [
            "tensor([-1.2078])\n",
            "-1.2078262567520142\n",
            "torch.float32\n"
          ]
        }
      ],
      "source": [
        "x = torch.randn(1)\n",
        "print(x)\n",
        "print(x.item()) # item = 실제값\n",
        "print(x.dtype)"
      ]
    },
    {
      "cell_type": "code",
      "execution_count": 49,
      "metadata": {
        "id": "GcSsFLkDw-nI"
      },
      "outputs": [
        {
          "name": "stdout",
          "output_type": "stream",
          "text": [
            "cuda\n",
            "tensor([-0.2078], device='cuda:0')\n",
            "tensor([-0.2078], dtype=torch.float64)\n"
          ]
        }
      ],
      "source": [
        "device = torch.device('cuda' if torch.cuda.is_available() else 'cpu')\n",
        "# 만약 gpu환경이 아니면 cpu 선택\n",
        "y = torch.ones_like(x, device=device) # 직접 gpu상에서 tensor 만들어보겠다\n",
        "x = x.to(device) # x자체를 gpu환경으로 옮기겠다\n",
        "z = x + y\n",
        "print(device)\n",
        "print(z)\n",
        "print(z.to('cpu', torch.double))\n"
      ]
    },
    {
      "cell_type": "markdown",
      "metadata": {
        "id": "NKqiGvLWx2nk"
      },
      "source": [
        "## AUTOGRAD (자동미분)\n",
        "- autograd 패키지는 Tensor의 모든 연산에 대해 **자동 미분** 제공\n",
        "\n",
        "- 이는 코드를 어떻게 작성하여 실행하느냐에 따라 역전파가 정의된다는 뜻\n",
        "\n",
        "- backprop를 위한 미분값을 자동으로 계산"
      ]
    },
    {
      "cell_type": "markdown",
      "metadata": {
        "id": "0zH41l-MyMHi"
      },
      "source": [
        "### Tensor\n",
        "\n",
        "- data: tensor형태의 데이터\n",
        "\n",
        "- grad: data가 겨쳐온 layer에 대한 미분값 저장\n",
        "\n",
        "- grad_fn: 미분값을 계산한 함수에 대한 정보 저장 (어떤 함수에 대해서 backprop 했는지)\n",
        "\n",
        "- `requires_grad` 속성을 `True`로 설정하면, 해당 텐서에서 이루어지는 모든 연산들을 추적하기 시작\n",
        "\n",
        "- 계산이 완료된 후, `.backward()`를 호출하면 자동으로 `gradient`를 계산할 수 있으며, `.grad` 속성에 누적됨\n",
        "\n",
        "- 기록을 추적하는 것을 중단하게 하려면, `.detach()`를 호출하여 연산기록으로부터 분리\n",
        "\n",
        "- 기록을 추적하는 것을 방지하기 위해 코드 블럭을 `with torch.no_grad():`로 감싸면 `gradient`는 필요없지만, `requires_grad=True`로 설정되어 학습 가능한 매개변수를 갖는 모델을 평가(evaluate)할 때 유용\n",
        "\n",
        "- Autograd 구현에서 매우 중요한 클래스 : `Function` 클래스"
      ]
    },
    {
      "cell_type": "code",
      "execution_count": 50,
      "metadata": {
        "id": "ipdk_1jfx47I"
      },
      "outputs": [],
      "source": [
        "import torch"
      ]
    },
    {
      "cell_type": "code",
      "execution_count": 51,
      "metadata": {
        "id": "ljNU-r9p0Rpo"
      },
      "outputs": [
        {
          "name": "stdout",
          "output_type": "stream",
          "text": [
            "tensor([[1., 1., 1.],\n",
            "        [1., 1., 1.],\n",
            "        [1., 1., 1.]], requires_grad=True)\n"
          ]
        }
      ],
      "source": [
        "x = torch.ones(3, 3, requires_grad=True)\n",
        "print(x)"
      ]
    },
    {
      "cell_type": "code",
      "execution_count": 52,
      "metadata": {
        "id": "or6sQ4EB0UYz"
      },
      "outputs": [
        {
          "name": "stdout",
          "output_type": "stream",
          "text": [
            "tensor([[6., 6., 6.],\n",
            "        [6., 6., 6.],\n",
            "        [6., 6., 6.]], grad_fn=<AddBackward0>)\n"
          ]
        }
      ],
      "source": [
        "y = x + 5\n",
        "print(y)"
      ]
    },
    {
      "cell_type": "code",
      "execution_count": 53,
      "metadata": {
        "id": "PuQ7xDmu0Wpj"
      },
      "outputs": [
        {
          "name": "stdout",
          "output_type": "stream",
          "text": [
            "<AddBackward0 object at 0x000002A3F9C8E688>\n"
          ]
        }
      ],
      "source": [
        "print(y.grad_fn) # +5 연산에 대해서 backward 할 수 있는 연산이 붙음"
      ]
    },
    {
      "cell_type": "code",
      "execution_count": 54,
      "metadata": {
        "id": "6_2iM-Zq0ZdG"
      },
      "outputs": [
        {
          "name": "stdout",
          "output_type": "stream",
          "text": [
            "tensor([[72., 72., 72.],\n",
            "        [72., 72., 72.],\n",
            "        [72., 72., 72.]], grad_fn=<MulBackward0>) tensor(72., grad_fn=<MeanBackward0>)\n"
          ]
        }
      ],
      "source": [
        "z = y * y * 2\n",
        "out = z.mean()\n",
        "# MulBackward0 : 곱에 대한 backward가 붙음\n",
        "\n",
        "print(z, out)"
      ]
    },
    {
      "cell_type": "markdown",
      "metadata": {
        "id": "2aZ8SWn_0nqt"
      },
      "source": [
        "- `requires_grad_(...)`는 기존 텐서의 `requires_grad`값을 바꿔치기(`in-place`)하여 변경"
      ]
    },
    {
      "cell_type": "code",
      "execution_count": 56,
      "metadata": {
        "id": "mHGROgrM0ebO"
      },
      "outputs": [
        {
          "name": "stdout",
          "output_type": "stream",
          "text": [
            "False\n",
            "True\n",
            "<SumBackward0 object at 0x000002A3F9BAE988>\n"
          ]
        }
      ],
      "source": [
        "a = torch.randn(3, 3)\n",
        "a = ((a * 3) / (a - 1))\n",
        "print(a.requires_grad) # False 상태\n",
        "\n",
        "a.requires_grad_(True) # True 상태\n",
        "print(a.requires_grad)\n",
        "\n",
        "b = (a * a).sum()\n",
        "print(b.grad_fn) # sumbackward가 붙음"
      ]
    },
    {
      "cell_type": "markdown",
      "metadata": {
        "id": "KiEn_stZ1VgU"
      },
      "source": [
        "### 기울기(Gradient)\n",
        "- 역전파: `.backward()`를 통해 역전파 계산 가능"
      ]
    },
    {
      "cell_type": "code",
      "execution_count": 57,
      "metadata": {
        "id": "1tdoN9p-1kn4"
      },
      "outputs": [],
      "source": [
        "out.backward()"
      ]
    },
    {
      "cell_type": "code",
      "execution_count": 58,
      "metadata": {
        "id": "CixGTXbV1B9p"
      },
      "outputs": [
        {
          "name": "stdout",
          "output_type": "stream",
          "text": [
            "tensor([[2.6667, 2.6667, 2.6667],\n",
            "        [2.6667, 2.6667, 2.6667],\n",
            "        [2.6667, 2.6667, 2.6667]])\n"
          ]
        }
      ],
      "source": [
        "print(x.grad)"
      ]
    },
    {
      "cell_type": "code",
      "execution_count": 59,
      "metadata": {
        "id": "SY63Mcc-1iNI"
      },
      "outputs": [
        {
          "name": "stdout",
          "output_type": "stream",
          "text": [
            "tensor([-1496.9336,   574.8242,  -963.9843], grad_fn=<MulBackward0>)\n"
          ]
        }
      ],
      "source": [
        "x = torch.randn(3, requires_grad=True)\n",
        "\n",
        "y = x * 2\n",
        "while y.data.norm() < 1000: # norm : 현재값이\n",
        "    y = y * 2\n",
        "\n",
        "print(y)"
      ]
    },
    {
      "cell_type": "code",
      "execution_count": 60,
      "metadata": {
        "id": "YPaVAbIT3gx_"
      },
      "outputs": [
        {
          "name": "stdout",
          "output_type": "stream",
          "text": [
            "tensor([2.0480e+02, 2.0480e+03, 2.0480e-01])\n"
          ]
        }
      ],
      "source": [
        "v = torch.tensor([0.1, 1.0, 0.0001], dtype=torch.float)\n",
        "y.backward(v)\n",
        "\n",
        "print(x.grad)"
      ]
    },
    {
      "cell_type": "markdown",
      "metadata": {
        "id": "0b9amArPXtcX"
      },
      "source": [
        "- `with torch.no_grad()`를 사용하여 gradient의 업데이트를 하지 않음"
      ]
    },
    {
      "cell_type": "code",
      "execution_count": 62,
      "metadata": {
        "id": "weeIe5_Z3jVe"
      },
      "outputs": [
        {
          "name": "stdout",
          "output_type": "stream",
          "text": [
            "True\n",
            "True\n",
            "False\n"
          ]
        }
      ],
      "source": [
        "print(x.requires_grad)\n",
        "print((x**2).requires_grad)\n",
        "\n",
        "with torch.no_grad(): # ~~ 옵션을 붙인 상태에서\n",
        "    print((x**2).requires_grad)"
      ]
    },
    {
      "cell_type": "markdown",
      "metadata": {
        "id": "bLcTLVRSmCdH"
      },
      "source": [
        "- `detach()`: 내용물(content)은 같지만 require_grad가 다른 새로운 Tensor를 가져올 때"
      ]
    },
    {
      "cell_type": "code",
      "execution_count": 63,
      "metadata": {
        "id": "ALcth7Ew3l7H"
      },
      "outputs": [
        {
          "name": "stdout",
          "output_type": "stream",
          "text": [
            "True\n",
            "False\n",
            "tensor(True)\n"
          ]
        }
      ],
      "source": [
        "print(x.requires_grad)\n",
        "y = x.detach()\n",
        "print(y.requires_grad)\n",
        "print(x.eq(y).all())"
      ]
    },
    {
      "cell_type": "markdown",
      "metadata": {
        "id": "NSarysrqBh9D"
      },
      "source": [
        "### 자동 미분 흐름 다시 보기(1)\n",
        "- 계산 흐름  \n",
        "  $a \\rightarrow b  \\rightarrow c  \\rightarrow out $\n",
        "\n",
        "<br>\n",
        "\n",
        "## $\\quad \\frac{\\partial out}{\\partial a} = ?$\n",
        "- `backward()`를 통해  \n",
        "  $a \\leftarrow b  \\leftarrow c  \\leftarrow out $을 계산하면  \n",
        "    $\\frac{\\partial out}{\\partial a}$값이 `a.grad`에 채워짐\n"
      ]
    },
    {
      "cell_type": "code",
      "execution_count": 64,
      "metadata": {
        "id": "NUAc1etP3oBc"
      },
      "outputs": [],
      "source": [
        "import torch"
      ]
    },
    {
      "cell_type": "code",
      "execution_count": 65,
      "metadata": {
        "id": "tCW7dq9uB89T"
      },
      "outputs": [
        {
          "name": "stdout",
          "output_type": "stream",
          "text": [
            "tensor([[1., 1.],\n",
            "        [1., 1.]])\n"
          ]
        }
      ],
      "source": [
        "a = torch.ones(2, 2)\n",
        "print(a)"
      ]
    },
    {
      "cell_type": "code",
      "execution_count": 66,
      "metadata": {
        "id": "-AyyGy49FLz9"
      },
      "outputs": [
        {
          "name": "stdout",
          "output_type": "stream",
          "text": [
            "tensor([[1., 1.],\n",
            "        [1., 1.]], requires_grad=True)\n"
          ]
        }
      ],
      "source": [
        "a = torch.ones(2, 2, requires_grad=True)\n",
        "print(a)"
      ]
    },
    {
      "cell_type": "code",
      "execution_count": 73,
      "metadata": {
        "id": "SmmJa-hvFPGH"
      },
      "outputs": [
        {
          "name": "stdout",
          "output_type": "stream",
          "text": [
            "a.data:  tensor([[1., 1.],\n",
            "        [1., 1.]])\n",
            "a.grad tensor([[6., 6.],\n",
            "        [6., 6.]])\n",
            "a.grad_fn None\n"
          ]
        }
      ],
      "source": [
        "print('a.data: ', a.data)\n",
        "print('a.grad', a.grad)\n",
        "print('a.grad_fn', a.grad_fn)"
      ]
    },
    {
      "cell_type": "markdown",
      "metadata": {
        "id": "BCwhTsiHGCmG"
      },
      "source": [
        "- $b = a + 2$"
      ]
    },
    {
      "cell_type": "code",
      "execution_count": 68,
      "metadata": {
        "id": "iUPt042iF9V1"
      },
      "outputs": [
        {
          "name": "stdout",
          "output_type": "stream",
          "text": [
            "tensor([[3., 3.],\n",
            "        [3., 3.]], grad_fn=<AddBackward0>)\n"
          ]
        }
      ],
      "source": [
        "b = a +2\n",
        "print(b)"
      ]
    },
    {
      "cell_type": "markdown",
      "metadata": {
        "id": "6cw2zoq9GHLF"
      },
      "source": [
        "- $c = b^2$ "
      ]
    },
    {
      "cell_type": "code",
      "execution_count": 69,
      "metadata": {
        "id": "FRDS6gP0GFZG"
      },
      "outputs": [
        {
          "name": "stdout",
          "output_type": "stream",
          "text": [
            "tensor([[9., 9.],\n",
            "        [9., 9.]], grad_fn=<PowBackward0>)\n"
          ]
        }
      ],
      "source": [
        "c = b**2\n",
        "print(c)"
      ]
    },
    {
      "cell_type": "code",
      "execution_count": 70,
      "metadata": {
        "id": "VynoiUywGSwh"
      },
      "outputs": [
        {
          "name": "stdout",
          "output_type": "stream",
          "text": [
            "tensor(36., grad_fn=<SumBackward0>)\n"
          ]
        }
      ],
      "source": [
        "out = c.sum()\n",
        "print(out)"
      ]
    },
    {
      "cell_type": "code",
      "execution_count": 71,
      "metadata": {
        "id": "v3ryJon9GeMn"
      },
      "outputs": [
        {
          "name": "stdout",
          "output_type": "stream",
          "text": [
            "tensor(36., grad_fn=<SumBackward0>)\n"
          ]
        }
      ],
      "source": [
        "print(out)\n",
        "out.backward()"
      ]
    },
    {
      "cell_type": "markdown",
      "metadata": {
        "id": "f0aoNsPDHsoG"
      },
      "source": [
        "- a의 `grad_fn`이 None인 이유  \n",
        "  직접적으로 계산한 부분이 없었기 때문"
      ]
    },
    {
      "cell_type": "code",
      "execution_count": 72,
      "metadata": {
        "id": "bccI4vIWGgqj"
      },
      "outputs": [
        {
          "name": "stdout",
          "output_type": "stream",
          "text": [
            "a.data:  tensor([[1., 1.],\n",
            "        [1., 1.]], requires_grad=True)\n",
            "a.grad tensor([[6., 6.],\n",
            "        [6., 6.]])\n",
            "a.grad_fn None\n"
          ]
        }
      ],
      "source": [
        "print('a.data: ', a)\n",
        "print('a.grad', a.grad)\n",
        "print('a.grad_fn', a.grad_fn)"
      ]
    },
    {
      "cell_type": "code",
      "execution_count": 74,
      "metadata": {
        "id": "oka1mkadHq-N"
      },
      "outputs": [
        {
          "name": "stdout",
          "output_type": "stream",
          "text": [
            "b.data:  tensor([[3., 3.],\n",
            "        [3., 3.]])\n",
            "b.grad None\n",
            "b.grad_fn <AddBackward0 object at 0x000002A3F9C95F88>\n"
          ]
        },
        {
          "name": "stderr",
          "output_type": "stream",
          "text": [
            "C:\\Users\\poeun\\AppData\\Roaming\\Python\\Python37\\site-packages\\ipykernel_launcher.py:2: UserWarning: The .grad attribute of a Tensor that is not a leaf Tensor is being accessed. Its .grad attribute won't be populated during autograd.backward(). If you indeed want the gradient for a non-leaf Tensor, use .retain_grad() on the non-leaf Tensor. If you access the non-leaf Tensor by mistake, make sure you access the leaf Tensor instead. See github.com/pytorch/pytorch/pull/30531 for more information.\n",
            "  \n"
          ]
        }
      ],
      "source": [
        "print('b.data: ', b.data)\n",
        "print('b.grad', b.grad)\n",
        "print('b.grad_fn', b.grad_fn)"
      ]
    },
    {
      "cell_type": "code",
      "execution_count": 75,
      "metadata": {
        "id": "ZiYNajdLccUF"
      },
      "outputs": [
        {
          "name": "stdout",
          "output_type": "stream",
          "text": [
            "c.data:  tensor([[9., 9.],\n",
            "        [9., 9.]])\n",
            "c.grad None\n",
            "c.grad_fn <PowBackward0 object at 0x000002A3F9CAE6C8>\n"
          ]
        },
        {
          "name": "stderr",
          "output_type": "stream",
          "text": [
            "C:\\Users\\poeun\\AppData\\Roaming\\Python\\Python37\\site-packages\\ipykernel_launcher.py:2: UserWarning: The .grad attribute of a Tensor that is not a leaf Tensor is being accessed. Its .grad attribute won't be populated during autograd.backward(). If you indeed want the gradient for a non-leaf Tensor, use .retain_grad() on the non-leaf Tensor. If you access the non-leaf Tensor by mistake, make sure you access the leaf Tensor instead. See github.com/pytorch/pytorch/pull/30531 for more information.\n",
            "  \n"
          ]
        }
      ],
      "source": [
        "print('c.data: ', c.data)\n",
        "print('c.grad', c.grad)\n",
        "print('c.grad_fn', c.grad_fn)"
      ]
    },
    {
      "cell_type": "code",
      "execution_count": 76,
      "metadata": {
        "id": "BcLoMYite0vU"
      },
      "outputs": [
        {
          "name": "stdout",
          "output_type": "stream",
          "text": [
            "out.data:  tensor(36.)\n",
            "out.grad None\n",
            "out.grad_fn <SumBackward0 object at 0x000002A3F9BD8848>\n"
          ]
        },
        {
          "name": "stderr",
          "output_type": "stream",
          "text": [
            "C:\\Users\\poeun\\AppData\\Roaming\\Python\\Python37\\site-packages\\ipykernel_launcher.py:2: UserWarning: The .grad attribute of a Tensor that is not a leaf Tensor is being accessed. Its .grad attribute won't be populated during autograd.backward(). If you indeed want the gradient for a non-leaf Tensor, use .retain_grad() on the non-leaf Tensor. If you access the non-leaf Tensor by mistake, make sure you access the leaf Tensor instead. See github.com/pytorch/pytorch/pull/30531 for more information.\n",
            "  \n"
          ]
        }
      ],
      "source": [
        "print('out.data: ', out.data)\n",
        "print('out.grad', out.grad)\n",
        "print('out.grad_fn', out.grad_fn)"
      ]
    },
    {
      "cell_type": "markdown",
      "metadata": {
        "id": "qZXgwviHfovj"
      },
      "source": [
        "### 자동 미분 흐름 다시 보기(2)\n",
        "- `grad`값을 넣어서 `backward`\n",
        "\n",
        "- 아래의 코드에서 `.grad`값이 None은 gradient값이 필요하지 않기 때문"
      ]
    },
    {
      "cell_type": "code",
      "execution_count": 77,
      "metadata": {
        "id": "bB6DCYXRfcI_"
      },
      "outputs": [
        {
          "name": "stdout",
          "output_type": "stream",
          "text": [
            "tensor(6., grad_fn=<SumBackward0>)\n"
          ]
        }
      ],
      "source": [
        "x = torch.ones(3, requires_grad=True)\n",
        "y = (x**2)\n",
        "z = y ** 2 + x\n",
        "out = z.sum()\n",
        "print(out)"
      ]
    },
    {
      "cell_type": "code",
      "execution_count": 78,
      "metadata": {
        "id": "AVo-glm8fvFv"
      },
      "outputs": [],
      "source": [
        "grad = torch.Tensor([0.1, 1, 100])\n",
        "z.backward(grad)"
      ]
    },
    {
      "cell_type": "code",
      "execution_count": 79,
      "metadata": {
        "id": "tdBklrepf2qq"
      },
      "outputs": [
        {
          "name": "stdout",
          "output_type": "stream",
          "text": [
            "x.data:  tensor([1., 1., 1.])\n",
            "x.grad tensor([  0.5000,   5.0000, 500.0000])\n",
            "x.grad_fn None\n"
          ]
        }
      ],
      "source": [
        "print('x.data: ', x.data)\n",
        "print('x.grad', x.grad)\n",
        "print('x.grad_fn', x.grad_fn)"
      ]
    },
    {
      "cell_type": "code",
      "execution_count": 80,
      "metadata": {
        "id": "HQvUGlfRf7jU"
      },
      "outputs": [
        {
          "name": "stdout",
          "output_type": "stream",
          "text": [
            "y.data:  tensor([1., 1., 1.])\n",
            "y.grad None\n",
            "y.grad_fn <PowBackward0 object at 0x000002A3D3CDBA08>\n"
          ]
        },
        {
          "name": "stderr",
          "output_type": "stream",
          "text": [
            "C:\\Users\\poeun\\AppData\\Roaming\\Python\\Python37\\site-packages\\ipykernel_launcher.py:2: UserWarning: The .grad attribute of a Tensor that is not a leaf Tensor is being accessed. Its .grad attribute won't be populated during autograd.backward(). If you indeed want the gradient for a non-leaf Tensor, use .retain_grad() on the non-leaf Tensor. If you access the non-leaf Tensor by mistake, make sure you access the leaf Tensor instead. See github.com/pytorch/pytorch/pull/30531 for more information.\n",
            "  \n"
          ]
        }
      ],
      "source": [
        "print('y.data: ', y.data)\n",
        "print('y.grad', y.grad)\n",
        "print('y.grad_fn', y.grad_fn)"
      ]
    },
    {
      "cell_type": "code",
      "execution_count": 81,
      "metadata": {
        "id": "h7TFHdMfgxvW"
      },
      "outputs": [
        {
          "name": "stdout",
          "output_type": "stream",
          "text": [
            "z.data:  tensor([2., 2., 2.])\n",
            "z.grad None\n",
            "z.grad_fn <AddBackward0 object at 0x000002A3F9C75748>\n"
          ]
        },
        {
          "name": "stderr",
          "output_type": "stream",
          "text": [
            "C:\\Users\\poeun\\AppData\\Roaming\\Python\\Python37\\site-packages\\ipykernel_launcher.py:2: UserWarning: The .grad attribute of a Tensor that is not a leaf Tensor is being accessed. Its .grad attribute won't be populated during autograd.backward(). If you indeed want the gradient for a non-leaf Tensor, use .retain_grad() on the non-leaf Tensor. If you access the non-leaf Tensor by mistake, make sure you access the leaf Tensor instead. See github.com/pytorch/pytorch/pull/30531 for more information.\n",
            "  \n"
          ]
        }
      ],
      "source": [
        "print('z.data: ', z.data)\n",
        "print('z.grad', z.grad)\n",
        "print('z.grad_fn', z.grad_fn)"
      ]
    },
    {
      "cell_type": "markdown",
      "metadata": {
        "id": "DKv-osmNmWiA"
      },
      "source": [
        "## nn & nn.functional\n",
        "\n",
        "- 두 패키지가 같은 기능이지만 방식이 조금 다름\n",
        "\n",
        "- 위의 `autograd` 관련 작업들을 두 패키지를 통해 진행할 수 있음\n",
        "\n",
        "- 텐서를 직접 다룰 때 `requires_grad`와 같은 방식으로 진행할 수 있음\n",
        "\n",
        "- 결론적으로, `torch.nn`은 attribute를 활용해 state를 저장하고 활용하고,  \n",
        "  `torch.nn.functional`로 구현한 함수의 경우에는 인스턴스화 시킬 필요 없이 사용이 가능\n",
        " \n"
      ]
    },
    {
      "cell_type": "markdown",
      "metadata": {
        "id": "jk8fkKq3nWP1"
      },
      "source": [
        "### nn 패키지\n",
        "\n",
        "- 주로 가중치(weights), 편향(bias)값들이 내부에서 자동으로 생성되는 레이어들을 사용할 때  \n",
        "  - 따라서, `weight`값들을 직접 선언 안함\n",
        "\n",
        "- 예시\n",
        "  - Containers\n",
        "\n",
        "  - Convolution Layers\n",
        "\n",
        "  - Pooling layers\n",
        "\n",
        "  - Padding Layers\n",
        "\n",
        "  - Non-linear Activations (weighted sum, nonlinearity)\n",
        "\n",
        "  - Non-linear Activations (other)\n",
        "\n",
        "  - Normalization Layers\n",
        "\n",
        "  - Recurrent Layers\n",
        "\n",
        "  - Transformer Layers\n",
        "\n",
        "  - Linear Layers\n",
        "\n",
        "  - Dropout Layers\n",
        "\n",
        "  - Sparse Layers\n",
        "\n",
        "  - Distance Functions\n",
        "\n",
        "  - Loss Functions\n",
        "\n",
        "  - ..\n",
        "- https://pytorch.org/docs/stable/nn.html\n",
        "\n"
      ]
    },
    {
      "cell_type": "code",
      "execution_count": 82,
      "metadata": {
        "id": "8tEtWHAsmZMy"
      },
      "outputs": [],
      "source": [
        "import torch \n",
        "import torch.nn as nn"
      ]
    },
    {
      "cell_type": "markdown",
      "metadata": {
        "id": "NcjCbeEQqPSI"
      },
      "source": [
        "- Convolution Layer 예시 (1)\n"
      ]
    },
    {
      "cell_type": "code",
      "execution_count": 85,
      "metadata": {
        "id": "NQ7Y0tCOpkhM"
      },
      "outputs": [
        {
          "name": "stdout",
          "output_type": "stream",
          "text": [
            "tensor([[[[ 2.2576e+00,  1.6124e-01, -4.5301e-01,  ..., -1.7705e+00,\n",
            "            9.7331e-01,  2.2469e-02],\n",
            "          [ 9.0245e-01,  2.8341e+00, -1.4440e-01,  ..., -9.7495e-01,\n",
            "           -1.1915e+00,  1.0638e-01],\n",
            "          [ 7.7335e-01,  2.9824e-01,  1.9133e-02,  ...,  2.9562e-01,\n",
            "            1.5380e+00, -9.0006e-02],\n",
            "          ...,\n",
            "          [-2.3486e-01,  3.5011e+00,  1.2189e+00,  ..., -8.8096e-01,\n",
            "           -1.2272e+00,  7.6250e-01],\n",
            "          [-1.2236e-01, -3.0480e-01,  7.8640e-01,  ..., -1.3818e+00,\n",
            "           -7.8562e-01, -1.5457e-01],\n",
            "          [ 8.4872e-01, -1.4933e+00, -1.1984e+00,  ..., -7.7623e-02,\n",
            "           -2.0382e-01,  9.8702e-01]],\n",
            "\n",
            "         [[ 4.3345e-01,  1.1153e+00, -9.2674e-02,  ...,  9.4741e-01,\n",
            "            4.5397e-01, -8.8490e-01],\n",
            "          [-1.7370e-03, -1.4731e+00, -6.8177e-01,  ...,  5.6230e-02,\n",
            "           -8.3274e-01, -7.4983e-01],\n",
            "          [ 1.1238e+00, -1.2013e+00,  1.0518e+00,  ...,  2.9532e-01,\n",
            "            2.1011e+00,  1.9327e-01],\n",
            "          ...,\n",
            "          [-7.0866e-01, -1.6286e+00, -3.1041e-01,  ..., -1.1956e+00,\n",
            "            2.4875e+00,  1.7252e+00],\n",
            "          [ 2.8941e-01,  4.7657e-01, -1.2913e+00,  ..., -6.8987e-01,\n",
            "           -8.9568e-01,  9.3335e-01],\n",
            "          [-1.4759e+00, -1.1991e+00,  1.1150e+00,  ..., -1.1032e+00,\n",
            "            1.9502e+00,  3.0301e-01]],\n",
            "\n",
            "         [[ 5.9385e-01,  1.8514e+00,  9.8182e-01,  ..., -1.1907e-01,\n",
            "           -1.3238e+00,  3.6632e-01],\n",
            "          [-1.2517e+00,  2.5639e-01, -1.8152e+00,  ...,  1.1187e+00,\n",
            "           -9.4953e-01,  7.9415e-01],\n",
            "          [-1.1266e+00,  2.0020e-01, -2.7140e+00,  ..., -7.0190e-01,\n",
            "            2.2209e+00,  2.2705e+00],\n",
            "          ...,\n",
            "          [-1.5277e-01, -5.8614e-02,  1.4445e+00,  ...,  6.5084e-01,\n",
            "            1.7900e+00,  1.8077e+00],\n",
            "          [-4.8005e-01,  3.6560e-01,  9.8183e-01,  ..., -5.3800e-01,\n",
            "           -9.6865e-01,  2.7216e-01],\n",
            "          [ 1.6656e-01,  3.3236e-01,  7.9950e-01,  ...,  1.2210e+00,\n",
            "           -2.3534e-01, -1.3174e+00]],\n",
            "\n",
            "         ...,\n",
            "\n",
            "         [[-2.1470e-01,  4.0593e-01, -3.5495e-02,  ..., -1.1920e+00,\n",
            "           -8.1992e-01, -6.2657e-01],\n",
            "          [ 1.9176e+00, -1.0197e+00,  2.6620e-01,  ..., -1.6302e+00,\n",
            "            1.2067e+00, -3.7205e-01],\n",
            "          [-6.3073e-01,  2.9292e-01, -8.7522e-01,  ..., -8.3756e-01,\n",
            "            2.1352e+00, -6.1256e-01],\n",
            "          ...,\n",
            "          [ 1.1344e+00, -6.8024e-03, -3.7257e-01,  ..., -6.4719e-01,\n",
            "           -1.3470e+00, -2.2263e-01],\n",
            "          [-1.6567e-01,  9.5035e-01,  2.2805e-02,  ...,  8.1092e-01,\n",
            "            4.8159e-01, -5.9582e-02],\n",
            "          [ 3.9422e-01,  3.3326e-01, -7.4829e-01,  ..., -9.5052e-02,\n",
            "           -1.0145e+00, -1.4655e+00]],\n",
            "\n",
            "         [[-1.3970e+00,  1.0190e+00, -1.2460e+00,  ...,  1.0709e+00,\n",
            "            3.6584e-01, -9.0580e-01],\n",
            "          [ 4.2095e-01,  3.8289e-01, -1.4831e+00,  ..., -1.1349e+00,\n",
            "           -1.3405e+00,  7.9625e-01],\n",
            "          [-2.4810e-01, -9.3002e-02, -8.7818e-01,  ...,  1.1496e+00,\n",
            "            1.1703e-01,  1.3232e+00],\n",
            "          ...,\n",
            "          [-9.2157e-02, -7.7698e-02,  8.7702e-01,  ...,  1.8063e+00,\n",
            "            1.1107e+00, -2.4528e-01],\n",
            "          [ 9.1549e-01, -4.7808e-01,  2.9675e-01,  ..., -2.7878e-02,\n",
            "           -4.1775e-01, -6.2213e-01],\n",
            "          [-1.1345e+00, -4.2175e-01, -6.2248e-02,  ..., -1.3148e-01,\n",
            "            1.2772e+00,  1.5817e+00]],\n",
            "\n",
            "         [[ 1.3094e-01,  3.7901e-01,  1.2578e-01,  ...,  1.4712e-01,\n",
            "            1.9523e+00,  4.9293e-01],\n",
            "          [ 9.1272e-01, -4.7436e-01, -1.4016e+00,  ..., -4.9097e-01,\n",
            "           -5.3342e-01, -1.9266e+00],\n",
            "          [-5.0380e-02, -1.8046e+00, -5.7836e-01,  ...,  1.4406e+00,\n",
            "            1.0462e+00,  2.2109e-01],\n",
            "          ...,\n",
            "          [ 2.1761e+00,  1.5422e-01, -6.8084e-01,  ...,  2.4261e-01,\n",
            "           -4.4913e-01, -2.5320e+00],\n",
            "          [ 1.0757e+00,  7.2711e-01, -2.0235e+00,  ..., -6.2293e-01,\n",
            "            1.4408e+00, -1.0695e+00],\n",
            "          [ 2.6889e-01, -3.1842e-02,  2.0303e+00,  ...,  7.4532e-01,\n",
            "           -5.3190e-02, -2.6911e-01]]],\n",
            "\n",
            "\n",
            "        [[[ 2.6401e-01,  4.8792e-01,  1.0688e+00,  ..., -7.3801e-02,\n",
            "            1.5126e+00, -1.1556e+00],\n",
            "          [ 9.0854e-01,  1.8751e-01, -5.9124e-01,  ...,  7.5700e-01,\n",
            "           -1.7209e+00, -7.8388e-01],\n",
            "          [-4.1080e-01, -2.8209e-01, -6.3718e-01,  ...,  4.3061e-01,\n",
            "            1.3977e+00,  1.3564e+00],\n",
            "          ...,\n",
            "          [ 1.8808e+00, -1.7476e+00, -2.3585e-02,  ..., -7.5718e-01,\n",
            "            5.8727e-01,  2.7819e-01],\n",
            "          [-1.3011e+00,  5.4567e-01, -2.9678e+00,  ...,  4.7113e-02,\n",
            "            2.1147e-01,  1.0524e+00],\n",
            "          [-3.1367e-01, -3.3486e-01, -9.1216e-01,  ..., -1.1966e+00,\n",
            "           -1.1547e+00,  6.8194e-01]],\n",
            "\n",
            "         [[-2.2091e+00, -2.6208e-01, -5.0133e-02,  ..., -1.8903e+00,\n",
            "            1.3155e+00,  5.0622e-01],\n",
            "          [ 9.4680e-01,  1.9544e+00, -5.7362e-01,  ..., -2.9788e-01,\n",
            "           -9.3085e-01,  9.5067e-01],\n",
            "          [ 2.4002e+00,  1.5091e+00, -4.7507e-01,  ..., -1.8300e-01,\n",
            "           -1.4739e+00,  5.2943e-02],\n",
            "          ...,\n",
            "          [-2.6802e-01, -4.7839e-01,  1.6609e+00,  ...,  1.9234e+00,\n",
            "           -6.1642e-01, -1.0578e+00],\n",
            "          [ 4.2877e-01,  3.0667e+00,  8.6344e-01,  ..., -9.8564e-02,\n",
            "            8.1391e-02,  1.9464e+00],\n",
            "          [-2.3106e+00, -2.4807e-02,  1.2805e-01,  ...,  7.9960e-01,\n",
            "            1.1528e+00,  2.0956e-01]],\n",
            "\n",
            "         [[-8.0013e-02, -8.7772e-01, -9.4482e-01,  ..., -1.0659e-01,\n",
            "           -1.3377e-01, -3.4658e-01],\n",
            "          [ 6.9437e-01,  9.3122e-01, -6.8567e-01,  ..., -8.7015e-01,\n",
            "            6.9078e-01,  1.9436e+00],\n",
            "          [ 1.7669e+00, -1.0540e+00, -8.7245e-01,  ...,  2.8440e-02,\n",
            "           -6.1098e-01,  1.5727e+00],\n",
            "          ...,\n",
            "          [ 2.8993e-01,  1.5019e-01,  3.0329e-02,  ...,  2.5981e-01,\n",
            "            3.8528e-01,  9.4314e-01],\n",
            "          [-7.3278e-01, -2.5076e+00,  7.7471e-01,  ...,  1.9526e+00,\n",
            "            1.4097e+00,  4.4028e-01],\n",
            "          [-4.8387e-01,  1.4526e-01,  6.7560e-01,  ..., -1.0691e-01,\n",
            "            4.8191e-01, -4.1828e-01]],\n",
            "\n",
            "         ...,\n",
            "\n",
            "         [[ 4.4227e-01,  9.1159e-01,  1.2018e+00,  ..., -1.9124e-01,\n",
            "           -7.7606e-01,  5.6515e-01],\n",
            "          [-1.1946e-01, -7.5971e-01, -3.7361e-01,  ..., -1.2178e-01,\n",
            "            7.8398e-01, -7.9309e-01],\n",
            "          [-1.8165e+00,  3.6122e-01, -4.1656e-01,  ..., -8.1943e-01,\n",
            "           -8.8987e-01,  1.0061e+00],\n",
            "          ...,\n",
            "          [ 5.5163e-01,  1.6064e+00,  6.0448e-01,  ...,  2.8678e-02,\n",
            "            6.7180e-01, -4.8608e-01],\n",
            "          [ 3.5325e-01,  6.9920e-01, -9.7640e-01,  ...,  7.3815e-01,\n",
            "           -8.3021e-02, -6.1474e-01],\n",
            "          [ 1.4152e+00,  4.8116e-01, -8.8111e-01,  ..., -4.5096e-01,\n",
            "            5.6611e-01,  1.1322e+00]],\n",
            "\n",
            "         [[ 8.4082e-01,  2.0084e-01,  1.3264e+00,  ...,  5.6740e-01,\n",
            "            1.0590e+00, -3.8339e-01],\n",
            "          [ 1.5370e+00, -1.4926e+00, -1.1670e+00,  ...,  1.4269e+00,\n",
            "           -7.8052e-01, -1.1280e+00],\n",
            "          [ 3.2798e-01,  1.1356e+00, -1.1369e-01,  ..., -1.9930e-01,\n",
            "            2.6084e-01,  5.9176e-01],\n",
            "          ...,\n",
            "          [-8.7902e-01, -2.0681e+00,  5.5446e-01,  ...,  8.9353e-01,\n",
            "            9.5604e-02, -4.4391e-01],\n",
            "          [ 1.0768e+00, -9.9825e-01,  1.9128e-02,  ...,  7.8948e-01,\n",
            "            7.8642e-01, -4.8183e-01],\n",
            "          [-2.5788e-01, -1.4663e-01,  2.4613e+00,  ...,  8.9143e-01,\n",
            "            1.7466e+00, -1.0332e+00]],\n",
            "\n",
            "         [[ 6.2994e-01,  1.3990e+00, -6.2032e-02,  ..., -1.1667e+00,\n",
            "           -8.9137e-01,  4.6561e-01],\n",
            "          [ 4.5070e-01,  7.7295e-01,  1.5818e+00,  ..., -7.8474e-01,\n",
            "            1.2273e+00, -4.3923e-01],\n",
            "          [-2.0290e+00,  2.2423e+00, -9.2575e-01,  ..., -1.2909e+00,\n",
            "            3.4081e-01,  9.4489e-01],\n",
            "          ...,\n",
            "          [ 2.6555e-01, -6.3335e-01,  8.4897e-01,  ...,  1.5889e-01,\n",
            "            1.4181e+00,  3.3304e-01],\n",
            "          [ 3.7485e-01,  7.2698e-01, -8.1438e-01,  ..., -9.5218e-01,\n",
            "           -1.2214e+00,  1.6604e+00],\n",
            "          [ 2.0513e-01,  8.4458e-01,  3.7541e-01,  ...,  1.4006e+00,\n",
            "            1.4553e+00, -2.0408e+00]]],\n",
            "\n",
            "\n",
            "        [[[-8.6945e-02,  3.7049e-01,  3.7645e-01,  ..., -1.0860e-01,\n",
            "           -9.7631e-01, -3.4947e-01],\n",
            "          [-8.4227e-01,  1.3107e+00,  7.6530e-01,  ..., -3.3279e-01,\n",
            "           -1.3593e-01,  3.4130e-01],\n",
            "          [ 6.2291e-01,  2.3924e+00, -6.6435e-02,  ..., -2.7453e+00,\n",
            "            2.1768e-01, -3.7685e-01],\n",
            "          ...,\n",
            "          [ 7.9774e-01, -5.7448e-01,  1.2197e+00,  ..., -7.7797e-01,\n",
            "            9.7778e-01, -6.7658e-01],\n",
            "          [-3.7794e-01, -2.0909e+00,  7.7717e-01,  ..., -5.5147e-01,\n",
            "           -8.5001e-01, -1.6932e-02],\n",
            "          [ 1.0736e+00,  2.3792e+00,  9.4901e-01,  ..., -7.9062e-02,\n",
            "           -1.7099e-01, -2.6090e-01]],\n",
            "\n",
            "         [[-4.1738e-01, -8.4940e-01,  1.3723e+00,  ..., -1.1891e+00,\n",
            "           -1.8069e-01, -1.3414e-01],\n",
            "          [ 2.2187e-01, -3.3711e-02,  4.7879e-01,  ..., -1.1722e-01,\n",
            "            1.2605e+00,  1.2431e+00],\n",
            "          [ 5.6407e-01,  6.1445e-01, -8.2175e-01,  ...,  3.5157e-01,\n",
            "            1.3762e+00, -3.0762e-01],\n",
            "          ...,\n",
            "          [ 8.3257e-01, -8.9471e-02,  1.7830e-01,  ..., -5.8131e-01,\n",
            "            2.4849e-01,  9.5466e-01],\n",
            "          [ 1.7010e+00, -2.5281e+00, -1.6723e-01,  ...,  1.1637e+00,\n",
            "            1.4672e+00, -3.0843e+00],\n",
            "          [ 8.9641e-02,  6.7312e-01,  1.2372e+00,  ..., -2.4745e-01,\n",
            "            1.0910e-01, -1.3993e+00]],\n",
            "\n",
            "         [[-1.5794e+00,  6.2200e-01,  8.5357e-02,  ..., -1.7226e-01,\n",
            "           -1.6915e-01,  1.5546e+00],\n",
            "          [-1.7494e-01,  1.6479e-01,  9.5287e-01,  ...,  5.8391e-01,\n",
            "            1.0162e+00, -1.6911e-02],\n",
            "          [-3.3969e-02, -1.3399e-01, -7.7051e-01,  ...,  6.0760e-01,\n",
            "            1.1508e-01, -2.2656e-01],\n",
            "          ...,\n",
            "          [ 4.0868e-01,  1.3205e+00,  1.2107e+00,  ..., -1.4339e+00,\n",
            "           -5.0303e-01, -6.3177e-01],\n",
            "          [-2.5480e-01, -1.0095e+00,  9.4216e-01,  ..., -1.2705e+00,\n",
            "           -1.6286e+00, -2.1799e-01],\n",
            "          [ 2.8064e-01,  3.4893e-01, -7.8365e-01,  ...,  3.8227e-01,\n",
            "            9.7663e-01, -1.5932e+00]],\n",
            "\n",
            "         ...,\n",
            "\n",
            "         [[ 3.5622e-02, -2.0147e+00,  9.3780e-01,  ..., -1.4471e+00,\n",
            "            1.4145e-02,  1.5650e+00],\n",
            "          [ 1.5236e+00,  1.1912e+00, -5.0704e-01,  ...,  1.6019e+00,\n",
            "           -5.2527e-01,  1.1098e+00],\n",
            "          [-4.6739e-01, -4.3294e-01,  1.2943e-01,  ...,  8.9662e-01,\n",
            "            2.6893e-01, -4.2910e-02],\n",
            "          ...,\n",
            "          [ 3.6916e-01, -1.2906e+00, -3.1526e-01,  ...,  3.2269e-01,\n",
            "            4.7140e-01, -1.1674e+00],\n",
            "          [-1.6740e+00,  1.2256e-01, -2.9680e-02,  ..., -9.1402e-01,\n",
            "           -1.0746e+00, -8.2863e-01],\n",
            "          [ 2.7580e-01,  2.6313e-01, -1.2612e+00,  ...,  2.7107e-01,\n",
            "            2.8274e+00, -9.6619e-01]],\n",
            "\n",
            "         [[-8.9184e-02,  7.7946e-01,  3.6778e-01,  ..., -1.2960e+00,\n",
            "           -1.0594e+00,  3.6477e-01],\n",
            "          [ 9.2916e-01,  1.4370e+00, -9.8636e-01,  ...,  5.3358e-01,\n",
            "           -1.0669e+00, -4.1803e-01],\n",
            "          [ 8.7585e-01, -8.5978e-01, -3.6753e-01,  ...,  9.7352e-01,\n",
            "            8.5283e-01,  2.9593e-01],\n",
            "          ...,\n",
            "          [-8.1791e-02, -8.0352e-01, -3.3210e-01,  ...,  3.4337e-01,\n",
            "            3.1818e-01, -2.2800e+00],\n",
            "          [ 8.9603e-01, -2.0973e+00,  7.5730e-01,  ..., -1.0527e-01,\n",
            "           -1.4376e-01,  3.1008e-01],\n",
            "          [-2.8633e+00, -2.8150e+00,  1.5987e-01,  ..., -3.1663e-01,\n",
            "           -1.8517e+00,  2.4080e+00]],\n",
            "\n",
            "         [[ 1.2018e+00, -1.1707e+00, -1.2371e-01,  ..., -5.5383e-01,\n",
            "           -1.2202e+00, -1.9573e+00],\n",
            "          [ 8.7798e-02, -1.4097e+00, -1.6528e+00,  ...,  3.3355e-01,\n",
            "            4.3284e-01,  3.2870e-01],\n",
            "          [-3.9099e-02, -2.8880e-01, -3.8564e-01,  ...,  7.5758e-01,\n",
            "            1.5002e+00,  5.9265e-01],\n",
            "          ...,\n",
            "          [ 1.7299e-01, -9.2485e-02,  1.4146e+00,  ..., -3.0225e-01,\n",
            "            1.7455e+00, -2.9405e-01],\n",
            "          [ 1.6165e-01, -2.9539e-01,  1.0213e+00,  ..., -1.1581e-01,\n",
            "           -2.1495e+00,  8.6169e-01],\n",
            "          [-7.6420e-01, -3.0529e-01,  7.3223e-01,  ..., -6.1593e-01,\n",
            "            6.4651e-01, -7.0015e-01]]],\n",
            "\n",
            "\n",
            "        ...,\n",
            "\n",
            "\n",
            "        [[[ 8.7637e-01, -7.7643e-01,  1.6700e+00,  ..., -2.6470e-01,\n",
            "           -2.1284e+00, -9.0811e-02],\n",
            "          [-1.0697e+00, -4.7942e-01,  5.4489e-01,  ...,  3.5285e-01,\n",
            "            3.7744e-01,  4.0248e-01],\n",
            "          [ 9.4055e-01, -1.1331e+00, -5.6169e-01,  ...,  6.7660e-01,\n",
            "            1.0355e+00,  1.0988e+00],\n",
            "          ...,\n",
            "          [-2.0895e+00, -7.4043e-01,  1.0403e+00,  ...,  1.3703e+00,\n",
            "            5.4090e-01, -5.0814e-01],\n",
            "          [-5.9343e-01,  2.0768e+00,  1.9207e-01,  ..., -3.1427e-01,\n",
            "           -6.7569e-01,  1.1468e+00],\n",
            "          [-7.5323e-01,  1.7924e-01, -1.0035e+00,  ...,  8.3540e-01,\n",
            "            5.7733e-01,  8.5930e-01]],\n",
            "\n",
            "         [[-7.0544e-01,  4.3619e-02,  1.1303e+00,  ..., -1.6934e+00,\n",
            "           -6.9003e-01,  8.2747e-01],\n",
            "          [-1.3128e+00,  5.2168e-01, -4.9761e-01,  ..., -5.0501e-01,\n",
            "           -1.5511e+00, -1.2684e+00],\n",
            "          [ 1.3347e-01, -2.3955e-01,  2.2798e+00,  ...,  6.9810e-01,\n",
            "           -1.7384e+00, -1.6977e+00],\n",
            "          ...,\n",
            "          [-1.7534e-01, -8.7935e-01, -1.7123e+00,  ..., -1.6848e-01,\n",
            "            3.1343e-01,  1.7927e-01],\n",
            "          [-8.2154e-01,  6.8894e-01,  6.3202e-01,  ...,  1.2560e+00,\n",
            "           -5.5529e-01, -5.4889e-01],\n",
            "          [-6.8403e-01,  4.0394e-01, -2.2053e+00,  ...,  1.3613e-01,\n",
            "           -1.0166e+00,  4.8905e-01]],\n",
            "\n",
            "         [[-3.3619e-01, -4.0223e-01, -2.8993e-01,  ...,  8.6977e-01,\n",
            "            8.5962e-01, -7.1331e-02],\n",
            "          [-2.6072e-02, -1.1079e+00,  1.2264e+00,  ...,  2.2705e-01,\n",
            "           -6.1895e-01,  1.0674e+00],\n",
            "          [-1.1032e+00, -4.7020e-01,  2.6139e-01,  ...,  2.2171e+00,\n",
            "            9.0008e-02, -2.0228e+00],\n",
            "          ...,\n",
            "          [-7.8434e-01,  1.4135e-01, -1.0430e+00,  ...,  8.2448e-01,\n",
            "           -5.2467e-01,  6.9125e-01],\n",
            "          [-2.6537e-01,  9.8823e-01, -2.9739e-01,  ...,  2.5326e+00,\n",
            "            6.1451e-01, -1.3646e+00],\n",
            "          [-1.5102e+00, -2.9126e-01, -2.9955e-01,  ..., -9.1445e-01,\n",
            "            2.0070e+00, -1.9320e+00]],\n",
            "\n",
            "         ...,\n",
            "\n",
            "         [[ 1.0927e+00, -1.1577e+00, -3.4547e-01,  ..., -3.1587e-01,\n",
            "           -5.9379e-01, -9.9587e-01],\n",
            "          [ 1.5894e+00,  1.4322e-01,  2.4585e-01,  ..., -3.3777e-01,\n",
            "           -1.1156e+00,  2.3045e+00],\n",
            "          [-4.4269e-01, -1.0919e-01, -9.7486e-01,  ..., -5.2246e-02,\n",
            "           -1.1713e+00,  2.1237e+00],\n",
            "          ...,\n",
            "          [-1.1507e+00,  9.7584e-01,  1.8555e-02,  ...,  1.2493e+00,\n",
            "            1.9435e+00, -1.0525e-01],\n",
            "          [-1.9003e-01,  6.9258e-01,  6.2993e-01,  ..., -1.0415e+00,\n",
            "            3.5552e-01, -2.7065e+00],\n",
            "          [-7.6377e-01, -6.9468e-01,  1.1832e+00,  ...,  2.6093e-01,\n",
            "           -1.9090e-01,  8.1352e-01]],\n",
            "\n",
            "         [[-4.4037e-01, -1.0806e+00, -2.3196e-01,  ...,  6.4102e-01,\n",
            "            2.2031e-01,  1.8435e+00],\n",
            "          [ 1.0612e+00,  9.7002e-01, -1.3442e-01,  ...,  1.2883e+00,\n",
            "            1.0597e+00,  1.2801e-01],\n",
            "          [ 1.1222e+00, -1.2236e+00,  1.6424e+00,  ..., -2.7566e-01,\n",
            "            5.3944e-01, -3.1985e-01],\n",
            "          ...,\n",
            "          [-1.1625e+00, -7.3092e-01,  5.7142e-01,  ..., -9.3010e-01,\n",
            "            2.7717e-01, -3.5816e-01],\n",
            "          [ 6.2867e-01, -1.5099e+00, -2.9062e-01,  ..., -1.4586e+00,\n",
            "            9.0278e-01,  5.4085e-01],\n",
            "          [ 7.1259e-01,  1.1121e+00,  1.9906e-01,  ..., -9.9484e-01,\n",
            "            1.6472e+00,  1.5605e-01]],\n",
            "\n",
            "         [[-9.5900e-01, -2.7257e+00, -7.3553e-01,  ..., -6.3522e-01,\n",
            "           -1.2280e+00,  9.7434e-01],\n",
            "          [ 4.6412e-01, -1.2258e+00, -8.5590e-01,  ..., -4.7535e-01,\n",
            "            8.3232e-01,  1.6768e-01],\n",
            "          [ 8.3957e-02, -9.6191e-01,  2.9267e-01,  ..., -3.3142e-01,\n",
            "            8.0811e-01,  2.4981e-01],\n",
            "          ...,\n",
            "          [-2.0515e+00,  1.0742e-01,  1.6725e+00,  ..., -2.1951e-01,\n",
            "           -1.3466e-01,  2.9528e+00],\n",
            "          [ 2.6381e-01,  3.9758e-01, -1.8583e+00,  ...,  8.1421e-01,\n",
            "           -5.5175e-01,  1.0865e+00],\n",
            "          [-1.5701e+00, -5.3608e-01, -4.7080e-01,  ..., -1.9757e-01,\n",
            "           -1.9003e+00,  7.2825e-01]]],\n",
            "\n",
            "\n",
            "        [[[-1.5438e-02,  2.0517e-01, -3.3953e-01,  ...,  1.3074e+00,\n",
            "           -7.4222e-01,  2.0819e+00],\n",
            "          [-1.1456e+00,  6.7151e-01, -9.7903e-01,  ..., -5.3638e-01,\n",
            "            6.5235e-01, -1.6927e-01],\n",
            "          [ 3.7986e-01, -1.1832e+00,  5.0941e-01,  ..., -6.1714e-01,\n",
            "           -4.0594e-01, -1.0876e+00],\n",
            "          ...,\n",
            "          [ 1.2427e+00, -1.0207e+00, -9.5117e-01,  ..., -3.3924e-01,\n",
            "            1.0385e+00,  1.4728e+00],\n",
            "          [ 7.9083e-01,  2.8340e-01,  8.1103e-02,  ..., -6.6845e-01,\n",
            "            1.1716e+00, -2.9763e-02],\n",
            "          [ 1.3478e-01,  2.2454e+00, -1.0333e+00,  ..., -3.2576e-01,\n",
            "            4.8560e-01, -6.6679e-01]],\n",
            "\n",
            "         [[-1.7698e+00, -1.0857e+00,  1.2974e+00,  ..., -5.6508e-01,\n",
            "           -1.0487e+00,  3.6489e-01],\n",
            "          [ 3.0914e-01,  8.2846e-01,  2.1690e+00,  ...,  9.6188e-01,\n",
            "           -6.0254e-01,  1.9444e-01],\n",
            "          [ 3.4574e-01, -8.8372e-01, -9.4067e-01,  ..., -2.0852e+00,\n",
            "            1.1345e+00,  9.9213e-01],\n",
            "          ...,\n",
            "          [-5.3620e-01,  3.4083e-01, -6.5695e-01,  ..., -1.8105e-01,\n",
            "            4.4573e-01,  2.3333e-01],\n",
            "          [-1.1150e+00,  7.8932e-01, -8.8520e-01,  ..., -5.3989e-01,\n",
            "            5.3017e-02, -3.2101e-01],\n",
            "          [-1.9740e+00,  4.6764e-01, -6.8943e-01,  ...,  3.1062e-01,\n",
            "            3.7892e-01, -6.2049e-02]],\n",
            "\n",
            "         [[ 4.5186e-01, -5.0573e-01,  1.0480e+00,  ..., -4.4192e-01,\n",
            "            9.9773e-01,  1.2108e+00],\n",
            "          [-2.8863e+00,  7.5742e-01, -4.2294e-01,  ..., -1.0588e-01,\n",
            "            6.1399e-01,  4.1604e-01],\n",
            "          [-7.4410e-01, -1.0804e-01, -1.8585e+00,  ..., -1.5176e+00,\n",
            "            1.4809e+00,  4.5247e-01],\n",
            "          ...,\n",
            "          [ 1.7184e+00,  8.0422e-01, -1.5310e+00,  ..., -1.0576e+00,\n",
            "           -8.7300e-01, -1.1538e+00],\n",
            "          [ 1.5476e+00, -9.2144e-01, -1.1632e+00,  ...,  1.7312e-01,\n",
            "           -2.0631e-01,  4.9783e-01],\n",
            "          [-1.1961e+00, -5.9992e-01,  1.1254e+00,  ...,  4.7452e-01,\n",
            "            9.8217e-01,  9.2936e-02]],\n",
            "\n",
            "         ...,\n",
            "\n",
            "         [[ 4.7470e-01, -3.1686e-01, -9.8515e-01,  ...,  1.8691e-01,\n",
            "           -1.3331e+00, -4.6496e-01],\n",
            "          [ 5.6657e-01, -6.2295e-01,  7.5272e-01,  ..., -1.3229e+00,\n",
            "            1.0498e+00, -1.0548e+00],\n",
            "          [-3.4355e+00,  1.5497e-01, -1.4464e+00,  ..., -1.1922e+00,\n",
            "           -7.3662e-02, -1.8863e+00],\n",
            "          ...,\n",
            "          [-2.7992e-01, -8.1375e-01, -1.2286e+00,  ..., -2.2725e+00,\n",
            "            4.3233e-01, -2.3691e-01],\n",
            "          [ 3.4960e-02, -2.0659e+00,  1.2258e+00,  ..., -4.7613e-01,\n",
            "            6.6973e-01,  5.6697e-01],\n",
            "          [ 8.7738e-01, -6.2473e-01, -6.0874e-01,  ..., -4.2835e-01,\n",
            "           -1.1837e+00, -9.3138e-01]],\n",
            "\n",
            "         [[-6.3631e-01,  1.6742e+00,  7.0652e-02,  ..., -7.2321e-01,\n",
            "            6.4467e-01,  1.3543e+00],\n",
            "          [ 1.0364e+00,  5.5881e-02,  7.4108e-02,  ...,  7.2072e-01,\n",
            "            1.4353e+00,  2.1728e+00],\n",
            "          [-2.2642e+00,  1.2053e+00, -1.0113e+00,  ..., -2.0141e-03,\n",
            "           -1.9911e-01,  4.7038e-01],\n",
            "          ...,\n",
            "          [-4.2201e-01,  1.9508e-01, -4.4100e-01,  ..., -5.6105e-01,\n",
            "            1.5005e+00, -3.2535e-01],\n",
            "          [-2.4265e+00, -1.5205e-01, -5.7714e-01,  ..., -5.4431e-01,\n",
            "            7.1180e-02, -2.2435e-01],\n",
            "          [ 1.3871e+00,  4.5379e-01,  8.9479e-01,  ...,  1.7647e-01,\n",
            "           -2.3975e-01,  8.6741e-01]],\n",
            "\n",
            "         [[-4.1683e-01,  9.2062e-01,  9.7171e-01,  ...,  1.8414e+00,\n",
            "            1.6497e+00,  5.9404e-01],\n",
            "          [ 7.5270e-01,  1.0933e+00, -1.1332e-01,  ...,  8.7330e-01,\n",
            "            2.1262e+00, -8.7463e-01],\n",
            "          [-1.3539e+00,  3.3984e+00,  1.4548e+00,  ...,  7.6226e-01,\n",
            "            2.1178e-02,  1.8541e-01],\n",
            "          ...,\n",
            "          [ 8.5230e-01,  4.6040e-01,  3.1365e+00,  ..., -5.1309e-01,\n",
            "           -1.7801e-01, -4.8416e-01],\n",
            "          [-1.5117e+00, -1.6382e+00, -9.7167e-02,  ..., -5.0738e-01,\n",
            "           -1.1039e+00,  1.6810e-01],\n",
            "          [ 7.7167e-01, -1.0546e+00, -1.2760e-02,  ...,  9.5420e-01,\n",
            "           -1.4752e-01, -1.7209e-01]]],\n",
            "\n",
            "\n",
            "        [[[ 1.0348e+00,  1.4665e+00, -1.1268e+00,  ..., -6.7868e-01,\n",
            "           -1.0937e+00,  1.1676e+00],\n",
            "          [-1.4356e+00, -5.3279e-01, -4.7168e-01,  ...,  6.5255e-01,\n",
            "           -4.0139e-02,  3.8350e-01],\n",
            "          [-9.8481e-01, -2.2104e-01, -3.0130e-01,  ..., -6.7542e-01,\n",
            "            5.2915e-01,  6.9763e-01],\n",
            "          ...,\n",
            "          [ 3.9676e-01,  6.3435e-01,  7.9200e-01,  ...,  5.2759e-01,\n",
            "            9.9205e-01,  2.6814e-01],\n",
            "          [ 1.9440e+00,  5.7888e-01, -1.7688e-02,  ...,  9.2709e-01,\n",
            "            1.1512e-01,  7.2537e-01],\n",
            "          [-4.8535e-02,  3.6261e-01, -7.7644e-02,  ..., -6.1119e-01,\n",
            "           -3.6493e-01,  3.9765e-01]],\n",
            "\n",
            "         [[ 1.0729e+00, -1.4918e+00,  1.5745e+00,  ..., -1.1508e+00,\n",
            "           -1.2652e+00,  7.9931e-01],\n",
            "          [-9.5847e-02, -4.9627e-01, -2.3306e-01,  ...,  8.6266e-01,\n",
            "           -5.4336e-01,  4.5800e-01],\n",
            "          [ 2.5729e-01,  2.2684e-01,  1.1577e+00,  ...,  1.3250e+00,\n",
            "            6.5816e-02, -2.0844e-01],\n",
            "          ...,\n",
            "          [ 1.4418e+00, -1.5988e-02,  6.2323e-01,  ...,  3.9673e+00,\n",
            "           -5.2817e-01,  5.1635e-01],\n",
            "          [ 2.0643e+00,  2.3789e+00,  1.0671e+00,  ..., -1.2290e+00,\n",
            "            7.0325e-01,  4.7451e-02],\n",
            "          [ 1.9236e+00,  5.8484e-01, -6.3834e-01,  ..., -9.7732e-01,\n",
            "            6.6765e-01, -9.4766e-01]],\n",
            "\n",
            "         [[-1.1731e+00, -1.0245e+00,  3.9932e-01,  ..., -1.7206e+00,\n",
            "           -4.7778e-01,  1.7985e-01],\n",
            "          [-7.2447e-01, -6.2323e-01,  1.4536e+00,  ...,  1.6379e+00,\n",
            "            6.2963e-01,  7.3060e-02],\n",
            "          [ 1.6083e-01,  1.8161e-01,  1.7334e+00,  ..., -4.1560e-01,\n",
            "           -1.7092e+00,  1.3216e+00],\n",
            "          ...,\n",
            "          [-1.0092e+00,  2.2910e-01, -6.5947e-01,  ...,  1.9378e-01,\n",
            "           -1.2367e+00, -1.2037e+00],\n",
            "          [ 1.0395e+00, -1.2373e+00,  4.0730e-01,  ...,  1.0838e+00,\n",
            "           -1.1341e+00,  1.0608e+00],\n",
            "          [-1.2648e+00,  3.4112e-01, -5.1144e-01,  ...,  1.1459e+00,\n",
            "            5.5270e-01,  1.2320e+00]],\n",
            "\n",
            "         ...,\n",
            "\n",
            "         [[-1.7367e+00,  1.2963e+00, -4.0017e-01,  ..., -2.5366e+00,\n",
            "            1.9988e-01,  1.1465e+00],\n",
            "          [-5.9801e-01, -8.2458e-02,  2.8252e-01,  ...,  1.5038e+00,\n",
            "            3.9443e-01,  1.6663e+00],\n",
            "          [ 6.0123e-01,  6.3166e-01, -2.0919e-02,  ..., -4.9536e-01,\n",
            "            4.7782e-01,  9.6651e-01],\n",
            "          ...,\n",
            "          [-5.0985e-01,  2.1457e+00, -2.6685e-02,  ...,  6.4951e-01,\n",
            "           -4.0581e-01,  8.9598e-01],\n",
            "          [ 1.5150e+00, -3.5902e-01,  2.9252e-01,  ...,  7.3640e-01,\n",
            "            7.4937e-01,  6.0523e-01],\n",
            "          [ 6.4693e-01,  2.2078e+00,  1.8548e-02,  ..., -4.0983e-01,\n",
            "            9.0629e-01,  1.0558e+00]],\n",
            "\n",
            "         [[-1.1723e+00,  1.1466e+00,  1.3559e+00,  ..., -2.1722e+00,\n",
            "           -6.9016e-01,  2.3961e-01],\n",
            "          [-9.3888e-01, -9.8757e-02, -2.1403e-01,  ...,  6.8370e-02,\n",
            "            3.7569e-02,  7.5733e-01],\n",
            "          [-2.5750e-01,  2.3642e-01,  1.6118e+00,  ..., -3.4897e-01,\n",
            "           -1.1221e+00,  9.8042e-01],\n",
            "          ...,\n",
            "          [ 7.0894e-01, -6.2415e-01,  4.5983e-01,  ...,  9.4624e-01,\n",
            "           -1.8601e-01,  4.3808e-01],\n",
            "          [-5.9977e-01, -6.0989e-02,  2.0477e+00,  ..., -3.3923e-01,\n",
            "            9.6189e-01,  8.6430e-01],\n",
            "          [ 8.3275e-01, -1.9425e+00,  1.8258e-01,  ..., -8.9708e-01,\n",
            "            1.7836e-01,  7.4115e-01]],\n",
            "\n",
            "         [[ 1.7356e+00, -1.5736e+00,  9.8006e-02,  ..., -1.2138e+00,\n",
            "           -2.1825e-01, -2.1247e+00],\n",
            "          [-2.1405e-01, -1.1805e+00, -2.7447e-01,  ..., -4.1105e-01,\n",
            "           -1.9814e-01, -1.2907e+00],\n",
            "          [ 3.1268e-01, -5.5591e-01,  1.7547e+00,  ..., -8.3437e-01,\n",
            "            1.0344e+00,  7.0467e-01],\n",
            "          ...,\n",
            "          [ 1.2409e+00,  5.9848e-01,  4.2277e-01,  ..., -2.2287e+00,\n",
            "           -2.7355e-01, -2.1826e+00],\n",
            "          [-9.8813e-01,  7.8908e-01,  3.3047e-01,  ...,  2.1330e+00,\n",
            "            2.1546e+00,  1.6785e-02],\n",
            "          [ 1.9569e-01,  4.2533e-01,  2.3920e-01,  ..., -6.6577e-01,\n",
            "           -8.4575e-01, -9.7635e-01]]]])\n",
            "tensor([[[[-1.7699e-01, -9.4949e-02,  3.5838e-01,  ..., -1.6983e-01,\n",
            "            2.6814e-01, -1.7236e-01],\n",
            "          [ 3.0934e-02,  6.0378e-01,  3.1803e-01,  ...,  3.1036e-01,\n",
            "            4.0966e-01,  8.4989e-02],\n",
            "          [-7.9051e-01, -1.6819e-01,  2.3566e-01,  ..., -1.0843e+00,\n",
            "           -9.5939e-02,  4.6204e-03],\n",
            "          ...,\n",
            "          [-1.4459e-01, -7.1704e-01,  4.7048e-01,  ...,  3.6356e-03,\n",
            "           -4.6022e-01,  3.8653e-01],\n",
            "          [-8.7121e-01, -5.5898e-01, -5.3481e-01,  ..., -4.2756e-01,\n",
            "            3.5245e-01, -5.0558e-01],\n",
            "          [-8.4564e-02,  3.6126e-01, -6.3361e-01,  ..., -4.4292e-01,\n",
            "           -3.2915e-01,  8.1528e-01]],\n",
            "\n",
            "         [[-4.8981e-02, -1.0010e+00,  6.0621e-02,  ..., -9.5932e-02,\n",
            "           -2.6285e-01, -3.4270e-01],\n",
            "          [ 2.1130e-01, -1.8434e-01,  4.4789e-01,  ...,  5.8896e-01,\n",
            "            3.8381e-01,  3.0676e-01],\n",
            "          [-1.1020e-01, -4.2932e-01, -1.0711e-01,  ..., -4.0052e-02,\n",
            "            7.8952e-01, -4.0538e-01],\n",
            "          ...,\n",
            "          [-9.3432e-01,  1.0706e+00, -6.5298e-01,  ..., -7.3259e-01,\n",
            "            4.5919e-01,  1.1680e-02],\n",
            "          [-2.5699e-01, -4.9099e-01, -1.4982e-01,  ...,  1.0883e-01,\n",
            "            2.3665e-01,  1.8426e-01],\n",
            "          [ 7.3983e-02, -1.1500e+00,  3.7208e-02,  ..., -3.9375e-01,\n",
            "           -7.0957e-01,  4.7559e-01]],\n",
            "\n",
            "         [[ 5.1547e-01, -1.0146e-01,  1.4071e-02,  ...,  1.2573e-01,\n",
            "            4.7343e-01, -2.3696e-01],\n",
            "          [ 9.6690e-02,  8.4299e-01,  5.7491e-01,  ...,  1.1587e+00,\n",
            "            2.0682e-01,  2.8147e-01],\n",
            "          [ 3.6839e-01,  1.0228e+00,  1.2562e+00,  ...,  1.6520e+00,\n",
            "           -7.8038e-01,  4.9750e-01],\n",
            "          ...,\n",
            "          [ 4.1046e-01, -5.5960e-01,  5.6246e-01,  ..., -4.7399e-01,\n",
            "           -2.2258e-03,  5.1805e-01],\n",
            "          [ 2.4261e-01, -4.3461e-01,  5.8069e-01,  ..., -2.1455e-01,\n",
            "           -5.5687e-01, -2.2770e-01],\n",
            "          [ 2.5414e-01, -2.6292e-01,  8.0323e-01,  ..., -7.1925e-01,\n",
            "           -3.4715e-01,  1.1125e-01]],\n",
            "\n",
            "         ...,\n",
            "\n",
            "         [[ 3.7562e-01,  8.6725e-02, -4.6918e-01,  ...,  7.7871e-03,\n",
            "            1.4456e-01,  4.1028e-03],\n",
            "          [ 3.3010e-01, -3.8395e-01,  2.8994e-03,  ...,  5.0546e-01,\n",
            "            2.3256e-01, -2.8893e-01],\n",
            "          [ 5.5381e-01, -6.8281e-01,  3.8330e-02,  ..., -5.8437e-01,\n",
            "           -1.1949e-01, -8.0206e-01],\n",
            "          ...,\n",
            "          [ 3.6226e-01, -2.7577e-01,  2.8153e-01,  ..., -2.0703e-01,\n",
            "           -4.7726e-01,  1.5652e-01],\n",
            "          [-6.3953e-02, -4.8464e-01, -2.5407e-01,  ...,  3.3975e-01,\n",
            "           -3.0874e-01, -2.8334e-01],\n",
            "          [ 1.0060e-01,  7.2139e-01,  3.6735e-01,  ...,  4.9913e-01,\n",
            "           -5.3080e-02, -2.0221e-02]],\n",
            "\n",
            "         [[ 1.8974e-01, -2.4935e-01,  4.1410e-01,  ..., -1.2509e-02,\n",
            "           -4.3308e-01,  1.8879e-02],\n",
            "          [ 3.0706e-01, -8.0998e-01, -4.0197e-01,  ...,  6.2266e-01,\n",
            "            1.8260e-02,  3.7238e-01],\n",
            "          [-3.3071e-01, -2.2731e-01,  4.0369e-01,  ...,  9.7601e-01,\n",
            "            1.6647e-01,  2.8980e-01],\n",
            "          ...,\n",
            "          [ 1.2926e-01, -2.0193e-01,  4.8729e-01,  ..., -7.5966e-02,\n",
            "            7.0962e-01,  9.0160e-02],\n",
            "          [ 2.4185e-01,  1.0272e-01, -1.4710e-01,  ...,  3.9833e-01,\n",
            "            3.5216e-01,  6.9790e-02],\n",
            "          [-3.6948e-01, -3.8492e-01, -2.1411e-01,  ...,  2.9565e-01,\n",
            "            2.8525e-01,  5.2939e-01]],\n",
            "\n",
            "         [[-1.2540e-01, -3.8342e-01,  2.2634e-01,  ...,  4.8354e-01,\n",
            "           -7.3315e-02,  1.1822e-01],\n",
            "          [ 8.5618e-01,  2.1846e-01,  3.7437e-01,  ..., -3.8353e-01,\n",
            "            4.6662e-02, -4.4748e-01],\n",
            "          [ 2.1813e-01, -8.7266e-01,  4.1684e-01,  ...,  8.8653e-01,\n",
            "           -2.1144e-01,  3.3476e-02],\n",
            "          ...,\n",
            "          [-8.5353e-02,  3.0955e-01,  3.4070e-01,  ..., -2.5316e-02,\n",
            "            2.9895e-01,  2.1840e-01],\n",
            "          [-1.6780e-01,  4.8091e-01,  1.4109e-01,  ..., -1.1442e+00,\n",
            "            4.9281e-01, -2.8239e-01],\n",
            "          [-4.3380e-01,  6.4910e-01, -1.5622e+00,  ..., -5.9204e-01,\n",
            "            1.4176e-01, -3.7923e-01]]],\n",
            "\n",
            "\n",
            "        [[[ 4.2907e-01, -5.9472e-01, -2.6448e-01,  ..., -4.5448e-01,\n",
            "            4.0015e-01,  4.2974e-01],\n",
            "          [-7.0189e-01, -1.0266e-01,  5.2317e-02,  ...,  4.0448e-01,\n",
            "            6.0642e-01, -5.3929e-02],\n",
            "          [ 1.7268e-01, -4.0991e-01,  3.4980e-02,  ..., -3.4663e-01,\n",
            "           -2.3146e-01, -1.3080e-01],\n",
            "          ...,\n",
            "          [ 1.0426e+00, -3.9636e-01,  2.5972e-01,  ...,  5.0015e-01,\n",
            "            3.4868e-02, -1.2391e-01],\n",
            "          [ 8.2592e-01,  1.9196e-01, -9.3295e-01,  ..., -4.2723e-01,\n",
            "            2.0045e-01, -7.2757e-01],\n",
            "          [ 5.8068e-01, -3.0155e-01, -1.0915e+00,  ...,  9.1318e-02,\n",
            "            2.7761e-01,  3.0816e-01]],\n",
            "\n",
            "         [[-4.7098e-01,  1.6016e-01, -8.4921e-01,  ...,  1.2887e-01,\n",
            "            6.9744e-01,  2.1972e-02],\n",
            "          [-2.6358e-01,  1.1125e-01, -4.5085e-01,  ..., -1.6656e-01,\n",
            "           -5.4155e-02, -6.0830e-01],\n",
            "          [-5.6396e-01,  8.5009e-01,  2.9569e-01,  ..., -1.2206e+00,\n",
            "           -1.3437e+00,  6.5889e-01],\n",
            "          ...,\n",
            "          [-3.1558e-01,  2.6017e-01, -4.6709e-01,  ..., -3.7457e-01,\n",
            "           -9.6094e-01,  2.1124e-01],\n",
            "          [-3.7973e-01, -1.8182e-01, -4.2587e-01,  ...,  2.2266e-01,\n",
            "            1.4660e-01, -8.3172e-02],\n",
            "          [-1.1744e-01, -2.3136e-01,  5.0645e-01,  ..., -6.4111e-02,\n",
            "           -4.9213e-01,  8.7252e-01]],\n",
            "\n",
            "         [[ 2.7018e-01, -2.7741e-01, -7.7404e-02,  ...,  5.9005e-01,\n",
            "           -6.1312e-02,  1.8732e-01],\n",
            "          [ 4.1397e-02, -5.9135e-01, -1.7611e-01,  ...,  3.1066e-01,\n",
            "            1.0942e-01, -1.2266e-01],\n",
            "          [-2.2982e-01, -1.7114e-01, -2.8146e-01,  ..., -8.8879e-01,\n",
            "            6.6469e-01,  1.6379e-03],\n",
            "          ...,\n",
            "          [ 2.2681e-02, -6.1773e-01,  5.7905e-02,  ..., -5.2148e-01,\n",
            "           -1.4172e-01,  4.0255e-01],\n",
            "          [ 4.3450e-01, -3.1462e-01,  4.6135e-01,  ...,  8.2591e-02,\n",
            "            2.1647e-01, -4.1586e-01],\n",
            "          [ 3.4730e-01, -3.1720e-01,  1.7643e-01,  ...,  2.3237e-02,\n",
            "           -2.3485e-01,  1.1288e-02]],\n",
            "\n",
            "         ...,\n",
            "\n",
            "         [[ 2.8486e-01,  9.6539e-02,  8.7259e-02,  ..., -5.3006e-02,\n",
            "           -3.6816e-01, -1.6731e-01],\n",
            "          [-2.9684e-02, -2.3344e-01,  3.9933e-01,  ..., -1.4425e-01,\n",
            "           -2.6763e-01,  2.6144e-01],\n",
            "          [ 3.7789e-02, -2.3000e-02, -1.7918e-02,  ...,  2.9057e-01,\n",
            "           -1.3503e-01,  7.5511e-02],\n",
            "          ...,\n",
            "          [-2.6077e-02, -6.8875e-01,  3.5914e-01,  ..., -6.1342e-01,\n",
            "           -5.6534e-02,  1.4305e-01],\n",
            "          [ 1.7543e-02, -3.3200e-01, -1.1738e+00,  ..., -1.0829e-01,\n",
            "            3.0799e-01,  4.0229e-01],\n",
            "          [-1.2562e-02,  2.0029e-01, -1.9500e-01,  ..., -6.8535e-01,\n",
            "           -3.1822e-01, -4.4005e-01]],\n",
            "\n",
            "         [[ 2.8530e-01,  5.7252e-01, -1.1895e-01,  ..., -1.6774e-01,\n",
            "           -1.8504e-02, -3.0470e-01],\n",
            "          [ 1.2639e-01, -3.2013e-01, -6.6919e-01,  ..., -5.5583e-02,\n",
            "           -6.3846e-01,  2.4559e-01],\n",
            "          [-3.2934e-01,  9.9343e-01,  7.2249e-01,  ...,  1.1212e+00,\n",
            "            2.5550e-01,  1.5096e-01],\n",
            "          ...,\n",
            "          [-2.3620e-01,  5.4917e-01, -3.9043e-01,  ..., -4.1653e-01,\n",
            "            1.0985e-03, -1.8099e-02],\n",
            "          [-4.0589e-01, -2.6429e-01,  4.8800e-01,  ...,  6.8308e-01,\n",
            "           -3.7970e-01, -4.9386e-01],\n",
            "          [ 5.6137e-01,  1.9008e-01,  5.5274e-01,  ...,  1.7962e-01,\n",
            "           -2.1786e-02, -1.6299e-01]],\n",
            "\n",
            "         [[-4.7253e-01,  5.8192e-01,  1.7172e-01,  ...,  2.1424e-01,\n",
            "           -3.2057e-01, -2.3135e-01],\n",
            "          [-5.4946e-01,  3.7459e-01,  6.5267e-03,  ...,  2.9366e-01,\n",
            "           -2.8181e-01, -3.7901e-01],\n",
            "          [ 7.3560e-02,  4.5886e-01,  6.8106e-01,  ...,  5.9871e-01,\n",
            "            2.6916e-01,  1.1831e-01],\n",
            "          ...,\n",
            "          [-2.7269e-01,  5.6792e-01, -6.8794e-01,  ...,  7.4873e-01,\n",
            "           -2.1186e-02, -5.2664e-02],\n",
            "          [-8.0189e-02, -3.7539e-01,  3.5283e-01,  ...,  1.9541e-01,\n",
            "            7.0489e-01,  1.1744e-01],\n",
            "          [-6.6682e-01, -2.1424e-01,  3.9989e-01,  ..., -3.4764e-01,\n",
            "           -2.7680e-01, -8.0234e-02]]],\n",
            "\n",
            "\n",
            "        [[[-1.3526e-01, -3.7621e-01, -5.2183e-02,  ...,  2.0803e-01,\n",
            "            5.7922e-03, -3.6340e-01],\n",
            "          [-7.9289e-03, -2.3714e-01, -3.1138e-01,  ...,  7.2089e-01,\n",
            "           -2.5762e-01, -3.1519e-01],\n",
            "          [-3.5326e-01, -5.6287e-01,  1.1888e+00,  ..., -1.0675e+00,\n",
            "            1.1226e-01, -9.4720e-01],\n",
            "          ...,\n",
            "          [-3.1578e-01, -7.5193e-01,  9.6142e-01,  ...,  1.4034e+00,\n",
            "           -6.4859e-01,  4.6835e-01],\n",
            "          [-3.7114e-01, -7.7636e-01, -2.4857e-01,  ...,  9.8895e-02,\n",
            "            6.5981e-02, -3.3477e-01],\n",
            "          [ 2.1723e-02, -4.5200e-01,  9.2364e-02,  ...,  3.0282e-01,\n",
            "           -6.1555e-01,  3.0253e-01]],\n",
            "\n",
            "         [[-9.2401e-02,  9.8259e-02,  1.6332e-01,  ..., -1.1252e-02,\n",
            "           -2.2726e-01, -3.6050e-01],\n",
            "          [ 2.8643e-01,  2.5836e-02,  4.8370e-01,  ...,  5.5084e-01,\n",
            "           -5.5980e-01, -7.6695e-01],\n",
            "          [-1.7172e-01,  3.8026e-02,  9.0045e-01,  ..., -1.3077e-01,\n",
            "            1.0857e+00, -3.6557e-01],\n",
            "          ...,\n",
            "          [-9.8654e-01,  7.2389e-02,  9.9321e-01,  ..., -9.4252e-01,\n",
            "            3.5462e-01,  9.7343e-02],\n",
            "          [ 3.5853e-01, -4.3509e-01,  3.0149e-01,  ..., -5.7969e-01,\n",
            "           -5.6410e-01,  1.5042e-01],\n",
            "          [-2.2759e-01,  3.6048e-01,  5.1515e-01,  ...,  6.5022e-02,\n",
            "           -4.9577e-01, -1.9115e-02]],\n",
            "\n",
            "         [[ 3.6383e-01, -1.7403e-01, -7.0915e-01,  ..., -2.0536e-01,\n",
            "           -1.8515e-01, -1.7506e-01],\n",
            "          [ 2.9479e-01,  1.2027e+00,  2.4236e-01,  ...,  8.4228e-01,\n",
            "           -6.9416e-01,  2.1189e-01],\n",
            "          [-2.3227e-01, -4.2536e-01,  4.8214e-01,  ..., -7.3810e-01,\n",
            "            9.8716e-02, -3.3186e-01],\n",
            "          ...,\n",
            "          [ 5.1308e-01,  5.5275e-02,  4.8242e-01,  ..., -2.1614e-01,\n",
            "           -5.4784e-01, -2.5875e-01],\n",
            "          [ 2.3643e-01,  3.5797e-01,  3.2635e-01,  ..., -1.6481e-01,\n",
            "            9.5923e-02,  4.0013e-01],\n",
            "          [ 6.0928e-01, -2.0141e-01, -7.3060e-01,  ...,  1.3656e-01,\n",
            "            4.1747e-01,  4.0379e-01]],\n",
            "\n",
            "         ...,\n",
            "\n",
            "         [[-1.4075e-01,  3.6696e-02, -1.0435e-01,  ..., -1.7426e-01,\n",
            "            3.3395e-01,  9.7554e-02],\n",
            "          [ 2.1058e-01, -7.4137e-01,  1.8633e-02,  ..., -4.1718e-01,\n",
            "           -6.9052e-02,  2.8281e-01],\n",
            "          [-6.2396e-02, -1.4740e-01,  2.0113e-01,  ..., -5.0255e-02,\n",
            "           -2.8887e-01,  1.9680e-01],\n",
            "          ...,\n",
            "          [-4.0983e-02, -9.3693e-01,  1.5378e-01,  ...,  7.3077e-01,\n",
            "           -4.3136e-01, -8.0921e-01],\n",
            "          [ 6.1603e-02, -3.6759e-01,  4.4964e-01,  ..., -3.4775e-01,\n",
            "           -4.2343e-01,  6.9117e-02],\n",
            "          [ 2.2824e-01,  9.6251e-03,  2.7226e-01,  ..., -4.2954e-01,\n",
            "            3.7096e-01,  3.1754e-01]],\n",
            "\n",
            "         [[ 2.1396e-01,  1.4326e-01,  3.2556e-01,  ..., -8.2319e-02,\n",
            "            2.6378e-01, -3.7063e-01],\n",
            "          [-3.8477e-01, -3.1323e-01,  4.4913e-02,  ..., -3.9084e-01,\n",
            "            7.9924e-01,  6.1371e-02],\n",
            "          [-1.4290e+00, -3.4037e-01,  1.7029e+00,  ...,  9.0201e-01,\n",
            "            5.1018e-01, -8.7622e-02],\n",
            "          ...,\n",
            "          [ 4.0199e-03,  3.5863e-03,  5.8512e-01,  ..., -9.7044e-01,\n",
            "            4.3642e-01,  9.6606e-02],\n",
            "          [-3.0189e-01, -2.5216e-01,  2.7817e-01,  ...,  7.2777e-01,\n",
            "           -1.4388e-01, -2.4327e-01],\n",
            "          [-2.8445e-01, -3.3051e-01,  3.6617e-01,  ...,  4.1976e-02,\n",
            "           -7.6844e-02,  3.7576e-01]],\n",
            "\n",
            "         [[-2.8277e-01, -3.9203e-01,  5.0288e-02,  ...,  1.9714e-01,\n",
            "           -4.1131e-01,  1.6069e-01],\n",
            "          [ 1.2516e-02, -1.9578e-01, -7.7510e-01,  ..., -3.6999e-01,\n",
            "            1.7604e-01,  1.7806e-01],\n",
            "          [-6.4376e-01,  4.7011e-01, -1.0547e+00,  ..., -2.0802e-01,\n",
            "            7.1077e-01, -4.1548e-01],\n",
            "          ...,\n",
            "          [ 4.3956e-01,  1.9762e-01, -5.7212e-01,  ..., -3.5125e-01,\n",
            "            9.0174e-02,  1.3427e-01],\n",
            "          [-1.4272e-01,  9.3296e-02, -1.5393e-01,  ...,  4.5947e-01,\n",
            "           -5.0061e-01, -3.1574e-01],\n",
            "          [-9.9108e-01,  1.7834e-01, -1.1429e-01,  ..., -1.1430e-01,\n",
            "           -6.7232e-02,  3.3930e-01]]],\n",
            "\n",
            "\n",
            "        ...,\n",
            "\n",
            "\n",
            "        [[[-1.7446e-01,  6.9204e-02, -2.5148e-01,  ..., -4.5814e-02,\n",
            "           -7.8123e-02,  3.4686e-02],\n",
            "          [ 8.2409e-02,  2.7031e-01, -2.6854e-01,  ...,  4.8595e-02,\n",
            "            4.9968e-01, -2.7448e-01],\n",
            "          [-8.5312e-01, -6.5898e-02,  8.5368e-02,  ...,  3.2987e-01,\n",
            "           -3.5568e-01, -7.8469e-01],\n",
            "          ...,\n",
            "          [ 3.4062e-01,  8.1270e-02,  6.9875e-02,  ..., -2.9112e-01,\n",
            "           -2.6486e-01, -1.8814e-01],\n",
            "          [-1.2540e-01, -8.1500e-01, -3.4104e-01,  ..., -8.4462e-01,\n",
            "            4.6753e-02,  1.7402e-01],\n",
            "          [ 3.6357e-01,  6.6153e-01,  5.9380e-01,  ...,  2.1615e-01,\n",
            "           -2.9214e-01,  2.7769e-01]],\n",
            "\n",
            "         [[-2.9338e-01,  9.3850e-02,  2.2178e-01,  ..., -5.5193e-02,\n",
            "            1.5697e-01, -3.2893e-01],\n",
            "          [-3.7072e-01,  3.0081e-01, -1.2069e-01,  ..., -2.1514e-01,\n",
            "            1.2017e-01,  4.9525e-01],\n",
            "          [-4.4216e-01, -2.8627e-01, -1.2512e+00,  ...,  4.8328e-02,\n",
            "           -4.8685e-01, -6.8107e-01],\n",
            "          ...,\n",
            "          [-1.1121e-01,  8.0831e-01, -3.6027e-01,  ..., -1.2860e-01,\n",
            "           -2.9184e-01,  4.3351e-01],\n",
            "          [-1.0316e-01,  4.3265e-01, -4.4298e-01,  ..., -8.2396e-01,\n",
            "           -1.8698e-02, -3.0726e-01],\n",
            "          [ 2.1343e-01, -5.7870e-01,  1.1992e-01,  ...,  9.3959e-01,\n",
            "            3.4089e-01, -3.5338e-01]],\n",
            "\n",
            "         [[ 9.8283e-02, -2.7147e-01,  1.0613e-01,  ...,  7.7180e-01,\n",
            "            7.5529e-01, -1.2293e-02],\n",
            "          [-4.8765e-01, -2.9011e-01, -4.2015e-01,  ..., -2.7994e-01,\n",
            "           -8.8301e-01,  3.1205e-01],\n",
            "          [ 4.5177e-01, -9.0376e-01, -2.7813e-01,  ..., -1.1811e-01,\n",
            "            3.2782e-01, -2.3127e-01],\n",
            "          ...,\n",
            "          [ 9.3723e-01,  5.2657e-01,  6.4776e-01,  ...,  1.6114e+00,\n",
            "           -6.1517e-01,  7.1287e-01],\n",
            "          [ 4.5210e-01, -3.2448e-01,  5.4507e-01,  ..., -1.1216e+00,\n",
            "           -1.1801e-01, -3.9024e-01],\n",
            "          [-1.2176e-01,  1.0581e-01,  3.3689e-01,  ...,  3.5767e-01,\n",
            "           -7.6020e-02, -1.4911e-01]],\n",
            "\n",
            "         ...,\n",
            "\n",
            "         [[-2.3248e-01, -6.7737e-02,  1.4456e-01,  ...,  3.6206e-02,\n",
            "            1.9713e-01,  8.4254e-02],\n",
            "          [ 5.8110e-02,  4.7541e-01,  1.6543e-01,  ..., -1.6064e-01,\n",
            "            3.1529e-01, -5.5047e-02],\n",
            "          [-4.7172e-01, -1.6729e-01,  8.3630e-01,  ...,  1.0815e+00,\n",
            "            7.5645e-01,  6.2686e-01],\n",
            "          ...,\n",
            "          [-5.4084e-01,  4.0323e-01,  2.2265e-01,  ...,  4.6619e-01,\n",
            "            1.1223e+00, -5.9419e-01],\n",
            "          [-2.4393e-01,  1.8222e-01,  1.1043e+00,  ..., -6.1174e-01,\n",
            "            5.9636e-02,  3.4151e-01],\n",
            "          [-2.9451e-01,  1.5018e-01, -4.5463e-02,  ..., -5.5099e-01,\n",
            "           -5.2218e-01, -4.8571e-02]],\n",
            "\n",
            "         [[-1.2307e-01, -1.4244e-01,  1.0064e+00,  ..., -2.4356e-02,\n",
            "           -4.4271e-02, -3.7636e-01],\n",
            "          [ 5.7374e-01,  2.4456e-01, -4.4954e-01,  ...,  5.5355e-03,\n",
            "           -4.6465e-02,  4.6192e-01],\n",
            "          [-1.8703e-02, -4.1480e-01, -1.5601e-01,  ...,  4.7633e-01,\n",
            "            4.2984e-01, -2.0248e-01],\n",
            "          ...,\n",
            "          [ 3.5675e-01,  3.1671e-01, -1.4434e-01,  ...,  4.1498e-01,\n",
            "            3.5634e-01, -4.4818e-02],\n",
            "          [-1.5288e-01,  9.2972e-02,  3.0194e-01,  ..., -8.4739e-02,\n",
            "            5.7332e-01, -1.6513e-01],\n",
            "          [ 4.3610e-01,  4.0076e-01, -3.3505e-01,  ...,  2.7780e-01,\n",
            "            2.1016e-01, -3.1247e-01]],\n",
            "\n",
            "         [[ 3.0903e-01, -1.6403e-01,  2.2871e-01,  ..., -1.5702e-01,\n",
            "            1.2532e-01, -1.9184e-01],\n",
            "          [ 5.9749e-02,  9.1235e-02, -6.7411e-02,  ..., -3.6856e-01,\n",
            "           -8.1976e-01, -1.7930e-01],\n",
            "          [-1.6277e-01, -4.1266e-02,  1.3426e-01,  ...,  1.1611e+00,\n",
            "           -2.0892e-02,  1.5166e-01],\n",
            "          ...,\n",
            "          [ 6.5458e-02, -1.0583e-01,  6.5173e-01,  ..., -4.0825e-02,\n",
            "            3.7715e-02,  4.2040e-01],\n",
            "          [-2.6010e-01, -7.8396e-01,  2.0976e-01,  ..., -1.9820e-01,\n",
            "           -1.0283e-01, -1.9479e-01],\n",
            "          [ 1.3387e-01, -2.1678e-01, -8.6783e-01,  ...,  8.2697e-01,\n",
            "            1.7823e-01, -9.8824e-02]]],\n",
            "\n",
            "\n",
            "        [[[ 3.4418e-01, -1.6599e-01, -1.7179e-01,  ..., -3.1572e-01,\n",
            "            3.4050e-02, -2.4644e-01],\n",
            "          [ 1.1685e-01, -1.3955e-01, -2.0842e-01,  ...,  9.9573e-02,\n",
            "           -2.1824e-01,  4.9328e-01],\n",
            "          [-1.8749e-01,  1.1245e-02,  1.7480e-01,  ...,  6.6325e-01,\n",
            "            1.4047e-01,  3.7263e-01],\n",
            "          ...,\n",
            "          [-2.3812e-01, -3.9619e-01, -5.0428e-01,  ...,  5.6366e-01,\n",
            "            5.4605e-01, -2.5242e-02],\n",
            "          [-1.9082e-01, -3.2024e-01, -3.6861e-01,  ..., -5.7378e-01,\n",
            "            3.4827e-01,  2.9189e-01],\n",
            "          [-4.0673e-01,  9.3046e-01, -1.9530e-01,  ..., -7.2184e-02,\n",
            "           -1.0547e-01, -1.8649e-01]],\n",
            "\n",
            "         [[-1.7390e-03,  7.1798e-02, -4.1565e-01,  ...,  9.4223e-02,\n",
            "           -6.1497e-02,  1.8161e-01],\n",
            "          [ 1.1598e-01, -1.8545e-01, -4.7143e-02,  ..., -2.1542e-01,\n",
            "            2.9448e-03, -3.5492e-01],\n",
            "          [ 4.3857e-02,  7.6810e-01, -2.2297e+00,  ...,  6.5899e-02,\n",
            "           -1.0451e+00,  2.7844e-01],\n",
            "          ...,\n",
            "          [-4.3420e-01, -3.1695e-01, -6.4572e-01,  ...,  4.2852e-01,\n",
            "            2.5684e-01, -1.9833e-01],\n",
            "          [-7.7285e-01, -6.4663e-01, -3.7829e-01,  ..., -3.4738e-01,\n",
            "           -4.6290e-01, -5.1741e-01],\n",
            "          [-4.6889e-01, -7.6072e-01, -1.1122e-01,  ...,  6.8742e-01,\n",
            "            2.8251e-01,  7.6857e-02]],\n",
            "\n",
            "         [[ 3.7340e-01,  1.4154e-01,  9.0770e-02,  ..., -3.4813e-01,\n",
            "           -1.6806e-01, -2.7384e-02],\n",
            "          [-3.4453e-01, -1.3085e-01, -2.6108e-02,  ...,  8.5549e-01,\n",
            "           -8.0890e-01,  1.4891e-01],\n",
            "          [-5.3585e-01, -4.0193e-01, -8.3521e-01,  ..., -2.9865e-02,\n",
            "            1.0797e+00,  8.8138e-01],\n",
            "          ...,\n",
            "          [ 3.0731e-01,  3.4797e-01, -9.4902e-01,  ...,  5.0374e-01,\n",
            "            8.9917e-02, -9.5090e-01],\n",
            "          [ 8.7031e-03, -3.7977e-01, -4.8342e-01,  ..., -5.8176e-01,\n",
            "            2.5429e-01, -2.9816e-01],\n",
            "          [ 3.7410e-01,  1.6463e-01,  8.6638e-01,  ..., -2.5729e-01,\n",
            "           -1.1252e-01, -8.0987e-02]],\n",
            "\n",
            "         ...,\n",
            "\n",
            "         [[-8.8340e-02, -2.4876e-01,  7.8543e-01,  ...,  1.1092e-01,\n",
            "           -4.4770e-02,  3.3548e-01],\n",
            "          [ 4.2535e-02, -3.0719e-01,  2.0399e-01,  ...,  4.0164e-01,\n",
            "            5.3933e-01,  1.1428e-01],\n",
            "          [-1.8360e-01,  5.0278e-02,  3.8107e-01,  ...,  9.1982e-01,\n",
            "           -4.3576e-01, -4.7705e-02],\n",
            "          ...,\n",
            "          [-4.2521e-02,  7.8789e-01,  3.7487e-01,  ...,  3.9772e-01,\n",
            "           -1.6912e-01,  4.5546e-01],\n",
            "          [ 2.3229e-01, -3.0830e-01, -7.2104e-02,  ...,  6.3224e-02,\n",
            "           -5.4861e-01, -2.1054e-01],\n",
            "          [ 1.1831e-01, -8.3769e-02, -1.5014e+00,  ...,  4.0489e-01,\n",
            "            2.9866e-01,  1.7849e-01]],\n",
            "\n",
            "         [[-8.4939e-02,  1.0797e-02, -1.9965e-01,  ...,  2.2802e-02,\n",
            "           -5.7051e-01,  2.3989e-01],\n",
            "          [-2.9802e-01,  5.9178e-01,  1.5269e+00,  ..., -2.4005e-01,\n",
            "           -5.8846e-02, -1.4116e-01],\n",
            "          [-1.8463e-01,  5.9181e-01,  6.3909e-01,  ..., -6.7960e-01,\n",
            "           -9.6606e-02, -5.9665e-01],\n",
            "          ...,\n",
            "          [ 4.7030e-01,  6.7933e-01,  2.9919e-02,  ...,  9.6701e-01,\n",
            "           -1.3062e-01,  4.0264e-01],\n",
            "          [-3.3127e-01,  1.6300e-01,  2.8913e-01,  ...,  8.2389e-03,\n",
            "            5.7854e-01,  1.9334e-01],\n",
            "          [ 3.4019e-01,  1.8519e-01, -6.5845e-02,  ...,  4.6358e-01,\n",
            "            3.7242e-01, -5.2385e-01]],\n",
            "\n",
            "         [[ 1.5709e-02, -3.6175e-01, -6.8060e-01,  ...,  4.0092e-01,\n",
            "           -6.8521e-01,  2.7784e-02],\n",
            "          [ 1.0104e-01, -4.7450e-01, -4.0127e-01,  ..., -6.9650e-01,\n",
            "            7.2840e-01,  6.2832e-01],\n",
            "          [ 4.8926e-01,  2.6447e-01, -8.5293e-01,  ...,  8.0690e-02,\n",
            "            2.9708e-01,  4.0018e-01],\n",
            "          ...,\n",
            "          [-1.9206e-01, -4.5012e-01,  2.2218e-01,  ...,  1.3394e+00,\n",
            "            1.6355e-01, -7.6054e-01],\n",
            "          [-2.0603e-01, -1.5903e-01,  3.1618e-01,  ...,  5.8555e-01,\n",
            "            2.0887e-01,  4.4621e-01],\n",
            "          [ 1.9141e-02,  2.8380e-01, -1.8604e-01,  ..., -4.4293e-01,\n",
            "            6.8315e-01, -1.2620e-01]]],\n",
            "\n",
            "\n",
            "        [[[ 2.0272e-01,  2.4803e-02,  1.2716e-01,  ...,  1.3349e-01,\n",
            "           -1.7261e-01, -9.6022e-02],\n",
            "          [-4.2225e-01,  1.1087e+00, -5.4141e-01,  ..., -6.9515e-01,\n",
            "           -5.8896e-01,  1.1229e-01],\n",
            "          [-3.6031e-01, -2.6674e-01, -7.0266e-01,  ..., -6.0998e-01,\n",
            "           -3.0383e-01, -9.2215e-01],\n",
            "          ...,\n",
            "          [-2.0298e-01, -3.5872e-01, -1.8832e+00,  ..., -1.0087e-01,\n",
            "           -1.0425e+00, -4.6456e-01],\n",
            "          [ 1.4374e-02, -1.4601e-01, -4.8847e-01,  ..., -6.5123e-01,\n",
            "           -8.3021e-02, -1.3499e-01],\n",
            "          [-2.4821e-01,  1.3633e-01,  3.2939e-01,  ...,  1.3468e-01,\n",
            "           -1.8420e-01,  3.7053e-01]],\n",
            "\n",
            "         [[ 7.9810e-02,  1.2173e-01, -1.3473e-01,  ...,  2.1206e-01,\n",
            "            5.3114e-01,  3.9385e-02],\n",
            "          [ 8.1137e-01, -3.1207e-01, -3.4206e-01,  ...,  1.6611e-01,\n",
            "            9.7161e-01,  2.8587e-01],\n",
            "          [-5.3110e-01, -3.4524e-01,  9.3375e-02,  ...,  3.5067e-01,\n",
            "           -7.7297e-01, -3.8255e-01],\n",
            "          ...,\n",
            "          [-4.2387e-01, -3.0820e-01, -7.5977e-01,  ..., -6.9508e-01,\n",
            "            1.9196e-01, -4.2972e-01],\n",
            "          [ 3.7748e-01,  5.3325e-01, -6.0532e-03,  ..., -6.6992e-01,\n",
            "            1.3983e-01,  2.0076e-01],\n",
            "          [-2.1228e-01,  2.2147e-01, -6.2441e-01,  ...,  1.4490e-01,\n",
            "           -3.1258e-02,  2.9345e-01]],\n",
            "\n",
            "         [[ 2.7981e-01,  1.1404e-01,  6.6145e-01,  ...,  7.2359e-02,\n",
            "            1.3450e-01, -4.9123e-02],\n",
            "          [ 5.3306e-01,  7.5724e-01,  8.5452e-01,  ..., -4.5305e-01,\n",
            "            2.7617e-01,  2.9807e-01],\n",
            "          [-2.9405e-01,  2.7415e-01, -4.6438e-01,  ..., -7.0135e-01,\n",
            "            9.0735e-03, -4.9816e-01],\n",
            "          ...,\n",
            "          [ 2.6670e-01, -5.6623e-01,  1.1798e+00,  ..., -2.5405e-01,\n",
            "           -4.7351e-01, -2.5135e-01],\n",
            "          [ 1.9203e-01, -1.0954e-01, -1.1759e-01,  ..., -6.5176e-02,\n",
            "           -1.7077e-01,  4.6642e-01],\n",
            "          [ 2.0224e-01, -1.1114e-01,  9.4936e-01,  ..., -4.8697e-02,\n",
            "            8.2026e-02,  3.1735e-01]],\n",
            "\n",
            "         ...,\n",
            "\n",
            "         [[ 1.4073e-01, -6.6387e-02,  7.5112e-02,  ..., -3.0100e-02,\n",
            "           -3.6138e-01,  4.2763e-01],\n",
            "          [-1.8964e-01,  3.2717e-01, -2.8973e-02,  ..., -3.0624e-01,\n",
            "           -9.9793e-01, -2.6596e-01],\n",
            "          [-2.0429e-01,  7.5868e-01,  3.7501e-01,  ..., -3.6881e-01,\n",
            "            7.3638e-01,  5.5392e-02],\n",
            "          ...,\n",
            "          [-2.4240e-01,  7.5578e-01,  1.0433e+00,  ..., -3.5211e-01,\n",
            "            7.5116e-01, -6.1975e-01],\n",
            "          [-2.8809e-01,  5.0833e-01, -2.3120e-02,  ..., -2.6434e-01,\n",
            "           -6.6330e-01, -3.9496e-02],\n",
            "          [-4.2110e-01,  4.8214e-02, -4.2788e-01,  ...,  4.6636e-02,\n",
            "            7.1747e-01,  1.1547e-01]],\n",
            "\n",
            "         [[-3.8772e-01, -4.1108e-01, -5.1253e-01,  ...,  1.1782e-01,\n",
            "           -1.0626e-01,  6.7099e-03],\n",
            "          [-4.0474e-01, -6.3867e-01,  2.4377e-01,  ...,  6.0929e-01,\n",
            "           -8.2569e-01,  3.3818e-01],\n",
            "          [-7.2867e-01,  3.2803e-01, -8.8098e-01,  ...,  9.7693e-02,\n",
            "           -1.1673e-01, -8.6843e-01],\n",
            "          ...,\n",
            "          [-6.8575e-01, -7.4752e-01, -2.2841e-01,  ..., -5.3707e-01,\n",
            "           -2.5336e-01,  1.8449e-01],\n",
            "          [ 4.9207e-01,  2.1882e-01,  7.8963e-01,  ..., -2.0864e-01,\n",
            "            1.7230e-01,  3.4210e-02],\n",
            "          [ 4.3044e-02, -4.7618e-01, -6.5855e-01,  ...,  1.8674e-01,\n",
            "           -1.6948e-01,  2.8313e-03]],\n",
            "\n",
            "         [[ 1.1044e-01, -5.1581e-01, -4.5410e-01,  ..., -4.7818e-02,\n",
            "            1.8633e-01, -2.8232e-01],\n",
            "          [-1.7111e-01, -1.4238e-01, -6.3886e-02,  ..., -2.7795e-01,\n",
            "            1.0679e+00, -4.8935e-01],\n",
            "          [ 6.2440e-01,  3.2452e-01,  7.0391e-01,  ...,  4.0832e-01,\n",
            "           -4.8317e-01,  1.4668e-01],\n",
            "          ...,\n",
            "          [-1.0381e+00,  2.1801e-01,  8.5529e-01,  ..., -8.0799e-01,\n",
            "           -1.6612e-01,  1.7166e-01],\n",
            "          [-3.7267e-01,  5.8682e-01, -1.4958e-01,  ..., -4.0631e-01,\n",
            "            5.3087e-01, -1.9612e-01],\n",
            "          [-4.1967e-01,  1.0950e-02, -1.3873e-01,  ...,  2.8639e-01,\n",
            "            1.1664e-01, -2.4766e-01]]]], grad_fn=<MkldnnConvolutionBackward>)\n"
          ]
        }
      ],
      "source": [
        "m = nn.Conv2d(16, 33, 3, stride=2)\n",
        "\n",
        "m = nn.Conv2d(16, 33, (3, 5), stride=(2,1), padding=(4,2))\n",
        "\n",
        "m = nn.Conv2d(16, 33, (3, 5), stride=(2,1), padding=(4,2), dilation=(3,1))\n",
        "\n",
        "input = torch.randn(20, 16, 50, 100)\n",
        "print(input)\n",
        "output = m(input)\n",
        "print(output)"
      ]
    },
    {
      "cell_type": "code",
      "execution_count": 84,
      "metadata": {
        "id": "RLqGbclbp3_N"
      },
      "outputs": [
        {
          "data": {
            "text/plain": [
              "torch.Size([20, 33, 26, 100])"
            ]
          },
          "execution_count": 84,
          "metadata": {},
          "output_type": "execute_result"
        }
      ],
      "source": [
        "output.shape"
      ]
    },
    {
      "cell_type": "markdown",
      "metadata": {
        "id": "CYeGAJEuneqW"
      },
      "source": [
        "### nn.functional 패키지\n",
        "\n",
        "- 가중치를 직접 선언하여 인자로 넣어줘야함\n",
        "\n",
        "- 예시)\n",
        "  - Convolution functions\n",
        "\n",
        "  - Pooling functions\n",
        "  \n",
        "  - Non-linear activation functions\n",
        "\n",
        "  - Normalization functions\n",
        "\n",
        "  - Linear functions\n",
        "\n",
        "  - Dropout functions\n",
        "  \n",
        "  - Sparse functions\n",
        "  \n",
        "  - Distance functions\n",
        "\n",
        "  - Loss functions\n",
        "  - ..\n",
        "\n",
        "- https://pytorch.org/docs/stable/nn.functional.html"
      ]
    },
    {
      "cell_type": "code",
      "execution_count": 86,
      "metadata": {
        "id": "NpwbO9Dhpflm"
      },
      "outputs": [],
      "source": [
        "import torch \n",
        "import torch.nn.functional as F"
      ]
    },
    {
      "cell_type": "markdown",
      "metadata": {
        "id": "fUYaJ5aLqKed"
      },
      "source": [
        "- Convolution Layer 예시 (2)"
      ]
    },
    {
      "cell_type": "code",
      "execution_count": 87,
      "metadata": {
        "id": "GAWLQE2GouHP"
      },
      "outputs": [],
      "source": [
        "filters = torch.randn(8, 4, 3, 3)"
      ]
    },
    {
      "cell_type": "code",
      "execution_count": 90,
      "metadata": {
        "id": "lWmSlFBrpms1"
      },
      "outputs": [
        {
          "data": {
            "text/plain": [
              "torch.Size([1, 8, 5, 5])"
            ]
          },
          "execution_count": 90,
          "metadata": {},
          "output_type": "execute_result"
        }
      ],
      "source": [
        "inputs = torch.randn(1,4,5,5)\n",
        "conv = F.conv2d(inputs, filters, padding=1)\n",
        "conv.shape"
      ]
    },
    {
      "cell_type": "markdown",
      "metadata": {
        "id": "Wah4RsmgrRDP"
      },
      "source": [
        "## Torchvision\n",
        "\n",
        "- `transforms`: 전처리할 때 사용하는 메소드\n",
        "\n",
        "- `transforms`에서 제공하는 클래스 이외에  \n",
        "  일반적으로 클래스를 따로 만들어 전처리 단계를 진행\n",
        "  \n",
        "  - 아래의 코드에서 다양한 전처리 기술 확인  \n",
        "    https://pytorch.org/docs/stable/torchvision/transforms.html\n"
      ]
    },
    {
      "cell_type": "code",
      "execution_count": 91,
      "metadata": {
        "id": "akvq4QWmqSil"
      },
      "outputs": [],
      "source": [
        "import torch\n",
        "import torchvision\n",
        "import torchvision.transforms as transforms"
      ]
    },
    {
      "cell_type": "markdown",
      "metadata": {
        "id": "PKu5mzyTs-Qj"
      },
      "source": [
        "- 예시)\n",
        "  - `DataLoader`의 인자로 들어갈 `transform`을 미리 정의할 수 있음\n",
        "\n",
        "  - `Compose`를 통해 리스트 안에 순서대로 전처리 진행\n",
        "\n",
        "  - 대표적인 예로, `ToTensor`()를 하는 이유는  \n",
        "   <u>torchvision이 PIL Image형태로만 입력을 받기 때문에</u> 데이터 처리를 위해서 Tensor형으로 변환해야함"
      ]
    },
    {
      "cell_type": "code",
      "execution_count": 94,
      "metadata": {
        "id": "y6K7FH-Rs9my"
      },
      "outputs": [],
      "source": [
        "transform = transforms.Compose(\n",
        "    [transforms.ToTensor(),\n",
        "    transforms.Normalize(mean=(0.5), std=(0.5))])"
      ]
    },
    {
      "cell_type": "markdown",
      "metadata": {
        "id": "I4l1GvIlslKa"
      },
      "source": [
        "## utils.data\n",
        "\n",
        "- `Dataset`에는 다양한 데이터셋이 존재  \n",
        "  - MNIST, CIFAR10, ...\n",
        "\n",
        "- `DataLoader`, `Dataset`을 통해  \n",
        "  `batch_size`, `train`여부, `transform`등을 인자로 넣어 데이터를 어떻게 load할 것인지 정해줄 수 있음"
      ]
    },
    {
      "cell_type": "code",
      "execution_count": 95,
      "metadata": {
        "id": "1wsZKY7-s2Vv"
      },
      "outputs": [],
      "source": [
        "import torch\n",
        "from torch.utils.data import Dataset, DataLoader\n",
        "\n",
        "import torchvision\n",
        "import torchvision.transforms as transforms"
      ]
    },
    {
      "cell_type": "code",
      "execution_count": 96,
      "metadata": {
        "id": "lldpI2lquBu3"
      },
      "outputs": [
        {
          "name": "stdout",
          "output_type": "stream",
          "text": [
            "Downloading http://yann.lecun.com/exdb/mnist/train-images-idx3-ubyte.gz\n",
            "Downloading http://yann.lecun.com/exdb/mnist/train-images-idx3-ubyte.gz to /content/MNIST\\raw\\train-images-idx3-ubyte.gz\n"
          ]
        },
        {
          "name": "stderr",
          "output_type": "stream",
          "text": [
            "100.0%\n"
          ]
        },
        {
          "name": "stdout",
          "output_type": "stream",
          "text": [
            "Extracting /content/MNIST\\raw\\train-images-idx3-ubyte.gz to /content/MNIST\\raw\n",
            "\n",
            "Downloading http://yann.lecun.com/exdb/mnist/train-labels-idx1-ubyte.gz\n",
            "Downloading http://yann.lecun.com/exdb/mnist/train-labels-idx1-ubyte.gz to /content/MNIST\\raw\\train-labels-idx1-ubyte.gz\n"
          ]
        },
        {
          "name": "stderr",
          "output_type": "stream",
          "text": [
            "102.8%\n"
          ]
        },
        {
          "name": "stdout",
          "output_type": "stream",
          "text": [
            "Extracting /content/MNIST\\raw\\train-labels-idx1-ubyte.gz to /content/MNIST\\raw\n",
            "\n",
            "Downloading http://yann.lecun.com/exdb/mnist/t10k-images-idx3-ubyte.gz\n",
            "Downloading http://yann.lecun.com/exdb/mnist/t10k-images-idx3-ubyte.gz to /content/MNIST\\raw\\t10k-images-idx3-ubyte.gz\n"
          ]
        },
        {
          "name": "stderr",
          "output_type": "stream",
          "text": [
            "100.0%\n"
          ]
        },
        {
          "name": "stdout",
          "output_type": "stream",
          "text": [
            "Extracting /content/MNIST\\raw\\t10k-images-idx3-ubyte.gz to /content/MNIST\\raw\n",
            "\n",
            "Downloading http://yann.lecun.com/exdb/mnist/t10k-labels-idx1-ubyte.gz\n",
            "Downloading http://yann.lecun.com/exdb/mnist/t10k-labels-idx1-ubyte.gz to /content/MNIST\\raw\\t10k-labels-idx1-ubyte.gz\n"
          ]
        },
        {
          "name": "stderr",
          "output_type": "stream",
          "text": [
            "112.7%"
          ]
        },
        {
          "name": "stdout",
          "output_type": "stream",
          "text": [
            "Extracting /content/MNIST\\raw\\t10k-labels-idx1-ubyte.gz to /content/MNIST\\raw\n",
            "\n"
          ]
        },
        {
          "name": "stderr",
          "output_type": "stream",
          "text": [
            "\n",
            "C:\\Users\\poeun\\anaconda3\\envs\\pytorch\\lib\\site-packages\\torchvision\\datasets\\mnist.py:498: UserWarning: The given NumPy array is not writeable, and PyTorch does not support non-writeable tensors. This means you can write to the underlying (supposedly non-writeable) NumPy array using the tensor. You may want to copy the array to protect its data or make it writeable before converting it to a tensor. This type of warning will be suppressed for the rest of this program. (Triggered internally at  ..\\torch\\csrc\\utils\\tensor_numpy.cpp:180.)\n",
            "  return torch.from_numpy(parsed.astype(m[2], copy=False)).view(*s)\n"
          ]
        }
      ],
      "source": [
        "trainset = torchvision.datasets.MNIST(\n",
        "    root='/content/',\n",
        "    train=True,\n",
        "    download=True,\n",
        "    transform=transform)\n",
        "\n",
        "testset = torchvision.datasets.MNIST(\n",
        "    root='/content/',\n",
        "    train=False,\n",
        "    download=True,\n",
        "    transform=transform)"
      ]
    },
    {
      "cell_type": "code",
      "execution_count": 97,
      "metadata": {
        "id": "fKddZnT1uQmT"
      },
      "outputs": [],
      "source": [
        "train_loader = DataLoader(trainset, batch_size=8, shuffle=True, num_workers=2)\n",
        "test_loader = DataLoader(testset, batch_size=8, shuffle=False, num_workers=2)"
      ]
    },
    {
      "cell_type": "markdown",
      "metadata": {
        "id": "zrxymquLxeo8"
      },
      "source": [
        "- `batch_size`만큼 데이터를 하나씩 가져옴"
      ]
    },
    {
      "cell_type": "code",
      "execution_count": 98,
      "metadata": {
        "id": "hvgMIyF6uUuU"
      },
      "outputs": [
        {
          "data": {
            "text/plain": [
              "(torch.Size([8, 1, 28, 28]), torch.Size([8]))"
            ]
          },
          "execution_count": 98,
          "metadata": {},
          "output_type": "execute_result"
        }
      ],
      "source": [
        "dataiter = iter(train_loader)\n",
        "images, labels = dataiter.next()\n",
        "images.shape, labels.shape"
      ]
    },
    {
      "cell_type": "markdown",
      "metadata": {
        "id": "YPUC0a0aw6OM"
      },
      "source": [
        "<u>**(중요) torch에서는 channel(채널)이 앞에 옴**</u>\n",
        "\n",
        "- `channel first`\n",
        "\n",
        "- tensorflow, keras 등에서는 channel이 뒤에 옴(`channel last`)"
      ]
    },
    {
      "cell_type": "markdown",
      "metadata": {
        "id": "wuhylD3iyFYr"
      },
      "source": [
        "### 데이터 확인"
      ]
    },
    {
      "cell_type": "code",
      "execution_count": 100,
      "metadata": {
        "id": "C9hAQmQlul8P"
      },
      "outputs": [],
      "source": [
        "import matplotlib.pyplot as plt\n",
        "plt.style.use('seaborn-white')"
      ]
    },
    {
      "cell_type": "code",
      "execution_count": 101,
      "metadata": {
        "id": "zDcUY6o4xUQp"
      },
      "outputs": [
        {
          "data": {
            "text/plain": [
              "torch.Size([28, 28])"
            ]
          },
          "execution_count": 101,
          "metadata": {},
          "output_type": "execute_result"
        }
      ],
      "source": [
        "torch_image = torch.squeeze(images[0])\n",
        "torch_image.shape"
      ]
    },
    {
      "cell_type": "code",
      "execution_count": 102,
      "metadata": {
        "id": "MZmPWiGbxoiW"
      },
      "outputs": [
        {
          "data": {
            "text/plain": [
              "(28, 28)"
            ]
          },
          "execution_count": 102,
          "metadata": {},
          "output_type": "execute_result"
        }
      ],
      "source": [
        "image = torch_image.numpy()\n",
        "image.shape"
      ]
    },
    {
      "cell_type": "code",
      "execution_count": 103,
      "metadata": {
        "id": "AUOdd4UaxaXO"
      },
      "outputs": [
        {
          "data": {
            "text/plain": [
              "()"
            ]
          },
          "execution_count": 103,
          "metadata": {},
          "output_type": "execute_result"
        }
      ],
      "source": [
        "label = labels[0].numpy()\n",
        "label.shape # 스칼라"
      ]
    },
    {
      "cell_type": "code",
      "execution_count": 104,
      "metadata": {
        "id": "PDQfjw4wxr1z"
      },
      "outputs": [
        {
          "data": {
            "text/plain": [
              "array(6, dtype=int64)"
            ]
          },
          "execution_count": 104,
          "metadata": {},
          "output_type": "execute_result"
        }
      ],
      "source": [
        "label"
      ]
    },
    {
      "cell_type": "code",
      "execution_count": 107,
      "metadata": {
        "id": "JDCVw59ax3-A"
      },
      "outputs": [
        {
          "data": {
            "image/png": "[encoded data removed]",
            "text/plain": [
              "<Figure size 432x288 with 1 Axes>"
            ]
          },
          "metadata": {},
          "output_type": "display_data"
        }
      ],
      "source": [
        "plt.title(label)\n",
        "plt.imshow(image, 'gray')\n",
        "plt.show()"
      ]
    },
    {
      "cell_type": "markdown",
      "metadata": {
        "id": "JVcWQlxzihtS"
      },
      "source": [
        "## 각 Layer 설명"
      ]
    },
    {
      "cell_type": "code",
      "execution_count": 108,
      "metadata": {
        "id": "IGXn1_weif5H"
      },
      "outputs": [],
      "source": [
        "import torch\n",
        "import torch.nn as nn\n",
        "import torch.nn.functional as F\n",
        "import torch.optim as optim"
      ]
    },
    {
      "cell_type": "markdown",
      "metadata": {
        "id": "73kJ3heBi26y"
      },
      "source": [
        "### nn.Conv2d\n",
        "\n",
        "- `in_channels`: channel의 갯수\n",
        "\n",
        "- `out_channels`: 출력 채널의 갯수\n",
        "\n",
        "- `kernel_size`: 커널(필터) 사이즈\n",
        "\n",
        "- 텐서플로우, 케라스와 다르게 레이어의 `input`인자에도 값을 집어 넣어줘야함"
      ]
    },
    {
      "cell_type": "code",
      "execution_count": 109,
      "metadata": {
        "id": "RcHJguyFipTl"
      },
      "outputs": [
        {
          "data": {
            "text/plain": [
              "Conv2d(1, 20, kernel_size=(5, 5), stride=(1, 1))"
            ]
          },
          "execution_count": 109,
          "metadata": {},
          "output_type": "execute_result"
        }
      ],
      "source": [
        "nn.Conv2d(in_channels=1, out_channels=20, kernel_size=5, stride=1)"
      ]
    },
    {
      "cell_type": "code",
      "execution_count": 110,
      "metadata": {
        "id": "iWiJbViHjFG0"
      },
      "outputs": [
        {
          "data": {
            "text/plain": [
              "Conv2d(1, 20, kernel_size=(5, 5), stride=(1, 1))"
            ]
          },
          "execution_count": 110,
          "metadata": {},
          "output_type": "execute_result"
        }
      ],
      "source": [
        "layer = nn.Conv2d(1, 20, 5, 1).to(torch.device('cpu'))\n",
        "layer"
      ]
    },
    {
      "cell_type": "markdown",
      "metadata": {
        "id": "GxWYFm2xjUeN"
      },
      "source": [
        "- `wegiht`확인"
      ]
    },
    {
      "cell_type": "code",
      "execution_count": 111,
      "metadata": {
        "id": "za0enRbyjPzV"
      },
      "outputs": [
        {
          "data": {
            "text/plain": [
              "torch.Size([20, 1, 5, 5])"
            ]
          },
          "execution_count": 111,
          "metadata": {},
          "output_type": "execute_result"
        }
      ],
      "source": [
        "weight = layer.weight\n",
        "weight.shape"
      ]
    },
    {
      "cell_type": "markdown",
      "metadata": {
        "id": "MAZcTU2gjiCX"
      },
      "source": [
        "- `weight`는 `detach()`를 통해 꺼내줘야 `numpy()`변환이 가능"
      ]
    },
    {
      "cell_type": "code",
      "execution_count": 112,
      "metadata": {
        "id": "9eN_oUBkjT85"
      },
      "outputs": [],
      "source": [
        "weight = weight.detach()"
      ]
    },
    {
      "cell_type": "code",
      "execution_count": 113,
      "metadata": {
        "id": "kwso9tsijmz8"
      },
      "outputs": [
        {
          "data": {
            "text/plain": [
              "(20, 1, 5, 5)"
            ]
          },
          "execution_count": 113,
          "metadata": {},
          "output_type": "execute_result"
        }
      ],
      "source": [
        "weight = weight.numpy()\n",
        "weight.shape"
      ]
    },
    {
      "cell_type": "code",
      "execution_count": 114,
      "metadata": {
        "id": "mUegf6HPjdPl"
      },
      "outputs": [
        {
          "data": {
            "image/png": "[encoded data removed]",
            "text/plain": [
              "<Figure size 432x288 with 2 Axes>"
            ]
          },
          "metadata": {},
          "output_type": "display_data"
        }
      ],
      "source": [
        "plt.imshow(weight[0, 0, :, :], 'jet')\n",
        "plt.colorbar()\n",
        "plt.show()"
      ]
    },
    {
      "cell_type": "code",
      "execution_count": 115,
      "metadata": {
        "id": "DMeTOqVmcdWa"
      },
      "outputs": [
        {
          "name": "stdout",
          "output_type": "stream",
          "text": [
            "torch.Size([8, 1, 28, 28])\n"
          ]
        }
      ],
      "source": [
        "print(images.shape)"
      ]
    },
    {
      "cell_type": "code",
      "execution_count": 116,
      "metadata": {
        "id": "cvolnNsscdHs"
      },
      "outputs": [],
      "source": [
        "input_image = torch.unsqueeze(images[0], dim=0)"
      ]
    },
    {
      "cell_type": "code",
      "execution_count": 117,
      "metadata": {
        "id": "NLOAfD5mjup1"
      },
      "outputs": [],
      "source": [
        "output_data = layer(input_image)"
      ]
    },
    {
      "cell_type": "code",
      "execution_count": 118,
      "metadata": {
        "id": "r50wFkl6j1sY"
      },
      "outputs": [],
      "source": [
        "output = output_data.data"
      ]
    },
    {
      "cell_type": "code",
      "execution_count": 120,
      "metadata": {
        "id": "ZiIp-frJj2Hl"
      },
      "outputs": [
        {
          "data": {
            "text/plain": [
              "(1, 20, 24, 24)"
            ]
          },
          "execution_count": 120,
          "metadata": {},
          "output_type": "execute_result"
        }
      ],
      "source": [
        "output_arr = output.numpy()\n",
        "output_arr.shape"
      ]
    },
    {
      "cell_type": "code",
      "execution_count": 124,
      "metadata": {
        "id": "uOHMu-UQkW3a"
      },
      "outputs": [
        {
          "data": {
            "text/plain": [
              "<matplotlib.image.AxesImage at 0x2a3af137108>"
            ]
          },
          "execution_count": 124,
          "metadata": {},
          "output_type": "execute_result"
        },
        {
          "data": {
            "image/png": "[encoded data removed]",
            "text/plain": [
              "<Figure size 1080x2160 with 3 Axes>"
            ]
          },
          "metadata": {},
          "output_type": "display_data"
        }
      ],
      "source": [
        "plt.figure(figsize=(15, 30))\n",
        "\n",
        "plt.subplot(131)\n",
        "plt.title('Input')\n",
        "plt.imshow(image, 'gray')\n",
        "plt.subplot(132)\n",
        "plt.title('Weight')\n",
        "plt.imshow(weight[0,0,:,:], 'jet')\n",
        "plt.subplot(133)\n",
        "plt.title('Output')\n",
        "plt.imshow(output_arr[0,0,:,:], 'gray')\n",
        "\n",
        "# layout 하나 통과한 결과"
      ]
    },
    {
      "cell_type": "markdown",
      "metadata": {
        "id": "6sCqGmH_kwHm"
      },
      "source": [
        "### Pooling\n",
        "- `F.max_pool2d` \n",
        "  - `stride`\n",
        "\n",
        "  - `kernel_size`\n",
        "\n",
        "- `torch.nn.MaxPool2d` 도 많이 사용"
      ]
    },
    {
      "cell_type": "code",
      "execution_count": 125,
      "metadata": {
        "id": "AYqPrLH1kxQl"
      },
      "outputs": [
        {
          "data": {
            "text/plain": [
              "(28, 28)"
            ]
          },
          "execution_count": 125,
          "metadata": {},
          "output_type": "execute_result"
        }
      ],
      "source": [
        "image.shape"
      ]
    },
    {
      "cell_type": "code",
      "execution_count": 126,
      "metadata": {
        "id": "tvI8W_8Yk81S"
      },
      "outputs": [
        {
          "data": {
            "text/plain": [
              "torch.Size([1, 20, 12, 12])"
            ]
          },
          "execution_count": 126,
          "metadata": {},
          "output_type": "execute_result"
        }
      ],
      "source": [
        "pool = F.max_pool2d(output, 2, 2)\n",
        "pool.shape"
      ]
    },
    {
      "cell_type": "markdown",
      "metadata": {
        "id": "aV3HK4FulCaJ"
      },
      "source": [
        "- MaxPool Layer는 weight가 없기 때문에 바로 `numpy()`변환 가능"
      ]
    },
    {
      "cell_type": "code",
      "execution_count": 127,
      "metadata": {
        "id": "fseB_qlflBta"
      },
      "outputs": [
        {
          "data": {
            "text/plain": [
              "(1, 20, 12, 12)"
            ]
          },
          "execution_count": 127,
          "metadata": {},
          "output_type": "execute_result"
        }
      ],
      "source": [
        "pool_arr = pool.numpy()\n",
        "pool_arr.shape"
      ]
    },
    {
      "cell_type": "code",
      "execution_count": 128,
      "metadata": {
        "id": "6w8DQnNtlNCq"
      },
      "outputs": [
        {
          "data": {
            "text/plain": [
              "<matplotlib.image.AxesImage at 0x2a3af26a988>"
            ]
          },
          "execution_count": 128,
          "metadata": {},
          "output_type": "execute_result"
        },
        {
          "data": {
            "image/png": "[encoded data removed]",
            "text/plain": [
              "<Figure size 720x1080 with 2 Axes>"
            ]
          },
          "metadata": {},
          "output_type": "display_data"
        }
      ],
      "source": [
        "plt.figure(figsize=(10, 15))\n",
        "plt.subplot(121)\n",
        "plt.title('Input')\n",
        "plt.imshow(image, 'gray')\n",
        "plt.subplot(122)\n",
        "plt.title('Output')\n",
        "plt.imshow(pool_arr[00,0,:,:], 'gray')"
      ]
    },
    {
      "cell_type": "markdown",
      "metadata": {
        "id": "q7RVioKwlbH1"
      },
      "source": [
        "### Linear\n",
        "- 1d만 가능 `.view()`를 통해 1D로 펼쳐줘야함"
      ]
    },
    {
      "cell_type": "code",
      "execution_count": 129,
      "metadata": {
        "id": "Kwcedadrlcbl"
      },
      "outputs": [
        {
          "data": {
            "text/plain": [
              "torch.Size([28, 28])"
            ]
          },
          "execution_count": 129,
          "metadata": {},
          "output_type": "execute_result"
        }
      ],
      "source": [
        "image = torch.from_numpy(image)\n",
        "image.shape"
      ]
    },
    {
      "cell_type": "code",
      "execution_count": 130,
      "metadata": {
        "id": "_mYQy4I3lmAm"
      },
      "outputs": [
        {
          "data": {
            "text/plain": [
              "torch.Size([1, 784])"
            ]
          },
          "execution_count": 130,
          "metadata": {},
          "output_type": "execute_result"
        }
      ],
      "source": [
        "flatten = image.view(1, 28*28)\n",
        "flatten.shape"
      ]
    },
    {
      "cell_type": "code",
      "execution_count": 131,
      "metadata": {
        "id": "6wgSmY0Zlofk"
      },
      "outputs": [
        {
          "data": {
            "text/plain": [
              "torch.Size([1, 10])"
            ]
          },
          "execution_count": 131,
          "metadata": {},
          "output_type": "execute_result"
        }
      ],
      "source": [
        "lin = nn.Linear(784, 10)(flatten)\n",
        "lin.shape"
      ]
    },
    {
      "cell_type": "code",
      "execution_count": 132,
      "metadata": {
        "id": "LcJFqf0alsxr"
      },
      "outputs": [
        {
          "data": {
            "text/plain": [
              "tensor([[ 0.5675, -0.5826,  0.2911, -0.2903,  0.2079,  0.0962, -0.9182,  0.0198,\n",
              "          0.0881,  1.1769]], grad_fn=<AddmmBackward>)"
            ]
          },
          "execution_count": 132,
          "metadata": {},
          "output_type": "execute_result"
        }
      ],
      "source": [
        "lin"
      ]
    },
    {
      "cell_type": "code",
      "execution_count": 133,
      "metadata": {
        "id": "ewEpebSVluHz"
      },
      "outputs": [
        {
          "data": {
            "image/png": "[encoded data removed]",
            "text/plain": [
              "<Figure size 432x288 with 2 Axes>"
            ]
          },
          "metadata": {},
          "output_type": "display_data"
        }
      ],
      "source": [
        "plt.imshow(lin.detach().numpy(), 'jet')\n",
        "plt.colorbar()\n",
        "plt.show()"
      ]
    },
    {
      "cell_type": "markdown",
      "metadata": {
        "id": "0IjPKDKRl3CV"
      },
      "source": [
        "### Softmax"
      ]
    },
    {
      "cell_type": "code",
      "execution_count": 134,
      "metadata": {
        "id": "obhBb3O-lzbs"
      },
      "outputs": [],
      "source": [
        "with torch.no_grad():\n",
        "    flatten = image.view(1, 28*28)\n",
        "    lin = nn.Linear(784, 10)(flatten)\n",
        "    softmax = F.softmax(lin, dim=1)"
      ]
    },
    {
      "cell_type": "code",
      "execution_count": 135,
      "metadata": {
        "id": "ljgOEyNMmBEE"
      },
      "outputs": [
        {
          "data": {
            "text/plain": [
              "tensor([[0.0806, 0.0675, 0.0715, 0.1629, 0.0728, 0.0619, 0.1814, 0.0482, 0.0925,\n",
              "         0.1606]])"
            ]
          },
          "execution_count": 135,
          "metadata": {},
          "output_type": "execute_result"
        }
      ],
      "source": [
        "softmax"
      ]
    },
    {
      "cell_type": "code",
      "execution_count": 136,
      "metadata": {
        "id": "18ymFSRAmBo7"
      },
      "outputs": [
        {
          "data": {
            "text/plain": [
              "1.0"
            ]
          },
          "execution_count": 136,
          "metadata": {},
          "output_type": "execute_result"
        }
      ],
      "source": [
        "np.sum(softmax.numpy())"
      ]
    },
    {
      "cell_type": "markdown",
      "metadata": {
        "id": "bYh13Bnj5wEN"
      },
      "source": [
        "### F.relu\n",
        "\n",
        "- ReLU 함수를 적용하는 레이어\n",
        "\n",
        "- `nn.ReLU`로도 사용 가능"
      ]
    },
    {
      "cell_type": "code",
      "execution_count": 137,
      "metadata": {
        "id": "D4VFePpR9_Ak"
      },
      "outputs": [
        {
          "data": {
            "text/plain": [
              "torch.Size([4, 3, 28, 28])"
            ]
          },
          "execution_count": 137,
          "metadata": {},
          "output_type": "execute_result"
        }
      ],
      "source": [
        "inputs = torch.randn(4, 3, 28, 28).to(device)\n",
        "inputs.shape"
      ]
    },
    {
      "cell_type": "code",
      "execution_count": 139,
      "metadata": {
        "id": "1lKlSiaY5wZW"
      },
      "outputs": [
        {
          "data": {
            "text/plain": [
              "torch.Size([4, 20, 24, 24])"
            ]
          },
          "execution_count": 139,
          "metadata": {},
          "output_type": "execute_result"
        }
      ],
      "source": [
        "layer = nn.Conv2d(3, 20, 5, 1).to(device)\n",
        "output = F.relu(layer(inputs))\n",
        "output.shape"
      ]
    },
    {
      "cell_type": "markdown",
      "metadata": {
        "id": "0yuABl4h-yye"
      },
      "source": [
        "## Optimizer\n",
        "\n",
        "- `import torch.optim as optim`\n",
        "\n",
        "- `model`의 파라미터를 업데이트\n",
        "\n",
        "- 예시)\n",
        "  ```python\n",
        "  optimizer = torch.optim.Adam(model.parameters(), lr=1e-4, weight_decay=1e-5)\n",
        "  optimizer = optim.SGD(model.parameters(), lr=0.001)\n",
        "  ```\n",
        "\n",
        "- `.zero_grad()`로 초기화\n",
        "- `.step()`으로 업데이트\n",
        "\n"
      ]
    }
  ],
  "metadata": {
    "accelerator": "GPU",
    "colab": {
      "collapsed_sections": [],
      "name": "_9 파이토치(PyTorch) 기초.ipynb",
      "provenance": []
    },
    "interpreter": {
      "hash": "79eb8b551db2b880459dff10818154367dbe519dd3f614e5f214e4642a67d99b"
    },
    "kernelspec": {
      "display_name": "Python 3.7.11 64-bit ('pytorch': conda)",
      "name": "python3"
    },
    "language_info": {
      "codemirror_mode": {
        "name": "ipython",
        "version": 3
      },
      "file_extension": ".py",
      "mimetype": "text/x-python",
      "name": "python",
      "nbconvert_exporter": "python",
      "pygments_lexer": "ipython3",
      "version": "3.7.11"
    }
  },
  "nbformat": 4,
  "nbformat_minor": 0
}
