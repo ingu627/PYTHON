{
  "cells": [
    {
      "cell_type": "code",
      "execution_count": null,
      "metadata": {
        "collapsed": false
      },
      "outputs": [],
      "source": [
        "%matplotlib inline"
      ]
    },
    {
      "cell_type": "markdown",
      "metadata": {},
      "source": [
        "\n`\ud30c\uc774\ud1a0\uce58(PyTorch) \uae30\ubcf8 \uc775\ud788\uae30 <intro.html>`_ ||\n`\ube60\ub978 \uc2dc\uc791 <quickstart_tutorial.html>`_ ||\n`\ud150\uc11c(Tensor) <tensorqs_tutorial.html>`_ ||\n`Dataset\uacfc Dataloader <data_tutorial.html>`_ ||\n`\ubcc0\ud615(Transform) <transforms_tutorial.html>`_ ||\n`\uc2e0\uacbd\ub9dd \ubaa8\ub378 \uad6c\uc131\ud558\uae30 <buildmodel_tutorial.html>`_ ||\n`Autograd <autogradqs_tutorial.html>`_ ||\n`\ucd5c\uc801\ud654(Optimization) <optimization_tutorial.html>`_ ||\n**\ubaa8\ub378 \uc800\uc7a5\ud558\uace0 \ubd88\ub7ec\uc624\uae30**\n\n\ubaa8\ub378 \uc800\uc7a5\ud558\uace0 \ubd88\ub7ec\uc624\uae30\n==========================================================================\n\n\uc774\ubc88 \uc7a5\uc5d0\uc11c\ub294 \uc800\uc7a5\ud558\uae30\ub098 \ubd88\ub7ec\uc624\uae30\ub97c \ud1b5\ud574 \ubaa8\ub378\uc758 \uc0c1\ud0dc\ub97c \uc720\uc9c0(persist)\ud558\uace0 \ubaa8\ub378\uc758 \uc608\uce21\uc744 \uc2e4\ud589\ud558\ub294 \ubc29\ubc95\uc744 \uc54c\uc544\ubcf4\uaca0\uc2b5\ub2c8\ub2e4.\n"
      ]
    },
    {
      "cell_type": "code",
      "execution_count": null,
      "metadata": {
        "collapsed": false
      },
      "outputs": [],
      "source": [
        "import torch\nimport torch.onnx as onnx\nimport torchvision.models as models"
      ]
    },
    {
      "cell_type": "markdown",
      "metadata": {},
      "source": [
        "\ubaa8\ub378 \uac00\uc911\uce58 \uc800\uc7a5\ud558\uace0 \ubd88\ub7ec\uc624\uae30\n------------------------------------------------------------------------------------------\n\nPyTorch \ubaa8\ub378\uc740 \ud559\uc2b5\ud55c \ub9e4\uac1c\ubcc0\uc218\ub97c ``state_dict``\\ \ub77c\uace0 \ubd88\ub9ac\ub294 \ub0b4\ubd80 \uc0c1\ud0dc \uc0ac\uc804(internal state dictionary)\uc5d0 \uc800\uc7a5\ud569\ub2c8\ub2e4.\n\uc774 \uc0c1\ud0dc \uac12\ub4e4\uc740 ``torch.save`` \uba54\uc18c\ub4dc\ub97c \uc0ac\uc6a9\ud558\uc5ec \uc800\uc7a5(persist)\ud560 \uc218 \uc788\uc2b5\ub2c8\ub2e4:\n\n"
      ]
    },
    {
      "cell_type": "code",
      "execution_count": null,
      "metadata": {
        "collapsed": false
      },
      "outputs": [],
      "source": [
        "model = models.vgg16(pretrained=True)\ntorch.save(model.state_dict(), 'model_weights.pth')"
      ]
    },
    {
      "cell_type": "markdown",
      "metadata": {},
      "source": [
        "\ubaa8\ub378 \uac00\uc911\uce58\ub97c \ubd88\ub7ec\uc624\uae30 \uc704\ud574\uc11c\ub294, \uba3c\uc800 \ub3d9\uc77c\ud55c \ubaa8\ub378\uc758 \uc778\uc2a4\ud134\uc2a4(instance)\ub97c \uc0dd\uc131\ud55c \ub2e4\uc74c\uc5d0 ``load_state_dict()`` \uba54\uc18c\ub4dc\ub97c \uc0ac\uc6a9\ud558\uc5ec\n\ub9e4\uac1c\ubcc0\uc218\ub4e4\uc744 \ubd88\ub7ec\uc635\ub2c8\ub2e4.\n\n"
      ]
    },
    {
      "cell_type": "code",
      "execution_count": null,
      "metadata": {
        "collapsed": false
      },
      "outputs": [],
      "source": [
        "model = models.vgg16() # \uae30\ubcf8 \uac00\uc911\uce58\ub97c \ubd88\ub7ec\uc624\uc9c0 \uc54a\uc73c\ubbc0\ub85c pretrained=True\ub97c \uc9c0\uc815\ud558\uc9c0 \uc54a\uc2b5\ub2c8\ub2e4.\nmodel.load_state_dict(torch.load('model_weights.pth'))\nmodel.eval()"
      ]
    },
    {
      "cell_type": "markdown",
      "metadata": {},
      "source": [
        "<div class=\"alert alert-info\"><h4>Note</h4><p>\ucd94\ub860(inference)\uc744 \ud558\uae30 \uc804\uc5d0 ``model.eval()`` \uba54\uc18c\ub4dc\ub97c \ud638\ucd9c\ud558\uc5ec \ub4dc\ub86d\uc544\uc6c3(dropout)\uacfc \ubc30\uce58 \uc815\uaddc\ud654(batch normalization)\ub97c \ud3c9\uac00 \ubaa8\ub4dc(evaluation mode)\ub85c \uc124\uc815\ud574\uc57c \ud569\ub2c8\ub2e4. \uadf8\ub807\uc9c0 \uc54a\uc73c\uba74 \uc77c\uad00\uc131 \uc5c6\ub294 \ucd94\ub860 \uacb0\uacfc\uac00 \uc0dd\uc131\ub429\ub2c8\ub2e4.</p></div>\n\n"
      ]
    },
    {
      "cell_type": "markdown",
      "metadata": {},
      "source": [
        "\ubaa8\ub378\uc758 \ud615\ud0dc\ub97c \ud3ec\ud568\ud558\uc5ec \uc800\uc7a5\ud558\uace0 \ubd88\ub7ec\uc624\uae30\n------------------------------------------------------------------------------------------\n\n\ubaa8\ub378\uc758 \uac00\uc911\uce58\ub97c \ubd88\ub7ec\uc62c \ub54c, \uc2e0\uacbd\ub9dd\uc758 \uad6c\uc870\ub97c \uc815\uc758\ud558\uae30 \uc704\ud574 \ubaa8\ub378 \ud074\ub798\uc2a4\ub97c \uba3c\uc800 \uc0dd\uc131(instantiate)\ud574\uc57c \ud588\uc2b5\ub2c8\ub2e4.\n\uc774 \ud074\ub798\uc2a4\uc758 \uad6c\uc870\ub97c \ubaa8\ub378\uacfc \ud568\uaed8 \uc800\uc7a5\ud558\uace0 \uc2f6\uc73c\uba74, (``model.state_dict()``\\ \uac00 \uc544\ub2cc) ``model`` \uc744 \uc800\uc7a5 \ud568\uc218\uc5d0\n\uc804\ub2ec\ud569\ub2c8\ub2e4:\n\n"
      ]
    },
    {
      "cell_type": "code",
      "execution_count": null,
      "metadata": {
        "collapsed": false
      },
      "outputs": [],
      "source": [
        "torch.save(model, 'model.pth')"
      ]
    },
    {
      "cell_type": "markdown",
      "metadata": {},
      "source": [
        "\ub2e4\uc74c\uacfc \uac19\uc774 \ubaa8\ub378\uc744 \ubd88\ub7ec\uc62c \uc218 \uc788\uc2b5\ub2c8\ub2e4:\n\n"
      ]
    },
    {
      "cell_type": "code",
      "execution_count": null,
      "metadata": {
        "collapsed": false
      },
      "outputs": [],
      "source": [
        "model = torch.load('model.pth')"
      ]
    },
    {
      "cell_type": "markdown",
      "metadata": {},
      "source": [
        "<div class=\"alert alert-info\"><h4>Note</h4><p>\uc774 \uc811\uadfc \ubc29\uc2dd\uc740 Python `pickle <https://docs.python.org/3/library/pickle.html>`_ \ubaa8\ub4c8\uc744 \uc0ac\uc6a9\ud558\uc5ec \ubaa8\ub378\uc744 \uc9c1\ub82c\ud654(serialize)\ud558\ubbc0\ub85c, \ubaa8\ub378\uc744 \ubd88\ub7ec\uc62c \ub54c \uc2e4\uc81c \ud074\ub798\uc2a4 \uc815\uc758(definition)\ub97c \uc801\uc6a9(rely on)\ud569\ub2c8\ub2e4.</p></div>\n\n"
      ]
    },
    {
      "cell_type": "markdown",
      "metadata": {},
      "source": [
        "\ubaa8\ub378\uc744 ONNX\ub85c \ub0b4\ubcf4\ub0b4\uae30\n------------------------------------------------------------------------------------------\n\nPyTorch\ub294 \uae30\ubcf8(native) ONNX \ub0b4\ubcf4\ub0b4\uae30\ub97c \uc9c0\uc6d0\ud569\ub2c8\ub2e4. \uadf8\ub7ec\ub098 PyTorch \uc2e4\ud589 \uadf8\ub798\ud504\uc758 \ub3d9\uc801 \ud2b9\uc131(dynamic nature) \ub54c\ubb38\uc5d0,\n\ub0b4\ubcf4\ub0b4\ub294 \uacfc\uc815\uc5d0 ONNX \ubaa8\ub378\uc744 \uc0dd\uc131\ud558\uae30 \uc704\ud574 \uc2e4\ud589 \uadf8\ub798\ud504\ub97c \ud0d0\uc0c9(traverse)\ud574\uc57c \ud569\ub2c8\ub2e4.\n\uc774\ub7ec\ud55c \uc774\uc720 \ub54c\ubb38\uc5d0 \ub0b4\ubcf4\ub0b4\uae30 \ub2e8\uacc4\uc5d0\uc11c\ub294 \uc801\uc808\ud55c \ud06c\uae30\uc758 \ud14c\uc2a4\ud2b8 \ubcc0\uc218\ub97c \uc804\ub2ec\ud574\uc57c \ud569\ub2c8\ub2e4. (\uc544\ub798 \uc608\uc2dc\uc5d0\uc11c\ub294 \uc62c\ubc14\ub978 \ud06c\uae30\uc758 \uac00\uc9dc(dummy) 0 \ud150\uc11c\ub97c \uc0dd\uc131\ud569\ub2c8\ub2e4):\n\n"
      ]
    },
    {
      "cell_type": "code",
      "execution_count": null,
      "metadata": {
        "collapsed": false
      },
      "outputs": [],
      "source": [
        "input_image = torch.zeros((1,3,224,224))\nonnx.export(model, input_image, 'model.onnx')"
      ]
    },
    {
      "cell_type": "markdown",
      "metadata": {},
      "source": [
        "\ub2e4\uc591\ud55c \ud50c\ub7ab\ud3fc \ubc0f \ub2e4\uc591\ud55c \uc5b8\uc5b4\uc5d0\uc11c\uc758 \ucd94\ub860\uacfc \uac19\uc740, ONNX \ubaa8\ub378\ub85c \ud560 \uc218 \uc788\ub294 \ub2e4\uc591\ud55c \uc77c\ub4e4\uc774 \uc788\uc2b5\ub2c8\ub2e4.\n\ub354 \uc790\uc138\ud55c \ub0b4\uc6a9\uc740 `ONNX \ud29c\ud1a0\ub9ac\uc5bc <https://github.com/onnx/tutorials>`_\\ \uc744 \ucc38\uc870\ud558\uc138\uc694.\n\n\ucd95\ud558\ud569\ub2c8\ub2e4! \uc774\uc81c PyTorch \uae30\ubcf8 \ud29c\ud1a0\ub9ac\uc5bc\uc744 \ub9c8\ucce4\uc2b5\ub2c8\ub2e4.\n`\uccab \ud398\uc774\uc9c0\ub97c \ub2e4\uc2dc \ubc29\ubb38\ud558\uc5ec <quickstart_tutorial.html>`_ \uc804\uccb4 \ub0b4\uc6a9\ub4e4\uc744 \ub2e4\uc2dc \ud55c \ubc88 \uc0b4\ud3b4\ubcf4\uc138\uc694.\n\uc774 \ud29c\ud1a0\ub9ac\uc5bc\uc774 PyTorch\ub85c \ub525\ub7ec\ub2dd\uc744 \uc2dc\uc791\ud558\ub294\ub370 \ub3c4\uc6c0\uc774 \ub418\uc5c8\uae38 \ubc14\ub78d\ub2c8\ub2e4. \ud589\uc6b4\uc744 \ube55\ub2c8\ub2e4!\n\n\n"
      ]
    }
  ],
  "metadata": {
    "kernelspec": {
      "display_name": "Python 3",
      "language": "python",
      "name": "python3"
    },
    "language_info": {
      "codemirror_mode": {
        "name": "ipython",
        "version": 3
      },
      "file_extension": ".py",
      "mimetype": "text/x-python",
      "name": "python",
      "nbconvert_exporter": "python",
      "pygments_lexer": "ipython3",
      "version": "3.8.8"
    }
  },
  "nbformat": 4,
  "nbformat_minor": 0
}