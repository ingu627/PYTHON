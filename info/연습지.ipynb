{
 "cells": [
  {
   "cell_type": "code",
   "execution_count": 8,
   "source": [
    "import urllib.request as req\r\n",
    "import urllib.parse as up\r\n",
    "import pandas as pd\r\n",
    "import requests\r\n",
    "from bs4 import BeautifulSoup"
   ],
   "outputs": [],
   "metadata": {}
  },
  {
   "cell_type": "code",
   "execution_count": 121,
   "source": [
    "url = 'http://apis.data.go.kr/B552657/ErmctInfoInqireService/getEmrrmRltmUsefulSckbdInfoInqire'\r\n",
    "\r\n",
    "sidos = ['서울특별시', '부산광역시', '인천광역시', '대구광역시', '광주광역시', '대전광역시', '울산광역시',\r\n",
    "'경기도', '강원도', '충청북도', '충청남도', '전라북도', '전라남도', '경상북도', '경상남도',\r\n",
    "'세종특별자치시' ]\r\n",
    "\r\n",
    "for sido in sidos:\r\n",
    "    queryParams = '?' + '&ServiceKey=' + 'sDDx7qUKhfoBuzwVrOBez9MhUkvl%2B1Wnwaw7VaqNCfRa5KJ1R%2B2qf%2BSEHZgXUtZpscMDGwBV6CcN9RCtZSoZUQ%3D%3D' \\\r\n",
    "        + '&STAGE1=' + f'{sido}' \\\r\n",
    "        # + '&STAGE2=' + '영등포구' \\\r\n",
    "        # + '&pageNo=' + '1' \\\r\n",
    "        # + '&numOfRows=' + '10'\r\n",
    "\r\n",
    "    url = url + queryParams\r\n",
    "\r\n",
    "    result = requests.get(url)\r\n",
    "    print(result.content)\r\n",
    "    bs_obj = BeautifulSoup(result.content, 'html.parser')\r\n",
    "    print(bs_obj)\r\n",
    "\r\n"
   ],
   "outputs": [
    {
     "output_type": "stream",
     "name": "stdout",
     "text": [
      "b'<?xml version=\"1.0\" encoding=\"UTF-8\" standalone=\"yes\"?><response><header><resultCode>00</resultCode><resultMsg>NORMAL SERVICE.</resultMsg></header><body><items><item><dutyName>\\xec\\x97\\xb0\\xec\\x84\\xb8\\xeb\\x8c\\x80\\xed\\x95\\x99\\xea\\xb5\\x90\\xec\\x9d\\x98\\xea\\xb3\\xbc\\xeb\\x8c\\x80\\xed\\x95\\x99\\xea\\xb0\\x95\\xeb\\x82\\xa8\\xec\\x84\\xb8\\xeb\\xb8\\x8c\\xeb\\x9e\\x80\\xec\\x8a\\xa4\\xeb\\xb3\\x91\\xec\\x9b\\x90</dutyName><dutyTel3>02-2019-3333</dutyTel3><hpid>A1100015</hpid><hv1>0</hv1><hv10>Y</hv10><hv11>Y</hv11><hv12>0</hv12><hv2>0</hv2><hv3>0</hv3><hv4>0</hv4><hv5>Y</hv5><hv6>2</hv6><hv7>Y</hv7><hv8>0</hv8><hv9>0</hv9><hvamyn>Y</hvamyn><hvangioayn>N</hvangioayn><hvcc>0</hvcc><hvccc>0</hvccc><hvctayn>Y</hvctayn><hvec>0</hvec><hvgc>129</hvgc><hvicc>4</hvicc><hvidate>20210815225016</hvidate><hvmriayn>Y</hvmriayn><hvncc>3</hvncc><hvoc>23</hvoc><hvventiayn>Y</hvventiayn><phpid>A1100015</phpid><rnum>1</rnum></item><item><dutyName>\\xec\\x82\\xbc\\xec\\x84\\xb1\\xec\\x84\\x9c\\xec\\x9a\\xb8\\xeb\\xb3\\x91\\xec\\x9b\\x90</dutyName><dutyTel3>02-3410-2060</dutyTel3><hpid>A1100010</hpid><hv1>0</hv1><hv10>Y</hv10><hv11>Y</hv11><hv12>0</hv12><hv2>2</hv2><hv3>7</hv3><hv4>0</hv4><hv5>Y</hv5><hv6>7</hv6><hv7>Y</hv7><hv8>0</hv8><hv9>0</hv9><hvamyn>Y</hvamyn><hvangioayn>N</hvangioayn><hvcc>0</hvcc><hvccc>17</hvccc><hvctayn>Y</hvctayn><hvec>17</hvec><hvgc>235</hvgc><hvicc>5</hvicc><hvidate>20210815225231</hvidate><hvmriayn>Y</hvmriayn><hvncc>5</hvncc><hvoc>56</hvoc><hvventiayn>Y</hvventiayn><phpid>A1100010</phpid><rnum>2</rnum></item><item><dutyName>\\xea\\xb0\\x95\\xeb\\x8f\\x99\\xea\\xb2\\xbd\\xed\\x9d\\xac\\xeb\\x8c\\x80\\xed\\x95\\x99\\xea\\xb5\\x90\\xec\\x9d\\x98\\xeb\\x8c\\x80\\xeb\\xb3\\x91\\xec\\x9b\\x90</dutyName><dutyTel3>02-440-8282</dutyTel3><hpid>A1100043</hpid><hv1>0</hv1><hv10>Y</hv10><hv11>Y</hv11><hv12>0</hv12><hv2>0</hv2><hv3>0</hv3><hv4>0</hv4><hv5>Y</hv5><hv6>0</hv6><hv7>Y</hv7><hv8>0</hv8><hv9>0</hv9><hvamyn>Y</hvamyn><hvangioayn>N</hvangioayn><hvcc>0</hvcc><hvccc>0</hvccc><hvctayn>Y</hvctayn><hvec>10</hvec><hvgc>213</hvgc><hvicc>6</hvicc><hvidate>20210815225103</hvidate><hvmriayn>Y</hvmriayn><hvncc>1</hvncc><hvoc>15</hvoc><hvventiayn>Y</hvventiayn><phpid>A1100043</phpid><rnum>3</rnum></item><item><dutyName>\\xec\\x84\\xb1\\xec\\x8b\\xac\\xec\\x9d\\x98\\xeb\\xa3\\x8c\\xec\\x9e\\xac\\xeb\\x8b\\xa8\\xea\\xb0\\x95\\xeb\\x8f\\x99\\xec\\x84\\xb1\\xec\\x8b\\xac\\xeb\\xb3\\x91\\xec\\x9b\\x90</dutyName><dutyTel3>02-2224-2358</dutyTel3><hpid>A1100028</hpid><hv1>0</hv1><hv10>Y</hv10><hv11>Y</hv11><hv12>0</hv12><hv2>-1</hv2><hv3>0</hv3><hv4>0</hv4><hv5>Y</hv5><hv6>0</hv6><hv7>Y</hv7><hv8>0</hv8><hv9>0</hv9><hvamyn>Y</hvamyn><hvangioayn>N</hvangioayn><hvcc>0</hvcc><hvccc>0</hvccc><hvctayn>Y</hvctayn><hvec>15</hvec><hvgc>264</hvgc><hvicc>0</hvicc><hvidate>20210815225255</hvidate><hvmriayn>Y</hvmriayn><hvncc>1</hvncc><hvoc>13</hvoc><hvventiayn>Y</hvventiayn><phpid>A1100028</phpid><rnum>4</rnum></item><item><dutyName>\\xed\\x95\\x9c\\xea\\xb5\\xad\\xeb\\xb3\\xb4\\xed\\x9b\\x88\\xeb\\xb3\\xb5\\xec\\xa7\\x80\\xec\\x9d\\x98\\xeb\\xa3\\x8c\\xea\\xb3\\xb5\\xeb\\x8b\\xa8\\xec\\xa4\\x91\\xec\\x95\\x99\\xeb\\xb3\\xb4\\xed\\x9b\\x88\\xeb\\xb3\\x91\\xec\\x9b\\x90</dutyName><dutyTel3>02-2225-1100</dutyTel3><hpid>A1100053</hpid><hv1>0</hv1><hv10>0</hv10><hv11>0</hv11><hv12>0</hv12><hv2>3</hv2><hv3>7</hv3><hv4>0</hv4><hv5>Y</hv5><hv6>5</hv6><hv7>Y</hv7><hv8>0</hv8><hv9>0</hv9><hvamyn>Y</hvamyn><hvangioayn>N</hvangioayn><hvcc>0</hvcc><hvccc>0</hvccc><hvctayn>Y</hvctayn><hvec>22</hvec><hvgc>271</hvgc><hvicc>0</hvicc><hvidate>20210815225222</hvidate><hvmriayn>Y</hvmriayn><hvncc>0</hvncc><hvoc>14</hvoc><hvventiayn>Y</hvventiayn><phpid>A1100053</phpid><rnum>5</rnum></item><item><dutyName>\\xec\\x9d\\xb4\\xed\\x99\\x94\\xec\\x97\\xac\\xec\\x9e\\x90\\xeb\\x8c\\x80\\xed\\x95\\x99\\xea\\xb5\\x90\\xec\\x9d\\x98\\xea\\xb3\\xbc\\xeb\\x8c\\x80\\xed\\x95\\x99\\xeb\\xb6\\x80\\xec\\x86\\x8d\\xec\\x84\\x9c\\xec\\x9a\\xb8\\xeb\\xb3\\x91\\xec\\x9b\\x90</dutyName><dutyTel3>02-6986-5119</dutyTel3><hpid>A1120796</hpid><hv1>0</hv1><hv10>Y</hv10><hv11>Y</hv11><hv12>0</hv12><hv2>0</hv2><hv3>0</hv3><hv4>0</hv4><hv5>Y</hv5><hv6>0</hv6><hv7>Y</hv7><hv8>0</hv8><hv9>0</hv9><hvamyn>Y</hvamyn><hvangioayn>N</hvangioayn><hvcc>0</hvcc><hvccc>0</hvccc><hvctayn>Y</hvctayn><hvec>5</hvec><hvgc>264</hvgc><hvicc>0</hvicc><hvidate>20210815225223</hvidate><hvmriayn>Y</hvmriayn><hvncc>11</hvncc><hvoc>14</hvoc><hvventiayn>Y</hvventiayn><phpid>A1120796</phpid><rnum>6</rnum></item><item><dutyName>\\xeb\\xb6\\x80\\xeb\\xaf\\xbc\\xeb\\xb3\\x91\\xec\\x9b\\x90</dutyName><dutyTel3>02-2620-0119</dutyTel3><hpid>A1100036</hpid><hv1>0</hv1><hv10>0</hv10><hv11>0</hv11><hv12>0</hv12><hv2>0</hv2><hv3>0</hv3><hv4>0</hv4><hv5>Y</hv5><hv6>0</hv6><hv7>Y</hv7><hv8>0</hv8><hv9>0</hv9><hvamyn>Y</hvamyn><hvangioayn>N</hvangioayn><hvcc>0</hvcc><hvccc>0</hvccc><hvctayn>Y</hvctayn><hvec>7</hvec><hvgc>97</hvgc><hvicc>10</hvicc><hvidate>20210815225050</hvidate><hvmriayn>Y</hvmriayn><hvncc>0</hvncc><hvoc>8</hvoc><hvventiayn>Y</hvventiayn><phpid>A1100036</phpid><rnum>7</rnum></item><item><dutyName>\\xec\\x97\\x90\\xec\\x9d\\xb4\\xec\\xb9\\x98\\xed\\x94\\x8c\\xeb\\x9f\\xac\\xec\\x8a\\xa4\\xec\\x96\\x91\\xec\\xa7\\x80\\xeb\\xb3\\x91\\xec\\x9b\\x90</dutyName><dutyTel3>070-4665-9119</dutyTel3><hpid>A1100041</hpid><hv1>0</hv1><hv10>0</hv10><hv11>0</hv11><hv12>0</hv12><hv2>0</hv2><hv3>0</hv3><hv4>0</hv4><hv5>Y</hv5><hv6>0</hv6><hv7>Y</hv7><hv8>0</hv8><hv9>0</hv9><hvamyn>Y</hvamyn><hvangioayn>N</hvangioayn><hvcc>0</hvcc><hvccc>0</hvccc><hvctayn>Y</hvctayn><hvec>12</hvec><hvgc>58</hvgc><hvicc>3</hvicc><hvidate>20210815225310</hvidate><hvmriayn>Y</hvmriayn><hvncc>0</hvncc><hvoc>6</hvoc><hvventiayn>Y</hvventiayn><phpid>A1100041</phpid><rnum>8</rnum></item><item><dutyName>\\xea\\xb1\\xb4\\xea\\xb5\\xad\\xeb\\x8c\\x80\\xed\\x95\\x99\\xea\\xb5\\x90\\xeb\\xb3\\x91\\xec\\x9b\\x90</dutyName><dutyTel3>02-2030-5555</dutyTel3><hpid>A1100002</hpid><hv1>0</hv1><hv10>Y</hv10><hv11>Y</hv11><hv12>0</hv12><hv2>3</hv2><hv3>9</hv3><hv4>0</hv4><hv5>Y</hv5><hv6>0</hv6><hv7>Y</hv7><hv8>0</hv8><hv9>0</hv9><hvamyn>Y</hvamyn><hvangioayn>N</hvangioayn><hvcc>0</hvcc><hvccc>0</hvccc><hvctayn>Y</hvctayn><hvec>9</hvec><hvgc>244</hvgc><hvicc>0</hvicc><hvidate>20210815224935</hvidate><hvmriayn>Y</hvmriayn><hvncc>6</hvncc><hvoc>18</hvoc><hvventiayn>Y</hvventiayn><phpid>A1100002</phpid><rnum>9</rnum></item><item><dutyName>\\xed\\x98\\x9c\\xeb\\xaf\\xbc\\xeb\\xb3\\x91\\xec\\x9b\\x90</dutyName><dutyTel3>02-2049-9119</dutyTel3><hpid>A1100051</hpid><hv1>0</hv1><hv10>0</hv10><hv11>0</hv11><hv12>0</hv12><hv2>0</hv2><hv3>0</hv3><hv4>0</hv4><hv5>Y</hv5><hv6>0</hv6><hv7>0</hv7><hv8>0</hv8><hv9>0</hv9><hvamyn>Y</hvamyn><hvangioayn>N</hvangioayn><hvcc>0</hvcc><hvccc>0</hvccc><hvctayn>Y</hvctayn><hvec>9</hvec><hvgc>85</hvgc><hvicc>5</hvicc><hvidate>20210815225018</hvidate><hvmriayn>Y</hvmriayn><hvncc>0</hvncc><hvoc>5</hvoc><hvventiayn>Y</hvventiayn><phpid>A1100051</phpid><rnum>10</rnum></item></items><numOfRows>10</numOfRows><pageNo>1</pageNo><totalCount>49</totalCount></body></response>'\n",
      "<?xml version=\"1.0\" encoding=\"UTF-8\" standalone=\"yes\"?><response><header><resultcode>00</resultcode><resultmsg>NORMAL SERVICE.</resultmsg></header><body><items><item><dutyname>연세대학교의과대학강남세브란스병원</dutyname><dutytel3>02-2019-3333</dutytel3><hpid>A1100015</hpid><hv1>0</hv1><hv10>Y</hv10><hv11>Y</hv11><hv12>0</hv12><hv2>0</hv2><hv3>0</hv3><hv4>0</hv4><hv5>Y</hv5><hv6>2</hv6><hv7>Y</hv7><hv8>0</hv8><hv9>0</hv9><hvamyn>Y</hvamyn><hvangioayn>N</hvangioayn><hvcc>0</hvcc><hvccc>0</hvccc><hvctayn>Y</hvctayn><hvec>0</hvec><hvgc>129</hvgc><hvicc>4</hvicc><hvidate>20210815225016</hvidate><hvmriayn>Y</hvmriayn><hvncc>3</hvncc><hvoc>23</hvoc><hvventiayn>Y</hvventiayn><phpid>A1100015</phpid><rnum>1</rnum></item><item><dutyname>삼성서울병원</dutyname><dutytel3>02-3410-2060</dutytel3><hpid>A1100010</hpid><hv1>0</hv1><hv10>Y</hv10><hv11>Y</hv11><hv12>0</hv12><hv2>2</hv2><hv3>7</hv3><hv4>0</hv4><hv5>Y</hv5><hv6>7</hv6><hv7>Y</hv7><hv8>0</hv8><hv9>0</hv9><hvamyn>Y</hvamyn><hvangioayn>N</hvangioayn><hvcc>0</hvcc><hvccc>17</hvccc><hvctayn>Y</hvctayn><hvec>17</hvec><hvgc>235</hvgc><hvicc>5</hvicc><hvidate>20210815225231</hvidate><hvmriayn>Y</hvmriayn><hvncc>5</hvncc><hvoc>56</hvoc><hvventiayn>Y</hvventiayn><phpid>A1100010</phpid><rnum>2</rnum></item><item><dutyname>강동경희대학교의대병원</dutyname><dutytel3>02-440-8282</dutytel3><hpid>A1100043</hpid><hv1>0</hv1><hv10>Y</hv10><hv11>Y</hv11><hv12>0</hv12><hv2>0</hv2><hv3>0</hv3><hv4>0</hv4><hv5>Y</hv5><hv6>0</hv6><hv7>Y</hv7><hv8>0</hv8><hv9>0</hv9><hvamyn>Y</hvamyn><hvangioayn>N</hvangioayn><hvcc>0</hvcc><hvccc>0</hvccc><hvctayn>Y</hvctayn><hvec>10</hvec><hvgc>213</hvgc><hvicc>6</hvicc><hvidate>20210815225103</hvidate><hvmriayn>Y</hvmriayn><hvncc>1</hvncc><hvoc>15</hvoc><hvventiayn>Y</hvventiayn><phpid>A1100043</phpid><rnum>3</rnum></item><item><dutyname>성심의료재단강동성심병원</dutyname><dutytel3>02-2224-2358</dutytel3><hpid>A1100028</hpid><hv1>0</hv1><hv10>Y</hv10><hv11>Y</hv11><hv12>0</hv12><hv2>-1</hv2><hv3>0</hv3><hv4>0</hv4><hv5>Y</hv5><hv6>0</hv6><hv7>Y</hv7><hv8>0</hv8><hv9>0</hv9><hvamyn>Y</hvamyn><hvangioayn>N</hvangioayn><hvcc>0</hvcc><hvccc>0</hvccc><hvctayn>Y</hvctayn><hvec>15</hvec><hvgc>264</hvgc><hvicc>0</hvicc><hvidate>20210815225255</hvidate><hvmriayn>Y</hvmriayn><hvncc>1</hvncc><hvoc>13</hvoc><hvventiayn>Y</hvventiayn><phpid>A1100028</phpid><rnum>4</rnum></item><item><dutyname>한국보훈복지의료공단중앙보훈병원</dutyname><dutytel3>02-2225-1100</dutytel3><hpid>A1100053</hpid><hv1>0</hv1><hv10>0</hv10><hv11>0</hv11><hv12>0</hv12><hv2>3</hv2><hv3>7</hv3><hv4>0</hv4><hv5>Y</hv5><hv6>5</hv6><hv7>Y</hv7><hv8>0</hv8><hv9>0</hv9><hvamyn>Y</hvamyn><hvangioayn>N</hvangioayn><hvcc>0</hvcc><hvccc>0</hvccc><hvctayn>Y</hvctayn><hvec>22</hvec><hvgc>271</hvgc><hvicc>0</hvicc><hvidate>20210815225222</hvidate><hvmriayn>Y</hvmriayn><hvncc>0</hvncc><hvoc>14</hvoc><hvventiayn>Y</hvventiayn><phpid>A1100053</phpid><rnum>5</rnum></item><item><dutyname>이화여자대학교의과대학부속서울병원</dutyname><dutytel3>02-6986-5119</dutytel3><hpid>A1120796</hpid><hv1>0</hv1><hv10>Y</hv10><hv11>Y</hv11><hv12>0</hv12><hv2>0</hv2><hv3>0</hv3><hv4>0</hv4><hv5>Y</hv5><hv6>0</hv6><hv7>Y</hv7><hv8>0</hv8><hv9>0</hv9><hvamyn>Y</hvamyn><hvangioayn>N</hvangioayn><hvcc>0</hvcc><hvccc>0</hvccc><hvctayn>Y</hvctayn><hvec>5</hvec><hvgc>264</hvgc><hvicc>0</hvicc><hvidate>20210815225223</hvidate><hvmriayn>Y</hvmriayn><hvncc>11</hvncc><hvoc>14</hvoc><hvventiayn>Y</hvventiayn><phpid>A1120796</phpid><rnum>6</rnum></item><item><dutyname>부민병원</dutyname><dutytel3>02-2620-0119</dutytel3><hpid>A1100036</hpid><hv1>0</hv1><hv10>0</hv10><hv11>0</hv11><hv12>0</hv12><hv2>0</hv2><hv3>0</hv3><hv4>0</hv4><hv5>Y</hv5><hv6>0</hv6><hv7>Y</hv7><hv8>0</hv8><hv9>0</hv9><hvamyn>Y</hvamyn><hvangioayn>N</hvangioayn><hvcc>0</hvcc><hvccc>0</hvccc><hvctayn>Y</hvctayn><hvec>7</hvec><hvgc>97</hvgc><hvicc>10</hvicc><hvidate>20210815225050</hvidate><hvmriayn>Y</hvmriayn><hvncc>0</hvncc><hvoc>8</hvoc><hvventiayn>Y</hvventiayn><phpid>A1100036</phpid><rnum>7</rnum></item><item><dutyname>에이치플러스양지병원</dutyname><dutytel3>070-4665-9119</dutytel3><hpid>A1100041</hpid><hv1>0</hv1><hv10>0</hv10><hv11>0</hv11><hv12>0</hv12><hv2>0</hv2><hv3>0</hv3><hv4>0</hv4><hv5>Y</hv5><hv6>0</hv6><hv7>Y</hv7><hv8>0</hv8><hv9>0</hv9><hvamyn>Y</hvamyn><hvangioayn>N</hvangioayn><hvcc>0</hvcc><hvccc>0</hvccc><hvctayn>Y</hvctayn><hvec>12</hvec><hvgc>58</hvgc><hvicc>3</hvicc><hvidate>20210815225310</hvidate><hvmriayn>Y</hvmriayn><hvncc>0</hvncc><hvoc>6</hvoc><hvventiayn>Y</hvventiayn><phpid>A1100041</phpid><rnum>8</rnum></item><item><dutyname>건국대학교병원</dutyname><dutytel3>02-2030-5555</dutytel3><hpid>A1100002</hpid><hv1>0</hv1><hv10>Y</hv10><hv11>Y</hv11><hv12>0</hv12><hv2>3</hv2><hv3>9</hv3><hv4>0</hv4><hv5>Y</hv5><hv6>0</hv6><hv7>Y</hv7><hv8>0</hv8><hv9>0</hv9><hvamyn>Y</hvamyn><hvangioayn>N</hvangioayn><hvcc>0</hvcc><hvccc>0</hvccc><hvctayn>Y</hvctayn><hvec>9</hvec><hvgc>244</hvgc><hvicc>0</hvicc><hvidate>20210815224935</hvidate><hvmriayn>Y</hvmriayn><hvncc>6</hvncc><hvoc>18</hvoc><hvventiayn>Y</hvventiayn><phpid>A1100002</phpid><rnum>9</rnum></item><item><dutyname>혜민병원</dutyname><dutytel3>02-2049-9119</dutytel3><hpid>A1100051</hpid><hv1>0</hv1><hv10>0</hv10><hv11>0</hv11><hv12>0</hv12><hv2>0</hv2><hv3>0</hv3><hv4>0</hv4><hv5>Y</hv5><hv6>0</hv6><hv7>0</hv7><hv8>0</hv8><hv9>0</hv9><hvamyn>Y</hvamyn><hvangioayn>N</hvangioayn><hvcc>0</hvcc><hvccc>0</hvccc><hvctayn>Y</hvctayn><hvec>9</hvec><hvgc>85</hvgc><hvicc>5</hvicc><hvidate>20210815225018</hvidate><hvmriayn>Y</hvmriayn><hvncc>0</hvncc><hvoc>5</hvoc><hvventiayn>Y</hvventiayn><phpid>A1100051</phpid><rnum>10</rnum></item></items><numofrows>10</numofrows><pageno>1</pageno><totalcount>49</totalcount></body></response>\n",
      "b'<?xml version=\"1.0\" encoding=\"UTF-8\" standalone=\"yes\"?><response><header><resultCode>00</resultCode><resultMsg>NORMAL SERVICE.</resultMsg></header><body><items/><numOfRows>10</numOfRows><pageNo>1</pageNo><totalCount>0</totalCount></body></response>'\n",
      "<?xml version=\"1.0\" encoding=\"UTF-8\" standalone=\"yes\"?><response><header><resultcode>00</resultcode><resultmsg>NORMAL SERVICE.</resultmsg></header><body><items></items><numofrows>10</numofrows><pageno>1</pageno><totalcount>0</totalcount></body></response>\n",
      "b'<?xml version=\"1.0\" encoding=\"UTF-8\" standalone=\"yes\"?><response><header><resultCode>00</resultCode><resultMsg>NORMAL SERVICE.</resultMsg></header><body><items/><numOfRows>10</numOfRows><pageNo>1</pageNo><totalCount>0</totalCount></body></response>'\n",
      "<?xml version=\"1.0\" encoding=\"UTF-8\" standalone=\"yes\"?><response><header><resultcode>00</resultcode><resultmsg>NORMAL SERVICE.</resultmsg></header><body><items></items><numofrows>10</numofrows><pageno>1</pageno><totalcount>0</totalcount></body></response>\n",
      "b'<?xml version=\"1.0\" encoding=\"UTF-8\" standalone=\"yes\"?><response><header><resultCode>00</resultCode><resultMsg>NORMAL SERVICE.</resultMsg></header><body><items/><numOfRows>10</numOfRows><pageNo>1</pageNo><totalCount>0</totalCount></body></response>'\n",
      "<?xml version=\"1.0\" encoding=\"UTF-8\" standalone=\"yes\"?><response><header><resultcode>00</resultcode><resultmsg>NORMAL SERVICE.</resultmsg></header><body><items></items><numofrows>10</numofrows><pageno>1</pageno><totalcount>0</totalcount></body></response>\n",
      "b'<?xml version=\"1.0\" encoding=\"UTF-8\" standalone=\"yes\"?><response><header><resultCode>00</resultCode><resultMsg>NORMAL SERVICE.</resultMsg></header><body><items/><numOfRows>10</numOfRows><pageNo>1</pageNo><totalCount>0</totalCount></body></response>'\n",
      "<?xml version=\"1.0\" encoding=\"UTF-8\" standalone=\"yes\"?><response><header><resultcode>00</resultcode><resultmsg>NORMAL SERVICE.</resultmsg></header><body><items></items><numofrows>10</numofrows><pageno>1</pageno><totalcount>0</totalcount></body></response>\n",
      "b'<?xml version=\"1.0\" encoding=\"UTF-8\" standalone=\"yes\"?><response><header><resultCode>99</resultCode><resultMsg>ORA-28001: the password has expired\\n</resultMsg></header><body/></response>'\n",
      "<?xml version=\"1.0\" encoding=\"UTF-8\" standalone=\"yes\"?><response><header><resultcode>99</resultcode><resultmsg>ORA-28001: the password has expired\n",
      "</resultmsg></header><body></body></response>\n",
      "b'<?xml version=\"1.0\" encoding=\"UTF-8\" standalone=\"yes\"?><response><header><resultCode>00</resultCode><resultMsg>NORMAL SERVICE.</resultMsg></header><body><items/><numOfRows>10</numOfRows><pageNo>1</pageNo><totalCount>0</totalCount></body></response>'\n",
      "<?xml version=\"1.0\" encoding=\"UTF-8\" standalone=\"yes\"?><response><header><resultcode>00</resultcode><resultmsg>NORMAL SERVICE.</resultmsg></header><body><items></items><numofrows>10</numofrows><pageno>1</pageno><totalcount>0</totalcount></body></response>\n",
      "b'<?xml version=\"1.0\" encoding=\"UTF-8\" standalone=\"yes\"?><response><header><resultCode>00</resultCode><resultMsg>NORMAL SERVICE.</resultMsg></header><body><items/><numOfRows>10</numOfRows><pageNo>1</pageNo><totalCount>0</totalCount></body></response>'\n",
      "<?xml version=\"1.0\" encoding=\"UTF-8\" standalone=\"yes\"?><response><header><resultcode>00</resultcode><resultmsg>NORMAL SERVICE.</resultmsg></header><body><items></items><numofrows>10</numofrows><pageno>1</pageno><totalcount>0</totalcount></body></response>\n",
      "b'<?xml version=\"1.0\" encoding=\"UTF-8\" standalone=\"yes\"?><response><header><resultCode>00</resultCode><resultMsg>NORMAL SERVICE.</resultMsg></header><body><items/><numOfRows>10</numOfRows><pageNo>1</pageNo><totalCount>0</totalCount></body></response>'\n",
      "<?xml version=\"1.0\" encoding=\"UTF-8\" standalone=\"yes\"?><response><header><resultcode>00</resultcode><resultmsg>NORMAL SERVICE.</resultmsg></header><body><items></items><numofrows>10</numofrows><pageno>1</pageno><totalcount>0</totalcount></body></response>\n",
      "b'<?xml version=\"1.0\" encoding=\"UTF-8\" standalone=\"yes\"?><response><header><resultCode>00</resultCode><resultMsg>NORMAL SERVICE.</resultMsg></header><body><items/><numOfRows>10</numOfRows><pageNo>1</pageNo><totalCount>0</totalCount></body></response>'\n",
      "<?xml version=\"1.0\" encoding=\"UTF-8\" standalone=\"yes\"?><response><header><resultcode>00</resultcode><resultmsg>NORMAL SERVICE.</resultmsg></header><body><items></items><numofrows>10</numofrows><pageno>1</pageno><totalcount>0</totalcount></body></response>\n",
      "b'<?xml version=\"1.0\" encoding=\"UTF-8\" standalone=\"yes\"?><response><header><resultCode>00</resultCode><resultMsg>NORMAL SERVICE.</resultMsg></header><body><items/><numOfRows>10</numOfRows><pageNo>1</pageNo><totalCount>0</totalCount></body></response>'\n",
      "<?xml version=\"1.0\" encoding=\"UTF-8\" standalone=\"yes\"?><response><header><resultcode>00</resultcode><resultmsg>NORMAL SERVICE.</resultmsg></header><body><items></items><numofrows>10</numofrows><pageno>1</pageno><totalcount>0</totalcount></body></response>\n",
      "b'<?xml version=\"1.0\" encoding=\"UTF-8\" standalone=\"yes\"?><response><header><resultCode>00</resultCode><resultMsg>NORMAL SERVICE.</resultMsg></header><body><items/><numOfRows>10</numOfRows><pageNo>1</pageNo><totalCount>0</totalCount></body></response>'\n",
      "<?xml version=\"1.0\" encoding=\"UTF-8\" standalone=\"yes\"?><response><header><resultcode>00</resultcode><resultmsg>NORMAL SERVICE.</resultmsg></header><body><items></items><numofrows>10</numofrows><pageno>1</pageno><totalcount>0</totalcount></body></response>\n",
      "b'<?xml version=\"1.0\" encoding=\"UTF-8\" standalone=\"yes\"?><response><header><resultCode>00</resultCode><resultMsg>NORMAL SERVICE.</resultMsg></header><body><items/><numOfRows>10</numOfRows><pageNo>1</pageNo><totalCount>0</totalCount></body></response>'\n",
      "<?xml version=\"1.0\" encoding=\"UTF-8\" standalone=\"yes\"?><response><header><resultcode>00</resultcode><resultmsg>NORMAL SERVICE.</resultmsg></header><body><items></items><numofrows>10</numofrows><pageno>1</pageno><totalcount>0</totalcount></body></response>\n",
      "b'<?xml version=\"1.0\" encoding=\"UTF-8\" standalone=\"yes\"?><response><header><resultCode>00</resultCode><resultMsg>NORMAL SERVICE.</resultMsg></header><body><items/><numOfRows>10</numOfRows><pageNo>1</pageNo><totalCount>0</totalCount></body></response>'\n",
      "<?xml version=\"1.0\" encoding=\"UTF-8\" standalone=\"yes\"?><response><header><resultcode>00</resultcode><resultmsg>NORMAL SERVICE.</resultmsg></header><body><items></items><numofrows>10</numofrows><pageno>1</pageno><totalcount>0</totalcount></body></response>\n",
      "b'<?xml version=\"1.0\" encoding=\"UTF-8\" standalone=\"yes\"?><response><header><resultCode>00</resultCode><resultMsg>NORMAL SERVICE.</resultMsg></header><body><items/><numOfRows>10</numOfRows><pageNo>1</pageNo><totalCount>0</totalCount></body></response>'\n",
      "<?xml version=\"1.0\" encoding=\"UTF-8\" standalone=\"yes\"?><response><header><resultcode>00</resultcode><resultmsg>NORMAL SERVICE.</resultmsg></header><body><items></items><numofrows>10</numofrows><pageno>1</pageno><totalcount>0</totalcount></body></response>\n",
      "b'<?xml version=\"1.0\" encoding=\"UTF-8\" standalone=\"yes\"?><response><header><resultCode>00</resultCode><resultMsg>NORMAL SERVICE.</resultMsg></header><body><items/><numOfRows>10</numOfRows><pageNo>1</pageNo><totalCount>0</totalCount></body></response>'\n",
      "<?xml version=\"1.0\" encoding=\"UTF-8\" standalone=\"yes\"?><response><header><resultcode>00</resultcode><resultmsg>NORMAL SERVICE.</resultmsg></header><body><items></items><numofrows>10</numofrows><pageno>1</pageno><totalcount>0</totalcount></body></response>\n"
     ]
    }
   ],
   "metadata": {}
  },
  {
   "cell_type": "code",
   "execution_count": 117,
   "source": [
    "bs_obj = BeautifulSoup(result.content, 'html.parser')"
   ],
   "outputs": [],
   "metadata": {}
  },
  {
   "cell_type": "code",
   "execution_count": 118,
   "source": [
    "bs_obj"
   ],
   "outputs": [
    {
     "output_type": "execute_result",
     "data": {
      "text/plain": [
       "<?xml version=\"1.0\" encoding=\"UTF-8\" standalone=\"yes\"?><response><header><resultcode>00</resultcode><resultmsg>NORMAL SERVICE.</resultmsg></header><body><items><item><dutyname>세종충남대학교병원</dutyname><dutytel3>044-995-3010</dutytel3><hpid>A1800441</hpid><hv1>0</hv1><hv10>Y</hv10><hv11>Y</hv11><hv12>0</hv12><hv2>0</hv2><hv3>0</hv3><hv4>0</hv4><hv5>Y</hv5><hv6>0</hv6><hv7>Y</hv7><hv8>0</hv8><hv9>0</hv9><hvamyn>Y</hvamyn><hvangioayn>N</hvangioayn><hvcc>0</hvcc><hvccc>0</hvccc><hvctayn>Y</hvctayn><hvec>11</hvec><hvgc>107</hvgc><hvicc>0</hvicc><hvidate>20210815225001</hvidate><hvmriayn>Y</hvmriayn><hvncc>-1</hvncc><hvoc>7</hvoc><hvventiayn>Y</hvventiayn><phpid>A1800441</phpid><rnum>1</rnum></item><item><dutyname>엔케이(NK)세종병원</dutyname><dutytel3>044-850-7704</dutytel3><hpid>A1800417</hpid><hv1>0</hv1><hv10>0</hv10><hv11>0</hv11><hv12>0</hv12><hv2>0</hv2><hv3>0</hv3><hv4>0</hv4><hv5>Y</hv5><hv6>0</hv6><hv7>0</hv7><hv8>0</hv8><hv9>0</hv9><hvamyn>Y</hvamyn><hvangioayn>N</hvangioayn><hvcc>0</hvcc><hvccc>0</hvccc><hvctayn>Y</hvctayn><hvec>7</hvec><hvgc>65</hvgc><hvicc>0</hvicc><hvidate>20210815225022</hvidate><hvmriayn>Y</hvmriayn><hvncc>0</hvncc><hvoc>3</hvoc><hvventiayn>Y</hvventiayn><phpid>A1800417</phpid><rnum>2</rnum></item></items><numofrows>10</numofrows><pageno>1</pageno><totalcount>2</totalcount></body></response>"
      ]
     },
     "metadata": {},
     "execution_count": 118
    }
   ],
   "metadata": {}
  },
  {
   "cell_type": "code",
   "execution_count": null,
   "source": [],
   "outputs": [],
   "metadata": {}
  },
  {
   "cell_type": "code",
   "execution_count": 88,
   "source": [
    "tables= bs_obj.select('items')\r\n",
    "tables\r\n",
    "# table = tables[0]"
   ],
   "outputs": [
    {
     "output_type": "execute_result",
     "data": {
      "text/plain": [
       "[<items><item><dutyname>연세대학교의과대학강남세브란스병원</dutyname><dutytel3>02-2019-3333</dutytel3><hpid>A1100015</hpid><hv1>0</hv1><hv10>Y</hv10><hv11>Y</hv11><hv12>0</hv12><hv2>0</hv2><hv3>0</hv3><hv4>0</hv4><hv5>Y</hv5><hv6>2</hv6><hv7>Y</hv7><hv8>0</hv8><hv9>0</hv9><hvamyn>Y</hvamyn><hvangioayn>N</hvangioayn><hvcc>0</hvcc><hvccc>0</hvccc><hvctayn>Y</hvctayn><hvec>2</hvec><hvgc>129</hvgc><hvicc>4</hvicc><hvidate>20210815223016</hvidate><hvmriayn>Y</hvmriayn><hvncc>3</hvncc><hvoc>23</hvoc><hvventiayn>Y</hvventiayn><phpid>A1100015</phpid><rnum>1</rnum></item><item><dutyname>삼성서울병원</dutyname><dutytel3>02-3410-2060</dutytel3><hpid>A1100010</hpid><hv1>0</hv1><hv10>Y</hv10><hv11>Y</hv11><hv12>0</hv12><hv2>2</hv2><hv3>7</hv3><hv4>0</hv4><hv5>Y</hv5><hv6>7</hv6><hv7>Y</hv7><hv8>0</hv8><hv9>0</hv9><hvamyn>Y</hvamyn><hvangioayn>N</hvangioayn><hvcc>0</hvcc><hvccc>17</hvccc><hvctayn>Y</hvctayn><hvec>20</hvec><hvgc>235</hvgc><hvicc>5</hvicc><hvidate>20210815223231</hvidate><hvmriayn>Y</hvmriayn><hvncc>5</hvncc><hvoc>55</hvoc><hvventiayn>Y</hvventiayn><phpid>A1100010</phpid><rnum>2</rnum></item><item><dutyname>강동경희대학교의대병원</dutyname><dutytel3>02-440-8282</dutytel3><hpid>A1100043</hpid><hv1>0</hv1><hv10>Y</hv10><hv11>Y</hv11><hv12>0</hv12><hv2>0</hv2><hv3>0</hv3><hv4>0</hv4><hv5>Y</hv5><hv6>0</hv6><hv7>Y</hv7><hv8>0</hv8><hv9>0</hv9><hvamyn>Y</hvamyn><hvangioayn>N</hvangioayn><hvcc>0</hvcc><hvccc>0</hvccc><hvctayn>Y</hvctayn><hvec>10</hvec><hvgc>213</hvgc><hvicc>6</hvicc><hvidate>20210815223103</hvidate><hvmriayn>Y</hvmriayn><hvncc>1</hvncc><hvoc>15</hvoc><hvventiayn>Y</hvventiayn><phpid>A1100043</phpid><rnum>3</rnum></item><item><dutyname>성심의료재단강동성심병원</dutyname><dutytel3>02-2224-2358</dutytel3><hpid>A1100028</hpid><hv1>0</hv1><hv10>Y</hv10><hv11>Y</hv11><hv12>0</hv12><hv2>-1</hv2><hv3>0</hv3><hv4>0</hv4><hv5>Y</hv5><hv6>0</hv6><hv7>Y</hv7><hv8>0</hv8><hv9>0</hv9><hvamyn>Y</hvamyn><hvangioayn>N</hvangioayn><hvcc>0</hvcc><hvccc>0</hvccc><hvctayn>Y</hvctayn><hvec>15</hvec><hvgc>264</hvgc><hvicc>0</hvicc><hvidate>20210815223239</hvidate><hvmriayn>Y</hvmriayn><hvncc>1</hvncc><hvoc>13</hvoc><hvventiayn>Y</hvventiayn><phpid>A1100028</phpid><rnum>4</rnum></item><item><dutyname>한국보훈복지의료공단중앙보훈병원</dutyname><dutytel3>02-2225-1100</dutytel3><hpid>A1100053</hpid><hv1>0</hv1><hv10>0</hv10><hv11>0</hv11><hv12>0</hv12><hv2>3</hv2><hv3>7</hv3><hv4>0</hv4><hv5>Y</hv5><hv6>5</hv6><hv7>Y</hv7><hv8>0</hv8><hv9>0</hv9><hvamyn>Y</hvamyn><hvangioayn>N</hvangioayn><hvcc>0</hvcc><hvccc>0</hvccc><hvctayn>Y</hvctayn><hvec>21</hvec><hvgc>271</hvgc><hvicc>0</hvicc><hvidate>20210815223221</hvidate><hvmriayn>Y</hvmriayn><hvncc>0</hvncc><hvoc>14</hvoc><hvventiayn>Y</hvventiayn><phpid>A1100053</phpid><rnum>5</rnum></item><item><dutyname>이화여자대학교의과대학부속서울병원</dutyname><dutytel3>02-6986-5119</dutytel3><hpid>A1120796</hpid><hv1>0</hv1><hv10>Y</hv10><hv11>Y</hv11><hv12>0</hv12><hv2>0</hv2><hv3>0</hv3><hv4>0</hv4><hv5>Y</hv5><hv6>0</hv6><hv7>Y</hv7><hv8>0</hv8><hv9>0</hv9><hvamyn>Y</hvamyn><hvangioayn>N</hvangioayn><hvcc>0</hvcc><hvccc>0</hvccc><hvctayn>Y</hvctayn><hvec>7</hvec><hvgc>264</hvgc><hvicc>0</hvicc><hvidate>20210815223223</hvidate><hvmriayn>Y</hvmriayn><hvncc>11</hvncc><hvoc>14</hvoc><hvventiayn>Y</hvventiayn><phpid>A1120796</phpid><rnum>6</rnum></item><item><dutyname>부민병원</dutyname><dutytel3>02-2620-0119</dutytel3><hpid>A1100036</hpid><hv1>0</hv1><hv10>0</hv10><hv11>0</hv11><hv12>0</hv12><hv2>0</hv2><hv3>0</hv3><hv4>0</hv4><hv5>Y</hv5><hv6>0</hv6><hv7>Y</hv7><hv8>0</hv8><hv9>0</hv9><hvamyn>Y</hvamyn><hvangioayn>N</hvangioayn><hvcc>0</hvcc><hvccc>0</hvccc><hvctayn>Y</hvctayn><hvec>8</hvec><hvgc>97</hvgc><hvicc>10</hvicc><hvidate>20210815223114</hvidate><hvmriayn>Y</hvmriayn><hvncc>0</hvncc><hvoc>8</hvoc><hvventiayn>Y</hvventiayn><phpid>A1100036</phpid><rnum>7</rnum></item><item><dutyname>에이치플러스양지병원</dutyname><dutytel3>070-4665-9119</dutytel3><hpid>A1100041</hpid><hv1>0</hv1><hv10>0</hv10><hv11>0</hv11><hv12>0</hv12><hv2>0</hv2><hv3>0</hv3><hv4>0</hv4><hv5>Y</hv5><hv6>0</hv6><hv7>Y</hv7><hv8>0</hv8><hv9>0</hv9><hvamyn>Y</hvamyn><hvangioayn>N</hvangioayn><hvcc>0</hvcc><hvccc>0</hvccc><hvctayn>Y</hvctayn><hvec>12</hvec><hvgc>58</hvgc><hvicc>3</hvicc><hvidate>20210815223411</hvidate><hvmriayn>Y</hvmriayn><hvncc>0</hvncc><hvoc>6</hvoc><hvventiayn>Y</hvventiayn><phpid>A1100041</phpid><rnum>8</rnum></item><item><dutyname>건국대학교병원</dutyname><dutytel3>02-2030-5555</dutytel3><hpid>A1100002</hpid><hv1>0</hv1><hv10>Y</hv10><hv11>Y</hv11><hv12>0</hv12><hv2>3</hv2><hv3>9</hv3><hv4>0</hv4><hv5>Y</hv5><hv6>0</hv6><hv7>Y</hv7><hv8>0</hv8><hv9>0</hv9><hvamyn>Y</hvamyn><hvangioayn>N</hvangioayn><hvcc>0</hvcc><hvccc>0</hvccc><hvctayn>Y</hvctayn><hvec>7</hvec><hvgc>244</hvgc><hvicc>0</hvicc><hvidate>20210815223205</hvidate><hvmriayn>Y</hvmriayn><hvncc>6</hvncc><hvoc>18</hvoc><hvventiayn>Y</hvventiayn><phpid>A1100002</phpid><rnum>9</rnum></item><item><dutyname>혜민병원</dutyname><dutytel3>02-2049-9119</dutytel3><hpid>A1100051</hpid><hv1>0</hv1><hv10>0</hv10><hv11>0</hv11><hv12>0</hv12><hv2>0</hv2><hv3>0</hv3><hv4>0</hv4><hv5>Y</hv5><hv6>0</hv6><hv7>0</hv7><hv8>0</hv8><hv9>0</hv9><hvamyn>Y</hvamyn><hvangioayn>N</hvangioayn><hvcc>0</hvcc><hvccc>0</hvccc><hvctayn>Y</hvctayn><hvec>9</hvec><hvgc>85</hvgc><hvicc>4</hvicc><hvidate>20210815223111</hvidate><hvmriayn>Y</hvmriayn><hvncc>0</hvncc><hvoc>5</hvoc><hvventiayn>Y</hvventiayn><phpid>A1100051</phpid><rnum>10</rnum></item></items>]"
      ]
     },
     "metadata": {},
     "execution_count": 88
    }
   ],
   "metadata": {}
  },
  {
   "cell_type": "code",
   "execution_count": 79,
   "source": [
    "import xml.etree.ElementTree as ET\r\n",
    "import pandas as pd\r\n",
    "import sys"
   ],
   "outputs": [],
   "metadata": {}
  },
  {
   "cell_type": "code",
   "execution_count": 94,
   "source": [
    "table_html = str(tables)"
   ],
   "outputs": [],
   "metadata": {}
  },
  {
   "cell_type": "code",
   "execution_count": null,
   "source": [],
   "outputs": [],
   "metadata": {}
  },
  {
   "cell_type": "code",
   "execution_count": 93,
   "source": [
    "table_df_list = pd.read_html(table_html)"
   ],
   "outputs": [
    {
     "output_type": "error",
     "ename": "ValueError",
     "evalue": "No tables found",
     "traceback": [
      "\u001b[1;31m---------------------------------------------------------------------------\u001b[0m",
      "\u001b[1;31mValueError\u001b[0m                                Traceback (most recent call last)",
      "\u001b[1;32m<ipython-input-93-a5c34673daed>\u001b[0m in \u001b[0;36m<module>\u001b[1;34m\u001b[0m\n\u001b[1;32m----> 1\u001b[1;33m \u001b[0mtable_df_list\u001b[0m \u001b[1;33m=\u001b[0m \u001b[0mpd\u001b[0m\u001b[1;33m.\u001b[0m\u001b[0mread_html\u001b[0m\u001b[1;33m(\u001b[0m\u001b[0mtable_html\u001b[0m\u001b[1;33m)\u001b[0m\u001b[1;33m\u001b[0m\u001b[1;33m\u001b[0m\u001b[0m\n\u001b[0m",
      "\u001b[1;32m~\\anaconda3\\lib\\site-packages\\pandas\\util\\_decorators.py\u001b[0m in \u001b[0;36mwrapper\u001b[1;34m(*args, **kwargs)\u001b[0m\n\u001b[0;32m    297\u001b[0m                 )\n\u001b[0;32m    298\u001b[0m                 \u001b[0mwarnings\u001b[0m\u001b[1;33m.\u001b[0m\u001b[0mwarn\u001b[0m\u001b[1;33m(\u001b[0m\u001b[0mmsg\u001b[0m\u001b[1;33m,\u001b[0m \u001b[0mFutureWarning\u001b[0m\u001b[1;33m,\u001b[0m \u001b[0mstacklevel\u001b[0m\u001b[1;33m=\u001b[0m\u001b[0mstacklevel\u001b[0m\u001b[1;33m)\u001b[0m\u001b[1;33m\u001b[0m\u001b[1;33m\u001b[0m\u001b[0m\n\u001b[1;32m--> 299\u001b[1;33m             \u001b[1;32mreturn\u001b[0m \u001b[0mfunc\u001b[0m\u001b[1;33m(\u001b[0m\u001b[1;33m*\u001b[0m\u001b[0margs\u001b[0m\u001b[1;33m,\u001b[0m \u001b[1;33m**\u001b[0m\u001b[0mkwargs\u001b[0m\u001b[1;33m)\u001b[0m\u001b[1;33m\u001b[0m\u001b[1;33m\u001b[0m\u001b[0m\n\u001b[0m\u001b[0;32m    300\u001b[0m \u001b[1;33m\u001b[0m\u001b[0m\n\u001b[0;32m    301\u001b[0m         \u001b[1;32mreturn\u001b[0m \u001b[0mwrapper\u001b[0m\u001b[1;33m\u001b[0m\u001b[1;33m\u001b[0m\u001b[0m\n",
      "\u001b[1;32m~\\anaconda3\\lib\\site-packages\\pandas\\io\\html.py\u001b[0m in \u001b[0;36mread_html\u001b[1;34m(io, match, flavor, header, index_col, skiprows, attrs, parse_dates, thousands, encoding, decimal, converters, na_values, keep_default_na, displayed_only)\u001b[0m\n\u001b[0;32m   1083\u001b[0m     \u001b[0mio\u001b[0m \u001b[1;33m=\u001b[0m \u001b[0mstringify_path\u001b[0m\u001b[1;33m(\u001b[0m\u001b[0mio\u001b[0m\u001b[1;33m)\u001b[0m\u001b[1;33m\u001b[0m\u001b[1;33m\u001b[0m\u001b[0m\n\u001b[0;32m   1084\u001b[0m \u001b[1;33m\u001b[0m\u001b[0m\n\u001b[1;32m-> 1085\u001b[1;33m     return _parse(\n\u001b[0m\u001b[0;32m   1086\u001b[0m         \u001b[0mflavor\u001b[0m\u001b[1;33m=\u001b[0m\u001b[0mflavor\u001b[0m\u001b[1;33m,\u001b[0m\u001b[1;33m\u001b[0m\u001b[1;33m\u001b[0m\u001b[0m\n\u001b[0;32m   1087\u001b[0m         \u001b[0mio\u001b[0m\u001b[1;33m=\u001b[0m\u001b[0mio\u001b[0m\u001b[1;33m,\u001b[0m\u001b[1;33m\u001b[0m\u001b[1;33m\u001b[0m\u001b[0m\n",
      "\u001b[1;32m~\\anaconda3\\lib\\site-packages\\pandas\\io\\html.py\u001b[0m in \u001b[0;36m_parse\u001b[1;34m(flavor, io, match, attrs, encoding, displayed_only, **kwargs)\u001b[0m\n\u001b[0;32m    911\u001b[0m     \u001b[1;32melse\u001b[0m\u001b[1;33m:\u001b[0m\u001b[1;33m\u001b[0m\u001b[1;33m\u001b[0m\u001b[0m\n\u001b[0;32m    912\u001b[0m         \u001b[1;32massert\u001b[0m \u001b[0mretained\u001b[0m \u001b[1;32mis\u001b[0m \u001b[1;32mnot\u001b[0m \u001b[1;32mNone\u001b[0m  \u001b[1;31m# for mypy\u001b[0m\u001b[1;33m\u001b[0m\u001b[1;33m\u001b[0m\u001b[0m\n\u001b[1;32m--> 913\u001b[1;33m         \u001b[1;32mraise\u001b[0m \u001b[0mretained\u001b[0m\u001b[1;33m\u001b[0m\u001b[1;33m\u001b[0m\u001b[0m\n\u001b[0m\u001b[0;32m    914\u001b[0m \u001b[1;33m\u001b[0m\u001b[0m\n\u001b[0;32m    915\u001b[0m     \u001b[0mret\u001b[0m \u001b[1;33m=\u001b[0m \u001b[1;33m[\u001b[0m\u001b[1;33m]\u001b[0m\u001b[1;33m\u001b[0m\u001b[1;33m\u001b[0m\u001b[0m\n",
      "\u001b[1;32m~\\anaconda3\\lib\\site-packages\\pandas\\io\\html.py\u001b[0m in \u001b[0;36m_parse\u001b[1;34m(flavor, io, match, attrs, encoding, displayed_only, **kwargs)\u001b[0m\n\u001b[0;32m    891\u001b[0m \u001b[1;33m\u001b[0m\u001b[0m\n\u001b[0;32m    892\u001b[0m         \u001b[1;32mtry\u001b[0m\u001b[1;33m:\u001b[0m\u001b[1;33m\u001b[0m\u001b[1;33m\u001b[0m\u001b[0m\n\u001b[1;32m--> 893\u001b[1;33m             \u001b[0mtables\u001b[0m \u001b[1;33m=\u001b[0m \u001b[0mp\u001b[0m\u001b[1;33m.\u001b[0m\u001b[0mparse_tables\u001b[0m\u001b[1;33m(\u001b[0m\u001b[1;33m)\u001b[0m\u001b[1;33m\u001b[0m\u001b[1;33m\u001b[0m\u001b[0m\n\u001b[0m\u001b[0;32m    894\u001b[0m         \u001b[1;32mexcept\u001b[0m \u001b[0mValueError\u001b[0m \u001b[1;32mas\u001b[0m \u001b[0mcaught\u001b[0m\u001b[1;33m:\u001b[0m\u001b[1;33m\u001b[0m\u001b[1;33m\u001b[0m\u001b[0m\n\u001b[0;32m    895\u001b[0m             \u001b[1;31m# if `io` is an io-like object, check if it's seekable\u001b[0m\u001b[1;33m\u001b[0m\u001b[1;33m\u001b[0m\u001b[1;33m\u001b[0m\u001b[0m\n",
      "\u001b[1;32m~\\anaconda3\\lib\\site-packages\\pandas\\io\\html.py\u001b[0m in \u001b[0;36mparse_tables\u001b[1;34m(self)\u001b[0m\n\u001b[0;32m    211\u001b[0m         \u001b[0mlist\u001b[0m \u001b[0mof\u001b[0m \u001b[0mparsed\u001b[0m \u001b[1;33m(\u001b[0m\u001b[0mheader\u001b[0m\u001b[1;33m,\u001b[0m \u001b[0mbody\u001b[0m\u001b[1;33m,\u001b[0m \u001b[0mfooter\u001b[0m\u001b[1;33m)\u001b[0m \u001b[0mtuples\u001b[0m \u001b[1;32mfrom\u001b[0m \u001b[0mtables\u001b[0m\u001b[1;33m.\u001b[0m\u001b[1;33m\u001b[0m\u001b[1;33m\u001b[0m\u001b[0m\n\u001b[0;32m    212\u001b[0m         \"\"\"\n\u001b[1;32m--> 213\u001b[1;33m         \u001b[0mtables\u001b[0m \u001b[1;33m=\u001b[0m \u001b[0mself\u001b[0m\u001b[1;33m.\u001b[0m\u001b[0m_parse_tables\u001b[0m\u001b[1;33m(\u001b[0m\u001b[0mself\u001b[0m\u001b[1;33m.\u001b[0m\u001b[0m_build_doc\u001b[0m\u001b[1;33m(\u001b[0m\u001b[1;33m)\u001b[0m\u001b[1;33m,\u001b[0m \u001b[0mself\u001b[0m\u001b[1;33m.\u001b[0m\u001b[0mmatch\u001b[0m\u001b[1;33m,\u001b[0m \u001b[0mself\u001b[0m\u001b[1;33m.\u001b[0m\u001b[0mattrs\u001b[0m\u001b[1;33m)\u001b[0m\u001b[1;33m\u001b[0m\u001b[1;33m\u001b[0m\u001b[0m\n\u001b[0m\u001b[0;32m    214\u001b[0m         \u001b[1;32mreturn\u001b[0m \u001b[1;33m(\u001b[0m\u001b[0mself\u001b[0m\u001b[1;33m.\u001b[0m\u001b[0m_parse_thead_tbody_tfoot\u001b[0m\u001b[1;33m(\u001b[0m\u001b[0mtable\u001b[0m\u001b[1;33m)\u001b[0m \u001b[1;32mfor\u001b[0m \u001b[0mtable\u001b[0m \u001b[1;32min\u001b[0m \u001b[0mtables\u001b[0m\u001b[1;33m)\u001b[0m\u001b[1;33m\u001b[0m\u001b[1;33m\u001b[0m\u001b[0m\n\u001b[0;32m    215\u001b[0m \u001b[1;33m\u001b[0m\u001b[0m\n",
      "\u001b[1;32m~\\anaconda3\\lib\\site-packages\\pandas\\io\\html.py\u001b[0m in \u001b[0;36m_parse_tables\u001b[1;34m(self, doc, match, attrs)\u001b[0m\n\u001b[0;32m    541\u001b[0m \u001b[1;33m\u001b[0m\u001b[0m\n\u001b[0;32m    542\u001b[0m         \u001b[1;32mif\u001b[0m \u001b[1;32mnot\u001b[0m \u001b[0mtables\u001b[0m\u001b[1;33m:\u001b[0m\u001b[1;33m\u001b[0m\u001b[1;33m\u001b[0m\u001b[0m\n\u001b[1;32m--> 543\u001b[1;33m             \u001b[1;32mraise\u001b[0m \u001b[0mValueError\u001b[0m\u001b[1;33m(\u001b[0m\u001b[1;34m\"No tables found\"\u001b[0m\u001b[1;33m)\u001b[0m\u001b[1;33m\u001b[0m\u001b[1;33m\u001b[0m\u001b[0m\n\u001b[0m\u001b[0;32m    544\u001b[0m \u001b[1;33m\u001b[0m\u001b[0m\n\u001b[0;32m    545\u001b[0m         \u001b[0mresult\u001b[0m \u001b[1;33m=\u001b[0m \u001b[1;33m[\u001b[0m\u001b[1;33m]\u001b[0m\u001b[1;33m\u001b[0m\u001b[1;33m\u001b[0m\u001b[0m\n",
      "\u001b[1;31mValueError\u001b[0m: No tables found"
     ]
    }
   ],
   "metadata": {}
  },
  {
   "cell_type": "markdown",
   "source": [
    "---"
   ],
   "metadata": {}
  },
  {
   "cell_type": "code",
   "execution_count": null,
   "source": [
    "import "
   ],
   "outputs": [],
   "metadata": {}
  },
  {
   "cell_type": "code",
   "execution_count": 153,
   "source": [
    "# 실행됨\r\n",
    "url = 'http://apis.data.go.kr/B552657/ErmctInfoInqireService/getEgytBassInfoInqire'\r\n",
    "\r\n",
    "queryParams = '?' + '&ServiceKey=' + 'sDDx7qUKhfoBuzwVrOBez9MhUkvl%2B1Wnwaw7VaqNCfRa5KJ1R%2B2qf%2BSEHZgXUtZpscMDGwBV6CcN9RCtZSoZUQ%3D%3D' \\\r\n",
    "    + '&HPID=' + 'A0000028' \\\r\n",
    "    + '&pageNo=' + '2' \\\r\n",
    "    + '&numOfRows=' + '10'\r\n",
    "# + '&STAGE1=' + '부산광역시' \\\r\n",
    "# + '&pageNo=' + '1' \\ \r\n",
    "    # + '&STAGE2=' + '영등포구' \\\r\n",
    "    \r\n",
    "    # + '&numOfRows=' + '10'\r\n",
    "    \r\n",
    "\r\n",
    "url = url + queryParams\r\n",
    "request = req(url + queryParams)\r\n",
    "request.get_method = lambda: 'GET'\r\n",
    "response_body = urlopen(request).read()\r\n",
    "print(response_body)\r\n"
   ],
   "outputs": [
    {
     "output_type": "error",
     "ename": "TypeError",
     "evalue": "'module' object is not callable",
     "traceback": [
      "\u001b[1;31m---------------------------------------------------------------------------\u001b[0m",
      "\u001b[1;31mTypeError\u001b[0m                                 Traceback (most recent call last)",
      "\u001b[1;32m<ipython-input-153-d3800fc74cba>\u001b[0m in \u001b[0;36m<module>\u001b[1;34m\u001b[0m\n\u001b[0;32m     14\u001b[0m \u001b[1;33m\u001b[0m\u001b[0m\n\u001b[0;32m     15\u001b[0m \u001b[0murl\u001b[0m \u001b[1;33m=\u001b[0m \u001b[0murl\u001b[0m \u001b[1;33m+\u001b[0m \u001b[0mqueryParams\u001b[0m\u001b[1;33m\u001b[0m\u001b[1;33m\u001b[0m\u001b[0m\n\u001b[1;32m---> 16\u001b[1;33m \u001b[0mrequest\u001b[0m \u001b[1;33m=\u001b[0m \u001b[0mreq\u001b[0m\u001b[1;33m(\u001b[0m\u001b[0murl\u001b[0m \u001b[1;33m+\u001b[0m \u001b[0mqueryParams\u001b[0m\u001b[1;33m)\u001b[0m\u001b[1;33m\u001b[0m\u001b[1;33m\u001b[0m\u001b[0m\n\u001b[0m\u001b[0;32m     17\u001b[0m \u001b[0mrequest\u001b[0m\u001b[1;33m.\u001b[0m\u001b[0mget_method\u001b[0m \u001b[1;33m=\u001b[0m \u001b[1;32mlambda\u001b[0m\u001b[1;33m:\u001b[0m \u001b[1;34m'GET'\u001b[0m\u001b[1;33m\u001b[0m\u001b[1;33m\u001b[0m\u001b[0m\n\u001b[0;32m     18\u001b[0m \u001b[0mresponse_body\u001b[0m \u001b[1;33m=\u001b[0m \u001b[0murlopen\u001b[0m\u001b[1;33m(\u001b[0m\u001b[0mrequest\u001b[0m\u001b[1;33m)\u001b[0m\u001b[1;33m.\u001b[0m\u001b[0mread\u001b[0m\u001b[1;33m(\u001b[0m\u001b[1;33m)\u001b[0m\u001b[1;33m\u001b[0m\u001b[1;33m\u001b[0m\u001b[0m\n",
      "\u001b[1;31mTypeError\u001b[0m: 'module' object is not callable"
     ]
    }
   ],
   "metadata": {}
  },
  {
   "cell_type": "code",
   "execution_count": 150,
   "source": [
    "bs_obj = BeautifulSoup(result.content, 'html.parser')"
   ],
   "outputs": [],
   "metadata": {}
  },
  {
   "cell_type": "code",
   "execution_count": 151,
   "source": [
    "bs_obj"
   ],
   "outputs": [
    {
     "output_type": "execute_result",
     "data": {
      "text/plain": [
       "<?xml version=\"1.0\" encoding=\"UTF-8\" standalone=\"yes\"?><response><header><resultcode>00</resultcode><resultmsg>NORMAL SERVICE.</resultmsg></header><body><items></items><numofrows>10</numofrows><pageno>2</pageno><totalcount>0</totalcount></body></response>"
      ]
     },
     "metadata": {},
     "execution_count": 151
    }
   ],
   "metadata": {}
  },
  {
   "cell_type": "code",
   "execution_count": null,
   "source": [
    "request = Request(url + queryParams)\r\n",
    "request.get_method = lambda: 'GET'\r\n",
    "response_body = urlopen(request).read()\r\n",
    "print response_body"
   ],
   "outputs": [],
   "metadata": {}
  },
  {
   "cell_type": "code",
   "execution_count": null,
   "source": [
    "import json\r\n",
    "from pandas.io.json import json_normalize"
   ],
   "outputs": [],
   "metadata": {}
  },
  {
   "cell_type": "code",
   "execution_count": null,
   "source": [
    "request = req.Request(url + queryParams)\r\n",
    "request.get_method = lambda: 'GET'\r\n",
    "response_body = req.urlopen(request).read()\r\n",
    "print(response_body)\r\n"
   ],
   "outputs": [],
   "metadata": {}
  },
  {
   "cell_type": "code",
   "execution_count": null,
   "source": [],
   "outputs": [],
   "metadata": {}
  },
  {
   "cell_type": "code",
   "execution_count": 3,
   "source": [
    "text=response_body.decode('utf-8')\r\n",
    "print(text)"
   ],
   "outputs": [
    {
     "output_type": "stream",
     "name": "stdout",
     "text": [
      "<OpenAPI_ServiceResponse>\n",
      "\t<cmmMsgHeader>\n",
      "\t\t<errMsg>SERVICE ERROR</errMsg>\n",
      "\t\t<returnAuthMsg>SERVICE_KEY_IS_NOT_REGISTERED_ERROR</returnAuthMsg>\n",
      "\t\t<returnReasonCode>30</returnReasonCode>\n",
      "\t</cmmMsgHeader>\n",
      "</OpenAPI_ServiceResponse>\n"
     ]
    }
   ],
   "metadata": {}
  },
  {
   "cell_type": "markdown",
   "source": [
    "---"
   ],
   "metadata": {}
  },
  {
   "cell_type": "code",
   "execution_count": 12,
   "source": [
    "import urllib.request as req\r\n",
    "from bs4 import BeautifulSoup"
   ],
   "outputs": [],
   "metadata": {}
  },
  {
   "cell_type": "code",
   "execution_count": 13,
   "source": [
    "url = 'https://www.naver.com'\r\n",
    "html = req.urlopen(url)"
   ],
   "outputs": [],
   "metadata": {}
  },
  {
   "cell_type": "code",
   "execution_count": 14,
   "source": [
    "bsObj = BeautifulSoup(html, 'html.parser')"
   ],
   "outputs": [],
   "metadata": {}
  },
  {
   "cell_type": "markdown",
   "source": [
    "---"
   ],
   "metadata": {}
  },
  {
   "cell_type": "code",
   "execution_count": 19,
   "source": [
    "url1 ='http://apis.data.go.kr/B552657/ErmctInfoInqireService/getEmrrmRltmUsefulSckbdInfoInqire?STAGE1=%EC%84%9C%EC%9A%B8%ED%8A%B9%EB%B3%84%EC%8B%9C&STAGE2=%EC%A2%85%EB%A1%9C%EA%B5%AC&pageNo=1&numOfRows=30'"
   ],
   "outputs": [],
   "metadata": {}
  },
  {
   "cell_type": "code",
   "execution_count": 20,
   "source": [
    "result = requests.get(url1)\r\n",
    "print(result.content)"
   ],
   "outputs": [
    {
     "output_type": "stream",
     "name": "stdout",
     "text": [
      "b'<OpenAPI_ServiceResponse>\\n\\t<cmmMsgHeader>\\n\\t\\t<errMsg>SERVICE ERROR</errMsg>\\n\\t\\t<returnAuthMsg>SERVICE_KEY_IS_NOT_REGISTERED_ERROR</returnAuthMsg>\\n\\t\\t<returnReasonCode>30</returnReasonCode>\\n\\t</cmmMsgHeader>\\n</OpenAPI_ServiceResponse>'\n"
     ]
    }
   ],
   "metadata": {}
  },
  {
   "cell_type": "code",
   "execution_count": 122,
   "source": [
    "# 실행됨\r\n",
    "url = 'http://apis.data.go.kr/B552657/ErmctInfoInqireService/getEmrrmRltmUsefulSckbdInfoInqire'\r\n",
    "\r\n",
    "queryParams = '?' + '&ServiceKey=' + 'sDDx7qUKhfoBuzwVrOBez9MhUkvl%2B1Wnwaw7VaqNCfRa5KJ1R%2B2qf%2BSEHZgXUtZpscMDGwBV6CcN9RCtZSoZUQ%3D%3D' \\\r\n",
    "    + '&STAGE1=' + '부산광역시' \\\r\n",
    "    # + '&STAGE2=' + '영등포구' \\\r\n",
    "    # + '&pageNo=' + '1' \\\r\n",
    "    # + '&numOfRows=' + '10'\r\n",
    "\r\n",
    "url = url + queryParams\r\n",
    "result = requests.get(url)\r\n",
    "print(result.content)\r\n",
    "\r\n",
    "\r\n"
   ],
   "outputs": [
    {
     "output_type": "stream",
     "name": "stdout",
     "text": [
      "b'<OpenAPI_ServiceResponse>\\n\\t<cmmMsgHeader>\\n\\t\\t<errMsg>SERVICE ERROR</errMsg>\\n\\t\\t<returnAuthMsg>HTTP_ERROR</returnAuthMsg>\\n\\t\\t<returnReasonCode>04</returnReasonCode>\\n\\t</cmmMsgHeader>\\n</OpenAPI_ServiceResponse>'\n"
     ]
    }
   ],
   "metadata": {}
  },
  {
   "cell_type": "code",
   "execution_count": null,
   "source": [],
   "outputs": [],
   "metadata": {}
  }
 ],
 "metadata": {
  "orig_nbformat": 4,
  "language_info": {
   "name": "python",
   "version": "3.8.8",
   "mimetype": "text/x-python",
   "codemirror_mode": {
    "name": "ipython",
    "version": 3
   },
   "pygments_lexer": "ipython3",
   "nbconvert_exporter": "python",
   "file_extension": ".py"
  },
  "kernelspec": {
   "name": "python3",
   "display_name": "Python 3.8.8 64-bit ('base': conda)"
  },
  "interpreter": {
   "hash": "01612b57d529331fccfbf5f7721e88005b4682ef99b242f62a508f06b6f08c6a"
  }
 },
 "nbformat": 4,
 "nbformat_minor": 2
}