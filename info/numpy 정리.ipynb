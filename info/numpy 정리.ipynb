{
 "cells": [
  {
   "cell_type": "code",
   "execution_count": 1,
   "source": [
    "import numpy as np"
   ],
   "outputs": [],
   "metadata": {}
  },
  {
   "cell_type": "code",
   "execution_count": null,
   "source": [
    "# NumPy의 주요한 객체는 다차원의 동종 어레이 (homogeneous multidimensional array)입니다.\r\n",
    "# 보통 숫자로 구성되는 어레이는 모두 동일한 타입의 요소를 갖고, 음이 아닌 정수 (0, 1, 2 ..)로 인덱싱됩니다.\r\n",
    "# NumPy에서 차원은 축 (axis)이라고 합니다."
   ],
   "outputs": [],
   "metadata": {}
  },
  {
   "cell_type": "code",
   "execution_count": null,
   "source": [
    "'''\r\n",
    "numpy.ndarray 객체의 중요한 속성은 다음과 같습니다:\r\n",
    "\r\n",
    "ndarray.ndim  \r\n",
    ": 어레이의 축의 개수 (차원).  \r\n",
    "ndarray.shape  \r\n",
    ": 어레이의 차원. 각 차원의 어레이의 크기를 나타내는 정수의 튜플.  \r\n",
    "n개의 행, m개의 열을 갖는 행렬의 경우, shape은 (n, m). 따라서 shape 튜플의 길이는 축의 개수가 됨.  \r\n",
    "ndarray.size  \r\n",
    ": 어레이의 요수의 총 개수. shape 튜플의 요소의 곱과 같음.  \r\n",
    "ndarray.dtype  \r\n",
    ": 어레이의 요소의 타입을 나타내는 객체.  \r\n",
    "표준 파이썬 타입을 이용해서 dtype을 만들거나 지정할 수 있다.  \r\n",
    "이 외에도 NumPy는 numpy.int32, numpy.int16, numpy.float64와 같은 고유한 타입을 제공함.  \r\n",
    "ndarray.itemsize  \r\n",
    ": 어레이의 각 요소의 바이트 크기.  \r\n",
    "예를 들어, float64 타입의 요소를 갖는 어레이는 itemsize가 8 (=64/8).  \r\n",
    "complex32 타입을 갖는 어레이의 itemsize는 4 (=32/8). ndarray.dtype.itemsize와 같음.  \r\n",
    "ndarray.data\r\n",
    ": 어레이의 실제 요소를 갖는 버퍼.  \r\n",
    "보통, 인덱스 기능을 이용해서 어레이의 요소에 접근하기 때문에 이 속성을 사용할 필요가 없을 것임.\r\n",
    "'''  "
   ],
   "outputs": [],
   "metadata": {}
  },
  {
   "cell_type": "code",
   "execution_count": 2,
   "source": [
    "a = np.arange(15).reshape(3, 5)\r\n",
    "print(a)\r\n",
    "print('a.shape:', a.shape)             # 어레이의 차원\r\n",
    "print('a.ndim:', a.ndim)               # 어레이의 축의 개수\r\n",
    "print('a.dtype.name:', a.dtype.name)   # 어레이 요소의 타입\r\n",
    "print('a.itemsize:', a.itemsize)       # 어레이 요소의 바이트 크기\r\n",
    "print('a.size:', a.size)               # 어레이 요소의 총 개수\r\n",
    "print('type(a):', type(a))             # 어레이의 타입"
   ],
   "outputs": [
    {
     "output_type": "stream",
     "name": "stdout",
     "text": [
      "[[ 0  1  2  3  4]\n",
      " [ 5  6  7  8  9]\n",
      " [10 11 12 13 14]]\n",
      "a.shape: (3, 5)\n",
      "a.ndim: 2\n",
      "a.dtype.name: int32\n",
      "a.itemsize: 4\n",
      "a.size: 15\n",
      "type(a): <class 'numpy.ndarray'>\n"
     ]
    }
   ],
   "metadata": {}
  },
  {
   "cell_type": "markdown",
   "source": [
    "#### np.array() 사용하기\r\n",
    "- 파이썬 리스트 또는 튜플을 np.array()에 입력하면 NumPy 어레이가 만들어집니다."
   ],
   "metadata": {}
  },
  {
   "cell_type": "code",
   "execution_count": 3,
   "source": [
    "a = np.array([1, 2, 3, 4])\r\n",
    "print(a)\r\n",
    "print(type(a))\r\n",
    "print(a.dtype)\r\n",
    "\r\n",
    "b = np.array([1.2, 3.5, 5.1])\r\n",
    "print(b)\r\n",
    "print(type(b))\r\n",
    "print(b.dtype)"
   ],
   "outputs": [
    {
     "output_type": "stream",
     "name": "stdout",
     "text": [
      "[1 2 3 4]\n",
      "<class 'numpy.ndarray'>\n",
      "int32\n",
      "[1.2 3.5 5.1]\n",
      "<class 'numpy.ndarray'>\n",
      "float64\n"
     ]
    }
   ],
   "metadata": {}
  },
  {
   "cell_type": "markdown",
   "source": [
    "#### 타입 지정하기 (dtype)"
   ],
   "metadata": {}
  },
  {
   "cell_type": "code",
   "execution_count": 4,
   "source": [
    "a = np.array([[1,2], [3,4]], dtype=complex)\r\n",
    "print(a)"
   ],
   "outputs": [
    {
     "output_type": "stream",
     "name": "stdout",
     "text": [
      "[[1.+0.j 2.+0.j]\n",
      " [3.+0.j 4.+0.j]]\n"
     ]
    }
   ],
   "metadata": {}
  },
  {
   "cell_type": "markdown",
   "source": [
    "#### np.zeros(), np.ones(), np.empty() 사용하기"
   ],
   "metadata": {}
  },
  {
   "cell_type": "code",
   "execution_count": 5,
   "source": [
    "a = np.zeros(10)\r\n",
    "print(a)\r\n",
    "\r\n",
    "b = np.ones((2, 3, 4), dtype=np.int16)\r\n",
    "print(b)\r\n",
    "\r\n",
    "c = np.empty((2, 3))\r\n",
    "print(c)"
   ],
   "outputs": [
    {
     "output_type": "stream",
     "name": "stdout",
     "text": [
      "[0. 0. 0. 0. 0. 0. 0. 0. 0. 0.]\n",
      "[[[1 1 1 1]\n",
      "  [1 1 1 1]\n",
      "  [1 1 1 1]]\n",
      "\n",
      " [[1 1 1 1]\n",
      "  [1 1 1 1]\n",
      "  [1 1 1 1]]]\n",
      "[[0. 0. 0.]\n",
      " [0. 0. 0.]]\n"
     ]
    }
   ],
   "metadata": {}
  },
  {
   "cell_type": "markdown",
   "source": [
    "#### np.arange() 사용하기\r\n",
    "- 연속적인 숫자들을 만들어내기 위해 NumPy는 파이썬의 range()와 유사한 함수인 np.arange()를 제공하는데,\r\n",
    "- np.arange()는 리스트 대신 어레이를 반환합니다."
   ],
   "metadata": {}
  },
  {
   "cell_type": "markdown",
   "source": [
    "#### np.linspace() 사용하기\r\n",
    "- np.arange()를 부동소수점 인수와 함께 사용할 때,\r\n",
    "\r\n",
    "- 부동소수점 정밀도의 제한 때문에 일반적으로 요소의 개수를 예측하기 어렵습니다.\r\n",
    "\r\n",
    "- 이런 이유로 증가폭 (step) 대신 요소의 개수를 인수로 입력하는 np.linspace() 함수를 사용하는 것이 좋습니다.\r\n"
   ],
   "metadata": {}
  },
  {
   "cell_type": "markdown",
   "source": [
    "####1, 2, 3차원 어레이 출력하기\r\n"
   ],
   "metadata": {}
  },
  {
   "cell_type": "code",
   "execution_count": 7,
   "source": [
    "a = np.arange(6)                         # 1d array\r\n",
    "print(a)\r\n",
    "\r\n",
    "b = np.arange(12).reshape(4,3)           # 2d array\r\n",
    "print(b)\r\n",
    "\r\n",
    "c = np.arange(24).reshape(2,3,4)         # 3d array"
   ],
   "outputs": [
    {
     "output_type": "stream",
     "name": "stdout",
     "text": [
      "[0 1 2 3 4 5]\n",
      "[[ 0  1  2]\n",
      " [ 3  4  5]\n",
      " [ 6  7  8]\n",
      " [ 9 10 11]]\n"
     ]
    }
   ],
   "metadata": {}
  },
  {
   "cell_type": "code",
   "execution_count": null,
   "source": [],
   "outputs": [],
   "metadata": {}
  }
 ],
 "metadata": {
  "orig_nbformat": 4,
  "language_info": {
   "name": "python",
   "version": "3.8.5",
   "mimetype": "text/x-python",
   "codemirror_mode": {
    "name": "ipython",
    "version": 3
   },
   "pygments_lexer": "ipython3",
   "nbconvert_exporter": "python",
   "file_extension": ".py"
  },
  "kernelspec": {
   "name": "python3",
   "display_name": "Python 3.8.5 64-bit ('base': conda)"
  },
  "interpreter": {
   "hash": "b3ba2566441a7c06988d0923437866b63cedc61552a5af99d1f4fb67d367b25f"
  }
 },
 "nbformat": 4,
 "nbformat_minor": 2
}