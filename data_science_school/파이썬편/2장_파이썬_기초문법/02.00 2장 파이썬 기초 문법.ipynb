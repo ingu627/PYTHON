{
 "cells": [
  {
   "cell_type": "markdown",
   "metadata": {},
   "source": [
    "# 2장 파이썬 기초문법"
   ]
  },
  {
   "cell_type": "markdown",
   "metadata": {},
   "source": [
    "이 장에서는 파이썬을 처음 공부하는 사람을 위해 가장 기초적인 문법을 공부한다. 파이썬의 변수와 제어문, 자료구조를 잘 알고 있는 독자는 이 장을 건너뛰고 다음 장을 공부할 수 있다."
   ]
  },
  {
   "cell_type": "markdown",
   "metadata": {},
   "source": [
    "## 학습 목표"
   ]
  },
  {
   "cell_type": "markdown",
   "metadata": {},
   "source": [
    "* 파이썬으로 숫자를 다루는 법을 학습한다.\n",
    "* 파이썬으로 문자열을 다루는 법을 학습힌다.\n",
    "* `if` 문을 사용한 기초적인 조건문을 사용할 수 있다.\n",
    "* `for` 문을 사용한 기초적인 반복문을 사용할 수 있다.\n",
    "* 파이썬 함수를 만들고 사용할 수 있다.\n",
    "* 파이썬 리스트, 딕셔너리 자료형을 사용할 수 있다.\n",
    "* 클래스를 사용한 객체지향 프로그래밍을 할 수 있다.\n",
    "* 파이썬에서 날짜와 시간을 다룰 수 있다."
   ]
  }
 ],
 "metadata": {
  "kernelspec": {
   "display_name": "Python 3",
   "language": "python",
   "name": "python3"
  },
  "language_info": {
   "codemirror_mode": {
    "name": "ipython",
    "version": 3
   },
   "file_extension": ".py",
   "mimetype": "text/x-python",
   "name": "python",
   "nbconvert_exporter": "python",
   "pygments_lexer": "ipython3",
   "version": "3.8.3"
  }
 },
 "nbformat": 4,
 "nbformat_minor": 4
}
