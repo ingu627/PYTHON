{
 "cells": [
  {
   "cell_type": "markdown",
   "metadata": {},
   "source": [
    "# 3장 고급 선형대수"
   ]
  },
  {
   "cell_type": "markdown",
   "metadata": {},
   "source": [
    "이 장에서는 선형대수를 이용하여 기하학적 관점에서 데이터를 분해하고 여러 다른 각도에서 데이터를 바라보는 법과 고유값 분해, 특잇값 분해 등 행렬을 분석하는 여러 방법을 소개한다. 우리의 목표는 데이터 분석에 필요한 도구로써 선형대수를 공부하는 것이므로 엄밀한 수학적 증명은 대부분 생략한다. 하지만 이 정리들은 이후에 데이터 분석 공부에서 계속 쓰이므로 꼭 암기하고 있어야 한다."
   ]
  },
  {
   "cell_type": "markdown",
   "metadata": {},
   "source": [
    "## 학습 목표"
   ]
  },
  {
   "cell_type": "markdown",
   "metadata": {},
   "source": [
    "* 벡터와 행렬의 연산이 기하학적으로 어떤 의미인지 이해하고 벡터를 투영분해하며 이를 이용하여 직선의 방정식을 벡터 연산으로 나타낼 수 있다.\n",
    "* 벡터의 선형독립과 벡터공간의 의미를 이해하고 벡터를 벡터공간에 투영시킬 수 있다. 기저벡터가 바뀌었을 때 이에 해당하게 좌표 변환을 할 수 있다.\n",
    "* 고윳값 분해의 정의를 알고 행렬의 모양과 고윳값의 관계에 대한 성질을 암기한다.\n",
    "* 특잇값 분해의 정의를 알고 차원축소문제에 어떻게 응용할 수 있는지 이해한다. "
   ]
  }
 ],
 "metadata": {
  "kernelspec": {
   "display_name": "Python 3",
   "language": "python",
   "name": "python3"
  },
  "language_info": {
   "codemirror_mode": {
    "name": "ipython",
    "version": 3
   },
   "file_extension": ".py",
   "mimetype": "text/x-python",
   "name": "python",
   "nbconvert_exporter": "python",
   "pygments_lexer": "ipython3",
   "version": "3.7.3"
  }
 },
 "nbformat": 4,
 "nbformat_minor": 2
}
