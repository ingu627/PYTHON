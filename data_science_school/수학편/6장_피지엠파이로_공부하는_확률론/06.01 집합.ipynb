{
 "cells": [
  {
   "cell_type": "markdown",
   "metadata": {
    "school_cell_uuid": "be2e38404345481b8ed8676f333e6c31"
   },
   "source": [
    "## 6.1 집합"
   ]
  },
  {
   "cell_type": "markdown",
   "metadata": {
    "school_cell_uuid": "ce104d66546840508ec86fe02bc1a0c8"
   },
   "source": [
    "확률을 수학적으로 정의하기 위해서는 집합에 대한 지식이 필요하다. 따라서 확률론 공부에 들어가기 전에 집합론의 기초를 간단하게 복습한다. 파이썬에서 집합을 사용하기 위해 필요한 `set` 자료형과 `frozenset` 자료형의 사용법도 같이 살펴본다."
   ]
  },
  {
   "cell_type": "markdown",
   "metadata": {
    "school_cell_uuid": "b8868d1640194d20860183c230d9f669"
   },
   "source": [
    "### 집합과 원소"
   ]
  },
  {
   "cell_type": "markdown",
   "metadata": {
    "school_cell_uuid": "12fd9fe04e674d9f8e8b4250f2fac9ad"
   },
   "source": [
    "구별 가능한 객체의 모임을 **집합(set)**이라고 하고 집합에 포함된 구별 가능한 객체를 그 집합의 **원소(element)**라고 한다. 집합은 보통 알파벳 대문자를 사용하여 표시하고 원소는 알파벳 소문자로 표시한다. \n",
    "\n",
    "원소 $x$와 그 원소를 포함하는 집합 $A$의 관계는 다음처럼 표시한다.\n",
    "\n",
    "$$ \n",
    "\\begin{align}\n",
    "x \\in A \n",
    "\\tag{6.1.1}\n",
    "\\end{align}\n",
    "$$\n",
    "\n",
    "만약 원소 $x$가 집합 $A$에 포함되지 않는다면 다음처럼 표시한다.\n",
    "\n",
    "$$ \n",
    "\\begin{align}\n",
    "x \\notin A \n",
    "\\tag{6.1.2}\n",
    "\\end{align}\n",
    "$$\n",
    "\n",
    "따라서 만약 $ A = \\{ 1, 2, 3 \\} $이면,\n",
    "\n",
    "$$\n",
    "\\begin{align}\n",
    "1 \\in A, \\;\\;\\; 4 \\notin A\n",
    "\\tag{6.1.3}\n",
    "\\end{align}\n",
    "$$\n",
    "\n",
    "이다.\n",
    "\n",
    "집합을 이루는 객체가 반드시 숫자일 필요는 없다. 다음처럼 어떠한 원소도 포함할 수 있다.\n",
    "\n",
    "$$\n",
    "\\begin{align}\n",
    "B = \\{ H, T \\}\n",
    "\\tag{6.1.4}\n",
    "\\end{align}\n",
    "$$\n",
    "\n",
    "$$\n",
    "\\begin{align}\n",
    "C = \\{ \\spadesuit, \\heartsuit, \\diamondsuit, \\clubsuit \\}\n",
    "\\tag{6.1.5}\n",
    "\\end{align}\n",
    "$$\n",
    "\n",
    "파이썬에서는 `set`과 `frozenset` 자료형으로 집합을 나타낸다. `set`은 내용을 변경할 수 있는 뮤터블(mutable)자료형이고 `frozenset`은 내용을 변경할 수 없는 임뮤터블(immutable)자료형이다. (리스트 자료형과 튜플 자료형의 관계와 같다.) 뮤터블 자료형은 딕셔너리(dictionary) 자료형의 키(key)나 혹은 set 자료형의 원소가 될 수 없다. 임뮤터블 자료형만 딕셔너리 자료형의 키나 set 자료형의 원소가 될 수 있다."
   ]
  },
  {
   "cell_type": "code",
   "execution_count": 1,
   "metadata": {
    "school_cell_uuid": "35d617ceeb60454ea166db11a86af692"
   },
   "outputs": [
    {
     "data": {
      "text/plain": [
       "{1, 2, 3}"
      ]
     },
     "execution_count": 1,
     "metadata": {},
     "output_type": "execute_result"
    }
   ],
   "source": [
    "A = set([1, 2, 3, 3, 2])  # 중복된 자료는 없어진다.\n",
    "A"
   ]
  },
  {
   "cell_type": "code",
   "execution_count": 2,
   "metadata": {
    "school_cell_uuid": "de5759a5fd864d26ac796805ab855a1f"
   },
   "outputs": [
    {
     "data": {
      "text/plain": [
       "frozenset({'H', 'T'})"
      ]
     },
     "execution_count": 2,
     "metadata": {},
     "output_type": "execute_result"
    }
   ],
   "source": [
    "B = frozenset(['H', 'T'])\n",
    "B"
   ]
  },
  {
   "cell_type": "markdown",
   "metadata": {},
   "source": [
    "`set` 자료형은 `{` `}` 기호를 사용하여 만들 수도 있다."
   ]
  },
  {
   "cell_type": "code",
   "execution_count": 3,
   "metadata": {},
   "outputs": [
    {
     "data": {
      "text/plain": [
       "{'♠', '♡', '♢', '♣'}"
      ]
     },
     "execution_count": 3,
     "metadata": {},
     "output_type": "execute_result"
    }
   ],
   "source": [
    "C = {\"\\u2660\", \"\\u2661\", \"\\u2662\", \"\\u2663\"}\n",
    "C"
   ]
  },
  {
   "cell_type": "code",
   "execution_count": 4,
   "metadata": {},
   "outputs": [
    {
     "data": {
      "text/plain": [
       "set"
      ]
     },
     "execution_count": 4,
     "metadata": {},
     "output_type": "execute_result"
    }
   ],
   "source": [
    "type(C)"
   ]
  },
  {
   "cell_type": "markdown",
   "metadata": {
    "school_cell_uuid": "d7efc2cc5a444cabb04d3374a4142af7"
   },
   "source": [
    "### 집합의 크기"
   ]
  },
  {
   "cell_type": "markdown",
   "metadata": {
    "school_cell_uuid": "80bb3d0436744db99282fee56021e8c4"
   },
   "source": [
    "집합의 **크기(cardinality)**는 집합이 가지는 원소의 갯수를 말한다. $\\vert A \\vert$ 기호나 $\\text{card}$ 기호를 사용하여 나타낸다. 만약 $ A = \\{ 1, 2, 3 \\} $이면,\n",
    "\n",
    "$$\n",
    "\\begin{align}\n",
    "|A| = \\text{card}(A) = 3\n",
    "\\tag{6.1.6}\n",
    "\\end{align}\n",
    "$$\n",
    "\n",
    "이다.\n",
    "\n",
    "파이썬에서는 `len` 명령을 사용하여 집합의 원소의 갯수를 구한다."
   ]
  },
  {
   "cell_type": "code",
   "execution_count": 5,
   "metadata": {
    "school_cell_uuid": "7b1aacc2386540f3b54a745f6a4b1b9b"
   },
   "outputs": [
    {
     "data": {
      "text/plain": [
       "(3, 2, 4)"
      ]
     },
     "execution_count": 5,
     "metadata": {},
     "output_type": "execute_result"
    }
   ],
   "source": [
    "len(A), len(B), len(C)"
   ]
  },
  {
   "cell_type": "markdown",
   "metadata": {
    "school_cell_uuid": "4567ce29286f47329966eb9dbf0852ef"
   },
   "source": [
    "두 실수 사이에는 항상 다른 실수가 존재하므로 다음과 같은 실수 구간 집합은 무한개의 원소를 가진 집합이다. 예를 들어 다음 집합은 0보다 크고 1보다 같거나 작은 모든 실수로 이루어진 집합이며 원소의 갯수는 무한히 많다.\n",
    "\n",
    "$$\n",
    "\\begin{align}\n",
    "D = \\{ x: 0 < x \\leq 1 \\}\n",
    "\\tag{6.1.7}\n",
    "\\end{align}\n",
    "$$\n",
    "\n",
    "이러한 집합은 파이썬의 `set` 또는 `frozenset` 자료형으로 표현할 수 없다."
   ]
  },
  {
   "cell_type": "markdown",
   "metadata": {
    "school_cell_uuid": "74d2b4da909c4af491e7a01fd3488052"
   },
   "source": [
    "### 합집합과 교집합"
   ]
  },
  {
   "cell_type": "markdown",
   "metadata": {
    "school_cell_uuid": "03648aeda8944a0e9c4098ad41f41019"
   },
   "source": [
    "두 집합의 **합집합(union)**은 각 집합의 원소를 모두 포함하는 집합을 말하고 $\\cup$ 기호를 사용하여 표시한다. \n",
    "\n",
    "$$ \n",
    "\\begin{align}\n",
    "A \\cup B \n",
    "\\tag{6.1.8}\n",
    "\\end{align}\n",
    "$$\n",
    "\n",
    "두 집합의 **교집합(intersection)**은 두 사건 모두에 속하는 원소로만 이루어진 집합을 말하고 $\\cap$ 기호를 사용하여 표시한다. \n",
    "\n",
    "$$ \n",
    "\\begin{align}\n",
    "A \\cap B \n",
    "\\tag{6.1.9}\n",
    "\\end{align}\n",
    "$$\n",
    "\n",
    "\n",
    "\n",
    "파이썬에서는 `union`, `intersection` 메서드나 `|`, `&` 연산자를 사용하여 합집합과 교집합을 구할 수 있다."
   ]
  },
  {
   "cell_type": "code",
   "execution_count": 6,
   "metadata": {
    "school_cell_uuid": "577fe6bb68d8427aa44f3d415de31e8a"
   },
   "outputs": [],
   "source": [
    "A1 = set([1, 2, 3, 4])\n",
    "A2 = set([2, 4, 6])\n",
    "A3 = set([1, 2, 3])\n",
    "A4 = set([2, 3, 4, 5, 6])"
   ]
  },
  {
   "cell_type": "code",
   "execution_count": 7,
   "metadata": {
    "school_cell_uuid": "854dd4c4d23c4b45ac6615addc0e4eff"
   },
   "outputs": [
    {
     "data": {
      "text/plain": [
       "{1, 2, 3, 4, 6}"
      ]
     },
     "execution_count": 7,
     "metadata": {},
     "output_type": "execute_result"
    }
   ],
   "source": [
    "A1.union(A2)"
   ]
  },
  {
   "cell_type": "code",
   "execution_count": 8,
   "metadata": {
    "school_cell_uuid": "27f40b25380b4df1a6d17ea5d7adc36a"
   },
   "outputs": [
    {
     "data": {
      "text/plain": [
       "{1, 2, 3, 4, 6}"
      ]
     },
     "execution_count": 8,
     "metadata": {},
     "output_type": "execute_result"
    }
   ],
   "source": [
    "A2 | A1"
   ]
  },
  {
   "cell_type": "code",
   "execution_count": 9,
   "metadata": {
    "school_cell_uuid": "838ae0cfb9944f329e87d0f293b4fad8"
   },
   "outputs": [
    {
     "data": {
      "text/plain": [
       "{2, 3}"
      ]
     },
     "execution_count": 9,
     "metadata": {},
     "output_type": "execute_result"
    }
   ],
   "source": [
    "A3.intersection(A4)"
   ]
  },
  {
   "cell_type": "code",
   "execution_count": 10,
   "metadata": {
    "school_cell_uuid": "c400a0dfe5504bee8caa30d698dc5eb2"
   },
   "outputs": [
    {
     "data": {
      "text/plain": [
       "{2, 3}"
      ]
     },
     "execution_count": 10,
     "metadata": {},
     "output_type": "execute_result"
    }
   ],
   "source": [
    "A4 & A3"
   ]
  },
  {
   "cell_type": "markdown",
   "metadata": {
    "school_cell_uuid": "d9ae50d5fc3d454db01441fea7a1c91d"
   },
   "source": [
    "### 전체집합, 부분집합, 여집합"
   ]
  },
  {
   "cell_type": "markdown",
   "metadata": {
    "school_cell_uuid": "546145aeb9fb4758b826e38466bac1c4"
   },
   "source": [
    "어떤 집합의 원소 중 일부만을 포함하는 집합을 **부분집합(subset)**이라고 하고 원래의 집합을 **전체집합**이라고 한다. 집합 $A$가 집합 $\\Omega$의 의 부분집합이면 다음처럼 표시한다.\n",
    "\n",
    "$$ \n",
    "\\begin{align}\n",
    "A \\subset \\Omega \n",
    "\\tag{6.1.10}\n",
    "\\end{align}\n",
    "$$\n",
    "\n",
    "모든 집합은 자기 자신의 부분집합이다. \n",
    "\n",
    "$$ \n",
    "\\begin{align}\n",
    "A \\subset A, \\;\\text{ for all } A\n",
    "\\tag{6.1.11}\n",
    "\\end{align}\n",
    "$$\n",
    "\n",
    "\n",
    "\n",
    "원소의 크기가 더 작은 부분집합을 **진부분집합(proper subset)**이라고 한다.\n",
    "\n",
    "\n",
    "파이썬에서는 두 집합이 부분집합인지를 알아보는 `issubset` 메서드가 있다. 객체가 인수의 부분집합이면 `True`를 반환한다. 등호를 포함하는 부등식 연산자로도 같은 결과를 구할 수 있다. 더 작은 쪽이 부분집합이다. 등호가 없는 부등식 연산자는 진부분집합 관계를 구한다."
   ]
  },
  {
   "cell_type": "code",
   "execution_count": 11,
   "metadata": {
    "school_cell_uuid": "a80985fe92704c6b96f7dd0b6c1cd84b"
   },
   "outputs": [
    {
     "data": {
      "text/plain": [
       "True"
      ]
     },
     "execution_count": 11,
     "metadata": {},
     "output_type": "execute_result"
    }
   ],
   "source": [
    "A3.issubset(A1)"
   ]
  },
  {
   "cell_type": "code",
   "execution_count": 12,
   "metadata": {
    "school_cell_uuid": "d9f626d0341b4daea96ab5a208cb658d"
   },
   "outputs": [
    {
     "data": {
      "text/plain": [
       "True"
      ]
     },
     "execution_count": 12,
     "metadata": {},
     "output_type": "execute_result"
    }
   ],
   "source": [
    "A3 <= A1"
   ]
  },
  {
   "cell_type": "code",
   "execution_count": 13,
   "metadata": {
    "school_cell_uuid": "fd35c4c4820245d2992766a050c32663"
   },
   "outputs": [
    {
     "data": {
      "text/plain": [
       "False"
      ]
     },
     "execution_count": 13,
     "metadata": {},
     "output_type": "execute_result"
    }
   ],
   "source": [
    "A3.issubset(A2)"
   ]
  },
  {
   "cell_type": "code",
   "execution_count": 14,
   "metadata": {
    "school_cell_uuid": "dbfdb81c58f5411eb51dcb7df60f5146"
   },
   "outputs": [
    {
     "data": {
      "text/plain": [
       "False"
      ]
     },
     "execution_count": 14,
     "metadata": {},
     "output_type": "execute_result"
    }
   ],
   "source": [
    "A3 <= A2"
   ]
  },
  {
   "cell_type": "code",
   "execution_count": 15,
   "metadata": {
    "school_cell_uuid": "3ebbb968c445424d9265062afa1e9f64"
   },
   "outputs": [
    {
     "data": {
      "text/plain": [
       "True"
      ]
     },
     "execution_count": 15,
     "metadata": {},
     "output_type": "execute_result"
    }
   ],
   "source": [
    "A3 <= A3  # 모든 집합은 자기 자신의 부분집합이다."
   ]
  },
  {
   "cell_type": "code",
   "execution_count": 16,
   "metadata": {
    "school_cell_uuid": "14467aa481634d4b81d16186a890f31d"
   },
   "outputs": [
    {
     "data": {
      "text/plain": [
       "False"
      ]
     },
     "execution_count": 16,
     "metadata": {},
     "output_type": "execute_result"
    }
   ],
   "source": [
    "A3 < A3  # 모든 집합은 자기 자신의 진부분집합이 아니다."
   ]
  },
  {
   "cell_type": "markdown",
   "metadata": {
    "school_cell_uuid": "1ebe5ef112e441e2aa99fa8cffa7a94e"
   },
   "source": [
    "### 차집합과 여집합"
   ]
  },
  {
   "cell_type": "markdown",
   "metadata": {
    "school_cell_uuid": "655588453fbe4ffa83221380b3ab9abe"
   },
   "source": [
    "어떤 집합 $A$에 속하면서 다른 집합 $B$에는 속하지 않는 원소로 이루어진 $A$의 부분집합을 $A$에서 $B$를 뺀 **차집합(difference)**이라고 하며\n",
    "\n",
    "$$ \n",
    "\\begin{align}\n",
    "A-B \n",
    "\\tag{6.1.12}\n",
    "\\end{align}\n",
    "$$\n",
    "\n",
    "로 나타낸다.\n",
    "\n",
    "전체집합 $\\Omega$ 중에서 부분집합 $A$에 속하지 않은 원소로만 이루어진 부분집합을 **여집합**(complement)이라고 하고 윗첨자 $C$를 사용하여 \n",
    "\n",
    "$$ \n",
    "\\begin{align}\n",
    "A^C\n",
    "\\tag{6.1.13}\n",
    "\\end{align}\n",
    "$$\n",
    "\n",
    "로 표시한다. \n",
    "여집합 $A^C$은 전체집합에서 집합 $A$를 뺀 차집합과 같다.\n",
    "\n",
    "$$ \n",
    "\\begin{align}\n",
    "A^C = \\Omega - A\n",
    "\\tag{6.1.14}\n",
    "\\end{align}\n",
    "$$\n",
    "\n",
    "파이썬에서는 `difference` 메서드 혹은 `-` 연산자로 차집합을 구한다."
   ]
  },
  {
   "cell_type": "code",
   "execution_count": 17,
   "metadata": {
    "school_cell_uuid": "5fd32412778445fda967e442e5120978"
   },
   "outputs": [
    {
     "data": {
      "text/plain": [
       "{1, 3}"
      ]
     },
     "execution_count": 17,
     "metadata": {},
     "output_type": "execute_result"
    }
   ],
   "source": [
    "A1.difference(A2)"
   ]
  },
  {
   "cell_type": "code",
   "execution_count": 18,
   "metadata": {
    "school_cell_uuid": "a90ae07c889a481182d49b59403ab842"
   },
   "outputs": [
    {
     "data": {
      "text/plain": [
       "{1, 3}"
      ]
     },
     "execution_count": 18,
     "metadata": {},
     "output_type": "execute_result"
    }
   ],
   "source": [
    "A1 - A2"
   ]
  },
  {
   "cell_type": "markdown",
   "metadata": {
    "school_cell_uuid": "afd35c6a6eb049e29e9706ef0122147b"
   },
   "source": [
    "### 공집합"
   ]
  },
  {
   "cell_type": "markdown",
   "metadata": {
    "school_cell_uuid": "b6e000200bfc42889ccb84c085fd3da2"
   },
   "source": [
    "아무런 원소도 포함하지 않는 집합을 **공집합(null set)**이라고 하며 $\\emptyset$ 기호로 나타낸다. \n",
    "\n",
    "공집합은 모든 집합의 부분집합이 된다.\n",
    "\n",
    "$$ \n",
    "\\begin{align}\n",
    "\\emptyset \\subset A, \\;\\text{ for all } A \n",
    "\\tag{6.1.15}\n",
    "\\end{align}\n",
    "$$\n",
    "\n",
    "\n",
    "또한 임의의 집합과 공집합의 교집합은 공집합이, 임의의 집합과 공집합의 합집합은 그 집합 자신이 된다.\n",
    "\n",
    "$$ \n",
    "\\begin{align}\n",
    "A \\cap \\emptyset = \\emptyset \n",
    "\\tag{6.1.16}\n",
    "\\end{align}\n",
    "$$\n",
    "\n",
    "$$ \n",
    "\\begin{align}\n",
    "A \\cup \\emptyset = A  \n",
    "\\tag{6.1.17}\n",
    "\\end{align}\n",
    "$$\n",
    "\n",
    "여집합과 원래의 집합의 교집합은 공집합이다.\n",
    "\n",
    "$$ \n",
    "\\begin{align}\n",
    "A \\cap A^C = \\emptyset\n",
    "\\tag{6.1.18}\n",
    "\\end{align}\n",
    "$$\n"
   ]
  },
  {
   "cell_type": "code",
   "execution_count": 19,
   "metadata": {
    "school_cell_uuid": "d863d486a96e4ec3b14c23492670b9d3"
   },
   "outputs": [
    {
     "data": {
      "text/plain": [
       "set()"
      ]
     },
     "execution_count": 19,
     "metadata": {},
     "output_type": "execute_result"
    }
   ],
   "source": [
    "empty_set = set([])\n",
    "empty_set"
   ]
  },
  {
   "cell_type": "code",
   "execution_count": 20,
   "metadata": {
    "school_cell_uuid": "a3fe4dc847c94568957b02a148d1a959"
   },
   "outputs": [
    {
     "data": {
      "text/plain": [
       "True"
      ]
     },
     "execution_count": 20,
     "metadata": {},
     "output_type": "execute_result"
    }
   ],
   "source": [
    "empty_set < A1"
   ]
  },
  {
   "cell_type": "code",
   "execution_count": 21,
   "metadata": {
    "school_cell_uuid": "663b340d2d174b9aa2500526ad6f938d"
   },
   "outputs": [
    {
     "data": {
      "text/plain": [
       "set()"
      ]
     },
     "execution_count": 21,
     "metadata": {},
     "output_type": "execute_result"
    }
   ],
   "source": [
    "empty_set.intersection(A1)"
   ]
  },
  {
   "cell_type": "code",
   "execution_count": 22,
   "metadata": {
    "school_cell_uuid": "6731e9bfd0694b41b8765994c55186a5"
   },
   "outputs": [
    {
     "data": {
      "text/plain": [
       "{1, 2, 3, 4}"
      ]
     },
     "execution_count": 22,
     "metadata": {},
     "output_type": "execute_result"
    }
   ],
   "source": [
    "empty_set.union(A1)"
   ]
  },
  {
   "cell_type": "markdown",
   "metadata": {
    "school_cell_uuid": "e72cefb5ca4f4a378159dd47ff173c0b"
   },
   "source": [
    "### 부분집합의 수"
   ]
  },
  {
   "cell_type": "markdown",
   "metadata": {
    "school_cell_uuid": "f241b511489e43e397e05ba8e3b12aa0"
   },
   "source": [
    "집합 $A = \\{ 1, 2 \\}$는 다음과 같은 4개의 부분집합을 가진다. 공집합과 자기 자신인 집합도 부분집합이라는 점에 주의한다.\n",
    "\n",
    "$$\n",
    "\\begin{align}\n",
    "A_1 = \\emptyset\n",
    "\\tag{6.1.19}\n",
    "\\end{align}\n",
    "$$\n",
    "\n",
    "$$\n",
    "\\begin{align}\n",
    "A_2 = \\{ 1 \\}\n",
    "\\tag{6.1.20}\n",
    "\\end{align}\n",
    "$$\n",
    "\n",
    "$$\n",
    "\\begin{align}\n",
    "A_3 = \\{ 2 \\}\n",
    "\\tag{6.1.21}\n",
    "\\end{align}\n",
    "$$\n",
    "\n",
    "$$\n",
    "\\begin{align}\n",
    "A_4 = \\{ 1, 2 \\}\n",
    "\\tag{6.1.22}\n",
    "\\end{align}\n",
    "$$\n",
    "\n",
    "\n",
    "부분집합을 만들때 우리가 결정할 수 있는 것은 각각의 원소가 우리가 만들고자 하는 부분집합에 포함되느냐 포함되지 않느냐이다.  $N$개의 원소 모두에 대해 이러한 의사결정을 하면 부분집합의 갯수는 우리가 할 수 있는 의사결정의 가짓수인 $2^N$개가 된다.\n",
    "\n",
    "> **[정리]** 원소의 갯수가  $N$개인 집합은 $2^N$개의 부분집합을 가진다. \n"
   ]
  },
  {
   "cell_type": "markdown",
   "metadata": {
    "bootstrap": {
     "panel": {
      "class": "panel-default"
     }
    },
    "school_cell_uuid": "332ee864cfb748c09aed45028cf725f2"
   },
   "source": [
    "#### 연습 문제 6.1.1\n",
    "\n",
    "다음 집합의 부분집합을 생각한다.\n",
    "\n",
    "$$\n",
    "\\begin{align}\n",
    "\\Omega = \\{ HH, HT, TH, TT \\}\n",
    "\\tag{6.1.23}\n",
    "\\end{align}\n",
    "$$\n",
    "\n",
    "\n",
    "(1) 이 집합의 부분집합의 갯수는?\n",
    "\n",
    "(2) 이 집합의 모든 부분집합을 `frozenset` 자료형 객체로 만들고 이 부분집합들을 원소로 가지는 하나의 `set` 객체를 만든다. 이 집합은 일종의 \"부분집합의 집합\"이 된다."
   ]
  },
  {
   "cell_type": "markdown",
   "metadata": {
    "school_cell_uuid": "da98e91c893843b6832a2e1b0035db1d"
   },
   "source": [
    "### 합집합과 교집합의 분배 법칙"
   ]
  },
  {
   "cell_type": "markdown",
   "metadata": {
    "school_cell_uuid": "b6cab87e7a804547b570d1de5f816d81"
   },
   "source": [
    "곱셈과 덧셈의 분배 법칙은 다음과 같다.\n",
    "\n",
    "$$\n",
    "\\begin{align}\n",
    "a \\times (b + c) = a \\times b + a \\times c\n",
    "\\tag{6.1.24}\n",
    "\\end{align}\n",
    "$$\n",
    " \n",
    "곱셈과 덧셈의 분배 법칙처럼 교집합과 합집합도 괄호를 풀어내는 분배법칙이 성립한다.\n",
    "\n",
    "$$ \n",
    "\\begin{align}\n",
    "A \\cup (B \\cap C) = (A \\cup B) \\cap (A \\cup C)\n",
    "\\tag{6.1.25}\n",
    "\\end{align}\n",
    "$$\n",
    "\n",
    "$$ \n",
    "\\begin{align}\n",
    "A \\cap (B \\cup C) = (A \\cap B) \\cup (A \\cap C) \n",
    "\\tag{6.1.26}\n",
    "\\end{align}\n",
    "$$\n"
   ]
  },
  {
   "cell_type": "markdown",
   "metadata": {
    "bootstrap": {
     "panel": {
      "class": "panel-default"
     }
    },
    "school_cell_uuid": "332ee864cfb748c09aed45028cf725f2"
   },
   "source": [
    "#### 연습 문제 6.1.2\n",
    "\n",
    "다음 세 집합 $A$, $B$, $C$에 대해 위에서 말한 두가지 분배법칙이 성립하는지 파이썬 코드로 증명하라.\n",
    "\n",
    "$$\n",
    "\\begin{align}\n",
    "A = \\{ 1, 3, 5 \\}\n",
    "\\tag{6.1.27}\n",
    "\\end{align}\n",
    "$$\n",
    "\n",
    "$$\n",
    "\\begin{align}\n",
    "B = \\{ 1, 2, 3 \\}\n",
    "\\tag{6.1.28}\n",
    "\\end{align}\n",
    "$$\n",
    "\n",
    "$$\n",
    "\\begin{align}\n",
    "C = \\{ 2, 4, 6 \\}\n",
    "\\tag{6.1.29}\n",
    "\\end{align}\n",
    "$$\n"
   ]
  }
 ],
 "metadata": {
  "celltoolbar": "Edit Metadata",
  "kernelspec": {
   "display_name": "Python 3",
   "language": "python",
   "name": "python3"
  },
  "language_info": {
   "codemirror_mode": {
    "name": "ipython",
    "version": 3
   },
   "file_extension": ".py",
   "mimetype": "text/x-python",
   "name": "python",
   "nbconvert_exporter": "python",
   "pygments_lexer": "ipython3",
   "version": "3.7.0"
  },
  "pycharm": {
   "stem_cell": {
    "cell_type": "raw",
    "metadata": {
     "collapsed": false
    },
    "source": []
   }
  },
  "toc": {
   "base_numbering": 1,
   "nav_menu": {},
   "number_sections": false,
   "sideBar": true,
   "skip_h1_title": false,
   "title_cell": "Table of Contents",
   "title_sidebar": "Contents",
   "toc_cell": false,
   "toc_position": {},
   "toc_section_display": true,
   "toc_window_display": false
  }
 },
 "nbformat": 4,
 "nbformat_minor": 4
}
