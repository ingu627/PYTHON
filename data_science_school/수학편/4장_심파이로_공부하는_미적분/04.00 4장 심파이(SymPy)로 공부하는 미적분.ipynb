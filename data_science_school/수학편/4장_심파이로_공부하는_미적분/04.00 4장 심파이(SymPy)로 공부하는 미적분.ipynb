{
 "cells": [
  {
   "cell_type": "markdown",
   "metadata": {},
   "source": [
    "# 4장 심파이(SymPy)로 공부하는 미적분"
   ]
  },
  {
   "cell_type": "markdown",
   "metadata": {},
   "source": [
    "이 장에서는 함수와 미분, 적분을 공부한다. 함수는 입력 데이터를 받아서 출력 데이터를 만들어 내보내는 과정이므로 데이터 분석의 본질적인 작업이다. 우리가 원하는 것은 주어진 입력 데이터로부터 우리가 원하는 출력 데이터를 만들어 주는 좋은 분석용 함수를 찾는 방법이다. 좋은 함수라는 것이 처음부터 저절로 주어지는 것이 아니기 때문에 우리는 그다지 좋지 않은 함수를 조금씩 고쳐서 좋은 함수로 만드는 방식을 취한다. 미분은 함수의 입력 값이나 계수가 바뀌었을 때 함수의 출력이 어떻게 변하는지를 알려주는 일종의 신호이다. 여기에서는 이러한 신호에 해당하는 미분을 계산하는 방법에 대해 알아보고 미분의 반대 과정인 적분도 공부하게 된다. 마지막으로 데이터가 아닌 함수 자체를 입력으로 받아서 함수의 점수를 출력하는 범함수라는 개념도 소개한다.  "
   ]
  },
  {
   "cell_type": "markdown",
   "metadata": {},
   "source": [
    "## 학습 목표"
   ]
  },
  {
   "cell_type": "markdown",
   "metadata": {},
   "source": [
    "* 함수, 역함수의 의미와 함수를 파이썬으로 구현하는 법을 공부한다.\n",
    "* 함수의 그래프를 그리는 방법과 함수의 기울기를 구하는 방법을 이해한다. \n",
    "* 데이터 분석에 많이 쓰이는 다양한 함수의 종류와 특징을 알아본다.\n",
    "* 함수의 미분 공식을 이용하여 함수의 도함수를 구하는 방법을 익힌다.\n",
    "* 심볼릭 연산의 의미를 이해하고 SymPy로 미분과 적분을 하는 방법을 알아본다.\n",
    "* 부정적분과 정적분을 구별할 수 있다.\n",
    "* 벡터와 행렬로 이루어진 함수를 미분할 수 있다.\n",
    "* 범함수의 의미와 범함수의 도함수를 구하는 공식에 대해 알아본다."
   ]
  }
 ],
 "metadata": {
  "kernelspec": {
   "display_name": "Python 3",
   "language": "python",
   "name": "python3"
  },
  "language_info": {
   "codemirror_mode": {
    "name": "ipython",
    "version": 3
   },
   "file_extension": ".py",
   "mimetype": "text/x-python",
   "name": "python",
   "nbconvert_exporter": "python",
   "pygments_lexer": "ipython3",
   "version": "3.7.0"
  },
  "pycharm": {
   "stem_cell": {
    "cell_type": "raw",
    "metadata": {
     "collapsed": false
    },
    "source": []
   }
  }
 },
 "nbformat": 4,
 "nbformat_minor": 2
}
