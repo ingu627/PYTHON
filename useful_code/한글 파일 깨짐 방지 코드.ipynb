{
 "cells": [
  {
   "cell_type": "code",
   "execution_count": null,
   "source": [
    "# 한글 깨짐 방지 코드\r\n",
    "import matplotlib\r\n",
    "from matplotlib import font_manager, rc\r\n",
    "import platform\r\n",
    "if platform.system()==\"Windows\":\r\n",
    "    font_name=font_manager.FontProperties(fname=\"c:/Windows/Fonts/malgun.ttf\").get_name()\r\n",
    "    rc('font', family=font_name)\r\n",
    "matplotlib.rcParams['axes.unicode_minus']=False\r\n",
    "\r\n",
    "import warnings\r\n",
    "warnings.filterwarnings(\"ignore\")"
   ],
   "outputs": [],
   "metadata": {}
  }
 ],
 "metadata": {
  "orig_nbformat": 4,
  "language_info": {
   "name": "python"
  }
 },
 "nbformat": 4,
 "nbformat_minor": 2
}