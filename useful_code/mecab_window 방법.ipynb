{
 "cells": [
  {
   "cell_type": "code",
   "execution_count": 1,
   "metadata": {},
   "outputs": [],
   "source": [
    "from konlpy.tag import Kkma\n",
    "from konlpy.tag import Komoran\n",
    "from konlpy.tag import Hannanum\n",
    "# from konlpy.tag import Mecab\n",
    "#import MeCab (윈도우 유저들.) => 불러오기 차이만 있고 실행결과는 똑같다.\n",
    "import MeCab\n",
    "\n",
    "\n",
    "from konlpy.tag import Okt # Twitter 형태소분석기.\n",
    "import re\n",
    "\n",
    "# 형태소 분석을 위한 객체 생성. == 생성자를 만들어야 한다.\n",
    "mecab = MeCab.Tagger()\n",
    "kkma = Kkma()\n",
    "komoran = Komoran()\n",
    "hannanum = Hannanum()\n",
    "# mecab = Mecab()\n",
    "okt = Okt()"
   ]
  },
  {
   "cell_type": "code",
   "execution_count": 2,
   "metadata": {},
   "outputs": [],
   "source": [
    "def mecab_nouns(text):\n",
    "    nouns = []\n",
    "    \n",
    "    # 우리가 원하는 TOKEN\\tPOS의 형태를 추출하는 정규표현식.\n",
    "    pattern = re.compile('.*\\t[A-Z]+')\n",
    "    \n",
    "    \n",
    "    # 패턴에 맞는 문자열을 추출하여 konlpy의 mecab 결과와 같아지도록 수정.\n",
    "    temp =[tuple(pattern.match(token).group(0).split('\\t')) for token in mecab.parse(text).splitlines()[:-1]]  \n",
    "    # 추출한 token중에 POS가 명사 분류에 속하는 토큰만 선택.\n",
    "    for token in temp:\n",
    "        if token[1] == 'NNG' or token[1] == 'NNP' or token[1] == 'NNB' or token[1] == 'NNBC' or token[1] == 'NP' or token[1] == 'NR':\n",
    "            nouns.append(token[0])\n",
    "\n",
    "    return nouns\n",
    "\n",
    "def mecab_morphs(text):\n",
    "    morphs = []\n",
    "    \n",
    "    # 우리가 원하는 TOKEN\\tPOS의 형태를 추출하는 정규표현식.\n",
    "    pattern = re.compile('.*\\t[A-Z]+')\n",
    "\n",
    "    # 패턴에 맞는 문자열을 추출하여 konlpy의 mecab 결과와 같아지도록 수정.\n",
    "    temp =[tuple(pattern.match(token).group(0).split('\\t')) for token in mecab.parse(text).splitlines()[:-1]]  \n",
    "        \n",
    "    # 추출한 token중에 문자열만 선택.\n",
    "    for token in temp:\n",
    "        morphs.append(token[0])\n",
    "\n",
    "    return morphs\n",
    "\n",
    "def mecab_pos(text):\n",
    "    pos = []\n",
    "    # 우리가 원하는 TOKEN\\tPOS의 형태를 추출하는 정규표현식.\n",
    "    pattern = re.compile('.*\\t[A-Z]+')\n",
    "\n",
    "    # 패턴에 맞는 문자열을 추출하여 konlpy의 mecab 결과와 같아지도록 수정.\n",
    "    # group(0) = str로 만듦\n",
    "    pos = [tuple(pattern.match(token).group(0).split('\\t')) for token in mecab.parse(text).splitlines()[:-1]]\n",
    "        \n",
    "    return pos"
   ]
  }
 ],
 "metadata": {
  "interpreter": {
   "hash": "c270e6328e3db603edbbf92178afe07abc75c12ec50d7594e3b3ea046e4043cd"
  },
  "kernelspec": {
   "display_name": "Python 3.6.13 64-bit ('NLP': conda)",
   "name": "python3"
  },
  "language_info": {
   "codemirror_mode": {
    "name": "ipython",
    "version": 3
   },
   "file_extension": ".py",
   "mimetype": "text/x-python",
   "name": "python",
   "nbconvert_exporter": "python",
   "pygments_lexer": "ipython3",
   "version": "3.6.13"
  },
  "orig_nbformat": 4
 },
 "nbformat": 4,
 "nbformat_minor": 2
}
