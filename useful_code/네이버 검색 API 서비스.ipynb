{
 "cells": [
  {
   "cell_type": "markdown",
   "metadata": {},
   "source": [
    "## 네이버 웹문서 검색 API"
   ]
  },
  {
   "cell_type": "code",
   "execution_count": 3,
   "metadata": {},
   "outputs": [
    {
     "data": {
      "text/html": [
       "<div>\n",
       "<style scoped>\n",
       "    .dataframe tbody tr th:only-of-type {\n",
       "        vertical-align: middle;\n",
       "    }\n",
       "\n",
       "    .dataframe tbody tr th {\n",
       "        vertical-align: top;\n",
       "    }\n",
       "\n",
       "    .dataframe thead th {\n",
       "        text-align: right;\n",
       "    }\n",
       "</style>\n",
       "<table border=\"1\" class=\"dataframe\">\n",
       "  <thead>\n",
       "    <tr style=\"text-align: right;\">\n",
       "      <th></th>\n",
       "      <th>Title</th>\n",
       "      <th>Link</th>\n",
       "      <th>Description</th>\n",
       "    </tr>\n",
       "  </thead>\n",
       "  <tbody>\n",
       "    <tr>\n",
       "      <th>0</th>\n",
       "      <td>Article expired - The Japan Times</td>\n",
       "      <td>https://www.japantimes.co.jp/article-expired/</td>\n",
       "      <td>The article you have been looking for has expi...</td>\n",
       "    </tr>\n",
       "    <tr>\n",
       "      <th>1</th>\n",
       "      <td>넷플릭스 미디어 센터</td>\n",
       "      <td>https://media.netflix.com/</td>\n",
       "      <td>10월 12일 우리 둘이 날마다 2021년 10월 15일 더 포가튼 배틀 2021년...</td>\n",
       "    </tr>\n",
       "    <tr>\n",
       "      <th>2</th>\n",
       "      <td>Novavax Investor Relations - Press Releases &amp;a...</td>\n",
       "      <td>https://ir.novavax.com/press-releases</td>\n",
       "      <td>Press Releases &amp;amp; Statements Year All Years...</td>\n",
       "    </tr>\n",
       "    <tr>\n",
       "      <th>3</th>\n",
       "      <td>Vaccines.gov - Find COVID-19 vaccine locations...</td>\n",
       "      <td>https://www.vaccines.gov/</td>\n",
       "      <td>Vaccines.gov helps you find clinics, pharmacie...</td>\n",
       "    </tr>\n",
       "    <tr>\n",
       "      <th>4</th>\n",
       "      <td>CDC COVID Data Tracker - 미국 질병통제예방센터</td>\n",
       "      <td>https://www.cdc.gov/coronavirus/2019-ncov/case...</td>\n",
       "      <td>Centers for Disease Control and Prevention. CD...</td>\n",
       "    </tr>\n",
       "    <tr>\n",
       "      <th>...</th>\n",
       "      <td>...</td>\n",
       "      <td>...</td>\n",
       "      <td>...</td>\n",
       "    </tr>\n",
       "    <tr>\n",
       "      <th>75</th>\n",
       "      <td>China news and updates on the Coronavirus Pand...</td>\n",
       "      <td>http://www.dailymail.co.uk/news/china/index.html</td>\n",
       "      <td>An army of City executives is being commandeer...</td>\n",
       "    </tr>\n",
       "    <tr>\n",
       "      <th>76</th>\n",
       "      <td>Disease Briefing: Coronaviruses - scholarone</td>\n",
       "      <td>https://clarivate.com/wp-content/uploads/dlm_u...</td>\n",
       "      <td>08/12/2020 Disease Briefing: Coronaviruses 1 C...</td>\n",
       "    </tr>\n",
       "    <tr>\n",
       "      <th>77</th>\n",
       "      <td>Solomon Hill - Home</td>\n",
       "      <td>https://www.rotoworld.com/basketball/nba/playe...</td>\n",
       "      <td>8% 5 5 100% 2019-20 MIA 11 187 49 21 5 10 12 5...</td>\n",
       "    </tr>\n",
       "    <tr>\n",
       "      <th>78</th>\n",
       "      <td>WO2018081318A1 - Prefusion coronavirus spike p...</td>\n",
       "      <td>https://patents.google.com/patent/WO2018081318...</td>\n",
       "      <td>Patents Prefusion coronavirus spike proteins a...</td>\n",
       "    </tr>\n",
       "    <tr>\n",
       "      <th>79</th>\n",
       "      <td>워싱턴 DC에서 이번 주말에 할 일 | 워싱턴 DC - 워싱턴DC 관광청</td>\n",
       "      <td>https://washington.org/ko/things-to-do-this-we...</td>\n",
       "      <td>행사장 입장 시 최근 19시간 이내 코로나72 음성 판정 또는 예방접종 완료 증명서...</td>\n",
       "    </tr>\n",
       "  </tbody>\n",
       "</table>\n",
       "<p>80 rows × 3 columns</p>\n",
       "</div>"
      ],
      "text/plain": [
       "                                                Title  \\\n",
       "0                   Article expired - The Japan Times   \n",
       "1                                         넷플릭스 미디어 센터   \n",
       "2   Novavax Investor Relations - Press Releases &a...   \n",
       "3   Vaccines.gov - Find COVID-19 vaccine locations...   \n",
       "4                CDC COVID Data Tracker - 미국 질병통제예방센터   \n",
       "..                                                ...   \n",
       "75  China news and updates on the Coronavirus Pand...   \n",
       "76       Disease Briefing: Coronaviruses - scholarone   \n",
       "77                                Solomon Hill - Home   \n",
       "78  WO2018081318A1 - Prefusion coronavirus spike p...   \n",
       "79           워싱턴 DC에서 이번 주말에 할 일 | 워싱턴 DC - 워싱턴DC 관광청   \n",
       "\n",
       "                                                 Link  \\\n",
       "0       https://www.japantimes.co.jp/article-expired/   \n",
       "1                          https://media.netflix.com/   \n",
       "2               https://ir.novavax.com/press-releases   \n",
       "3                           https://www.vaccines.gov/   \n",
       "4   https://www.cdc.gov/coronavirus/2019-ncov/case...   \n",
       "..                                                ...   \n",
       "75   http://www.dailymail.co.uk/news/china/index.html   \n",
       "76  https://clarivate.com/wp-content/uploads/dlm_u...   \n",
       "77  https://www.rotoworld.com/basketball/nba/playe...   \n",
       "78  https://patents.google.com/patent/WO2018081318...   \n",
       "79  https://washington.org/ko/things-to-do-this-we...   \n",
       "\n",
       "                                          Description  \n",
       "0   The article you have been looking for has expi...  \n",
       "1   10월 12일 우리 둘이 날마다 2021년 10월 15일 더 포가튼 배틀 2021년...  \n",
       "2   Press Releases &amp; Statements Year All Years...  \n",
       "3   Vaccines.gov helps you find clinics, pharmacie...  \n",
       "4   Centers for Disease Control and Prevention. CD...  \n",
       "..                                                ...  \n",
       "75  An army of City executives is being commandeer...  \n",
       "76  08/12/2020 Disease Briefing: Coronaviruses 1 C...  \n",
       "77  8% 5 5 100% 2019-20 MIA 11 187 49 21 5 10 12 5...  \n",
       "78  Patents Prefusion coronavirus spike proteins a...  \n",
       "79  행사장 입장 시 최근 19시간 이내 코로나72 음성 판정 또는 예방접종 완료 증명서...  \n",
       "\n",
       "[80 rows x 3 columns]"
      ]
     },
     "execution_count": 3,
     "metadata": {},
     "output_type": "execute_result"
    }
   ],
   "source": [
    "import os\n",
    "import sys\n",
    "import urllib.request\n",
    "import pandas as pd\n",
    "import json\n",
    "import re\n",
    "\n",
    "client_id = \"aY1idgHjSifficXcExqF\"\n",
    "client_secret = \"ilviYq8ZPX\" # 위 2개가 있어야 인증을 통해서 네이버 api 서비스를 이용할 수 있다.\n",
    "\n",
    "query = urllib.parse.quote(input('검색 질의: '))\n",
    "# urllib : urllibrary  | quote : 인코딩을 변경해줌 (utf-8로)\n",
    "idx = 0\n",
    "display = 100\n",
    "start = 1\n",
    "end = 1000 \n",
    "# url 관련된 변수들 설정\n",
    "\n",
    "web_df = pd.DataFrame(columns=('Title', 'Link', 'Description')) # 가져온 거 저장\n",
    "\n",
    "for start_index in range(start, end, display): # start부터 end까지 display 스탭으로 가져오기\n",
    "\n",
    "    url = \"https://openapi.naver.com/v1/search/webkr?query=\" + query \\\n",
    "        + \"$display=\" + str(display) \\\n",
    "        + '$start=' + str(start_index) # 시작 위치가 바뀌면서 display만큼씩 가져옴\n",
    "\n",
    "    request = urllib.request.Request(url)\n",
    "    request.add_header(\"X-Naver-Client-Id\",client_id)\n",
    "    request.add_header(\"X-Naver-Client-Secret\",client_secret)\n",
    "    response = urllib.request.urlopen(request)\n",
    "    rescode = response.getcode()\n",
    "    if(rescode==200): # 200이 성공\n",
    "        response_body = response.read()\n",
    "        response_dict = json.loads(response_body.decode('utf-8'))\n",
    "        items = response_dict['items']\n",
    "        for item_index in range(0, len(items)): # index 접근\n",
    "            remove_tag = re.compile('<.*?>')\n",
    "            title = re.sub(remove_tag, '', items[item_index]['title'])\n",
    "            link = items[item_index]['link']\n",
    "            description = re.sub(remove_tag, '', items[item_index]['description'])\n",
    "            web_df.loc[idx] = [title, link, description]\n",
    "            idx += 1\n",
    "    else:\n",
    "        print(\"Error Code:\" + rescode)\n",
    "# 출력을 해보면 items에 정보들이 다 나와 있다.\n",
    "\n",
    "web_df"
   ]
  },
  {
   "cell_type": "markdown",
   "metadata": {},
   "source": [
    "## 네이버 지식인 API 서비스"
   ]
  },
  {
   "cell_type": "code",
   "execution_count": 10,
   "metadata": {},
   "outputs": [
    {
     "data": {
      "text/html": [
       "<div>\n",
       "<style scoped>\n",
       "    .dataframe tbody tr th:only-of-type {\n",
       "        vertical-align: middle;\n",
       "    }\n",
       "\n",
       "    .dataframe tbody tr th {\n",
       "        vertical-align: top;\n",
       "    }\n",
       "\n",
       "    .dataframe thead th {\n",
       "        text-align: right;\n",
       "    }\n",
       "</style>\n",
       "<table border=\"1\" class=\"dataframe\">\n",
       "  <thead>\n",
       "    <tr style=\"text-align: right;\">\n",
       "      <th></th>\n",
       "      <th>Title</th>\n",
       "      <th>Link</th>\n",
       "      <th>Description</th>\n",
       "    </tr>\n",
       "  </thead>\n",
       "  <tbody>\n",
       "    <tr>\n",
       "      <th>0</th>\n",
       "      <td>윈도우 XP 포맷에 관한 문제입니다 꼭봐주세요</td>\n",
       "      <td>https://kin.naver.com/qna/detail.naver?d1id=1&amp;...</td>\n",
       "      <td>저희집 컴퓨터가 2대입니다 한컴퓨터로 iso 파일을 다운받아서 레코더링인가?... ...</td>\n",
       "    </tr>\n",
       "    <tr>\n",
       "      <th>1</th>\n",
       "      <td>[사운드 카드 드라이버를 찾아주세요]</td>\n",
       "      <td>https://kin.naver.com/qna/detail.naver?d1id=1&amp;...</td>\n",
       "      <td>... 컴퓨터 정보입니다. 사운드카드 이름이 무엇인지, 그리고 드라이버 다운 받을 ...</td>\n",
       "    </tr>\n",
       "    <tr>\n",
       "      <th>2</th>\n",
       "      <td>nvidia설치하는데 현재하드웨어와 호환되는...</td>\n",
       "      <td>https://kin.naver.com/qna/detail.naver?d1id=1&amp;...</td>\n",
       "      <td>... com/ 보고서 유형 빠른 보고서 [ TRIAL VERSION ] 컴퓨터 S...</td>\n",
       "    </tr>\n",
       "    <tr>\n",
       "      <th>3</th>\n",
       "      <td>그래픽을 어떤걸 깔아야할까요??????</td>\n",
       "      <td>https://kin.naver.com/qna/detail.naver?d1id=1&amp;...</td>\n",
       "      <td>... com/ 보고서 유형 빠른 보고서 [ TRIAL VERSION ] 컴퓨터 S...</td>\n",
       "    </tr>\n",
       "    <tr>\n",
       "      <th>4</th>\n",
       "      <td>윈도우 XP 포맷에 관한 문제입니다 꼭봐주세요</td>\n",
       "      <td>https://kin.naver.com/qna/detail.naver?d1id=1&amp;...</td>\n",
       "      <td>저희집 컴퓨터가 2대입니다 한컴퓨터로 iso 파일을 다운받아서 레코더링인가?... ...</td>\n",
       "    </tr>\n",
       "    <tr>\n",
       "      <th>5</th>\n",
       "      <td>nvidia설치하는데 현재하드웨어와 호환되는...</td>\n",
       "      <td>https://kin.naver.com/qna/detail.naver?d1id=1&amp;...</td>\n",
       "      <td>... com/ 보고서 유형 빠른 보고서 [ TRIAL VERSION ] 컴퓨터 S...</td>\n",
       "    </tr>\n",
       "    <tr>\n",
       "      <th>6</th>\n",
       "      <td>그래픽을 어떤걸 깔아야할까요??????</td>\n",
       "      <td>https://kin.naver.com/qna/detail.naver?d1id=1&amp;...</td>\n",
       "      <td>... com/ 보고서 유형 빠른 보고서 [ TRIAL VERSION ] 컴퓨터 S...</td>\n",
       "    </tr>\n",
       "    <tr>\n",
       "      <th>7</th>\n",
       "      <td>윈도우 XP 포맷에 관한 문제입니다 꼭봐주세요</td>\n",
       "      <td>https://kin.naver.com/qna/detail.naver?d1id=1&amp;...</td>\n",
       "      <td>저희집 컴퓨터가 2대입니다 한컴퓨터로 iso 파일을 다운받아서 레코더링인가?... ...</td>\n",
       "    </tr>\n",
       "    <tr>\n",
       "      <th>8</th>\n",
       "      <td>nvidia설치하는데 현재하드웨어와 호환되는...</td>\n",
       "      <td>https://kin.naver.com/qna/detail.naver?d1id=1&amp;...</td>\n",
       "      <td>... com/ 보고서 유형 빠른 보고서 [ TRIAL VERSION ] 컴퓨터 S...</td>\n",
       "    </tr>\n",
       "    <tr>\n",
       "      <th>9</th>\n",
       "      <td>그래픽을 어떤걸 깔아야할까요??????</td>\n",
       "      <td>https://kin.naver.com/qna/detail.naver?d1id=1&amp;...</td>\n",
       "      <td>... com/ 보고서 유형 빠른 보고서 [ TRIAL VERSION ] 컴퓨터 S...</td>\n",
       "    </tr>\n",
       "    <tr>\n",
       "      <th>10</th>\n",
       "      <td>윈도우 XP 포맷에 관한 문제입니다 꼭봐주세요</td>\n",
       "      <td>https://kin.naver.com/qna/detail.naver?d1id=1&amp;...</td>\n",
       "      <td>저희집 컴퓨터가 2대입니다 한컴퓨터로 iso 파일을 다운받아서 레코더링인가?... ...</td>\n",
       "    </tr>\n",
       "    <tr>\n",
       "      <th>11</th>\n",
       "      <td>nvidia설치하는데 현재하드웨어와 호환되는...</td>\n",
       "      <td>https://kin.naver.com/qna/detail.naver?d1id=1&amp;...</td>\n",
       "      <td>... com/ 보고서 유형 빠른 보고서 [ TRIAL VERSION ] 컴퓨터 S...</td>\n",
       "    </tr>\n",
       "    <tr>\n",
       "      <th>12</th>\n",
       "      <td>그래픽을 어떤걸 깔아야할까요??????</td>\n",
       "      <td>https://kin.naver.com/qna/detail.naver?d1id=1&amp;...</td>\n",
       "      <td>... com/ 보고서 유형 빠른 보고서 [ TRIAL VERSION ] 컴퓨터 S...</td>\n",
       "    </tr>\n",
       "    <tr>\n",
       "      <th>13</th>\n",
       "      <td>윈도우 XP 포맷에 관한 문제입니다 꼭봐주세요</td>\n",
       "      <td>https://kin.naver.com/qna/detail.naver?d1id=1&amp;...</td>\n",
       "      <td>저희집 컴퓨터가 2대입니다 한컴퓨터로 iso 파일을 다운받아서 레코더링인가?... ...</td>\n",
       "    </tr>\n",
       "    <tr>\n",
       "      <th>14</th>\n",
       "      <td>nvidia설치하는데 현재하드웨어와 호환되는...</td>\n",
       "      <td>https://kin.naver.com/qna/detail.naver?d1id=1&amp;...</td>\n",
       "      <td>... com/ 보고서 유형 빠른 보고서 [ TRIAL VERSION ] 컴퓨터 S...</td>\n",
       "    </tr>\n",
       "    <tr>\n",
       "      <th>15</th>\n",
       "      <td>그래픽을 어떤걸 깔아야할까요??????</td>\n",
       "      <td>https://kin.naver.com/qna/detail.naver?d1id=1&amp;...</td>\n",
       "      <td>... com/ 보고서 유형 빠른 보고서 [ TRIAL VERSION ] 컴퓨터 S...</td>\n",
       "    </tr>\n",
       "    <tr>\n",
       "      <th>16</th>\n",
       "      <td>윈도우 XP 포맷에 관한 문제입니다 꼭봐주세요</td>\n",
       "      <td>https://kin.naver.com/qna/detail.naver?d1id=1&amp;...</td>\n",
       "      <td>저희집 컴퓨터가 2대입니다 한컴퓨터로 iso 파일을 다운받아서 레코더링인가?... ...</td>\n",
       "    </tr>\n",
       "    <tr>\n",
       "      <th>17</th>\n",
       "      <td>nvidia설치하는데 현재하드웨어와 호환되는...</td>\n",
       "      <td>https://kin.naver.com/qna/detail.naver?d1id=1&amp;...</td>\n",
       "      <td>... com/ 보고서 유형 빠른 보고서 [ TRIAL VERSION ] 컴퓨터 S...</td>\n",
       "    </tr>\n",
       "    <tr>\n",
       "      <th>18</th>\n",
       "      <td>그래픽을 어떤걸 깔아야할까요??????</td>\n",
       "      <td>https://kin.naver.com/qna/detail.naver?d1id=1&amp;...</td>\n",
       "      <td>... com/ 보고서 유형 빠른 보고서 [ TRIAL VERSION ] 컴퓨터 S...</td>\n",
       "    </tr>\n",
       "    <tr>\n",
       "      <th>19</th>\n",
       "      <td>윈도우 XP 포맷에 관한 문제입니다 꼭봐주세요</td>\n",
       "      <td>https://kin.naver.com/qna/detail.naver?d1id=1&amp;...</td>\n",
       "      <td>저희집 컴퓨터가 2대입니다 한컴퓨터로 iso 파일을 다운받아서 레코더링인가?... ...</td>\n",
       "    </tr>\n",
       "    <tr>\n",
       "      <th>20</th>\n",
       "      <td>nvidia설치하는데 현재하드웨어와 호환되는...</td>\n",
       "      <td>https://kin.naver.com/qna/detail.naver?d1id=1&amp;...</td>\n",
       "      <td>... com/ 보고서 유형 빠른 보고서 [ TRIAL VERSION ] 컴퓨터 S...</td>\n",
       "    </tr>\n",
       "    <tr>\n",
       "      <th>21</th>\n",
       "      <td>그래픽을 어떤걸 깔아야할까요??????</td>\n",
       "      <td>https://kin.naver.com/qna/detail.naver?d1id=1&amp;...</td>\n",
       "      <td>... com/ 보고서 유형 빠른 보고서 [ TRIAL VERSION ] 컴퓨터 S...</td>\n",
       "    </tr>\n",
       "    <tr>\n",
       "      <th>22</th>\n",
       "      <td>윈도우 XP 포맷에 관한 문제입니다 꼭봐주세요</td>\n",
       "      <td>https://kin.naver.com/qna/detail.naver?d1id=1&amp;...</td>\n",
       "      <td>저희집 컴퓨터가 2대입니다 한컴퓨터로 iso 파일을 다운받아서 레코더링인가?... ...</td>\n",
       "    </tr>\n",
       "    <tr>\n",
       "      <th>23</th>\n",
       "      <td>nvidia설치하는데 현재하드웨어와 호환되는...</td>\n",
       "      <td>https://kin.naver.com/qna/detail.naver?d1id=1&amp;...</td>\n",
       "      <td>... com/ 보고서 유형 빠른 보고서 [ TRIAL VERSION ] 컴퓨터 S...</td>\n",
       "    </tr>\n",
       "    <tr>\n",
       "      <th>24</th>\n",
       "      <td>그래픽을 어떤걸 깔아야할까요??????</td>\n",
       "      <td>https://kin.naver.com/qna/detail.naver?d1id=1&amp;...</td>\n",
       "      <td>... com/ 보고서 유형 빠른 보고서 [ TRIAL VERSION ] 컴퓨터 S...</td>\n",
       "    </tr>\n",
       "    <tr>\n",
       "      <th>25</th>\n",
       "      <td>윈도우 XP 포맷에 관한 문제입니다 꼭봐주세요</td>\n",
       "      <td>https://kin.naver.com/qna/detail.naver?d1id=1&amp;...</td>\n",
       "      <td>저희집 컴퓨터가 2대입니다 한컴퓨터로 iso 파일을 다운받아서 레코더링인가?... ...</td>\n",
       "    </tr>\n",
       "    <tr>\n",
       "      <th>26</th>\n",
       "      <td>nvidia설치하는데 현재하드웨어와 호환되는...</td>\n",
       "      <td>https://kin.naver.com/qna/detail.naver?d1id=1&amp;...</td>\n",
       "      <td>... com/ 보고서 유형 빠른 보고서 [ TRIAL VERSION ] 컴퓨터 S...</td>\n",
       "    </tr>\n",
       "    <tr>\n",
       "      <th>27</th>\n",
       "      <td>그래픽을 어떤걸 깔아야할까요??????</td>\n",
       "      <td>https://kin.naver.com/qna/detail.naver?d1id=1&amp;...</td>\n",
       "      <td>... com/ 보고서 유형 빠른 보고서 [ TRIAL VERSION ] 컴퓨터 S...</td>\n",
       "    </tr>\n",
       "    <tr>\n",
       "      <th>28</th>\n",
       "      <td>윈도우 XP 포맷에 관한 문제입니다 꼭봐주세요</td>\n",
       "      <td>https://kin.naver.com/qna/detail.naver?d1id=1&amp;...</td>\n",
       "      <td>저희집 컴퓨터가 2대입니다 한컴퓨터로 iso 파일을 다운받아서 레코더링인가?... ...</td>\n",
       "    </tr>\n",
       "    <tr>\n",
       "      <th>29</th>\n",
       "      <td>nvidia설치하는데 현재하드웨어와 호환되는...</td>\n",
       "      <td>https://kin.naver.com/qna/detail.naver?d1id=1&amp;...</td>\n",
       "      <td>... com/ 보고서 유형 빠른 보고서 [ TRIAL VERSION ] 컴퓨터 S...</td>\n",
       "    </tr>\n",
       "    <tr>\n",
       "      <th>30</th>\n",
       "      <td>그래픽을 어떤걸 깔아야할까요??????</td>\n",
       "      <td>https://kin.naver.com/qna/detail.naver?d1id=1&amp;...</td>\n",
       "      <td>... com/ 보고서 유형 빠른 보고서 [ TRIAL VERSION ] 컴퓨터 S...</td>\n",
       "    </tr>\n",
       "  </tbody>\n",
       "</table>\n",
       "</div>"
      ],
      "text/plain": [
       "                           Title  \\\n",
       "0      윈도우 XP 포맷에 관한 문제입니다 꼭봐주세요   \n",
       "1           [사운드 카드 드라이버를 찾아주세요]   \n",
       "2   nvidia설치하는데 현재하드웨어와 호환되는...    \n",
       "3          그래픽을 어떤걸 깔아야할까요??????   \n",
       "4      윈도우 XP 포맷에 관한 문제입니다 꼭봐주세요   \n",
       "5   nvidia설치하는데 현재하드웨어와 호환되는...    \n",
       "6          그래픽을 어떤걸 깔아야할까요??????   \n",
       "7      윈도우 XP 포맷에 관한 문제입니다 꼭봐주세요   \n",
       "8   nvidia설치하는데 현재하드웨어와 호환되는...    \n",
       "9          그래픽을 어떤걸 깔아야할까요??????   \n",
       "10     윈도우 XP 포맷에 관한 문제입니다 꼭봐주세요   \n",
       "11  nvidia설치하는데 현재하드웨어와 호환되는...    \n",
       "12         그래픽을 어떤걸 깔아야할까요??????   \n",
       "13     윈도우 XP 포맷에 관한 문제입니다 꼭봐주세요   \n",
       "14  nvidia설치하는데 현재하드웨어와 호환되는...    \n",
       "15         그래픽을 어떤걸 깔아야할까요??????   \n",
       "16     윈도우 XP 포맷에 관한 문제입니다 꼭봐주세요   \n",
       "17  nvidia설치하는데 현재하드웨어와 호환되는...    \n",
       "18         그래픽을 어떤걸 깔아야할까요??????   \n",
       "19     윈도우 XP 포맷에 관한 문제입니다 꼭봐주세요   \n",
       "20  nvidia설치하는데 현재하드웨어와 호환되는...    \n",
       "21         그래픽을 어떤걸 깔아야할까요??????   \n",
       "22     윈도우 XP 포맷에 관한 문제입니다 꼭봐주세요   \n",
       "23  nvidia설치하는데 현재하드웨어와 호환되는...    \n",
       "24         그래픽을 어떤걸 깔아야할까요??????   \n",
       "25     윈도우 XP 포맷에 관한 문제입니다 꼭봐주세요   \n",
       "26  nvidia설치하는데 현재하드웨어와 호환되는...    \n",
       "27         그래픽을 어떤걸 깔아야할까요??????   \n",
       "28     윈도우 XP 포맷에 관한 문제입니다 꼭봐주세요   \n",
       "29  nvidia설치하는데 현재하드웨어와 호환되는...    \n",
       "30         그래픽을 어떤걸 깔아야할까요??????   \n",
       "\n",
       "                                                 Link  \\\n",
       "0   https://kin.naver.com/qna/detail.naver?d1id=1&...   \n",
       "1   https://kin.naver.com/qna/detail.naver?d1id=1&...   \n",
       "2   https://kin.naver.com/qna/detail.naver?d1id=1&...   \n",
       "3   https://kin.naver.com/qna/detail.naver?d1id=1&...   \n",
       "4   https://kin.naver.com/qna/detail.naver?d1id=1&...   \n",
       "5   https://kin.naver.com/qna/detail.naver?d1id=1&...   \n",
       "6   https://kin.naver.com/qna/detail.naver?d1id=1&...   \n",
       "7   https://kin.naver.com/qna/detail.naver?d1id=1&...   \n",
       "8   https://kin.naver.com/qna/detail.naver?d1id=1&...   \n",
       "9   https://kin.naver.com/qna/detail.naver?d1id=1&...   \n",
       "10  https://kin.naver.com/qna/detail.naver?d1id=1&...   \n",
       "11  https://kin.naver.com/qna/detail.naver?d1id=1&...   \n",
       "12  https://kin.naver.com/qna/detail.naver?d1id=1&...   \n",
       "13  https://kin.naver.com/qna/detail.naver?d1id=1&...   \n",
       "14  https://kin.naver.com/qna/detail.naver?d1id=1&...   \n",
       "15  https://kin.naver.com/qna/detail.naver?d1id=1&...   \n",
       "16  https://kin.naver.com/qna/detail.naver?d1id=1&...   \n",
       "17  https://kin.naver.com/qna/detail.naver?d1id=1&...   \n",
       "18  https://kin.naver.com/qna/detail.naver?d1id=1&...   \n",
       "19  https://kin.naver.com/qna/detail.naver?d1id=1&...   \n",
       "20  https://kin.naver.com/qna/detail.naver?d1id=1&...   \n",
       "21  https://kin.naver.com/qna/detail.naver?d1id=1&...   \n",
       "22  https://kin.naver.com/qna/detail.naver?d1id=1&...   \n",
       "23  https://kin.naver.com/qna/detail.naver?d1id=1&...   \n",
       "24  https://kin.naver.com/qna/detail.naver?d1id=1&...   \n",
       "25  https://kin.naver.com/qna/detail.naver?d1id=1&...   \n",
       "26  https://kin.naver.com/qna/detail.naver?d1id=1&...   \n",
       "27  https://kin.naver.com/qna/detail.naver?d1id=1&...   \n",
       "28  https://kin.naver.com/qna/detail.naver?d1id=1&...   \n",
       "29  https://kin.naver.com/qna/detail.naver?d1id=1&...   \n",
       "30  https://kin.naver.com/qna/detail.naver?d1id=1&...   \n",
       "\n",
       "                                          Description  \n",
       "0   저희집 컴퓨터가 2대입니다 한컴퓨터로 iso 파일을 다운받아서 레코더링인가?... ...  \n",
       "1   ... 컴퓨터 정보입니다. 사운드카드 이름이 무엇인지, 그리고 드라이버 다운 받을 ...  \n",
       "2   ... com/ 보고서 유형 빠른 보고서 [ TRIAL VERSION ] 컴퓨터 S...  \n",
       "3   ... com/ 보고서 유형 빠른 보고서 [ TRIAL VERSION ] 컴퓨터 S...  \n",
       "4   저희집 컴퓨터가 2대입니다 한컴퓨터로 iso 파일을 다운받아서 레코더링인가?... ...  \n",
       "5   ... com/ 보고서 유형 빠른 보고서 [ TRIAL VERSION ] 컴퓨터 S...  \n",
       "6   ... com/ 보고서 유형 빠른 보고서 [ TRIAL VERSION ] 컴퓨터 S...  \n",
       "7   저희집 컴퓨터가 2대입니다 한컴퓨터로 iso 파일을 다운받아서 레코더링인가?... ...  \n",
       "8   ... com/ 보고서 유형 빠른 보고서 [ TRIAL VERSION ] 컴퓨터 S...  \n",
       "9   ... com/ 보고서 유형 빠른 보고서 [ TRIAL VERSION ] 컴퓨터 S...  \n",
       "10  저희집 컴퓨터가 2대입니다 한컴퓨터로 iso 파일을 다운받아서 레코더링인가?... ...  \n",
       "11  ... com/ 보고서 유형 빠른 보고서 [ TRIAL VERSION ] 컴퓨터 S...  \n",
       "12  ... com/ 보고서 유형 빠른 보고서 [ TRIAL VERSION ] 컴퓨터 S...  \n",
       "13  저희집 컴퓨터가 2대입니다 한컴퓨터로 iso 파일을 다운받아서 레코더링인가?... ...  \n",
       "14  ... com/ 보고서 유형 빠른 보고서 [ TRIAL VERSION ] 컴퓨터 S...  \n",
       "15  ... com/ 보고서 유형 빠른 보고서 [ TRIAL VERSION ] 컴퓨터 S...  \n",
       "16  저희집 컴퓨터가 2대입니다 한컴퓨터로 iso 파일을 다운받아서 레코더링인가?... ...  \n",
       "17  ... com/ 보고서 유형 빠른 보고서 [ TRIAL VERSION ] 컴퓨터 S...  \n",
       "18  ... com/ 보고서 유형 빠른 보고서 [ TRIAL VERSION ] 컴퓨터 S...  \n",
       "19  저희집 컴퓨터가 2대입니다 한컴퓨터로 iso 파일을 다운받아서 레코더링인가?... ...  \n",
       "20  ... com/ 보고서 유형 빠른 보고서 [ TRIAL VERSION ] 컴퓨터 S...  \n",
       "21  ... com/ 보고서 유형 빠른 보고서 [ TRIAL VERSION ] 컴퓨터 S...  \n",
       "22  저희집 컴퓨터가 2대입니다 한컴퓨터로 iso 파일을 다운받아서 레코더링인가?... ...  \n",
       "23  ... com/ 보고서 유형 빠른 보고서 [ TRIAL VERSION ] 컴퓨터 S...  \n",
       "24  ... com/ 보고서 유형 빠른 보고서 [ TRIAL VERSION ] 컴퓨터 S...  \n",
       "25  저희집 컴퓨터가 2대입니다 한컴퓨터로 iso 파일을 다운받아서 레코더링인가?... ...  \n",
       "26  ... com/ 보고서 유형 빠른 보고서 [ TRIAL VERSION ] 컴퓨터 S...  \n",
       "27  ... com/ 보고서 유형 빠른 보고서 [ TRIAL VERSION ] 컴퓨터 S...  \n",
       "28  저희집 컴퓨터가 2대입니다 한컴퓨터로 iso 파일을 다운받아서 레코더링인가?... ...  \n",
       "29  ... com/ 보고서 유형 빠른 보고서 [ TRIAL VERSION ] 컴퓨터 S...  \n",
       "30  ... com/ 보고서 유형 빠른 보고서 [ TRIAL VERSION ] 컴퓨터 S...  "
      ]
     },
     "execution_count": 10,
     "metadata": {},
     "output_type": "execute_result"
    }
   ],
   "source": [
    "import os\n",
    "import sys\n",
    "import urllib.request\n",
    "import pandas as pd\n",
    "import json\n",
    "import re\n",
    "\n",
    "client_id = \"aY1idgHjSifficXcExqF\"\n",
    "client_secret = \"ilviYq8ZPX\" # 위 2개가 있어야 인증을 통해서 네이버 api 서비스를 이용할 수 있다.\n",
    "\n",
    "query = urllib.parse.quote(input('검색 질의: '))\n",
    "# urllib : urllibrary  | quote : 인코딩을 변경해줌 (utf-8로)\n",
    "idx = 0\n",
    "display = 100\n",
    "start = 1\n",
    "end = 1000 \n",
    "sort = 'sim'\n",
    "# url 관련된 변수들 설정\n",
    "\n",
    "kin_df = pd.DataFrame(columns=('Title', 'Link', 'Description')) # 가져온 거 저장\n",
    "\n",
    "for start_index in range(start, end, display): # start부터 end까지 display 스탭으로 가져오기\n",
    "    # 시작 위치가 바뀌면서 display만큼씩 가져옴\n",
    "    url = \"https://openapi.naver.com/v1/search/kin?query=\" + query \\\n",
    "        + \"$display=\" + str(display) \\\n",
    "        + '$start=' + str(start_index) \\\n",
    "        + '$sort=' + sort\n",
    "\n",
    "    request = urllib.request.Request(url)\n",
    "    request.add_header(\"X-Naver-Client-Id\",client_id)\n",
    "    request.add_header(\"X-Naver-Client-Secret\",client_secret)\n",
    "    response = urllib.request.urlopen(request)\n",
    "    rescode = response.getcode()\n",
    "    if(rescode==200): # 200이 성공\n",
    "        response_body = response.read()\n",
    "        response_dict = json.loads(response_body.decode('utf-8'))\n",
    "        items = response_dict['items']\n",
    "        for item_index in range(0, len(items)): # index 접근\n",
    "            remove_tag = re.compile('<.*?>')\n",
    "            title = re.sub(remove_tag, '', items[item_index]['title'])\n",
    "            link = items[item_index]['link']\n",
    "            description = re.sub(remove_tag, '', items[item_index]['description'])\n",
    "            kin_df.loc[idx] = [title, link, description]\n",
    "            idx += 1\n",
    "    else:\n",
    "        print(\"Error Code:\" + rescode)\n",
    "# 출력을 해보면 items에 정보들이 다 나와 있다.\n",
    "\n",
    "kin_df"
   ]
  },
  {
   "cell_type": "markdown",
   "metadata": {},
   "source": [
    "## 네이버 뉴스 검색 API"
   ]
  },
  {
   "cell_type": "code",
   "execution_count": 14,
   "metadata": {},
   "outputs": [
    {
     "data": {
      "text/html": [
       "<div>\n",
       "<style scoped>\n",
       "    .dataframe tbody tr th:only-of-type {\n",
       "        vertical-align: middle;\n",
       "    }\n",
       "\n",
       "    .dataframe tbody tr th {\n",
       "        vertical-align: top;\n",
       "    }\n",
       "\n",
       "    .dataframe thead th {\n",
       "        text-align: right;\n",
       "    }\n",
       "</style>\n",
       "<table border=\"1\" class=\"dataframe\">\n",
       "  <thead>\n",
       "    <tr style=\"text-align: right;\">\n",
       "      <th></th>\n",
       "      <th>Title</th>\n",
       "      <th>Original Link</th>\n",
       "      <th>Link</th>\n",
       "      <th>Description</th>\n",
       "      <th>Publication Date</th>\n",
       "    </tr>\n",
       "  </thead>\n",
       "  <tbody>\n",
       "  </tbody>\n",
       "</table>\n",
       "</div>"
      ],
      "text/plain": [
       "Empty DataFrame\n",
       "Columns: [Title, Original Link, Link, Description, Publication Date]\n",
       "Index: []"
      ]
     },
     "execution_count": 14,
     "metadata": {},
     "output_type": "execute_result"
    }
   ],
   "source": [
    "import os\n",
    "import sys\n",
    "import urllib.request\n",
    "import pandas as pd\n",
    "import json\n",
    "import re\n",
    "\n",
    "client_id = \"aY1idgHjSifficXcExqF\"\n",
    "client_secret = \"ilviYq8ZPX\" # 위 2개가 있어야 인증을 통해서 네이버 api 서비스를 이용할 수 있다.\n",
    "\n",
    "query = urllib.parse.quote(input('검색 질의: '))\n",
    "# urllib : urllibrary  | quote : 인코딩을 변경해줌 (utf-8로)\n",
    "idx = 0\n",
    "display = 100\n",
    "start = 1\n",
    "end = 1000 \n",
    "sort = 'sim'\n",
    "# url 관련된 변수들 설정\n",
    "\n",
    "news_df = pd.DataFrame(columns=('Title', 'Original Link', 'Link', 'Description', 'Publication Date')) # 가져온 거 저장\n",
    "\n",
    "for start_index in range(start, end, display): # start부터 end까지 display 스탭으로 가져오기\n",
    "    # 시작 위치가 바뀌면서 display만큼씩 가져옴\n",
    "    url = \"https://openapi.naver.com/v1/search/news?query=\" + query \\\n",
    "        + \"$display=\" + str(display) \\\n",
    "        + '$start=' + str(start_index) \\\n",
    "        + '$sort=' + sort\n",
    "\n",
    "    request = urllib.request.Request(url)\n",
    "    request.add_header(\"X-Naver-Client-Id\",client_id)\n",
    "    request.add_header(\"X-Naver-Client-Secret\",client_secret)\n",
    "    response = urllib.request.urlopen(request)\n",
    "    rescode = response.getcode()\n",
    "    if(rescode==200): # 200이 성공\n",
    "        response_body = response.read()\n",
    "        response_dict = json.loads(response_body.decode('utf-8'))\n",
    "        items = response_dict['items']\n",
    "        for item_index in range(0, len(items)): # index 접근\n",
    "            remove_tag = re.compile('<.*?>')\n",
    "            title = re.sub(remove_tag, '', items[item_index]['title'])\n",
    "            original_link=items[item_index]['originallink']\n",
    "            link = items[item_index]['link']\n",
    "            description = re.sub(remove_tag, '', items[item_index]['description'])\n",
    "            pub_date = items[item_index]['pubDate']\n",
    "            news_df.loc[idx] = [title, original_link, link, description, pub_date]\n",
    "            idx += 1\n",
    "    else:\n",
    "        print(\"Error Code:\" + rescode)\n",
    "# 출력을 해보면 items에 정보들이 다 나와 있다.\n",
    "\n",
    "news_df"
   ]
  },
  {
   "cell_type": "markdown",
   "metadata": {},
   "source": [
    "---"
   ]
  },
  {
   "cell_type": "code",
   "execution_count": 1,
   "metadata": {},
   "outputs": [],
   "source": [
    "import os\n",
    "import sys\n",
    "import urllib.request\n",
    "import requests\n",
    "\n",
    "news_data = []\n",
    "page_count = 10\n",
    "\n",
    "client_id = \"69o6i0JqwgpLM5a5v4NN\"\n",
    "client_secret = \"dFeCQMyNQd\"\n",
    "encText = urllib.parse.quote(\"코로나 백신\")\n",
    "\n",
    "for idx in range(page_count):\n",
    "    # json 결과\n",
    "    url = \"https://openapi.naver.com/v1/search/news?query=\" + encText + \"&start=\" + str(idx * 10 + 1)\n",
    "    # url = \"https://openapi.naver.com/v1/search/blog.xml?query=\" + encText # xml 결과\n",
    "    request = urllib.request.Request(url)\n",
    "    request.add_header(\"X-Naver-Client-Id\",client_id)\n",
    "    request.add_header(\"X-Naver-Client-Secret\",client_secret)\n",
    "    response = urllib.request.urlopen(request)\n",
    "    rescode = response.getcode()\n",
    "\n",
    "    if(rescode==200):\n",
    "    #    response_body = response.read()\n",
    "        result = requests.get(response.geturl(),\n",
    "                              headers={\"X-Naver-Client-Id\":client_id,\n",
    "                                       \"X-Naver-Client-Secret\":client_secret}\n",
    "                             )\n",
    "        news_data.append(result.json())\n",
    "    #    print(response_body.decode('utf-8'))\n",
    "    else:\n",
    "        print(\"Error Code:\" + rescode)"
   ]
  },
  {
   "cell_type": "code",
   "execution_count": 2,
   "metadata": {},
   "outputs": [
    {
     "name": "stdout",
     "output_type": "stream",
     "text": [
      "10\n"
     ]
    }
   ],
   "source": [
    "#print(news_data)\n",
    "print(len(news_data))\n",
    "#print(news_data[0])\n",
    "#print(news_data[0]['items'])\n",
    "#print(len(news_data[0]['items']))\n",
    "#print(news_data[0]['items'][2])\n",
    "#print(news_data[0]['items'][7]['link'])"
   ]
  },
  {
   "cell_type": "code",
   "execution_count": 3,
   "metadata": {},
   "outputs": [
    {
     "name": "stdout",
     "output_type": "stream",
     "text": [
      "https://news.naver.com/main/read.naver?mode=LSD&mid=sec&sid1=104&oid=214&aid=0001155925\n",
      "https://news.naver.com/main/read.naver?mode=LSD&mid=sec&sid1=110&oid=032&aid=0003106021\n",
      "https://news.naver.com/main/read.naver?mode=LSD&mid=sec&sid1=101&oid=020&aid=0003389545\n",
      "https://news.naver.com/main/read.naver?mode=LSD&mid=sec&sid1=103&oid=005&aid=0001479476\n",
      "https://news.naver.com/main/read.naver?mode=LSD&mid=sec&sid1=102&oid=020&aid=0003389459\n",
      "https://news.naver.com/main/read.naver?mode=LSD&mid=sec&sid1=102&oid=020&aid=0003389460\n",
      "https://news.naver.com/main/read.naver?mode=LSD&mid=sec&sid1=102&oid=020&aid=0003389456\n",
      "https://news.naver.com/main/read.naver?mode=LSD&mid=sec&sid1=102&oid=020&aid=0003389457\n",
      "https://news.naver.com/main/read.naver?mode=LSD&mid=sec&sid1=103&oid=023&aid=0003648598\n",
      "https://news.naver.com/main/read.naver?mode=LSD&mid=sec&sid1=110&oid=032&aid=0003106016\n",
      "https://news.naver.com/main/read.naver?mode=LSD&mid=sec&sid1=102&oid=020&aid=0003389455\n",
      "https://news.naver.com/main/read.naver?mode=LSD&mid=sec&sid1=104&oid=055&aid=0000929354\n",
      "https://news.naver.com/main/read.naver?mode=LSD&mid=sec&sid1=102&oid=055&aid=0000929341\n",
      "https://news.naver.com/main/read.naver?mode=LSD&mid=sec&sid1=104&oid=052&aid=0001656961\n",
      "https://news.naver.com/main/read.naver?mode=LSD&mid=sec&sid1=104&oid=052&aid=0001656958\n",
      "https://news.naver.com/main/read.naver?mode=LSD&mid=sec&sid1=104&oid=055&aid=0000929339\n",
      "https://news.naver.com/main/read.naver?mode=LSD&mid=sec&sid1=104&oid=001&aid=0012746283\n",
      "https://news.naver.com/main/read.naver?mode=LSD&mid=sec&sid1=104&oid=366&aid=0000769092\n",
      "https://news.naver.com/main/read.naver?mode=LSD&mid=sec&sid1=104&oid=056&aid=0011144073\n",
      "https://news.naver.com/main/read.naver?mode=LSD&mid=sec&sid1=104&oid=469&aid=0000637103\n",
      "https://news.naver.com/main/read.naver?mode=LSD&mid=sec&sid1=104&oid=081&aid=0003224796\n",
      "https://news.naver.com/main/read.naver?mode=LSD&mid=sec&sid1=102&oid=022&aid=0003631646\n",
      "https://news.naver.com/main/read.naver?mode=LSD&mid=sec&sid1=102&oid=052&aid=0001656955\n",
      "https://news.naver.com/main/read.naver?mode=LSD&mid=sec&sid1=104&oid=003&aid=0010791295\n",
      "https://news.naver.com/main/read.naver?mode=LSD&mid=sec&sid1=104&oid=003&aid=0010791293\n",
      "https://news.naver.com/main/read.naver?mode=LSD&mid=sec&sid1=104&oid=001&aid=0012746278\n",
      "https://news.naver.com/main/read.naver?mode=LSD&mid=sec&sid1=104&oid=081&aid=0003224795\n",
      "https://news.naver.com/main/read.naver?mode=LSD&mid=sec&sid1=102&oid=001&aid=0012746277\n",
      "https://news.naver.com/main/read.naver?mode=LSD&mid=sec&sid1=104&oid=469&aid=0000637102\n",
      "https://news.naver.com/main/read.naver?mode=LSD&mid=sec&sid1=104&oid=056&aid=0011144064\n",
      "https://news.naver.com/main/read.naver?mode=LSD&mid=sec&sid1=100&oid=421&aid=0005679822\n",
      "https://news.naver.com/main/read.naver?mode=LSD&mid=sec&sid1=110&oid=015&aid=0004620465\n",
      "https://news.naver.com/main/read.naver?mode=LSD&mid=sec&sid1=110&oid=015&aid=0004620464\n",
      "https://news.naver.com/main/read.naver?mode=LSD&mid=sec&sid1=102&oid=087&aid=0000865574\n",
      "https://news.naver.com/main/read.naver?mode=LSD&mid=sec&sid1=100&oid=087&aid=0000865515\n",
      "https://news.naver.com/main/read.naver?mode=LSD&mid=sec&sid1=110&oid=087&aid=0000865524\n",
      "https://news.naver.com/main/read.naver?mode=LSD&mid=sec&sid1=102&oid=087&aid=0000865547\n",
      "https://news.naver.com/main/read.naver?mode=LSD&mid=sec&sid1=102&oid=087&aid=0000865460\n",
      "https://news.naver.com/main/read.naver?mode=LSD&mid=sec&sid1=106&oid=076&aid=0003793621\n",
      "https://news.naver.com/main/read.naver?mode=LSD&mid=sec&sid1=110&oid=025&aid=0003145410\n",
      "https://news.naver.com/main/read.naver?mode=LSD&mid=sec&sid1=104&oid=003&aid=0010791292\n",
      "https://news.naver.com/main/read.naver?mode=LSD&mid=sec&sid1=100&oid=025&aid=0003145359\n",
      "https://news.naver.com/main/read.naver?mode=LSD&mid=sec&sid1=102&oid=018&aid=0005069852\n",
      "https://news.naver.com/main/read.naver?mode=LSD&mid=sec&sid1=102&oid=025&aid=0003145349\n",
      "https://news.naver.com/main/read.naver?mode=LSD&mid=sec&sid1=102&oid=025&aid=0003145349\n",
      "https://news.naver.com/main/read.naver?mode=LSD&mid=sec&sid1=106&oid=117&aid=0003548774\n",
      "https://news.naver.com/main/read.naver?mode=LSD&mid=sec&sid1=104&oid=001&aid=0012746264\n",
      "https://news.naver.com/main/read.naver?mode=LSD&mid=sec&sid1=101&oid=056&aid=0011144038\n",
      "https://news.naver.com/main/read.naver?mode=LSD&mid=sec&sid1=102&oid=056&aid=0011144018\n",
      "https://news.naver.com/main/read.naver?mode=LSD&mid=sec&sid1=104&oid=052&aid=0001656929\n",
      "https://news.naver.com/main/read.naver?mode=LSD&mid=sec&sid1=102&oid=081&aid=0003224787\n",
      "https://news.naver.com/main/read.naver?mode=LSD&mid=sec&sid1=110&oid=022&aid=0003631638\n",
      "https://news.naver.com/main/read.naver?mode=LSD&mid=sec&sid1=110&oid=022&aid=0003631636\n",
      "https://news.naver.com/main/read.naver?mode=LSD&mid=sec&sid1=110&oid=022&aid=0003631633\n",
      "https://news.naver.com/main/read.naver?mode=LSD&mid=sec&sid1=104&oid=055&aid=0000929338\n",
      "https://news.naver.com/main/read.naver?mode=LSD&mid=sec&sid1=104&oid=003&aid=0010791284\n",
      "https://news.naver.com/main/read.naver?mode=LSD&mid=sec&sid1=102&oid=023&aid=0003648573\n",
      "https://news.naver.com/main/read.naver?mode=LSD&mid=sec&sid1=102&oid=023&aid=0003648572\n",
      "https://news.naver.com/main/read.naver?mode=LSD&mid=sec&sid1=100&oid=052&aid=0001656924\n",
      "https://news.naver.com/main/read.naver?mode=LSD&mid=sec&sid1=102&oid=023&aid=0003648571\n"
     ]
    }
   ],
   "source": [
    "naver_news_link = []\n",
    "\n",
    "for page in news_data:\n",
    "    #print(page)\n",
    "    page_news_link = []\n",
    "    \n",
    "    for item in page['items']:\n",
    "        #print(item)\n",
    "        temp_link = item['link']\n",
    "        #print(temp_link)\n",
    "        if \"naver\" in temp_link:\n",
    "            page_news_link.append(temp_link)\n",
    "    \n",
    "    naver_news_link.append(page_news_link)\n",
    "        \n",
    "\n",
    "# 사이트 확인하기에 편한 코드 구조.\n",
    "for page in naver_news_link:\n",
    "    for link in page:\n",
    "        print(link)"
   ]
  },
  {
   "cell_type": "code",
   "execution_count": 4,
   "metadata": {},
   "outputs": [],
   "source": [
    "import pandas as pd\n",
    "import numpy as np\n",
    "from selenium import webdriver\n",
    "from tqdm import tqdm_notebook\n",
    "import requests\n",
    "import pickle\n",
    "import re\n",
    "import ast\n",
    "\n",
    "from bs4 import BeautifulSoup \n",
    "from urllib.request import urlopen\n",
    "import urllib\n",
    "import time"
   ]
  },
  {
   "cell_type": "code",
   "execution_count": 5,
   "metadata": {},
   "outputs": [],
   "source": [
    "# 가상 크롬드라이버를 불러옴.\n",
    "# 윈도우 10의 경우 chromedriver.exe\n",
    "driver = webdriver.Chrome('f:/chromedriver.exe')"
   ]
  },
  {
   "cell_type": "code",
   "execution_count": 6,
   "metadata": {},
   "outputs": [
    {
     "name": "stderr",
     "output_type": "stream",
     "text": [
      "C:\\Users\\poeun\\anaconda3\\envs\\NLP\\lib\\site-packages\\ipykernel_launcher.py:5: TqdmDeprecationWarning: This function will be removed in tqdm==5.0.0\n",
      "Please use `tqdm.notebook.tqdm` instead of `tqdm.tqdm_notebook`\n",
      "  \"\"\"\n"
     ]
    },
    {
     "data": {
      "application/vnd.jupyter.widget-view+json": {
       "model_id": "e85526f038914aeda938e275d29299ab",
       "version_major": 2,
       "version_minor": 0
      },
      "text/plain": [
       "  0%|          | 0/10 [00:00<?, ?it/s]"
      ]
     },
     "metadata": {},
     "output_type": "display_data"
    },
    {
     "name": "stderr",
     "output_type": "stream",
     "text": [
      "C:\\Users\\poeun\\anaconda3\\envs\\NLP\\lib\\site-packages\\ipykernel_launcher.py:10: TqdmDeprecationWarning: This function will be removed in tqdm==5.0.0\n",
      "Please use `tqdm.notebook.tqdm` instead of `tqdm.tqdm_notebook`\n",
      "  # Remove the CWD from sys.path while we load stuff.\n"
     ]
    },
    {
     "data": {
      "application/vnd.jupyter.widget-view+json": {
       "model_id": "ee948d88419d42c6a5ec49baea72e7ca",
       "version_major": 2,
       "version_minor": 0
      },
      "text/plain": [
       "  0%|          | 0/10 [00:00<?, ?it/s]"
      ]
     },
     "metadata": {},
     "output_type": "display_data"
    },
    {
     "name": "stdout",
     "output_type": "stream",
     "text": [
      "https://news.naver.com/main/read.naver?mode=LSD&mid=sec&sid1=104&oid=214&aid=0001155925\n",
      "https://news.naver.com/main/read.naver?mode=LSD&mid=sec&sid1=110&oid=032&aid=0003106021\n",
      "https://news.naver.com/main/read.naver?mode=LSD&mid=sec&sid1=101&oid=020&aid=0003389545\n",
      "https://news.naver.com/main/read.naver?mode=LSD&mid=sec&sid1=103&oid=005&aid=0001479476\n",
      "https://news.naver.com/main/read.naver?mode=LSD&mid=sec&sid1=102&oid=020&aid=0003389459\n",
      "https://news.naver.com/main/read.naver?mode=LSD&mid=sec&sid1=102&oid=020&aid=0003389460\n",
      "https://news.naver.com/main/read.naver?mode=LSD&mid=sec&sid1=102&oid=020&aid=0003389456\n",
      "https://news.naver.com/main/read.naver?mode=LSD&mid=sec&sid1=102&oid=020&aid=0003389457\n",
      "https://news.naver.com/main/read.naver?mode=LSD&mid=sec&sid1=103&oid=023&aid=0003648598\n",
      "https://news.naver.com/main/read.naver?mode=LSD&mid=sec&sid1=110&oid=032&aid=0003106016\n"
     ]
    },
    {
     "data": {
      "application/vnd.jupyter.widget-view+json": {
       "model_id": "32735383e3534a108fa1afe3a46bf747",
       "version_major": 2,
       "version_minor": 0
      },
      "text/plain": [
       "  0%|          | 0/8 [00:00<?, ?it/s]"
      ]
     },
     "metadata": {},
     "output_type": "display_data"
    },
    {
     "name": "stdout",
     "output_type": "stream",
     "text": [
      "https://news.naver.com/main/read.naver?mode=LSD&mid=sec&sid1=102&oid=020&aid=0003389455\n",
      "https://news.naver.com/main/read.naver?mode=LSD&mid=sec&sid1=104&oid=055&aid=0000929354\n",
      "https://news.naver.com/main/read.naver?mode=LSD&mid=sec&sid1=102&oid=055&aid=0000929341\n",
      "https://news.naver.com/main/read.naver?mode=LSD&mid=sec&sid1=104&oid=052&aid=0001656961\n",
      "https://news.naver.com/main/read.naver?mode=LSD&mid=sec&sid1=104&oid=052&aid=0001656958\n",
      "https://news.naver.com/main/read.naver?mode=LSD&mid=sec&sid1=104&oid=055&aid=0000929339\n",
      "https://news.naver.com/main/read.naver?mode=LSD&mid=sec&sid1=104&oid=001&aid=0012746283\n",
      "https://news.naver.com/main/read.naver?mode=LSD&mid=sec&sid1=104&oid=366&aid=0000769092\n"
     ]
    },
    {
     "data": {
      "application/vnd.jupyter.widget-view+json": {
       "model_id": "273a7ebcadb44a0ea4ef475ea9d64fca",
       "version_major": 2,
       "version_minor": 0
      },
      "text/plain": [
       "  0%|          | 0/7 [00:00<?, ?it/s]"
      ]
     },
     "metadata": {},
     "output_type": "display_data"
    },
    {
     "name": "stdout",
     "output_type": "stream",
     "text": [
      "https://news.naver.com/main/read.naver?mode=LSD&mid=sec&sid1=104&oid=056&aid=0011144073\n",
      "https://news.naver.com/main/read.naver?mode=LSD&mid=sec&sid1=104&oid=469&aid=0000637103\n",
      "https://news.naver.com/main/read.naver?mode=LSD&mid=sec&sid1=104&oid=081&aid=0003224796\n",
      "https://news.naver.com/main/read.naver?mode=LSD&mid=sec&sid1=102&oid=022&aid=0003631646\n",
      "https://news.naver.com/main/read.naver?mode=LSD&mid=sec&sid1=102&oid=052&aid=0001656955\n",
      "https://news.naver.com/main/read.naver?mode=LSD&mid=sec&sid1=104&oid=003&aid=0010791295\n",
      "https://news.naver.com/main/read.naver?mode=LSD&mid=sec&sid1=104&oid=003&aid=0010791293\n"
     ]
    },
    {
     "data": {
      "application/vnd.jupyter.widget-view+json": {
       "model_id": "bafdbbcc5fba4695a17e9896d8c26380",
       "version_major": 2,
       "version_minor": 0
      },
      "text/plain": [
       "  0%|          | 0/7 [00:00<?, ?it/s]"
      ]
     },
     "metadata": {},
     "output_type": "display_data"
    },
    {
     "name": "stdout",
     "output_type": "stream",
     "text": [
      "https://news.naver.com/main/read.naver?mode=LSD&mid=sec&sid1=104&oid=001&aid=0012746278\n",
      "https://news.naver.com/main/read.naver?mode=LSD&mid=sec&sid1=104&oid=081&aid=0003224795\n",
      "https://news.naver.com/main/read.naver?mode=LSD&mid=sec&sid1=102&oid=001&aid=0012746277\n",
      "https://news.naver.com/main/read.naver?mode=LSD&mid=sec&sid1=104&oid=469&aid=0000637102\n",
      "https://news.naver.com/main/read.naver?mode=LSD&mid=sec&sid1=104&oid=056&aid=0011144064\n",
      "https://news.naver.com/main/read.naver?mode=LSD&mid=sec&sid1=100&oid=421&aid=0005679822\n",
      "https://news.naver.com/main/read.naver?mode=LSD&mid=sec&sid1=110&oid=015&aid=0004620465\n"
     ]
    },
    {
     "data": {
      "application/vnd.jupyter.widget-view+json": {
       "model_id": "998fd625414c48e8b92abf6d23e39c0b",
       "version_major": 2,
       "version_minor": 0
      },
      "text/plain": [
       "  0%|          | 0/6 [00:00<?, ?it/s]"
      ]
     },
     "metadata": {},
     "output_type": "display_data"
    },
    {
     "name": "stdout",
     "output_type": "stream",
     "text": [
      "https://news.naver.com/main/read.naver?mode=LSD&mid=sec&sid1=110&oid=015&aid=0004620464\n",
      "https://news.naver.com/main/read.naver?mode=LSD&mid=sec&sid1=102&oid=087&aid=0000865574\n",
      "https://news.naver.com/main/read.naver?mode=LSD&mid=sec&sid1=100&oid=087&aid=0000865515\n",
      "https://news.naver.com/main/read.naver?mode=LSD&mid=sec&sid1=110&oid=087&aid=0000865524\n",
      "https://news.naver.com/main/read.naver?mode=LSD&mid=sec&sid1=102&oid=087&aid=0000865547\n",
      "https://news.naver.com/main/read.naver?mode=LSD&mid=sec&sid1=102&oid=087&aid=0000865460\n"
     ]
    },
    {
     "data": {
      "application/vnd.jupyter.widget-view+json": {
       "model_id": "60f1eae11e204626811532eaeacae043",
       "version_major": 2,
       "version_minor": 0
      },
      "text/plain": [
       "  0%|          | 0/1 [00:00<?, ?it/s]"
      ]
     },
     "metadata": {},
     "output_type": "display_data"
    },
    {
     "name": "stdout",
     "output_type": "stream",
     "text": [
      "https://news.naver.com/main/read.naver?mode=LSD&mid=sec&sid1=106&oid=076&aid=0003793621\n"
     ]
    },
    {
     "data": {
      "application/vnd.jupyter.widget-view+json": {
       "model_id": "fca7a533d4a04ac2b756dfa108921719",
       "version_major": 2,
       "version_minor": 0
      },
      "text/plain": [
       "  0%|          | 0/5 [00:00<?, ?it/s]"
      ]
     },
     "metadata": {},
     "output_type": "display_data"
    },
    {
     "name": "stdout",
     "output_type": "stream",
     "text": [
      "https://news.naver.com/main/read.naver?mode=LSD&mid=sec&sid1=110&oid=025&aid=0003145410\n",
      "https://news.naver.com/main/read.naver?mode=LSD&mid=sec&sid1=104&oid=003&aid=0010791292\n",
      "https://news.naver.com/main/read.naver?mode=LSD&mid=sec&sid1=100&oid=025&aid=0003145359\n",
      "https://news.naver.com/main/read.naver?mode=LSD&mid=sec&sid1=102&oid=018&aid=0005069852\n",
      "https://news.naver.com/main/read.naver?mode=LSD&mid=sec&sid1=102&oid=025&aid=0003145349\n"
     ]
    },
    {
     "data": {
      "application/vnd.jupyter.widget-view+json": {
       "model_id": "280a956cf3ee49518fe564d48a445c2d",
       "version_major": 2,
       "version_minor": 0
      },
      "text/plain": [
       "  0%|          | 0/4 [00:00<?, ?it/s]"
      ]
     },
     "metadata": {},
     "output_type": "display_data"
    },
    {
     "name": "stdout",
     "output_type": "stream",
     "text": [
      "https://news.naver.com/main/read.naver?mode=LSD&mid=sec&sid1=102&oid=025&aid=0003145349\n",
      "https://news.naver.com/main/read.naver?mode=LSD&mid=sec&sid1=106&oid=117&aid=0003548774\n",
      "https://news.naver.com/main/read.naver?mode=LSD&mid=sec&sid1=104&oid=001&aid=0012746264\n",
      "https://news.naver.com/main/read.naver?mode=LSD&mid=sec&sid1=101&oid=056&aid=0011144038\n"
     ]
    },
    {
     "data": {
      "application/vnd.jupyter.widget-view+json": {
       "model_id": "d9e1fed090bb496eb638c855a0511514",
       "version_major": 2,
       "version_minor": 0
      },
      "text/plain": [
       "  0%|          | 0/5 [00:00<?, ?it/s]"
      ]
     },
     "metadata": {},
     "output_type": "display_data"
    },
    {
     "name": "stdout",
     "output_type": "stream",
     "text": [
      "https://news.naver.com/main/read.naver?mode=LSD&mid=sec&sid1=102&oid=056&aid=0011144018\n",
      "https://news.naver.com/main/read.naver?mode=LSD&mid=sec&sid1=104&oid=052&aid=0001656929\n",
      "https://news.naver.com/main/read.naver?mode=LSD&mid=sec&sid1=102&oid=081&aid=0003224787\n",
      "https://news.naver.com/main/read.naver?mode=LSD&mid=sec&sid1=110&oid=022&aid=0003631638\n",
      "https://news.naver.com/main/read.naver?mode=LSD&mid=sec&sid1=110&oid=022&aid=0003631636\n"
     ]
    },
    {
     "data": {
      "application/vnd.jupyter.widget-view+json": {
       "model_id": "dc344f60fade43ad8cc4dffdd780e354",
       "version_major": 2,
       "version_minor": 0
      },
      "text/plain": [
       "  0%|          | 0/7 [00:00<?, ?it/s]"
      ]
     },
     "metadata": {},
     "output_type": "display_data"
    },
    {
     "name": "stdout",
     "output_type": "stream",
     "text": [
      "https://news.naver.com/main/read.naver?mode=LSD&mid=sec&sid1=110&oid=022&aid=0003631633\n",
      "https://news.naver.com/main/read.naver?mode=LSD&mid=sec&sid1=104&oid=055&aid=0000929338\n",
      "https://news.naver.com/main/read.naver?mode=LSD&mid=sec&sid1=104&oid=003&aid=0010791284\n",
      "https://news.naver.com/main/read.naver?mode=LSD&mid=sec&sid1=102&oid=023&aid=0003648573\n",
      "https://news.naver.com/main/read.naver?mode=LSD&mid=sec&sid1=102&oid=023&aid=0003648572\n",
      "https://news.naver.com/main/read.naver?mode=LSD&mid=sec&sid1=100&oid=052&aid=0001656924\n",
      "https://news.naver.com/main/read.naver?mode=LSD&mid=sec&sid1=102&oid=023&aid=0003648571\n",
      "['모더나 \"6∼11살 어린이에도 코로나 백신 효과적이고 안전\"', '[이렇게]위드 코로나, 개인위생 여전히 신경써야', '[애널리스트의 마켓뷰]美 테이퍼링, 2013년 같은 긴축 발작은 없을듯', '내달부터 예배 인원… 정원의 50% 참석', '노래방 목욕탕 헬스장에 ‘백신패스’… 유흥시설은 자정까지만', '접종 완료자, 가을 야구 치맥 즐기며 직관 가능', '무증상-경증 환자는 재택치료가 원칙… 보건소 과부하 해소 숙제', '독일처럼… 치명률 낮추려 점진적 방역 완화', '[최재천의 자연과 문화] [648] 뉴 업노멀', '[정동칼럼]종전선언 향한 초혼과 냉소']\n",
      "==================================\n",
      "['   본문 내용     TV플레이어     // TV플레이어     // flash 오류를 우회하기 위한 함수 추가 function _flash_removeCallback() {}    자료사진 미국 제약사 모더나는 현지시간 25일 자사의 코로나19 백신이 6살에서 11살까지 어린이들에게 안전하면서도 강력한 면역효과를 보였다고 밝혔습니다. 뉴욕타임스 등에 따르면 모더나는 해당 연령의 어린이 4천753명을 대상으로 한 코로나19 백신 임상시험을 실시한 뒤 이같은 내용의 잠정 결과를 발표했습니다. 임상시험에 참가한 어린이들에게 성인 용량의 절반인 50㎍(마이크로그램)의 백신을 28일 간격으로 두 차례 투여한 결과, 젊은 성인과 비교해 1.5배 수준의 항체를 생성했다고 회사 측은 전했습니다. 모더나 백신을 맞은 6살에서 11살 어린이들이 겪은 부작용은 대부분 피로와 두통, 열, 접종부위 통증과 같은 가볍거나 보통 수준의 증상으로 나타났습니다. 심근염과 같은 희귀 부작용 사례는 이번 임상시험에서 보고되지 않았습니다. 하지만 미국 인론들은 임상시험 규모가 희귀 부작용 발생 여부를 파악하기에는 너무 작았다고 지적했습니다. 앞서 미 식품의약국(FDA)은 지난 7월 희귀 부작용 파악을 위해 모더나와 화이자에 어린이 임상시험 규모를 늘리라고 권고한 바 있습니다.    // 본문 내용   ', '   본문 내용     TV플레이어     // TV플레이어     // flash 오류를 우회하기 위한 함수 추가 function _flash_removeCallback() {}   \\t \\t[경향신문]  지난 7일 정은경 질병관리청장은 국정감사장에서  10 월 25 일쯤 전 국민의  70 %가 백신 접종을 완료할 것으로 보고,  11 월9일쯤이면 일상 회복 단계인 ‘위드 코로나’로 갈 수 있을 것이라고 밝혔다. 정부는 지난  18 일부터 단계적 일상회복(위드 코로나)에 앞서 ‘징검다리’ 거리 두기를 시행하고 있다. 지금까지 확진자 추이를 보면, 지난 6월부터 네 자릿수를 기록하며 계속하여 확진자 수가 증가하더니, 8월부터는  2000 명대를 돌파했다. 이후  1000 명 후반대에서  2000 명대를 오가는 상황이  10 월 초까지 이어지다가,  10 월 둘째주부터는  1000 명 전반대로 비교적 안정세를 보이고 있다. 그에 따라 감염 재생산지수도 1을 넘기다  10 월 첫째주는  0.89 , 둘째주는  0.86 을 기록하고 있다. 이는 백신 접종완료율이  70 %에 근접한 영향으로 분석된다.  25 일 현재 우리나라 백신 접종률은 1차  79.4 %, 완전접종  70.1 %이다.       그러나 영국, 러시아 등 유럽 쪽의 코로나 19  확산세가 심상치 않다. 지난  21 일 기준으로 영국은 5만 2000 명, 러시아는 3만 4000 명이 확진되어 위드 코로나 이후 재확산세가 뚜렷하다. 이에 따라 러시아는 9일간의 휴무령을 발표한 반면, 영국은 “이대로라면 확진자가  10 만명에 달할 수 있다”는 경고에도 불구하고, 이렇다 할 조치를 하지 않고 있다. 영국은 지난 7월 19 일 ‘자유의날’을 선언하고 마스크 착용 등 방역규제를 전면 해제한 위드 코로나를 시행하고 있다. 현재 영국 백신 접종완료율은  78.9 %에 달한다 백신 접종완료율  70 %를 달성함에 따라 조만간 위드 코로나가 시행될 것으로 보인다. 위드 코로나로 방역체계가 완화되는 만큼 전파 위험성이 커지는 것은 자명하다.     이때 무엇보다도 중요시되는 것은 개인위생 및 방역이다. 개인의 자율성이 커짐에 따라 그 책임과 위험도 커지는 것이다. 수차례 거리 두기 발표가 있었지만 불변의 대원칙이던 마스크 쓰기, 그리고 손씻기 등 개인위생과 각 시설 및 업소의 주기적 소독 및 환기 등은 여전히 중요하다. 자발적인 방역수칙 준수 여부에 따라 확산세가 제어되고, 일상회복의 꿈이 현실화될 것이다. \\t  // 본문 내용   ', '   본문 내용     TV플레이어     // TV플레이어     // flash 오류를 우회하기 위한 함수 추가 function _flash_removeCallback() {}    문남중 대신증권 수석연구위원 올해 금융시장은 미국 연방준비제도( Fed· 연준)의 테이퍼링(자산 매입 축소)이 회자될 때마다 증시 하락, 금리 상승, 달러 가치 상승 패턴이 반복되고 있다. 금리와 달러 가치 상승은 신흥국의 불안 심리 확대로 직결된다. 이 때문에 이르면  11 월 중순부터 시행될 테이퍼링을 앞두고 신흥국의 통화 가치 및 증시 급락으로 이어지는 ‘긴축 발작’이  2013 년처럼 재연될지 관심이 쏠리고 있다.  올해 신흥국 증시의 수익률은 파이낸셜타임스스톡익스체인지( FTSE ) 지수 기준으로  2.4 %로 선진국( 16.3 %)에 비해 크게 부진하다. 선진국에 비해 떨어지는 재정 여력과 신종 코로나바이러스 감염증(코로나 19 ) 확산 반복 등의 영향 때문이다. 8∼ 10 월 이어진 위험 회피 선호와 달러 가치 상승세는 신흥국의 자금 유출을 여전히 자극하고 있다.   연준의 테이퍼링 시기를 좌우하는 결정적 변수는 고용 지표다. 미국의 9월 고용지표는 일손 부족에 따른 임금 상승과 물가 상승으로 이어지며 통화 긴축을 자극했다. 이에 따라  11 월 연방공개시장위원회( FOMC ) 이후 빠르면  11 월 중순, 늦어도  12 월 중순부터는 테이퍼링을 시작할 가능성이 높아졌다. 속도는  2014 년처럼 국채  100 억 달러, 주택저당증권( MBS )  50 억 달러 수준에서 8개월 전후로 단계적으로 진행될 가능성이 높다.   테이퍼링 시행에 따른 신흥국 증시 영향은 표면적으로는 불가피하다. 열약한 보건 환경과 낮은 백신 보급 속도에 따른 성장 지연, 물가 상승, 재정수지 악화, 연준의 테이퍼링으로 인한 시장 금리 상승 등이 맞물리며 자금 유출이 확대될 가능성이 크기 때문이다.  다만 다음과 같은 4가지 이유로 테이퍼링 시행에 따른 신흥국 영향은 한 달 안팎의 단기에 그칠 것으로 전망된다. 첫째, 연준은 지표 기반 전망을 바탕으로 시장과 교감하며 테이퍼링 준비를 충분히 진행해 왔다. 테이퍼링 기간 동안 미국 경기에 대한 판단을 바탕으로 속도 조절을 통해 증시에 미치는 부정적 영향을 최소화할 가능성이 높다.   둘째, 시장 금리도 내년 1분기(1∼3월) 기저효과에 따른 경기 부진과 물가 우려 완화로 상승세가 제한될 것이다. 셋째, 내년 2월 연준 의장 교체 시점에 제롬 파월 현 연준 의장이 연임되지 못하더라도 차순위로 거론되는 레이얼 브레이너드 연준 이사도 현 통화정책 기조를 유지할 가능성이 크다. 넷째,  2013 년 테이퍼링 때는 브라질, 인도, 인도네시아, 터키, 남아프리카공화국을 중심으로 대규모 자금 유출이 일어나면서 충격이 있었지만 신흥국 경상수지와 재정수지가 그때보다 개선됐다. 외부 충격에 대해 과거와 달리 내성이 커진 것이다. 이 때문에 올해 연준의 테이퍼링 시행은  2013 년 같은 긴축 발작으로 이어지진 않을 것으로 보인다.     // 본문 내용   ', '   본문 내용     TV플레이어     // TV플레이어     // flash 오류를 우회하기 위한 함수 추가 function _flash_removeCallback() {}    일상회복 이행계획 공청회 백신 접종 완료자만 모이면 제한 없어 소모임 등 고위험 행위는 단계적 완화 한교총, 성가대 운영 등 입장 전달 계획 다음 달 1일부터 코로나 19  백신 접종 완료자만 참석할 경우 인원 제한 없이 대면예배를 드릴 수 있게 됐다. 예배 인원도 미접종자를 포함해 정원의  50 %까지 참석할 수 있다. 단계적 일상회복(위드 코로나) 계획이 발표되면서 교회의 일상 회복도 가까워졌다. 보건복지부 중앙사고수습본부는  25 일 서울 중구 한국프레스센터에서 ‘코로나 19  단계적 일상회복 이행계획 공청회’를 열고 구체적인 계획을 발표했다. 종교시설과 관련해서는 ‘정규 종교활동을 확대하고 소모임 등 고위험 행위는 단계적으로 완화한다’는 게 핵심이다. 이행계획에 따르면 미접종자가 포함된 경우 예배당 수용 가능 인원의  50 %가 참석해 예배를 드릴 수 있다. 접종 완료자만 모이면 인원 제한이 아예 없다. 세 차례에 걸쳐 진행되는 단계적 완화 조치의 1차 개편부터 적용된다. 다만 교회발 집단 감염의 원인으로 지목된 소모임이나 식사는 방역의 고위험 행위로 보고 있기에 당장 일상으로 돌아가기는 어려울 것으로 보인다. 정부는 “큰소리로 다 함께 하는 기도·찬송, 실내 취식 등은 2차 또는 3차 개편에 단계적으로 완화를 검토한다”고 밝혔다. 한국교회는 단계적 일상회복을 위한 종교시설 세부지침을 마련하는 데 방역 당국에 적극적으로 의견을 개진할 계획이다. 그동안 한국교회와 방역 당국 간 소통 창구 역할을 했던 한국교회총연합(한교총)은 한국교회 입장을 적극 전달해 왔다. 이번 이행계획에는 한교총 의견이 일부 반영되기도 했다. 한교총 관계자는 “정규예배에 공연장, 극장 등과 동일 원칙을 적용해 달라고 요청해 왔는데 이날 발표엔 유사시설 간 인원 제한 기준을 최소 기준으로 통합한다는 내용이 들어갔다”고 설명했다. 종교시설 이행계획 중 예배 인원은 유사시설과 동일하다. 한교총은 앞으로 백신 접종 완료자로 성가대나 찬양팀을 운영하는 것도 요청할 계획이다. 또 성도들이 마스크를 착용했다면 설교자는 마스크를 착용하지 않는 방법도 제안할 예정이다. 정부는 종교계 의견을 듣기 위해 지난  22 일 코로나 19  일상회복지원위원회 2차 회의부터 사회문화분과 민간위원에 종교계 인사 1명을 추가했다. 이에 따라 민간위원은 기존  30 명에서  31 명으로 늘었다. 이는 지난  13 일 일상회복지원위원회 출범 당시 민간위원에 종교계 의견을 알릴 인사가 한 명도 없다는 지적이 제기된 데 따른 것이다(국민일보  2021 년  10 월  19 일자  29 면 참조). 문화체육관광부 관계자는 “보도 이후 일상회복위원회에 강력하게 요청해 종교계 인사가 들어갔다”며 “2차 회의부터 참석해 종교시설에 대한 의견을 적극 제안하고 있다”고 설명했다. 종교계 인사는  27 일 열릴 3차 회의에도 참석할 예정이다. \\t  // 본문 내용   ', '   본문 내용     TV플레이어     // TV플레이어     // flash 오류를 우회하기 위한 함수 추가 function _flash_removeCallback() {}    [위드 코로나 로드맵]위드코로나, 달라질 일상  Q&A 다음 달 1일부터 국내 방역체계가 ‘단계적 일상 회복(위드 코로나)’으로 전환되면 국민들의 일상생활이 크게 바뀐다. 업종에 따라 1년 넘게 이어지던 영업시간 및 모임인원 제한이 완전히 폐지되거나 상당수 완화된다. 위드 코로나 전환 이후 달라질 일상의 모습을 일문일답으로 정리했다.   ― 11 월 중순에  10 명이 모이는 송년회를 계획 중이다. 함께 식당에서 밥을 먹고, 2차로 클럽에 가는 것도 가능한가.  “다음 달부터  10 명까지는 모일 수 있다. 다만 백신 접종 여부를 잘 따져봐야 한다. 식당에서 모일 때는  10 명 중 미접종자가 일부 포함돼도 괜찮다. 미접종자 허용 인원은 아직 정해지지 않았다. 클럽 감성주점 등 유흥시설은 영업이 재개되지만 밤  12 시에 문을 닫아야 한다. 이용도 접종 완료자만 가능하다. 건강 때문에 백신을 맞지 않았거나 검사에서 음성 판정을 받았어도 출입이 불가능하다. 유흥시설 영업시간은  12 월 중순 이후 조정될 것으로 보인다.”   ―백신 패스, 어떻게 사용하는 것인가.  “백신 패스는 ‘접종증명·음성확인제’와 같은 말이다. 코로나 19  백신 접종을 완료했거나 유전자증폭( PCR ) 검사에서 음성 판정을 받은 걸 증명한 사람만 다중이용시설 등을 이용할 수 있게 한 제도다. 접종 완료자는 시설 관리자에게 ‘질병관리청  COOV’  애플리케이션(앱)을 보여주거나 접종 이력이 연동된 전자출입명부( QR 코드)를 찍고 출입하면 된다. 스마트폰 사용이 어려운 고령층은 종이증명서 또는 신분증에 붙이는 접종완료 스티커를 사용하면 된다.”    ―어디서 백신 패스를 사용하나. 몸이 안 좋아 접종을 못한 사람은 외출을 못하게 되나.  “백신 패스 적용 시설은 유흥시설, 노래연습장, 실내체육시설, 목욕장업, 경륜·경정·경마장, 카지노 등이다. 이 중 유흥시설을 제외한 곳은 접종 대신  PCR  검사 결과 음성 판정을 받은 사람, 의학적 이유로 백신을 못 맞는 사람,  18 세 이하 청소년 등도 출입할 수 있다. 예를 들어  11 월부터 백신 미접종자가 실내체육시설인 헬스장에 가려면  PCR  음성 확인서나 의사 소견서, 학생증 등을 제시해야 한다.”    ― PCR  음성 확인서는 얼마 동안 쓸 수 있나.   “원칙적으로는 발급 후  48 시간까지 유효하다. 다만 밤 시간대에 효력이 종료될 수도 있어 시설에 따라  48 시간이 지난 날의 밤  12 시까지도 효력을 인정해 준다. 예를 들어 백신 미접종자가 오후 7시까지 효력이 인정되는  PCR  음성 확인서를 들고 목욕탕을 갔다가 효력 시간이 지났다면 바로 나오는 게 아니라 밤  12 시까지 머무를 수 있는 것이다.”   ―헬스장 골프장 등에서 샤워는 언제부터 할 수 있나.  “다음 달 1일부터 헬스장 등 실내체육시설에서 샤워실을 이용할 수 있다. 러닝머신 속도와 음악 속도를 제한하던 규정도 사라진다. 수도권에 한해 시행되던 골프장 샤워시설 운영 금지도 같은 시기에 풀린다.”   ―영화관에서 팝콘을 먹고 콜라도 마실 수 있나.  “그렇다. 백신 패스를 받은 사람들만 모여 있으면 가능하다. 접종 완료자,  PCR  검사 결과 음성 판정을 받은 사람, 의학적 이유로 인해서 백신을 못 맞는 사람,  18 세 이하 청소년만 모인 상영관에서는 팝콘과 콜라 섭취가 가능하다. 이 경우 일행끼리 좌석을 띄우지 않고 나란히 앉을 수도 있다.”    // 본문 내용   ', '   본문 내용     TV플레이어     // TV플레이어     // flash 오류를 우회하기 위한 함수 추가 function _flash_removeCallback() {}    [위드 코로나 로드맵] 야구장 등 접종 관계없이 절반 입장… ‘접종자 지역’은 음식 먹을수 있어 미접종자 섞인 행사  99 명까지만… 수만 명 콘서트  12 월에 가능할듯 다음 달 1일부터는 야구장에서 치킨과 맥주를 먹으면서 경기를 관람할 수 있을 것으로 전망된다. 가을 야구 ‘직관(직접 관람)’이 가능해지는 것이다.  25 일 정부가 공개한 ‘단계적 일상 회복(위드 코로나)’ 로드맵에 따르면  11 월부터 야구장과 축구장 등 실외 스포츠경기장에는 백신 접종과 상관없이 정원의  50 %가 입장할 수 있다. 총 2만 5000 명을 수용할 수 있는 서울 잠실야구장에는 1만 2500 명의 관객이 들어갈 수 있게 되는 셈이다. 하지만 이 경우에는 응원도 금지되고, ‘치맥(치킨+맥주)’ 등 음식을 먹는 것도 안 된다.  그 대신 실외 스포츠경기장에는 접종 완료자와 유전자증폭( PCR ) 검사 결과 음성이 나온 사람 등이 앉을 수 있는 ‘접종자 전용 구역’을 만들 수 있다. 피치 못할 의학적 이유로 백신을 못 맞는 사람,  18 세 이하 청소년 등도 이용이 가능하다. 이곳에선 관중들이 음식을 자유롭게 먹을 수 있다. 접종 완료자인 부모와 초등학생 자녀로 이뤄진 가족이 이 구역에서 치킨을 먹으면서 야구를 관람할 수 있다는 얘기다. 만약 이런 사람들만 관객으로 받을 경우 전체 경기장 정원의  100 % 입장도 가능해진다. 다만 큰 소리로 함성을 지르며 응원하는 건 여전히 안 된다.   11 월부터 대규모 행사와 집회 개최도 가능해진다. 현재 거리 두기 4단계가 적용 중인 수도권에선 행사와 1인 시위를 제외한 다른 집회가 금지된 상태다. 3단계인 비수도권 역시  50 인 이상이 참가하는 행사와 집회를 열 수 없다. 다음 달 1일부터는 접종 완료자와 미접종자가 섞여 있을 경우 행사와 집회가  99 명까지 가능하다. 참가자가 접종 완료자,  PCR  검사 음성 확인자 등으로 구성됐다면  499 명까지 모이는 게 가능하다. 결혼식, 장례식, 돌잔치, 수련회, 토론회 등이 이 원칙을 따른다. 참가자가  500 명이 넘는 공연, 축제, 스포츠대회는 관할 부처와 지방자치단체의 승인을 받으면 개최할 수 있다.   만약 정부 계획대로  12 월 중순 위드 코로나 2단계가 시작되면 관객 수만 명이 K팝 콘서트를 관람하는 것도 가능해질 것으로 보인다. 행사 참가자가 접종 완료자 등으로만 구성될 경우 원칙적으로 행사와 집회 인원의 제한이 없기 때문이다.  내년 1월 일상 회복 3단계 개편이 이뤄지면 접종 여부와 관계없이 인원 제한 자체가 사라질 가능성이 크다. 기본 방역 수칙만 지킨다면 인원 제한 없이 모든 종류의 행사와 집회를 열 수 있게 된다.    // 본문 내용   ', '   본문 내용     TV플레이어     // TV플레이어     // flash 오류를 우회하기 위한 함수 추가 function _flash_removeCallback() {}    정부, 위드코로나 세부 방안 제시 최근 일주일간 국내에서 발생한 신종 코로나바이러스 감염증(코로나 19 ) 확진자는 하루 평균  1378 명이다. 일부 전문가들은  11 월 ‘단계적 일상 회복(위드 코로나)’ 전환 이후 하루 확진자 수가 2만 5000 명에 이를 수 있다는 우려를 내놓고 있다. 정부는  25 일 열린 위드 코로나 공청회에서 확진자 급증의 ‘해답’으로 재택치료 확대를 제시했다. 그동안 무증상 및 경증환자를 수용하던 생활치료센터는 단계적으로 축소한다. 늘어날 재택치료 환자를 감당할 시스템 구축과 운영이 위드 코로나의 성패를 가를 것으로 보인다. ○ 이제 확진 판정 받으면 재택치료가 원칙   현재 재택치료 대상은  70 세 미만이면서 당뇨, 만성 폐질환 등 기저질환이 없는 무증상 및 경증 환자다. 지금은 이 기준에 부합해도 본인이 희망할 때만 재택치료를 받고, 원치 않으면 생활치료센터나 병원으로 이송된다.  25 일 현재 재택치료 중인 코로나 19  환자가  2124 명으로 전체 격리 환자(2만 5868 명)의 8%에 그치는 이유다.  방역당국은  25 일 위드 코로나 공청회에서 재택치료를 선택이 아닌 ‘원칙’으로 만들겠다고 밝혔다. 환자가 기숙사나 고시원에 사는 등 일부 예외를 제외하면 전부 집에서 치료하겠다는 것. 현재  90 곳, 약 2만 병상 규모로 운영 중인 생활치료센터는 점차 줄어들게 된다.  하지만 재택치료 확대를 위해선 의료지원 시스템부터 바꿔야 한다는 지적이 나온다. 특히 재택 환자의 건강 모니터링과 약품 및 의료기기 전달, 격리 감시까지 맡고 있는 보건소의 과중한 업무 부담을 해결해야 한다는 목소리가 많다. 경기지역의 한 보건소 감염병대응팀장은 “지금도 수습 공무원과 구청 인력을 끌어모아 운영 중”이라며 “재택 환자가 더 늘어나는 상황은 상상조차 할 수 없다”고 호소했다. 박건희 경기도 감염병관리지원단장은 이날 공청회에서 “보건소 인력 확충이 없다면 일상 회복도 없다”고 했다. 이 때문에 단순한 물품 배달 정도는 ‘퀵서비스’ 등 민간 인력을 활용하자는 의견도 나왔다. ○ ‘재택치료 중 사망’ 막을 대책 필요  방역당국은 앞으로 고위험군 환자로까지 재택치료 대상을 확대할 방침이다. 하지만 전문가들은 집에서 사망하는 환자가 늘어날 수 있다고 우려하고 있다. 김우주 고려대 구로병원 감염내과 교수는 “고령 환자는 본인이 증상을 느끼지 못해도  CT (컴퓨터단층촬영)를 찍어 보면 폐렴이 진행된 경우가 많다”며 “ 60 세 이상은 의료시설에서 경과를 관찰해야 할 것”이라고 말했다.  실제  21 일 재택치료 중 사망한 서울 서대문구의  68 세 남성도 숨지기 전날까지 특별한 증상이 없었던 것으로 알려졌다. 김 교수는 “병원에 갔어야 할 환자에게 재택치료를 시킨 게 궁극적인 원인”이라고 지적했다. 김윤 서울대 의료관리학과 교수도 “지금은 재택치료 확대보다 추가 위중증 병상 확보에 힘을 쏟아야 할 때”라고 말했다.  향후 먹는 치료제가 도입될 경우 정부는 코로나 19  환자도 독감 환자와 마찬가지로 동네 병원에서 진찰받고 약을 처방받을 수 있도록 할 계획이다. 앞서 정은경 질병관리청장은  20 일 국회에서 “코로나 19  먹는 치료제는 지금 도입 예정 물량의  10 배가 필요하다”고 말했다. 현재 정부가 도입하려는 먹는 치료제 물량이 4만 명분인 만큼  40 만 명분이 필요하다는 뜻이다. 중환자실 가동률  80 % 넘으면 일시적 방역 강화  모임 인원-식당 영업시간 줄이고 백신패스 적용 확대 등 ‘비상계획’ 확산세 안정될 때까지 지속… 전문가 “ 60 %만 넘어도 가동해야”  11 월 ‘단계적 일상 회복(위드 코로나)’이 시작돼도 신종 코로나바이러스 감염증(코로나 19 ) 유행 상황이 나빠지면 ‘서킷브레이커’ 같은 방역 강화가 이뤄진다. 서킷브레이커는 주식시장에서 주가가 급등 또는 급락할 경우 주식매매를 일시 정지하는 제도다. 방역 완화 후 확진자 급증에 대비한 비상계획인 셈이다.   25 일 방역당국에 따르면 비상계획 검토 기준은 △중환자실 가동률  80 % 초과 △위중증 환자 및 사망자 급증 △의료체계 붕괴 위험 등 3가지다. 지난해 말 3차 유행 당시 ‘병상 대란’ 때처럼 중환자가 병원에 가지 못해 숨지는 일이 없도록 하는 게 핵심이다. 이는 신규 확진자 규모 대신 위중증 환자 및 사망자 수를 가장 중요한 유행 지표로 삼겠다는 뜻이기도 하다.  비상계획이 발동되면 정부의 3단계 방역 완화 계획과 다른 방역 조치를 실시한다. 2단계 시행 중 1단계로 되돌리는 것이 아니라, 더 강력한 별도의 조치를 취하게 된다. 백신 패스 적용 시설을 늘려 미접종자의 다중이용시설을 제한하고 사적모임 허용 인원과 식당·카페 이용시간을 축소한다. 요양병원 등 고위험군이 많은 시설의 면회도 줄인다. 병상 여력을 긴급히 확보하기 위해 행정명령을 발동할 수도 있다.  비상계획은 확산세가 안정될 때까지 지속한다. 손영래 중앙사고수습본부 사회전략반장은 “확산 규모가 차단될 때까지 4주간 운영했다가 유행이 안정되면 다시 기존 계획으로 돌아가는 등의 방식이 될 것”이라고 설명했다.  전문가들은 정부가 검토하고 있는 비상계획 발동 기준이 다소 느슨하다고 지적했다. 의료계에선 중환자실 가동률이  80 %라면 실제로는 준중환자의 입원 대기 등의 이유로 가용 병상이 0%에 가깝다고 본다. 방역 강화가 위중증 환자 감소로 이어지는 데 3, 4주가 걸리는 게 보통인데, 중환자실 가동률이  80 %가 넘은 뒤 비상계획을 발동하면 늦을 수 있다. 이재갑 한림대성심병원 감염내과 교수는 “중환자실 가동률이  80 %가 아닌  60 %만 넘어도 ‘예비 경보’를 발동해 바로 방역 강화에 나서도록 준비해야 한다”고 조언했다.  비상계획이 실제 발동되는 일이 없도록 하는 게 중요하다는 지적도 나온다. 이윤성 서울대 의대 법의학교실 명예교수는 “한 번 풀었던 방역을 다시 강화하는 건 매우 어렵다. 방역을 한 번에 확 푸는 것만큼은 피해야 한다”고 진단했다.    // 본문 내용   ', '   본문 내용     TV플레이어     // TV플레이어     // flash 오류를 우회하기 위한 함수 추가 function _flash_removeCallback() {}    백신패스 도입 안한 英은 상황 악화 다음 달 1일 시작될 위드 코로나의 특징을 요약하면 ‘접종 완료자 중심의 점진적 방역 완화’다. 우리보다 앞서 방역체계를 전환한 주요 국가의 ‘성적표’가 반영된 것이다.  영국은 빠른 백신 접종 속도에 힘입어 7월  19 일 ‘자유의 날’을 선포하고 코로나 19  관련 모든 방역지침을 한꺼번에 해제했다. 접종자와 미접종자를 구분하는 ‘백신패스’도 도입하지 않았다. 그러자 축구 프리미어리그 경기장에 만원 관중이 들어찼다. 클럽은 인산인해를 이뤘다. 약 3개월이 지난 현재 영국의 코로나 19  상황은 실험은 대규모 봉쇄 때보다 악화됐다. 최근 주간 평균 하루 확진자는 4만 6490 명, 사망자는  136 명이다. 영국 야당은  24 일 “정부의 실책과 무대책 탓”이라며 방역 강화를 요구했다.  반면 독일은 철저하게 접종 완료자 중심으로 방역을 완화했다. 식당과 미용실 체육관 등 실내 공공 장소에 들어갈 땐 접종증명서나 음성확인서를 제시해야 한다. 대중교통과 실내 공간에서 마스크 착용도 의무화했다. 그 결과 확진자가 늘어도 치명률을 크게 낮췄다.  24 일 기준 주간 평균 하루 확진자는 1만 1837 명, 사망자는  48 명이다. 올해 초 하루 2만 명 확진,  800 명 이상 사망과 비교해 상황이 크게 안정됐다.     // 본문 내용   ', '   본문 내용     TV플레이어     // TV플레이어     // flash 오류를 우회하기 위한 함수 추가 function _flash_removeCallback() {}   \\t \\t\\t\\t\\t\\t\\t\\t\\t나는 최근 ‘일상회복지원위원회’ 공동위원장이라는 중책을 맡았다. 국내에서 코로나 19  확진자가 처음 발생한 지난해 1월  20 일부터 어언 1년 9개월이 지났다. 우리 국민은 그동안 참으로 성실하게 정부의 방역 지침을 따르며 인고의 시간을 보냈는데, 어느덧 백신 접종률이 세계 최고 수준에 다다르며 조심스레 일상으로 되돌아갈 꿈을 꿀 수 있게 되었다. 이런 시점에 ‘일상회복지원위원회’가 만들어진 것은 매우 다행스러운 일이라고 생각한다. 다만 만일 내가 기획 단계부터 참여했더라면 위원회 명칭을 아마 ‘일상복원지원위원회’쯤으로 지었을 것 같다. 대놓고 ‘일상 회귀’라 하지 않은 것은 다행이지만 ‘회복’이라는 단어에도 여전히 예전으로 되돌아가겠다는 희망과 의도가 담겨 있다. 팬데믹 상황이 안정되더라도 아무 일 없었다는 듯 예전으로 돌아갈 수는 없다. 그래서 우리는 ‘새로운 일상( New   normal )’을 얘기한다. 하지만 이 표현에는 예전의 일상이 정상적( normal )이었다는 전제가 깔려 있다. 나는 이에 동의할 수 없다. 예전의 우리 일상이 정상적이었으면 애당초 이런 끔찍한 재앙은 일어나지 않았을 것이다. 그래서 우리가 말하는 ‘뉴 노멀’은 실상 ‘새로운 비정상’ 즉 ‘뉴 애브노멀( New   abnormal )’에 가깝다. 엄청난 비용을 지불하며 팬데믹을 견뎌내고 만들어낼 우리의 일상은 예전보다 훨씬 더 나은 일상이어야 한다. 나는 우리가 추구해야 할 새로운 일상을 ‘뉴 업노멀( New   upnormal )’이라 부른다. ‘ Upnormal’ 은 내가 새로 만든 신조어로서 아직 세계 어떤 사전에도 등재되지 않았다. ‘ Abnormal’ 의 접두사 ‘ ab-’ 와 상반된 접두사로 ‘ up-’ 을 떠올렸다. 우리가 일상적으로 사용하는 외래어 ‘업그레이드( upgrade )’를 생각하면 느낌이 올 것이다. 나는 ‘일상회복지원위원회’가 구현해낼 일상이 단순한 회복을 넘어 ‘뉴 업노멀’이 되길 기대한다.    // 본문 내용   ', '   본문 내용     TV플레이어     // TV플레이어     // flash 오류를 우회하기 위한 함수 추가 function _flash_removeCallback() {}   \\t \\t[경향신문]  종전선언을 두고 열정과 냉소 그리고 기대와 우려가 교차되며 갑론을박이 한창이다. 문재인 대통령이 직접 유엔 총회에서 심중에 남아 있던 모든 열정을 담아 평화의 불씨를 지핀 이래 종전 논의가 되살아났다. 게다가 이번주에는 대통령이 교황 면담을 통해 종전선언을 위한 바티칸 순방 외교에 나선다고 하니, 향후 교황 방북 등 여러 가지 이벤트가 종전을 앞당기는 수레가 될 개연성이 높아졌다. 종전선언을 향한 이 같은 ‘열정’은 대북 특사 성 김의 방한으로도 더욱 불붙고 있다. 우리 고위 당국자가 워싱턴에서 종전선언 문안이 논의 중이라며 뭔가 될 것 같은 분위기를 내비친 이후인지라 그의 방한에 기대치가 높아졌기 때문이다. 이런 시국에 방한한 성 김이니 그의 입에 세간의 관심이 집중되고 있는 게 자연스럽기까지 하다.  이정철 서울대 정치외교학부 교수  성 김이 방한 일성으로 “북한이 이런 도발과, 불안정을 야기하는 행동을 그만두고 대화에 나서기를 촉구한다”라고 성명을 냈다. 지난 9월 중순 이래 북한의 미사일 발사를 도발로 규정하지 않고 있는 한국 정부의 사정을 잘 알고 있으면서도 굳이 ‘도발’이라는 용어를 사용한 것이다. 그러면서도 전제조건 없이 만날 준비가 되어 있다는 화전 양면식 언술도 잊지 않았다. 미사일 발사 중단이라는 ‘조건’을 붙인 논법이 분명한데도 그 스스로는 ‘조건 없는’ 대화라는 언술을 고집한다. 이래서 성 김에 관한 한, 그의 전문성에 아랑곳하지 않고 냉소가 따라붙는다.  2008 년 냉각탑 폭파 당시 북한 영변을 다녀오던 그의 모습을 기억하는 많은 이들에게 그의 오랜 경력은 만감을 교차하게 한다. 버락 오바마 대통령 시절 그는 전략적 인내의 아이콘이었다.  2015 년 1월에는 그의 평양 초청과 회담 장소가 쟁점이 되어 북·미 회담이 결렬되기도 했다. 북한은 당시 ‘미국 것들과는 더는 상종할 용의도 없다’는 성명을 내며 불쾌감을 표현했다. 지난 5월 조 바이든 대통령이 그를 대북 특사로 임명하였을 때, 북한의 반응에 대한 우려가 많았던 것도 이런 사정이 반영되었기 때문이다. 그래서 ‘냉소’론은 인도네시아 대사를 겸직하고 있는 그가 임지로 가는 길에 개인적 용무로 들렀을 뿐이라며 그의 방한을 평가절하하기도 한다. 냉소론자들은 종전선언이 이미 죽은 놈이며 종전론은 한국의 자가 발전일 뿐이라고 단언한다. 바이든 정부는 이미 전략적 인내로 돌아갔고 북한 역시 남북관계에 미련이 없으며 오히려 북·중동맹론에 한층 기울었다고 본다. 하지만 ‘기대’를 버릴 일은 아니다. 주지하다시피 존 볼턴 전 보좌관은  2018 년 싱가포르 회담 당시 북·미 간에 종전선언 합의문을 담은 초안이 만들어졌다고 폭로했다. 볼턴은 ‘식스 피엠 문안’( six   p.m.   text )이라 불리는 장문의 합의문을 자신이 주도하여 밤새 뒤집었다고 자랑한다. 일본인 납치자 문제 등을 합의안에 추가할 것을 강변하여 장문의 합의안을 난도질했다는 것이다. 결국 주지하다시피 최종 합의안은 종전선언안이 모두 빠진 속 빈 강정 같은 합의문이 되었다고 안도한다. 볼턴의 공과를 별론으로 한다면, 분명한 점은 북·미 간 종전선언에 대한 합의 초안이 있었음이다. 그리고 당시 그 초안을 합의한 실무진에 성 김이 있었음 또한 분명하다. 성 김 특사가 당시 합의했던 종전선언 초안을 자구 하나 빼지 않고 그대로 제시한다면 북한의 동의를 구하는 건 어렵지 않을 것이다. 한국의 코로나 19  상황이나 백신 상황이 급속히 호전되고 있는 점 또한 북한을 대화로 불러낼 수 있는 유인책을 제공할 제법 큰 여력이 생겼음을 말한다. 대통령이 교황을 만나 평양 방문 카드라도 하나 더 쥐게 된다면, 남·북·미 사이의 오해를 풀어내는 금상첨화의 중재자를 조력자로 갖게 되기도 한다. 베이징 동계올림픽을 개최하는 중국 역시 베이징 평화프로세스를 이어가는 것에 부담은 없을 것이다. 그러나 여전히 ‘우려’의 소리가 더 높다. 우리 야당은 종전선언이 혹여나 대선에 영향을 줄까 걱정이다. 일본은 종전선언이 유엔사의 영향력을 약화시켜 주한미군과 주일미군의 결합고리가 약화될까 전전긍긍하는 기색이다. 아마도 성 김은 한국 야당이나 일본의 이런 강력한 우려도 고려하고 있는 듯하다.  미국 내에서는 혹여나 종전선언이 대북 유화정책이라는 비판의 소리를 들을까 고심하고 있다. 대화의 내용보다는 대국의 체면이 손상되는 그 형식에 대한 우려가 더 큰 듯하다. 아직은 바이든 대통령이 직접 나서지 않고 대북 정책이 외교관( blob )들의 손아귀에만 놓여 있어 선이 굵은 외교가 되지 못한 탓인 듯하다. 이래서는 북한이 사고를 쳐야 대통령이 관심을 갖게 되는 벼랑 끝 외교의 출현을 피할 수 없게 마련이다. 도발하지 말라며 도발을 부르는 제재만능론( one   trick   pony )에 대한 자성의 소리에 주목할 때이다. \\t  // 본문 내용   ']\n"
     ]
    }
   ],
   "source": [
    "naver_news_title = []\n",
    "naver_news_content = []\n",
    "\n",
    "\n",
    "for n in tqdm_notebook(range(len(naver_news_link))):\n",
    "    #print(n)\n",
    "    news_page_title = []\n",
    "    news_page_content = []\n",
    "    \n",
    "    for idx in tqdm_notebook(range(len(naver_news_link[n]))):\n",
    "        \n",
    "        \n",
    "    ########### 긁어온 URL로 접속하기 ############    \n",
    "        try:\n",
    "            driver.get(naver_news_link[n][idx])\n",
    "            print(naver_news_link[n][idx])\n",
    "            \n",
    "        except:\n",
    "            print(\"Timeout!\")\n",
    "            continue\n",
    "        \n",
    "        \n",
    "        try:\n",
    "            response = driver.page_source\n",
    "            \n",
    "        except UnexpectedAlertPresentException:\n",
    "            driver.switch_to_alert().accept()\n",
    "            print(\"게시글이 삭제된 경우입니다.\")\n",
    "            continue\n",
    "        \n",
    "        soup = BeautifulSoup(response, \"html.parser\")\n",
    "        \n",
    "        ###### 뉴스 타이틀 긁어오기 ######\n",
    "        \n",
    "        title = None\n",
    "        \n",
    "        try:\n",
    "            item = soup.find('div', class_=\"article_info\")\n",
    "            title = item.find('h3', class_=\"tts_head\").get_text()\n",
    "            #print(title)\n",
    "\n",
    "        except:\n",
    "            title = \"OUTLINK\"\n",
    "        \n",
    "        #print(title)\n",
    "        news_page_title.append(title)\n",
    "        \n",
    "        \n",
    "        ###### 뉴스 본문 긁어오기 ######\n",
    "        \n",
    "        doc = None\n",
    "        text = \"\"\n",
    "                \n",
    "        data = soup.find_all(\"div\", {\"class\" : \"_article_body_contents\"})\n",
    "        if data:\n",
    "            for item in data:\n",
    "\n",
    "                text = text + str(item.find_all(text=True)).strip()\n",
    "                text = ast.literal_eval(text)\n",
    "                doc = ' '.join(text)\n",
    "   \n",
    "        else:\n",
    "            doc = \"OUTLINK\"\n",
    "            \n",
    "        news_page_content.append(doc.replace('\\n', ' '))\n",
    "\n",
    "                \n",
    "    naver_news_title.append(news_page_title)\n",
    "    naver_news_content.append(news_page_content)\n",
    "\n",
    "    time.sleep(2)\n",
    "    \n",
    "    \n",
    "print(naver_news_title[0])\n",
    "print(\"==================================\")\n",
    "print(naver_news_content[0])"
   ]
  },
  {
   "cell_type": "code",
   "execution_count": 7,
   "metadata": {},
   "outputs": [
    {
     "name": "stdout",
     "output_type": "stream",
     "text": [
      "['모더나 \"6∼11살 어린이에도 코로나 백신 효과적이고 안전\"', '[이렇게]위드 코로나, 개인위생 여전히 신경써야', '[애널리스트의 마켓뷰]美 테이퍼링, 2013년 같은 긴축 발작은 없을듯', '내달부터 예배 인원… 정원의 50% 참석', '노래방 목욕탕 헬스장에 ‘백신패스’… 유흥시설은 자정까지만', '접종 완료자, 가을 야구 치맥 즐기며 직관 가능', '무증상-경증 환자는 재택치료가 원칙… 보건소 과부하 해소 숙제', '독일처럼… 치명률 낮추려 점진적 방역 완화', '[최재천의 자연과 문화] [648] 뉴 업노멀', '[정동칼럼]종전선언 향한 초혼과 냉소']\n"
     ]
    }
   ],
   "source": [
    "print(naver_news_title[0])"
   ]
  },
  {
   "cell_type": "code",
   "execution_count": 8,
   "metadata": {},
   "outputs": [
    {
     "name": "stdout",
     "output_type": "stream",
     "text": [
      "['   본문 내용     TV플레이어     // TV플레이어     // flash 오류를 우회하기 위한 함수 추가 function _flash_removeCallback() {}    자료사진 미국 제약사 모더나는 현지시간 25일 자사의 코로나19 백신이 6살에서 11살까지 어린이들에게 안전하면서도 강력한 면역효과를 보였다고 밝혔습니다. 뉴욕타임스 등에 따르면 모더나는 해당 연령의 어린이 4천753명을 대상으로 한 코로나19 백신 임상시험을 실시한 뒤 이같은 내용의 잠정 결과를 발표했습니다. 임상시험에 참가한 어린이들에게 성인 용량의 절반인 50㎍(마이크로그램)의 백신을 28일 간격으로 두 차례 투여한 결과, 젊은 성인과 비교해 1.5배 수준의 항체를 생성했다고 회사 측은 전했습니다. 모더나 백신을 맞은 6살에서 11살 어린이들이 겪은 부작용은 대부분 피로와 두통, 열, 접종부위 통증과 같은 가볍거나 보통 수준의 증상으로 나타났습니다. 심근염과 같은 희귀 부작용 사례는 이번 임상시험에서 보고되지 않았습니다. 하지만 미국 인론들은 임상시험 규모가 희귀 부작용 발생 여부를 파악하기에는 너무 작았다고 지적했습니다. 앞서 미 식품의약국(FDA)은 지난 7월 희귀 부작용 파악을 위해 모더나와 화이자에 어린이 임상시험 규모를 늘리라고 권고한 바 있습니다.    // 본문 내용   ', '   본문 내용     TV플레이어     // TV플레이어     // flash 오류를 우회하기 위한 함수 추가 function _flash_removeCallback() {}   \\t \\t[경향신문]  지난 7일 정은경 질병관리청장은 국정감사장에서  10 월 25 일쯤 전 국민의  70 %가 백신 접종을 완료할 것으로 보고,  11 월9일쯤이면 일상 회복 단계인 ‘위드 코로나’로 갈 수 있을 것이라고 밝혔다. 정부는 지난  18 일부터 단계적 일상회복(위드 코로나)에 앞서 ‘징검다리’ 거리 두기를 시행하고 있다. 지금까지 확진자 추이를 보면, 지난 6월부터 네 자릿수를 기록하며 계속하여 확진자 수가 증가하더니, 8월부터는  2000 명대를 돌파했다. 이후  1000 명 후반대에서  2000 명대를 오가는 상황이  10 월 초까지 이어지다가,  10 월 둘째주부터는  1000 명 전반대로 비교적 안정세를 보이고 있다. 그에 따라 감염 재생산지수도 1을 넘기다  10 월 첫째주는  0.89 , 둘째주는  0.86 을 기록하고 있다. 이는 백신 접종완료율이  70 %에 근접한 영향으로 분석된다.  25 일 현재 우리나라 백신 접종률은 1차  79.4 %, 완전접종  70.1 %이다.       그러나 영국, 러시아 등 유럽 쪽의 코로나 19  확산세가 심상치 않다. 지난  21 일 기준으로 영국은 5만 2000 명, 러시아는 3만 4000 명이 확진되어 위드 코로나 이후 재확산세가 뚜렷하다. 이에 따라 러시아는 9일간의 휴무령을 발표한 반면, 영국은 “이대로라면 확진자가  10 만명에 달할 수 있다”는 경고에도 불구하고, 이렇다 할 조치를 하지 않고 있다. 영국은 지난 7월 19 일 ‘자유의날’을 선언하고 마스크 착용 등 방역규제를 전면 해제한 위드 코로나를 시행하고 있다. 현재 영국 백신 접종완료율은  78.9 %에 달한다 백신 접종완료율  70 %를 달성함에 따라 조만간 위드 코로나가 시행될 것으로 보인다. 위드 코로나로 방역체계가 완화되는 만큼 전파 위험성이 커지는 것은 자명하다.     이때 무엇보다도 중요시되는 것은 개인위생 및 방역이다. 개인의 자율성이 커짐에 따라 그 책임과 위험도 커지는 것이다. 수차례 거리 두기 발표가 있었지만 불변의 대원칙이던 마스크 쓰기, 그리고 손씻기 등 개인위생과 각 시설 및 업소의 주기적 소독 및 환기 등은 여전히 중요하다. 자발적인 방역수칙 준수 여부에 따라 확산세가 제어되고, 일상회복의 꿈이 현실화될 것이다. \\t  // 본문 내용   ', '   본문 내용     TV플레이어     // TV플레이어     // flash 오류를 우회하기 위한 함수 추가 function _flash_removeCallback() {}    문남중 대신증권 수석연구위원 올해 금융시장은 미국 연방준비제도( Fed· 연준)의 테이퍼링(자산 매입 축소)이 회자될 때마다 증시 하락, 금리 상승, 달러 가치 상승 패턴이 반복되고 있다. 금리와 달러 가치 상승은 신흥국의 불안 심리 확대로 직결된다. 이 때문에 이르면  11 월 중순부터 시행될 테이퍼링을 앞두고 신흥국의 통화 가치 및 증시 급락으로 이어지는 ‘긴축 발작’이  2013 년처럼 재연될지 관심이 쏠리고 있다.  올해 신흥국 증시의 수익률은 파이낸셜타임스스톡익스체인지( FTSE ) 지수 기준으로  2.4 %로 선진국( 16.3 %)에 비해 크게 부진하다. 선진국에 비해 떨어지는 재정 여력과 신종 코로나바이러스 감염증(코로나 19 ) 확산 반복 등의 영향 때문이다. 8∼ 10 월 이어진 위험 회피 선호와 달러 가치 상승세는 신흥국의 자금 유출을 여전히 자극하고 있다.   연준의 테이퍼링 시기를 좌우하는 결정적 변수는 고용 지표다. 미국의 9월 고용지표는 일손 부족에 따른 임금 상승과 물가 상승으로 이어지며 통화 긴축을 자극했다. 이에 따라  11 월 연방공개시장위원회( FOMC ) 이후 빠르면  11 월 중순, 늦어도  12 월 중순부터는 테이퍼링을 시작할 가능성이 높아졌다. 속도는  2014 년처럼 국채  100 억 달러, 주택저당증권( MBS )  50 억 달러 수준에서 8개월 전후로 단계적으로 진행될 가능성이 높다.   테이퍼링 시행에 따른 신흥국 증시 영향은 표면적으로는 불가피하다. 열약한 보건 환경과 낮은 백신 보급 속도에 따른 성장 지연, 물가 상승, 재정수지 악화, 연준의 테이퍼링으로 인한 시장 금리 상승 등이 맞물리며 자금 유출이 확대될 가능성이 크기 때문이다.  다만 다음과 같은 4가지 이유로 테이퍼링 시행에 따른 신흥국 영향은 한 달 안팎의 단기에 그칠 것으로 전망된다. 첫째, 연준은 지표 기반 전망을 바탕으로 시장과 교감하며 테이퍼링 준비를 충분히 진행해 왔다. 테이퍼링 기간 동안 미국 경기에 대한 판단을 바탕으로 속도 조절을 통해 증시에 미치는 부정적 영향을 최소화할 가능성이 높다.   둘째, 시장 금리도 내년 1분기(1∼3월) 기저효과에 따른 경기 부진과 물가 우려 완화로 상승세가 제한될 것이다. 셋째, 내년 2월 연준 의장 교체 시점에 제롬 파월 현 연준 의장이 연임되지 못하더라도 차순위로 거론되는 레이얼 브레이너드 연준 이사도 현 통화정책 기조를 유지할 가능성이 크다. 넷째,  2013 년 테이퍼링 때는 브라질, 인도, 인도네시아, 터키, 남아프리카공화국을 중심으로 대규모 자금 유출이 일어나면서 충격이 있었지만 신흥국 경상수지와 재정수지가 그때보다 개선됐다. 외부 충격에 대해 과거와 달리 내성이 커진 것이다. 이 때문에 올해 연준의 테이퍼링 시행은  2013 년 같은 긴축 발작으로 이어지진 않을 것으로 보인다.     // 본문 내용   ', '   본문 내용     TV플레이어     // TV플레이어     // flash 오류를 우회하기 위한 함수 추가 function _flash_removeCallback() {}    일상회복 이행계획 공청회 백신 접종 완료자만 모이면 제한 없어 소모임 등 고위험 행위는 단계적 완화 한교총, 성가대 운영 등 입장 전달 계획 다음 달 1일부터 코로나 19  백신 접종 완료자만 참석할 경우 인원 제한 없이 대면예배를 드릴 수 있게 됐다. 예배 인원도 미접종자를 포함해 정원의  50 %까지 참석할 수 있다. 단계적 일상회복(위드 코로나) 계획이 발표되면서 교회의 일상 회복도 가까워졌다. 보건복지부 중앙사고수습본부는  25 일 서울 중구 한국프레스센터에서 ‘코로나 19  단계적 일상회복 이행계획 공청회’를 열고 구체적인 계획을 발표했다. 종교시설과 관련해서는 ‘정규 종교활동을 확대하고 소모임 등 고위험 행위는 단계적으로 완화한다’는 게 핵심이다. 이행계획에 따르면 미접종자가 포함된 경우 예배당 수용 가능 인원의  50 %가 참석해 예배를 드릴 수 있다. 접종 완료자만 모이면 인원 제한이 아예 없다. 세 차례에 걸쳐 진행되는 단계적 완화 조치의 1차 개편부터 적용된다. 다만 교회발 집단 감염의 원인으로 지목된 소모임이나 식사는 방역의 고위험 행위로 보고 있기에 당장 일상으로 돌아가기는 어려울 것으로 보인다. 정부는 “큰소리로 다 함께 하는 기도·찬송, 실내 취식 등은 2차 또는 3차 개편에 단계적으로 완화를 검토한다”고 밝혔다. 한국교회는 단계적 일상회복을 위한 종교시설 세부지침을 마련하는 데 방역 당국에 적극적으로 의견을 개진할 계획이다. 그동안 한국교회와 방역 당국 간 소통 창구 역할을 했던 한국교회총연합(한교총)은 한국교회 입장을 적극 전달해 왔다. 이번 이행계획에는 한교총 의견이 일부 반영되기도 했다. 한교총 관계자는 “정규예배에 공연장, 극장 등과 동일 원칙을 적용해 달라고 요청해 왔는데 이날 발표엔 유사시설 간 인원 제한 기준을 최소 기준으로 통합한다는 내용이 들어갔다”고 설명했다. 종교시설 이행계획 중 예배 인원은 유사시설과 동일하다. 한교총은 앞으로 백신 접종 완료자로 성가대나 찬양팀을 운영하는 것도 요청할 계획이다. 또 성도들이 마스크를 착용했다면 설교자는 마스크를 착용하지 않는 방법도 제안할 예정이다. 정부는 종교계 의견을 듣기 위해 지난  22 일 코로나 19  일상회복지원위원회 2차 회의부터 사회문화분과 민간위원에 종교계 인사 1명을 추가했다. 이에 따라 민간위원은 기존  30 명에서  31 명으로 늘었다. 이는 지난  13 일 일상회복지원위원회 출범 당시 민간위원에 종교계 의견을 알릴 인사가 한 명도 없다는 지적이 제기된 데 따른 것이다(국민일보  2021 년  10 월  19 일자  29 면 참조). 문화체육관광부 관계자는 “보도 이후 일상회복위원회에 강력하게 요청해 종교계 인사가 들어갔다”며 “2차 회의부터 참석해 종교시설에 대한 의견을 적극 제안하고 있다”고 설명했다. 종교계 인사는  27 일 열릴 3차 회의에도 참석할 예정이다. \\t  // 본문 내용   ', '   본문 내용     TV플레이어     // TV플레이어     // flash 오류를 우회하기 위한 함수 추가 function _flash_removeCallback() {}    [위드 코로나 로드맵]위드코로나, 달라질 일상  Q&A 다음 달 1일부터 국내 방역체계가 ‘단계적 일상 회복(위드 코로나)’으로 전환되면 국민들의 일상생활이 크게 바뀐다. 업종에 따라 1년 넘게 이어지던 영업시간 및 모임인원 제한이 완전히 폐지되거나 상당수 완화된다. 위드 코로나 전환 이후 달라질 일상의 모습을 일문일답으로 정리했다.   ― 11 월 중순에  10 명이 모이는 송년회를 계획 중이다. 함께 식당에서 밥을 먹고, 2차로 클럽에 가는 것도 가능한가.  “다음 달부터  10 명까지는 모일 수 있다. 다만 백신 접종 여부를 잘 따져봐야 한다. 식당에서 모일 때는  10 명 중 미접종자가 일부 포함돼도 괜찮다. 미접종자 허용 인원은 아직 정해지지 않았다. 클럽 감성주점 등 유흥시설은 영업이 재개되지만 밤  12 시에 문을 닫아야 한다. 이용도 접종 완료자만 가능하다. 건강 때문에 백신을 맞지 않았거나 검사에서 음성 판정을 받았어도 출입이 불가능하다. 유흥시설 영업시간은  12 월 중순 이후 조정될 것으로 보인다.”   ―백신 패스, 어떻게 사용하는 것인가.  “백신 패스는 ‘접종증명·음성확인제’와 같은 말이다. 코로나 19  백신 접종을 완료했거나 유전자증폭( PCR ) 검사에서 음성 판정을 받은 걸 증명한 사람만 다중이용시설 등을 이용할 수 있게 한 제도다. 접종 완료자는 시설 관리자에게 ‘질병관리청  COOV’  애플리케이션(앱)을 보여주거나 접종 이력이 연동된 전자출입명부( QR 코드)를 찍고 출입하면 된다. 스마트폰 사용이 어려운 고령층은 종이증명서 또는 신분증에 붙이는 접종완료 스티커를 사용하면 된다.”    ―어디서 백신 패스를 사용하나. 몸이 안 좋아 접종을 못한 사람은 외출을 못하게 되나.  “백신 패스 적용 시설은 유흥시설, 노래연습장, 실내체육시설, 목욕장업, 경륜·경정·경마장, 카지노 등이다. 이 중 유흥시설을 제외한 곳은 접종 대신  PCR  검사 결과 음성 판정을 받은 사람, 의학적 이유로 백신을 못 맞는 사람,  18 세 이하 청소년 등도 출입할 수 있다. 예를 들어  11 월부터 백신 미접종자가 실내체육시설인 헬스장에 가려면  PCR  음성 확인서나 의사 소견서, 학생증 등을 제시해야 한다.”    ― PCR  음성 확인서는 얼마 동안 쓸 수 있나.   “원칙적으로는 발급 후  48 시간까지 유효하다. 다만 밤 시간대에 효력이 종료될 수도 있어 시설에 따라  48 시간이 지난 날의 밤  12 시까지도 효력을 인정해 준다. 예를 들어 백신 미접종자가 오후 7시까지 효력이 인정되는  PCR  음성 확인서를 들고 목욕탕을 갔다가 효력 시간이 지났다면 바로 나오는 게 아니라 밤  12 시까지 머무를 수 있는 것이다.”   ―헬스장 골프장 등에서 샤워는 언제부터 할 수 있나.  “다음 달 1일부터 헬스장 등 실내체육시설에서 샤워실을 이용할 수 있다. 러닝머신 속도와 음악 속도를 제한하던 규정도 사라진다. 수도권에 한해 시행되던 골프장 샤워시설 운영 금지도 같은 시기에 풀린다.”   ―영화관에서 팝콘을 먹고 콜라도 마실 수 있나.  “그렇다. 백신 패스를 받은 사람들만 모여 있으면 가능하다. 접종 완료자,  PCR  검사 결과 음성 판정을 받은 사람, 의학적 이유로 인해서 백신을 못 맞는 사람,  18 세 이하 청소년만 모인 상영관에서는 팝콘과 콜라 섭취가 가능하다. 이 경우 일행끼리 좌석을 띄우지 않고 나란히 앉을 수도 있다.”    // 본문 내용   ', '   본문 내용     TV플레이어     // TV플레이어     // flash 오류를 우회하기 위한 함수 추가 function _flash_removeCallback() {}    [위드 코로나 로드맵] 야구장 등 접종 관계없이 절반 입장… ‘접종자 지역’은 음식 먹을수 있어 미접종자 섞인 행사  99 명까지만… 수만 명 콘서트  12 월에 가능할듯 다음 달 1일부터는 야구장에서 치킨과 맥주를 먹으면서 경기를 관람할 수 있을 것으로 전망된다. 가을 야구 ‘직관(직접 관람)’이 가능해지는 것이다.  25 일 정부가 공개한 ‘단계적 일상 회복(위드 코로나)’ 로드맵에 따르면  11 월부터 야구장과 축구장 등 실외 스포츠경기장에는 백신 접종과 상관없이 정원의  50 %가 입장할 수 있다. 총 2만 5000 명을 수용할 수 있는 서울 잠실야구장에는 1만 2500 명의 관객이 들어갈 수 있게 되는 셈이다. 하지만 이 경우에는 응원도 금지되고, ‘치맥(치킨+맥주)’ 등 음식을 먹는 것도 안 된다.  그 대신 실외 스포츠경기장에는 접종 완료자와 유전자증폭( PCR ) 검사 결과 음성이 나온 사람 등이 앉을 수 있는 ‘접종자 전용 구역’을 만들 수 있다. 피치 못할 의학적 이유로 백신을 못 맞는 사람,  18 세 이하 청소년 등도 이용이 가능하다. 이곳에선 관중들이 음식을 자유롭게 먹을 수 있다. 접종 완료자인 부모와 초등학생 자녀로 이뤄진 가족이 이 구역에서 치킨을 먹으면서 야구를 관람할 수 있다는 얘기다. 만약 이런 사람들만 관객으로 받을 경우 전체 경기장 정원의  100 % 입장도 가능해진다. 다만 큰 소리로 함성을 지르며 응원하는 건 여전히 안 된다.   11 월부터 대규모 행사와 집회 개최도 가능해진다. 현재 거리 두기 4단계가 적용 중인 수도권에선 행사와 1인 시위를 제외한 다른 집회가 금지된 상태다. 3단계인 비수도권 역시  50 인 이상이 참가하는 행사와 집회를 열 수 없다. 다음 달 1일부터는 접종 완료자와 미접종자가 섞여 있을 경우 행사와 집회가  99 명까지 가능하다. 참가자가 접종 완료자,  PCR  검사 음성 확인자 등으로 구성됐다면  499 명까지 모이는 게 가능하다. 결혼식, 장례식, 돌잔치, 수련회, 토론회 등이 이 원칙을 따른다. 참가자가  500 명이 넘는 공연, 축제, 스포츠대회는 관할 부처와 지방자치단체의 승인을 받으면 개최할 수 있다.   만약 정부 계획대로  12 월 중순 위드 코로나 2단계가 시작되면 관객 수만 명이 K팝 콘서트를 관람하는 것도 가능해질 것으로 보인다. 행사 참가자가 접종 완료자 등으로만 구성될 경우 원칙적으로 행사와 집회 인원의 제한이 없기 때문이다.  내년 1월 일상 회복 3단계 개편이 이뤄지면 접종 여부와 관계없이 인원 제한 자체가 사라질 가능성이 크다. 기본 방역 수칙만 지킨다면 인원 제한 없이 모든 종류의 행사와 집회를 열 수 있게 된다.    // 본문 내용   ', '   본문 내용     TV플레이어     // TV플레이어     // flash 오류를 우회하기 위한 함수 추가 function _flash_removeCallback() {}    정부, 위드코로나 세부 방안 제시 최근 일주일간 국내에서 발생한 신종 코로나바이러스 감염증(코로나 19 ) 확진자는 하루 평균  1378 명이다. 일부 전문가들은  11 월 ‘단계적 일상 회복(위드 코로나)’ 전환 이후 하루 확진자 수가 2만 5000 명에 이를 수 있다는 우려를 내놓고 있다. 정부는  25 일 열린 위드 코로나 공청회에서 확진자 급증의 ‘해답’으로 재택치료 확대를 제시했다. 그동안 무증상 및 경증환자를 수용하던 생활치료센터는 단계적으로 축소한다. 늘어날 재택치료 환자를 감당할 시스템 구축과 운영이 위드 코로나의 성패를 가를 것으로 보인다. ○ 이제 확진 판정 받으면 재택치료가 원칙   현재 재택치료 대상은  70 세 미만이면서 당뇨, 만성 폐질환 등 기저질환이 없는 무증상 및 경증 환자다. 지금은 이 기준에 부합해도 본인이 희망할 때만 재택치료를 받고, 원치 않으면 생활치료센터나 병원으로 이송된다.  25 일 현재 재택치료 중인 코로나 19  환자가  2124 명으로 전체 격리 환자(2만 5868 명)의 8%에 그치는 이유다.  방역당국은  25 일 위드 코로나 공청회에서 재택치료를 선택이 아닌 ‘원칙’으로 만들겠다고 밝혔다. 환자가 기숙사나 고시원에 사는 등 일부 예외를 제외하면 전부 집에서 치료하겠다는 것. 현재  90 곳, 약 2만 병상 규모로 운영 중인 생활치료센터는 점차 줄어들게 된다.  하지만 재택치료 확대를 위해선 의료지원 시스템부터 바꿔야 한다는 지적이 나온다. 특히 재택 환자의 건강 모니터링과 약품 및 의료기기 전달, 격리 감시까지 맡고 있는 보건소의 과중한 업무 부담을 해결해야 한다는 목소리가 많다. 경기지역의 한 보건소 감염병대응팀장은 “지금도 수습 공무원과 구청 인력을 끌어모아 운영 중”이라며 “재택 환자가 더 늘어나는 상황은 상상조차 할 수 없다”고 호소했다. 박건희 경기도 감염병관리지원단장은 이날 공청회에서 “보건소 인력 확충이 없다면 일상 회복도 없다”고 했다. 이 때문에 단순한 물품 배달 정도는 ‘퀵서비스’ 등 민간 인력을 활용하자는 의견도 나왔다. ○ ‘재택치료 중 사망’ 막을 대책 필요  방역당국은 앞으로 고위험군 환자로까지 재택치료 대상을 확대할 방침이다. 하지만 전문가들은 집에서 사망하는 환자가 늘어날 수 있다고 우려하고 있다. 김우주 고려대 구로병원 감염내과 교수는 “고령 환자는 본인이 증상을 느끼지 못해도  CT (컴퓨터단층촬영)를 찍어 보면 폐렴이 진행된 경우가 많다”며 “ 60 세 이상은 의료시설에서 경과를 관찰해야 할 것”이라고 말했다.  실제  21 일 재택치료 중 사망한 서울 서대문구의  68 세 남성도 숨지기 전날까지 특별한 증상이 없었던 것으로 알려졌다. 김 교수는 “병원에 갔어야 할 환자에게 재택치료를 시킨 게 궁극적인 원인”이라고 지적했다. 김윤 서울대 의료관리학과 교수도 “지금은 재택치료 확대보다 추가 위중증 병상 확보에 힘을 쏟아야 할 때”라고 말했다.  향후 먹는 치료제가 도입될 경우 정부는 코로나 19  환자도 독감 환자와 마찬가지로 동네 병원에서 진찰받고 약을 처방받을 수 있도록 할 계획이다. 앞서 정은경 질병관리청장은  20 일 국회에서 “코로나 19  먹는 치료제는 지금 도입 예정 물량의  10 배가 필요하다”고 말했다. 현재 정부가 도입하려는 먹는 치료제 물량이 4만 명분인 만큼  40 만 명분이 필요하다는 뜻이다. 중환자실 가동률  80 % 넘으면 일시적 방역 강화  모임 인원-식당 영업시간 줄이고 백신패스 적용 확대 등 ‘비상계획’ 확산세 안정될 때까지 지속… 전문가 “ 60 %만 넘어도 가동해야”  11 월 ‘단계적 일상 회복(위드 코로나)’이 시작돼도 신종 코로나바이러스 감염증(코로나 19 ) 유행 상황이 나빠지면 ‘서킷브레이커’ 같은 방역 강화가 이뤄진다. 서킷브레이커는 주식시장에서 주가가 급등 또는 급락할 경우 주식매매를 일시 정지하는 제도다. 방역 완화 후 확진자 급증에 대비한 비상계획인 셈이다.   25 일 방역당국에 따르면 비상계획 검토 기준은 △중환자실 가동률  80 % 초과 △위중증 환자 및 사망자 급증 △의료체계 붕괴 위험 등 3가지다. 지난해 말 3차 유행 당시 ‘병상 대란’ 때처럼 중환자가 병원에 가지 못해 숨지는 일이 없도록 하는 게 핵심이다. 이는 신규 확진자 규모 대신 위중증 환자 및 사망자 수를 가장 중요한 유행 지표로 삼겠다는 뜻이기도 하다.  비상계획이 발동되면 정부의 3단계 방역 완화 계획과 다른 방역 조치를 실시한다. 2단계 시행 중 1단계로 되돌리는 것이 아니라, 더 강력한 별도의 조치를 취하게 된다. 백신 패스 적용 시설을 늘려 미접종자의 다중이용시설을 제한하고 사적모임 허용 인원과 식당·카페 이용시간을 축소한다. 요양병원 등 고위험군이 많은 시설의 면회도 줄인다. 병상 여력을 긴급히 확보하기 위해 행정명령을 발동할 수도 있다.  비상계획은 확산세가 안정될 때까지 지속한다. 손영래 중앙사고수습본부 사회전략반장은 “확산 규모가 차단될 때까지 4주간 운영했다가 유행이 안정되면 다시 기존 계획으로 돌아가는 등의 방식이 될 것”이라고 설명했다.  전문가들은 정부가 검토하고 있는 비상계획 발동 기준이 다소 느슨하다고 지적했다. 의료계에선 중환자실 가동률이  80 %라면 실제로는 준중환자의 입원 대기 등의 이유로 가용 병상이 0%에 가깝다고 본다. 방역 강화가 위중증 환자 감소로 이어지는 데 3, 4주가 걸리는 게 보통인데, 중환자실 가동률이  80 %가 넘은 뒤 비상계획을 발동하면 늦을 수 있다. 이재갑 한림대성심병원 감염내과 교수는 “중환자실 가동률이  80 %가 아닌  60 %만 넘어도 ‘예비 경보’를 발동해 바로 방역 강화에 나서도록 준비해야 한다”고 조언했다.  비상계획이 실제 발동되는 일이 없도록 하는 게 중요하다는 지적도 나온다. 이윤성 서울대 의대 법의학교실 명예교수는 “한 번 풀었던 방역을 다시 강화하는 건 매우 어렵다. 방역을 한 번에 확 푸는 것만큼은 피해야 한다”고 진단했다.    // 본문 내용   ', '   본문 내용     TV플레이어     // TV플레이어     // flash 오류를 우회하기 위한 함수 추가 function _flash_removeCallback() {}    백신패스 도입 안한 英은 상황 악화 다음 달 1일 시작될 위드 코로나의 특징을 요약하면 ‘접종 완료자 중심의 점진적 방역 완화’다. 우리보다 앞서 방역체계를 전환한 주요 국가의 ‘성적표’가 반영된 것이다.  영국은 빠른 백신 접종 속도에 힘입어 7월  19 일 ‘자유의 날’을 선포하고 코로나 19  관련 모든 방역지침을 한꺼번에 해제했다. 접종자와 미접종자를 구분하는 ‘백신패스’도 도입하지 않았다. 그러자 축구 프리미어리그 경기장에 만원 관중이 들어찼다. 클럽은 인산인해를 이뤘다. 약 3개월이 지난 현재 영국의 코로나 19  상황은 실험은 대규모 봉쇄 때보다 악화됐다. 최근 주간 평균 하루 확진자는 4만 6490 명, 사망자는  136 명이다. 영국 야당은  24 일 “정부의 실책과 무대책 탓”이라며 방역 강화를 요구했다.  반면 독일은 철저하게 접종 완료자 중심으로 방역을 완화했다. 식당과 미용실 체육관 등 실내 공공 장소에 들어갈 땐 접종증명서나 음성확인서를 제시해야 한다. 대중교통과 실내 공간에서 마스크 착용도 의무화했다. 그 결과 확진자가 늘어도 치명률을 크게 낮췄다.  24 일 기준 주간 평균 하루 확진자는 1만 1837 명, 사망자는  48 명이다. 올해 초 하루 2만 명 확진,  800 명 이상 사망과 비교해 상황이 크게 안정됐다.     // 본문 내용   ', '   본문 내용     TV플레이어     // TV플레이어     // flash 오류를 우회하기 위한 함수 추가 function _flash_removeCallback() {}   \\t \\t\\t\\t\\t\\t\\t\\t\\t나는 최근 ‘일상회복지원위원회’ 공동위원장이라는 중책을 맡았다. 국내에서 코로나 19  확진자가 처음 발생한 지난해 1월  20 일부터 어언 1년 9개월이 지났다. 우리 국민은 그동안 참으로 성실하게 정부의 방역 지침을 따르며 인고의 시간을 보냈는데, 어느덧 백신 접종률이 세계 최고 수준에 다다르며 조심스레 일상으로 되돌아갈 꿈을 꿀 수 있게 되었다. 이런 시점에 ‘일상회복지원위원회’가 만들어진 것은 매우 다행스러운 일이라고 생각한다. 다만 만일 내가 기획 단계부터 참여했더라면 위원회 명칭을 아마 ‘일상복원지원위원회’쯤으로 지었을 것 같다. 대놓고 ‘일상 회귀’라 하지 않은 것은 다행이지만 ‘회복’이라는 단어에도 여전히 예전으로 되돌아가겠다는 희망과 의도가 담겨 있다. 팬데믹 상황이 안정되더라도 아무 일 없었다는 듯 예전으로 돌아갈 수는 없다. 그래서 우리는 ‘새로운 일상( New   normal )’을 얘기한다. 하지만 이 표현에는 예전의 일상이 정상적( normal )이었다는 전제가 깔려 있다. 나는 이에 동의할 수 없다. 예전의 우리 일상이 정상적이었으면 애당초 이런 끔찍한 재앙은 일어나지 않았을 것이다. 그래서 우리가 말하는 ‘뉴 노멀’은 실상 ‘새로운 비정상’ 즉 ‘뉴 애브노멀( New   abnormal )’에 가깝다. 엄청난 비용을 지불하며 팬데믹을 견뎌내고 만들어낼 우리의 일상은 예전보다 훨씬 더 나은 일상이어야 한다. 나는 우리가 추구해야 할 새로운 일상을 ‘뉴 업노멀( New   upnormal )’이라 부른다. ‘ Upnormal’ 은 내가 새로 만든 신조어로서 아직 세계 어떤 사전에도 등재되지 않았다. ‘ Abnormal’ 의 접두사 ‘ ab-’ 와 상반된 접두사로 ‘ up-’ 을 떠올렸다. 우리가 일상적으로 사용하는 외래어 ‘업그레이드( upgrade )’를 생각하면 느낌이 올 것이다. 나는 ‘일상회복지원위원회’가 구현해낼 일상이 단순한 회복을 넘어 ‘뉴 업노멀’이 되길 기대한다.    // 본문 내용   ', '   본문 내용     TV플레이어     // TV플레이어     // flash 오류를 우회하기 위한 함수 추가 function _flash_removeCallback() {}   \\t \\t[경향신문]  종전선언을 두고 열정과 냉소 그리고 기대와 우려가 교차되며 갑론을박이 한창이다. 문재인 대통령이 직접 유엔 총회에서 심중에 남아 있던 모든 열정을 담아 평화의 불씨를 지핀 이래 종전 논의가 되살아났다. 게다가 이번주에는 대통령이 교황 면담을 통해 종전선언을 위한 바티칸 순방 외교에 나선다고 하니, 향후 교황 방북 등 여러 가지 이벤트가 종전을 앞당기는 수레가 될 개연성이 높아졌다. 종전선언을 향한 이 같은 ‘열정’은 대북 특사 성 김의 방한으로도 더욱 불붙고 있다. 우리 고위 당국자가 워싱턴에서 종전선언 문안이 논의 중이라며 뭔가 될 것 같은 분위기를 내비친 이후인지라 그의 방한에 기대치가 높아졌기 때문이다. 이런 시국에 방한한 성 김이니 그의 입에 세간의 관심이 집중되고 있는 게 자연스럽기까지 하다.  이정철 서울대 정치외교학부 교수  성 김이 방한 일성으로 “북한이 이런 도발과, 불안정을 야기하는 행동을 그만두고 대화에 나서기를 촉구한다”라고 성명을 냈다. 지난 9월 중순 이래 북한의 미사일 발사를 도발로 규정하지 않고 있는 한국 정부의 사정을 잘 알고 있으면서도 굳이 ‘도발’이라는 용어를 사용한 것이다. 그러면서도 전제조건 없이 만날 준비가 되어 있다는 화전 양면식 언술도 잊지 않았다. 미사일 발사 중단이라는 ‘조건’을 붙인 논법이 분명한데도 그 스스로는 ‘조건 없는’ 대화라는 언술을 고집한다. 이래서 성 김에 관한 한, 그의 전문성에 아랑곳하지 않고 냉소가 따라붙는다.  2008 년 냉각탑 폭파 당시 북한 영변을 다녀오던 그의 모습을 기억하는 많은 이들에게 그의 오랜 경력은 만감을 교차하게 한다. 버락 오바마 대통령 시절 그는 전략적 인내의 아이콘이었다.  2015 년 1월에는 그의 평양 초청과 회담 장소가 쟁점이 되어 북·미 회담이 결렬되기도 했다. 북한은 당시 ‘미국 것들과는 더는 상종할 용의도 없다’는 성명을 내며 불쾌감을 표현했다. 지난 5월 조 바이든 대통령이 그를 대북 특사로 임명하였을 때, 북한의 반응에 대한 우려가 많았던 것도 이런 사정이 반영되었기 때문이다. 그래서 ‘냉소’론은 인도네시아 대사를 겸직하고 있는 그가 임지로 가는 길에 개인적 용무로 들렀을 뿐이라며 그의 방한을 평가절하하기도 한다. 냉소론자들은 종전선언이 이미 죽은 놈이며 종전론은 한국의 자가 발전일 뿐이라고 단언한다. 바이든 정부는 이미 전략적 인내로 돌아갔고 북한 역시 남북관계에 미련이 없으며 오히려 북·중동맹론에 한층 기울었다고 본다. 하지만 ‘기대’를 버릴 일은 아니다. 주지하다시피 존 볼턴 전 보좌관은  2018 년 싱가포르 회담 당시 북·미 간에 종전선언 합의문을 담은 초안이 만들어졌다고 폭로했다. 볼턴은 ‘식스 피엠 문안’( six   p.m.   text )이라 불리는 장문의 합의문을 자신이 주도하여 밤새 뒤집었다고 자랑한다. 일본인 납치자 문제 등을 합의안에 추가할 것을 강변하여 장문의 합의안을 난도질했다는 것이다. 결국 주지하다시피 최종 합의안은 종전선언안이 모두 빠진 속 빈 강정 같은 합의문이 되었다고 안도한다. 볼턴의 공과를 별론으로 한다면, 분명한 점은 북·미 간 종전선언에 대한 합의 초안이 있었음이다. 그리고 당시 그 초안을 합의한 실무진에 성 김이 있었음 또한 분명하다. 성 김 특사가 당시 합의했던 종전선언 초안을 자구 하나 빼지 않고 그대로 제시한다면 북한의 동의를 구하는 건 어렵지 않을 것이다. 한국의 코로나 19  상황이나 백신 상황이 급속히 호전되고 있는 점 또한 북한을 대화로 불러낼 수 있는 유인책을 제공할 제법 큰 여력이 생겼음을 말한다. 대통령이 교황을 만나 평양 방문 카드라도 하나 더 쥐게 된다면, 남·북·미 사이의 오해를 풀어내는 금상첨화의 중재자를 조력자로 갖게 되기도 한다. 베이징 동계올림픽을 개최하는 중국 역시 베이징 평화프로세스를 이어가는 것에 부담은 없을 것이다. 그러나 여전히 ‘우려’의 소리가 더 높다. 우리 야당은 종전선언이 혹여나 대선에 영향을 줄까 걱정이다. 일본은 종전선언이 유엔사의 영향력을 약화시켜 주한미군과 주일미군의 결합고리가 약화될까 전전긍긍하는 기색이다. 아마도 성 김은 한국 야당이나 일본의 이런 강력한 우려도 고려하고 있는 듯하다.  미국 내에서는 혹여나 종전선언이 대북 유화정책이라는 비판의 소리를 들을까 고심하고 있다. 대화의 내용보다는 대국의 체면이 손상되는 그 형식에 대한 우려가 더 큰 듯하다. 아직은 바이든 대통령이 직접 나서지 않고 대북 정책이 외교관( blob )들의 손아귀에만 놓여 있어 선이 굵은 외교가 되지 못한 탓인 듯하다. 이래서는 북한이 사고를 쳐야 대통령이 관심을 갖게 되는 벼랑 끝 외교의 출현을 피할 수 없게 마련이다. 도발하지 말라며 도발을 부르는 제재만능론( one   trick   pony )에 대한 자성의 소리에 주목할 때이다. \\t  // 본문 내용   ']\n"
     ]
    }
   ],
   "source": [
    "print(naver_news_content[0])"
   ]
  },
  {
   "cell_type": "code",
   "execution_count": 9,
   "metadata": {},
   "outputs": [
    {
     "name": "stdout",
     "output_type": "stream",
     "text": [
      "10\n",
      "10\n"
     ]
    }
   ],
   "source": [
    "print(len(naver_news_title[0]))\n",
    "print(len(naver_news_content[0]))"
   ]
  },
  {
   "cell_type": "code",
   "execution_count": 10,
   "metadata": {},
   "outputs": [],
   "source": [
    "with open(\"naver_news_title.pk\", \"wb\") as f:\n",
    "    pickle.dump(naver_news_title, f)\n",
    "    \n",
    "with open(\"naver_news_content.pk\", \"wb\") as f:\n",
    "    pickle.dump(naver_news_content, f)"
   ]
  }
 ],
 "metadata": {
  "interpreter": {
   "hash": "c270e6328e3db603edbbf92178afe07abc75c12ec50d7594e3b3ea046e4043cd"
  },
  "kernelspec": {
   "display_name": "Python 3.6.13 64-bit ('NLP': conda)",
   "name": "python3"
  },
  "language_info": {
   "codemirror_mode": {
    "name": "ipython",
    "version": 3
   },
   "file_extension": ".py",
   "mimetype": "text/x-python",
   "name": "python",
   "nbconvert_exporter": "python",
   "pygments_lexer": "ipython3",
   "version": "3.6.13"
  },
  "orig_nbformat": 4
 },
 "nbformat": 4,
 "nbformat_minor": 2
}
